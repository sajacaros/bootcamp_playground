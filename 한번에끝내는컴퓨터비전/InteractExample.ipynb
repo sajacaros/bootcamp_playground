{
 "cells": [
  {
   "cell_type": "code",
   "execution_count": 1,
   "metadata": {
    "collapsed": true,
    "ExecuteTime": {
     "end_time": "2023-11-23T02:24:17.505911600Z",
     "start_time": "2023-11-23T02:24:16.713139400Z"
    }
   },
   "outputs": [],
   "source": [
    "%matplotlib inline\n",
    "import pandas as pd\n",
    "from ipywidgets import interact"
   ]
  },
  {
   "cell_type": "code",
   "execution_count": 2,
   "outputs": [
    {
     "data": {
      "text/plain": "interactive(children=(IntSlider(value=6, description='m', max=18, min=-6), IntSlider(value=3, description='n',…",
      "application/vnd.jupyter.widget-view+json": {
       "version_major": 2,
       "version_minor": 0,
       "model_id": "cbec9d63c0f9424ab484c93dad380d0e"
      }
     },
     "metadata": {},
     "output_type": "display_data"
    }
   ],
   "source": [
    "@interact(m=6, n=3)\n",
    "def _i(m:int, n: int):\n",
    "    return pd.DataFrame(pd.np.random.randn(m, n))"
   ],
   "metadata": {
    "collapsed": false,
    "pycharm": {
     "name": "#%%\n"
    },
    "ExecuteTime": {
     "end_time": "2023-11-23T02:24:17.741992300Z",
     "start_time": "2023-11-23T02:24:17.505911600Z"
    }
   }
  },
  {
   "cell_type": "code",
   "execution_count": 3,
   "outputs": [
    {
     "data": {
      "text/plain": "interactive(children=(IntSlider(value=6, description='m', max=18, min=-6), IntSlider(value=3, description='n',…",
      "application/vnd.jupyter.widget-view+json": {
       "version_major": 2,
       "version_minor": 0,
       "model_id": "2e6019f020744d4c9bd330c08b848b89"
      }
     },
     "metadata": {},
     "output_type": "display_data"
    }
   ],
   "source": [
    "@interact(m=6, n=3)\n",
    "def _i(m:int, n: int):\n",
    "    df = pd.DataFrame(pd.np.random.randn(m, n))\n",
    "    df.plot()"
   ],
   "metadata": {
    "collapsed": false,
    "pycharm": {
     "name": "#%%\n"
    },
    "ExecuteTime": {
     "end_time": "2023-11-23T02:24:17.800024300Z",
     "start_time": "2023-11-23T02:24:17.741992300Z"
    }
   }
  }
 ],
 "metadata": {
  "kernelspec": {
   "display_name": "Python 3",
   "language": "python",
   "name": "python3"
  },
  "language_info": {
   "codemirror_mode": {
    "name": "ipython",
    "version": 2
   },
   "file_extension": ".py",
   "mimetype": "text/x-python",
   "name": "python",
   "nbconvert_exporter": "python",
   "pygments_lexer": "ipython2",
   "version": "2.7.6"
  }
 },
 "nbformat": 4,
 "nbformat_minor": 0
}
