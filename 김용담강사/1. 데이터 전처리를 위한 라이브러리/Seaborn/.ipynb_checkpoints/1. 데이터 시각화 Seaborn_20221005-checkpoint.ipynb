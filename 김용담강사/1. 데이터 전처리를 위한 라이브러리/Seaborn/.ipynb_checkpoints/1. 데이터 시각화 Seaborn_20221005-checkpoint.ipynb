{
 "cells": [
  {
   "cell_type": "markdown",
   "id": "proud-submission",
   "metadata": {
    "id": "proud-submission"
   },
   "source": [
    "## Seaborn\n",
    "\n",
    "![seaborn](https://drive.google.com/uc?id=1j1ZM-tMaWYNCa_YkMGFIfymcrLS0MWG3)\n",
    "\n",
    "\n",
    "- 엄청나게 화려한 시각화 기법들을 제공하며, 기본적으로 이쁩니다.\n",
    ">  histplot, barplot, jointplot, lineplot, ...\n",
    "\n",
    "\n",
    "- pandas DataFrame과 매우 호환이 잘 됩니다.\n",
    "\n",
    "  >  e.g. sns.xxxplot(data=df)    **<--- 기본세팅!**"
   ]
  },
  {
   "cell_type": "code",
   "execution_count": 1,
   "id": "ongoing-mystery",
   "metadata": {
    "id": "ongoing-mystery"
   },
   "outputs": [
    {
     "data": {
      "text/html": [
       "<div>\n",
       "<style scoped>\n",
       "    .dataframe tbody tr th:only-of-type {\n",
       "        vertical-align: middle;\n",
       "    }\n",
       "\n",
       "    .dataframe tbody tr th {\n",
       "        vertical-align: top;\n",
       "    }\n",
       "\n",
       "    .dataframe thead th {\n",
       "        text-align: right;\n",
       "    }\n",
       "</style>\n",
       "<table border=\"1\" class=\"dataframe\">\n",
       "  <thead>\n",
       "    <tr style=\"text-align: right;\">\n",
       "      <th></th>\n",
       "      <th>species</th>\n",
       "      <th>island</th>\n",
       "      <th>bill_length_mm</th>\n",
       "      <th>bill_depth_mm</th>\n",
       "      <th>flipper_length_mm</th>\n",
       "      <th>body_mass_g</th>\n",
       "      <th>sex</th>\n",
       "    </tr>\n",
       "  </thead>\n",
       "  <tbody>\n",
       "    <tr>\n",
       "      <th>0</th>\n",
       "      <td>Adelie</td>\n",
       "      <td>Torgersen</td>\n",
       "      <td>39.1</td>\n",
       "      <td>18.7</td>\n",
       "      <td>181.0</td>\n",
       "      <td>3750.0</td>\n",
       "      <td>Male</td>\n",
       "    </tr>\n",
       "    <tr>\n",
       "      <th>1</th>\n",
       "      <td>Adelie</td>\n",
       "      <td>Torgersen</td>\n",
       "      <td>39.5</td>\n",
       "      <td>17.4</td>\n",
       "      <td>186.0</td>\n",
       "      <td>3800.0</td>\n",
       "      <td>Female</td>\n",
       "    </tr>\n",
       "    <tr>\n",
       "      <th>2</th>\n",
       "      <td>Adelie</td>\n",
       "      <td>Torgersen</td>\n",
       "      <td>40.3</td>\n",
       "      <td>18.0</td>\n",
       "      <td>195.0</td>\n",
       "      <td>3250.0</td>\n",
       "      <td>Female</td>\n",
       "    </tr>\n",
       "    <tr>\n",
       "      <th>4</th>\n",
       "      <td>Adelie</td>\n",
       "      <td>Torgersen</td>\n",
       "      <td>36.7</td>\n",
       "      <td>19.3</td>\n",
       "      <td>193.0</td>\n",
       "      <td>3450.0</td>\n",
       "      <td>Female</td>\n",
       "    </tr>\n",
       "    <tr>\n",
       "      <th>5</th>\n",
       "      <td>Adelie</td>\n",
       "      <td>Torgersen</td>\n",
       "      <td>39.3</td>\n",
       "      <td>20.6</td>\n",
       "      <td>190.0</td>\n",
       "      <td>3650.0</td>\n",
       "      <td>Male</td>\n",
       "    </tr>\n",
       "    <tr>\n",
       "      <th>...</th>\n",
       "      <td>...</td>\n",
       "      <td>...</td>\n",
       "      <td>...</td>\n",
       "      <td>...</td>\n",
       "      <td>...</td>\n",
       "      <td>...</td>\n",
       "      <td>...</td>\n",
       "    </tr>\n",
       "    <tr>\n",
       "      <th>338</th>\n",
       "      <td>Gentoo</td>\n",
       "      <td>Biscoe</td>\n",
       "      <td>47.2</td>\n",
       "      <td>13.7</td>\n",
       "      <td>214.0</td>\n",
       "      <td>4925.0</td>\n",
       "      <td>Female</td>\n",
       "    </tr>\n",
       "    <tr>\n",
       "      <th>340</th>\n",
       "      <td>Gentoo</td>\n",
       "      <td>Biscoe</td>\n",
       "      <td>46.8</td>\n",
       "      <td>14.3</td>\n",
       "      <td>215.0</td>\n",
       "      <td>4850.0</td>\n",
       "      <td>Female</td>\n",
       "    </tr>\n",
       "    <tr>\n",
       "      <th>341</th>\n",
       "      <td>Gentoo</td>\n",
       "      <td>Biscoe</td>\n",
       "      <td>50.4</td>\n",
       "      <td>15.7</td>\n",
       "      <td>222.0</td>\n",
       "      <td>5750.0</td>\n",
       "      <td>Male</td>\n",
       "    </tr>\n",
       "    <tr>\n",
       "      <th>342</th>\n",
       "      <td>Gentoo</td>\n",
       "      <td>Biscoe</td>\n",
       "      <td>45.2</td>\n",
       "      <td>14.8</td>\n",
       "      <td>212.0</td>\n",
       "      <td>5200.0</td>\n",
       "      <td>Female</td>\n",
       "    </tr>\n",
       "    <tr>\n",
       "      <th>343</th>\n",
       "      <td>Gentoo</td>\n",
       "      <td>Biscoe</td>\n",
       "      <td>49.9</td>\n",
       "      <td>16.1</td>\n",
       "      <td>213.0</td>\n",
       "      <td>5400.0</td>\n",
       "      <td>Male</td>\n",
       "    </tr>\n",
       "  </tbody>\n",
       "</table>\n",
       "<p>333 rows × 7 columns</p>\n",
       "</div>"
      ],
      "text/plain": [
       "    species     island  bill_length_mm  bill_depth_mm  flipper_length_mm  \\\n",
       "0    Adelie  Torgersen            39.1           18.7              181.0   \n",
       "1    Adelie  Torgersen            39.5           17.4              186.0   \n",
       "2    Adelie  Torgersen            40.3           18.0              195.0   \n",
       "4    Adelie  Torgersen            36.7           19.3              193.0   \n",
       "5    Adelie  Torgersen            39.3           20.6              190.0   \n",
       "..      ...        ...             ...            ...                ...   \n",
       "338  Gentoo     Biscoe            47.2           13.7              214.0   \n",
       "340  Gentoo     Biscoe            46.8           14.3              215.0   \n",
       "341  Gentoo     Biscoe            50.4           15.7              222.0   \n",
       "342  Gentoo     Biscoe            45.2           14.8              212.0   \n",
       "343  Gentoo     Biscoe            49.9           16.1              213.0   \n",
       "\n",
       "     body_mass_g     sex  \n",
       "0         3750.0    Male  \n",
       "1         3800.0  Female  \n",
       "2         3250.0  Female  \n",
       "4         3450.0  Female  \n",
       "5         3650.0    Male  \n",
       "..           ...     ...  \n",
       "338       4925.0  Female  \n",
       "340       4850.0  Female  \n",
       "341       5750.0    Male  \n",
       "342       5200.0  Female  \n",
       "343       5400.0    Male  \n",
       "\n",
       "[333 rows x 7 columns]"
      ]
     },
     "execution_count": 1,
     "metadata": {},
     "output_type": "execute_result"
    }
   ],
   "source": [
    "# 라이브러리와 데이터를 불러오고, 시각화를 위한 세팅을 합니다.\n",
    "import seaborn as sns\n",
    "import matplotlib.pyplot as plt\n",
    "\n",
    "data = sns.load_dataset(\"penguins\").dropna()\n",
    "data"
   ]
  },
  {
   "cell_type": "code",
   "execution_count": null,
   "id": "3c545daa",
   "metadata": {},
   "outputs": [],
   "source": [
    "# 폰트 설정 방법 2\n",
    "import matplotlib\n",
    "import matplotlib.font_manager as fm\n",
    "\n",
    "#plt.rc('font',family='AppleGothic')\n",
    "font_location = '/System/Library/Fonts/AppleSDGothicNeo.ttc'\n",
    "# # font_location = 'C:/Windows/Fonts/Malgun.ttf' # For Windows\n",
    "font_name = fm.FontProperties(fname=font_location).get_name()\n",
    "print(font_name)\n",
    "matplotlib.rc('font', family=font_name)"
   ]
  },
  {
   "cell_type": "markdown",
   "id": "engaged-surrey",
   "metadata": {
    "id": "engaged-surrey"
   },
   "source": [
    "### Histplot \n",
    "\n",
    "- 가장 기본적으로 사용되는 히스토그램을 출력하는 plot.\n",
    "\n",
    "\n",
    "- 전체 데이터를 특정 구간별 정보를 확인할 때 사용합니다."
   ]
  },
  {
   "cell_type": "code",
   "execution_count": 2,
   "id": "through-newark",
   "metadata": {
    "id": "through-newark"
   },
   "outputs": [
    {
     "data": {
      "text/plain": [
       "<AxesSubplot:title={'left':'펭귄 질량 분포'}, xlabel='Count', ylabel='body_mass_g'>"
      ]
     },
     "execution_count": 2,
     "metadata": {},
     "output_type": "execute_result"
    },
    {
     "name": "stderr",
     "output_type": "stream",
     "text": [
      "/Users/emphistaff/opt/miniconda3/envs/datascience/lib/python3.8/site-packages/IPython/core/pylabtools.py:151: UserWarning: Glyph 54189 (\\N{HANGUL SYLLABLE PENG}) missing from current font.\n",
      "  fig.canvas.print_figure(bytes_io, **kw)\n",
      "/Users/emphistaff/opt/miniconda3/envs/datascience/lib/python3.8/site-packages/IPython/core/pylabtools.py:151: UserWarning: Glyph 44484 (\\N{HANGUL SYLLABLE GWIN}) missing from current font.\n",
      "  fig.canvas.print_figure(bytes_io, **kw)\n",
      "/Users/emphistaff/opt/miniconda3/envs/datascience/lib/python3.8/site-packages/IPython/core/pylabtools.py:151: UserWarning: Glyph 51656 (\\N{HANGUL SYLLABLE JIL}) missing from current font.\n",
      "  fig.canvas.print_figure(bytes_io, **kw)\n",
      "/Users/emphistaff/opt/miniconda3/envs/datascience/lib/python3.8/site-packages/IPython/core/pylabtools.py:151: UserWarning: Glyph 47049 (\\N{HANGUL SYLLABLE RYANG}) missing from current font.\n",
      "  fig.canvas.print_figure(bytes_io, **kw)\n",
      "/Users/emphistaff/opt/miniconda3/envs/datascience/lib/python3.8/site-packages/IPython/core/pylabtools.py:151: UserWarning: Glyph 48516 (\\N{HANGUL SYLLABLE BUN}) missing from current font.\n",
      "  fig.canvas.print_figure(bytes_io, **kw)\n",
      "/Users/emphistaff/opt/miniconda3/envs/datascience/lib/python3.8/site-packages/IPython/core/pylabtools.py:151: UserWarning: Glyph 54252 (\\N{HANGUL SYLLABLE PO}) missing from current font.\n",
      "  fig.canvas.print_figure(bytes_io, **kw)\n"
     ]
    },
    {
     "data": {
      "image/png": "[encoded data removed]",
      "text/plain": [
       "<Figure size 576x360 with 1 Axes>"
      ]
     },
     "metadata": {
      "needs_background": "light"
     },
     "output_type": "display_data"
    }
   ],
   "source": [
    "# penguin 데이터에 histplot을 출력합니다.\n",
    "plt.figure(figsize=(8, 5))\n",
    "plt.title(\"펭귄 질량 분포\", fontsize=20, loc='left', pad=30)\n",
    "sns.histplot(data=data, y=\"body_mass_g\", bins=30, hue=\"species\",\n",
    "            multiple='stack')#, palette=\"coolwarm_r\")"
   ]
  },
  {
   "cell_type": "markdown",
   "id": "entertaining-committee",
   "metadata": {
    "id": "entertaining-committee"
   },
   "source": [
    "### Displot \n",
    "\n",
    "- distribution들을 여러 subplot들로 나눠서 출력해주는 plot.\n",
    "\n",
    "\n",
    "- displot에 kind를 변경하는 것으로, histplot, kdeplot, ecdfplot 모두 출력이 가능합니다.\n",
    "\n",
    "e.g. displot(kind=\"hist\")"
   ]
  },
  {
   "cell_type": "code",
   "execution_count": null,
   "id": "entertaining-category",
   "metadata": {
    "id": "entertaining-category"
   },
   "outputs": [],
   "source": [
    "# penguin 데이터에 displot을 출력합니다.\n"
   ]
  },
  {
   "cell_type": "markdown",
   "id": "dramatic-detroit",
   "metadata": {
    "id": "dramatic-detroit"
   },
   "source": [
    "### Barplot\n",
    "\n",
    "- 어떤 데이터에 대한 값의 크기를 막대로 보여주는 plot. (a.k.a. 막대그래프)\n",
    "\n",
    "\n",
    "- 가로 / 세로 두 가지로 모두 출력 가능합니다.\n",
    "\n",
    "\n",
    "- 히스토그램과는 다릅니다!"
   ]
  },
  {
   "cell_type": "code",
   "execution_count": 4,
   "id": "interim-argentina",
   "metadata": {
    "id": "interim-argentina"
   },
   "outputs": [
    {
     "data": {
      "text/plain": [
       "<AxesSubplot:xlabel='species', ylabel='flipper_length_mm'>"
      ]
     },
     "execution_count": 4,
     "metadata": {},
     "output_type": "execute_result"
    },
    {
     "data": {
      "image/png": "[encoded data removed]",
      "text/plain": [
       "<Figure size 432x288 with 1 Axes>"
      ]
     },
     "metadata": {
      "needs_background": "light"
     },
     "output_type": "display_data"
    }
   ],
   "source": [
    "# penguin 데이터에 barplot을 출력합니다.\n",
    "sns.barplot(data=data, x=\"species\", y=\"flipper_length_mm\",\n",
    "           hue=\"sex\")\n",
    "#plt.annotate()"
   ]
  },
  {
   "cell_type": "markdown",
   "id": "incomplete-hobby",
   "metadata": {
    "id": "incomplete-hobby"
   },
   "source": [
    "### Countplot\n",
    "\n",
    "- 범주형 속성을 가지는 데이터들의 histogram을 보여주는 plot.\n",
    "\n",
    "\n",
    "\n",
    "- 종류별 count를 보여주는 방법입니다."
   ]
  },
  {
   "cell_type": "code",
   "execution_count": 7,
   "id": "extra-january",
   "metadata": {
    "id": "extra-january"
   },
   "outputs": [
    {
     "data": {
      "text/plain": [
       "<AxesSubplot:xlabel='species', ylabel='count'>"
      ]
     },
     "execution_count": 7,
     "metadata": {},
     "output_type": "execute_result"
    },
    {
     "data": {
      "image/png": "[encoded data removed]",
      "text/plain": [
       "<Figure size 432x288 with 1 Axes>"
      ]
     },
     "metadata": {
      "needs_background": "light"
     },
     "output_type": "display_data"
    }
   ],
   "source": [
    "# penguin 데이터에 countplot을 출력합니다.\n",
    "sns.countplot(data=data, x=\"species\")"
   ]
  },
  {
   "cell_type": "markdown",
   "id": "handled-replacement",
   "metadata": {
    "id": "handled-replacement"
   },
   "source": [
    "### Boxplot\n",
    "\n",
    "\n",
    "- 데이터의 각 종류별로 사분위 수(quantile)를 표시하는 plot.\n",
    "\n",
    "\n",
    "- 특정 데이터의 전체적인 분포를 확인하기 좋은 시각화 기법입니다.\n",
    "\n",
    "\n",
    "- box와 전체 range의 그림을 통해 outlier를 찾기 쉽습니다. (IQR : Inter-Quantile Range)"
   ]
  },
  {
   "cell_type": "code",
   "execution_count": 15,
   "id": "radical-federation",
   "metadata": {
    "id": "radical-federation"
   },
   "outputs": [
    {
     "data": {
      "text/plain": [
       "<AxesSubplot:xlabel='species', ylabel='bill_length_mm'>"
      ]
     },
     "execution_count": 15,
     "metadata": {},
     "output_type": "execute_result"
    },
    {
     "data": {
      "image/png": "[encoded data removed]",
      "text/plain": [
       "<Figure size 576x432 with 1 Axes>"
      ]
     },
     "metadata": {
      "needs_background": "light"
     },
     "output_type": "display_data"
    }
   ],
   "source": [
    "# penguin 데이터에 boxplot을 출력합니다.\n",
    "\n",
    "# What is boxplot?\n",
    "plt.figure(figsize=(8, 6))\n",
    "sns.boxplot(data=data, x=\"species\", y=\"bill_length_mm\",\n",
    "           hue=\"sex\")"
   ]
  },
  {
   "cell_type": "markdown",
   "id": "protected-newark",
   "metadata": {
    "id": "protected-newark"
   },
   "source": [
    "### Violinplot \n",
    "\n",
    "- 데이터에 대한 분포 자체를 보여주는 plot.\n",
    "\n",
    "\n",
    "- boxplot과 비슷하지만, 전체 분포에 대한 그림을 보여준다는 점에서 boxplot과 다릅니다.\n",
    "\n",
    "\n",
    "- 보통 boxplot과 함께 표시하면, 평균 근처에 데이터가 얼마나 있는지(boxplot) 전체적으로 어떻게 퍼져있는지(violinplot) 모두 확인이 가능합니다."
   ]
  },
  {
   "cell_type": "code",
   "execution_count": null,
   "id": "thick-baseline",
   "metadata": {
    "id": "thick-baseline"
   },
   "outputs": [],
   "source": [
    "# penguin 데이터에 violinplot을 출력합니다.\n"
   ]
  },
  {
   "cell_type": "markdown",
   "id": "educational-welcome",
   "metadata": {
    "id": "educational-welcome"
   },
   "source": [
    "### Lineplot\n",
    "\n",
    "- 특정 데이터를 x, y로 표시하여 관계를 확인할 수 있는 plot. (선 그래프)\n",
    "\n",
    "\n",
    "- 수치형 지표들 간의 경향을 파악할 때 많이 사용합니다."
   ]
  },
  {
   "cell_type": "code",
   "execution_count": null,
   "id": "stunning-challenge",
   "metadata": {
    "id": "stunning-challenge"
   },
   "outputs": [],
   "source": [
    "# penguin 데이터에 lineplot을 출력합니다.\n"
   ]
  },
  {
   "cell_type": "markdown",
   "id": "electoral-plaza",
   "metadata": {
    "id": "electoral-plaza"
   },
   "source": [
    "### Pointplot\n",
    "\n",
    "- 특정 수치 데이터를 error bar와 함께 출력해주는 plot.\n",
    "\n",
    "\n",
    "\n",
    "- 수치 데이터를 다양한 각도에서 한 번에 바라보고 싶을 때 사용합니다.\n",
    "\n",
    "\n",
    "- 데이터와 error bar를 한 번에 찍어주기 때문에, 살펴보고 싶은 특정 지표들만 사용하는 것이 좋습니다."
   ]
  },
  {
   "cell_type": "code",
   "execution_count": null,
   "id": "surprised-drunk",
   "metadata": {
    "id": "surprised-drunk"
   },
   "outputs": [],
   "source": [
    "# penguin 데이터에 pointplot을 출력합니다.\n"
   ]
  },
  {
   "cell_type": "markdown",
   "id": "clean-valentine",
   "metadata": {
    "id": "clean-valentine"
   },
   "source": [
    "### Scatterplot\n",
    "\n",
    "- lineplot과 비슷하게 x, y에 대한 전체적인 분포를 확인하는 plot.\n",
    "\n",
    "\n",
    "- lineplot은 경향성에 초점을 둔다면, scatterplot은 데이터 그 자체가 퍼져있는 모양에 중점을 둡니다."
   ]
  },
  {
   "cell_type": "code",
   "execution_count": null,
   "id": "alive-macintosh",
   "metadata": {
    "id": "alive-macintosh"
   },
   "outputs": [],
   "source": [
    "# penguin 데이터에 scatterplot을 출력합니다.\n"
   ]
  },
  {
   "cell_type": "markdown",
   "id": "delayed-antigua",
   "metadata": {
    "id": "delayed-antigua"
   },
   "source": [
    "### Pairplot\n",
    "\n",
    "\n",
    "- 주어진 데이터의 각 feature들 사이의 관계를 표시하는 Plot.\n",
    "\n",
    "\n",
    "- scatterplot, FacetGrid, kdeplot을 이용하여 feature간의 관계를 잘 보여줍니다.\n",
    "\n",
    "\n",
    "- 각 feature에 대해 계산된 모든 결과를 보여주기 때문에, feature가 많은 경우 사용하기 적합하지 않습니다."
   ]
  },
  {
   "cell_type": "code",
   "execution_count": null,
   "id": "opening-treaty",
   "metadata": {
    "id": "opening-treaty"
   },
   "outputs": [],
   "source": [
    "# penguin 데이터에 pairplot을 출력합니다.\n"
   ]
  },
  {
   "cell_type": "markdown",
   "id": "consolidated-leave",
   "metadata": {
    "id": "consolidated-leave"
   },
   "source": [
    "### Heatmap\n",
    "\n",
    "- 정사각형 그림에 데이터에 대한 정도 차이를 색 차이로 보여주는 plot.\n",
    "\n",
    "\n",
    "- 말 그대로 heatmap이기 때문에, 열화상카메라로 사물을 찍은 것처럼 정보의 차이를 보여줍니다.\n",
    "\n",
    "\n",
    "- pairplot과 비슷하게 feature간 관계를 시각화할 때 많이 사용합니다."
   ]
  },
  {
   "cell_type": "markdown",
   "id": "f2968bb4",
   "metadata": {
    "id": "f2968bb4"
   },
   "source": [
    "**상관관계란?**\n",
    "- 어떤 X값의 변화에 따라 Y값의 선형적으로 변화하는지를 측정한 지표.\n",
    "\n",
    "- [-1, 1]\n",
    "\n",
    "\n",
    "e.g. 아이스크림 판매량 증가 <----> 상어에 물린 사람 수"
   ]
  },
  {
   "cell_type": "code",
   "execution_count": null,
   "id": "complimentary-vegetation",
   "metadata": {
    "id": "complimentary-vegetation"
   },
   "outputs": [],
   "source": [
    "# 각 feature간 상관관계를 파악하기 위해 Correlation matrix를 만듭니다.\n"
   ]
  },
  {
   "cell_type": "code",
   "execution_count": null,
   "id": "charming-essay",
   "metadata": {
    "id": "charming-essay"
   },
   "outputs": [],
   "source": [
    "# penguin 데이터에 heatmap을 출력합니다.\n"
   ]
  }
 ],
 "metadata": {
  "colab": {
   "collapsed_sections": [],
   "name": "Chapter.02 데이터 분석 라이브러리-09. seaborn plots (실습).ipynb",
   "provenance": []
  },
  "kernelspec": {
   "display_name": "Python 3 (ipykernel)",
   "language": "python",
   "name": "python3"
  },
  "language_info": {
   "codemirror_mode": {
    "name": "ipython",
    "version": 3
   },
   "file_extension": ".py",
   "mimetype": "text/x-python",
   "name": "python",
   "nbconvert_exporter": "python",
   "pygments_lexer": "ipython3",
   "version": "3.8.13"
  }
 },
 "nbformat": 4,
 "nbformat_minor": 5
}
