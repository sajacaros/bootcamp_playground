{
 "cells": [
  {
   "cell_type": "markdown",
   "metadata": {
    "id": "kv6gH7G01Pal"
   },
   "source": [
    "## Numpy"
   ]
  },
  {
   "cell_type": "markdown",
   "metadata": {
    "id": "RQWkeQgD1Pam"
   },
   "source": [
    "### 1. Numpy Array and Operation"
   ]
  },
  {
   "cell_type": "markdown",
   "metadata": {
    "id": "igGUA1oE1Pam"
   },
   "source": [
    "- numpy의 기본적인 사용법에 대해서 배워봅니다.\n",
    "\n",
    "\n",
    "- numpy에서 numpy.array를 만드는 여러가지 방법과 지원하는 연산자에 대해서 공부합니다."
   ]
  },
  {
   "cell_type": "markdown",
   "metadata": {
    "id": "ZzPzxgQ53PcS"
   },
   "source": [
    "### 1.1. Numpy Array creation"
   ]
  },
  {
   "cell_type": "code",
   "execution_count": 2,
   "metadata": {
    "id": "MoD6QOXY1Pan"
   },
   "outputs": [],
   "source": [
    "# numpy 라이브러리를 불러옵니다.\n",
    "import numpy as np"
   ]
  },
  {
   "cell_type": "code",
   "execution_count": null,
   "metadata": {
    "id": "bqVEQaBP1Pan"
   },
   "outputs": [],
   "source": [
    "# 파이썬 리스트 선언\n"
   ]
  },
  {
   "cell_type": "code",
   "execution_count": null,
   "metadata": {
    "id": "jADukVLG1Pan"
   },
   "outputs": [],
   "source": [
    "# 파이썬 2차원 리스트(행렬) 선언\n",
    "data2 = "
   ]
  },
  {
   "cell_type": "code",
   "execution_count": null,
   "metadata": {
    "id": "jQq60ZfX1Pan"
   },
   "outputs": [],
   "source": [
    "# 파이썬 list를 numpy array로 변환합니다.\n",
    "\n",
    "# numpy array를 만드는 방식의 대부분은 파이썬 리스트를 np.array로 변환하는 방식입니다.\n"
   ]
  },
  {
   "cell_type": "code",
   "execution_count": null,
   "metadata": {
    "id": "eqbxPjfu1Pao"
   },
   "outputs": [],
   "source": [
    "# 2차원 리스트를 np.array로 만듭니다.\n",
    "arr2 = np.array(data2) # data2라는 리스트를 numpy array로 만들어라.\n"
   ]
  },
  {
   "cell_type": "code",
   "execution_count": null,
   "metadata": {
    "id": "oMdYjtc21Pao"
   },
   "outputs": [],
   "source": [
    "# 0부터 9까지 숫자를 자동으로 생성한 array\n",
    "np.arange(0, 10)\n",
    "np.zeros(5)\n",
    "np.ones(7)\n",
    "np.empty(3)  # uninitialized\n",
    "np.linspace(0, 50, 50)"
   ]
  },
  {
   "cell_type": "code",
   "execution_count": null,
   "metadata": {
    "id": "NwMSPz0Z1Pao"
   },
   "outputs": [],
   "source": [
    "# 10부터 99까지 숫자를 자동으로 생성한 array\n"
   ]
  },
  {
   "cell_type": "markdown",
   "metadata": {
    "id": "1Pioy4a-1Pap"
   },
   "source": [
    "### 1.2. Array Arithmetic (like vector)"
   ]
  },
  {
   "cell_type": "code",
   "execution_count": null,
   "metadata": {
    "id": "sxjF6pdh1Pap"
   },
   "outputs": [],
   "source": [
    "# v1 = (1, 2, 3), v2 = (4, 5, 6) 벡터 2개 생성하기.\n",
    "v1 = np.array([1, 2, 3])\n",
    "v2 = np.array([4, 5, 6])"
   ]
  },
  {
   "cell_type": "code",
   "execution_count": null,
   "metadata": {
    "id": "KFKEKB711Pap"
   },
   "outputs": [],
   "source": [
    "# 리스트로 더하기 연산해보기\n",
    "L = [1, 2, 3]\n",
    "L2 = [4, 5, 6]\n",
    "L + L2"
   ]
  },
  {
   "cell_type": "code",
   "execution_count": null,
   "metadata": {
    "id": "UiDh2wZX1Pap"
   },
   "outputs": [],
   "source": [
    "#  vector addition\n"
   ]
  },
  {
   "cell_type": "code",
   "execution_count": null,
   "metadata": {
    "id": "z1uh1zIW1Pap"
   },
   "outputs": [],
   "source": [
    "#  vector subtraction\n"
   ]
  },
  {
   "cell_type": "code",
   "execution_count": null,
   "metadata": {
    "id": "Kp3n7JU91Pap"
   },
   "outputs": [],
   "source": [
    "# (not vector operation) elementwise multiplication\n"
   ]
  },
  {
   "cell_type": "code",
   "execution_count": null,
   "metadata": {
    "id": "WQDxd6ew1Pap"
   },
   "outputs": [],
   "source": [
    "# (not vector operation) elementwise division\n"
   ]
  },
  {
   "cell_type": "code",
   "execution_count": null,
   "metadata": {
    "id": "Kh9DEujN1Pap"
   },
   "outputs": [],
   "source": [
    "# dot product\n"
   ]
  },
  {
   "cell_type": "markdown",
   "metadata": {
    "id": "Dp11IV1l1Pap"
   },
   "source": [
    "### 1.3. Broadcast and Universal Function"
   ]
  },
  {
   "cell_type": "markdown",
   "metadata": {
    "id": "lbGKwuWf1Pap"
   },
   "source": [
    "- 서로 크기가 다른 numpy array를 연산할 때, 자동으로 연산을 전파(broadcast)해주는 기능. 행렬곱 연산을 할 때 편리하다."
   ]
  },
  {
   "cell_type": "code",
   "execution_count": null,
   "metadata": {
    "id": "g8pG0d-V1Paq"
   },
   "outputs": [],
   "source": [
    "arr1 = np.array([1, 0, 0])"
   ]
  },
  {
   "cell_type": "code",
   "execution_count": null,
   "metadata": {
    "id": "CQDgu7vG1Paq"
   },
   "outputs": [],
   "source": [
    "arr2 = np.array([[1, 2, 3],\n",
    "                 [4, 5, 6]])"
   ]
  },
  {
   "cell_type": "code",
   "execution_count": null,
   "metadata": {
    "id": "-4EWUAZB1Paq"
   },
   "outputs": [],
   "source": [
    "# 2개의 array를 더해보면?\n"
   ]
  },
  {
   "cell_type": "code",
   "execution_count": null,
   "metadata": {
    "id": "EvOolsHz1Paq"
   },
   "outputs": [],
   "source": [
    "# 2개의 array를 곱해보면?\n"
   ]
  },
  {
   "cell_type": "markdown",
   "metadata": {
    "id": "Rch_pHQW55S-"
   },
   "source": [
    "- Universal Function : broadcast 기능을 확장해서, numpy array의 모든 원소에 동일한 함수를 반복문으로 적용한 것과 같은 효과를 내는 기능."
   ]
  },
  {
   "cell_type": "code",
   "execution_count": null,
   "metadata": {
    "id": "AeXAfqUI6H0V"
   },
   "outputs": [],
   "source": [
    "# f = lambda x : 1/x\n"
   ]
  },
  {
   "cell_type": "code",
   "execution_count": null,
   "metadata": {
    "id": "xt20aKq21Paq"
   },
   "outputs": [],
   "source": [
    "# f = lambda x : x + 2\n"
   ]
  },
  {
   "cell_type": "markdown",
   "metadata": {
    "id": "JQ9vQmo-1Paq"
   },
   "source": [
    "### 1.4. Fancy Indexing \n",
    "\n",
    "- Numpy array는 list의 indexing을 확장하여 다양한 조건에서의 indexing을 지원한다.\n",
    "\n",
    "- 주어진 numpy array를 통해서 여러가지 상황의 데이터를 추출하는 것을 연습해보자.\n",
    "\n",
    "- 이 indexing은 pandas에서 확장되어 사용되니 꼭 익혀보자!\n"
   ]
  },
  {
   "cell_type": "code",
   "execution_count": null,
   "metadata": {
    "id": "C2U2Y3Sz1Paq"
   },
   "outputs": [],
   "source": [
    "arr1 = np.arange(10)"
   ]
  },
  {
   "cell_type": "code",
   "execution_count": null,
   "metadata": {
    "id": "5WULHYrI1Paq"
   },
   "outputs": [],
   "source": [
    "# 첫번째 원소\n"
   ]
  },
  {
   "cell_type": "code",
   "execution_count": null,
   "metadata": {
    "id": "_N-nEw7V1Paq"
   },
   "outputs": [],
   "source": [
    "# 마지막 원소\n"
   ]
  },
  {
   "cell_type": "code",
   "execution_count": null,
   "metadata": {
    "id": "wNQa8qoO1Paq"
   },
   "outputs": [],
   "source": [
    "# 앞에서부터 원소 3개 slicing\n"
   ]
  },
  {
   "cell_type": "code",
   "execution_count": 3,
   "metadata": {
    "id": "29pYfFvL1Paq"
   },
   "outputs": [
    {
     "data": {
      "text/plain": "array([[ 1,  2,  3,  4],\n       [ 5,  6,  7,  8],\n       [ 9, 10, 11, 12]])"
     },
     "execution_count": 3,
     "metadata": {},
     "output_type": "execute_result"
    }
   ],
   "source": [
    "arr2 = np.array([[1, 2, 3, 4],\n",
    "               [5, 6, 7, 8],\n",
    "               [9, 10, 11, 12]])\n",
    "arr2"
   ]
  },
  {
   "cell_type": "code",
   "execution_count": null,
   "metadata": {
    "id": "p8EFXNq91Paq"
   },
   "outputs": [],
   "source": [
    "# arr2의 2row, 3column 원소 = 7\n"
   ]
  },
  {
   "cell_type": "code",
   "execution_count": null,
   "metadata": {
    "id": "OVgw4bT11Paq"
   },
   "outputs": [],
   "source": [
    "# arr2의 세번째 column [3, 7, 11]\n"
   ]
  },
  {
   "cell_type": "code",
   "execution_count": null,
   "metadata": {
    "id": "krLo7Tvg1Paq"
   },
   "outputs": [],
   "source": [
    "# arr2의 두번째 row\n"
   ]
  },
  {
   "cell_type": "code",
   "execution_count": null,
   "metadata": {},
   "outputs": [],
   "source": [
    "# arr2에서 두번째 row중에서 6보다 큰 원소들 찾기"
   ]
  },
  {
   "cell_type": "code",
   "execution_count": 8,
   "metadata": {},
   "outputs": [
    {
     "data": {
      "text/plain": "array([10])"
     },
     "execution_count": 8,
     "metadata": {},
     "output_type": "execute_result"
    }
   ],
   "source": [
    "# arr2의 두번째 column중에서 6보다 큰 원소들 찾기\n",
    "mask = arr2[:, 1]>6\n",
    "arr2[:, 1][mask]"
   ]
  },
  {
   "cell_type": "code",
   "execution_count": 16,
   "outputs": [
    {
     "data": {
      "text/plain": "array([10])"
     },
     "execution_count": 16,
     "metadata": {},
     "output_type": "execute_result"
    }
   ],
   "source": [
    "arr2[arr2[:,1]>6,1]"
   ],
   "metadata": {
    "collapsed": false,
    "pycharm": {
     "name": "#%%\n"
    }
   }
  },
  {
   "cell_type": "code",
   "execution_count": null,
   "outputs": [],
   "source": [],
   "metadata": {
    "collapsed": false,
    "pycharm": {
     "name": "#%%\n"
    }
   }
  },
  {
   "cell_type": "code",
   "execution_count": 13,
   "outputs": [
    {
     "data": {
      "text/plain": "array([[ 9, 10, 11, 12]])"
     },
     "execution_count": 13,
     "metadata": {},
     "output_type": "execute_result"
    }
   ],
   "source": [
    "arr2[[False,False,True]]"
   ],
   "metadata": {
    "collapsed": false,
    "pycharm": {
     "name": "#%%\n"
    }
   }
  },
  {
   "cell_type": "code",
   "execution_count": 10,
   "outputs": [
    {
     "data": {
      "text/plain": "array([1, 2, 3, 4])"
     },
     "execution_count": 10,
     "metadata": {},
     "output_type": "execute_result"
    }
   ],
   "source": [
    "arr2[0]"
   ],
   "metadata": {
    "collapsed": false,
    "pycharm": {
     "name": "#%%\n"
    }
   }
  },
  {
   "cell_type": "code",
   "execution_count": 11,
   "outputs": [
    {
     "data": {
      "text/plain": "array([[1, 2, 3, 4]])"
     },
     "execution_count": 11,
     "metadata": {},
     "output_type": "execute_result"
    }
   ],
   "source": [
    "arr2[[0]]"
   ],
   "metadata": {
    "collapsed": false,
    "pycharm": {
     "name": "#%%\n"
    }
   }
  },
  {
   "cell_type": "code",
   "execution_count": 19,
   "outputs": [
    {
     "data": {
      "text/plain": "1.0999999999999996"
     },
     "execution_count": 19,
     "metadata": {},
     "output_type": "execute_result"
    }
   ],
   "source": [
    "4.1%3"
   ],
   "metadata": {
    "collapsed": false,
    "pycharm": {
     "name": "#%%\n"
    }
   }
  },
  {
   "cell_type": "code",
   "execution_count": 17,
   "outputs": [
    {
     "data": {
      "text/plain": "array([[1, 2, 3, 4]])"
     },
     "execution_count": 17,
     "metadata": {},
     "output_type": "execute_result"
    }
   ],
   "source": [
    "arr2[0:1]"
   ],
   "metadata": {
    "collapsed": false,
    "pycharm": {
     "name": "#%%\n"
    }
   }
  },
  {
   "cell_type": "markdown",
   "metadata": {
    "id": "nb3NOpgU1Par"
   },
   "source": [
    "## 2. Numpy Methods\n",
    "\n",
    "- numpy에서 사용되는 여러가지 함수들을 사용해봅시다."
   ]
  },
  {
   "cell_type": "markdown",
   "metadata": {
    "id": "wsDCnH9Q1Par"
   },
   "source": [
    "### 2.1. Math Functions "
   ]
  },
  {
   "cell_type": "code",
   "execution_count": 24,
   "metadata": {
    "id": "Pme3p6FQ1Par"
   },
   "outputs": [
    {
     "data": {
      "text/plain": "array([[ 0.49671415, -0.1382643 ,  0.64768854],\n       [ 1.52302986, -0.23415337, -0.23413696],\n       [ 1.57921282,  0.76743473, -0.46947439],\n       [ 0.54256004, -0.46341769, -0.46572975],\n       [ 0.24196227, -1.91328024, -1.72491783]])"
     },
     "execution_count": 24,
     "metadata": {},
     "output_type": "execute_result"
    }
   ],
   "source": [
    "# 표준정규분포에서 random sampling을 한 원소를 가지는 5x3 행렬을 만든다.\n",
    "np.random.seed(42)\n",
    "mat1 = np.random.randn(5, 3)\n",
    "mat1"
   ]
  },
  {
   "cell_type": "code",
   "execution_count": 26,
   "metadata": {
    "id": "YnWulebZ1Par"
   },
   "outputs": [
    {
     "data": {
      "text/plain": "array([[0.49671415, 0.1382643 , 0.64768854],\n       [1.52302986, 0.23415337, 0.23413696],\n       [1.57921282, 0.76743473, 0.46947439],\n       [0.54256004, 0.46341769, 0.46572975],\n       [0.24196227, 1.91328024, 1.72491783]])"
     },
     "execution_count": 26,
     "metadata": {},
     "output_type": "execute_result"
    }
   ],
   "source": [
    "# mat1에 절대값 씌우기\n",
    "np.abs(mat1)"
   ]
  },
  {
   "cell_type": "code",
   "execution_count": 28,
   "metadata": {
    "id": "LEt94K-t6sdK"
   },
   "outputs": [
    {
     "data": {
      "text/plain": "array([[0.24672495, 0.01911702, 0.41950044],\n       [2.31961994, 0.0548278 , 0.05482011],\n       [2.49391312, 0.58895606, 0.2204062 ],\n       [0.2943714 , 0.21475596, 0.2169042 ],\n       [0.05854574, 3.66064129, 2.97534153]])"
     },
     "execution_count": 28,
     "metadata": {},
     "output_type": "execute_result"
    }
   ],
   "source": [
    "# mat1 제곱하기\n",
    "np.square(mat1)"
   ]
  },
  {
   "cell_type": "code",
   "execution_count": 30,
   "metadata": {
    "id": "mFldaHe_6wHC"
   },
   "outputs": [
    {
     "data": {
      "text/plain": "array([[0.49671415, 0.1382643 , 0.64768854],\n       [1.52302986, 0.23415337, 0.23413696],\n       [1.57921282, 0.76743473, 0.46947439],\n       [0.54256004, 0.46341769, 0.46572975],\n       [0.24196227, 1.91328024, 1.72491783]])"
     },
     "execution_count": 30,
     "metadata": {},
     "output_type": "execute_result"
    }
   ],
   "source": [
    "# mat1의 제곱근 구하기\n",
    "np.sqrt(np.square(mat1))"
   ]
  },
  {
   "cell_type": "code",
   "execution_count": 34,
   "metadata": {
    "id": "khqI2kwA62Ez"
   },
   "outputs": [
    {
     "name": "stdout",
     "output_type": "stream",
     "text": [
      "1.4142135623730951\n",
      "EigResult(eigenvalues=array([1., 1.]), eigenvectors=array([[1., 0.],\n",
      "       [0., 1.]]))\n"
     ]
    }
   ],
   "source": [
    "# linear algebra functions\n",
    "vec = np.array([1,0,1])\n",
    "mat = np.array([[1,0],[0,1]])\n",
    "\n",
    "# 1. norm\n",
    "print(np.linalg.norm(vec))\n",
    "\n",
    "# 2. eigenvalue\n",
    "print(np.linalg.eig(mat))"
   ]
  },
  {
   "cell_type": "markdown",
   "metadata": {
    "id": "Tk5S0yOf1Par"
   },
   "source": [
    "### 2.2. Aggregation functions "
   ]
  },
  {
   "cell_type": "code",
   "execution_count": 35,
   "metadata": {
    "id": "b0ei5LJ51Par"
   },
   "outputs": [
    {
     "data": {
      "text/plain": "array([[0.37454012, 0.95071431],\n       [0.73199394, 0.59865848],\n       [0.15601864, 0.15599452]])"
     },
     "execution_count": 35,
     "metadata": {},
     "output_type": "execute_result"
    }
   ],
   "source": [
    "np.random.seed(42) # seed set  ## reproducibility\n",
    "mat2 = np.random.rand(3, 2)\n",
    "mat2"
   ]
  },
  {
   "cell_type": "code",
   "execution_count": 36,
   "metadata": {
    "id": "hMKOS5O51Par"
   },
   "outputs": [
    {
     "data": {
      "text/plain": "2.9679200120443596"
     },
     "execution_count": 36,
     "metadata": {},
     "output_type": "execute_result"
    }
   ],
   "source": [
    "# Summation\n",
    "np.sum(mat2)"
   ]
  },
  {
   "cell_type": "code",
   "execution_count": 39,
   "outputs": [
    {
     "data": {
      "text/plain": "array([1.2625527 , 1.70536731])"
     },
     "execution_count": 39,
     "metadata": {},
     "output_type": "execute_result"
    }
   ],
   "source": [
    "np.sum(mat2, axis=0)"
   ],
   "metadata": {
    "collapsed": false,
    "pycharm": {
     "name": "#%%\n"
    }
   }
  },
  {
   "cell_type": "code",
   "execution_count": 40,
   "outputs": [
    {
     "data": {
      "text/plain": "array([1.32525443, 1.33065243, 0.31201316])"
     },
     "execution_count": 40,
     "metadata": {},
     "output_type": "execute_result"
    }
   ],
   "source": [
    "np.sum(mat2, axis=1)"
   ],
   "metadata": {
    "collapsed": false,
    "pycharm": {
     "name": "#%%\n"
    }
   }
  },
  {
   "cell_type": "code",
   "execution_count": 37,
   "metadata": {
    "id": "OdJZdrx_1Par"
   },
   "outputs": [
    {
     "data": {
      "text/plain": "array([0.4208509 , 0.56845577])"
     },
     "execution_count": 37,
     "metadata": {},
     "output_type": "execute_result"
    }
   ],
   "source": [
    "# mean\n",
    "np.mean(mat2, axis=0)"
   ]
  },
  {
   "cell_type": "code",
   "execution_count": null,
   "metadata": {
    "id": "78xMuXMY1Par"
   },
   "outputs": [],
   "source": [
    "# std\n",
    "np.std(mat2)"
   ]
  },
  {
   "cell_type": "code",
   "execution_count": 43,
   "outputs": [
    {
     "data": {
      "text/plain": "array([[0.37454012, 0.95071431],\n       [0.73199394, 0.59865848],\n       [0.15601864, 0.15599452]])"
     },
     "execution_count": 43,
     "metadata": {},
     "output_type": "execute_result"
    }
   ],
   "source": [
    "mat2"
   ],
   "metadata": {
    "collapsed": false,
    "pycharm": {
     "name": "#%%\n"
    }
   }
  },
  {
   "cell_type": "code",
   "execution_count": 41,
   "metadata": {
    "id": "KzfPurFc1Par"
   },
   "outputs": [
    {
     "data": {
      "text/plain": "array([0.37454012, 0.59865848, 0.15599452])"
     },
     "execution_count": 41,
     "metadata": {},
     "output_type": "execute_result"
    }
   ],
   "source": [
    "# min, max\n",
    "np.min(mat2, axis=1)\n",
    "#np.max(mat2, axis=0)"
   ]
  },
  {
   "cell_type": "code",
   "execution_count": 44,
   "outputs": [
    {
     "data": {
      "text/plain": "array([0.15601864, 0.15599452])"
     },
     "execution_count": 44,
     "metadata": {},
     "output_type": "execute_result"
    }
   ],
   "source": [
    "np.min(mat2, axis=0)"
   ],
   "metadata": {
    "collapsed": false,
    "pycharm": {
     "name": "#%%\n"
    }
   }
  },
  {
   "cell_type": "code",
   "execution_count": 45,
   "outputs": [
    {
     "data": {
      "text/plain": "0.15599452033620265"
     },
     "execution_count": 45,
     "metadata": {},
     "output_type": "execute_result"
    }
   ],
   "source": [
    "np.min(mat2)"
   ],
   "metadata": {
    "collapsed": false,
    "pycharm": {
     "name": "#%%\n"
    }
   }
  },
  {
   "cell_type": "code",
   "execution_count": 42,
   "metadata": {
    "id": "YtRtiSG31Pas"
   },
   "outputs": [
    {
     "data": {
      "text/plain": "array([0, 1, 1], dtype=int64)"
     },
     "execution_count": 42,
     "metadata": {},
     "output_type": "execute_result"
    }
   ],
   "source": [
    "# 최소값이 있는 Index\n",
    "np.argmin(mat2, axis=1)"
   ]
  },
  {
   "cell_type": "code",
   "execution_count": 46,
   "outputs": [
    {
     "data": {
      "text/plain": "array([0.73199394, 0.95071431])"
     },
     "execution_count": 46,
     "metadata": {},
     "output_type": "execute_result"
    }
   ],
   "source": [
    "np.max(mat2, axis=0)"
   ],
   "metadata": {
    "collapsed": false,
    "pycharm": {
     "name": "#%%\n"
    }
   }
  },
  {
   "cell_type": "code",
   "execution_count": 47,
   "metadata": {
    "id": "0cndLCKl1Pas"
   },
   "outputs": [
    {
     "data": {
      "text/plain": "array([1, 0], dtype=int64)"
     },
     "execution_count": 47,
     "metadata": {},
     "output_type": "execute_result"
    }
   ],
   "source": [
    "# 최대값이 있는 Index\n",
    "np.argmax(mat2, axis=0)"
   ]
  },
  {
   "cell_type": "code",
   "execution_count": 49,
   "outputs": [
    {
     "data": {
      "text/plain": "array([[0.37454012, 0.95071431],\n       [0.73199394, 0.59865848],\n       [0.15601864, 0.15599452]])"
     },
     "execution_count": 49,
     "metadata": {},
     "output_type": "execute_result"
    }
   ],
   "source": [
    "mat2"
   ],
   "metadata": {
    "collapsed": false,
    "pycharm": {
     "name": "#%%\n"
    }
   }
  },
  {
   "cell_type": "markdown",
   "source": [],
   "metadata": {
    "collapsed": false,
    "pycharm": {
     "name": "#%% md\n"
    }
   }
  },
  {
   "cell_type": "code",
   "execution_count": 48,
   "metadata": {
    "id": "y2LVvF5b1Pas"
   },
   "outputs": [
    {
     "data": {
      "text/plain": "array([[0.15601864, 0.15599452],\n       [0.37454012, 0.59865848],\n       [0.73199394, 0.95071431]])"
     },
     "execution_count": 48,
     "metadata": {},
     "output_type": "execute_result"
    }
   ],
   "source": [
    "# 그냥 정렬 (오름차순 정렬만 지원합니다)\n",
    "np.sort(mat2, axis=0)"
   ]
  },
  {
   "cell_type": "code",
   "execution_count": 1,
   "metadata": {
    "id": "mLeMOv7f1Pas"
   },
   "outputs": [
    {
     "ename": "NameError",
     "evalue": "name 'np' is not defined",
     "output_type": "error",
     "traceback": [
      "\u001B[1;31m---------------------------------------------------------------------------\u001B[0m",
      "\u001B[1;31mNameError\u001B[0m                                 Traceback (most recent call last)",
      "Cell \u001B[1;32mIn[1], line 2\u001B[0m\n\u001B[0;32m      1\u001B[0m \u001B[38;5;66;03m# index를 정렬\u001B[39;00m\n\u001B[1;32m----> 2\u001B[0m \u001B[43mnp\u001B[49m\u001B[38;5;241m.\u001B[39margsort(mat2, axis\u001B[38;5;241m=\u001B[39m\u001B[38;5;241m0\u001B[39m)\n",
      "\u001B[1;31mNameError\u001B[0m: name 'np' is not defined"
     ]
    }
   ],
   "source": [
    "# index를 정렬\n",
    "np.argsort(mat2, axis=0) # 정렬을 하고 난 결과의 원본 데이터 index를 출력"
   ]
  },
  {
   "cell_type": "markdown",
   "metadata": {
    "id": "2a2AgVdm1Pas"
   },
   "source": [
    "## 3. \bPerformance Check"
   ]
  },
  {
   "cell_type": "markdown",
   "metadata": {
    "id": "ciO_FLLW1Pas"
   },
   "source": [
    "- Universal Function 기능을 통해 반복문을 사용한 것보다 훨씬 빠른 성능을 냅니다.\n",
    "\n",
    "\n",
    "- 직접 실험을 통해 그 차이를 확인해보겠습니다."
   ]
  },
  {
   "cell_type": "code",
   "execution_count": 51,
   "metadata": {},
   "outputs": [],
   "source": [
    "def reverse_num(L):\n",
    "    \"\"\"\n",
    "    reverse all values in list L\n",
    "    \"\"\"\n",
    "\n",
    "    for i in range(len(L)):\n",
    "        L[i] = 1 / L[i]"
   ]
  },
  {
   "cell_type": "code",
   "execution_count": 52,
   "metadata": {
    "id": "oVBZX1U31Pas"
   },
   "outputs": [],
   "source": [
    "np.random.seed(0)\n",
    "\n",
    "def np_reverse_num(values):\n",
    "    output = np.empty(len(values))\n",
    "    \n",
    "    for i in range(len(values)):\n",
    "        output[i] = 1.0 / values[i]"
   ]
  },
  {
   "cell_type": "code",
   "execution_count": 53,
   "metadata": {
    "id": "aagBlNXs1Pas"
   },
   "outputs": [
    {
     "name": "stdout",
     "output_type": "stream",
     "text": [
      "(1000000,) 1000000\n"
     ]
    }
   ],
   "source": [
    "# 1부터 100까지 범위에서 1000000개를 랜덤으로 뽑아서 array를 만듭니다.\n",
    "big_array = np.random.randint(1, 101, 1000000)\n",
    "big_list = list(big_array)\n",
    "print(big_array.shape, len(big_list))"
   ]
  },
  {
   "cell_type": "code",
   "execution_count": 54,
   "metadata": {},
   "outputs": [
    {
     "name": "stdout",
     "output_type": "stream",
     "text": [
      "142 ms ± 4.87 ms per loop (mean ± std. dev. of 7 runs, 10 loops each)\n"
     ]
    }
   ],
   "source": [
    "%timeit reverse_num(big_list)"
   ]
  },
  {
   "cell_type": "code",
   "execution_count": 55,
   "metadata": {
    "id": "VMyEUiVM1Pas"
   },
   "outputs": [
    {
     "name": "stdout",
     "output_type": "stream",
     "text": [
      "1.96 s ± 47.1 ms per loop (mean ± std. dev. of 7 runs, 1 loop each)\n"
     ]
    }
   ],
   "source": [
    "%timeit np_reverse_num(big_array)"
   ]
  },
  {
   "cell_type": "code",
   "execution_count": 56,
   "metadata": {
    "id": "k7PvHI7-1Pas"
   },
   "outputs": [
    {
     "name": "stdout",
     "output_type": "stream",
     "text": [
      "4.2 ms ± 297 µs per loop (mean ± std. dev. of 7 runs, 100 loops each)\n"
     ]
    }
   ],
   "source": [
    "%timeit 1 / big_array"
   ]
  },
  {
   "cell_type": "code",
   "execution_count": null,
   "outputs": [],
   "source": [],
   "metadata": {
    "collapsed": false,
    "pycharm": {
     "name": "#%%\n"
    }
   }
  }
 ],
 "metadata": {
  "colab": {
   "collapsed_sections": [],
   "name": "Chapter.02 데이터 분석 라이브러리-03. Numpy method (실습).ipynb",
   "provenance": []
  },
  "kernelspec": {
   "name": "bootcamp",
   "language": "python",
   "display_name": "bootcamp"
  },
  "language_info": {
   "codemirror_mode": {
    "name": "ipython",
    "version": 3
   },
   "file_extension": ".py",
   "mimetype": "text/x-python",
   "name": "python",
   "nbconvert_exporter": "python",
   "pygments_lexer": "ipython3",
   "version": "3.8.13"
  },
  "vscode": {
   "interpreter": {
    "hash": "ec0e73bc9db08b8d89387f8f6c8d25ddb5b98c92e4d4d339c361044cb7be0e6a"
   }
  }
 },
 "nbformat": 4,
 "nbformat_minor": 1
}