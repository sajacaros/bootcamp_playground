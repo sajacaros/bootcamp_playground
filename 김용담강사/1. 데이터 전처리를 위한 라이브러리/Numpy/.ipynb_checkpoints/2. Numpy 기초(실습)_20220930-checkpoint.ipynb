{
 "cells": [
  {
   "cell_type": "markdown",
   "metadata": {
    "id": "kv6gH7G01Pal"
   },
   "source": [
    "## Numpy"
   ]
  },
  {
   "cell_type": "markdown",
   "metadata": {
    "id": "RQWkeQgD1Pam"
   },
   "source": [
    "### 1. Numpy Array and Operation"
   ]
  },
  {
   "cell_type": "markdown",
   "metadata": {
    "id": "igGUA1oE1Pam"
   },
   "source": [
    "- numpy의 기본적인 사용법에 대해서 배워봅니다.\n",
    "\n",
    "\n",
    "- numpy에서 numpy.array를 만드는 여러가지 방법과 지원하는 연산자에 대해서 공부합니다."
   ]
  },
  {
   "cell_type": "markdown",
   "metadata": {
    "id": "ZzPzxgQ53PcS"
   },
   "source": [
    "### 1.1. Numpy Array creation"
   ]
  },
  {
   "cell_type": "code",
   "execution_count": 1,
   "metadata": {
    "id": "MoD6QOXY1Pan"
   },
   "outputs": [],
   "source": [
    "# numpy 라이브러리를 불러옵니다.\n",
    "import numpy as np"
   ]
  },
  {
   "cell_type": "code",
   "execution_count": null,
   "metadata": {
    "id": "bqVEQaBP1Pan"
   },
   "outputs": [],
   "source": [
    "# 파이썬 리스트 선언\n"
   ]
  },
  {
   "cell_type": "code",
   "execution_count": null,
   "metadata": {
    "id": "jADukVLG1Pan"
   },
   "outputs": [],
   "source": [
    "# 파이썬 2차원 리스트(행렬) 선언\n",
    "data2 = "
   ]
  },
  {
   "cell_type": "code",
   "execution_count": null,
   "metadata": {
    "id": "jQq60ZfX1Pan"
   },
   "outputs": [],
   "source": [
    "# 파이썬 list를 numpy array로 변환합니다.\n",
    "\n",
    "# numpy array를 만드는 방식의 대부분은 파이썬 리스트를 np.array로 변환하는 방식입니다.\n"
   ]
  },
  {
   "cell_type": "code",
   "execution_count": null,
   "metadata": {
    "id": "eqbxPjfu1Pao"
   },
   "outputs": [],
   "source": [
    "# 2차원 리스트를 np.array로 만듭니다.\n",
    "arr2 = np.array(data2) # data2라는 리스트를 numpy array로 만들어라.\n"
   ]
  },
  {
   "cell_type": "code",
   "execution_count": 14,
   "metadata": {
    "id": "oMdYjtc21Pao"
   },
   "outputs": [
    {
     "data": {
      "text/plain": [
       "array([ 0.        ,  1.02040816,  2.04081633,  3.06122449,  4.08163265,\n",
       "        5.10204082,  6.12244898,  7.14285714,  8.16326531,  9.18367347,\n",
       "       10.20408163, 11.2244898 , 12.24489796, 13.26530612, 14.28571429,\n",
       "       15.30612245, 16.32653061, 17.34693878, 18.36734694, 19.3877551 ,\n",
       "       20.40816327, 21.42857143, 22.44897959, 23.46938776, 24.48979592,\n",
       "       25.51020408, 26.53061224, 27.55102041, 28.57142857, 29.59183673,\n",
       "       30.6122449 , 31.63265306, 32.65306122, 33.67346939, 34.69387755,\n",
       "       35.71428571, 36.73469388, 37.75510204, 38.7755102 , 39.79591837,\n",
       "       40.81632653, 41.83673469, 42.85714286, 43.87755102, 44.89795918,\n",
       "       45.91836735, 46.93877551, 47.95918367, 48.97959184, 50.        ])"
      ]
     },
     "execution_count": 14,
     "metadata": {},
     "output_type": "execute_result"
    }
   ],
   "source": [
    "# 0부터 9까지 숫자를 자동으로 생성한 array\n",
    "np.arange(0, 10)\n",
    "np.zeros(5)\n",
    "np.ones(7)\n",
    "np.empty(3)  # uninitialized\n",
    "np.linspace(0, 50, 50)"
   ]
  },
  {
   "cell_type": "code",
   "execution_count": null,
   "metadata": {
    "id": "NwMSPz0Z1Pao"
   },
   "outputs": [],
   "source": [
    "# 10부터 99까지 숫자를 자동으로 생성한 array\n"
   ]
  },
  {
   "cell_type": "markdown",
   "metadata": {
    "id": "UFFwSitw1Pao"
   },
   "source": [
    "### 1.2. Reshaping array"
   ]
  },
  {
   "cell_type": "code",
   "execution_count": 16,
   "metadata": {
    "id": "-vcHHFl81Pao"
   },
   "outputs": [
    {
     "data": {
      "text/plain": [
       "array([[ 2.66766003, -0.84955292, -1.50766657],\n",
       "       [-0.51189954, -1.19106156,  0.37960313],\n",
       "       [-1.15184324, -1.85148234,  0.03336035]])"
      ]
     },
     "execution_count": 16,
     "metadata": {},
     "output_type": "execute_result"
    }
   ],
   "source": [
    "# 3 x 3 행렬을 만들어봅시다.\n",
    "x = np.zeros((3, 3))\n",
    "x = np.random.randn(3, 3)\n",
    "x"
   ]
  },
  {
   "cell_type": "code",
   "execution_count": 26,
   "metadata": {
    "id": "HChX3Sv91Pao"
   },
   "outputs": [
    {
     "data": {
      "text/plain": [
       "array([[1],\n",
       "       [2],\n",
       "       [3],\n",
       "       [4],\n",
       "       [5],\n",
       "       [6],\n",
       "       [7],\n",
       "       [8],\n",
       "       [9]])"
      ]
     },
     "execution_count": 26,
     "metadata": {},
     "output_type": "execute_result"
    }
   ],
   "source": [
    "# reshape을 이용하여 만들어봅시다.\n",
    "x = np.arange(1, 10).reshape(9, 1)\n",
    "x"
   ]
  },
  {
   "cell_type": "code",
   "execution_count": 2,
   "metadata": {
    "id": "jKHQRaFx5QFT"
   },
   "outputs": [
    {
     "data": {
      "text/plain": [
       "array([[[ 1,  2],\n",
       "        [ 3,  4],\n",
       "        [ 5,  6]],\n",
       "\n",
       "       [[ 7,  8],\n",
       "        [ 9, 10],\n",
       "        [11, 12]]])"
      ]
     },
     "execution_count": 2,
     "metadata": {},
     "output_type": "execute_result"
    }
   ],
   "source": [
    "# row vector를 column vector로\n",
    "x = np.array([[1, 2, 3],\n",
    "              [4, 5, 6]])\n",
    "\n",
    "x2 = np.array([\n",
    "    [[1, 2],\n",
    "     [3, 4],\n",
    "     [5, 6]],\n",
    "    [[7, 8],\n",
    "     [9, 10],\n",
    "     [11, 12]]\n",
    "])\n",
    "x2"
   ]
  },
  {
   "cell_type": "code",
   "execution_count": 53,
   "metadata": {
    "id": "Jre4TnZT5YwK"
   },
   "outputs": [
    {
     "data": {
      "text/plain": [
       "array([[[ 1],\n",
       "        [ 2]],\n",
       "\n",
       "       [[ 3],\n",
       "        [ 4]],\n",
       "\n",
       "       [[ 5],\n",
       "        [ 6]],\n",
       "\n",
       "       [[ 7],\n",
       "        [ 8]],\n",
       "\n",
       "       [[ 9],\n",
       "        [10]],\n",
       "\n",
       "       [[11],\n",
       "        [12]]])"
      ]
     },
     "execution_count": 53,
     "metadata": {},
     "output_type": "execute_result"
    }
   ],
   "source": [
    "# 펼치기\n",
    "x2.reshape(2, -1) # 2 x 3 x 2 = 12\n",
    "x2.reshape(-1, 2)\n",
    "x2.reshape(-1, 2, 1)"
   ]
  },
  {
   "cell_type": "markdown",
   "metadata": {
    "id": "MMrKtZy-1Pao"
   },
   "source": [
    "### 1.3. Concatenation of arrays"
   ]
  },
  {
   "cell_type": "code",
   "execution_count": 3,
   "metadata": {
    "id": "6g1bOHDn1Pao"
   },
   "outputs": [
    {
     "data": {
      "text/plain": [
       "array([5, 7, 9])"
      ]
     },
     "execution_count": 3,
     "metadata": {},
     "output_type": "execute_result"
    }
   ],
   "source": [
    "arr1 = np.array([1, 2, 3])\n",
    "arr2 = np.array([4, 5, 6])\n",
    "# arr1 + arr2 = ?\n",
    "arr1 + arr2\n",
    "# arr1와 arr2를 합칩니다"
   ]
  },
  {
   "cell_type": "code",
   "execution_count": 4,
   "metadata": {
    "id": "ePV80Pwx1Pao"
   },
   "outputs": [
    {
     "data": {
      "text/plain": [
       "array([[1, 2, 3],\n",
       "       [4, 5, 6]])"
      ]
     },
     "execution_count": 4,
     "metadata": {},
     "output_type": "execute_result"
    }
   ],
   "source": [
    "# stacking vertically\n",
    "np.vstack([arr1, arr2])"
   ]
  },
  {
   "cell_type": "code",
   "execution_count": 5,
   "metadata": {
    "id": "xcY9pR2M1Pap"
   },
   "outputs": [
    {
     "data": {
      "text/plain": [
       "array([1, 2, 3, 4, 5, 6])"
      ]
     },
     "execution_count": 5,
     "metadata": {},
     "output_type": "execute_result"
    }
   ],
   "source": [
    "# stacking horizontally\n",
    "np.hstack([arr1, arr2])"
   ]
  },
  {
   "cell_type": "markdown",
   "metadata": {
    "id": "1Pioy4a-1Pap"
   },
   "source": [
    "## 1.4. Array Arithmetic (like vector) --> Universal Function"
   ]
  },
  {
   "cell_type": "code",
   "execution_count": 6,
   "metadata": {
    "id": "sxjF6pdh1Pap"
   },
   "outputs": [],
   "source": [
    "# v1 = (1, 2, 3), v2 = (4, 5, 6) 벡터 2개 생성하기.\n",
    "v1 = np.array([1, 2, 3])\n",
    "v2 = np.array([4, 5, 6])"
   ]
  },
  {
   "cell_type": "code",
   "execution_count": 7,
   "metadata": {
    "id": "KFKEKB711Pap"
   },
   "outputs": [
    {
     "data": {
      "text/plain": [
       "[1, 2, 3, 4, 5, 6]"
      ]
     },
     "execution_count": 7,
     "metadata": {},
     "output_type": "execute_result"
    }
   ],
   "source": [
    "# 리스트로 더하기 연산해보기\n",
    "L = [1, 2, 3]\n",
    "L2 = [4, 5, 6]\n",
    "L + L2"
   ]
  },
  {
   "cell_type": "code",
   "execution_count": 8,
   "metadata": {
    "id": "UiDh2wZX1Pap"
   },
   "outputs": [
    {
     "data": {
      "text/plain": [
       "array([5, 7, 9])"
      ]
     },
     "execution_count": 8,
     "metadata": {},
     "output_type": "execute_result"
    }
   ],
   "source": [
    "#  vector addition\n",
    "v1 + v2"
   ]
  },
  {
   "cell_type": "code",
   "execution_count": 9,
   "metadata": {
    "id": "z1uh1zIW1Pap"
   },
   "outputs": [
    {
     "data": {
      "text/plain": [
       "array([-3, -3, -3])"
      ]
     },
     "execution_count": 9,
     "metadata": {},
     "output_type": "execute_result"
    }
   ],
   "source": [
    "#  vector subtraction\n",
    "v1 - v2"
   ]
  },
  {
   "cell_type": "code",
   "execution_count": 10,
   "metadata": {
    "id": "Kp3n7JU91Pap"
   },
   "outputs": [
    {
     "data": {
      "text/plain": [
       "array([ 4, 10, 18])"
      ]
     },
     "execution_count": 10,
     "metadata": {},
     "output_type": "execute_result"
    }
   ],
   "source": [
    "# (not vector operation) elementwise multiplication\n",
    "v1 * v2"
   ]
  },
  {
   "cell_type": "code",
   "execution_count": 11,
   "metadata": {
    "id": "WQDxd6ew1Pap"
   },
   "outputs": [
    {
     "data": {
      "text/plain": [
       "array([0.25, 0.4 , 0.5 ])"
      ]
     },
     "execution_count": 11,
     "metadata": {},
     "output_type": "execute_result"
    }
   ],
   "source": [
    "# (not vector operation) elementwise division\n",
    "v1 / v2"
   ]
  },
  {
   "cell_type": "code",
   "execution_count": 12,
   "metadata": {
    "id": "Kh9DEujN1Pap"
   },
   "outputs": [
    {
     "data": {
      "text/plain": [
       "32"
      ]
     },
     "execution_count": 12,
     "metadata": {},
     "output_type": "execute_result"
    }
   ],
   "source": [
    "# dot product\n",
    "v1 @ v2"
   ]
  },
  {
   "cell_type": "markdown",
   "metadata": {
    "id": "Dp11IV1l1Pap"
   },
   "source": [
    "### 1.5. Broadcast and Universal Function"
   ]
  },
  {
   "cell_type": "markdown",
   "metadata": {
    "id": "lbGKwuWf1Pap"
   },
   "source": [
    "- 서로 크기가 다른 numpy array를 연산할 때, 자동으로 연산을 전파(broadcast)해주는 기능. 행렬곱 연산을 할 때 편리하다."
   ]
  },
  {
   "cell_type": "code",
   "execution_count": 13,
   "metadata": {
    "id": "g8pG0d-V1Paq"
   },
   "outputs": [],
   "source": [
    "arr1 = np.array([1, 0, 0])"
   ]
  },
  {
   "cell_type": "code",
   "execution_count": 14,
   "metadata": {
    "id": "CQDgu7vG1Paq"
   },
   "outputs": [],
   "source": [
    "arr2 = np.array([[1, 2, 3],\n",
    "                 [4, 5, 6]])"
   ]
  },
  {
   "cell_type": "code",
   "execution_count": 15,
   "metadata": {
    "id": "-4EWUAZB1Paq"
   },
   "outputs": [
    {
     "data": {
      "text/plain": [
       "array([[2, 2, 3],\n",
       "       [5, 5, 6]])"
      ]
     },
     "execution_count": 15,
     "metadata": {},
     "output_type": "execute_result"
    }
   ],
   "source": [
    "# 2개의 array를 더해보면?\n",
    "arr1 + arr2 # 2->2->3(v)"
   ]
  },
  {
   "cell_type": "code",
   "execution_count": 16,
   "metadata": {
    "id": "EvOolsHz1Paq"
   },
   "outputs": [
    {
     "data": {
      "text/plain": [
       "array([[1, 0, 0],\n",
       "       [4, 0, 0]])"
      ]
     },
     "execution_count": 16,
     "metadata": {},
     "output_type": "execute_result"
    }
   ],
   "source": [
    "# 2개의 array를 곱해보면? (**)\n",
    "arr1 * arr2"
   ]
  },
  {
   "cell_type": "markdown",
   "metadata": {
    "id": "Rch_pHQW55S-"
   },
   "source": [
    "- Universal Function : broadcast 기능을 확장해서, numpy array의 모든 원소에 동일한 함수를 반복문으로 적용한 것과 같은 효과를 내는 기능."
   ]
  },
  {
   "cell_type": "code",
   "execution_count": 17,
   "metadata": {
    "id": "AeXAfqUI6H0V"
   },
   "outputs": [
    {
     "name": "stderr",
     "output_type": "stream",
     "text": [
      "/var/folders/jr/ythw8pm97jvctj64wgsyd02h0000gn/T/ipykernel_38494/704277822.py:2: RuntimeWarning: divide by zero encountered in divide\n",
      "  1 / arr1\n"
     ]
    },
    {
     "data": {
      "text/plain": [
       "array([ 1., inf, inf])"
      ]
     },
     "execution_count": 17,
     "metadata": {},
     "output_type": "execute_result"
    }
   ],
   "source": [
    "# f = lambda x : 1/x\n",
    "1 / arr1"
   ]
  },
  {
   "cell_type": "code",
   "execution_count": 19,
   "metadata": {
    "id": "xt20aKq21Paq"
   },
   "outputs": [
    {
     "data": {
      "text/plain": [
       "array([3, 2, 2])"
      ]
     },
     "execution_count": 19,
     "metadata": {},
     "output_type": "execute_result"
    }
   ],
   "source": [
    "# f = lambda x : x + 2\n",
    "2 + arr1"
   ]
  },
  {
   "cell_type": "markdown",
   "metadata": {
    "id": "JQ9vQmo-1Paq"
   },
   "source": [
    "### 1.6. Indexing\n"
   ]
  },
  {
   "cell_type": "code",
   "execution_count": null,
   "metadata": {
    "id": "C2U2Y3Sz1Paq"
   },
   "outputs": [],
   "source": [
    "arr1 = np.arange(10)"
   ]
  },
  {
   "cell_type": "code",
   "execution_count": null,
   "metadata": {
    "id": "5WULHYrI1Paq"
   },
   "outputs": [],
   "source": [
    "# 첫번째 원소\n"
   ]
  },
  {
   "cell_type": "code",
   "execution_count": null,
   "metadata": {
    "id": "_N-nEw7V1Paq"
   },
   "outputs": [],
   "source": [
    "# 마지막 원소\n"
   ]
  },
  {
   "cell_type": "code",
   "execution_count": null,
   "metadata": {
    "id": "wNQa8qoO1Paq"
   },
   "outputs": [],
   "source": [
    "# 앞에서부터 원소 3개 slicing\n"
   ]
  },
  {
   "cell_type": "code",
   "execution_count": null,
   "metadata": {
    "id": "29pYfFvL1Paq"
   },
   "outputs": [],
   "source": [
    "arr2 = np.array([[1, 2, 3, 4],\n",
    "               [5, 6, 7, 8],\n",
    "               [9, 10, 11, 12]])\n",
    "arr2"
   ]
  },
  {
   "cell_type": "code",
   "execution_count": null,
   "metadata": {
    "id": "p8EFXNq91Paq"
   },
   "outputs": [],
   "source": [
    "# arr2의 2row, 3column 원소 = 7\n"
   ]
  },
  {
   "cell_type": "code",
   "execution_count": null,
   "metadata": {
    "id": "OVgw4bT11Paq"
   },
   "outputs": [],
   "source": [
    "# arr2의 세번째 column [3, 7, 11]\n"
   ]
  },
  {
   "cell_type": "code",
   "execution_count": null,
   "metadata": {
    "id": "krLo7Tvg1Paq"
   },
   "outputs": [],
   "source": [
    "# arr2의 두번째 row\n"
   ]
  },
  {
   "cell_type": "markdown",
   "metadata": {
    "id": "nb3NOpgU1Par"
   },
   "source": [
    "## 2. Numpy Methods\n",
    "\n",
    "- numpy에서 사용되는 여러가지 함수들을 사용해봅시다."
   ]
  },
  {
   "cell_type": "markdown",
   "metadata": {
    "id": "wsDCnH9Q1Par"
   },
   "source": [
    "### 2.1. Math Functions "
   ]
  },
  {
   "cell_type": "code",
   "execution_count": null,
   "metadata": {
    "id": "Pme3p6FQ1Par"
   },
   "outputs": [],
   "source": [
    "# 표준정규분포에서 random sampling을 한 원소를 가지는 5x3 행렬을 만든다.\n",
    "mat1 = "
   ]
  },
  {
   "cell_type": "code",
   "execution_count": null,
   "metadata": {
    "id": "YnWulebZ1Par"
   },
   "outputs": [],
   "source": [
    "# mat1에 절대값 씌우기\n"
   ]
  },
  {
   "cell_type": "code",
   "execution_count": null,
   "metadata": {
    "id": "LEt94K-t6sdK"
   },
   "outputs": [],
   "source": [
    "# mat1 제곱하기\n"
   ]
  },
  {
   "cell_type": "code",
   "execution_count": null,
   "metadata": {
    "id": "mFldaHe_6wHC"
   },
   "outputs": [],
   "source": [
    "# mat1의 제곱근 구하기\n"
   ]
  },
  {
   "cell_type": "code",
   "execution_count": null,
   "metadata": {
    "id": "khqI2kwA62Ez"
   },
   "outputs": [],
   "source": [
    "# linear algebra functions\n",
    "vec = \n",
    "\n",
    "# 1. norm\n",
    "\n",
    "\n",
    "# 2. eigenvalue\n"
   ]
  },
  {
   "cell_type": "markdown",
   "metadata": {
    "id": "Tk5S0yOf1Par"
   },
   "source": [
    "### 2.2. Aggregation functions "
   ]
  },
  {
   "cell_type": "code",
   "execution_count": 67,
   "metadata": {
    "id": "b0ei5LJ51Par"
   },
   "outputs": [
    {
     "data": {
      "text/plain": [
       "array([[0.37454012, 0.95071431],\n",
       "       [0.73199394, 0.59865848],\n",
       "       [0.15601864, 0.15599452]])"
      ]
     },
     "execution_count": 67,
     "metadata": {},
     "output_type": "execute_result"
    }
   ],
   "source": [
    "np.random.seed(42) # seed set  ## reproducibility\n",
    "mat2 = np.random.rand(3, 2)\n",
    "mat2"
   ]
  },
  {
   "cell_type": "code",
   "execution_count": 59,
   "metadata": {
    "id": "hMKOS5O51Par"
   },
   "outputs": [],
   "source": [
    "# Summation\n"
   ]
  },
  {
   "cell_type": "code",
   "execution_count": null,
   "metadata": {
    "id": "OdJZdrx_1Par"
   },
   "outputs": [],
   "source": [
    "# mean\n",
    "np.mean(mat3, axis=0)"
   ]
  },
  {
   "cell_type": "code",
   "execution_count": 69,
   "metadata": {
    "id": "78xMuXMY1Par"
   },
   "outputs": [
    {
     "data": {
      "text/plain": [
       "array([[0.37454012, 0.95071431],\n",
       "       [0.73199394, 0.59865848],\n",
       "       [0.15601864, 0.15599452]])"
      ]
     },
     "execution_count": 69,
     "metadata": {},
     "output_type": "execute_result"
    }
   ],
   "source": [
    "# std\n",
    "mat2"
   ]
  },
  {
   "cell_type": "code",
   "execution_count": 70,
   "metadata": {
    "id": "KzfPurFc1Par"
   },
   "outputs": [
    {
     "data": {
      "text/plain": [
       "array([0.73199394, 0.95071431])"
      ]
     },
     "execution_count": 70,
     "metadata": {},
     "output_type": "execute_result"
    }
   ],
   "source": [
    "# min, max\n",
    "np.min(mat2, axis=1)\n",
    "np.max(mat2, axis=0)"
   ]
  },
  {
   "cell_type": "code",
   "execution_count": 68,
   "metadata": {
    "id": "YtRtiSG31Pas"
   },
   "outputs": [
    {
     "data": {
      "text/plain": [
       "array([0, 1, 1])"
      ]
     },
     "execution_count": 68,
     "metadata": {},
     "output_type": "execute_result"
    }
   ],
   "source": [
    "# 최소값이 있는 Index\n",
    "np.argmin(mat2, axis=1)"
   ]
  },
  {
   "cell_type": "code",
   "execution_count": 71,
   "metadata": {
    "id": "0cndLCKl1Pas"
   },
   "outputs": [
    {
     "data": {
      "text/plain": [
       "array([1, 0])"
      ]
     },
     "execution_count": 71,
     "metadata": {},
     "output_type": "execute_result"
    }
   ],
   "source": [
    "# 최대값이 있는 Index\n",
    "np.argmax(mat2, axis=0)"
   ]
  },
  {
   "cell_type": "code",
   "execution_count": 75,
   "metadata": {},
   "outputs": [
    {
     "data": {
      "text/plain": [
       "array([[0.37454012, 0.95071431],\n",
       "       [0.73199394, 0.59865848],\n",
       "       [0.15601864, 0.15599452]])"
      ]
     },
     "execution_count": 75,
     "metadata": {},
     "output_type": "execute_result"
    }
   ],
   "source": [
    "mat2"
   ]
  },
  {
   "cell_type": "code",
   "execution_count": 73,
   "metadata": {
    "id": "y2LVvF5b1Pas"
   },
   "outputs": [
    {
     "data": {
      "text/plain": [
       "array([[0.15601864, 0.15599452],\n",
       "       [0.37454012, 0.59865848],\n",
       "       [0.73199394, 0.95071431]])"
      ]
     },
     "execution_count": 73,
     "metadata": {},
     "output_type": "execute_result"
    }
   ],
   "source": [
    "# 그냥 정렬 (오름차순 정렬만 지원합니다)\n",
    "np.sort(mat2, axis=0)"
   ]
  },
  {
   "cell_type": "code",
   "execution_count": 74,
   "metadata": {
    "id": "mLeMOv7f1Pas"
   },
   "outputs": [
    {
     "data": {
      "text/plain": [
       "array([[2, 2],\n",
       "       [0, 1],\n",
       "       [1, 0]])"
      ]
     },
     "execution_count": 74,
     "metadata": {},
     "output_type": "execute_result"
    }
   ],
   "source": [
    "# index를 정렬\n",
    "np.argsort(mat2, axis=0)"
   ]
  },
  {
   "cell_type": "markdown",
   "metadata": {
    "id": "2a2AgVdm1Pas"
   },
   "source": [
    "## 3. \bPerformance Check"
   ]
  },
  {
   "cell_type": "markdown",
   "metadata": {
    "id": "ciO_FLLW1Pas"
   },
   "source": [
    "- Universal Function 기능을 통해 반복문을 사용한 것보다 훨씬 빠른 성능을 냅니다.\n",
    "\n",
    "\n",
    "- 직접 실험을 통해 그 차이를 확인해보겠습니다."
   ]
  },
  {
   "cell_type": "code",
   "execution_count": 78,
   "metadata": {
    "id": "oVBZX1U31Pas"
   },
   "outputs": [],
   "source": [
    "np.random.seed(0)\n",
    "\n",
    "def reverse_num(values):\n",
    "    output = np.empty(len(values))\n",
    "    \n",
    "    for i in range(len(values)):\n",
    "        output[i] = 1.0 / values[i]\n",
    "    \n",
    "    return output"
   ]
  },
  {
   "cell_type": "code",
   "execution_count": 85,
   "metadata": {
    "id": "aagBlNXs1Pas"
   },
   "outputs": [
    {
     "data": {
      "text/plain": [
       "array([ 39,  90,  53,  35,  27,  26,  78,  20,  68,   3,  35,  21,   6,\n",
       "        68,  67,  81,  97,   9,  70,  16,  89,  49,  38,   9,   9,  97,\n",
       "        37,  58,  34,  18,  47,   4,  49,  15,  80,  99,  93,  45,  56,\n",
       "        14,  19,  91,  84,  44,  86,  65,  64,  62,  53,  79,  23,  24,\n",
       "        68,   8,  43,  82,  20,  36,  35,  68,   3,  41,   6,  94,  41,\n",
       "        11,  67,  77,  41,  89,  64,  24,  54,  54,  84,  47,  55,  14,\n",
       "        25,  41,  27,  25,  51,  45,  85,   1,  79,  93,  92,  10,  11,\n",
       "        84,  70,  84,  49,  77,  68,  19,  40, 100])"
      ]
     },
     "execution_count": 85,
     "metadata": {},
     "output_type": "execute_result"
    }
   ],
   "source": [
    "# 1부터 100까지 범위에서 1000000개를 랜덤으로 뽑아서 array를 만듭니다.\n",
    "big_array = np.random.randint(1, 101, 100)\n",
    "big_array"
   ]
  },
  {
   "cell_type": "code",
   "execution_count": 86,
   "metadata": {
    "id": "VMyEUiVM1Pas"
   },
   "outputs": [
    {
     "name": "stdout",
     "output_type": "stream",
     "text": [
      "65.6 µs ± 1.53 µs per loop (mean ± std. dev. of 7 runs, 10,000 loops each)\n"
     ]
    }
   ],
   "source": [
    "%timeit reverse_num(big_array)"
   ]
  },
  {
   "cell_type": "code",
   "execution_count": 87,
   "metadata": {
    "id": "k7PvHI7-1Pas"
   },
   "outputs": [
    {
     "name": "stdout",
     "output_type": "stream",
     "text": [
      "534 ns ± 4.5 ns per loop (mean ± std. dev. of 7 runs, 1,000,000 loops each)\n"
     ]
    }
   ],
   "source": [
    "%timeit 1.0 / big_array"
   ]
  },
  {
   "cell_type": "code",
   "execution_count": null,
   "metadata": {
    "id": "_11lEint1Pas"
   },
   "outputs": [],
   "source": []
  }
 ],
 "metadata": {
  "colab": {
   "collapsed_sections": [],
   "name": "Chapter.02 데이터 분석 라이브러리-03. Numpy method (실습).ipynb",
   "provenance": []
  },
  "kernelspec": {
   "display_name": "Python 3 (ipykernel)",
   "language": "python",
   "name": "python3"
  },
  "language_info": {
   "codemirror_mode": {
    "name": "ipython",
    "version": 3
   },
   "file_extension": ".py",
   "mimetype": "text/x-python",
   "name": "python",
   "nbconvert_exporter": "python",
   "pygments_lexer": "ipython3",
   "version": "3.8.13"
  },
  "vscode": {
   "interpreter": {
    "hash": "ec0e73bc9db08b8d89387f8f6c8d25ddb5b98c92e4d4d339c361044cb7be0e6a"
   }
  }
 },
 "nbformat": 4,
 "nbformat_minor": 1
}
