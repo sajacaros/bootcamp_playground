{
 "cells": [
  {
   "cell_type": "markdown",
   "id": "1b27bc2f",
   "metadata": {},
   "source": [
    "### 데이터 간의 유사성을 판단하기 위해서는, 거리를 계산합니다.\n",
    "\n",
    "주로 사용하는 거리 함수(distance function, metric)로는 다음 3가지가 있습니다.\n",
    "\n",
    "\n",
    "1. Manhattan Distance (L1 distance)\n",
    "\n",
    "\n",
    "2. Euclidean Distance (L2 distance)\n",
    "\n",
    "\n",
    "3. Cosine Distance\n",
    "\n",
    "\n",
    "위의 3가지 metric을 직접 구현해보고 차이점을 확인해봅니다."
   ]
  },
  {
   "cell_type": "code",
   "execution_count": null,
   "id": "33bcfd62",
   "metadata": {},
   "outputs": [],
   "source": [
    "import numpy as np\n",
    "\n",
    "v1 = np.array([1, 0, 0])\n",
    "v2 = np.array([0, 1, 0])\n",
    "\n",
    "v3 = np.array([3, 1, 2])\n",
    "v4 = np.array([3, -1, -1])"
   ]
  },
  {
   "cell_type": "code",
   "execution_count": null,
   "id": "6900933a",
   "metadata": {},
   "outputs": [],
   "source": [
    "def manhattan_distance(x, y):\n",
    "    \"\"\"\n",
    "    x, y : np.array\n",
    "    return : x와 y 사이의 manhattan distance\n",
    "    \"\"\"\n",
    "\n",
    "    dist = \n",
    "\n",
    "    return dist"
   ]
  },
  {
   "cell_type": "code",
   "execution_count": null,
   "id": "f15d05b9",
   "metadata": {},
   "outputs": [],
   "source": [
    "def euclidean_distance(x, y):\n",
    "    \"\"\"\n",
    "    x, y : np.array\n",
    "    return : x와 y 사이의 euclidean distance\n",
    "    \"\"\"\n",
    "    dist = \n",
    "\n",
    "    return dist"
   ]
  },
  {
   "cell_type": "code",
   "execution_count": null,
   "id": "8ba51d02",
   "metadata": {},
   "outputs": [],
   "source": [
    "def cosine_distance(x, y):\n",
    "    \"\"\"\n",
    "    x, y : np.array\n",
    "    return : x와 y 사이의 cosine distance\n",
    "    \"\"\"\n",
    "\n",
    "    dist = \n",
    "    \n",
    "    return"
   ]
  },
  {
   "cell_type": "markdown",
   "id": "f36eca2a",
   "metadata": {},
   "source": [
    "### 가장 유사한 메뉴 찾기!"
   ]
  },
  {
   "cell_type": "code",
   "execution_count": null,
   "id": "dd3dbd09",
   "metadata": {},
   "outputs": [],
   "source": [
    "import pandas as pd\n",
    "\n",
    "data = \n",
    "data"
   ]
  },
  {
   "cell_type": "code",
   "execution_count": null,
   "id": "491d3a04",
   "metadata": {},
   "outputs": [],
   "source": [
    "## TO-DO: Chesseburget와 가장 비슷한 메뉴를 euclidean_distance 기준으로 찾기!\n",
    "target = \n",
    "\n",
    "\n",
    "for i in data:\n",
    "\n",
    "\n",
    "print(\"Most similar menu : \")"
   ]
  },
  {
   "cell_type": "code",
   "execution_count": null,
   "id": "b4f9db2a",
   "metadata": {},
   "outputs": [],
   "source": []
  }
 ],
 "metadata": {
  "kernelspec": {
   "display_name": "Python 3 (ipykernel)",
   "language": "python",
   "name": "python3"
  },
  "language_info": {
   "codemirror_mode": {
    "name": "ipython",
    "version": 3
   },
   "file_extension": ".py",
   "mimetype": "text/x-python",
   "name": "python",
   "nbconvert_exporter": "python",
   "pygments_lexer": "ipython3",
   "version": "3.8.13"
  }
 },
 "nbformat": 4,
 "nbformat_minor": 5
}
