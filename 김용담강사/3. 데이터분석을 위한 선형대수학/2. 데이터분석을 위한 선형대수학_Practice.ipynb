{
 "cells": [
  {
   "cell_type": "markdown",
   "id": "1b27bc2f",
   "metadata": {},
   "source": [
    "### 데이터 간의 유사성을 판단하기 위해서는, 거리를 계산합니다.\n",
    "\n",
    "주로 사용하는 거리 함수(distance function, metric)로는 다음 3가지가 있습니다.\n",
    "\n",
    "\n",
    "1. Manhattan Distance (L1 distance)\n",
    "\n",
    "\n",
    "2. Euclidean Distance (L2 distance)\n",
    "\n",
    "\n",
    "3. Cosine Distance\n",
    "\n",
    "\n",
    "위의 3가지 metric을 직접 구현해보고 차이점을 확인해봅니다."
   ]
  },
  {
   "cell_type": "code",
   "execution_count": 1,
   "id": "33bcfd62",
   "metadata": {},
   "outputs": [],
   "source": [
    "import numpy as np\n",
    "\n",
    "v1 = np.array([1, 0, 0])\n",
    "v2 = np.array([0, 1, 0])\n",
    "\n",
    "v3 = np.array([3, 1, 2])\n",
    "v4 = np.array([3, -1, -1])"
   ]
  },
  {
   "cell_type": "code",
   "execution_count": 2,
   "id": "6900933a",
   "metadata": {},
   "outputs": [],
   "source": [
    "def manhattan_distance(x, y):\n",
    "    \"\"\"\n",
    "    x, y : np.array\n",
    "    return : x와 y 사이의 manhattan distance\n",
    "    \"\"\"\n",
    "\n",
    "    dist = np.sum(np.abs(x - y))\n",
    "\n",
    "    return dist"
   ]
  },
  {
   "cell_type": "code",
   "execution_count": 3,
   "outputs": [
    {
     "data": {
      "text/plain": "2"
     },
     "execution_count": 3,
     "metadata": {},
     "output_type": "execute_result"
    }
   ],
   "source": [
    "manhattan_distance(v1,v2)"
   ],
   "metadata": {
    "collapsed": false,
    "pycharm": {
     "name": "#%%\n"
    }
   }
  },
  {
   "cell_type": "code",
   "execution_count": 4,
   "id": "f15d05b9",
   "metadata": {},
   "outputs": [],
   "source": [
    "def euclidean_distance(x, y):\n",
    "    \"\"\"\n",
    "    x, y : np.array\n",
    "    return : x와 y 사이의 euclidean distance\n",
    "    \"\"\"\n",
    "    dist =  np.sqrt(np.sum(np.power(x-y, 2)))\n",
    "\n",
    "    return dist"
   ]
  },
  {
   "cell_type": "code",
   "execution_count": 5,
   "outputs": [
    {
     "data": {
      "text/plain": "1.4142135623730951"
     },
     "execution_count": 5,
     "metadata": {},
     "output_type": "execute_result"
    }
   ],
   "source": [
    "euclidean_distance(v1, v2)"
   ],
   "metadata": {
    "collapsed": false,
    "pycharm": {
     "name": "#%%\n"
    }
   }
  },
  {
   "cell_type": "code",
   "execution_count": 6,
   "id": "8ba51d02",
   "metadata": {},
   "outputs": [],
   "source": [
    "def cosine_distance(x, y):\n",
    "    \"\"\"\n",
    "    x, y : np.array\n",
    "    return : x와 y 사이의 cosine distance\n",
    "    \"\"\"\n",
    "\n",
    "    norms = np.linalg.norm(x) * np.linalg.norm(y)\n",
    "    dot = x @ y\n",
    "    dist = dot / norms\n",
    "    \n",
    "    return 1-dist"
   ]
  },
  {
   "cell_type": "code",
   "execution_count": 7,
   "outputs": [
    {
     "data": {
      "text/plain": "1.0"
     },
     "execution_count": 7,
     "metadata": {},
     "output_type": "execute_result"
    }
   ],
   "source": [
    "cosine_distance(v1,v2)"
   ],
   "metadata": {
    "collapsed": false,
    "pycharm": {
     "name": "#%%\n"
    }
   }
  },
  {
   "cell_type": "markdown",
   "id": "f36eca2a",
   "metadata": {},
   "source": [
    "### 가장 유사한 메뉴 찾기!"
   ]
  },
  {
   "cell_type": "code",
   "execution_count": 8,
   "id": "dd3dbd09",
   "metadata": {},
   "outputs": [
    {
     "data": {
      "text/plain": "                                    Item  Calories  Calories from\\nFat  \\\n0                              Hamburger     250.0                80.0   \n1                           Cheeseburger     300.0               110.0   \n2                    Double Cheeseburger     440.0               210.0   \n3                               McDouble     390.0               170.0   \n4           Quarter Pounder® with Cheese     510.0               230.0   \n..                                   ...       ...                 ...   \n325  Strawberry Banana Smoothie (Medium)     260.0                 5.0   \n326   Strawberry Banana Smoothie (Small)     210.0                 5.0   \n327          Wild Berry Smoothie (Large)     320.0                10.0   \n328         Wild Berry Smoothie (Medium)     260.0                 5.0   \n329          Wild Berry Smoothie (Small)     210.0                 5.0   \n\n     Total Fat\\n(g) Saturated Fat\\n(g)  Trans Fat\\n(g)  Cholesterol\\n(mg)  \\\n0               9.0                3.5             0.5               25.0   \n1              12.0                  6             0.5               40.0   \n2              23.0                 11             1.5               80.0   \n3              19.0                  8             1.0               65.0   \n4              26.0                 12             1.5               90.0   \n..              ...                ...             ...                ...   \n325             1.0                  0             0.0                5.0   \n326             0.5                  0             0.0                5.0   \n327             1.0                0.5             0.0                5.0   \n328             1.0                  0             0.0                5.0   \n329             0.5                  0             0.0                5.0   \n\n     Sodium \\n(mg)  Carbs\\n(g)  Fiber\\n(g)  Sugars\\n(g)  Protein\\n(g)  \\\n0            520.0        31.0         2.0          6.0          12.0   \n1            750.0        33.0         2.0          6.0          15.0   \n2           1150.0        34.0         2.0          7.0          25.0   \n3            920.0        33.0         2.0          7.0          22.0   \n4           1190.0        40.0         3.0          9.0          29.0   \n..             ...         ...         ...          ...           ...   \n325           40.0        60.0         3.0         54.0           2.0   \n326           35.0        49.0         2.0         44.0           2.0   \n327           45.0        75.0         4.0         69.0           3.0   \n328           35.0        60.0         4.0         55.0           3.0   \n329           30.0        48.0         3.0         44.0           2.0   \n\n     Weight Watchers\\nPnts  \n0                    247.5  \n1                    297.0  \n2                    433.0  \n3                    383.0  \n4                    502.0  \n..                     ...  \n325                  312.0  \n326                  252.0  \n327                  386.5  \n328                  312.0  \n329                  252.0  \n\n[330 rows x 13 columns]",
      "text/html": "<div>\n<style scoped>\n    .dataframe tbody tr th:only-of-type {\n        vertical-align: middle;\n    }\n\n    .dataframe tbody tr th {\n        vertical-align: top;\n    }\n\n    .dataframe thead th {\n        text-align: right;\n    }\n</style>\n<table border=\"1\" class=\"dataframe\">\n  <thead>\n    <tr style=\"text-align: right;\">\n      <th></th>\n      <th>Item</th>\n      <th>Calories</th>\n      <th>Calories from\\nFat</th>\n      <th>Total Fat\\n(g)</th>\n      <th>Saturated Fat\\n(g)</th>\n      <th>Trans Fat\\n(g)</th>\n      <th>Cholesterol\\n(mg)</th>\n      <th>Sodium \\n(mg)</th>\n      <th>Carbs\\n(g)</th>\n      <th>Fiber\\n(g)</th>\n      <th>Sugars\\n(g)</th>\n      <th>Protein\\n(g)</th>\n      <th>Weight Watchers\\nPnts</th>\n    </tr>\n  </thead>\n  <tbody>\n    <tr>\n      <th>0</th>\n      <td>Hamburger</td>\n      <td>250.0</td>\n      <td>80.0</td>\n      <td>9.0</td>\n      <td>3.5</td>\n      <td>0.5</td>\n      <td>25.0</td>\n      <td>520.0</td>\n      <td>31.0</td>\n      <td>2.0</td>\n      <td>6.0</td>\n      <td>12.0</td>\n      <td>247.5</td>\n    </tr>\n    <tr>\n      <th>1</th>\n      <td>Cheeseburger</td>\n      <td>300.0</td>\n      <td>110.0</td>\n      <td>12.0</td>\n      <td>6</td>\n      <td>0.5</td>\n      <td>40.0</td>\n      <td>750.0</td>\n      <td>33.0</td>\n      <td>2.0</td>\n      <td>6.0</td>\n      <td>15.0</td>\n      <td>297.0</td>\n    </tr>\n    <tr>\n      <th>2</th>\n      <td>Double Cheeseburger</td>\n      <td>440.0</td>\n      <td>210.0</td>\n      <td>23.0</td>\n      <td>11</td>\n      <td>1.5</td>\n      <td>80.0</td>\n      <td>1150.0</td>\n      <td>34.0</td>\n      <td>2.0</td>\n      <td>7.0</td>\n      <td>25.0</td>\n      <td>433.0</td>\n    </tr>\n    <tr>\n      <th>3</th>\n      <td>McDouble</td>\n      <td>390.0</td>\n      <td>170.0</td>\n      <td>19.0</td>\n      <td>8</td>\n      <td>1.0</td>\n      <td>65.0</td>\n      <td>920.0</td>\n      <td>33.0</td>\n      <td>2.0</td>\n      <td>7.0</td>\n      <td>22.0</td>\n      <td>383.0</td>\n    </tr>\n    <tr>\n      <th>4</th>\n      <td>Quarter Pounder® with Cheese</td>\n      <td>510.0</td>\n      <td>230.0</td>\n      <td>26.0</td>\n      <td>12</td>\n      <td>1.5</td>\n      <td>90.0</td>\n      <td>1190.0</td>\n      <td>40.0</td>\n      <td>3.0</td>\n      <td>9.0</td>\n      <td>29.0</td>\n      <td>502.0</td>\n    </tr>\n    <tr>\n      <th>...</th>\n      <td>...</td>\n      <td>...</td>\n      <td>...</td>\n      <td>...</td>\n      <td>...</td>\n      <td>...</td>\n      <td>...</td>\n      <td>...</td>\n      <td>...</td>\n      <td>...</td>\n      <td>...</td>\n      <td>...</td>\n      <td>...</td>\n    </tr>\n    <tr>\n      <th>325</th>\n      <td>Strawberry Banana Smoothie (Medium)</td>\n      <td>260.0</td>\n      <td>5.0</td>\n      <td>1.0</td>\n      <td>0</td>\n      <td>0.0</td>\n      <td>5.0</td>\n      <td>40.0</td>\n      <td>60.0</td>\n      <td>3.0</td>\n      <td>54.0</td>\n      <td>2.0</td>\n      <td>312.0</td>\n    </tr>\n    <tr>\n      <th>326</th>\n      <td>Strawberry Banana Smoothie (Small)</td>\n      <td>210.0</td>\n      <td>5.0</td>\n      <td>0.5</td>\n      <td>0</td>\n      <td>0.0</td>\n      <td>5.0</td>\n      <td>35.0</td>\n      <td>49.0</td>\n      <td>2.0</td>\n      <td>44.0</td>\n      <td>2.0</td>\n      <td>252.0</td>\n    </tr>\n    <tr>\n      <th>327</th>\n      <td>Wild Berry Smoothie (Large)</td>\n      <td>320.0</td>\n      <td>10.0</td>\n      <td>1.0</td>\n      <td>0.5</td>\n      <td>0.0</td>\n      <td>5.0</td>\n      <td>45.0</td>\n      <td>75.0</td>\n      <td>4.0</td>\n      <td>69.0</td>\n      <td>3.0</td>\n      <td>386.5</td>\n    </tr>\n    <tr>\n      <th>328</th>\n      <td>Wild Berry Smoothie (Medium)</td>\n      <td>260.0</td>\n      <td>5.0</td>\n      <td>1.0</td>\n      <td>0</td>\n      <td>0.0</td>\n      <td>5.0</td>\n      <td>35.0</td>\n      <td>60.0</td>\n      <td>4.0</td>\n      <td>55.0</td>\n      <td>3.0</td>\n      <td>312.0</td>\n    </tr>\n    <tr>\n      <th>329</th>\n      <td>Wild Berry Smoothie (Small)</td>\n      <td>210.0</td>\n      <td>5.0</td>\n      <td>0.5</td>\n      <td>0</td>\n      <td>0.0</td>\n      <td>5.0</td>\n      <td>30.0</td>\n      <td>48.0</td>\n      <td>3.0</td>\n      <td>44.0</td>\n      <td>2.0</td>\n      <td>252.0</td>\n    </tr>\n  </tbody>\n</table>\n<p>330 rows × 13 columns</p>\n</div>"
     },
     "execution_count": 8,
     "metadata": {},
     "output_type": "execute_result"
    }
   ],
   "source": [
    "import pandas as pd\n",
    "\n",
    "data = pd.read_csv('data/McDonaldsMenuNutrition.csv')\n",
    "data"
   ]
  },
  {
   "cell_type": "code",
   "execution_count": 9,
   "outputs": [
    {
     "data": {
      "text/plain": "Item                     False\nCalories                  True\nCalories from\\nFat        True\nTotal Fat\\n(g)            True\nSaturated Fat\\n(g)        True\nTrans Fat\\n(g)            True\nCholesterol\\n(mg)         True\nSodium \\n(mg)             True\nCarbs\\n(g)                True\nFiber\\n(g)                True\nSugars\\n(g)               True\nProtein\\n(g)              True\nWeight Watchers\\nPnts     True\ndtype: bool"
     },
     "execution_count": 9,
     "metadata": {},
     "output_type": "execute_result"
    }
   ],
   "source": [
    "data.isnull().any(axis=0)"
   ],
   "metadata": {
    "collapsed": false,
    "pycharm": {
     "name": "#%%\n"
    }
   }
  },
  {
   "cell_type": "code",
   "execution_count": 10,
   "outputs": [
    {
     "data": {
      "text/plain": "Item                     0.000000\nCalories                 0.006061\nCalories from\\nFat       0.015152\nTotal Fat\\n(g)           0.006061\nSaturated Fat\\n(g)       0.006061\nTrans Fat\\n(g)           0.006061\nCholesterol\\n(mg)        0.006061\nSodium \\n(mg)            0.006061\nCarbs\\n(g)               0.006061\nFiber\\n(g)               0.006061\nSugars\\n(g)              0.006061\nProtein\\n(g)             0.006061\nWeight Watchers\\nPnts    0.015152\ndtype: float64"
     },
     "execution_count": 10,
     "metadata": {},
     "output_type": "execute_result"
    }
   ],
   "source": [
    "data.isnull().mean()"
   ],
   "metadata": {
    "collapsed": false,
    "pycharm": {
     "name": "#%%\n"
    }
   }
  },
  {
   "cell_type": "code",
   "execution_count": 11,
   "outputs": [
    {
     "data": {
      "text/plain": "102    False\nName: Saturated Fat\\n(g), dtype: bool"
     },
     "execution_count": 11,
     "metadata": {},
     "output_type": "execute_result"
    }
   ],
   "source": [
    "data = data.drop(index=259).drop(index=64)\n",
    "cond = data['Saturated Fat\\n(g)'].str.contains(r'^[0-9]+.?[0-9]?$')\n",
    "cond[cond!=True]"
   ],
   "metadata": {
    "collapsed": false,
    "pycharm": {
     "name": "#%%\n"
    }
   }
  },
  {
   "cell_type": "code",
   "execution_count": 12,
   "outputs": [],
   "source": [
    "# data['Saturated Fat\\n(g)'].apply(float)"
   ],
   "metadata": {
    "collapsed": false,
    "pycharm": {
     "name": "#%%\n"
    }
   }
  },
  {
   "cell_type": "code",
   "execution_count": 13,
   "outputs": [
    {
     "name": "stdout",
     "output_type": "stream",
     "text": [
      "<class 'pandas.core.frame.DataFrame'>\n",
      "Int64Index: 328 entries, 0 to 329\n",
      "Data columns (total 13 columns):\n",
      " #   Column                Non-Null Count  Dtype  \n",
      "---  ------                --------------  -----  \n",
      " 0   Item                  328 non-null    object \n",
      " 1   Calories              328 non-null    float64\n",
      " 2   Calories from\n",
      "Fat     325 non-null    float64\n",
      " 3   Total Fat\n",
      "(g)         328 non-null    float64\n",
      " 4   Saturated Fat\n",
      "(g)     328 non-null    float64\n",
      " 5   Trans Fat\n",
      "(g)         328 non-null    float64\n",
      " 6   Cholesterol\n",
      "(mg)      328 non-null    float64\n",
      " 7   Sodium \n",
      "(mg)          328 non-null    float64\n",
      " 8   Carbs\n",
      "(g)             328 non-null    float64\n",
      " 9   Fiber\n",
      "(g)             328 non-null    float64\n",
      " 10  Sugars\n",
      "(g)            328 non-null    float64\n",
      " 11  Protein\n",
      "(g)           328 non-null    float64\n",
      " 12  Weight Watchers\n",
      "Pnts  325 non-null    float64\n",
      "dtypes: float64(12), object(1)\n",
      "memory usage: 35.9+ KB\n"
     ]
    }
   ],
   "source": [
    "data.loc[data['Saturated Fat\\n(g)']=='5.5 g', 'Saturated Fat\\n(g)'] = 5.5\n",
    "data['Saturated Fat\\n(g)'] = data['Saturated Fat\\n(g)'].apply(float)\n",
    "data.info()"
   ],
   "metadata": {
    "collapsed": false,
    "pycharm": {
     "name": "#%%\n"
    }
   }
  },
  {
   "cell_type": "code",
   "execution_count": 14,
   "outputs": [
    {
     "data": {
      "text/plain": "     Calories  Calories from\\nFat  Total Fat\\n(g)  Saturated Fat\\n(g)  \\\n0       250.0                80.0             9.0                 3.5   \n1       300.0               110.0            12.0                 6.0   \n2       440.0               210.0            23.0                11.0   \n3       390.0               170.0            19.0                 8.0   \n4       510.0               230.0            26.0                12.0   \n..        ...                 ...             ...                 ...   \n325     260.0                 5.0             1.0                 0.0   \n326     210.0                 5.0             0.5                 0.0   \n327     320.0                10.0             1.0                 0.5   \n328     260.0                 5.0             1.0                 0.0   \n329     210.0                 5.0             0.5                 0.0   \n\n     Trans Fat\\n(g)  Cholesterol\\n(mg)  Sodium \\n(mg)  Carbs\\n(g)  Fiber\\n(g)  \\\n0               0.5               25.0          520.0        31.0         2.0   \n1               0.5               40.0          750.0        33.0         2.0   \n2               1.5               80.0         1150.0        34.0         2.0   \n3               1.0               65.0          920.0        33.0         2.0   \n4               1.5               90.0         1190.0        40.0         3.0   \n..              ...                ...            ...         ...         ...   \n325             0.0                5.0           40.0        60.0         3.0   \n326             0.0                5.0           35.0        49.0         2.0   \n327             0.0                5.0           45.0        75.0         4.0   \n328             0.0                5.0           35.0        60.0         4.0   \n329             0.0                5.0           30.0        48.0         3.0   \n\n     Sugars\\n(g)  Protein\\n(g)  Weight Watchers\\nPnts  \n0            6.0          12.0                  247.5  \n1            6.0          15.0                  297.0  \n2            7.0          25.0                  433.0  \n3            7.0          22.0                  383.0  \n4            9.0          29.0                  502.0  \n..           ...           ...                    ...  \n325         54.0           2.0                  312.0  \n326         44.0           2.0                  252.0  \n327         69.0           3.0                  386.5  \n328         55.0           3.0                  312.0  \n329         44.0           2.0                  252.0  \n\n[328 rows x 12 columns]",
      "text/html": "<div>\n<style scoped>\n    .dataframe tbody tr th:only-of-type {\n        vertical-align: middle;\n    }\n\n    .dataframe tbody tr th {\n        vertical-align: top;\n    }\n\n    .dataframe thead th {\n        text-align: right;\n    }\n</style>\n<table border=\"1\" class=\"dataframe\">\n  <thead>\n    <tr style=\"text-align: right;\">\n      <th></th>\n      <th>Calories</th>\n      <th>Calories from\\nFat</th>\n      <th>Total Fat\\n(g)</th>\n      <th>Saturated Fat\\n(g)</th>\n      <th>Trans Fat\\n(g)</th>\n      <th>Cholesterol\\n(mg)</th>\n      <th>Sodium \\n(mg)</th>\n      <th>Carbs\\n(g)</th>\n      <th>Fiber\\n(g)</th>\n      <th>Sugars\\n(g)</th>\n      <th>Protein\\n(g)</th>\n      <th>Weight Watchers\\nPnts</th>\n    </tr>\n  </thead>\n  <tbody>\n    <tr>\n      <th>0</th>\n      <td>250.0</td>\n      <td>80.0</td>\n      <td>9.0</td>\n      <td>3.5</td>\n      <td>0.5</td>\n      <td>25.0</td>\n      <td>520.0</td>\n      <td>31.0</td>\n      <td>2.0</td>\n      <td>6.0</td>\n      <td>12.0</td>\n      <td>247.5</td>\n    </tr>\n    <tr>\n      <th>1</th>\n      <td>300.0</td>\n      <td>110.0</td>\n      <td>12.0</td>\n      <td>6.0</td>\n      <td>0.5</td>\n      <td>40.0</td>\n      <td>750.0</td>\n      <td>33.0</td>\n      <td>2.0</td>\n      <td>6.0</td>\n      <td>15.0</td>\n      <td>297.0</td>\n    </tr>\n    <tr>\n      <th>2</th>\n      <td>440.0</td>\n      <td>210.0</td>\n      <td>23.0</td>\n      <td>11.0</td>\n      <td>1.5</td>\n      <td>80.0</td>\n      <td>1150.0</td>\n      <td>34.0</td>\n      <td>2.0</td>\n      <td>7.0</td>\n      <td>25.0</td>\n      <td>433.0</td>\n    </tr>\n    <tr>\n      <th>3</th>\n      <td>390.0</td>\n      <td>170.0</td>\n      <td>19.0</td>\n      <td>8.0</td>\n      <td>1.0</td>\n      <td>65.0</td>\n      <td>920.0</td>\n      <td>33.0</td>\n      <td>2.0</td>\n      <td>7.0</td>\n      <td>22.0</td>\n      <td>383.0</td>\n    </tr>\n    <tr>\n      <th>4</th>\n      <td>510.0</td>\n      <td>230.0</td>\n      <td>26.0</td>\n      <td>12.0</td>\n      <td>1.5</td>\n      <td>90.0</td>\n      <td>1190.0</td>\n      <td>40.0</td>\n      <td>3.0</td>\n      <td>9.0</td>\n      <td>29.0</td>\n      <td>502.0</td>\n    </tr>\n    <tr>\n      <th>...</th>\n      <td>...</td>\n      <td>...</td>\n      <td>...</td>\n      <td>...</td>\n      <td>...</td>\n      <td>...</td>\n      <td>...</td>\n      <td>...</td>\n      <td>...</td>\n      <td>...</td>\n      <td>...</td>\n      <td>...</td>\n    </tr>\n    <tr>\n      <th>325</th>\n      <td>260.0</td>\n      <td>5.0</td>\n      <td>1.0</td>\n      <td>0.0</td>\n      <td>0.0</td>\n      <td>5.0</td>\n      <td>40.0</td>\n      <td>60.0</td>\n      <td>3.0</td>\n      <td>54.0</td>\n      <td>2.0</td>\n      <td>312.0</td>\n    </tr>\n    <tr>\n      <th>326</th>\n      <td>210.0</td>\n      <td>5.0</td>\n      <td>0.5</td>\n      <td>0.0</td>\n      <td>0.0</td>\n      <td>5.0</td>\n      <td>35.0</td>\n      <td>49.0</td>\n      <td>2.0</td>\n      <td>44.0</td>\n      <td>2.0</td>\n      <td>252.0</td>\n    </tr>\n    <tr>\n      <th>327</th>\n      <td>320.0</td>\n      <td>10.0</td>\n      <td>1.0</td>\n      <td>0.5</td>\n      <td>0.0</td>\n      <td>5.0</td>\n      <td>45.0</td>\n      <td>75.0</td>\n      <td>4.0</td>\n      <td>69.0</td>\n      <td>3.0</td>\n      <td>386.5</td>\n    </tr>\n    <tr>\n      <th>328</th>\n      <td>260.0</td>\n      <td>5.0</td>\n      <td>1.0</td>\n      <td>0.0</td>\n      <td>0.0</td>\n      <td>5.0</td>\n      <td>35.0</td>\n      <td>60.0</td>\n      <td>4.0</td>\n      <td>55.0</td>\n      <td>3.0</td>\n      <td>312.0</td>\n    </tr>\n    <tr>\n      <th>329</th>\n      <td>210.0</td>\n      <td>5.0</td>\n      <td>0.5</td>\n      <td>0.0</td>\n      <td>0.0</td>\n      <td>5.0</td>\n      <td>30.0</td>\n      <td>48.0</td>\n      <td>3.0</td>\n      <td>44.0</td>\n      <td>2.0</td>\n      <td>252.0</td>\n    </tr>\n  </tbody>\n</table>\n<p>328 rows × 12 columns</p>\n</div>"
     },
     "execution_count": 14,
     "metadata": {},
     "output_type": "execute_result"
    }
   ],
   "source": [
    "numeric_data = data.loc[:, ~(data.dtypes=='object')]\n",
    "numeric_data"
   ],
   "metadata": {
    "collapsed": false,
    "pycharm": {
     "name": "#%%\n"
    }
   }
  },
  {
   "cell_type": "code",
   "execution_count": 15,
   "outputs": [
    {
     "data": {
      "text/plain": "          Calories  Calories from\\nFat  Total Fat\\n(g)  Saturated Fat\\n(g)  \\\ncount   328.000000          325.000000      328.000000          328.000000   \nmean    284.618902           88.800000        9.987805            4.423780   \nstd     218.601528           99.605425       11.046254            4.797934   \nmin       0.000000            0.000000        0.000000            0.000000   \n25%     140.000000            0.000000        0.000000            0.000000   \n50%     235.000000           60.000000        7.000000            3.500000   \n75%     390.000000          150.000000       16.250000            7.000000   \nmax    1160.000000          540.000000       60.000000           20.000000   \n\n       Trans Fat\\n(g)  Cholesterol\\n(mg)  Sodium \\n(mg)  Carbs\\n(g)  \\\ncount      328.000000         328.000000     328.000000  328.000000   \nmean         0.193598          40.228659     338.460366   40.009146   \nstd          0.475570          79.274382     436.204780   30.975820   \nmin          0.000000           0.000000       0.000000    0.000000   \n25%          0.000000           5.000000      85.000000   20.000000   \n50%          0.000000          20.000000     145.000000   36.000000   \n75%          0.000000          40.000000     350.000000   49.250000   \nmax          2.500000         575.000000    2260.000000  203.000000   \n\n       Fiber\\n(g)  Sugars\\n(g)  Protein\\n(g)  Weight Watchers\\nPnts  \ncount  328.000000   328.000000    328.000000             325.000000  \nmean     0.881098    28.103659      9.432927             306.426154  \nstd      1.444554    28.574837      9.412160             232.483311  \nmin      0.000000     0.000000      0.000000               0.000000  \n25%      0.000000     6.000000      2.000000             153.500000  \n50%      0.000000    18.000000      7.000000             267.000000  \n75%      1.250000    43.000000     13.000000             395.000000  \nmax      7.000000   168.000000     48.000000            1317.000000  ",
      "text/html": "<div>\n<style scoped>\n    .dataframe tbody tr th:only-of-type {\n        vertical-align: middle;\n    }\n\n    .dataframe tbody tr th {\n        vertical-align: top;\n    }\n\n    .dataframe thead th {\n        text-align: right;\n    }\n</style>\n<table border=\"1\" class=\"dataframe\">\n  <thead>\n    <tr style=\"text-align: right;\">\n      <th></th>\n      <th>Calories</th>\n      <th>Calories from\\nFat</th>\n      <th>Total Fat\\n(g)</th>\n      <th>Saturated Fat\\n(g)</th>\n      <th>Trans Fat\\n(g)</th>\n      <th>Cholesterol\\n(mg)</th>\n      <th>Sodium \\n(mg)</th>\n      <th>Carbs\\n(g)</th>\n      <th>Fiber\\n(g)</th>\n      <th>Sugars\\n(g)</th>\n      <th>Protein\\n(g)</th>\n      <th>Weight Watchers\\nPnts</th>\n    </tr>\n  </thead>\n  <tbody>\n    <tr>\n      <th>count</th>\n      <td>328.000000</td>\n      <td>325.000000</td>\n      <td>328.000000</td>\n      <td>328.000000</td>\n      <td>328.000000</td>\n      <td>328.000000</td>\n      <td>328.000000</td>\n      <td>328.000000</td>\n      <td>328.000000</td>\n      <td>328.000000</td>\n      <td>328.000000</td>\n      <td>325.000000</td>\n    </tr>\n    <tr>\n      <th>mean</th>\n      <td>284.618902</td>\n      <td>88.800000</td>\n      <td>9.987805</td>\n      <td>4.423780</td>\n      <td>0.193598</td>\n      <td>40.228659</td>\n      <td>338.460366</td>\n      <td>40.009146</td>\n      <td>0.881098</td>\n      <td>28.103659</td>\n      <td>9.432927</td>\n      <td>306.426154</td>\n    </tr>\n    <tr>\n      <th>std</th>\n      <td>218.601528</td>\n      <td>99.605425</td>\n      <td>11.046254</td>\n      <td>4.797934</td>\n      <td>0.475570</td>\n      <td>79.274382</td>\n      <td>436.204780</td>\n      <td>30.975820</td>\n      <td>1.444554</td>\n      <td>28.574837</td>\n      <td>9.412160</td>\n      <td>232.483311</td>\n    </tr>\n    <tr>\n      <th>min</th>\n      <td>0.000000</td>\n      <td>0.000000</td>\n      <td>0.000000</td>\n      <td>0.000000</td>\n      <td>0.000000</td>\n      <td>0.000000</td>\n      <td>0.000000</td>\n      <td>0.000000</td>\n      <td>0.000000</td>\n      <td>0.000000</td>\n      <td>0.000000</td>\n      <td>0.000000</td>\n    </tr>\n    <tr>\n      <th>25%</th>\n      <td>140.000000</td>\n      <td>0.000000</td>\n      <td>0.000000</td>\n      <td>0.000000</td>\n      <td>0.000000</td>\n      <td>5.000000</td>\n      <td>85.000000</td>\n      <td>20.000000</td>\n      <td>0.000000</td>\n      <td>6.000000</td>\n      <td>2.000000</td>\n      <td>153.500000</td>\n    </tr>\n    <tr>\n      <th>50%</th>\n      <td>235.000000</td>\n      <td>60.000000</td>\n      <td>7.000000</td>\n      <td>3.500000</td>\n      <td>0.000000</td>\n      <td>20.000000</td>\n      <td>145.000000</td>\n      <td>36.000000</td>\n      <td>0.000000</td>\n      <td>18.000000</td>\n      <td>7.000000</td>\n      <td>267.000000</td>\n    </tr>\n    <tr>\n      <th>75%</th>\n      <td>390.000000</td>\n      <td>150.000000</td>\n      <td>16.250000</td>\n      <td>7.000000</td>\n      <td>0.000000</td>\n      <td>40.000000</td>\n      <td>350.000000</td>\n      <td>49.250000</td>\n      <td>1.250000</td>\n      <td>43.000000</td>\n      <td>13.000000</td>\n      <td>395.000000</td>\n    </tr>\n    <tr>\n      <th>max</th>\n      <td>1160.000000</td>\n      <td>540.000000</td>\n      <td>60.000000</td>\n      <td>20.000000</td>\n      <td>2.500000</td>\n      <td>575.000000</td>\n      <td>2260.000000</td>\n      <td>203.000000</td>\n      <td>7.000000</td>\n      <td>168.000000</td>\n      <td>48.000000</td>\n      <td>1317.000000</td>\n    </tr>\n  </tbody>\n</table>\n</div>"
     },
     "execution_count": 15,
     "metadata": {},
     "output_type": "execute_result"
    }
   ],
   "source": [
    "numeric_data.describe()"
   ],
   "metadata": {
    "collapsed": false,
    "pycharm": {
     "name": "#%%\n"
    }
   }
  },
  {
   "cell_type": "code",
   "execution_count": 16,
   "outputs": [
    {
     "data": {
      "text/plain": "         Calories  Calories from\\nFat  Total Fat\\n(g)  Saturated Fat\\n(g)  \\\ncount  328.000000          325.000000      328.000000          328.000000   \nmean     0.245361            0.164444        0.166463            0.221189   \nstd      0.188450            0.184454        0.184104            0.239897   \nmin      0.000000            0.000000        0.000000            0.000000   \n25%      0.120690            0.000000        0.000000            0.000000   \n50%      0.202586            0.111111        0.116667            0.175000   \n75%      0.336207            0.277778        0.270833            0.350000   \nmax      1.000000            1.000000        1.000000            1.000000   \n\n       Trans Fat\\n(g)  Cholesterol\\n(mg)  Sodium \\n(mg)  Carbs\\n(g)  \\\ncount      328.000000         328.000000     328.000000  328.000000   \nmean         0.077439           0.069963       0.149761    0.197089   \nstd          0.190228           0.137868       0.193011    0.152590   \nmin          0.000000           0.000000       0.000000    0.000000   \n25%          0.000000           0.008696       0.037611    0.098522   \n50%          0.000000           0.034783       0.064159    0.177340   \n75%          0.000000           0.069565       0.154867    0.242611   \nmax          1.000000           1.000000       1.000000    1.000000   \n\n       Fiber\\n(g)  Sugars\\n(g)  Protein\\n(g)  Weight Watchers\\nPnts  \ncount  328.000000   328.000000    328.000000             325.000000  \nmean     0.125871     0.167284      0.196519               0.232670  \nstd      0.206365     0.170088      0.196087               0.176525  \nmin      0.000000     0.000000      0.000000               0.000000  \n25%      0.000000     0.035714      0.041667               0.116553  \n50%      0.000000     0.107143      0.145833               0.202733  \n75%      0.178571     0.255952      0.270833               0.299924  \nmax      1.000000     1.000000      1.000000               1.000000  ",
      "text/html": "<div>\n<style scoped>\n    .dataframe tbody tr th:only-of-type {\n        vertical-align: middle;\n    }\n\n    .dataframe tbody tr th {\n        vertical-align: top;\n    }\n\n    .dataframe thead th {\n        text-align: right;\n    }\n</style>\n<table border=\"1\" class=\"dataframe\">\n  <thead>\n    <tr style=\"text-align: right;\">\n      <th></th>\n      <th>Calories</th>\n      <th>Calories from\\nFat</th>\n      <th>Total Fat\\n(g)</th>\n      <th>Saturated Fat\\n(g)</th>\n      <th>Trans Fat\\n(g)</th>\n      <th>Cholesterol\\n(mg)</th>\n      <th>Sodium \\n(mg)</th>\n      <th>Carbs\\n(g)</th>\n      <th>Fiber\\n(g)</th>\n      <th>Sugars\\n(g)</th>\n      <th>Protein\\n(g)</th>\n      <th>Weight Watchers\\nPnts</th>\n    </tr>\n  </thead>\n  <tbody>\n    <tr>\n      <th>count</th>\n      <td>328.000000</td>\n      <td>325.000000</td>\n      <td>328.000000</td>\n      <td>328.000000</td>\n      <td>328.000000</td>\n      <td>328.000000</td>\n      <td>328.000000</td>\n      <td>328.000000</td>\n      <td>328.000000</td>\n      <td>328.000000</td>\n      <td>328.000000</td>\n      <td>325.000000</td>\n    </tr>\n    <tr>\n      <th>mean</th>\n      <td>0.245361</td>\n      <td>0.164444</td>\n      <td>0.166463</td>\n      <td>0.221189</td>\n      <td>0.077439</td>\n      <td>0.069963</td>\n      <td>0.149761</td>\n      <td>0.197089</td>\n      <td>0.125871</td>\n      <td>0.167284</td>\n      <td>0.196519</td>\n      <td>0.232670</td>\n    </tr>\n    <tr>\n      <th>std</th>\n      <td>0.188450</td>\n      <td>0.184454</td>\n      <td>0.184104</td>\n      <td>0.239897</td>\n      <td>0.190228</td>\n      <td>0.137868</td>\n      <td>0.193011</td>\n      <td>0.152590</td>\n      <td>0.206365</td>\n      <td>0.170088</td>\n      <td>0.196087</td>\n      <td>0.176525</td>\n    </tr>\n    <tr>\n      <th>min</th>\n      <td>0.000000</td>\n      <td>0.000000</td>\n      <td>0.000000</td>\n      <td>0.000000</td>\n      <td>0.000000</td>\n      <td>0.000000</td>\n      <td>0.000000</td>\n      <td>0.000000</td>\n      <td>0.000000</td>\n      <td>0.000000</td>\n      <td>0.000000</td>\n      <td>0.000000</td>\n    </tr>\n    <tr>\n      <th>25%</th>\n      <td>0.120690</td>\n      <td>0.000000</td>\n      <td>0.000000</td>\n      <td>0.000000</td>\n      <td>0.000000</td>\n      <td>0.008696</td>\n      <td>0.037611</td>\n      <td>0.098522</td>\n      <td>0.000000</td>\n      <td>0.035714</td>\n      <td>0.041667</td>\n      <td>0.116553</td>\n    </tr>\n    <tr>\n      <th>50%</th>\n      <td>0.202586</td>\n      <td>0.111111</td>\n      <td>0.116667</td>\n      <td>0.175000</td>\n      <td>0.000000</td>\n      <td>0.034783</td>\n      <td>0.064159</td>\n      <td>0.177340</td>\n      <td>0.000000</td>\n      <td>0.107143</td>\n      <td>0.145833</td>\n      <td>0.202733</td>\n    </tr>\n    <tr>\n      <th>75%</th>\n      <td>0.336207</td>\n      <td>0.277778</td>\n      <td>0.270833</td>\n      <td>0.350000</td>\n      <td>0.000000</td>\n      <td>0.069565</td>\n      <td>0.154867</td>\n      <td>0.242611</td>\n      <td>0.178571</td>\n      <td>0.255952</td>\n      <td>0.270833</td>\n      <td>0.299924</td>\n    </tr>\n    <tr>\n      <th>max</th>\n      <td>1.000000</td>\n      <td>1.000000</td>\n      <td>1.000000</td>\n      <td>1.000000</td>\n      <td>1.000000</td>\n      <td>1.000000</td>\n      <td>1.000000</td>\n      <td>1.000000</td>\n      <td>1.000000</td>\n      <td>1.000000</td>\n      <td>1.000000</td>\n      <td>1.000000</td>\n    </tr>\n  </tbody>\n</table>\n</div>"
     },
     "execution_count": 16,
     "metadata": {},
     "output_type": "execute_result"
    }
   ],
   "source": [
    "numeric_data = (numeric_data-numeric_data.min())/(numeric_data.max() - numeric_data.min())\n",
    "numeric_data.describe()"
   ],
   "metadata": {
    "collapsed": false,
    "pycharm": {
     "name": "#%%\n"
    }
   }
  },
  {
   "cell_type": "code",
   "execution_count": 17,
   "outputs": [
    {
     "data": {
      "text/plain": "   Calories  Calories from\\nFat  Total Fat\\n(g)  Saturated Fat\\n(g)  \\\n0  0.215517            0.148148        0.150000               0.175   \n1  0.258621            0.203704        0.200000               0.300   \n2  0.379310            0.388889        0.383333               0.550   \n3  0.336207            0.314815        0.316667               0.400   \n4  0.439655            0.425926        0.433333               0.600   \n\n   Trans Fat\\n(g)  Cholesterol\\n(mg)  Sodium \\n(mg)  Carbs\\n(g)  Fiber\\n(g)  \\\n0             0.2           0.043478       0.230088    0.152709    0.285714   \n1             0.2           0.069565       0.331858    0.162562    0.285714   \n2             0.6           0.139130       0.508850    0.167488    0.285714   \n3             0.4           0.113043       0.407080    0.162562    0.285714   \n4             0.6           0.156522       0.526549    0.197044    0.428571   \n\n   Sugars\\n(g)  Protein\\n(g)  Weight Watchers\\nPnts  \n0     0.035714      0.250000               0.187927  \n1     0.035714      0.312500               0.225513  \n2     0.041667      0.520833               0.328778  \n3     0.041667      0.458333               0.290812  \n4     0.053571      0.604167               0.381169  ",
      "text/html": "<div>\n<style scoped>\n    .dataframe tbody tr th:only-of-type {\n        vertical-align: middle;\n    }\n\n    .dataframe tbody tr th {\n        vertical-align: top;\n    }\n\n    .dataframe thead th {\n        text-align: right;\n    }\n</style>\n<table border=\"1\" class=\"dataframe\">\n  <thead>\n    <tr style=\"text-align: right;\">\n      <th></th>\n      <th>Calories</th>\n      <th>Calories from\\nFat</th>\n      <th>Total Fat\\n(g)</th>\n      <th>Saturated Fat\\n(g)</th>\n      <th>Trans Fat\\n(g)</th>\n      <th>Cholesterol\\n(mg)</th>\n      <th>Sodium \\n(mg)</th>\n      <th>Carbs\\n(g)</th>\n      <th>Fiber\\n(g)</th>\n      <th>Sugars\\n(g)</th>\n      <th>Protein\\n(g)</th>\n      <th>Weight Watchers\\nPnts</th>\n    </tr>\n  </thead>\n  <tbody>\n    <tr>\n      <th>0</th>\n      <td>0.215517</td>\n      <td>0.148148</td>\n      <td>0.150000</td>\n      <td>0.175</td>\n      <td>0.2</td>\n      <td>0.043478</td>\n      <td>0.230088</td>\n      <td>0.152709</td>\n      <td>0.285714</td>\n      <td>0.035714</td>\n      <td>0.250000</td>\n      <td>0.187927</td>\n    </tr>\n    <tr>\n      <th>1</th>\n      <td>0.258621</td>\n      <td>0.203704</td>\n      <td>0.200000</td>\n      <td>0.300</td>\n      <td>0.2</td>\n      <td>0.069565</td>\n      <td>0.331858</td>\n      <td>0.162562</td>\n      <td>0.285714</td>\n      <td>0.035714</td>\n      <td>0.312500</td>\n      <td>0.225513</td>\n    </tr>\n    <tr>\n      <th>2</th>\n      <td>0.379310</td>\n      <td>0.388889</td>\n      <td>0.383333</td>\n      <td>0.550</td>\n      <td>0.6</td>\n      <td>0.139130</td>\n      <td>0.508850</td>\n      <td>0.167488</td>\n      <td>0.285714</td>\n      <td>0.041667</td>\n      <td>0.520833</td>\n      <td>0.328778</td>\n    </tr>\n    <tr>\n      <th>3</th>\n      <td>0.336207</td>\n      <td>0.314815</td>\n      <td>0.316667</td>\n      <td>0.400</td>\n      <td>0.4</td>\n      <td>0.113043</td>\n      <td>0.407080</td>\n      <td>0.162562</td>\n      <td>0.285714</td>\n      <td>0.041667</td>\n      <td>0.458333</td>\n      <td>0.290812</td>\n    </tr>\n    <tr>\n      <th>4</th>\n      <td>0.439655</td>\n      <td>0.425926</td>\n      <td>0.433333</td>\n      <td>0.600</td>\n      <td>0.6</td>\n      <td>0.156522</td>\n      <td>0.526549</td>\n      <td>0.197044</td>\n      <td>0.428571</td>\n      <td>0.053571</td>\n      <td>0.604167</td>\n      <td>0.381169</td>\n    </tr>\n  </tbody>\n</table>\n</div>"
     },
     "execution_count": 17,
     "metadata": {},
     "output_type": "execute_result"
    }
   ],
   "source": [
    "numeric_data.head()"
   ],
   "metadata": {
    "collapsed": false,
    "pycharm": {
     "name": "#%%\n"
    }
   }
  },
  {
   "cell_type": "code",
   "execution_count": 18,
   "outputs": [
    {
     "data": {
      "text/plain": "Calories                 0.258621\nCalories from\\nFat       0.203704\nTotal Fat\\n(g)           0.200000\nSaturated Fat\\n(g)       0.300000\nTrans Fat\\n(g)           0.200000\nCholesterol\\n(mg)        0.069565\nSodium \\n(mg)            0.331858\nCarbs\\n(g)               0.162562\nFiber\\n(g)               0.285714\nSugars\\n(g)              0.035714\nProtein\\n(g)             0.312500\nWeight Watchers\\nPnts    0.225513\nName: 1, dtype: float64"
     },
     "execution_count": 18,
     "metadata": {},
     "output_type": "execute_result"
    }
   ],
   "source": [
    "target = numeric_data.iloc[1]\n",
    "target"
   ],
   "metadata": {
    "collapsed": false,
    "pycharm": {
     "name": "#%%\n"
    }
   }
  },
  {
   "cell_type": "code",
   "execution_count": 19,
   "id": "491d3a04",
   "metadata": {},
   "outputs": [
    {
     "data": {
      "text/plain": "                            Item  Calories  Calories from\\nFat  \\\n0                      Hamburger     250.0                80.0   \n1                   Cheeseburger     300.0               110.0   \n2            Double Cheeseburger     440.0               210.0   \n3                       McDouble     390.0               170.0   \n4   Quarter Pounder® with Cheese     510.0               230.0   \n\n   Total Fat\\n(g)  Saturated Fat\\n(g)  Trans Fat\\n(g)  Cholesterol\\n(mg)  \\\n0             9.0                 3.5             0.5               25.0   \n1            12.0                 6.0             0.5               40.0   \n2            23.0                11.0             1.5               80.0   \n3            19.0                 8.0             1.0               65.0   \n4            26.0                12.0             1.5               90.0   \n\n   Sodium \\n(mg)  Carbs\\n(g)  Fiber\\n(g)  Sugars\\n(g)  Protein\\n(g)  \\\n0          520.0        31.0         2.0          6.0          12.0   \n1          750.0        33.0         2.0          6.0          15.0   \n2         1150.0        34.0         2.0          7.0          25.0   \n3          920.0        33.0         2.0          7.0          22.0   \n4         1190.0        40.0         3.0          9.0          29.0   \n\n   Weight Watchers\\nPnts  distance   rank  \n0                  247.5  0.511454    2.0  \n1                  297.0  0.000000    1.0  \n2                  433.0  1.708241  128.0  \n3                  383.0  0.941149   15.0  \n4                  502.0  2.260757  235.0  ",
      "text/html": "<div>\n<style scoped>\n    .dataframe tbody tr th:only-of-type {\n        vertical-align: middle;\n    }\n\n    .dataframe tbody tr th {\n        vertical-align: top;\n    }\n\n    .dataframe thead th {\n        text-align: right;\n    }\n</style>\n<table border=\"1\" class=\"dataframe\">\n  <thead>\n    <tr style=\"text-align: right;\">\n      <th></th>\n      <th>Item</th>\n      <th>Calories</th>\n      <th>Calories from\\nFat</th>\n      <th>Total Fat\\n(g)</th>\n      <th>Saturated Fat\\n(g)</th>\n      <th>Trans Fat\\n(g)</th>\n      <th>Cholesterol\\n(mg)</th>\n      <th>Sodium \\n(mg)</th>\n      <th>Carbs\\n(g)</th>\n      <th>Fiber\\n(g)</th>\n      <th>Sugars\\n(g)</th>\n      <th>Protein\\n(g)</th>\n      <th>Weight Watchers\\nPnts</th>\n      <th>distance</th>\n      <th>rank</th>\n    </tr>\n  </thead>\n  <tbody>\n    <tr>\n      <th>0</th>\n      <td>Hamburger</td>\n      <td>250.0</td>\n      <td>80.0</td>\n      <td>9.0</td>\n      <td>3.5</td>\n      <td>0.5</td>\n      <td>25.0</td>\n      <td>520.0</td>\n      <td>31.0</td>\n      <td>2.0</td>\n      <td>6.0</td>\n      <td>12.0</td>\n      <td>247.5</td>\n      <td>0.511454</td>\n      <td>2.0</td>\n    </tr>\n    <tr>\n      <th>1</th>\n      <td>Cheeseburger</td>\n      <td>300.0</td>\n      <td>110.0</td>\n      <td>12.0</td>\n      <td>6.0</td>\n      <td>0.5</td>\n      <td>40.0</td>\n      <td>750.0</td>\n      <td>33.0</td>\n      <td>2.0</td>\n      <td>6.0</td>\n      <td>15.0</td>\n      <td>297.0</td>\n      <td>0.000000</td>\n      <td>1.0</td>\n    </tr>\n    <tr>\n      <th>2</th>\n      <td>Double Cheeseburger</td>\n      <td>440.0</td>\n      <td>210.0</td>\n      <td>23.0</td>\n      <td>11.0</td>\n      <td>1.5</td>\n      <td>80.0</td>\n      <td>1150.0</td>\n      <td>34.0</td>\n      <td>2.0</td>\n      <td>7.0</td>\n      <td>25.0</td>\n      <td>433.0</td>\n      <td>1.708241</td>\n      <td>128.0</td>\n    </tr>\n    <tr>\n      <th>3</th>\n      <td>McDouble</td>\n      <td>390.0</td>\n      <td>170.0</td>\n      <td>19.0</td>\n      <td>8.0</td>\n      <td>1.0</td>\n      <td>65.0</td>\n      <td>920.0</td>\n      <td>33.0</td>\n      <td>2.0</td>\n      <td>7.0</td>\n      <td>22.0</td>\n      <td>383.0</td>\n      <td>0.941149</td>\n      <td>15.0</td>\n    </tr>\n    <tr>\n      <th>4</th>\n      <td>Quarter Pounder® with Cheese</td>\n      <td>510.0</td>\n      <td>230.0</td>\n      <td>26.0</td>\n      <td>12.0</td>\n      <td>1.5</td>\n      <td>90.0</td>\n      <td>1190.0</td>\n      <td>40.0</td>\n      <td>3.0</td>\n      <td>9.0</td>\n      <td>29.0</td>\n      <td>502.0</td>\n      <td>2.260757</td>\n      <td>235.0</td>\n    </tr>\n  </tbody>\n</table>\n</div>"
     },
     "execution_count": 19,
     "metadata": {},
     "output_type": "execute_result"
    }
   ],
   "source": [
    "## TO-DO: Chesseburget와 가장 비슷한 메뉴를 euclidean_distance 기준으로 찾기!\n",
    "target = numeric_data.iloc[1] # 치즈버거\n",
    "\n",
    "data['distance'] = numeric_data.apply(lambda s: manhattan_distance(target.to_numpy(), s.to_numpy()), axis=1) # manhattan_distance(target.to_numpy(), s.to_numpy())\n",
    "data['rank'] = data['distance'].rank()\n",
    "data.head()"
   ]
  },
  {
   "cell_type": "code",
   "execution_count": 20,
   "outputs": [
    {
     "data": {
      "text/plain": "                                  Item  Calories  Calories from\\nFat  \\\n0                            Hamburger     250.0                80.0   \n24  Honey Mustard Snack Wrap® (Crispy)     330.0               140.0   \n26   Chipotle BBQ Snack Wrap® (Crispy)     330.0               140.0   \n\n    Total Fat\\n(g)  Saturated Fat\\n(g)  Trans Fat\\n(g)  Cholesterol\\n(mg)  \\\n0              9.0                 3.5             0.5               25.0   \n24            16.0                 4.5             0.0               30.0   \n26            15.0                 4.5             0.0               30.0   \n\n    Sodium \\n(mg)  Carbs\\n(g)  Fiber\\n(g)  Sugars\\n(g)  Protein\\n(g)  \\\n0           520.0        31.0         2.0          6.0          12.0   \n24          780.0        34.0         1.0          4.0          14.0   \n26          810.0        35.0         1.0          4.0          14.0   \n\n    Weight Watchers\\nPnts  distance  rank  \n0                   247.5  0.511454   2.0  \n24                  324.5  0.655152   3.0  \n26                  324.5  0.656686   4.0  ",
      "text/html": "<div>\n<style scoped>\n    .dataframe tbody tr th:only-of-type {\n        vertical-align: middle;\n    }\n\n    .dataframe tbody tr th {\n        vertical-align: top;\n    }\n\n    .dataframe thead th {\n        text-align: right;\n    }\n</style>\n<table border=\"1\" class=\"dataframe\">\n  <thead>\n    <tr style=\"text-align: right;\">\n      <th></th>\n      <th>Item</th>\n      <th>Calories</th>\n      <th>Calories from\\nFat</th>\n      <th>Total Fat\\n(g)</th>\n      <th>Saturated Fat\\n(g)</th>\n      <th>Trans Fat\\n(g)</th>\n      <th>Cholesterol\\n(mg)</th>\n      <th>Sodium \\n(mg)</th>\n      <th>Carbs\\n(g)</th>\n      <th>Fiber\\n(g)</th>\n      <th>Sugars\\n(g)</th>\n      <th>Protein\\n(g)</th>\n      <th>Weight Watchers\\nPnts</th>\n      <th>distance</th>\n      <th>rank</th>\n    </tr>\n  </thead>\n  <tbody>\n    <tr>\n      <th>0</th>\n      <td>Hamburger</td>\n      <td>250.0</td>\n      <td>80.0</td>\n      <td>9.0</td>\n      <td>3.5</td>\n      <td>0.5</td>\n      <td>25.0</td>\n      <td>520.0</td>\n      <td>31.0</td>\n      <td>2.0</td>\n      <td>6.0</td>\n      <td>12.0</td>\n      <td>247.5</td>\n      <td>0.511454</td>\n      <td>2.0</td>\n    </tr>\n    <tr>\n      <th>24</th>\n      <td>Honey Mustard Snack Wrap® (Crispy)</td>\n      <td>330.0</td>\n      <td>140.0</td>\n      <td>16.0</td>\n      <td>4.5</td>\n      <td>0.0</td>\n      <td>30.0</td>\n      <td>780.0</td>\n      <td>34.0</td>\n      <td>1.0</td>\n      <td>4.0</td>\n      <td>14.0</td>\n      <td>324.5</td>\n      <td>0.655152</td>\n      <td>3.0</td>\n    </tr>\n    <tr>\n      <th>26</th>\n      <td>Chipotle BBQ Snack Wrap® (Crispy)</td>\n      <td>330.0</td>\n      <td>140.0</td>\n      <td>15.0</td>\n      <td>4.5</td>\n      <td>0.0</td>\n      <td>30.0</td>\n      <td>810.0</td>\n      <td>35.0</td>\n      <td>1.0</td>\n      <td>4.0</td>\n      <td>14.0</td>\n      <td>324.5</td>\n      <td>0.656686</td>\n      <td>4.0</td>\n    </tr>\n  </tbody>\n</table>\n</div>"
     },
     "execution_count": 20,
     "metadata": {},
     "output_type": "execute_result"
    }
   ],
   "source": [
    "data[data['rank']<5].sort_values(by='rank')[1:]"
   ],
   "metadata": {
    "collapsed": false,
    "pycharm": {
     "name": "#%%\n"
    }
   }
  },
  {
   "cell_type": "code",
   "execution_count": 20,
   "id": "b4f9db2a",
   "metadata": {},
   "outputs": [],
   "source": []
  }
 ],
 "metadata": {
  "kernelspec": {
   "display_name": "Python 3 (ipykernel)",
   "language": "python",
   "name": "python3"
  },
  "language_info": {
   "codemirror_mode": {
    "name": "ipython",
    "version": 3
   },
   "file_extension": ".py",
   "mimetype": "text/x-python",
   "name": "python",
   "nbconvert_exporter": "python",
   "pygments_lexer": "ipython3",
   "version": "3.8.13"
  }
 },
 "nbformat": 4,
 "nbformat_minor": 5
}