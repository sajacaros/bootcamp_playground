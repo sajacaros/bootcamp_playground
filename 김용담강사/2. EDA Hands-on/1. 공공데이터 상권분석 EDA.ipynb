{
 "cells": [
  {
   "cell_type": "markdown",
   "id": "9db5b6ca",
   "metadata": {},
   "source": [
    "### 소상공인상권정보 데이터로 국내에 있는 음식점 현황 및 트렌드를 파악해봅시다.\n",
    "\n",
    "[데이터 링크] https://www.data.go.kr/data/15083033/fileData.do\n",
    "\n",
    "1. 한식 / 일식 / 중식 음식점 비율 찾기\n",
    "\n",
    "\n",
    "2. 각 지역별 음식점 비율 계산해보기\n",
    "\n",
    "\n",
    "3. 한식 음식점들이 많이 사용하는 단어 찾아보기"
   ]
  },
  {
   "cell_type": "code",
   "execution_count": 34,
   "id": "0d51984e",
   "metadata": {},
   "outputs": [
    {
     "name": "stdout",
     "output_type": "stream",
     "text": [
      "Requirement already satisfied: pecab in c:\\users\\dukim\\miniconda3\\envs\\bootcamp\\lib\\site-packages (1.0.8)\n",
      "Requirement already satisfied: wordcloud in c:\\users\\dukim\\miniconda3\\envs\\bootcamp\\lib\\site-packages (1.9.2)\n",
      "Requirement already satisfied: numpy in c:\\users\\dukim\\miniconda3\\envs\\bootcamp\\lib\\site-packages (from pecab) (1.25.2)\n",
      "Requirement already satisfied: pyarrow in c:\\users\\dukim\\miniconda3\\envs\\bootcamp\\lib\\site-packages (from pecab) (12.0.1)\n",
      "Requirement already satisfied: regex in c:\\users\\dukim\\miniconda3\\envs\\bootcamp\\lib\\site-packages (from pecab) (2023.8.8)\n",
      "Requirement already satisfied: emoji==1.2.0 in c:\\users\\dukim\\miniconda3\\envs\\bootcamp\\lib\\site-packages (from pecab) (1.2.0)\n",
      "Requirement already satisfied: pytest in c:\\users\\dukim\\miniconda3\\envs\\bootcamp\\lib\\site-packages (from pecab) (7.4.0)\n",
      "Requirement already satisfied: pillow in c:\\users\\dukim\\miniconda3\\envs\\bootcamp\\lib\\site-packages (from wordcloud) (10.0.0)\n",
      "Requirement already satisfied: matplotlib in c:\\users\\dukim\\miniconda3\\envs\\bootcamp\\lib\\site-packages (from wordcloud) (3.7.1)\n",
      "Requirement already satisfied: contourpy>=1.0.1 in c:\\users\\dukim\\miniconda3\\envs\\bootcamp\\lib\\site-packages (from matplotlib->wordcloud) (1.0.5)\n",
      "Requirement already satisfied: cycler>=0.10 in c:\\users\\dukim\\miniconda3\\envs\\bootcamp\\lib\\site-packages (from matplotlib->wordcloud) (0.11.0)\n",
      "Requirement already satisfied: fonttools>=4.22.0 in c:\\users\\dukim\\miniconda3\\envs\\bootcamp\\lib\\site-packages (from matplotlib->wordcloud) (4.25.0)\n",
      "Requirement already satisfied: kiwisolver>=1.0.1 in c:\\users\\dukim\\miniconda3\\envs\\bootcamp\\lib\\site-packages (from matplotlib->wordcloud) (1.4.4)\n",
      "Requirement already satisfied: packaging>=20.0 in c:\\users\\dukim\\miniconda3\\envs\\bootcamp\\lib\\site-packages (from matplotlib->wordcloud) (23.0)\n",
      "Requirement already satisfied: pyparsing>=2.3.1 in c:\\users\\dukim\\miniconda3\\envs\\bootcamp\\lib\\site-packages (from matplotlib->wordcloud) (3.0.9)\n",
      "Requirement already satisfied: python-dateutil>=2.7 in c:\\users\\dukim\\miniconda3\\envs\\bootcamp\\lib\\site-packages (from matplotlib->wordcloud) (2.8.2)\n",
      "Requirement already satisfied: iniconfig in c:\\users\\dukim\\miniconda3\\envs\\bootcamp\\lib\\site-packages (from pytest->pecab) (2.0.0)\n",
      "Requirement already satisfied: pluggy<2.0,>=0.12 in c:\\users\\dukim\\miniconda3\\envs\\bootcamp\\lib\\site-packages (from pytest->pecab) (1.2.0)\n",
      "Requirement already satisfied: exceptiongroup>=1.0.0rc8 in c:\\users\\dukim\\miniconda3\\envs\\bootcamp\\lib\\site-packages (from pytest->pecab) (1.1.2)\n",
      "Requirement already satisfied: tomli>=1.0.0 in c:\\users\\dukim\\miniconda3\\envs\\bootcamp\\lib\\site-packages (from pytest->pecab) (2.0.1)\n",
      "Requirement already satisfied: colorama in c:\\users\\dukim\\miniconda3\\envs\\bootcamp\\lib\\site-packages (from pytest->pecab) (0.4.6)\n",
      "Requirement already satisfied: six>=1.5 in c:\\users\\dukim\\miniconda3\\envs\\bootcamp\\lib\\site-packages (from python-dateutil>=2.7->matplotlib->wordcloud) (1.16.0)\n"
     ]
    }
   ],
   "source": [
    "# 텍스트 분석에 필요한 라이브러리 설치하기\n",
    "!pip install pecab wordcloud"
   ]
  },
  {
   "cell_type": "code",
   "execution_count": 67,
   "id": "28a5954c",
   "metadata": {},
   "outputs": [],
   "source": [
    "# 필요한 라이브러리를 불러옵니다.\n",
    "import pandas as pd\n",
    "import numpy as np\n",
    "import matplotlib.pyplot as plt\n",
    "import seaborn as sns\n",
    "from glob import glob\n",
    "from tqdm.auto import tqdm"
   ]
  },
  {
   "cell_type": "code",
   "execution_count": 36,
   "id": "c394ed6d",
   "metadata": {
    "scrolled": false
   },
   "outputs": [
    {
     "data": {
      "text/plain": "['./data/상가(상권)정보_20230630/소상공인시장진흥공단_상가(상권)정보_강원_202306.csv',\n './data/상가(상권)정보_20230630/소상공인시장진흥공단_상가(상권)정보_경기_202306.csv',\n './data/상가(상권)정보_20230630/소상공인시장진흥공단_상가(상권)정보_경남_202306.csv',\n './data/상가(상권)정보_20230630/소상공인시장진흥공단_상가(상권)정보_경북_202306.csv',\n './data/상가(상권)정보_20230630/소상공인시장진흥공단_상가(상권)정보_광주_202306.csv',\n './data/상가(상권)정보_20230630/소상공인시장진흥공단_상가(상권)정보_대구_202306.csv',\n './data/상가(상권)정보_20230630/소상공인시장진흥공단_상가(상권)정보_대전_202306.csv',\n './data/상가(상권)정보_20230630/소상공인시장진흥공단_상가(상권)정보_부산_202306.csv',\n './data/상가(상권)정보_20230630/소상공인시장진흥공단_상가(상권)정보_서울_202306.csv',\n './data/상가(상권)정보_20230630/소상공인시장진흥공단_상가(상권)정보_세종_202306.csv',\n './data/상가(상권)정보_20230630/소상공인시장진흥공단_상가(상권)정보_울산_202306.csv',\n './data/상가(상권)정보_20230630/소상공인시장진흥공단_상가(상권)정보_인천_202306.csv',\n './data/상가(상권)정보_20230630/소상공인시장진흥공단_상가(상권)정보_전남_202306.csv',\n './data/상가(상권)정보_20230630/소상공인시장진흥공단_상가(상권)정보_전북_202306.csv',\n './data/상가(상권)정보_20230630/소상공인시장진흥공단_상가(상권)정보_제주_202306.csv',\n './data/상가(상권)정보_20230630/소상공인시장진흥공단_상가(상권)정보_충남_202306.csv',\n './data/상가(상권)정보_20230630/소상공인시장진흥공단_상가(상권)정보_충북_202306.csv']"
     },
     "execution_count": 36,
     "metadata": {},
     "output_type": "execute_result"
    }
   ],
   "source": [
    "# 데이터들을 불러와봅시다.\n",
    "area_list = ['강원', '경기', '경남', '경북', '광주', '대구', '대전', '부산', '서울', '세종', '울산', '인천', '전남', '전북', '제주', '충남', '충북']\n",
    "file_list = [f'./data/상가(상권)정보_20230630/소상공인시장진흥공단_상가(상권)정보_{area}_202306.csv' for area in sorted(area_list)]\n",
    "file_list"
   ]
  },
  {
   "cell_type": "code",
   "execution_count": 37,
   "outputs": [
    {
     "data": {
      "text/plain": "['./data/상가(상권)정보_20230630\\\\소상공인시장진흥공단_상가(상권)정보_강원_202306.csv',\n './data/상가(상권)정보_20230630\\\\소상공인시장진흥공단_상가(상권)정보_경기_202306.csv',\n './data/상가(상권)정보_20230630\\\\소상공인시장진흥공단_상가(상권)정보_경남_202306.csv',\n './data/상가(상권)정보_20230630\\\\소상공인시장진흥공단_상가(상권)정보_경북_202306.csv',\n './data/상가(상권)정보_20230630\\\\소상공인시장진흥공단_상가(상권)정보_광주_202306.csv',\n './data/상가(상권)정보_20230630\\\\소상공인시장진흥공단_상가(상권)정보_대구_202306.csv',\n './data/상가(상권)정보_20230630\\\\소상공인시장진흥공단_상가(상권)정보_대전_202306.csv',\n './data/상가(상권)정보_20230630\\\\소상공인시장진흥공단_상가(상권)정보_부산_202306.csv',\n './data/상가(상권)정보_20230630\\\\소상공인시장진흥공단_상가(상권)정보_서울_202306.csv',\n './data/상가(상권)정보_20230630\\\\소상공인시장진흥공단_상가(상권)정보_세종_202306.csv',\n './data/상가(상권)정보_20230630\\\\소상공인시장진흥공단_상가(상권)정보_울산_202306.csv',\n './data/상가(상권)정보_20230630\\\\소상공인시장진흥공단_상가(상권)정보_인천_202306.csv',\n './data/상가(상권)정보_20230630\\\\소상공인시장진흥공단_상가(상권)정보_전남_202306.csv',\n './data/상가(상권)정보_20230630\\\\소상공인시장진흥공단_상가(상권)정보_전북_202306.csv',\n './data/상가(상권)정보_20230630\\\\소상공인시장진흥공단_상가(상권)정보_제주_202306.csv',\n './data/상가(상권)정보_20230630\\\\소상공인시장진흥공단_상가(상권)정보_충남_202306.csv',\n './data/상가(상권)정보_20230630\\\\소상공인시장진흥공단_상가(상권)정보_충북_202306.csv']"
     },
     "execution_count": 37,
     "metadata": {},
     "output_type": "execute_result"
    }
   ],
   "source": [
    "# glob으로 파일 가져오기\n",
    "file_list = sorted(glob('./data/상가(상권)정보_20230630/*.csv'))\n",
    "file_list"
   ],
   "metadata": {
    "collapsed": false,
    "pycharm": {
     "name": "#%%\n"
    }
   }
  },
  {
   "cell_type": "code",
   "execution_count": 38,
   "outputs": [
    {
     "data": {
      "text/plain": "  0%|          | 0/17 [00:00<?, ?it/s]",
      "application/vnd.jupyter.widget-view+json": {
       "version_major": 2,
       "version_minor": 0,
       "model_id": "cb8ea7705d424827b074af54076ca947"
      }
     },
     "metadata": {},
     "output_type": "display_data"
    },
    {
     "name": "stderr",
     "output_type": "stream",
     "text": [
      "C:\\Users\\dukim\\AppData\\Local\\Temp\\ipykernel_18908\\23371788.py:3: DtypeWarning: Columns (2) have mixed types. Specify dtype option on import or set low_memory=False.\n",
      "  df_tmp = pd.read_csv(filepath)\n",
      "C:\\Users\\dukim\\AppData\\Local\\Temp\\ipykernel_18908\\23371788.py:3: DtypeWarning: Columns (2) have mixed types. Specify dtype option on import or set low_memory=False.\n",
      "  df_tmp = pd.read_csv(filepath)\n",
      "C:\\Users\\dukim\\AppData\\Local\\Temp\\ipykernel_18908\\23371788.py:3: DtypeWarning: Columns (2) have mixed types. Specify dtype option on import or set low_memory=False.\n",
      "  df_tmp = pd.read_csv(filepath)\n",
      "C:\\Users\\dukim\\AppData\\Local\\Temp\\ipykernel_18908\\23371788.py:3: DtypeWarning: Columns (2) have mixed types. Specify dtype option on import or set low_memory=False.\n",
      "  df_tmp = pd.read_csv(filepath)\n",
      "C:\\Users\\dukim\\AppData\\Local\\Temp\\ipykernel_18908\\23371788.py:3: DtypeWarning: Columns (2) have mixed types. Specify dtype option on import or set low_memory=False.\n",
      "  df_tmp = pd.read_csv(filepath)\n",
      "C:\\Users\\dukim\\AppData\\Local\\Temp\\ipykernel_18908\\23371788.py:3: DtypeWarning: Columns (2) have mixed types. Specify dtype option on import or set low_memory=False.\n",
      "  df_tmp = pd.read_csv(filepath)\n",
      "C:\\Users\\dukim\\AppData\\Local\\Temp\\ipykernel_18908\\23371788.py:3: DtypeWarning: Columns (2) have mixed types. Specify dtype option on import or set low_memory=False.\n",
      "  df_tmp = pd.read_csv(filepath)\n",
      "C:\\Users\\dukim\\AppData\\Local\\Temp\\ipykernel_18908\\23371788.py:3: DtypeWarning: Columns (2,35) have mixed types. Specify dtype option on import or set low_memory=False.\n",
      "  df_tmp = pd.read_csv(filepath)\n",
      "C:\\Users\\dukim\\AppData\\Local\\Temp\\ipykernel_18908\\23371788.py:3: DtypeWarning: Columns (2) have mixed types. Specify dtype option on import or set low_memory=False.\n",
      "  df_tmp = pd.read_csv(filepath)\n",
      "C:\\Users\\dukim\\AppData\\Local\\Temp\\ipykernel_18908\\23371788.py:3: DtypeWarning: Columns (2) have mixed types. Specify dtype option on import or set low_memory=False.\n",
      "  df_tmp = pd.read_csv(filepath)\n",
      "C:\\Users\\dukim\\AppData\\Local\\Temp\\ipykernel_18908\\23371788.py:3: DtypeWarning: Columns (2) have mixed types. Specify dtype option on import or set low_memory=False.\n",
      "  df_tmp = pd.read_csv(filepath)\n",
      "C:\\Users\\dukim\\AppData\\Local\\Temp\\ipykernel_18908\\23371788.py:3: DtypeWarning: Columns (2,35) have mixed types. Specify dtype option on import or set low_memory=False.\n",
      "  df_tmp = pd.read_csv(filepath)\n",
      "C:\\Users\\dukim\\AppData\\Local\\Temp\\ipykernel_18908\\23371788.py:3: DtypeWarning: Columns (2) have mixed types. Specify dtype option on import or set low_memory=False.\n",
      "  df_tmp = pd.read_csv(filepath)\n",
      "C:\\Users\\dukim\\AppData\\Local\\Temp\\ipykernel_18908\\23371788.py:3: DtypeWarning: Columns (2) have mixed types. Specify dtype option on import or set low_memory=False.\n",
      "  df_tmp = pd.read_csv(filepath)\n",
      "C:\\Users\\dukim\\AppData\\Local\\Temp\\ipykernel_18908\\23371788.py:3: DtypeWarning: Columns (2) have mixed types. Specify dtype option on import or set low_memory=False.\n",
      "  df_tmp = pd.read_csv(filepath)\n",
      "C:\\Users\\dukim\\AppData\\Local\\Temp\\ipykernel_18908\\23371788.py:3: DtypeWarning: Columns (2) have mixed types. Specify dtype option on import or set low_memory=False.\n",
      "  df_tmp = pd.read_csv(filepath)\n"
     ]
    },
    {
     "name": "stdout",
     "output_type": "stream",
     "text": [
      "<class 'pandas.core.frame.DataFrame'>\n",
      "Int64Index: 2417759 entries, 0 to 81722\n",
      "Data columns (total 39 columns):\n",
      " #   Column     Dtype  \n",
      "---  ------     -----  \n",
      " 0   상가업소번호     object \n",
      " 1   상호명        object \n",
      " 2   지점명        object \n",
      " 3   상권업종대분류코드  object \n",
      " 4   상권업종대분류명   object \n",
      " 5   상권업종중분류코드  object \n",
      " 6   상권업종중분류명   object \n",
      " 7   상권업종소분류코드  object \n",
      " 8   상권업종소분류명   object \n",
      " 9   표준산업분류코드   object \n",
      " 10  표준산업분류명    object \n",
      " 11  시도코드       int64  \n",
      " 12  시도명        object \n",
      " 13  시군구코드      int64  \n",
      " 14  시군구명       object \n",
      " 15  행정동코드      int64  \n",
      " 16  행정동명       object \n",
      " 17  법정동코드      int64  \n",
      " 18  법정동명       object \n",
      " 19  지번코드       int64  \n",
      " 20  대지구분코드     int64  \n",
      " 21  대지구분명      object \n",
      " 22  지번본번지      float64\n",
      " 23  지번부번지      float64\n",
      " 24  지번주소       object \n",
      " 25  도로명코드      int64  \n",
      " 26  도로명        object \n",
      " 27  건물본번지      float64\n",
      " 28  건물부번지      float64\n",
      " 29  건물관리번호     object \n",
      " 30  건물명        object \n",
      " 31  도로명주소      object \n",
      " 32  구우편번호      int64  \n",
      " 33  신우편번호      int64  \n",
      " 34  동정보        float64\n",
      " 35  층정보        object \n",
      " 36  호정보        float64\n",
      " 37  경도         float64\n",
      " 38  위도         float64\n",
      "dtypes: float64(8), int64(9), object(22)\n",
      "memory usage: 737.8+ MB\n"
     ]
    }
   ],
   "source": [
    "df = pd.DataFrame()\n",
    "for filepath in tqdm(file_list):\n",
    "    df_tmp = pd.read_csv(filepath)\n",
    "    df = pd.concat([df, df_tmp])\n",
    "\n",
    "df.info()"
   ],
   "metadata": {
    "collapsed": false,
    "pycharm": {
     "name": "#%%\n"
    }
   }
  },
  {
   "cell_type": "code",
   "execution_count": 39,
   "outputs": [
    {
     "name": "stdout",
     "output_type": "stream",
     "text": [
      "<class 'pandas.core.frame.DataFrame'>\n",
      "Int64Index: 2417759 entries, 0 to 81722\n",
      "Data columns (total 39 columns):\n",
      " #   Column     Dtype  \n",
      "---  ------     -----  \n",
      " 0   상가업소번호     object \n",
      " 1   상호명        object \n",
      " 2   지점명        object \n",
      " 3   상권업종대분류코드  object \n",
      " 4   상권업종대분류명   object \n",
      " 5   상권업종중분류코드  object \n",
      " 6   상권업종중분류명   object \n",
      " 7   상권업종소분류코드  object \n",
      " 8   상권업종소분류명   object \n",
      " 9   표준산업분류코드   object \n",
      " 10  표준산업분류명    object \n",
      " 11  시도코드       int64  \n",
      " 12  시도명        object \n",
      " 13  시군구코드      int64  \n",
      " 14  시군구명       object \n",
      " 15  행정동코드      int64  \n",
      " 16  행정동명       object \n",
      " 17  법정동코드      int64  \n",
      " 18  법정동명       object \n",
      " 19  지번코드       int64  \n",
      " 20  대지구분코드     int64  \n",
      " 21  대지구분명      object \n",
      " 22  지번본번지      float64\n",
      " 23  지번부번지      float64\n",
      " 24  지번주소       object \n",
      " 25  도로명코드      int64  \n",
      " 26  도로명        object \n",
      " 27  건물본번지      float64\n",
      " 28  건물부번지      float64\n",
      " 29  건물관리번호     object \n",
      " 30  건물명        object \n",
      " 31  도로명주소      object \n",
      " 32  구우편번호      int64  \n",
      " 33  신우편번호      int64  \n",
      " 34  동정보        float64\n",
      " 35  층정보        object \n",
      " 36  호정보        float64\n",
      " 37  경도         float64\n",
      " 38  위도         float64\n",
      "dtypes: float64(8), int64(9), object(22)\n",
      "memory usage: 4.4 GB\n"
     ]
    }
   ],
   "source": [
    "df.info(memory_usage='deep')"
   ],
   "metadata": {
    "collapsed": false,
    "pycharm": {
     "name": "#%%\n"
    }
   }
  },
  {
   "cell_type": "code",
   "execution_count": 40,
   "outputs": [
    {
     "data": {
      "text/plain": "                 상가업소번호           상호명  지점명 상권업종대분류코드 상권업종대분류명 상권업종중분류코드  \\\n0  MA0101202210A0084547       금강산노래광장  NaN        I2       음식      I211   \n1  MA010120220805430826  에이치속눈썹수강아카데미  NaN        S2    수리·개인      S207   \n2  MA010120220805430903            엔젤  NaN        I2       음식      I201   \n3  MA010120220805430941          누베헤어  NaN        S2    수리·개인      S207   \n4  MA010120220805430946            공차  NaN        I2       음식      I212   \n\n  상권업종중분류명 상권업종소분류코드  상권업종소분류명 표준산업분류코드  ...                     건물관리번호  \\\n0       주점    I21101  일반 유흥 주점   I56211  ...  4217010300007470000000086   \n1    이용·미용    S20702    피부 관리실   S96113  ...  4211039021110620001000001   \n2       한식    I20101    백반/한정식   I55109  ...  4277032022103660000008290   \n3    이용·미용    S20701       미용실   S96112  ...  4211012500100440010000008   \n4    비알코올     I21201        카페   I56229  ...  4213033023113500001000001   \n\n      건물명                          도로명주소   구우편번호  신우편번호  동정보  층정보  호정보  \\\n0     파크장             강원특별자치도 동해시 송정로 11  240806  25789  NaN    지  NaN   \n1     NaN  강원특별자치도 춘천시 동내면 외솔길19번길 80-36  200883  24401  NaN  NaN  NaN   \n2     NaN     강원특별자치도 정선군 남면 민둥산로 175-13  233837  26148  NaN  NaN  NaN   \n3  춘천파크자이         강원특별자치도 춘천시 스포츠타운길 458  200200  24472  NaN    3  NaN   \n4     NaN       강원특별자치도 원주시 지정면 신지정로 211  220821  26354  NaN  NaN  NaN   \n\n           경도         위도  \n0  129.127525  37.495265  \n1  127.758764  37.857831  \n2  128.792089  37.259788  \n3  127.707653  37.867744  \n4  127.872713  37.374189  \n\n[5 rows x 39 columns]",
      "text/html": "<div>\n<style scoped>\n    .dataframe tbody tr th:only-of-type {\n        vertical-align: middle;\n    }\n\n    .dataframe tbody tr th {\n        vertical-align: top;\n    }\n\n    .dataframe thead th {\n        text-align: right;\n    }\n</style>\n<table border=\"1\" class=\"dataframe\">\n  <thead>\n    <tr style=\"text-align: right;\">\n      <th></th>\n      <th>상가업소번호</th>\n      <th>상호명</th>\n      <th>지점명</th>\n      <th>상권업종대분류코드</th>\n      <th>상권업종대분류명</th>\n      <th>상권업종중분류코드</th>\n      <th>상권업종중분류명</th>\n      <th>상권업종소분류코드</th>\n      <th>상권업종소분류명</th>\n      <th>표준산업분류코드</th>\n      <th>...</th>\n      <th>건물관리번호</th>\n      <th>건물명</th>\n      <th>도로명주소</th>\n      <th>구우편번호</th>\n      <th>신우편번호</th>\n      <th>동정보</th>\n      <th>층정보</th>\n      <th>호정보</th>\n      <th>경도</th>\n      <th>위도</th>\n    </tr>\n  </thead>\n  <tbody>\n    <tr>\n      <th>0</th>\n      <td>MA0101202210A0084547</td>\n      <td>금강산노래광장</td>\n      <td>NaN</td>\n      <td>I2</td>\n      <td>음식</td>\n      <td>I211</td>\n      <td>주점</td>\n      <td>I21101</td>\n      <td>일반 유흥 주점</td>\n      <td>I56211</td>\n      <td>...</td>\n      <td>4217010300007470000000086</td>\n      <td>파크장</td>\n      <td>강원특별자치도 동해시 송정로 11</td>\n      <td>240806</td>\n      <td>25789</td>\n      <td>NaN</td>\n      <td>지</td>\n      <td>NaN</td>\n      <td>129.127525</td>\n      <td>37.495265</td>\n    </tr>\n    <tr>\n      <th>1</th>\n      <td>MA010120220805430826</td>\n      <td>에이치속눈썹수강아카데미</td>\n      <td>NaN</td>\n      <td>S2</td>\n      <td>수리·개인</td>\n      <td>S207</td>\n      <td>이용·미용</td>\n      <td>S20702</td>\n      <td>피부 관리실</td>\n      <td>S96113</td>\n      <td>...</td>\n      <td>4211039021110620001000001</td>\n      <td>NaN</td>\n      <td>강원특별자치도 춘천시 동내면 외솔길19번길 80-36</td>\n      <td>200883</td>\n      <td>24401</td>\n      <td>NaN</td>\n      <td>NaN</td>\n      <td>NaN</td>\n      <td>127.758764</td>\n      <td>37.857831</td>\n    </tr>\n    <tr>\n      <th>2</th>\n      <td>MA010120220805430903</td>\n      <td>엔젤</td>\n      <td>NaN</td>\n      <td>I2</td>\n      <td>음식</td>\n      <td>I201</td>\n      <td>한식</td>\n      <td>I20101</td>\n      <td>백반/한정식</td>\n      <td>I55109</td>\n      <td>...</td>\n      <td>4277032022103660000008290</td>\n      <td>NaN</td>\n      <td>강원특별자치도 정선군 남면 민둥산로 175-13</td>\n      <td>233837</td>\n      <td>26148</td>\n      <td>NaN</td>\n      <td>NaN</td>\n      <td>NaN</td>\n      <td>128.792089</td>\n      <td>37.259788</td>\n    </tr>\n    <tr>\n      <th>3</th>\n      <td>MA010120220805430941</td>\n      <td>누베헤어</td>\n      <td>NaN</td>\n      <td>S2</td>\n      <td>수리·개인</td>\n      <td>S207</td>\n      <td>이용·미용</td>\n      <td>S20701</td>\n      <td>미용실</td>\n      <td>S96112</td>\n      <td>...</td>\n      <td>4211012500100440010000008</td>\n      <td>춘천파크자이</td>\n      <td>강원특별자치도 춘천시 스포츠타운길 458</td>\n      <td>200200</td>\n      <td>24472</td>\n      <td>NaN</td>\n      <td>3</td>\n      <td>NaN</td>\n      <td>127.707653</td>\n      <td>37.867744</td>\n    </tr>\n    <tr>\n      <th>4</th>\n      <td>MA010120220805430946</td>\n      <td>공차</td>\n      <td>NaN</td>\n      <td>I2</td>\n      <td>음식</td>\n      <td>I212</td>\n      <td>비알코올</td>\n      <td>I21201</td>\n      <td>카페</td>\n      <td>I56229</td>\n      <td>...</td>\n      <td>4213033023113500001000001</td>\n      <td>NaN</td>\n      <td>강원특별자치도 원주시 지정면 신지정로 211</td>\n      <td>220821</td>\n      <td>26354</td>\n      <td>NaN</td>\n      <td>NaN</td>\n      <td>NaN</td>\n      <td>127.872713</td>\n      <td>37.374189</td>\n    </tr>\n  </tbody>\n</table>\n<p>5 rows × 39 columns</p>\n</div>"
     },
     "execution_count": 40,
     "metadata": {},
     "output_type": "execute_result"
    }
   ],
   "source": [
    "df.head()"
   ],
   "metadata": {
    "collapsed": false,
    "pycharm": {
     "name": "#%%\n"
    }
   }
  },
  {
   "cell_type": "code",
   "execution_count": 41,
   "outputs": [
    {
     "data": {
      "text/plain": "Index(['상가업소번호', '상호명', '지점명', '상권업종대분류코드', '상권업종대분류명', '상권업종중분류코드',\n       '상권업종중분류명', '상권업종소분류코드', '상권업종소분류명', '표준산업분류코드', '표준산업분류명', '시도코드',\n       '시도명', '시군구코드', '시군구명', '행정동코드', '행정동명', '법정동코드', '법정동명', '지번코드',\n       '대지구분코드', '대지구분명', '지번본번지', '지번부번지', '지번주소', '도로명코드', '도로명', '건물본번지',\n       '건물부번지', '건물관리번호', '건물명', '도로명주소', '구우편번호', '신우편번호', '동정보', '층정보',\n       '호정보', '경도', '위도'],\n      dtype='object')"
     },
     "execution_count": 41,
     "metadata": {},
     "output_type": "execute_result"
    }
   ],
   "source": [
    "df.columns"
   ],
   "metadata": {
    "collapsed": false,
    "pycharm": {
     "name": "#%%\n"
    }
   }
  },
  {
   "cell_type": "code",
   "execution_count": 42,
   "outputs": [
    {
     "data": {
      "text/plain": "                      상가업소번호         상호명  지점명 상권업종대분류코드 상권업종대분류명 상권업종중분류코드  \\\n101226  MA010120220812461834         라이풀  NaN        I2       음식      I204   \n41200   MA010120220811988835        토리비어  NaN        I2       음식      I211   \n146236  MA010120220811504078         삼삼공  NaN        I2       음식      I201   \n105044  MA0101202209A0074319       힐링아로마  NaN        G2       소매      G215   \n24645   MA010120220806106502     삼한직업소개소  NaN        N1  시설관리·임대      N104   \n...                      ...         ...  ...       ...      ...       ...   \n33418   MA010120220807938109  신호남부분정비공업사  NaN        S2    수리·개인      S203   \n435394  MA010120220805087513   케이와이씨파트너스  NaN        M1    과학·기술      M107   \n52418   MA010120220809697390        한신포차  NaN        I2       음식      I211   \n221968  MA010120220813496790    메가존에듀플러스  NaN        P1       교육      P107   \n39987   MA010120220810843129       등나무횟집  NaN        I2       음식      I201   \n\n         상권업종중분류명 상권업종소분류코드 상권업종소분류명 표준산업분류코드  ...                     건물관리번호  \\\n101226        서양식    I20401      경양식   I56123  ...  4889045023107000030044442   \n41200          주점    I21104    요리 주점   I56219  ...  2914012800110730006000001   \n146236         한식    I20101   백반/한정식   I56111  ...  4117110100105330028010604   \n105044  의약·화장품 소매    G21503  화장품 소매업   G47813  ...  2729010800112130000000403   \n24645       고용 알선    N10401   고용 알선업   N75110  ...  4413111300100470000018661   \n...           ...       ...      ...      ...  ...                        ...   \n33418   자동차 수리·세차    S20301  자동차 정비소   S95212  ...  4613013500100520003020674   \n435394  본사·경영 컨설팅    M10703  경영 컨설팅업   M71531  ...  1153010200108300001000001   \n52418          주점    I21104    요리 주점   I56193  ...  4413111600100710020030467   \n221968      교육 지원    P10701   교육컨설팅업   P85701  ...  4127110300112580007022565   \n39987          한식    I20111       횟집   I56114  ...  4874025321102760004016053   \n\n            건물명                       도로명주소   구우편번호  신우편번호  동정보  층정보  호정보  \\\n101226      NaN  경상남도 합천군 대병면 회양관광단지길 28-10  678922  50216  NaN  NaN  NaN   \n41200       NaN      광주광역시 서구 풍암2로57번길 15-1  502833  62068  NaN    1  NaN   \n146236    서희아리채      경기도 안양시 만안구 문예로52번길 19  430824  14035  NaN    1  NaN   \n105044      NaN       대구광역시 달서구 달구벌대로251길 9  704940  42612  NaN    3  NaN   \n24645      성현마트        충청남도 천안시 동남구 우영1길 32  330931  31152  NaN    1  NaN   \n...         ...                         ...     ...    ...  ...  ...  ...   \n33418       NaN           전라남도 여수시 시청로 98-1  555800  59635  NaN  NaN  NaN   \n435394  디지털탑프라자        서울특별시 구로구 디지털로26길 98  152879   8393  NaN  NaN  NaN   \n52418      금강빌딩        충청남도 천안시 동남구 수곡1길 10  330938  31176  NaN    1  NaN   \n221968     사동주택        경기도 안산시 상록구 이화6길 4-3  426822  15583  NaN  NaN  NaN   \n39987       NaN        경상남도 창녕군 남지읍 낙동로 536  635903  50357  NaN  NaN  NaN   \n\n                경도         위도  \n101226  128.018896  35.525334  \n41200   126.883459  35.123442  \n146236  126.934270  37.385396  \n105044  128.504499  35.852968  \n24645   127.140816  36.806736  \n...            ...        ...  \n33418   127.663390  34.770315  \n435394  126.897334  37.481578  \n52418   127.127007  36.789162  \n221968  126.854871  37.300170  \n39987   128.483050  35.389665  \n\n[10000 rows x 39 columns]",
      "text/html": "<div>\n<style scoped>\n    .dataframe tbody tr th:only-of-type {\n        vertical-align: middle;\n    }\n\n    .dataframe tbody tr th {\n        vertical-align: top;\n    }\n\n    .dataframe thead th {\n        text-align: right;\n    }\n</style>\n<table border=\"1\" class=\"dataframe\">\n  <thead>\n    <tr style=\"text-align: right;\">\n      <th></th>\n      <th>상가업소번호</th>\n      <th>상호명</th>\n      <th>지점명</th>\n      <th>상권업종대분류코드</th>\n      <th>상권업종대분류명</th>\n      <th>상권업종중분류코드</th>\n      <th>상권업종중분류명</th>\n      <th>상권업종소분류코드</th>\n      <th>상권업종소분류명</th>\n      <th>표준산업분류코드</th>\n      <th>...</th>\n      <th>건물관리번호</th>\n      <th>건물명</th>\n      <th>도로명주소</th>\n      <th>구우편번호</th>\n      <th>신우편번호</th>\n      <th>동정보</th>\n      <th>층정보</th>\n      <th>호정보</th>\n      <th>경도</th>\n      <th>위도</th>\n    </tr>\n  </thead>\n  <tbody>\n    <tr>\n      <th>101226</th>\n      <td>MA010120220812461834</td>\n      <td>라이풀</td>\n      <td>NaN</td>\n      <td>I2</td>\n      <td>음식</td>\n      <td>I204</td>\n      <td>서양식</td>\n      <td>I20401</td>\n      <td>경양식</td>\n      <td>I56123</td>\n      <td>...</td>\n      <td>4889045023107000030044442</td>\n      <td>NaN</td>\n      <td>경상남도 합천군 대병면 회양관광단지길 28-10</td>\n      <td>678922</td>\n      <td>50216</td>\n      <td>NaN</td>\n      <td>NaN</td>\n      <td>NaN</td>\n      <td>128.018896</td>\n      <td>35.525334</td>\n    </tr>\n    <tr>\n      <th>41200</th>\n      <td>MA010120220811988835</td>\n      <td>토리비어</td>\n      <td>NaN</td>\n      <td>I2</td>\n      <td>음식</td>\n      <td>I211</td>\n      <td>주점</td>\n      <td>I21104</td>\n      <td>요리 주점</td>\n      <td>I56219</td>\n      <td>...</td>\n      <td>2914012800110730006000001</td>\n      <td>NaN</td>\n      <td>광주광역시 서구 풍암2로57번길 15-1</td>\n      <td>502833</td>\n      <td>62068</td>\n      <td>NaN</td>\n      <td>1</td>\n      <td>NaN</td>\n      <td>126.883459</td>\n      <td>35.123442</td>\n    </tr>\n    <tr>\n      <th>146236</th>\n      <td>MA010120220811504078</td>\n      <td>삼삼공</td>\n      <td>NaN</td>\n      <td>I2</td>\n      <td>음식</td>\n      <td>I201</td>\n      <td>한식</td>\n      <td>I20101</td>\n      <td>백반/한정식</td>\n      <td>I56111</td>\n      <td>...</td>\n      <td>4117110100105330028010604</td>\n      <td>서희아리채</td>\n      <td>경기도 안양시 만안구 문예로52번길 19</td>\n      <td>430824</td>\n      <td>14035</td>\n      <td>NaN</td>\n      <td>1</td>\n      <td>NaN</td>\n      <td>126.934270</td>\n      <td>37.385396</td>\n    </tr>\n    <tr>\n      <th>105044</th>\n      <td>MA0101202209A0074319</td>\n      <td>힐링아로마</td>\n      <td>NaN</td>\n      <td>G2</td>\n      <td>소매</td>\n      <td>G215</td>\n      <td>의약·화장품 소매</td>\n      <td>G21503</td>\n      <td>화장품 소매업</td>\n      <td>G47813</td>\n      <td>...</td>\n      <td>2729010800112130000000403</td>\n      <td>NaN</td>\n      <td>대구광역시 달서구 달구벌대로251길 9</td>\n      <td>704940</td>\n      <td>42612</td>\n      <td>NaN</td>\n      <td>3</td>\n      <td>NaN</td>\n      <td>128.504499</td>\n      <td>35.852968</td>\n    </tr>\n    <tr>\n      <th>24645</th>\n      <td>MA010120220806106502</td>\n      <td>삼한직업소개소</td>\n      <td>NaN</td>\n      <td>N1</td>\n      <td>시설관리·임대</td>\n      <td>N104</td>\n      <td>고용 알선</td>\n      <td>N10401</td>\n      <td>고용 알선업</td>\n      <td>N75110</td>\n      <td>...</td>\n      <td>4413111300100470000018661</td>\n      <td>성현마트</td>\n      <td>충청남도 천안시 동남구 우영1길 32</td>\n      <td>330931</td>\n      <td>31152</td>\n      <td>NaN</td>\n      <td>1</td>\n      <td>NaN</td>\n      <td>127.140816</td>\n      <td>36.806736</td>\n    </tr>\n    <tr>\n      <th>...</th>\n      <td>...</td>\n      <td>...</td>\n      <td>...</td>\n      <td>...</td>\n      <td>...</td>\n      <td>...</td>\n      <td>...</td>\n      <td>...</td>\n      <td>...</td>\n      <td>...</td>\n      <td>...</td>\n      <td>...</td>\n      <td>...</td>\n      <td>...</td>\n      <td>...</td>\n      <td>...</td>\n      <td>...</td>\n      <td>...</td>\n      <td>...</td>\n      <td>...</td>\n      <td>...</td>\n    </tr>\n    <tr>\n      <th>33418</th>\n      <td>MA010120220807938109</td>\n      <td>신호남부분정비공업사</td>\n      <td>NaN</td>\n      <td>S2</td>\n      <td>수리·개인</td>\n      <td>S203</td>\n      <td>자동차 수리·세차</td>\n      <td>S20301</td>\n      <td>자동차 정비소</td>\n      <td>S95212</td>\n      <td>...</td>\n      <td>4613013500100520003020674</td>\n      <td>NaN</td>\n      <td>전라남도 여수시 시청로 98-1</td>\n      <td>555800</td>\n      <td>59635</td>\n      <td>NaN</td>\n      <td>NaN</td>\n      <td>NaN</td>\n      <td>127.663390</td>\n      <td>34.770315</td>\n    </tr>\n    <tr>\n      <th>435394</th>\n      <td>MA010120220805087513</td>\n      <td>케이와이씨파트너스</td>\n      <td>NaN</td>\n      <td>M1</td>\n      <td>과학·기술</td>\n      <td>M107</td>\n      <td>본사·경영 컨설팅</td>\n      <td>M10703</td>\n      <td>경영 컨설팅업</td>\n      <td>M71531</td>\n      <td>...</td>\n      <td>1153010200108300001000001</td>\n      <td>디지털탑프라자</td>\n      <td>서울특별시 구로구 디지털로26길 98</td>\n      <td>152879</td>\n      <td>8393</td>\n      <td>NaN</td>\n      <td>NaN</td>\n      <td>NaN</td>\n      <td>126.897334</td>\n      <td>37.481578</td>\n    </tr>\n    <tr>\n      <th>52418</th>\n      <td>MA010120220809697390</td>\n      <td>한신포차</td>\n      <td>NaN</td>\n      <td>I2</td>\n      <td>음식</td>\n      <td>I211</td>\n      <td>주점</td>\n      <td>I21104</td>\n      <td>요리 주점</td>\n      <td>I56193</td>\n      <td>...</td>\n      <td>4413111600100710020030467</td>\n      <td>금강빌딩</td>\n      <td>충청남도 천안시 동남구 수곡1길 10</td>\n      <td>330938</td>\n      <td>31176</td>\n      <td>NaN</td>\n      <td>1</td>\n      <td>NaN</td>\n      <td>127.127007</td>\n      <td>36.789162</td>\n    </tr>\n    <tr>\n      <th>221968</th>\n      <td>MA010120220813496790</td>\n      <td>메가존에듀플러스</td>\n      <td>NaN</td>\n      <td>P1</td>\n      <td>교육</td>\n      <td>P107</td>\n      <td>교육 지원</td>\n      <td>P10701</td>\n      <td>교육컨설팅업</td>\n      <td>P85701</td>\n      <td>...</td>\n      <td>4127110300112580007022565</td>\n      <td>사동주택</td>\n      <td>경기도 안산시 상록구 이화6길 4-3</td>\n      <td>426822</td>\n      <td>15583</td>\n      <td>NaN</td>\n      <td>NaN</td>\n      <td>NaN</td>\n      <td>126.854871</td>\n      <td>37.300170</td>\n    </tr>\n    <tr>\n      <th>39987</th>\n      <td>MA010120220810843129</td>\n      <td>등나무횟집</td>\n      <td>NaN</td>\n      <td>I2</td>\n      <td>음식</td>\n      <td>I201</td>\n      <td>한식</td>\n      <td>I20111</td>\n      <td>횟집</td>\n      <td>I56114</td>\n      <td>...</td>\n      <td>4874025321102760004016053</td>\n      <td>NaN</td>\n      <td>경상남도 창녕군 남지읍 낙동로 536</td>\n      <td>635903</td>\n      <td>50357</td>\n      <td>NaN</td>\n      <td>NaN</td>\n      <td>NaN</td>\n      <td>128.483050</td>\n      <td>35.389665</td>\n    </tr>\n  </tbody>\n</table>\n<p>10000 rows × 39 columns</p>\n</div>"
     },
     "execution_count": 42,
     "metadata": {},
     "output_type": "execute_result"
    }
   ],
   "source": [
    "# df_ex1 = df[:10000]\n",
    "df_ex1 = df.sample(n=10000, random_state=42)\n",
    "df_ex1"
   ],
   "metadata": {
    "collapsed": false,
    "pycharm": {
     "name": "#%%\n"
    }
   }
  },
  {
   "cell_type": "code",
   "execution_count": 43,
   "outputs": [
    {
     "data": {
      "text/plain": "               상호명  지점명 상권업종대분류코드 상권업종대분류명 상권업종중분류코드   상권업종중분류명 상권업종소분류코드  \\\n101226         라이풀  NaN        I2       음식      I204        서양식    I20401   \n41200         토리비어  NaN        I2       음식      I211         주점    I21104   \n146236         삼삼공  NaN        I2       음식      I201         한식    I20101   \n105044       힐링아로마  NaN        G2       소매      G215  의약·화장품 소매    G21503   \n24645      삼한직업소개소  NaN        N1  시설관리·임대      N104      고용 알선    N10401   \n...            ...  ...       ...      ...       ...        ...       ...   \n33418   신호남부분정비공업사  NaN        S2    수리·개인      S203  자동차 수리·세차    S20301   \n435394   케이와이씨파트너스  NaN        M1    과학·기술      M107  본사·경영 컨설팅    M10703   \n52418         한신포차  NaN        I2       음식      I211         주점    I21104   \n221968    메가존에듀플러스  NaN        P1       교육      P107      교육 지원    P10701   \n39987        등나무횟집  NaN        I2       음식      I201         한식    I20111   \n\n       상권업종소분류명 표준산업분류코드            표준산업분류명  \n101226      경양식   I56123           서양식 음식점업  \n41200     요리 주점   I56219             기타 주점업  \n146236   백반/한정식   I56111         한식 일반 음식점업  \n105044  화장품 소매업   G47813  화장품, 비누 및 방향제 소매업  \n24645    고용 알선업   N75110             고용 알선업  \n...         ...      ...                ...  \n33418   자동차 정비소   S95212         자동차 전문 수리업  \n435394  경영 컨설팅업   M71531            경영 컨설팅업  \n52418     요리 주점   I56193             치킨 전문점  \n221968   교육컨설팅업   P85701      교육관련 자문 및 평가업  \n39987        횟집   I56114      한식 해산물 요리 전문점  \n\n[10000 rows x 10 columns]",
      "text/html": "<div>\n<style scoped>\n    .dataframe tbody tr th:only-of-type {\n        vertical-align: middle;\n    }\n\n    .dataframe tbody tr th {\n        vertical-align: top;\n    }\n\n    .dataframe thead th {\n        text-align: right;\n    }\n</style>\n<table border=\"1\" class=\"dataframe\">\n  <thead>\n    <tr style=\"text-align: right;\">\n      <th></th>\n      <th>상호명</th>\n      <th>지점명</th>\n      <th>상권업종대분류코드</th>\n      <th>상권업종대분류명</th>\n      <th>상권업종중분류코드</th>\n      <th>상권업종중분류명</th>\n      <th>상권업종소분류코드</th>\n      <th>상권업종소분류명</th>\n      <th>표준산업분류코드</th>\n      <th>표준산업분류명</th>\n    </tr>\n  </thead>\n  <tbody>\n    <tr>\n      <th>101226</th>\n      <td>라이풀</td>\n      <td>NaN</td>\n      <td>I2</td>\n      <td>음식</td>\n      <td>I204</td>\n      <td>서양식</td>\n      <td>I20401</td>\n      <td>경양식</td>\n      <td>I56123</td>\n      <td>서양식 음식점업</td>\n    </tr>\n    <tr>\n      <th>41200</th>\n      <td>토리비어</td>\n      <td>NaN</td>\n      <td>I2</td>\n      <td>음식</td>\n      <td>I211</td>\n      <td>주점</td>\n      <td>I21104</td>\n      <td>요리 주점</td>\n      <td>I56219</td>\n      <td>기타 주점업</td>\n    </tr>\n    <tr>\n      <th>146236</th>\n      <td>삼삼공</td>\n      <td>NaN</td>\n      <td>I2</td>\n      <td>음식</td>\n      <td>I201</td>\n      <td>한식</td>\n      <td>I20101</td>\n      <td>백반/한정식</td>\n      <td>I56111</td>\n      <td>한식 일반 음식점업</td>\n    </tr>\n    <tr>\n      <th>105044</th>\n      <td>힐링아로마</td>\n      <td>NaN</td>\n      <td>G2</td>\n      <td>소매</td>\n      <td>G215</td>\n      <td>의약·화장품 소매</td>\n      <td>G21503</td>\n      <td>화장품 소매업</td>\n      <td>G47813</td>\n      <td>화장품, 비누 및 방향제 소매업</td>\n    </tr>\n    <tr>\n      <th>24645</th>\n      <td>삼한직업소개소</td>\n      <td>NaN</td>\n      <td>N1</td>\n      <td>시설관리·임대</td>\n      <td>N104</td>\n      <td>고용 알선</td>\n      <td>N10401</td>\n      <td>고용 알선업</td>\n      <td>N75110</td>\n      <td>고용 알선업</td>\n    </tr>\n    <tr>\n      <th>...</th>\n      <td>...</td>\n      <td>...</td>\n      <td>...</td>\n      <td>...</td>\n      <td>...</td>\n      <td>...</td>\n      <td>...</td>\n      <td>...</td>\n      <td>...</td>\n      <td>...</td>\n    </tr>\n    <tr>\n      <th>33418</th>\n      <td>신호남부분정비공업사</td>\n      <td>NaN</td>\n      <td>S2</td>\n      <td>수리·개인</td>\n      <td>S203</td>\n      <td>자동차 수리·세차</td>\n      <td>S20301</td>\n      <td>자동차 정비소</td>\n      <td>S95212</td>\n      <td>자동차 전문 수리업</td>\n    </tr>\n    <tr>\n      <th>435394</th>\n      <td>케이와이씨파트너스</td>\n      <td>NaN</td>\n      <td>M1</td>\n      <td>과학·기술</td>\n      <td>M107</td>\n      <td>본사·경영 컨설팅</td>\n      <td>M10703</td>\n      <td>경영 컨설팅업</td>\n      <td>M71531</td>\n      <td>경영 컨설팅업</td>\n    </tr>\n    <tr>\n      <th>52418</th>\n      <td>한신포차</td>\n      <td>NaN</td>\n      <td>I2</td>\n      <td>음식</td>\n      <td>I211</td>\n      <td>주점</td>\n      <td>I21104</td>\n      <td>요리 주점</td>\n      <td>I56193</td>\n      <td>치킨 전문점</td>\n    </tr>\n    <tr>\n      <th>221968</th>\n      <td>메가존에듀플러스</td>\n      <td>NaN</td>\n      <td>P1</td>\n      <td>교육</td>\n      <td>P107</td>\n      <td>교육 지원</td>\n      <td>P10701</td>\n      <td>교육컨설팅업</td>\n      <td>P85701</td>\n      <td>교육관련 자문 및 평가업</td>\n    </tr>\n    <tr>\n      <th>39987</th>\n      <td>등나무횟집</td>\n      <td>NaN</td>\n      <td>I2</td>\n      <td>음식</td>\n      <td>I201</td>\n      <td>한식</td>\n      <td>I20111</td>\n      <td>횟집</td>\n      <td>I56114</td>\n      <td>한식 해산물 요리 전문점</td>\n    </tr>\n  </tbody>\n</table>\n<p>10000 rows × 10 columns</p>\n</div>"
     },
     "execution_count": 43,
     "metadata": {},
     "output_type": "execute_result"
    }
   ],
   "source": [
    "df_ex1.iloc[:, 1:11] # 상호명, 상권업종중분류명"
   ],
   "metadata": {
    "collapsed": false,
    "pycharm": {
     "name": "#%%\n"
    }
   }
  },
  {
   "cell_type": "code",
   "execution_count": 44,
   "outputs": [
    {
     "data": {
      "text/plain": "        시도코드    시도명  시군구코드     시군구명\n101226    48   경상남도  48890      합천군\n41200     29  광주광역시  29140       서구\n146236    41    경기도  41171  안양시 만안구\n105044    27  대구광역시  27290      달서구\n24645     44   충청남도  44131  천안시 동남구\n...      ...    ...    ...      ...\n33418     46   전라남도  46130      여수시\n435394    11  서울특별시  11530      구로구\n52418     44   충청남도  44131  천안시 동남구\n221968    41    경기도  41271  안산시 상록구\n39987     48   경상남도  48740      창녕군\n\n[10000 rows x 4 columns]",
      "text/html": "<div>\n<style scoped>\n    .dataframe tbody tr th:only-of-type {\n        vertical-align: middle;\n    }\n\n    .dataframe tbody tr th {\n        vertical-align: top;\n    }\n\n    .dataframe thead th {\n        text-align: right;\n    }\n</style>\n<table border=\"1\" class=\"dataframe\">\n  <thead>\n    <tr style=\"text-align: right;\">\n      <th></th>\n      <th>시도코드</th>\n      <th>시도명</th>\n      <th>시군구코드</th>\n      <th>시군구명</th>\n    </tr>\n  </thead>\n  <tbody>\n    <tr>\n      <th>101226</th>\n      <td>48</td>\n      <td>경상남도</td>\n      <td>48890</td>\n      <td>합천군</td>\n    </tr>\n    <tr>\n      <th>41200</th>\n      <td>29</td>\n      <td>광주광역시</td>\n      <td>29140</td>\n      <td>서구</td>\n    </tr>\n    <tr>\n      <th>146236</th>\n      <td>41</td>\n      <td>경기도</td>\n      <td>41171</td>\n      <td>안양시 만안구</td>\n    </tr>\n    <tr>\n      <th>105044</th>\n      <td>27</td>\n      <td>대구광역시</td>\n      <td>27290</td>\n      <td>달서구</td>\n    </tr>\n    <tr>\n      <th>24645</th>\n      <td>44</td>\n      <td>충청남도</td>\n      <td>44131</td>\n      <td>천안시 동남구</td>\n    </tr>\n    <tr>\n      <th>...</th>\n      <td>...</td>\n      <td>...</td>\n      <td>...</td>\n      <td>...</td>\n    </tr>\n    <tr>\n      <th>33418</th>\n      <td>46</td>\n      <td>전라남도</td>\n      <td>46130</td>\n      <td>여수시</td>\n    </tr>\n    <tr>\n      <th>435394</th>\n      <td>11</td>\n      <td>서울특별시</td>\n      <td>11530</td>\n      <td>구로구</td>\n    </tr>\n    <tr>\n      <th>52418</th>\n      <td>44</td>\n      <td>충청남도</td>\n      <td>44131</td>\n      <td>천안시 동남구</td>\n    </tr>\n    <tr>\n      <th>221968</th>\n      <td>41</td>\n      <td>경기도</td>\n      <td>41271</td>\n      <td>안산시 상록구</td>\n    </tr>\n    <tr>\n      <th>39987</th>\n      <td>48</td>\n      <td>경상남도</td>\n      <td>48740</td>\n      <td>창녕군</td>\n    </tr>\n  </tbody>\n</table>\n<p>10000 rows × 4 columns</p>\n</div>"
     },
     "execution_count": 44,
     "metadata": {},
     "output_type": "execute_result"
    }
   ],
   "source": [
    "df_ex1.iloc[:, 11:15] # 시도명"
   ],
   "metadata": {
    "collapsed": false,
    "pycharm": {
     "name": "#%%\n"
    }
   }
  },
  {
   "cell_type": "code",
   "execution_count": 45,
   "outputs": [
    {
     "name": "stdout",
     "output_type": "stream",
     "text": [
      "<class 'pandas.core.frame.DataFrame'>\n",
      "Int64Index: 2417759 entries, 0 to 81722\n",
      "Data columns (total 4 columns):\n",
      " #   Column    Dtype \n",
      "---  ------    ----- \n",
      " 0   상호명       object\n",
      " 1   상권업종대분류명  object\n",
      " 2   상권업종중분류명  object\n",
      " 3   시도명       object\n",
      "dtypes: object(4)\n",
      "memory usage: 861.9 MB\n"
     ]
    }
   ],
   "source": [
    "df = df.loc[:, ['상호명', '상권업종대분류명', '상권업종중분류명', '시도명']]\n",
    "df.info(memory_usage='deep')"
   ],
   "metadata": {
    "collapsed": false,
    "pycharm": {
     "name": "#%%\n"
    }
   }
  },
  {
   "cell_type": "code",
   "execution_count": 46,
   "outputs": [
    {
     "data": {
      "text/plain": "20"
     },
     "execution_count": 46,
     "metadata": {},
     "output_type": "execute_result"
    }
   ],
   "source": [
    "df_ex1 = None\n",
    "import gc\n",
    "gc.collect()"
   ],
   "metadata": {
    "collapsed": false,
    "pycharm": {
     "name": "#%%\n"
    }
   }
  },
  {
   "cell_type": "markdown",
   "source": [
    "# 한식/일식/중식 음식점 비율 찾기"
   ],
   "metadata": {
    "collapsed": false,
    "pycharm": {
     "name": "#%% md\n"
    }
   }
  },
  {
   "cell_type": "code",
   "execution_count": 47,
   "outputs": [
    {
     "data": {
      "text/plain": "            상호명 상권업종대분류명 상권업종중분류명      시도명\n0       금강산노래광장       음식       주점  강원특별자치도\n1  에이치속눈썹수강아카데미    수리·개인    이용·미용  강원특별자치도\n2            엔젤       음식       한식  강원특별자치도\n3          누베헤어    수리·개인    이용·미용  강원특별자치도\n4            공차       음식    비알코올   강원특별자치도",
      "text/html": "<div>\n<style scoped>\n    .dataframe tbody tr th:only-of-type {\n        vertical-align: middle;\n    }\n\n    .dataframe tbody tr th {\n        vertical-align: top;\n    }\n\n    .dataframe thead th {\n        text-align: right;\n    }\n</style>\n<table border=\"1\" class=\"dataframe\">\n  <thead>\n    <tr style=\"text-align: right;\">\n      <th></th>\n      <th>상호명</th>\n      <th>상권업종대분류명</th>\n      <th>상권업종중분류명</th>\n      <th>시도명</th>\n    </tr>\n  </thead>\n  <tbody>\n    <tr>\n      <th>0</th>\n      <td>금강산노래광장</td>\n      <td>음식</td>\n      <td>주점</td>\n      <td>강원특별자치도</td>\n    </tr>\n    <tr>\n      <th>1</th>\n      <td>에이치속눈썹수강아카데미</td>\n      <td>수리·개인</td>\n      <td>이용·미용</td>\n      <td>강원특별자치도</td>\n    </tr>\n    <tr>\n      <th>2</th>\n      <td>엔젤</td>\n      <td>음식</td>\n      <td>한식</td>\n      <td>강원특별자치도</td>\n    </tr>\n    <tr>\n      <th>3</th>\n      <td>누베헤어</td>\n      <td>수리·개인</td>\n      <td>이용·미용</td>\n      <td>강원특별자치도</td>\n    </tr>\n    <tr>\n      <th>4</th>\n      <td>공차</td>\n      <td>음식</td>\n      <td>비알코올</td>\n      <td>강원특별자치도</td>\n    </tr>\n  </tbody>\n</table>\n</div>"
     },
     "execution_count": 47,
     "metadata": {},
     "output_type": "execute_result"
    }
   ],
   "source": [
    "df.head()"
   ],
   "metadata": {
    "collapsed": false,
    "pycharm": {
     "name": "#%%\n"
    }
   }
  },
  {
   "cell_type": "code",
   "execution_count": 48,
   "outputs": [
    {
     "data": {
      "text/plain": "한식             0.133474\n기타 간이          0.065455\n이용·미용          0.064370\n섬유·의복·신발 소매    0.057064\n종합 소매          0.050152\n                 ...   \n모터사이클 소매       0.000841\n조경·유지          0.000601\n통신장비 수리        0.000588\n시장 조사          0.000518\n기타 외국          0.000002\nName: 상권업종중분류명, Length: 75, dtype: float64"
     },
     "execution_count": 48,
     "metadata": {},
     "output_type": "execute_result"
    }
   ],
   "source": [
    "ratio = df['상권업종중분류명'].value_counts() / len(df)\n",
    "ratio"
   ],
   "metadata": {
    "collapsed": false,
    "pycharm": {
     "name": "#%%\n"
    }
   }
  },
  {
   "cell_type": "code",
   "execution_count": 49,
   "outputs": [
    {
     "name": "stdout",
     "output_type": "stream",
     "text": [
      "한식 : 13.35 %, 중식 : 1.23 %, 일식 : 0.86 %\n"
     ]
    }
   ],
   "source": [
    "print(f\"한식 : {ratio['한식']*100:.2f} %, 중식 : {ratio['중식']*100:.2f} %, 일식 : {ratio['일식']*100:.2f} %\")"
   ],
   "metadata": {
    "collapsed": false,
    "pycharm": {
     "name": "#%%\n"
    }
   }
  },
  {
   "cell_type": "markdown",
   "source": [
    "# 각 지역별 음식점 비율 계산해 보기"
   ],
   "metadata": {
    "collapsed": false
   }
  },
  {
   "cell_type": "code",
   "execution_count": 50,
   "outputs": [
    {
     "data": {
      "text/plain": "            상호명 상권업종대분류명 상권업종중분류명      시도명\n0       금강산노래광장       음식       주점  강원특별자치도\n1  에이치속눈썹수강아카데미    수리·개인    이용·미용  강원특별자치도\n2            엔젤       음식       한식  강원특별자치도\n3          누베헤어    수리·개인    이용·미용  강원특별자치도\n4            공차       음식    비알코올   강원특별자치도",
      "text/html": "<div>\n<style scoped>\n    .dataframe tbody tr th:only-of-type {\n        vertical-align: middle;\n    }\n\n    .dataframe tbody tr th {\n        vertical-align: top;\n    }\n\n    .dataframe thead th {\n        text-align: right;\n    }\n</style>\n<table border=\"1\" class=\"dataframe\">\n  <thead>\n    <tr style=\"text-align: right;\">\n      <th></th>\n      <th>상호명</th>\n      <th>상권업종대분류명</th>\n      <th>상권업종중분류명</th>\n      <th>시도명</th>\n    </tr>\n  </thead>\n  <tbody>\n    <tr>\n      <th>0</th>\n      <td>금강산노래광장</td>\n      <td>음식</td>\n      <td>주점</td>\n      <td>강원특별자치도</td>\n    </tr>\n    <tr>\n      <th>1</th>\n      <td>에이치속눈썹수강아카데미</td>\n      <td>수리·개인</td>\n      <td>이용·미용</td>\n      <td>강원특별자치도</td>\n    </tr>\n    <tr>\n      <th>2</th>\n      <td>엔젤</td>\n      <td>음식</td>\n      <td>한식</td>\n      <td>강원특별자치도</td>\n    </tr>\n    <tr>\n      <th>3</th>\n      <td>누베헤어</td>\n      <td>수리·개인</td>\n      <td>이용·미용</td>\n      <td>강원특별자치도</td>\n    </tr>\n    <tr>\n      <th>4</th>\n      <td>공차</td>\n      <td>음식</td>\n      <td>비알코올</td>\n      <td>강원특별자치도</td>\n    </tr>\n  </tbody>\n</table>\n</div>"
     },
     "execution_count": 50,
     "metadata": {},
     "output_type": "execute_result"
    }
   ],
   "source": [
    "df.head()"
   ],
   "metadata": {
    "collapsed": false,
    "pycharm": {
     "name": "#%%\n"
    }
   }
  },
  {
   "cell_type": "code",
   "execution_count": 51,
   "outputs": [
    {
     "data": {
      "text/plain": "상권업종중분류명   가구 소매  가전·통신 소매  가전제품 수리  가정용품 대여   고용 알선       광고   교육 지원  \\\n시도명                                                                     \n강원특별자치도    339.0    1301.0    445.0    634.0   503.0    622.0   191.0   \n경기도       2892.0    8356.0   2880.0   1949.0  3838.0   8088.0  1875.0   \n경상남도       790.0    2549.0    715.0    459.0  1014.0    871.0   297.0   \n경상북도       590.0    2158.0    540.0    380.0   962.0    716.0   258.0   \n광주광역시      349.0    1433.0    335.0    203.0   444.0    843.0   239.0   \n대구광역시      544.0    2001.0    554.0    360.0   710.0   1295.0   316.0   \n대전광역시      328.0    1351.0    371.0    259.0   359.0    931.0   249.0   \n부산광역시      650.0    2205.0    639.0    383.0   849.0   1464.0   461.0   \n서울특별시     1358.0    6904.0   1752.0   1505.0  3153.0  15771.0  3723.0   \n세종특별자치시     38.0     144.0     29.0     45.0    85.0    157.0    68.0   \n울산광역시      200.0     830.0    230.0    121.0   360.0    304.0   120.0   \n인천광역시      441.0    1926.0    551.0    310.0   704.0   1266.0   331.0   \n전라남도       410.0    1450.0    447.0    234.0   571.0    593.0   179.0   \n전라북도       544.0    1594.0    484.0    423.0   560.0    737.0   266.0   \n제주특별자치도    228.0     579.0    168.0    367.0   186.0    399.0   119.0   \n충청남도       415.0    1673.0    511.0    365.0  1165.0    725.0   208.0   \n충청북도       381.0    1250.0    352.0    226.0   879.0    577.0   185.0   \n\n상권업종중분류명  구내식당·뷔페   기술 서비스  기타 가정용품 수리  ...    종합 소매       주점  중고 상품 소매  \\\n시도명                                     ...                               \n강원특별자치도     228.0   1081.0       506.0  ...   5514.0   4436.0     282.0   \n경기도        3180.0   9759.0      3242.0  ...  28697.0  20748.0    2365.0   \n경상남도        730.0   2421.0       714.0  ...   8276.0   9321.0     595.0   \n경상북도        547.0   1842.0       656.0  ...   7474.0   6161.0     486.0   \n광주광역시       180.0   1212.0       361.0  ...   3191.0   3665.0     288.0   \n대구광역시       422.0   1707.0       657.0  ...   4730.0   5202.0     538.0   \n대전광역시       229.0   1000.0       469.0  ...   3214.0   2452.0     374.0   \n부산광역시       452.0   2305.0       834.0  ...   6761.0   8778.0     656.0   \n서울특별시      1187.0  10873.0      3296.0  ...  18788.0  17690.0    1346.0   \n세종특별자치시      60.0    214.0        55.0  ...    603.0    347.0      26.0   \n울산광역시       194.0    891.0       225.0  ...   2561.0   2922.0     149.0   \n인천광역시       755.0   1318.0       585.0  ...   6194.0   5272.0     467.0   \n전라남도        239.0   1351.0       482.0  ...   5945.0   5642.0     247.0   \n전라북도        298.0   1234.0       490.0  ...   5451.0   3686.0     301.0   \n제주특별자치도     109.0    644.0       180.0  ...   2523.0   2863.0     122.0   \n충청남도        571.0   1440.0       544.0  ...   6612.0   4394.0     401.0   \n충청북도        461.0   1080.0       420.0  ...   4721.0   3498.0     312.0   \n\n상권업종중분류명      중식  철물·건설자재 소매   청소·방제  컴퓨터 수리  통신장비 수리       한식   회계·세무  \n시도명                                                                     \n강원특별자치도   1178.0      1267.0   735.0   183.0     37.0  17203.0   196.0  \n경기도       6808.0      5109.0  5380.0  1962.0    383.0  65779.0  3300.0  \n경상남도      2019.0      1823.0  1170.0   405.0     68.0  27306.0   531.0  \n경상북도      1878.0      1761.0  1017.0   303.0     49.0  23209.0   275.0  \n광주광역시      619.0       710.0   543.0   187.0     47.0   8074.0   378.0  \n대구광역시     1343.0       824.0   780.0   369.0     78.0  14655.0   659.0  \n대전광역시      789.0       675.0   761.0   260.0     44.0   9290.0   329.0  \n부산광역시     1956.0      1402.0  1087.0   500.0    111.0  20469.0  1104.0  \n서울특별시     5178.0      3273.0  3530.0  1614.0    293.0  45753.0  6156.0  \n세종특별자치시    192.0       101.0   135.0    30.0      9.0   1833.0    62.0  \n울산광역시      644.0       469.0   508.0   149.0     18.0   8186.0   210.0  \n인천광역시     1521.0      1095.0   993.0   418.0     75.0  14580.0   598.0  \n전라남도      1063.0      1432.0   759.0   197.0     32.0  15125.0   163.0  \n전라북도      1176.0      1398.0   686.0   199.0     44.0  12515.0   333.0  \n제주특별자치도    523.0       370.0   399.0    64.0     22.0   7968.0   154.0  \n충청남도      1564.0      1462.0   887.0   225.0     69.0  17346.0   330.0  \n충청북도      1200.0       933.0   756.0   242.0     42.0  13418.0   226.0  \n\n[17 rows x 75 columns]",
      "text/html": "<div>\n<style scoped>\n    .dataframe tbody tr th:only-of-type {\n        vertical-align: middle;\n    }\n\n    .dataframe tbody tr th {\n        vertical-align: top;\n    }\n\n    .dataframe thead th {\n        text-align: right;\n    }\n</style>\n<table border=\"1\" class=\"dataframe\">\n  <thead>\n    <tr style=\"text-align: right;\">\n      <th>상권업종중분류명</th>\n      <th>가구 소매</th>\n      <th>가전·통신 소매</th>\n      <th>가전제품 수리</th>\n      <th>가정용품 대여</th>\n      <th>고용 알선</th>\n      <th>광고</th>\n      <th>교육 지원</th>\n      <th>구내식당·뷔페</th>\n      <th>기술 서비스</th>\n      <th>기타 가정용품 수리</th>\n      <th>...</th>\n      <th>종합 소매</th>\n      <th>주점</th>\n      <th>중고 상품 소매</th>\n      <th>중식</th>\n      <th>철물·건설자재 소매</th>\n      <th>청소·방제</th>\n      <th>컴퓨터 수리</th>\n      <th>통신장비 수리</th>\n      <th>한식</th>\n      <th>회계·세무</th>\n    </tr>\n    <tr>\n      <th>시도명</th>\n      <th></th>\n      <th></th>\n      <th></th>\n      <th></th>\n      <th></th>\n      <th></th>\n      <th></th>\n      <th></th>\n      <th></th>\n      <th></th>\n      <th></th>\n      <th></th>\n      <th></th>\n      <th></th>\n      <th></th>\n      <th></th>\n      <th></th>\n      <th></th>\n      <th></th>\n      <th></th>\n      <th></th>\n    </tr>\n  </thead>\n  <tbody>\n    <tr>\n      <th>강원특별자치도</th>\n      <td>339.0</td>\n      <td>1301.0</td>\n      <td>445.0</td>\n      <td>634.0</td>\n      <td>503.0</td>\n      <td>622.0</td>\n      <td>191.0</td>\n      <td>228.0</td>\n      <td>1081.0</td>\n      <td>506.0</td>\n      <td>...</td>\n      <td>5514.0</td>\n      <td>4436.0</td>\n      <td>282.0</td>\n      <td>1178.0</td>\n      <td>1267.0</td>\n      <td>735.0</td>\n      <td>183.0</td>\n      <td>37.0</td>\n      <td>17203.0</td>\n      <td>196.0</td>\n    </tr>\n    <tr>\n      <th>경기도</th>\n      <td>2892.0</td>\n      <td>8356.0</td>\n      <td>2880.0</td>\n      <td>1949.0</td>\n      <td>3838.0</td>\n      <td>8088.0</td>\n      <td>1875.0</td>\n      <td>3180.0</td>\n      <td>9759.0</td>\n      <td>3242.0</td>\n      <td>...</td>\n      <td>28697.0</td>\n      <td>20748.0</td>\n      <td>2365.0</td>\n      <td>6808.0</td>\n      <td>5109.0</td>\n      <td>5380.0</td>\n      <td>1962.0</td>\n      <td>383.0</td>\n      <td>65779.0</td>\n      <td>3300.0</td>\n    </tr>\n    <tr>\n      <th>경상남도</th>\n      <td>790.0</td>\n      <td>2549.0</td>\n      <td>715.0</td>\n      <td>459.0</td>\n      <td>1014.0</td>\n      <td>871.0</td>\n      <td>297.0</td>\n      <td>730.0</td>\n      <td>2421.0</td>\n      <td>714.0</td>\n      <td>...</td>\n      <td>8276.0</td>\n      <td>9321.0</td>\n      <td>595.0</td>\n      <td>2019.0</td>\n      <td>1823.0</td>\n      <td>1170.0</td>\n      <td>405.0</td>\n      <td>68.0</td>\n      <td>27306.0</td>\n      <td>531.0</td>\n    </tr>\n    <tr>\n      <th>경상북도</th>\n      <td>590.0</td>\n      <td>2158.0</td>\n      <td>540.0</td>\n      <td>380.0</td>\n      <td>962.0</td>\n      <td>716.0</td>\n      <td>258.0</td>\n      <td>547.0</td>\n      <td>1842.0</td>\n      <td>656.0</td>\n      <td>...</td>\n      <td>7474.0</td>\n      <td>6161.0</td>\n      <td>486.0</td>\n      <td>1878.0</td>\n      <td>1761.0</td>\n      <td>1017.0</td>\n      <td>303.0</td>\n      <td>49.0</td>\n      <td>23209.0</td>\n      <td>275.0</td>\n    </tr>\n    <tr>\n      <th>광주광역시</th>\n      <td>349.0</td>\n      <td>1433.0</td>\n      <td>335.0</td>\n      <td>203.0</td>\n      <td>444.0</td>\n      <td>843.0</td>\n      <td>239.0</td>\n      <td>180.0</td>\n      <td>1212.0</td>\n      <td>361.0</td>\n      <td>...</td>\n      <td>3191.0</td>\n      <td>3665.0</td>\n      <td>288.0</td>\n      <td>619.0</td>\n      <td>710.0</td>\n      <td>543.0</td>\n      <td>187.0</td>\n      <td>47.0</td>\n      <td>8074.0</td>\n      <td>378.0</td>\n    </tr>\n    <tr>\n      <th>대구광역시</th>\n      <td>544.0</td>\n      <td>2001.0</td>\n      <td>554.0</td>\n      <td>360.0</td>\n      <td>710.0</td>\n      <td>1295.0</td>\n      <td>316.0</td>\n      <td>422.0</td>\n      <td>1707.0</td>\n      <td>657.0</td>\n      <td>...</td>\n      <td>4730.0</td>\n      <td>5202.0</td>\n      <td>538.0</td>\n      <td>1343.0</td>\n      <td>824.0</td>\n      <td>780.0</td>\n      <td>369.0</td>\n      <td>78.0</td>\n      <td>14655.0</td>\n      <td>659.0</td>\n    </tr>\n    <tr>\n      <th>대전광역시</th>\n      <td>328.0</td>\n      <td>1351.0</td>\n      <td>371.0</td>\n      <td>259.0</td>\n      <td>359.0</td>\n      <td>931.0</td>\n      <td>249.0</td>\n      <td>229.0</td>\n      <td>1000.0</td>\n      <td>469.0</td>\n      <td>...</td>\n      <td>3214.0</td>\n      <td>2452.0</td>\n      <td>374.0</td>\n      <td>789.0</td>\n      <td>675.0</td>\n      <td>761.0</td>\n      <td>260.0</td>\n      <td>44.0</td>\n      <td>9290.0</td>\n      <td>329.0</td>\n    </tr>\n    <tr>\n      <th>부산광역시</th>\n      <td>650.0</td>\n      <td>2205.0</td>\n      <td>639.0</td>\n      <td>383.0</td>\n      <td>849.0</td>\n      <td>1464.0</td>\n      <td>461.0</td>\n      <td>452.0</td>\n      <td>2305.0</td>\n      <td>834.0</td>\n      <td>...</td>\n      <td>6761.0</td>\n      <td>8778.0</td>\n      <td>656.0</td>\n      <td>1956.0</td>\n      <td>1402.0</td>\n      <td>1087.0</td>\n      <td>500.0</td>\n      <td>111.0</td>\n      <td>20469.0</td>\n      <td>1104.0</td>\n    </tr>\n    <tr>\n      <th>서울특별시</th>\n      <td>1358.0</td>\n      <td>6904.0</td>\n      <td>1752.0</td>\n      <td>1505.0</td>\n      <td>3153.0</td>\n      <td>15771.0</td>\n      <td>3723.0</td>\n      <td>1187.0</td>\n      <td>10873.0</td>\n      <td>3296.0</td>\n      <td>...</td>\n      <td>18788.0</td>\n      <td>17690.0</td>\n      <td>1346.0</td>\n      <td>5178.0</td>\n      <td>3273.0</td>\n      <td>3530.0</td>\n      <td>1614.0</td>\n      <td>293.0</td>\n      <td>45753.0</td>\n      <td>6156.0</td>\n    </tr>\n    <tr>\n      <th>세종특별자치시</th>\n      <td>38.0</td>\n      <td>144.0</td>\n      <td>29.0</td>\n      <td>45.0</td>\n      <td>85.0</td>\n      <td>157.0</td>\n      <td>68.0</td>\n      <td>60.0</td>\n      <td>214.0</td>\n      <td>55.0</td>\n      <td>...</td>\n      <td>603.0</td>\n      <td>347.0</td>\n      <td>26.0</td>\n      <td>192.0</td>\n      <td>101.0</td>\n      <td>135.0</td>\n      <td>30.0</td>\n      <td>9.0</td>\n      <td>1833.0</td>\n      <td>62.0</td>\n    </tr>\n    <tr>\n      <th>울산광역시</th>\n      <td>200.0</td>\n      <td>830.0</td>\n      <td>230.0</td>\n      <td>121.0</td>\n      <td>360.0</td>\n      <td>304.0</td>\n      <td>120.0</td>\n      <td>194.0</td>\n      <td>891.0</td>\n      <td>225.0</td>\n      <td>...</td>\n      <td>2561.0</td>\n      <td>2922.0</td>\n      <td>149.0</td>\n      <td>644.0</td>\n      <td>469.0</td>\n      <td>508.0</td>\n      <td>149.0</td>\n      <td>18.0</td>\n      <td>8186.0</td>\n      <td>210.0</td>\n    </tr>\n    <tr>\n      <th>인천광역시</th>\n      <td>441.0</td>\n      <td>1926.0</td>\n      <td>551.0</td>\n      <td>310.0</td>\n      <td>704.0</td>\n      <td>1266.0</td>\n      <td>331.0</td>\n      <td>755.0</td>\n      <td>1318.0</td>\n      <td>585.0</td>\n      <td>...</td>\n      <td>6194.0</td>\n      <td>5272.0</td>\n      <td>467.0</td>\n      <td>1521.0</td>\n      <td>1095.0</td>\n      <td>993.0</td>\n      <td>418.0</td>\n      <td>75.0</td>\n      <td>14580.0</td>\n      <td>598.0</td>\n    </tr>\n    <tr>\n      <th>전라남도</th>\n      <td>410.0</td>\n      <td>1450.0</td>\n      <td>447.0</td>\n      <td>234.0</td>\n      <td>571.0</td>\n      <td>593.0</td>\n      <td>179.0</td>\n      <td>239.0</td>\n      <td>1351.0</td>\n      <td>482.0</td>\n      <td>...</td>\n      <td>5945.0</td>\n      <td>5642.0</td>\n      <td>247.0</td>\n      <td>1063.0</td>\n      <td>1432.0</td>\n      <td>759.0</td>\n      <td>197.0</td>\n      <td>32.0</td>\n      <td>15125.0</td>\n      <td>163.0</td>\n    </tr>\n    <tr>\n      <th>전라북도</th>\n      <td>544.0</td>\n      <td>1594.0</td>\n      <td>484.0</td>\n      <td>423.0</td>\n      <td>560.0</td>\n      <td>737.0</td>\n      <td>266.0</td>\n      <td>298.0</td>\n      <td>1234.0</td>\n      <td>490.0</td>\n      <td>...</td>\n      <td>5451.0</td>\n      <td>3686.0</td>\n      <td>301.0</td>\n      <td>1176.0</td>\n      <td>1398.0</td>\n      <td>686.0</td>\n      <td>199.0</td>\n      <td>44.0</td>\n      <td>12515.0</td>\n      <td>333.0</td>\n    </tr>\n    <tr>\n      <th>제주특별자치도</th>\n      <td>228.0</td>\n      <td>579.0</td>\n      <td>168.0</td>\n      <td>367.0</td>\n      <td>186.0</td>\n      <td>399.0</td>\n      <td>119.0</td>\n      <td>109.0</td>\n      <td>644.0</td>\n      <td>180.0</td>\n      <td>...</td>\n      <td>2523.0</td>\n      <td>2863.0</td>\n      <td>122.0</td>\n      <td>523.0</td>\n      <td>370.0</td>\n      <td>399.0</td>\n      <td>64.0</td>\n      <td>22.0</td>\n      <td>7968.0</td>\n      <td>154.0</td>\n    </tr>\n    <tr>\n      <th>충청남도</th>\n      <td>415.0</td>\n      <td>1673.0</td>\n      <td>511.0</td>\n      <td>365.0</td>\n      <td>1165.0</td>\n      <td>725.0</td>\n      <td>208.0</td>\n      <td>571.0</td>\n      <td>1440.0</td>\n      <td>544.0</td>\n      <td>...</td>\n      <td>6612.0</td>\n      <td>4394.0</td>\n      <td>401.0</td>\n      <td>1564.0</td>\n      <td>1462.0</td>\n      <td>887.0</td>\n      <td>225.0</td>\n      <td>69.0</td>\n      <td>17346.0</td>\n      <td>330.0</td>\n    </tr>\n    <tr>\n      <th>충청북도</th>\n      <td>381.0</td>\n      <td>1250.0</td>\n      <td>352.0</td>\n      <td>226.0</td>\n      <td>879.0</td>\n      <td>577.0</td>\n      <td>185.0</td>\n      <td>461.0</td>\n      <td>1080.0</td>\n      <td>420.0</td>\n      <td>...</td>\n      <td>4721.0</td>\n      <td>3498.0</td>\n      <td>312.0</td>\n      <td>1200.0</td>\n      <td>933.0</td>\n      <td>756.0</td>\n      <td>242.0</td>\n      <td>42.0</td>\n      <td>13418.0</td>\n      <td>226.0</td>\n    </tr>\n  </tbody>\n</table>\n<p>17 rows × 75 columns</p>\n</div>"
     },
     "execution_count": 51,
     "metadata": {},
     "output_type": "execute_result"
    }
   ],
   "source": [
    "category_count = df.pivot_table(values='상호명',index='시도명', columns='상권업종중분류명',aggfunc='count')\n",
    "category_count"
   ],
   "metadata": {
    "collapsed": false,
    "pycharm": {
     "name": "#%%\n"
    }
   }
  },
  {
   "cell_type": "code",
   "execution_count": 52,
   "outputs": [
    {
     "data": {
      "text/plain": "상권업종중분류명   가구 소매  가전·통신 소매  가전제품 수리  가정용품 대여   고용 알선       광고   교육 지원  \\\n시도명                                                                     \n강원특별자치도    339.0    1301.0    445.0    634.0   503.0    622.0   191.0   \n경기도       2892.0    8356.0   2880.0   1949.0  3838.0   8088.0  1875.0   \n경상남도       790.0    2549.0    715.0    459.0  1014.0    871.0   297.0   \n경상북도       590.0    2158.0    540.0    380.0   962.0    716.0   258.0   \n광주광역시      349.0    1433.0    335.0    203.0   444.0    843.0   239.0   \n대구광역시      544.0    2001.0    554.0    360.0   710.0   1295.0   316.0   \n대전광역시      328.0    1351.0    371.0    259.0   359.0    931.0   249.0   \n부산광역시      650.0    2205.0    639.0    383.0   849.0   1464.0   461.0   \n서울특별시     1358.0    6904.0   1752.0   1505.0  3153.0  15771.0  3723.0   \n세종특별자치시     38.0     144.0     29.0     45.0    85.0    157.0    68.0   \n울산광역시      200.0     830.0    230.0    121.0   360.0    304.0   120.0   \n인천광역시      441.0    1926.0    551.0    310.0   704.0   1266.0   331.0   \n전라남도       410.0    1450.0    447.0    234.0   571.0    593.0   179.0   \n전라북도       544.0    1594.0    484.0    423.0   560.0    737.0   266.0   \n제주특별자치도    228.0     579.0    168.0    367.0   186.0    399.0   119.0   \n충청남도       415.0    1673.0    511.0    365.0  1165.0    725.0   208.0   \n충청북도       381.0    1250.0    352.0    226.0   879.0    577.0   185.0   \n\n상권업종중분류명  구내식당·뷔페   기술 서비스  기타 가정용품 수리  ...    종합 소매       주점  중고 상품 소매  \\\n시도명                                     ...                               \n강원특별자치도     228.0   1081.0       506.0  ...   5514.0   4436.0     282.0   \n경기도        3180.0   9759.0      3242.0  ...  28697.0  20748.0    2365.0   \n경상남도        730.0   2421.0       714.0  ...   8276.0   9321.0     595.0   \n경상북도        547.0   1842.0       656.0  ...   7474.0   6161.0     486.0   \n광주광역시       180.0   1212.0       361.0  ...   3191.0   3665.0     288.0   \n대구광역시       422.0   1707.0       657.0  ...   4730.0   5202.0     538.0   \n대전광역시       229.0   1000.0       469.0  ...   3214.0   2452.0     374.0   \n부산광역시       452.0   2305.0       834.0  ...   6761.0   8778.0     656.0   \n서울특별시      1187.0  10873.0      3296.0  ...  18788.0  17690.0    1346.0   \n세종특별자치시      60.0    214.0        55.0  ...    603.0    347.0      26.0   \n울산광역시       194.0    891.0       225.0  ...   2561.0   2922.0     149.0   \n인천광역시       755.0   1318.0       585.0  ...   6194.0   5272.0     467.0   \n전라남도        239.0   1351.0       482.0  ...   5945.0   5642.0     247.0   \n전라북도        298.0   1234.0       490.0  ...   5451.0   3686.0     301.0   \n제주특별자치도     109.0    644.0       180.0  ...   2523.0   2863.0     122.0   \n충청남도        571.0   1440.0       544.0  ...   6612.0   4394.0     401.0   \n충청북도        461.0   1080.0       420.0  ...   4721.0   3498.0     312.0   \n\n상권업종중분류명      중식  철물·건설자재 소매   청소·방제  컴퓨터 수리  통신장비 수리       한식   회계·세무  \n시도명                                                                     \n강원특별자치도   1178.0      1267.0   735.0   183.0     37.0  17203.0   196.0  \n경기도       6808.0      5109.0  5380.0  1962.0    383.0  65779.0  3300.0  \n경상남도      2019.0      1823.0  1170.0   405.0     68.0  27306.0   531.0  \n경상북도      1878.0      1761.0  1017.0   303.0     49.0  23209.0   275.0  \n광주광역시      619.0       710.0   543.0   187.0     47.0   8074.0   378.0  \n대구광역시     1343.0       824.0   780.0   369.0     78.0  14655.0   659.0  \n대전광역시      789.0       675.0   761.0   260.0     44.0   9290.0   329.0  \n부산광역시     1956.0      1402.0  1087.0   500.0    111.0  20469.0  1104.0  \n서울특별시     5178.0      3273.0  3530.0  1614.0    293.0  45753.0  6156.0  \n세종특별자치시    192.0       101.0   135.0    30.0      9.0   1833.0    62.0  \n울산광역시      644.0       469.0   508.0   149.0     18.0   8186.0   210.0  \n인천광역시     1521.0      1095.0   993.0   418.0     75.0  14580.0   598.0  \n전라남도      1063.0      1432.0   759.0   197.0     32.0  15125.0   163.0  \n전라북도      1176.0      1398.0   686.0   199.0     44.0  12515.0   333.0  \n제주특별자치도    523.0       370.0   399.0    64.0     22.0   7968.0   154.0  \n충청남도      1564.0      1462.0   887.0   225.0     69.0  17346.0   330.0  \n충청북도      1200.0       933.0   756.0   242.0     42.0  13418.0   226.0  \n\n[17 rows x 75 columns]",
      "text/html": "<div>\n<style scoped>\n    .dataframe tbody tr th:only-of-type {\n        vertical-align: middle;\n    }\n\n    .dataframe tbody tr th {\n        vertical-align: top;\n    }\n\n    .dataframe thead th {\n        text-align: right;\n    }\n</style>\n<table border=\"1\" class=\"dataframe\">\n  <thead>\n    <tr style=\"text-align: right;\">\n      <th>상권업종중분류명</th>\n      <th>가구 소매</th>\n      <th>가전·통신 소매</th>\n      <th>가전제품 수리</th>\n      <th>가정용품 대여</th>\n      <th>고용 알선</th>\n      <th>광고</th>\n      <th>교육 지원</th>\n      <th>구내식당·뷔페</th>\n      <th>기술 서비스</th>\n      <th>기타 가정용품 수리</th>\n      <th>...</th>\n      <th>종합 소매</th>\n      <th>주점</th>\n      <th>중고 상품 소매</th>\n      <th>중식</th>\n      <th>철물·건설자재 소매</th>\n      <th>청소·방제</th>\n      <th>컴퓨터 수리</th>\n      <th>통신장비 수리</th>\n      <th>한식</th>\n      <th>회계·세무</th>\n    </tr>\n    <tr>\n      <th>시도명</th>\n      <th></th>\n      <th></th>\n      <th></th>\n      <th></th>\n      <th></th>\n      <th></th>\n      <th></th>\n      <th></th>\n      <th></th>\n      <th></th>\n      <th></th>\n      <th></th>\n      <th></th>\n      <th></th>\n      <th></th>\n      <th></th>\n      <th></th>\n      <th></th>\n      <th></th>\n      <th></th>\n      <th></th>\n    </tr>\n  </thead>\n  <tbody>\n    <tr>\n      <th>강원특별자치도</th>\n      <td>339.0</td>\n      <td>1301.0</td>\n      <td>445.0</td>\n      <td>634.0</td>\n      <td>503.0</td>\n      <td>622.0</td>\n      <td>191.0</td>\n      <td>228.0</td>\n      <td>1081.0</td>\n      <td>506.0</td>\n      <td>...</td>\n      <td>5514.0</td>\n      <td>4436.0</td>\n      <td>282.0</td>\n      <td>1178.0</td>\n      <td>1267.0</td>\n      <td>735.0</td>\n      <td>183.0</td>\n      <td>37.0</td>\n      <td>17203.0</td>\n      <td>196.0</td>\n    </tr>\n    <tr>\n      <th>경기도</th>\n      <td>2892.0</td>\n      <td>8356.0</td>\n      <td>2880.0</td>\n      <td>1949.0</td>\n      <td>3838.0</td>\n      <td>8088.0</td>\n      <td>1875.0</td>\n      <td>3180.0</td>\n      <td>9759.0</td>\n      <td>3242.0</td>\n      <td>...</td>\n      <td>28697.0</td>\n      <td>20748.0</td>\n      <td>2365.0</td>\n      <td>6808.0</td>\n      <td>5109.0</td>\n      <td>5380.0</td>\n      <td>1962.0</td>\n      <td>383.0</td>\n      <td>65779.0</td>\n      <td>3300.0</td>\n    </tr>\n    <tr>\n      <th>경상남도</th>\n      <td>790.0</td>\n      <td>2549.0</td>\n      <td>715.0</td>\n      <td>459.0</td>\n      <td>1014.0</td>\n      <td>871.0</td>\n      <td>297.0</td>\n      <td>730.0</td>\n      <td>2421.0</td>\n      <td>714.0</td>\n      <td>...</td>\n      <td>8276.0</td>\n      <td>9321.0</td>\n      <td>595.0</td>\n      <td>2019.0</td>\n      <td>1823.0</td>\n      <td>1170.0</td>\n      <td>405.0</td>\n      <td>68.0</td>\n      <td>27306.0</td>\n      <td>531.0</td>\n    </tr>\n    <tr>\n      <th>경상북도</th>\n      <td>590.0</td>\n      <td>2158.0</td>\n      <td>540.0</td>\n      <td>380.0</td>\n      <td>962.0</td>\n      <td>716.0</td>\n      <td>258.0</td>\n      <td>547.0</td>\n      <td>1842.0</td>\n      <td>656.0</td>\n      <td>...</td>\n      <td>7474.0</td>\n      <td>6161.0</td>\n      <td>486.0</td>\n      <td>1878.0</td>\n      <td>1761.0</td>\n      <td>1017.0</td>\n      <td>303.0</td>\n      <td>49.0</td>\n      <td>23209.0</td>\n      <td>275.0</td>\n    </tr>\n    <tr>\n      <th>광주광역시</th>\n      <td>349.0</td>\n      <td>1433.0</td>\n      <td>335.0</td>\n      <td>203.0</td>\n      <td>444.0</td>\n      <td>843.0</td>\n      <td>239.0</td>\n      <td>180.0</td>\n      <td>1212.0</td>\n      <td>361.0</td>\n      <td>...</td>\n      <td>3191.0</td>\n      <td>3665.0</td>\n      <td>288.0</td>\n      <td>619.0</td>\n      <td>710.0</td>\n      <td>543.0</td>\n      <td>187.0</td>\n      <td>47.0</td>\n      <td>8074.0</td>\n      <td>378.0</td>\n    </tr>\n    <tr>\n      <th>대구광역시</th>\n      <td>544.0</td>\n      <td>2001.0</td>\n      <td>554.0</td>\n      <td>360.0</td>\n      <td>710.0</td>\n      <td>1295.0</td>\n      <td>316.0</td>\n      <td>422.0</td>\n      <td>1707.0</td>\n      <td>657.0</td>\n      <td>...</td>\n      <td>4730.0</td>\n      <td>5202.0</td>\n      <td>538.0</td>\n      <td>1343.0</td>\n      <td>824.0</td>\n      <td>780.0</td>\n      <td>369.0</td>\n      <td>78.0</td>\n      <td>14655.0</td>\n      <td>659.0</td>\n    </tr>\n    <tr>\n      <th>대전광역시</th>\n      <td>328.0</td>\n      <td>1351.0</td>\n      <td>371.0</td>\n      <td>259.0</td>\n      <td>359.0</td>\n      <td>931.0</td>\n      <td>249.0</td>\n      <td>229.0</td>\n      <td>1000.0</td>\n      <td>469.0</td>\n      <td>...</td>\n      <td>3214.0</td>\n      <td>2452.0</td>\n      <td>374.0</td>\n      <td>789.0</td>\n      <td>675.0</td>\n      <td>761.0</td>\n      <td>260.0</td>\n      <td>44.0</td>\n      <td>9290.0</td>\n      <td>329.0</td>\n    </tr>\n    <tr>\n      <th>부산광역시</th>\n      <td>650.0</td>\n      <td>2205.0</td>\n      <td>639.0</td>\n      <td>383.0</td>\n      <td>849.0</td>\n      <td>1464.0</td>\n      <td>461.0</td>\n      <td>452.0</td>\n      <td>2305.0</td>\n      <td>834.0</td>\n      <td>...</td>\n      <td>6761.0</td>\n      <td>8778.0</td>\n      <td>656.0</td>\n      <td>1956.0</td>\n      <td>1402.0</td>\n      <td>1087.0</td>\n      <td>500.0</td>\n      <td>111.0</td>\n      <td>20469.0</td>\n      <td>1104.0</td>\n    </tr>\n    <tr>\n      <th>서울특별시</th>\n      <td>1358.0</td>\n      <td>6904.0</td>\n      <td>1752.0</td>\n      <td>1505.0</td>\n      <td>3153.0</td>\n      <td>15771.0</td>\n      <td>3723.0</td>\n      <td>1187.0</td>\n      <td>10873.0</td>\n      <td>3296.0</td>\n      <td>...</td>\n      <td>18788.0</td>\n      <td>17690.0</td>\n      <td>1346.0</td>\n      <td>5178.0</td>\n      <td>3273.0</td>\n      <td>3530.0</td>\n      <td>1614.0</td>\n      <td>293.0</td>\n      <td>45753.0</td>\n      <td>6156.0</td>\n    </tr>\n    <tr>\n      <th>세종특별자치시</th>\n      <td>38.0</td>\n      <td>144.0</td>\n      <td>29.0</td>\n      <td>45.0</td>\n      <td>85.0</td>\n      <td>157.0</td>\n      <td>68.0</td>\n      <td>60.0</td>\n      <td>214.0</td>\n      <td>55.0</td>\n      <td>...</td>\n      <td>603.0</td>\n      <td>347.0</td>\n      <td>26.0</td>\n      <td>192.0</td>\n      <td>101.0</td>\n      <td>135.0</td>\n      <td>30.0</td>\n      <td>9.0</td>\n      <td>1833.0</td>\n      <td>62.0</td>\n    </tr>\n    <tr>\n      <th>울산광역시</th>\n      <td>200.0</td>\n      <td>830.0</td>\n      <td>230.0</td>\n      <td>121.0</td>\n      <td>360.0</td>\n      <td>304.0</td>\n      <td>120.0</td>\n      <td>194.0</td>\n      <td>891.0</td>\n      <td>225.0</td>\n      <td>...</td>\n      <td>2561.0</td>\n      <td>2922.0</td>\n      <td>149.0</td>\n      <td>644.0</td>\n      <td>469.0</td>\n      <td>508.0</td>\n      <td>149.0</td>\n      <td>18.0</td>\n      <td>8186.0</td>\n      <td>210.0</td>\n    </tr>\n    <tr>\n      <th>인천광역시</th>\n      <td>441.0</td>\n      <td>1926.0</td>\n      <td>551.0</td>\n      <td>310.0</td>\n      <td>704.0</td>\n      <td>1266.0</td>\n      <td>331.0</td>\n      <td>755.0</td>\n      <td>1318.0</td>\n      <td>585.0</td>\n      <td>...</td>\n      <td>6194.0</td>\n      <td>5272.0</td>\n      <td>467.0</td>\n      <td>1521.0</td>\n      <td>1095.0</td>\n      <td>993.0</td>\n      <td>418.0</td>\n      <td>75.0</td>\n      <td>14580.0</td>\n      <td>598.0</td>\n    </tr>\n    <tr>\n      <th>전라남도</th>\n      <td>410.0</td>\n      <td>1450.0</td>\n      <td>447.0</td>\n      <td>234.0</td>\n      <td>571.0</td>\n      <td>593.0</td>\n      <td>179.0</td>\n      <td>239.0</td>\n      <td>1351.0</td>\n      <td>482.0</td>\n      <td>...</td>\n      <td>5945.0</td>\n      <td>5642.0</td>\n      <td>247.0</td>\n      <td>1063.0</td>\n      <td>1432.0</td>\n      <td>759.0</td>\n      <td>197.0</td>\n      <td>32.0</td>\n      <td>15125.0</td>\n      <td>163.0</td>\n    </tr>\n    <tr>\n      <th>전라북도</th>\n      <td>544.0</td>\n      <td>1594.0</td>\n      <td>484.0</td>\n      <td>423.0</td>\n      <td>560.0</td>\n      <td>737.0</td>\n      <td>266.0</td>\n      <td>298.0</td>\n      <td>1234.0</td>\n      <td>490.0</td>\n      <td>...</td>\n      <td>5451.0</td>\n      <td>3686.0</td>\n      <td>301.0</td>\n      <td>1176.0</td>\n      <td>1398.0</td>\n      <td>686.0</td>\n      <td>199.0</td>\n      <td>44.0</td>\n      <td>12515.0</td>\n      <td>333.0</td>\n    </tr>\n    <tr>\n      <th>제주특별자치도</th>\n      <td>228.0</td>\n      <td>579.0</td>\n      <td>168.0</td>\n      <td>367.0</td>\n      <td>186.0</td>\n      <td>399.0</td>\n      <td>119.0</td>\n      <td>109.0</td>\n      <td>644.0</td>\n      <td>180.0</td>\n      <td>...</td>\n      <td>2523.0</td>\n      <td>2863.0</td>\n      <td>122.0</td>\n      <td>523.0</td>\n      <td>370.0</td>\n      <td>399.0</td>\n      <td>64.0</td>\n      <td>22.0</td>\n      <td>7968.0</td>\n      <td>154.0</td>\n    </tr>\n    <tr>\n      <th>충청남도</th>\n      <td>415.0</td>\n      <td>1673.0</td>\n      <td>511.0</td>\n      <td>365.0</td>\n      <td>1165.0</td>\n      <td>725.0</td>\n      <td>208.0</td>\n      <td>571.0</td>\n      <td>1440.0</td>\n      <td>544.0</td>\n      <td>...</td>\n      <td>6612.0</td>\n      <td>4394.0</td>\n      <td>401.0</td>\n      <td>1564.0</td>\n      <td>1462.0</td>\n      <td>887.0</td>\n      <td>225.0</td>\n      <td>69.0</td>\n      <td>17346.0</td>\n      <td>330.0</td>\n    </tr>\n    <tr>\n      <th>충청북도</th>\n      <td>381.0</td>\n      <td>1250.0</td>\n      <td>352.0</td>\n      <td>226.0</td>\n      <td>879.0</td>\n      <td>577.0</td>\n      <td>185.0</td>\n      <td>461.0</td>\n      <td>1080.0</td>\n      <td>420.0</td>\n      <td>...</td>\n      <td>4721.0</td>\n      <td>3498.0</td>\n      <td>312.0</td>\n      <td>1200.0</td>\n      <td>933.0</td>\n      <td>756.0</td>\n      <td>242.0</td>\n      <td>42.0</td>\n      <td>13418.0</td>\n      <td>226.0</td>\n    </tr>\n  </tbody>\n</table>\n<p>17 rows × 75 columns</p>\n</div>"
     },
     "execution_count": 52,
     "metadata": {},
     "output_type": "execute_result"
    }
   ],
   "source": [
    "# 시도명, 상권업종중분류명 기준으로 업종명을 count 세고\n",
    "# unstack으로 index로 있던 상권업종분류명을 column으로 올림\n",
    "category_count = df.groupby(['시도명', '상권업종중분류명'])['상호명'].count().unstack()\n",
    "category_count"
   ],
   "metadata": {
    "collapsed": false,
    "pycharm": {
     "name": "#%%\n"
    }
   }
  },
  {
   "cell_type": "code",
   "execution_count": 53,
   "outputs": [
    {
     "data": {
      "text/plain": "상권업종중분류명     가구 소매  가전·통신 소매   가전제품 수리   가정용품 대여     고용 알선        광고  \\\n시도명                                                                    \n강원특별자치도   0.003572  0.013707  0.004689  0.006680  0.005300  0.006553   \n경기도       0.005283  0.015265  0.005261  0.003560  0.007011  0.014775   \n경상남도      0.004877  0.015735  0.004414  0.002833  0.006260  0.005377   \n경상북도      0.004386  0.016042  0.004014  0.002825  0.007151  0.005323   \n광주광역시     0.004950  0.020323  0.004751  0.002879  0.006297  0.011956   \n대구광역시     0.004910  0.018059  0.005000  0.003249  0.006408  0.011688   \n대전광역시     0.004633  0.019084  0.005241  0.003659  0.005071  0.013151   \n부산광역시     0.004374  0.014837  0.004300  0.002577  0.005713  0.009851   \n서울특별시     0.002866  0.014573  0.003698  0.003177  0.006655  0.033289   \n세종특별자치시   0.002866  0.010859  0.002187  0.003393  0.006410  0.011839   \n울산광역시     0.003887  0.016133  0.004471  0.002352  0.006997  0.005909   \n인천광역시     0.003969  0.017335  0.004959  0.002790  0.006336  0.011395   \n전라남도      0.004355  0.015402  0.004748  0.002486  0.006065  0.006299   \n전라북도      0.005981  0.017526  0.005322  0.004651  0.006157  0.008103   \n제주특별자치도   0.004228  0.010737  0.003115  0.006805  0.003449  0.007399   \n충청남도      0.003846  0.015504  0.004736  0.003383  0.010796  0.006719   \n충청북도      0.004662  0.015296  0.004307  0.002765  0.010756  0.007060   \n\n상권업종중분류명     교육 지원   구내식당·뷔페    기술 서비스  기타 가정용품 수리  ...     종합 소매        주점  \\\n시도명                                                 ...                       \n강원특별자치도   0.002012  0.002402  0.011389    0.005331  ...  0.058096  0.046738   \n경기도       0.003425  0.005809  0.017828    0.005923  ...  0.052424  0.037903   \n경상남도      0.001833  0.004506  0.014945    0.004408  ...  0.051089  0.057540   \n경상북도      0.001918  0.004066  0.013693    0.004877  ...  0.055560  0.045800   \n광주광역시     0.003390  0.002553  0.017189    0.005120  ...  0.045256  0.051978   \n대구광역시     0.002852  0.003809  0.015406    0.005929  ...  0.042689  0.046949   \n대전광역시     0.003517  0.003235  0.014126    0.006625  ...  0.045400  0.034636   \n부산광역시     0.003102  0.003041  0.015510    0.005612  ...  0.045495  0.059067   \n서울특별시     0.007858  0.002505  0.022950    0.006957  ...  0.039657  0.037339   \n세종특별자치시   0.005128  0.004525  0.016138    0.004148  ...  0.045472  0.026167   \n울산광역시     0.002332  0.003771  0.017319    0.004373  ...  0.049779  0.056796   \n인천광역시     0.002979  0.006795  0.011863    0.005265  ...  0.055750  0.047451   \n전라남도      0.001901  0.002539  0.014351    0.005120  ...  0.063150  0.059931   \n전라북도      0.002925  0.003277  0.013568    0.005388  ...  0.059935  0.040528   \n제주특별자치도   0.002207  0.002021  0.011942    0.003338  ...  0.046785  0.053089   \n충청남도      0.001928  0.005292  0.013345    0.005041  ...  0.061276  0.040721   \n충청북도      0.002264  0.005641  0.013215    0.005139  ...  0.057768  0.042803   \n\n상권업종중분류명  중고 상품 소매        중식  철물·건설자재 소매     청소·방제    컴퓨터 수리   통신장비 수리  \\\n시도명                                                                      \n강원특별자치도   0.002971  0.012411    0.013349  0.007744  0.001928  0.000390   \n경기도       0.004320  0.012437    0.009333  0.009828  0.003584  0.000700   \n경상남도      0.003673  0.012464    0.011254  0.007223  0.002500  0.000420   \n경상북도      0.003613  0.013961    0.013091  0.007560  0.002252  0.000364   \n광주광역시     0.004085  0.008779    0.010069  0.007701  0.002652  0.000667   \n대구광역시     0.004856  0.012121    0.007437  0.007040  0.003330  0.000704   \n대전광역시     0.005283  0.011145    0.009535  0.010750  0.003673  0.000622   \n부산광역시     0.004414  0.013162    0.009434  0.007314  0.003364  0.000747   \n서울특별시     0.002841  0.010930    0.006909  0.007451  0.003407  0.000618   \n세종특별자치시   0.001961  0.014479    0.007616  0.010180  0.002262  0.000679   \n울산광역시     0.002896  0.012518    0.009116  0.009874  0.002896  0.000350   \n인천광역시     0.004203  0.013690    0.009856  0.008938  0.003762  0.000675   \n전라남도      0.002624  0.011292    0.015211  0.008062  0.002093  0.000340   \n전라북도      0.003310  0.012930    0.015371  0.007543  0.002188  0.000484   \n제주특별자치도   0.002262  0.009698    0.006861  0.007399  0.001187  0.000408   \n충청남도      0.003716  0.014494    0.013549  0.008220  0.002085  0.000639   \n충청북도      0.003818  0.014684    0.011417  0.009251  0.002961  0.000514   \n\n상권업종중분류명        한식     회계·세무  \n시도명                           \n강원특별자치도   0.181252  0.002065  \n경기도       0.120167  0.006029  \n경상남도      0.168564  0.003278  \n경상북도      0.172531  0.002044  \n광주광역시     0.114509  0.005361  \n대구광역시     0.132263  0.005948  \n대전광역시     0.131228  0.004647  \n부산광역시     0.137735  0.007429  \n서울특별시     0.096574  0.012994  \n세종특별자치시   0.138225  0.004675  \n울산광역시     0.159115  0.004082  \n인천광역시     0.131230  0.005382  \n전라남도      0.160663  0.001731  \n전라북도      0.137605  0.003661  \n제주특별자치도   0.147753  0.002856  \n충청남도      0.160751  0.003058  \n충청북도      0.164189  0.002765  \n\n[17 rows x 75 columns]",
      "text/html": "<div>\n<style scoped>\n    .dataframe tbody tr th:only-of-type {\n        vertical-align: middle;\n    }\n\n    .dataframe tbody tr th {\n        vertical-align: top;\n    }\n\n    .dataframe thead th {\n        text-align: right;\n    }\n</style>\n<table border=\"1\" class=\"dataframe\">\n  <thead>\n    <tr style=\"text-align: right;\">\n      <th>상권업종중분류명</th>\n      <th>가구 소매</th>\n      <th>가전·통신 소매</th>\n      <th>가전제품 수리</th>\n      <th>가정용품 대여</th>\n      <th>고용 알선</th>\n      <th>광고</th>\n      <th>교육 지원</th>\n      <th>구내식당·뷔페</th>\n      <th>기술 서비스</th>\n      <th>기타 가정용품 수리</th>\n      <th>...</th>\n      <th>종합 소매</th>\n      <th>주점</th>\n      <th>중고 상품 소매</th>\n      <th>중식</th>\n      <th>철물·건설자재 소매</th>\n      <th>청소·방제</th>\n      <th>컴퓨터 수리</th>\n      <th>통신장비 수리</th>\n      <th>한식</th>\n      <th>회계·세무</th>\n    </tr>\n    <tr>\n      <th>시도명</th>\n      <th></th>\n      <th></th>\n      <th></th>\n      <th></th>\n      <th></th>\n      <th></th>\n      <th></th>\n      <th></th>\n      <th></th>\n      <th></th>\n      <th></th>\n      <th></th>\n      <th></th>\n      <th></th>\n      <th></th>\n      <th></th>\n      <th></th>\n      <th></th>\n      <th></th>\n      <th></th>\n      <th></th>\n    </tr>\n  </thead>\n  <tbody>\n    <tr>\n      <th>강원특별자치도</th>\n      <td>0.003572</td>\n      <td>0.013707</td>\n      <td>0.004689</td>\n      <td>0.006680</td>\n      <td>0.005300</td>\n      <td>0.006553</td>\n      <td>0.002012</td>\n      <td>0.002402</td>\n      <td>0.011389</td>\n      <td>0.005331</td>\n      <td>...</td>\n      <td>0.058096</td>\n      <td>0.046738</td>\n      <td>0.002971</td>\n      <td>0.012411</td>\n      <td>0.013349</td>\n      <td>0.007744</td>\n      <td>0.001928</td>\n      <td>0.000390</td>\n      <td>0.181252</td>\n      <td>0.002065</td>\n    </tr>\n    <tr>\n      <th>경기도</th>\n      <td>0.005283</td>\n      <td>0.015265</td>\n      <td>0.005261</td>\n      <td>0.003560</td>\n      <td>0.007011</td>\n      <td>0.014775</td>\n      <td>0.003425</td>\n      <td>0.005809</td>\n      <td>0.017828</td>\n      <td>0.005923</td>\n      <td>...</td>\n      <td>0.052424</td>\n      <td>0.037903</td>\n      <td>0.004320</td>\n      <td>0.012437</td>\n      <td>0.009333</td>\n      <td>0.009828</td>\n      <td>0.003584</td>\n      <td>0.000700</td>\n      <td>0.120167</td>\n      <td>0.006029</td>\n    </tr>\n    <tr>\n      <th>경상남도</th>\n      <td>0.004877</td>\n      <td>0.015735</td>\n      <td>0.004414</td>\n      <td>0.002833</td>\n      <td>0.006260</td>\n      <td>0.005377</td>\n      <td>0.001833</td>\n      <td>0.004506</td>\n      <td>0.014945</td>\n      <td>0.004408</td>\n      <td>...</td>\n      <td>0.051089</td>\n      <td>0.057540</td>\n      <td>0.003673</td>\n      <td>0.012464</td>\n      <td>0.011254</td>\n      <td>0.007223</td>\n      <td>0.002500</td>\n      <td>0.000420</td>\n      <td>0.168564</td>\n      <td>0.003278</td>\n    </tr>\n    <tr>\n      <th>경상북도</th>\n      <td>0.004386</td>\n      <td>0.016042</td>\n      <td>0.004014</td>\n      <td>0.002825</td>\n      <td>0.007151</td>\n      <td>0.005323</td>\n      <td>0.001918</td>\n      <td>0.004066</td>\n      <td>0.013693</td>\n      <td>0.004877</td>\n      <td>...</td>\n      <td>0.055560</td>\n      <td>0.045800</td>\n      <td>0.003613</td>\n      <td>0.013961</td>\n      <td>0.013091</td>\n      <td>0.007560</td>\n      <td>0.002252</td>\n      <td>0.000364</td>\n      <td>0.172531</td>\n      <td>0.002044</td>\n    </tr>\n    <tr>\n      <th>광주광역시</th>\n      <td>0.004950</td>\n      <td>0.020323</td>\n      <td>0.004751</td>\n      <td>0.002879</td>\n      <td>0.006297</td>\n      <td>0.011956</td>\n      <td>0.003390</td>\n      <td>0.002553</td>\n      <td>0.017189</td>\n      <td>0.005120</td>\n      <td>...</td>\n      <td>0.045256</td>\n      <td>0.051978</td>\n      <td>0.004085</td>\n      <td>0.008779</td>\n      <td>0.010069</td>\n      <td>0.007701</td>\n      <td>0.002652</td>\n      <td>0.000667</td>\n      <td>0.114509</td>\n      <td>0.005361</td>\n    </tr>\n    <tr>\n      <th>대구광역시</th>\n      <td>0.004910</td>\n      <td>0.018059</td>\n      <td>0.005000</td>\n      <td>0.003249</td>\n      <td>0.006408</td>\n      <td>0.011688</td>\n      <td>0.002852</td>\n      <td>0.003809</td>\n      <td>0.015406</td>\n      <td>0.005929</td>\n      <td>...</td>\n      <td>0.042689</td>\n      <td>0.046949</td>\n      <td>0.004856</td>\n      <td>0.012121</td>\n      <td>0.007437</td>\n      <td>0.007040</td>\n      <td>0.003330</td>\n      <td>0.000704</td>\n      <td>0.132263</td>\n      <td>0.005948</td>\n    </tr>\n    <tr>\n      <th>대전광역시</th>\n      <td>0.004633</td>\n      <td>0.019084</td>\n      <td>0.005241</td>\n      <td>0.003659</td>\n      <td>0.005071</td>\n      <td>0.013151</td>\n      <td>0.003517</td>\n      <td>0.003235</td>\n      <td>0.014126</td>\n      <td>0.006625</td>\n      <td>...</td>\n      <td>0.045400</td>\n      <td>0.034636</td>\n      <td>0.005283</td>\n      <td>0.011145</td>\n      <td>0.009535</td>\n      <td>0.010750</td>\n      <td>0.003673</td>\n      <td>0.000622</td>\n      <td>0.131228</td>\n      <td>0.004647</td>\n    </tr>\n    <tr>\n      <th>부산광역시</th>\n      <td>0.004374</td>\n      <td>0.014837</td>\n      <td>0.004300</td>\n      <td>0.002577</td>\n      <td>0.005713</td>\n      <td>0.009851</td>\n      <td>0.003102</td>\n      <td>0.003041</td>\n      <td>0.015510</td>\n      <td>0.005612</td>\n      <td>...</td>\n      <td>0.045495</td>\n      <td>0.059067</td>\n      <td>0.004414</td>\n      <td>0.013162</td>\n      <td>0.009434</td>\n      <td>0.007314</td>\n      <td>0.003364</td>\n      <td>0.000747</td>\n      <td>0.137735</td>\n      <td>0.007429</td>\n    </tr>\n    <tr>\n      <th>서울특별시</th>\n      <td>0.002866</td>\n      <td>0.014573</td>\n      <td>0.003698</td>\n      <td>0.003177</td>\n      <td>0.006655</td>\n      <td>0.033289</td>\n      <td>0.007858</td>\n      <td>0.002505</td>\n      <td>0.022950</td>\n      <td>0.006957</td>\n      <td>...</td>\n      <td>0.039657</td>\n      <td>0.037339</td>\n      <td>0.002841</td>\n      <td>0.010930</td>\n      <td>0.006909</td>\n      <td>0.007451</td>\n      <td>0.003407</td>\n      <td>0.000618</td>\n      <td>0.096574</td>\n      <td>0.012994</td>\n    </tr>\n    <tr>\n      <th>세종특별자치시</th>\n      <td>0.002866</td>\n      <td>0.010859</td>\n      <td>0.002187</td>\n      <td>0.003393</td>\n      <td>0.006410</td>\n      <td>0.011839</td>\n      <td>0.005128</td>\n      <td>0.004525</td>\n      <td>0.016138</td>\n      <td>0.004148</td>\n      <td>...</td>\n      <td>0.045472</td>\n      <td>0.026167</td>\n      <td>0.001961</td>\n      <td>0.014479</td>\n      <td>0.007616</td>\n      <td>0.010180</td>\n      <td>0.002262</td>\n      <td>0.000679</td>\n      <td>0.138225</td>\n      <td>0.004675</td>\n    </tr>\n    <tr>\n      <th>울산광역시</th>\n      <td>0.003887</td>\n      <td>0.016133</td>\n      <td>0.004471</td>\n      <td>0.002352</td>\n      <td>0.006997</td>\n      <td>0.005909</td>\n      <td>0.002332</td>\n      <td>0.003771</td>\n      <td>0.017319</td>\n      <td>0.004373</td>\n      <td>...</td>\n      <td>0.049779</td>\n      <td>0.056796</td>\n      <td>0.002896</td>\n      <td>0.012518</td>\n      <td>0.009116</td>\n      <td>0.009874</td>\n      <td>0.002896</td>\n      <td>0.000350</td>\n      <td>0.159115</td>\n      <td>0.004082</td>\n    </tr>\n    <tr>\n      <th>인천광역시</th>\n      <td>0.003969</td>\n      <td>0.017335</td>\n      <td>0.004959</td>\n      <td>0.002790</td>\n      <td>0.006336</td>\n      <td>0.011395</td>\n      <td>0.002979</td>\n      <td>0.006795</td>\n      <td>0.011863</td>\n      <td>0.005265</td>\n      <td>...</td>\n      <td>0.055750</td>\n      <td>0.047451</td>\n      <td>0.004203</td>\n      <td>0.013690</td>\n      <td>0.009856</td>\n      <td>0.008938</td>\n      <td>0.003762</td>\n      <td>0.000675</td>\n      <td>0.131230</td>\n      <td>0.005382</td>\n    </tr>\n    <tr>\n      <th>전라남도</th>\n      <td>0.004355</td>\n      <td>0.015402</td>\n      <td>0.004748</td>\n      <td>0.002486</td>\n      <td>0.006065</td>\n      <td>0.006299</td>\n      <td>0.001901</td>\n      <td>0.002539</td>\n      <td>0.014351</td>\n      <td>0.005120</td>\n      <td>...</td>\n      <td>0.063150</td>\n      <td>0.059931</td>\n      <td>0.002624</td>\n      <td>0.011292</td>\n      <td>0.015211</td>\n      <td>0.008062</td>\n      <td>0.002093</td>\n      <td>0.000340</td>\n      <td>0.160663</td>\n      <td>0.001731</td>\n    </tr>\n    <tr>\n      <th>전라북도</th>\n      <td>0.005981</td>\n      <td>0.017526</td>\n      <td>0.005322</td>\n      <td>0.004651</td>\n      <td>0.006157</td>\n      <td>0.008103</td>\n      <td>0.002925</td>\n      <td>0.003277</td>\n      <td>0.013568</td>\n      <td>0.005388</td>\n      <td>...</td>\n      <td>0.059935</td>\n      <td>0.040528</td>\n      <td>0.003310</td>\n      <td>0.012930</td>\n      <td>0.015371</td>\n      <td>0.007543</td>\n      <td>0.002188</td>\n      <td>0.000484</td>\n      <td>0.137605</td>\n      <td>0.003661</td>\n    </tr>\n    <tr>\n      <th>제주특별자치도</th>\n      <td>0.004228</td>\n      <td>0.010737</td>\n      <td>0.003115</td>\n      <td>0.006805</td>\n      <td>0.003449</td>\n      <td>0.007399</td>\n      <td>0.002207</td>\n      <td>0.002021</td>\n      <td>0.011942</td>\n      <td>0.003338</td>\n      <td>...</td>\n      <td>0.046785</td>\n      <td>0.053089</td>\n      <td>0.002262</td>\n      <td>0.009698</td>\n      <td>0.006861</td>\n      <td>0.007399</td>\n      <td>0.001187</td>\n      <td>0.000408</td>\n      <td>0.147753</td>\n      <td>0.002856</td>\n    </tr>\n    <tr>\n      <th>충청남도</th>\n      <td>0.003846</td>\n      <td>0.015504</td>\n      <td>0.004736</td>\n      <td>0.003383</td>\n      <td>0.010796</td>\n      <td>0.006719</td>\n      <td>0.001928</td>\n      <td>0.005292</td>\n      <td>0.013345</td>\n      <td>0.005041</td>\n      <td>...</td>\n      <td>0.061276</td>\n      <td>0.040721</td>\n      <td>0.003716</td>\n      <td>0.014494</td>\n      <td>0.013549</td>\n      <td>0.008220</td>\n      <td>0.002085</td>\n      <td>0.000639</td>\n      <td>0.160751</td>\n      <td>0.003058</td>\n    </tr>\n    <tr>\n      <th>충청북도</th>\n      <td>0.004662</td>\n      <td>0.015296</td>\n      <td>0.004307</td>\n      <td>0.002765</td>\n      <td>0.010756</td>\n      <td>0.007060</td>\n      <td>0.002264</td>\n      <td>0.005641</td>\n      <td>0.013215</td>\n      <td>0.005139</td>\n      <td>...</td>\n      <td>0.057768</td>\n      <td>0.042803</td>\n      <td>0.003818</td>\n      <td>0.014684</td>\n      <td>0.011417</td>\n      <td>0.009251</td>\n      <td>0.002961</td>\n      <td>0.000514</td>\n      <td>0.164189</td>\n      <td>0.002765</td>\n    </tr>\n  </tbody>\n</table>\n<p>17 rows × 75 columns</p>\n</div>"
     },
     "execution_count": 53,
     "metadata": {},
     "output_type": "execute_result"
    }
   ],
   "source": [
    "# 지역별 업종 비율 구하기\n",
    "# 모든 열을 합산하여 지역별 전체업종수를 구하고\n",
    "# 현재 업종수를 전체업종수(지역별)로 나눔\n",
    "category_ratio = category_count.div(category_count.sum(axis=1), axis=0)\n",
    "category_ratio"
   ],
   "metadata": {
    "collapsed": false,
    "pycharm": {
     "name": "#%%\n"
    }
   }
  },
  {
   "cell_type": "code",
   "execution_count": 57,
   "outputs": [
    {
     "data": {
      "text/plain": "상권업종중분류명     가구 소매  가전·통신 소매   가전제품 수리   가정용품 대여     고용 알선        광고  \\\n시도명                                                                    \n강원특별자치도   0.003572  0.013707  0.004689  0.006680  0.005300  0.006553   \n경기도       0.005283  0.015265  0.005261  0.003560  0.007011  0.014775   \n경상남도      0.004877  0.015735  0.004414  0.002833  0.006260  0.005377   \n경상북도      0.004386  0.016042  0.004014  0.002825  0.007151  0.005323   \n광주광역시     0.004950  0.020323  0.004751  0.002879  0.006297  0.011956   \n대구광역시     0.004910  0.018059  0.005000  0.003249  0.006408  0.011688   \n대전광역시     0.004633  0.019084  0.005241  0.003659  0.005071  0.013151   \n부산광역시     0.004374  0.014837  0.004300  0.002577  0.005713  0.009851   \n서울특별시     0.002866  0.014573  0.003698  0.003177  0.006655  0.033289   \n세종특별자치시   0.002866  0.010859  0.002187  0.003393  0.006410  0.011839   \n울산광역시     0.003887  0.016133  0.004471  0.002352  0.006997  0.005909   \n인천광역시     0.003969  0.017335  0.004959  0.002790  0.006336  0.011395   \n전라남도      0.004355  0.015402  0.004748  0.002486  0.006065  0.006299   \n전라북도      0.005981  0.017526  0.005322  0.004651  0.006157  0.008103   \n제주특별자치도   0.004228  0.010737  0.003115  0.006805  0.003449  0.007399   \n충청남도      0.003846  0.015504  0.004736  0.003383  0.010796  0.006719   \n충청북도      0.004662  0.015296  0.004307  0.002765  0.010756  0.007060   \n\n상권업종중분류명     교육 지원   구내식당·뷔페    기술 서비스  기타 가정용품 수리  ...     종합 소매        주점  \\\n시도명                                                 ...                       \n강원특별자치도   0.002012  0.002402  0.011389    0.005331  ...  0.058096  0.046738   \n경기도       0.003425  0.005809  0.017828    0.005923  ...  0.052424  0.037903   \n경상남도      0.001833  0.004506  0.014945    0.004408  ...  0.051089  0.057540   \n경상북도      0.001918  0.004066  0.013693    0.004877  ...  0.055560  0.045800   \n광주광역시     0.003390  0.002553  0.017189    0.005120  ...  0.045256  0.051978   \n대구광역시     0.002852  0.003809  0.015406    0.005929  ...  0.042689  0.046949   \n대전광역시     0.003517  0.003235  0.014126    0.006625  ...  0.045400  0.034636   \n부산광역시     0.003102  0.003041  0.015510    0.005612  ...  0.045495  0.059067   \n서울특별시     0.007858  0.002505  0.022950    0.006957  ...  0.039657  0.037339   \n세종특별자치시   0.005128  0.004525  0.016138    0.004148  ...  0.045472  0.026167   \n울산광역시     0.002332  0.003771  0.017319    0.004373  ...  0.049779  0.056796   \n인천광역시     0.002979  0.006795  0.011863    0.005265  ...  0.055750  0.047451   \n전라남도      0.001901  0.002539  0.014351    0.005120  ...  0.063150  0.059931   \n전라북도      0.002925  0.003277  0.013568    0.005388  ...  0.059935  0.040528   \n제주특별자치도   0.002207  0.002021  0.011942    0.003338  ...  0.046785  0.053089   \n충청남도      0.001928  0.005292  0.013345    0.005041  ...  0.061276  0.040721   \n충청북도      0.002264  0.005641  0.013215    0.005139  ...  0.057768  0.042803   \n\n상권업종중분류명  중고 상품 소매        중식  철물·건설자재 소매     청소·방제    컴퓨터 수리   통신장비 수리  \\\n시도명                                                                      \n강원특별자치도   0.002971  0.012411    0.013349  0.007744  0.001928  0.000390   \n경기도       0.004320  0.012437    0.009333  0.009828  0.003584  0.000700   \n경상남도      0.003673  0.012464    0.011254  0.007223  0.002500  0.000420   \n경상북도      0.003613  0.013961    0.013091  0.007560  0.002252  0.000364   \n광주광역시     0.004085  0.008779    0.010069  0.007701  0.002652  0.000667   \n대구광역시     0.004856  0.012121    0.007437  0.007040  0.003330  0.000704   \n대전광역시     0.005283  0.011145    0.009535  0.010750  0.003673  0.000622   \n부산광역시     0.004414  0.013162    0.009434  0.007314  0.003364  0.000747   \n서울특별시     0.002841  0.010930    0.006909  0.007451  0.003407  0.000618   \n세종특별자치시   0.001961  0.014479    0.007616  0.010180  0.002262  0.000679   \n울산광역시     0.002896  0.012518    0.009116  0.009874  0.002896  0.000350   \n인천광역시     0.004203  0.013690    0.009856  0.008938  0.003762  0.000675   \n전라남도      0.002624  0.011292    0.015211  0.008062  0.002093  0.000340   \n전라북도      0.003310  0.012930    0.015371  0.007543  0.002188  0.000484   \n제주특별자치도   0.002262  0.009698    0.006861  0.007399  0.001187  0.000408   \n충청남도      0.003716  0.014494    0.013549  0.008220  0.002085  0.000639   \n충청북도      0.003818  0.014684    0.011417  0.009251  0.002961  0.000514   \n\n상권업종중분류명        한식     회계·세무  \n시도명                           \n강원특별자치도   0.181252  0.002065  \n경기도       0.120167  0.006029  \n경상남도      0.168564  0.003278  \n경상북도      0.172531  0.002044  \n광주광역시     0.114509  0.005361  \n대구광역시     0.132263  0.005948  \n대전광역시     0.131228  0.004647  \n부산광역시     0.137735  0.007429  \n서울특별시     0.096574  0.012994  \n세종특별자치시   0.138225  0.004675  \n울산광역시     0.159115  0.004082  \n인천광역시     0.131230  0.005382  \n전라남도      0.160663  0.001731  \n전라북도      0.137605  0.003661  \n제주특별자치도   0.147753  0.002856  \n충청남도      0.160751  0.003058  \n충청북도      0.164189  0.002765  \n\n[17 rows x 75 columns]",
      "text/html": "<div>\n<style scoped>\n    .dataframe tbody tr th:only-of-type {\n        vertical-align: middle;\n    }\n\n    .dataframe tbody tr th {\n        vertical-align: top;\n    }\n\n    .dataframe thead th {\n        text-align: right;\n    }\n</style>\n<table border=\"1\" class=\"dataframe\">\n  <thead>\n    <tr style=\"text-align: right;\">\n      <th>상권업종중분류명</th>\n      <th>가구 소매</th>\n      <th>가전·통신 소매</th>\n      <th>가전제품 수리</th>\n      <th>가정용품 대여</th>\n      <th>고용 알선</th>\n      <th>광고</th>\n      <th>교육 지원</th>\n      <th>구내식당·뷔페</th>\n      <th>기술 서비스</th>\n      <th>기타 가정용품 수리</th>\n      <th>...</th>\n      <th>종합 소매</th>\n      <th>주점</th>\n      <th>중고 상품 소매</th>\n      <th>중식</th>\n      <th>철물·건설자재 소매</th>\n      <th>청소·방제</th>\n      <th>컴퓨터 수리</th>\n      <th>통신장비 수리</th>\n      <th>한식</th>\n      <th>회계·세무</th>\n    </tr>\n    <tr>\n      <th>시도명</th>\n      <th></th>\n      <th></th>\n      <th></th>\n      <th></th>\n      <th></th>\n      <th></th>\n      <th></th>\n      <th></th>\n      <th></th>\n      <th></th>\n      <th></th>\n      <th></th>\n      <th></th>\n      <th></th>\n      <th></th>\n      <th></th>\n      <th></th>\n      <th></th>\n      <th></th>\n      <th></th>\n      <th></th>\n    </tr>\n  </thead>\n  <tbody>\n    <tr>\n      <th>강원특별자치도</th>\n      <td>0.003572</td>\n      <td>0.013707</td>\n      <td>0.004689</td>\n      <td>0.006680</td>\n      <td>0.005300</td>\n      <td>0.006553</td>\n      <td>0.002012</td>\n      <td>0.002402</td>\n      <td>0.011389</td>\n      <td>0.005331</td>\n      <td>...</td>\n      <td>0.058096</td>\n      <td>0.046738</td>\n      <td>0.002971</td>\n      <td>0.012411</td>\n      <td>0.013349</td>\n      <td>0.007744</td>\n      <td>0.001928</td>\n      <td>0.000390</td>\n      <td>0.181252</td>\n      <td>0.002065</td>\n    </tr>\n    <tr>\n      <th>경기도</th>\n      <td>0.005283</td>\n      <td>0.015265</td>\n      <td>0.005261</td>\n      <td>0.003560</td>\n      <td>0.007011</td>\n      <td>0.014775</td>\n      <td>0.003425</td>\n      <td>0.005809</td>\n      <td>0.017828</td>\n      <td>0.005923</td>\n      <td>...</td>\n      <td>0.052424</td>\n      <td>0.037903</td>\n      <td>0.004320</td>\n      <td>0.012437</td>\n      <td>0.009333</td>\n      <td>0.009828</td>\n      <td>0.003584</td>\n      <td>0.000700</td>\n      <td>0.120167</td>\n      <td>0.006029</td>\n    </tr>\n    <tr>\n      <th>경상남도</th>\n      <td>0.004877</td>\n      <td>0.015735</td>\n      <td>0.004414</td>\n      <td>0.002833</td>\n      <td>0.006260</td>\n      <td>0.005377</td>\n      <td>0.001833</td>\n      <td>0.004506</td>\n      <td>0.014945</td>\n      <td>0.004408</td>\n      <td>...</td>\n      <td>0.051089</td>\n      <td>0.057540</td>\n      <td>0.003673</td>\n      <td>0.012464</td>\n      <td>0.011254</td>\n      <td>0.007223</td>\n      <td>0.002500</td>\n      <td>0.000420</td>\n      <td>0.168564</td>\n      <td>0.003278</td>\n    </tr>\n    <tr>\n      <th>경상북도</th>\n      <td>0.004386</td>\n      <td>0.016042</td>\n      <td>0.004014</td>\n      <td>0.002825</td>\n      <td>0.007151</td>\n      <td>0.005323</td>\n      <td>0.001918</td>\n      <td>0.004066</td>\n      <td>0.013693</td>\n      <td>0.004877</td>\n      <td>...</td>\n      <td>0.055560</td>\n      <td>0.045800</td>\n      <td>0.003613</td>\n      <td>0.013961</td>\n      <td>0.013091</td>\n      <td>0.007560</td>\n      <td>0.002252</td>\n      <td>0.000364</td>\n      <td>0.172531</td>\n      <td>0.002044</td>\n    </tr>\n    <tr>\n      <th>광주광역시</th>\n      <td>0.004950</td>\n      <td>0.020323</td>\n      <td>0.004751</td>\n      <td>0.002879</td>\n      <td>0.006297</td>\n      <td>0.011956</td>\n      <td>0.003390</td>\n      <td>0.002553</td>\n      <td>0.017189</td>\n      <td>0.005120</td>\n      <td>...</td>\n      <td>0.045256</td>\n      <td>0.051978</td>\n      <td>0.004085</td>\n      <td>0.008779</td>\n      <td>0.010069</td>\n      <td>0.007701</td>\n      <td>0.002652</td>\n      <td>0.000667</td>\n      <td>0.114509</td>\n      <td>0.005361</td>\n    </tr>\n    <tr>\n      <th>대구광역시</th>\n      <td>0.004910</td>\n      <td>0.018059</td>\n      <td>0.005000</td>\n      <td>0.003249</td>\n      <td>0.006408</td>\n      <td>0.011688</td>\n      <td>0.002852</td>\n      <td>0.003809</td>\n      <td>0.015406</td>\n      <td>0.005929</td>\n      <td>...</td>\n      <td>0.042689</td>\n      <td>0.046949</td>\n      <td>0.004856</td>\n      <td>0.012121</td>\n      <td>0.007437</td>\n      <td>0.007040</td>\n      <td>0.003330</td>\n      <td>0.000704</td>\n      <td>0.132263</td>\n      <td>0.005948</td>\n    </tr>\n    <tr>\n      <th>대전광역시</th>\n      <td>0.004633</td>\n      <td>0.019084</td>\n      <td>0.005241</td>\n      <td>0.003659</td>\n      <td>0.005071</td>\n      <td>0.013151</td>\n      <td>0.003517</td>\n      <td>0.003235</td>\n      <td>0.014126</td>\n      <td>0.006625</td>\n      <td>...</td>\n      <td>0.045400</td>\n      <td>0.034636</td>\n      <td>0.005283</td>\n      <td>0.011145</td>\n      <td>0.009535</td>\n      <td>0.010750</td>\n      <td>0.003673</td>\n      <td>0.000622</td>\n      <td>0.131228</td>\n      <td>0.004647</td>\n    </tr>\n    <tr>\n      <th>부산광역시</th>\n      <td>0.004374</td>\n      <td>0.014837</td>\n      <td>0.004300</td>\n      <td>0.002577</td>\n      <td>0.005713</td>\n      <td>0.009851</td>\n      <td>0.003102</td>\n      <td>0.003041</td>\n      <td>0.015510</td>\n      <td>0.005612</td>\n      <td>...</td>\n      <td>0.045495</td>\n      <td>0.059067</td>\n      <td>0.004414</td>\n      <td>0.013162</td>\n      <td>0.009434</td>\n      <td>0.007314</td>\n      <td>0.003364</td>\n      <td>0.000747</td>\n      <td>0.137735</td>\n      <td>0.007429</td>\n    </tr>\n    <tr>\n      <th>서울특별시</th>\n      <td>0.002866</td>\n      <td>0.014573</td>\n      <td>0.003698</td>\n      <td>0.003177</td>\n      <td>0.006655</td>\n      <td>0.033289</td>\n      <td>0.007858</td>\n      <td>0.002505</td>\n      <td>0.022950</td>\n      <td>0.006957</td>\n      <td>...</td>\n      <td>0.039657</td>\n      <td>0.037339</td>\n      <td>0.002841</td>\n      <td>0.010930</td>\n      <td>0.006909</td>\n      <td>0.007451</td>\n      <td>0.003407</td>\n      <td>0.000618</td>\n      <td>0.096574</td>\n      <td>0.012994</td>\n    </tr>\n    <tr>\n      <th>세종특별자치시</th>\n      <td>0.002866</td>\n      <td>0.010859</td>\n      <td>0.002187</td>\n      <td>0.003393</td>\n      <td>0.006410</td>\n      <td>0.011839</td>\n      <td>0.005128</td>\n      <td>0.004525</td>\n      <td>0.016138</td>\n      <td>0.004148</td>\n      <td>...</td>\n      <td>0.045472</td>\n      <td>0.026167</td>\n      <td>0.001961</td>\n      <td>0.014479</td>\n      <td>0.007616</td>\n      <td>0.010180</td>\n      <td>0.002262</td>\n      <td>0.000679</td>\n      <td>0.138225</td>\n      <td>0.004675</td>\n    </tr>\n    <tr>\n      <th>울산광역시</th>\n      <td>0.003887</td>\n      <td>0.016133</td>\n      <td>0.004471</td>\n      <td>0.002352</td>\n      <td>0.006997</td>\n      <td>0.005909</td>\n      <td>0.002332</td>\n      <td>0.003771</td>\n      <td>0.017319</td>\n      <td>0.004373</td>\n      <td>...</td>\n      <td>0.049779</td>\n      <td>0.056796</td>\n      <td>0.002896</td>\n      <td>0.012518</td>\n      <td>0.009116</td>\n      <td>0.009874</td>\n      <td>0.002896</td>\n      <td>0.000350</td>\n      <td>0.159115</td>\n      <td>0.004082</td>\n    </tr>\n    <tr>\n      <th>인천광역시</th>\n      <td>0.003969</td>\n      <td>0.017335</td>\n      <td>0.004959</td>\n      <td>0.002790</td>\n      <td>0.006336</td>\n      <td>0.011395</td>\n      <td>0.002979</td>\n      <td>0.006795</td>\n      <td>0.011863</td>\n      <td>0.005265</td>\n      <td>...</td>\n      <td>0.055750</td>\n      <td>0.047451</td>\n      <td>0.004203</td>\n      <td>0.013690</td>\n      <td>0.009856</td>\n      <td>0.008938</td>\n      <td>0.003762</td>\n      <td>0.000675</td>\n      <td>0.131230</td>\n      <td>0.005382</td>\n    </tr>\n    <tr>\n      <th>전라남도</th>\n      <td>0.004355</td>\n      <td>0.015402</td>\n      <td>0.004748</td>\n      <td>0.002486</td>\n      <td>0.006065</td>\n      <td>0.006299</td>\n      <td>0.001901</td>\n      <td>0.002539</td>\n      <td>0.014351</td>\n      <td>0.005120</td>\n      <td>...</td>\n      <td>0.063150</td>\n      <td>0.059931</td>\n      <td>0.002624</td>\n      <td>0.011292</td>\n      <td>0.015211</td>\n      <td>0.008062</td>\n      <td>0.002093</td>\n      <td>0.000340</td>\n      <td>0.160663</td>\n      <td>0.001731</td>\n    </tr>\n    <tr>\n      <th>전라북도</th>\n      <td>0.005981</td>\n      <td>0.017526</td>\n      <td>0.005322</td>\n      <td>0.004651</td>\n      <td>0.006157</td>\n      <td>0.008103</td>\n      <td>0.002925</td>\n      <td>0.003277</td>\n      <td>0.013568</td>\n      <td>0.005388</td>\n      <td>...</td>\n      <td>0.059935</td>\n      <td>0.040528</td>\n      <td>0.003310</td>\n      <td>0.012930</td>\n      <td>0.015371</td>\n      <td>0.007543</td>\n      <td>0.002188</td>\n      <td>0.000484</td>\n      <td>0.137605</td>\n      <td>0.003661</td>\n    </tr>\n    <tr>\n      <th>제주특별자치도</th>\n      <td>0.004228</td>\n      <td>0.010737</td>\n      <td>0.003115</td>\n      <td>0.006805</td>\n      <td>0.003449</td>\n      <td>0.007399</td>\n      <td>0.002207</td>\n      <td>0.002021</td>\n      <td>0.011942</td>\n      <td>0.003338</td>\n      <td>...</td>\n      <td>0.046785</td>\n      <td>0.053089</td>\n      <td>0.002262</td>\n      <td>0.009698</td>\n      <td>0.006861</td>\n      <td>0.007399</td>\n      <td>0.001187</td>\n      <td>0.000408</td>\n      <td>0.147753</td>\n      <td>0.002856</td>\n    </tr>\n    <tr>\n      <th>충청남도</th>\n      <td>0.003846</td>\n      <td>0.015504</td>\n      <td>0.004736</td>\n      <td>0.003383</td>\n      <td>0.010796</td>\n      <td>0.006719</td>\n      <td>0.001928</td>\n      <td>0.005292</td>\n      <td>0.013345</td>\n      <td>0.005041</td>\n      <td>...</td>\n      <td>0.061276</td>\n      <td>0.040721</td>\n      <td>0.003716</td>\n      <td>0.014494</td>\n      <td>0.013549</td>\n      <td>0.008220</td>\n      <td>0.002085</td>\n      <td>0.000639</td>\n      <td>0.160751</td>\n      <td>0.003058</td>\n    </tr>\n    <tr>\n      <th>충청북도</th>\n      <td>0.004662</td>\n      <td>0.015296</td>\n      <td>0.004307</td>\n      <td>0.002765</td>\n      <td>0.010756</td>\n      <td>0.007060</td>\n      <td>0.002264</td>\n      <td>0.005641</td>\n      <td>0.013215</td>\n      <td>0.005139</td>\n      <td>...</td>\n      <td>0.057768</td>\n      <td>0.042803</td>\n      <td>0.003818</td>\n      <td>0.014684</td>\n      <td>0.011417</td>\n      <td>0.009251</td>\n      <td>0.002961</td>\n      <td>0.000514</td>\n      <td>0.164189</td>\n      <td>0.002765</td>\n    </tr>\n  </tbody>\n</table>\n<p>17 rows × 75 columns</p>\n</div>"
     },
     "execution_count": 57,
     "metadata": {},
     "output_type": "execute_result"
    }
   ],
   "source": [
    "category_ratio = (category_count.T / category_count.sum(axis=1)).T\n",
    "category_ratio"
   ],
   "metadata": {
    "collapsed": false,
    "pycharm": {
     "name": "#%%\n"
    }
   }
  },
  {
   "cell_type": "code",
   "execution_count": 55,
   "outputs": [
    {
     "data": {
      "text/plain": "Empty DataFrame\nColumns: [강원특별자치도, 경기도, 경상남도, 경상북도, 광주광역시, 대구광역시, 대전광역시, 부산광역시, 서울특별시, 세종특별자치시, 울산광역시, 인천광역시, 전라남도, 전라북도, 제주특별자치도, 충청남도, 충청북도]\nIndex: []",
      "text/html": "<div>\n<style scoped>\n    .dataframe tbody tr th:only-of-type {\n        vertical-align: middle;\n    }\n\n    .dataframe tbody tr th {\n        vertical-align: top;\n    }\n\n    .dataframe thead th {\n        text-align: right;\n    }\n</style>\n<table border=\"1\" class=\"dataframe\">\n  <thead>\n    <tr style=\"text-align: right;\">\n      <th>시도명</th>\n      <th>강원특별자치도</th>\n      <th>경기도</th>\n      <th>경상남도</th>\n      <th>경상북도</th>\n      <th>광주광역시</th>\n      <th>대구광역시</th>\n      <th>대전광역시</th>\n      <th>부산광역시</th>\n      <th>서울특별시</th>\n      <th>세종특별자치시</th>\n      <th>울산광역시</th>\n      <th>인천광역시</th>\n      <th>전라남도</th>\n      <th>전라북도</th>\n      <th>제주특별자치도</th>\n      <th>충청남도</th>\n      <th>충청북도</th>\n    </tr>\n    <tr>\n      <th>상권업종중분류명</th>\n      <th></th>\n      <th></th>\n      <th></th>\n      <th></th>\n      <th></th>\n      <th></th>\n      <th></th>\n      <th></th>\n      <th></th>\n      <th></th>\n      <th></th>\n      <th></th>\n      <th></th>\n      <th></th>\n      <th></th>\n      <th></th>\n      <th></th>\n    </tr>\n  </thead>\n  <tbody>\n  </tbody>\n</table>\n</div>"
     },
     "execution_count": 55,
     "metadata": {},
     "output_type": "execute_result"
    }
   ],
   "source": [
    "# NaN 처리 - 업종자체가 없어서 0으로 나눠지는 경우가 있음, 비율이므로 0으로 처리\n",
    "category_ratio[category_ratio.isnull().any(axis=1)]\n",
    "category_ratio = category_ratio.fillna(0)\n",
    "category_ratio[category_ratio.isnull().any(axis=1)]"
   ],
   "metadata": {
    "collapsed": false,
    "pycharm": {
     "name": "#%%\n"
    }
   }
  },
  {
   "cell_type": "code",
   "execution_count": 58,
   "outputs": [
    {
     "name": "stdout",
     "output_type": "stream",
     "text": [
      "강원 - 한식 : 18.13 %, 중식 : 1.24 %, 일식 : 0.55 %\n",
      "경기 - 한식 : 12.02 %, 중식 : 1.24 %, 일식 : 0.88 %\n",
      "경상 - 한식 : 16.86 %, 중식 : 1.25 %, 일식 : 0.67 %\n",
      "경상 - 한식 : 17.25 %, 중식 : 1.40 %, 일식 : 0.55 %\n",
      "광주 - 한식 : 11.45 %, 중식 : 0.88 %, 일식 : 0.72 %\n",
      "대구 - 한식 : 13.23 %, 중식 : 1.21 %, 일식 : 0.84 %\n",
      "대전 - 한식 : 13.12 %, 중식 : 1.11 %, 일식 : 0.89 %\n",
      "부산 - 한식 : 13.77 %, 중식 : 1.32 %, 일식 : 1.02 %\n",
      "서울 - 한식 : 9.66 %, 중식 : 1.09 %, 일식 : 1.26 %\n",
      "세종 - 한식 : 13.82 %, 중식 : 1.45 %, 일식 : 0.98 %\n",
      "울산 - 한식 : 15.91 %, 중식 : 1.25 %, 일식 : 0.77 %\n",
      "인천 - 한식 : 13.12 %, 중식 : 1.37 %, 일식 : 0.87 %\n",
      "전라 - 한식 : 16.07 %, 중식 : 1.13 %, 일식 : 0.45 %\n",
      "전라 - 한식 : 13.76 %, 중식 : 1.29 %, 일식 : 0.63 %\n",
      "제주 - 한식 : 14.78 %, 중식 : 0.97 %, 일식 : 0.79 %\n",
      "충청 - 한식 : 16.08 %, 중식 : 1.45 %, 일식 : 0.59 %\n",
      "충청 - 한식 : 16.42 %, 중식 : 1.47 %, 일식 : 0.65 %\n"
     ]
    }
   ],
   "source": [
    "for area in category_ratio.index:\n",
    "    print(f\"{area[:2]} - 한식 : {category_ratio.loc[area, '한식']*100:.2f} %, 중식 : {category_ratio.loc[area, '중식']*100:.2f} %, 일식 : {category_ratio.loc[area, '일식']*100:.2f} %\")"
   ],
   "metadata": {
    "collapsed": false,
    "pycharm": {
     "name": "#%%\n"
    }
   }
  },
  {
   "cell_type": "markdown",
   "source": [
    "# 한식 음식점들이 많이 사용하는 단어 찾아보기"
   ],
   "metadata": {
    "collapsed": false
   }
  },
  {
   "cell_type": "markdown",
   "source": [
    "* Text Mining Process\n",
    "    corpus 정의 수집\n",
    "    -> text cleaning(불용어 제거, 형태를 통일)\n",
    "    -> tokenization(분석 단위 결정)\n",
    "    -> modeling\n",
    "    -> visualization"
   ],
   "metadata": {
    "collapsed": false,
    "pycharm": {
     "name": "#%% md\n"
    }
   }
  },
  {
   "cell_type": "code",
   "execution_count": 59,
   "outputs": [
    {
     "data": {
      "text/plain": "2            엔젤\n10         태능갈비\n12        박차닭갈비\n14        남경막국수\n27          먹자골\n          ...  \n81700    다정정육식당\n81710      충남순대\n81711    장어92번지\n81717      일등식당\n81720      골목식당\nName: 상호명, Length: 322709, dtype: object"
     },
     "execution_count": 59,
     "metadata": {},
     "output_type": "execute_result"
    }
   ],
   "source": [
    "# corpus\n",
    "corpus = df.loc[df['상권업종중분류명']=='한식']['상호명']\n",
    "corpus"
   ],
   "metadata": {
    "collapsed": false,
    "pycharm": {
     "name": "#%%\n"
    }
   }
  },
  {
   "cell_type": "code",
   "execution_count": 60,
   "outputs": [],
   "source": [
    "# text cleaning -> regex, regular expression"
   ],
   "metadata": {
    "collapsed": false,
    "pycharm": {
     "name": "#%%\n"
    }
   }
  },
  {
   "cell_type": "code",
   "execution_count": 61,
   "outputs": [],
   "source": [
    "# tokenization -> 형태소 분석기(konlpy: Kkma, Hannanum, Mecab, Okt, Komoran)\n",
    "# pecab : Mecab의 python version\n",
    "from pecab import PeCab\n",
    "pecab = PeCab()"
   ],
   "metadata": {
    "collapsed": false,
    "pycharm": {
     "name": "#%%\n"
    }
   }
  },
  {
   "cell_type": "code",
   "execution_count": 62,
   "outputs": [
    {
     "data": {
      "text/plain": "['아버지', '가', '방', '에', '들어가', '신다', '.']"
     },
     "execution_count": 62,
     "metadata": {},
     "output_type": "execute_result"
    }
   ],
   "source": [
    "pecab.morphs('아버지가방에들어가신다.') # 주어진 문장을 형태소 단위로 나눠줌"
   ],
   "metadata": {
    "collapsed": false,
    "pycharm": {
     "name": "#%%\n"
    }
   }
  },
  {
   "cell_type": "code",
   "execution_count": 63,
   "outputs": [
    {
     "data": {
      "text/plain": "['아버지', '방']"
     },
     "execution_count": 63,
     "metadata": {},
     "output_type": "execute_result"
    }
   ],
   "source": [
    "pecab.nouns('아버지가방에들어가신다.') # 주어진 문장에서 명사만 추출함"
   ],
   "metadata": {
    "collapsed": false,
    "pycharm": {
     "name": "#%%\n"
    }
   }
  },
  {
   "cell_type": "code",
   "execution_count": 64,
   "outputs": [
    {
     "data": {
      "text/plain": "[('아버지', 'NNG'),\n ('가', 'JKS'),\n ('방', 'NNG'),\n ('에', 'JKB'),\n ('들어가', 'VV'),\n ('신다', 'EP+EF'),\n ('.', 'SF')]"
     },
     "execution_count": 64,
     "metadata": {},
     "output_type": "execute_result"
    }
   ],
   "source": [
    "pecab.pos('아버지가방에들어가신다.') # POS(Part-Of-Speech) tagging(=품사 분석)"
   ],
   "metadata": {
    "collapsed": false,
    "pycharm": {
     "name": "#%%\n"
    }
   }
  },
  {
   "cell_type": "code",
   "execution_count": 65,
   "outputs": [
    {
     "data": {
      "text/plain": "  0%|          | 0/322709 [00:00<?, ?it/s]",
      "application/vnd.jupyter.widget-view+json": {
       "version_major": 2,
       "version_minor": 0,
       "model_id": "51208b1d0c254a90ba7bb1b776fe4ed6"
      }
     },
     "metadata": {},
     "output_type": "display_data"
    },
    {
     "data": {
      "text/plain": "[['엔젤'],\n ['태', '능', '갈비'],\n ['박차', '닭갈비'],\n ['남경', '막국수'],\n ['먹', '자', '골'],\n ['아리랑', '산촌', '식당'],\n ['인구', '시장'],\n ['숨', '은', '밥집'],\n ['홍천', '해물', '찜'],\n ['원조', '남원주', '가', '든'],\n ['이모', '네', '한식'],\n ['영랑', '해변', '장어', '의', '꿈'],\n ['강남', '교자'],\n ['황토', '집'],\n ['돼지', '좋', '아'],\n ['어면', '먹', '자'],\n ['바다', '애'],\n ['화', '로', '상회'],\n ['양지', '막국수'],\n ['놀부', '부대찌개'],\n ['대', '게', '왕국', '민박'],\n ['푸른', '숲'],\n ['한', '우구', '이'],\n ['타코', '잉', '닭'],\n ['혼', '술', '다', '찌'],\n ['꼭지', '네', '식당'],\n ['돌집', '쌈밥'],\n ['바다', '소식'],\n ['꼬', '기', '만', '땅', '점보', '비빔밥', '강릉'],\n ['채대', '감', '족발'],\n ['퇴계', '닭갈비'],\n ['쿠프만', '1', '5', '3'],\n ['오월', '애', '만두전골'],\n ['세진', '한우', '실비'],\n ['화암', '동굴', '식당'],\n ['해바라기'],\n ['고향', '닭갈비'],\n ['정선', '애', '장어', '먹', '으러', '와요'],\n ['장작', '블루스'],\n ['넘버', '8', '5', '가든'],\n ['산골', '보리', '굴비'],\n ['함백산', '실비', '식당'],\n ['고', '식당'],\n ['강릉', '한', '우원'],\n ['아저씨', '네', '닭도리탕'],\n ['돈돈', '고'],\n ['야', '한식당'],\n ['진부', '영양', '마을'],\n ['연탄', '꾸이', '꾸이'],\n ['용', '우동'],\n ['어쩌다', '감자탕'],\n ['청년', '감자탕', '순', '대국'],\n ['다도', '해', '횟집'],\n ['장사항', '홍게', '사랑'],\n ['꼬꼬', '메이플', '가든'],\n ['속초', '가마솥', '대', '게'],\n ['돈', '보따리'],\n ['공가', '네', '감자', '옹심', '이'],\n ['곱', '떡', '치', '떡', '&', '찜', '꽁', '찜', '닭'],\n ['굴', '골', '황태', '식당'],\n ['나', '루'],\n ['원영희', '밥상'],\n ['신', '피디', '통', '큰', '생선', '구이'],\n ['산채', '이야기'],\n ['방가', '네', '화로구이'],\n ['소도둑'],\n ['십', '원', '집'],\n ['현', '일', '이', '네'],\n ['달콤', '한', '삼겹살'],\n ['홍천', '식당'],\n ['시골', '할머니', '추어탕'],\n ['우쿠', '야'],\n ['2', '4', '시', '전주', '명가', '콩나물국', '밥', '삼', '척', '점'],\n ['야식', '철가방'],\n ['봉평', '메밀', '족발'],\n ['원주', '옹심', '이', '메밀', '칼국수'],\n ['밀사', '랑', '칼국수'],\n ['궁전', '왕', '족발', '보쌈'],\n ['한', '우실', '비촌'],\n ['필라델피아', '화', '로', '숯불갈비'],\n ['오병', '이', '어', '식당'],\n ['센스', '꽃다발'],\n ['춘천', '스카이', '워크', '닭갈비', '막국수'],\n ['명', '륜', '진사', '갈비', '강원'],\n ['원주', '밥상'],\n ['원주', '함바'],\n ['우리', '동네', '국수집', '원주'],\n ['뉴스타', '식당'],\n ['소금강', '추어탕'],\n ['와', '우식', '당'],\n ['청와대', '초계', '국수'],\n ['한양'],\n ['아야', '진', '또', '올래'],\n ['러스틱', '컴포트'],\n ['열정', '국밥'],\n ['한', '식식', '당'],\n ['무', '코어', '구미'],\n ['한', '스키', '친'],\n ['대암', '감자탕'],\n ['백암', '송어'],\n ['족발', '야', '시장'],\n ['오색', '식당'],\n ['국민', '낙', '곱새', '강릉', '점'],\n ['아이', '갓', '에브리', '씽', '동강', '사진', '박물', '관점'],\n ['권', '할머니', '흑', '염소'],\n ['정원', '곱창', '집'],\n ['여주', '쌈밥'],\n ['동해', '안', '7', '번지'],\n ['한', '방전', '주', '콩나물국', '밥'],\n ['맛갈', '참죽'],\n ['놀부', '뚝배기'],\n ['싸움', '의', '고수', '춘천'],\n ['번개', '반점'],\n ['한', '마당'],\n ['북청', '전통', '아바', '이순대'],\n ['논가', '집', '옹심', '이'],\n ['성실', '메밀부침'],\n ['청주', '본가', '소문', '난왕', '갈비탕'],\n ['한식', '명가'],\n ['옛날', '옛집'],\n ['철원', '막국수'],\n ['충주', '횟집'],\n ['뚝배기', '보다', '장맛'],\n ['평창', '한', '우마', '을', '홍천', '대명', '식당'],\n ['춘자네', '숯불', '닭갈비'],\n ['동명항', '대', '게', '좋', '은', '날'],\n ['금성', '식당'],\n ['행복', '한', '밥집'],\n ['빤', '닝', '네', '두부', '랑', '매운탕'],\n ['한', '돈', '가'],\n ['싱싱', '수산', '횟집'],\n ['금', '매달', '족발', '보쌈'],\n ['배배', '샵'],\n ['혜정', '닭갈비'],\n ['어림', '지'],\n ['곽', '만근', '갈비탕'],\n ['대기리'],\n ['초당', '토박이', '할머니', '순두부'],\n ['이주환', '전통', '한우'],\n ['맛깔', '참죽', '&', '완도', '미역'],\n ['오두막집'],\n ['설악', '정원'],\n ['한림', '식당'],\n ['엄마', '네'],\n ['치악', '한우', '암소', '머리', '곰탕'],\n ['서민'],\n ['정직', '한', '족발'],\n ['월성', '식당'],\n ['솔', '게스트', '하우스', '나이트', '마켓'],\n ['바비', '요'],\n ['자연', '을', '담', '은', '두부'],\n ['밥도둑'],\n ['찬', '이', '네', '감자탕'],\n ['미소', '푸드'],\n ['강마', '을', '추억'],\n ['최선', '숙부', '동산', '임대'],\n ['정가', '네'],\n ['왕십리', '곱창', '구이'],\n ['막골', '막국수'],\n ['유남', '원조', '한방', '감자탕'],\n ['행복', '식당'],\n ['꽃게', '들', '의', '전쟁'],\n ['강남', '숯불', '구이'],\n ['안골', '설렁탕'],\n ['파파', '돈', '스', '두', '번', '째', '이야기'],\n ['명', '륜', '진사', '갈비'],\n ['참숯', '불장', '어마', '을'],\n ['신대왕', '족발', '보쌈'],\n ['명', '륜', '진사', '갈비', '동해', '평릉', '점'],\n ['춘천', '후레쉬', '닭갈비'],\n ['이공'],\n ['산촌', '보리밥'],\n ['풍년', '고을'],\n ['신의주', '찹쌀', '순대'],\n ['금화'],\n ['바다', '정육', '식당'],\n ['풍년', '식당'],\n ['종로', '3', '가'],\n ['고기', '혁명'],\n ['삼', '척', '맛집'],\n ['아리', '네'],\n ['맹꽁이', '네'],\n ['삼봉', '쉼터'],\n ['닥', '엔', '돈', '스강', '릉'],\n ['병', '천복', '순대', '·', '감자탕'],\n ['항', '구회', '타운', ',', '항구', '가', '누리', '펜션'],\n ['춘하추동'],\n ['송원', '식당'],\n ['용석', '식당'],\n ['서울', '가든'],\n ['고향', '순', '대국'],\n ['설원', '칡', '냉면', '단관', '점'],\n ['땡초', '닭발'],\n ['사북', '황기', '소곱', '창'],\n ['솔잎', '가', '든'],\n ['육', '회집'],\n ['명화', '통나무집'],\n ['팔', '도', '식당'],\n ['장뇌', '삼', '삼', '계탕'],\n ['구', '이', '구이', '생', '삼', '겹', '촌'],\n ['청춘', '보리밥', '봉', '평점'],\n ['학', '고을'],\n ['땅', '스', '부대찌개', '태백', '점'],\n ['태산', '갈비'],\n ['족발', '야', '시장', '원주', '단계', '점'],\n ['바랑', '골'],\n ['명윤', '설렁탕'],\n ['금갑', '한우'],\n ['소주', '신랑', '보쌈', '부인'],\n ['밥도둑'],\n ['도촌', '삼계탕'],\n ['늘', '만나', '식당'],\n ['일', '호', '감자탕', '단계', '점'],\n ['만양', '맛', '값', '내곡', '점'],\n ['솔', '향', '자연', '밥상'],\n ['나', '능이버섯', '백숙'],\n ['함지박'],\n ['진선미', '생', '삼겹살'],\n ['스토리', '회'],\n ['덕', '다리', '항아리', '감자탕'],\n ['유명', '식당'],\n ['강릉', '한', '우축', '제'],\n ['성원', '컴퍼니'],\n ['그리운', '바다', '성', '산포'],\n ['가장', '맛있', '는', '족발', '원주'],\n ['해담'],\n ['바우', '네', '나주', '곰탕', '기업', '도', '시점'],\n ['맛'],\n ['원두막', '식당'],\n ['모자', '식당'],\n ['남', '설', '악식', '당'],\n ['누나', '네', '부대찌개'],\n ['원주', '온달', '족발'],\n ['장', '대박'],\n ['봉', '의', '산막', '국수'],\n ['영월', '장어', '마을'],\n ['화', '로', '상회'],\n ['어민', '후계자', '회집'],\n ['북원', '식당'],\n ['참한', '식당'],\n ['부대찌개', '집'],\n ['명', '가진', '족발'],\n ['막창', 'O', 'K', '!'],\n ['정무', '네', '두부'],\n ['선진', '삼겹살'],\n ['점봉산', '산채'],\n ['길목', '풍천', '장어'],\n ['장충', '왕', '족발'],\n ['주문', '진대박', '식당'],\n ['유민', '이', '네', '부대찌개', '육개장'],\n ['새벽'],\n ['청정', '골'],\n ['맛집', '장금', '이', '네'],\n ['양돈', '조합', '한우', '타운', '식당'],\n ['송', '여사', '숯불', '왕', '꼼', '장', '어'],\n ['뚜레'],\n ['해', '광호', '횟집'],\n ['설악', '가든', '리조', '텔', '식당'],\n ['정군', '닭발'],\n ['호원', '식당'],\n ['살찐', '암소'],\n ['양지', '가마솥', '국밥'],\n ['장호', '더', '그릴'],\n ['가마솥', '추어탕'],\n ['돈', '마을'],\n ['미연', '이', '네', '손칼국수'],\n ['두레'],\n ['맛있', '는', '세상'],\n ['투가리', '감자탕'],\n ['토종', '순', '대국'],\n ['제주', '일품', '순두부'],\n ['마시', '따니'],\n ['그', '집', '가', '자'],\n ['해마루'],\n ['돼', '갈'],\n ['거성', '식당'],\n ['동방', '가', '든'],\n ['만족'],\n ['미쓰', '돼지'],\n ['감성', '삼', '겹'],\n ['양양', '째', '복'],\n ['명품', '시래기', '뼈다귀', '탕'],\n ['광순', '네'],\n ['소금강', '맛집'],\n ['현대', '뚝배기'],\n ['바다', '횟집'],\n ['두부', '랑', '동태', '랑'],\n ['생', '생식', '당'],\n ['오', '복장', '칼국수'],\n ['토담'],\n ['송지호', '횟집'],\n ['국수나무', '사창리', '점'],\n ['삼', '남매', '한식당'],\n ['산골', '농원'],\n ['마차', '재', '휴게소'],\n ['유일', '유통'],\n ['돼지', '부대'],\n ['또', '또', '삼겹살'],\n ['풍경'],\n ['채선', '당', '자연', '한가득'],\n ['중앙', '영남', '횟집'],\n ['용추', '골', '미궁', '순대', '진부', '지점'],\n ['가', '나', '식당'],\n ['돈', '비촌'],\n ['디딤돌'],\n ['앞바다'],\n ['사', '천', '샘골', '식당'],\n ['칠', '삼', '삼'],\n ['해원', '야식'],\n ['반곡역', '한우', '원주', '반곡'],\n ['별미', '촌'],\n ['대박', '막창', '&', '삼', '겹'],\n ['땅', '스', '부대찌개'],\n ['영랑', '골'],\n ['강촌', '만남', '의', '광장'],\n ['실비', '식당'],\n ['장평', '칼국수'],\n ['한', '솥', '도시락', '명륜', '남부', '점'],\n ['메밀', '능이', '촌'],\n ['용추', '골', '미궁', '순대', '속', '초조', '양점'],\n ['최가네', '감자탕'],\n ['천하', '풍천', '민물', '장어'],\n ['군', '삼', '농장', '한우'],\n ['들', '락', '가', '든'],\n ['도야', '족발', '남춘천', '역점'],\n ['배달', '삼', '겹', '직', '구', '삼'],\n ['대', '게', '좋', '아', '홍게'],\n ['도담', '찜', '닭', '인', '제원', '통점'],\n ['담', '골'],\n ['생', '삼', '겹', '구루'],\n ['임진강', '장어'],\n ['대장', '푸드'],\n ['설', '악골', '식당'],\n ['충남', '실비'],\n ['한', '지촌'],\n ['인생', '건어물'],\n ['백만', '석'],\n ['포대', '인', '대구', '막창'],\n ['갑', '순', '이', '네'],\n ['제주', '참돈'],\n ['이인영', '선산', '곱창'],\n ['개미', '들', '의', '백', '년', '쭈', '구', '미'],\n ['재', '대루'],\n ['본', '도시락', '강릉'],\n ['조선', '돼지갈비', '단구', '선아'],\n ['농가', '쉼터'],\n ['대', '게', '왕국'],\n ['홍천', '민물', '장어'],\n ['떠들석', '갈비'],\n ['들꽃', '가', '든'],\n ['은행나무'],\n ['솔', '모루', '식당'],\n ['들꽃', '향기', '효소', '사랑'],\n ['청정', '1', '5', '3', '송어'],\n ['낭', '만', '전'],\n ['소양강', '갈매기'],\n ['난장'],\n ['수협', '대', '게'],\n ['임원', '일미', '식당'],\n ['영산포', '홍어', '보쌈'],\n ['마포', '돼지갈비'],\n ['희망', '정육', '식당'],\n ['옛날', '원대', '막국수'],\n ['진동리', '나무', '꾼', '과', '선녀'],\n ['시골집'],\n ['태성', '한우', '숯불'],\n ['육식'],\n ['삼정', '한', '우실', '비식', '당'],\n ['해물', '섬'],\n ['춘천', '1', '번지', '닭갈비'],\n ['두', '찜', '강릉'],\n ['만나', '옹심', '이', '손칼국수'],\n ['양지', '목장', '한', '우구', '이'],\n ['가장', '맛있', '는', '족발'],\n ['1', '2', '호한', '흥호'],\n ['정지'],\n ['이미자', '강릉', '초', '당', '콩', '감자탕'],\n ['강릉', '뒷', '고기'],\n ['설악', '봉화산', '설렁탕'],\n ['우가', '닭', '닭목', '살', '닭갈비', '동생', '점'],\n ['육', '당', '생', '갈비', '상회'],\n ['김숙영', '의', '한식', '곳간'],\n ['한', '정애', '한', '정식'],\n ['넉', '살', '집'],\n ['우', '나라'],\n ['원조', '흑', '염소', '탕', '집'],\n ['하동', '갈비'],\n ['길', '성', '이', '백숙'],\n ['국시', '방'],\n ['별미', '순', '대국'],\n ['강동호', '식당'],\n ['곤지', '암', '할', '매소', '머리', '국밥'],\n ['김', '가네', '시골', '밥상'],\n ['진리', '국밥', '천곡', '점'],\n ['봉', '평궁'],\n ['토우', '빈대떡'],\n ['2', '0', '2', '식당'],\n ['강릉', '한우', '육개장'],\n ['길손', '식당'],\n ['약', '이', '되', '는', '밥상'],\n ['오봉', '막국수'],\n ['회', '솜씨'],\n ['아트', '빌', '식당'],\n ['우판', '집'],\n ['한', '성호'],\n ['명', '륜', '진사', '갈비', '원주', '단관', '점'],\n ['홍천', '명태조림'],\n ['금봉', '횟집'],\n ['솔향기'],\n ['아리아', '리'],\n ['책방', '마실'],\n ['최가네', '밥집'],\n ['해피', '푸드'],\n ['공룡', '갈비'],\n ['학교', '종이', '땡땡', '잔치국수'],\n ['평창', '한', '우마', '을', '봉화산', '식당'],\n ['다', '온스', '빌'],\n ['장터', '국밥'],\n ['털보', '네', '설렁탕'],\n ['영월', '애', '숯불', '닭갈비'],\n ['맛깔', '손'],\n ['가마솥', '한우', '국밥'],\n ['성진', '활어'],\n ['우천', '해장국'],\n ['남원주', '정가', '네'],\n ['민석', '이', '네', '염소', '탕'],\n ['수가', '성', '순두부', '에', '이', '케이'],\n ['싱싱', '하', '게'],\n ['홍천', '화로구이'],\n ['꼬', '들', '구', '이'],\n ['산해', '횟집'],\n ['속초', '우미', '닭갈비'],\n ['갑진', '식당'],\n ['일품', '양평', '해장국', '한', '탄강', '점'],\n ['다원', '숯불', '구이'],\n ['돈', '비촌'],\n ['고려', '산장'],\n ['서울', '해장국'],\n ['속초', '식당'],\n ['샤', '방', '샤', '방'],\n ['일', '차', '돌'],\n ['친구', '여'],\n ['김일병', '숯불', '등', '갈비'],\n ['우리', '푸드'],\n ['풍만', '식당'],\n ['봉화산', '삼계탕'],\n ['올레', '막국수'],\n ['북청', '전통', '아바', '이순대', '2', '대'],\n ['일미', '곱창'],\n ['동희', '네'],\n ['돈돈', '고태', '장점'],\n ['모든', '이', '식당'],\n ['놀러와'],\n ['춘', '천왕', '족발'],\n ['그때', '그때'],\n ['갈비', '속', '으로'],\n ['뜰', '안', '에', '.', '.', '.', '한정식'],\n ['횡', '성', '호수', '길', '한우'],\n ['왈', '앤', '왈', '즈'],\n ['개미', '식당'],\n ['도영', '삼겹살'],\n ['촌닭', '두', '마리'],\n ['원주', '뼈', '집'],\n ['삼', '호', '곱창'],\n ['국수나무'],\n ['청호', '식당'],\n ['육', '대장'],\n ['명주동', '이', '맛', '에', '온다'],\n ['연탄불', '구이'],\n ['광덕', '식당', '중앙'],\n ['솔잎', '가', '든'],\n ['봉창', '이', '해물', '칼국수'],\n ['통', '큰', '갈비', '식당'],\n ['이수', '스토어'],\n ['동박', '골', '식당'],\n ['메밀', '가'],\n ['용', '우동', '강릉', '역점'],\n ['은주', '네', '활화산', '활어'],\n ['새', '마을', '국밥'],\n ['봉평', '메밀', '막국수'],\n ['미', '가', '식당'],\n ['치악', '기사', '식당'],\n ['강나루', '황토', '집'],\n ['아', '!', '맛있', '데', '지'],\n ['원주', '양평', '해장국'],\n ['미정', '이', '네'],\n ['별천지', '갈비탕'],\n ['갤러리', '쿡'],\n ['대왕', '족발', '보쌈'],\n ['달리', '는', '려', '석', '들'],\n ['사계절', '건강', '식당'],\n ['육', '장원'],\n ['오늘', '도', '회', '는', '뜬다'],\n ['혜', '경이', '네', '밥집'],\n ['맛있', '는', '바', '다'],\n ['종점', '해장국'],\n ['거두', '칠전', '부대찌개'],\n ['엄마', '식당'],\n ['수', '갈비'],\n ['맛', '다', '모아'],\n ['모두', '랑', '식당'],\n ['낭만', '대패', '삼겹살'],\n ['돼지', '야생', '갈비'],\n ['박', '가네', '식당'],\n ['아빠', '손', '족발'],\n ['부흥', '식당'],\n ['단관', '민물', '장어'],\n ['감'],\n ['영철', '네', '생선', '구이', '맛집'],\n ['다족'],\n ['시골집'],\n ['사랑', '채'],\n ['옥봉', '뚝배기'],\n ['통방아'],\n ['북천리', '곱창'],\n ['군산', '식당'],\n ['돌', '삼', '길'],\n ['봉평', '나', '들', '이', '부침'],\n ['모구', '모구'],\n ['고', '반식', '당춘', '천', '거두', '점'],\n ['산모롱이'],\n ['출렁다리', '식당'],\n ['태백', '부흥', '한우'],\n ['용천', '순대', '염소', '탕'],\n ['오직', '한우'],\n ['호호', '식당'],\n ['메밀', '향기'],\n ['명', '진왕', '갈비탕'],\n ['은영', '네', '구이'],\n ['맛깔', '참죽'],\n ['착한', '낙지'],\n ['아이', '아이'],\n ['이', '가', '네', '곰탕'],\n ['한', '뚝배기', '돼지국밥'],\n ['육회', '왕자', '연어', '공주', '춘천'],\n ['원조', '춘천', '우미', '닭갈비'],\n ['다정다감'],\n ['돈', '꿔', '줄까'],\n ['밥', '한술'],\n ['홍천강', '매운탕'],\n ['큰손', '감자탕'],\n ['고기', '인', '스타'],\n ['찜', '꽁', '찜', '닭', '&', '곱', '떡', '치', '떡'],\n ['춘천', '옹심', '이', '메밀', '칼국수'],\n ['화덕', '식당'],\n ['딱', '조아', '9', '2', '막창'],\n ['더', '3', '0'],\n ['계방산', '숯불갈비'],\n ['꼬치', '의', '품격', '춘천'],\n ['임계', '식당'],\n ['장호', '막국수', '.', '닭갈비'],\n ['섬마을', '생선', '구이', '전문'],\n ['최가네', '순', '대국'],\n ['문어', '산촌'],\n ['야', '붕', '이', '덮밥'],\n ['윤가', '식당'],\n ['아우', '내', '병', '천', '순대'],\n ['낭만', '호랑이'],\n ['맛있', '는', '집미', '가'],\n ['홍천', '한우', '풀', '먹', '은', '소'],\n ['청기', '와'],\n ['뜰', '안', '채'],\n ['대박', '푸줏간'],\n ['맛집'],\n ['착한', '소'],\n ['통나무집', '숯불', '닭갈비'],\n ['대진', '식당'],\n ['평', '창고', '메', '한우'],\n ['자갈', '치산', '꼼', '장', '어'],\n ['단오', '억수', '맛집'],\n ['피크닉'],\n ['이승', '에프', '엔디'],\n ['산천', '식당'],\n ['산', '채', '로'],\n ['생면', '가난', '다', '수육'],\n ['이', '대감', '쭈', '꾸', '미', '와', '철', '판', '닭', '갈', '비'],\n ['무', '봉리', '순', '대국', '삼', '척', '점'],\n ['해뜨', '는', '식당'],\n ['해성'],\n ['전', '주한', '방', '콩나물', '해장국'],\n ['고향', '먹거리'],\n ['동해', '바다'],\n ['주문', '진세', '꼬', '시막', '회', '곰치'],\n ['정선', '송어', '횟집'],\n ['대감', '족발', '꼬꼬', '닭발'],\n ['정환', '이', '네', '구', '이태', '장점'],\n ['국수', '사랑'],\n ['미담', '한', '정식'],\n ['주안상'],\n ['안목', '바다', '식당'],\n ['종갓집'],\n ['밥', '공장'],\n ['함흥냉면', '옥'],\n ['어부', '명가'],\n ['아방궁'],\n ['더블유', '.', '제트', '푸드'],\n ['숯불', '구', '이', '육', '본'],\n ['물소리', '바람', '소리'],\n ['강릉', '찜', '집'],\n ['모', '가'],\n ['우리', '집', '순', '대국'],\n ['바다', '양푼', '이', '동태', '탕'],\n ['인제', '재래식', '손두부'],\n ['자성화', '맛집', '코다리', '네'],\n ['토정', '소머리', '국밥'],\n ['쉼터', '식당'],\n ['왕산', '권', '역'],\n ['부뚜막'],\n ['참죽'],\n ['국수', '장이'],\n ['토닥토닥'],\n ['동해', '1', '번', '고깃집'],\n ['향미', '네'],\n ['장', '수촌'],\n ['동', '막골', '국수'],\n ['춘경'],\n ['어', '가'],\n ['타임'],\n ['해물', '섬'],\n ['산', '들림'],\n ['평창', '메밀', '부치', '기'],\n ['좋', '은', '날', '만'],\n ['화암', '파크', '식당'],\n ['솔', '의', '향'],\n ['콩새', '야'],\n ['바다', '회마', '을'],\n ['봉화산', '설렁탕'],\n ['평창', '한우', '곰탕'],\n ['본가'],\n ['아름', '삼겹살'],\n ['송탄', '부대찌개'],\n ['섬진강', '추어탕', '전문'],\n ['석사', '순', '대국'],\n ['동해', '관'],\n ['비석거리', '추어탕'],\n ['일', '점사'],\n ['길목', '생', '삼', '겹'],\n ['전', '주식', '당'],\n ['온', '더', '가', '든'],\n ['산마', '을'],\n ['초설'],\n ['별미', '순대', '국밥'],\n ['금자', '활어'],\n ['나예', '족'],\n ['회장'],\n ['자연', '감자탕', '앤', '부대찌개'],\n ['높', '은', '터', '자연', '뜰'],\n ['갈산'],\n ['신서방', '부대찌개'],\n ['청담', '생', '고기'],\n ['터닝', '포인트'],\n ['단골집'],\n ['사계절', '밥집'],\n ['주문', '진왕', '해물', '찜'],\n ['원주', '족발', '맛집'],\n ['명승', '집'],\n ['신가', '네'],\n ['육', '공판'],\n ['옛날', '공', '이', '메밀국수'],\n ['봉화산', '정육', '식당'],\n ['동래', '수산'],\n ['돈', '먹', '꼬', '돈', '내', '고'],\n ['동해', '막국수'],\n ['옛', '우리', '식당'],\n ['금', '두꺼비', '식당'],\n ['한잔', '어때'],\n ['화목', '오향', '족발'],\n ['뚝배기', '해장국'],\n ['뽕잎', '사랑', '원주'],\n ['숲', '속', '의', '쉼터'],\n ['신촌', '식당'],\n ['좋', '은', '느낌'],\n ['정점'],\n ['충', '무복', '집'],\n ['꽃', '이', '다'],\n ['9', '9', '0', '0', '닭갈비'],\n ['진국', '추어탕'],\n ['죽', '이야기', '고', '성간', '성점'],\n ['충남', '식당'],\n ['팔', '도', '조개', '구이', '.', '대', '게', '타운'],\n ['대포', '크랩'],\n ['대룡산', '약초', '백숙'],\n ['석', '이', '푸드'],\n ['장터', '순', '대국'],\n ['시', '고', '을', '국밥'],\n ['토정', '삼계탕'],\n ['본죽'],\n ['홍', '골', '솔', '밭집'],\n ['가리왕산', '약초', '백숙'],\n ['포세이돈'],\n ['센', '꼬치'],\n ['진미', '식당'],\n ['대운', '정'],\n ['우미', '밥상'],\n ['고기', '냉면', '화', '로', '숯불', '구이'],\n ['시골', '식', '백반'],\n ['홍가', '네', '닭', '칼국수'],\n ['구', ')', '복성', '식', '당구'],\n ['묵호', '식당'],\n ['대장'],\n ['청초', '호정', '육', '식당'],\n ['본죽'],\n ['용평', '9', '홀', '퍼블릭', '그늘집'],\n ['혁신', '수산'],\n ['동해', '수라상'],\n ['청와대', '초계', '국수', '직영'],\n ['꿀돼지'],\n ['여랑', '별', '채'],\n ['하늘', '아래', '첫', '집'],\n ['수정', '족발'],\n ['쓰리', '에프'],\n ['사조', '소문', '난식', '당'],\n ['바코드', '디브이'],\n ['옛집', '두', '부촌'],\n ['통소', '덮밥'],\n ['기양', '한우', '곱창'],\n ['에', '나', '의', '키친'],\n ['후동리', '닭갈비'],\n ['동천', '호식', '당'],\n ['가마솥', '강릉', '설렁탕'],\n ['예손'],\n ['오미리', '식당'],\n ['안반', '국수'],\n ['한미'],\n ['미스터', '쭈', '삼'],\n ['시골', '보리밥'],\n ['바우', '네', '나주', '곰탕'],\n ['보매', '기해', '물', '칼국수'],\n ['예성', '생고기'],\n ['청마', '루'],\n ['툇', '골', '느', '티', '나', '무', '집'],\n ['풍물', '보리밥'],\n ['화원', '산업', '강릉', '2', '지점'],\n ['이례', '통통배', '매운탕'],\n ['해온', '닭갈비'],\n ['식', '껍', '태', '백', '점'],\n ['춘천', '가마솥', '양지', '설렁탕'],\n ['정수식', '당'],\n ['이모', '네', '식당'],\n ['장군', '돼지', '부속'],\n ['태백', '회수', '산'],\n ['킹콩', '부대찌개', '강원'],\n ['8', '0', '8', '3', '골목', '식당', '정육점'],\n ['고깃집'],\n ['엽', '이', '네', '푸드'],\n ['화산', '해물', '찜'],\n ['연남', '물', '갈비'],\n ['조선옥', '실비', '식당'],\n ['신', '쭈', '꾸', '미'],\n ['통일', '가든'],\n ['더', '육향'],\n ['밀밭', '집'],\n ['불굴', '의', '차', '여사', '감자', '탕장', '학점'],\n ['수제', '순대', '권', '순대'],\n ['나', '루', '키친'],\n ['한남', '야식'],\n ['거진', '해녀', '횟집'],\n ['남산', '로', '2', '2', '2', '족발'],\n ['남매', '네', '닭곰탕'],\n ['두', '마리', '찜', '닭', '두', '찜', '원주'],\n ['마왕', '족발', '강원'],\n ['부산갈매기'],\n ['바다', '굴', '모듬', '찜'],\n ['직', '화', '삼', '겹', '직', '구', '삼', '춘천'],\n ['청주', '본', '가왕', '갈비탕'],\n ['탑', '골', '가', '든'],\n ['언', '더더', '씨'],\n ['원창', '개울가', '집'],\n ['대판'],\n ['강화', '도', '횟집'],\n ['인사동', '먹거리'],\n ['태원', '가든'],\n ['강촌', '스카이'],\n ['동부', '기사', '식당'],\n ['산초'],\n ['성진', '추어탕'],\n ['송도', '불향', '쭈', '꾸', '미'],\n ['제', '천황', '기명', '태영', '월점'],\n ['대성', '낙지'],\n ['동남', '식당'],\n ['낭만', '집'],\n ['덕', '고개'],\n ['황소', '실비'],\n ['금송', '원조', '닭갈비'],\n ['신림', '느티나무'],\n ['경기', '이', '천', '횟집'],\n ['충북', '식당'],\n ['창', '바위', '맛집'],\n ['강릉', '본가', '족발'],\n ['강릉', '불고', '기초', '당점'],\n ['원통', '야식'],\n ['두', '찜', '춘천'],\n ['국밥', '생각'],\n ['만나', '칼국수'],\n ['짱', '아찌', '삼겹살'],\n ['소담', '정'],\n ['구미정'],\n ['피', '키'],\n ['사공'],\n ['순', '면옥'],\n ['미가', '일'],\n ['미우', '돈', '가'],\n ['원', '할머니', '보쌈', '족발', '강원'],\n ['반달곰', '카페'],\n ['맛있', '으면', '돼지'],\n ['황둔', '행복', '한', '식당'],\n ['대', '게', '바다'],\n ['명산', '집'],\n ['쌍둥이', '네'],\n ['양구', '막국수'],\n ['속초', '대', '게', '나라', '홍게', '마을'],\n ['팔', '팔', '왕', '감자탕'],\n ['삼미', '식당'],\n ['그린', '회관', '게', '조림'],\n ['히', '코코'],\n ['미소', '곱창', '막창', '구이'],\n ['허가', '네', '돼지', '국밥'],\n ['오동나무', '집'],\n ['정통', '식당'],\n ['연희', '숯불갈비'],\n ['낙천', '회관'],\n ['꼬꼬댁', '닭갈비'],\n ['큰', '맘', '할매', '순', '대국', '망상', '점'],\n ['킹콩', '식당'],\n ['둘레길', '송어', '회집'],\n ['연안', '식당'],\n ['밤', '골', '쉼터'],\n ['삼', '시', '세끼'],\n ['강', '강'],\n ['옥계', '횟집'],\n ['유명', '한', '고깃집'],\n ['원주', '진장', '어'],\n ['복', '순', '이', '아구찜'],\n ['꽃', '돼지', '생구', '이'],\n ['청자', '골'],\n ['오필승', '닭', '발주', '공점'],\n ['원주', '한우', '곱창', '소곱'],\n ['육감'],\n ['홍초', '불닭'],\n ['어', '사랑'],\n ['바베큐', 'O', 'P', 'E', 'R', 'A', 'G', 'A', 'R', 'D', 'E', 'N'],\n ['소란'],\n ['대구', '막창', '구', '이', '원', '통점'],\n ['메밀', '가', '메밀', '家'],\n ['제주', '삼다', '돈'],\n ['명란', '소녀'],\n ['저녁', '횟집'],\n ['해송', '식당'],\n ['영희', '네', '백', '반집'],\n ['순두부', '짬뽕', '초', '당', '애'],\n ['강', '언덕', '숲', '속', '이야기'],\n ['본', '가돈', '삼겹살'],\n ['시골', '맛집'],\n ['거진', '명품', '코다리', '네'],\n ['백담', '폭포', '송어', '회'],\n ['길', '아성', '의', '바다', '목장'],\n ['미수라', '도시락'],\n ['신도림', '국수', '회관'],\n ['부엉이', '도시락'],\n ['양양', '토종', '순대'],\n ['장수', '갈비', '집'],\n ['대흥', '소머리', '곰탕'],\n ['남춘천', '시골', '청국장'],\n ['철원', '능이', '백숙'],\n ['호동', '숯불갈비'],\n ['효', '춘천', '닭갈비', '태장', '점'],\n ['장호', '감자탕'],\n ['초원', '밥상'],\n ['2', '4', '시', '해', '정옥', '국밥'],\n ['퇴', '골', '오리정', '육', '식당'],\n ['친구', '친구'],\n ['오', '서방', '숯불갈비'],\n ['칠', '백'],\n ['장가', '네', '뼈', '해장국'],\n ['어촌', '마을', '물회', '섭', '국'],\n ['디', '에스', '푸드'],\n ['감돈'],\n ['영금', '정활', '어회', '센터'],\n ['산책'],\n ['충청도', '신토불이'],\n ['동영', '이', '네'],\n ['고기', '랑', '조개', '랑', '2'],\n ['신', '마포', '갈매기', 'Ⅱ'],\n ['가마솥', '별', '미식', '당'],\n ['평창', '무지개송어'],\n ['교암', '소머리', '국밥'],\n ['퓨전', '안동', '찜', '닭'],\n ['칼국', \"'\", 'S'],\n ['땅', '스', '부대찌개'],\n ['먹골', '촌'],\n ['삼순', '이', '네', '보리밥'],\n ['농가', '맛집', '채림', '의', '정원'],\n ['덕', '우산', '맛집'],\n ['복', '꺼', '비', '양푼', '이', '동태', '탕'],\n ['천사', '곱창'],\n ['두', '부대', '가'],\n ['한우', '사랑'],\n ['농가'],\n ['에스', '씨', '푸드'],\n ['홍', '여사'],\n ['오향', '족발'],\n ['돈', '몽'],\n ['행운', '낚시터', '가', '든'],\n ['만조'],\n ['장호', '용화', '관광', '랜드', '식당'],\n ['산야초'],\n ['미경', '이', '네', '횟집'],\n ['낭만', '고기'],\n ['고', '기마', '루'],\n ['능이', '랑송', '이랑', '한방', '백숙'],\n ['금강산', '숯불', '구이'],\n ['영월', '메밀전', '병'],\n ['주먹', '생고기'],\n ['뚝배기', '양평', '해장국'],\n ['원영', '생선', '구이'],\n ['서로', '숯불', '구이'],\n ['홍제동', '언덕길', '그', '집'],\n ['황고', '을'],\n ['비츠', '스튜', '디어'],\n ['놀부', '삼겹살'],\n ['맛사', '랑', '채', '사람', '들', '대관령', '산채', '백반', '지점'],\n ['대왕', '한우', '숯불', '구이'],\n ['말복', '이', '네', '가', '보', '자', '토종', '순', '대국'],\n ['칠', '전순', '대국'],\n ['러쉬'],\n ['강동', '식당'],\n ['태승', '푸드', '흥업', '점'],\n ['수', '유리혼', '밥', '왕', '&', '혼', '술', '몽', '강원'],\n ['미친', '닭갈비'],\n ['꽐', '라', '꽐', '라'],\n ['봄내', '찬'],\n ['철원', '와', '수리', '양평', '해장국'],\n ['시루봉', '토종닭'],\n ['아지트'],\n ['오수', '물', '막국수'],\n ['정', '선골', '송어'],\n ['견우', '네'],\n ['식사', '시간'],\n ['동해', '닭갈비', '천곡', '점'],\n ['어촌', '횟집'],\n ['봉포', '머구리', '집'],\n ['화초장', '식당'],\n ['큰', '집', '밥상'],\n ['배달', '회집'],\n ['부림', '해장국'],\n ['기대', '만족'],\n ['황부', '자', '협동조합'],\n ['서부', '맛집', '능이', '해', '천', '탕'],\n ['치악산', '포크', '한우'],\n ['속초', '야'],\n ['시골', '마당'],\n ['기', '와', '물결'],\n ['신', '여사', '돌판', '구이'],\n ['샤', '브', '마', '니아'],\n ['고기', '의', '꿈'],\n ['곱', '깨', '비', '곱창', '.', '닭발', '둔', '내점'],\n ['용궁', '돼지갈비'],\n ['남문'],\n ['착한', '식당'],\n ['갯마을', '바지락', '칼국수'],\n ['박대', '감', '화로구이', '문막', '점'],\n ['먹', '자', '푸드'],\n ['소담', '정식'],\n ['속초', '막창'],\n ['옛날', '장터', '국밥'],\n ['산촌', '생', '등심'],\n ['곰', '의', '집'],\n ['향원', '지짐', '이'],\n ['참숯불', '돈', '가', '네'],\n ['한국인', '의', '밥상', '잣나무', '골'],\n ['자갈치', '브라더스', '춘천', '우두', '점'],\n ['맛있', '는', '엄마', '밥상'],\n ['샤인', '식당'],\n ['동화'],\n ['한소', '야'],\n ['꼬꼬', '원', '이', '닭발'],\n ['갈비', '애', '정찬'],\n ['보원'],\n ['터미널', '다슬기'],\n ['배', '나', '무골', 'f', 'o', 'o', 'd'],\n ['시골집'],\n ['함박', '골'],\n ['밥집'],\n ['맛', '고을'],\n ['복', '이', '카페'],\n ['막', '썰', '어회', '센터'],\n ['장수', '소꼬리'],\n ['흥부', '네', '막국수'],\n ['손맛', '을', '닮', '다'],\n ['니쿠', '야'],\n ['강릉', '불고기', '삼', '척', '점'],\n ['은우', '유통'],\n ['카페', '동강'],\n ['청수', '골', '쉼터'],\n ['흑', '돼지', '삼', '백', '식당'],\n ['솔나무', '막국수'],\n ['낙산물', '곰탕'],\n ['봉창', '이', '해', '물', '샤', '브', '칼국수'],\n ['정선', '댁', '촌', '두부'],\n ['행운', '식당'],\n ...]"
     },
     "execution_count": 65,
     "metadata": {},
     "output_type": "execute_result"
    }
   ],
   "source": [
    "tokenized_corpus = [pecab.nouns(doc) for doc in tqdm(corpus)]\n",
    "tokenized_corpus"
   ],
   "metadata": {
    "collapsed": false,
    "pycharm": {
     "name": "#%%\n"
    }
   }
  },
  {
   "cell_type": "code",
   "execution_count": 68,
   "outputs": [
    {
     "data": {
      "text/plain": "  0%|          | 0/322709 [00:00<?, ?it/s]",
      "application/vnd.jupyter.widget-view+json": {
       "version_major": 2,
       "version_minor": 0,
       "model_id": "6c14707e234047a0ada45a81120750f0"
      }
     },
     "metadata": {},
     "output_type": "display_data"
    },
    {
     "data": {
      "text/plain": "[('식당', 32712),\n ('네', 14171),\n ('이', 12901),\n ('집', 12727),\n ('가', 9457),\n ('한', 8696),\n ('점', 7228),\n ('족발', 7024),\n ('당', 6404),\n ('칼국수', 6333),\n ('갈비', 5983),\n ('찜', 5969),\n ('횟집', 5370),\n ('푸드', 5214),\n ('삼', 4952),\n ('곱창', 4833),\n ('국밥', 4758),\n ('돈', 4289),\n ('밥', 4200),\n ('고기', 4148),\n ('돼지', 3898),\n ('는', 3807),\n ('닭', 3792),\n ('의', 3629),\n ('국수', 3608),\n ('감자탕', 3501),\n ('밥상', 3497),\n ('&', 3481),\n ('구이', 3435),\n ('해장국', 3435)]"
     },
     "execution_count": 68,
     "metadata": {},
     "output_type": "execute_result"
    }
   ],
   "source": [
    "# modeling\n",
    "from collections import Counter\n",
    "total_tokens = []\n",
    "for tokens in tqdm(tokenized_corpus):\n",
    "    total_tokens = total_tokens + tokens\n",
    "\n",
    "counter = Counter(total_tokens)\n",
    "counter.most_common(30) # 빈도가 높은 30개를 출력"
   ],
   "metadata": {
    "collapsed": false,
    "pycharm": {
     "name": "#%%\n"
    }
   }
  },
  {
   "cell_type": "code",
   "execution_count": 66,
   "outputs": [
    {
     "name": "stdout",
     "output_type": "stream",
     "text": [
      "Malgun Gothic\n"
     ]
    }
   ],
   "source": [
    "# 폰트 설정 방법 2\n",
    "import matplotlib\n",
    "import matplotlib.font_manager as fm\n",
    "\n",
    "#plt.rc('font',family='AppleGothic')\n",
    "# font_location = '/System/Library/Fonts/AppleSDGothicNeo.ttc'\n",
    "font_location = 'C:/Windows/Fonts/Malgun.ttf' # For Windows\n",
    "font_name = fm.FontProperties(fname=font_location).get_name()\n",
    "print(font_name)\n",
    "matplotlib.rc('font', family=font_name)"
   ],
   "metadata": {
    "collapsed": false,
    "pycharm": {
     "name": "#%%\n"
    }
   }
  },
  {
   "cell_type": "code",
   "execution_count": null,
   "outputs": [],
   "source": [
    "from wordcloud import WordCloud\n",
    "\n",
    "wc = WordCloud(\n",
    "    font_path=font_location, # 사용하는 글꼴 경로\n",
    "    max_words=100,# 최대 몇개의 단어를 사용할지(빈도순)\n",
    "    width=1920,\n",
    "    height=1080,\n",
    "    random_state=42,\n",
    "    background_color='white',\n",
    "    colormap='viridis'\n",
    ").generate_from_frequencies(counter)\n",
    "plt.axis('off')\n",
    "plt.savefig('./wordcloud.png')\n",
    "plt.imshow(wc)"
   ],
   "metadata": {
    "collapsed": false,
    "pycharm": {
     "name": "#%%\n"
    }
   }
  },
  {
   "cell_type": "code",
   "execution_count": null,
   "outputs": [],
   "source": [],
   "metadata": {
    "collapsed": false,
    "pycharm": {
     "name": "#%%\n"
    }
   }
  },
  {
   "cell_type": "code",
   "execution_count": null,
   "outputs": [],
   "source": [],
   "metadata": {
    "collapsed": false,
    "pycharm": {
     "name": "#%%\n"
    }
   }
  },
  {
   "cell_type": "code",
   "execution_count": null,
   "outputs": [],
   "source": [],
   "metadata": {
    "collapsed": false,
    "pycharm": {
     "name": "#%%\n"
    }
   }
  },
  {
   "cell_type": "code",
   "execution_count": null,
   "outputs": [],
   "source": [],
   "metadata": {
    "collapsed": false,
    "pycharm": {
     "name": "#%%\n"
    }
   }
  },
  {
   "cell_type": "code",
   "execution_count": null,
   "outputs": [],
   "source": [],
   "metadata": {
    "collapsed": false,
    "pycharm": {
     "name": "#%%\n"
    }
   }
  },
  {
   "cell_type": "code",
   "execution_count": null,
   "outputs": [],
   "source": [],
   "metadata": {
    "collapsed": false,
    "pycharm": {
     "name": "#%%\n"
    }
   }
  },
  {
   "cell_type": "code",
   "execution_count": null,
   "outputs": [],
   "source": [],
   "metadata": {
    "collapsed": false,
    "pycharm": {
     "name": "#%%\n"
    }
   }
  }
 ],
 "metadata": {
  "kernelspec": {
   "display_name": "Python 3 (ipykernel)",
   "language": "python",
   "name": "python3"
  },
  "language_info": {
   "codemirror_mode": {
    "name": "ipython",
    "version": 3
   },
   "file_extension": ".py",
   "mimetype": "text/x-python",
   "name": "python",
   "nbconvert_exporter": "python",
   "pygments_lexer": "ipython3",
   "version": "3.10.12"
  }
 },
 "nbformat": 4,
 "nbformat_minor": 5
}