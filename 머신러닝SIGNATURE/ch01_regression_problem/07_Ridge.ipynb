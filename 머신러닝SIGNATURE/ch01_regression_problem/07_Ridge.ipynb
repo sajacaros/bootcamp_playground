{
 "cells": [
  {
   "cell_type": "markdown",
   "metadata": {
    "collapsed": true,
    "pycharm": {
     "name": "#%% md\n"
    }
   },
   "source": [
    "# 07 Reqularized Model - Ridge Code 실습\n",
    "## 목표\n",
    "### 1. Linear Regression\n",
    "* 변수의 중요도 및 방향성 파악\n",
    "* 큰 데이터에 적합하지 않음\n",
    "* 설명력에서는 큰 장점이 있음\n",
    "### 2. Ridge Regression\n",
    "* Regularized Linear Model을 활용하여 Overffing을 방지\n",
    "* Hyperparameter lambda를 튜닝할 때 for loop 뿐만 아니라 GridsearchCV를 통해 도출함\n",
    "### 3. Regularized Linear Models의 경우 X's Scaling을 필수적으로 진행해야함\n",
    "## Process\n",
    "* Define X's & Y\n",
    "* Split Train & Valid dataset\n",
    "* Modeling\n",
    "* Model 해석"
   ]
  },
  {
   "cell_type": "code",
   "execution_count": 1,
   "outputs": [],
   "source": [
    "import numpy as np\n",
    "import pandas as pd\n",
    "from sklearn.model_selection import train_test_split\n",
    "from sklearn.linear_model import LinearRegression\n",
    "from sklearn.linear_model import Ridge, RidgeCV\n",
    "from sklearn.model_selection import GridSearchCV\n",
    "from sklearn.preprocessing import MinMaxScaler\n",
    "from sklearn.metrics import mean_squared_error\n",
    "\n",
    "from sklearn.datasets import load_diabetes # 당료병"
   ],
   "metadata": {
    "collapsed": false,
    "pycharm": {
     "name": "#%%\n"
    }
   }
  },
  {
   "cell_type": "code",
   "execution_count": 2,
   "outputs": [],
   "source": [
    "data = load_diabetes()"
   ],
   "metadata": {
    "collapsed": false,
    "pycharm": {
     "name": "#%%\n"
    }
   }
  },
  {
   "cell_type": "code",
   "execution_count": 3,
   "outputs": [
    {
     "data": {
      "text/plain": "(442, 10)"
     },
     "execution_count": 3,
     "metadata": {},
     "output_type": "execute_result"
    }
   ],
   "source": [
    "data['data'].shape"
   ],
   "metadata": {
    "collapsed": false,
    "pycharm": {
     "name": "#%%\n"
    }
   }
  },
  {
   "cell_type": "code",
   "execution_count": 4,
   "outputs": [
    {
     "data": {
      "text/plain": "(442,)"
     },
     "execution_count": 4,
     "metadata": {},
     "output_type": "execute_result"
    }
   ],
   "source": [
    "data['target'].shape"
   ],
   "metadata": {
    "collapsed": false,
    "pycharm": {
     "name": "#%%\n"
    }
   }
  },
  {
   "cell_type": "code",
   "execution_count": 5,
   "outputs": [
    {
     "data": {
      "text/plain": "          age     sex     bmi      bp      s1      s2      s3      s4      s5  \\\ncount  442.00  442.00  442.00  442.00  442.00  442.00  442.00  442.00  442.00   \nmean    -0.00    0.00   -0.00   -0.00   -0.00    0.00   -0.00   -0.00    0.00   \nstd      0.05    0.05    0.05    0.05    0.05    0.05    0.05    0.05    0.05   \nmin     -0.11   -0.04   -0.09   -0.11   -0.13   -0.12   -0.10   -0.08   -0.13   \n25%     -0.04   -0.04   -0.03   -0.04   -0.03   -0.03   -0.04   -0.04   -0.03   \n50%      0.01   -0.04   -0.01   -0.01   -0.00   -0.00   -0.01   -0.00   -0.00   \n75%      0.04    0.05    0.03    0.04    0.03    0.03    0.03    0.03    0.03   \nmax      0.11    0.05    0.17    0.13    0.15    0.20    0.18    0.19    0.13   \n\n           s6  \ncount  442.00  \nmean     0.00  \nstd      0.05  \nmin     -0.14  \n25%     -0.03  \n50%     -0.00  \n75%      0.03  \nmax      0.14  ",
      "text/html": "<div>\n<style scoped>\n    .dataframe tbody tr th:only-of-type {\n        vertical-align: middle;\n    }\n\n    .dataframe tbody tr th {\n        vertical-align: top;\n    }\n\n    .dataframe thead th {\n        text-align: right;\n    }\n</style>\n<table border=\"1\" class=\"dataframe\">\n  <thead>\n    <tr style=\"text-align: right;\">\n      <th></th>\n      <th>age</th>\n      <th>sex</th>\n      <th>bmi</th>\n      <th>bp</th>\n      <th>s1</th>\n      <th>s2</th>\n      <th>s3</th>\n      <th>s4</th>\n      <th>s5</th>\n      <th>s6</th>\n    </tr>\n  </thead>\n  <tbody>\n    <tr>\n      <th>count</th>\n      <td>442.00</td>\n      <td>442.00</td>\n      <td>442.00</td>\n      <td>442.00</td>\n      <td>442.00</td>\n      <td>442.00</td>\n      <td>442.00</td>\n      <td>442.00</td>\n      <td>442.00</td>\n      <td>442.00</td>\n    </tr>\n    <tr>\n      <th>mean</th>\n      <td>-0.00</td>\n      <td>0.00</td>\n      <td>-0.00</td>\n      <td>-0.00</td>\n      <td>-0.00</td>\n      <td>0.00</td>\n      <td>-0.00</td>\n      <td>-0.00</td>\n      <td>0.00</td>\n      <td>0.00</td>\n    </tr>\n    <tr>\n      <th>std</th>\n      <td>0.05</td>\n      <td>0.05</td>\n      <td>0.05</td>\n      <td>0.05</td>\n      <td>0.05</td>\n      <td>0.05</td>\n      <td>0.05</td>\n      <td>0.05</td>\n      <td>0.05</td>\n      <td>0.05</td>\n    </tr>\n    <tr>\n      <th>min</th>\n      <td>-0.11</td>\n      <td>-0.04</td>\n      <td>-0.09</td>\n      <td>-0.11</td>\n      <td>-0.13</td>\n      <td>-0.12</td>\n      <td>-0.10</td>\n      <td>-0.08</td>\n      <td>-0.13</td>\n      <td>-0.14</td>\n    </tr>\n    <tr>\n      <th>25%</th>\n      <td>-0.04</td>\n      <td>-0.04</td>\n      <td>-0.03</td>\n      <td>-0.04</td>\n      <td>-0.03</td>\n      <td>-0.03</td>\n      <td>-0.04</td>\n      <td>-0.04</td>\n      <td>-0.03</td>\n      <td>-0.03</td>\n    </tr>\n    <tr>\n      <th>50%</th>\n      <td>0.01</td>\n      <td>-0.04</td>\n      <td>-0.01</td>\n      <td>-0.01</td>\n      <td>-0.00</td>\n      <td>-0.00</td>\n      <td>-0.01</td>\n      <td>-0.00</td>\n      <td>-0.00</td>\n      <td>-0.00</td>\n    </tr>\n    <tr>\n      <th>75%</th>\n      <td>0.04</td>\n      <td>0.05</td>\n      <td>0.03</td>\n      <td>0.04</td>\n      <td>0.03</td>\n      <td>0.03</td>\n      <td>0.03</td>\n      <td>0.03</td>\n      <td>0.03</td>\n      <td>0.03</td>\n    </tr>\n    <tr>\n      <th>max</th>\n      <td>0.11</td>\n      <td>0.05</td>\n      <td>0.17</td>\n      <td>0.13</td>\n      <td>0.15</td>\n      <td>0.20</td>\n      <td>0.18</td>\n      <td>0.19</td>\n      <td>0.13</td>\n      <td>0.14</td>\n    </tr>\n  </tbody>\n</table>\n</div>"
     },
     "execution_count": 5,
     "metadata": {},
     "output_type": "execute_result"
    }
   ],
   "source": [
    "data_df = pd.DataFrame(data['data'], columns=data['feature_names'])\n",
    "data_df.describe().applymap(lambda x: f'{x:0.2f}')"
   ],
   "metadata": {
    "collapsed": false,
    "pycharm": {
     "name": "#%%\n"
    }
   }
  },
  {
   "cell_type": "code",
   "execution_count": 6,
   "outputs": [
    {
     "name": "stdout",
     "output_type": "stream",
     "text": [
      ".. _diabetes_dataset:\n",
      "\n",
      "Diabetes dataset\n",
      "----------------\n",
      "\n",
      "Ten baseline variables, age, sex, body mass index, average blood\n",
      "pressure, and six blood serum measurements were obtained for each of n =\n",
      "442 diabetes patients, as well as the response of interest, a\n",
      "quantitative measure of disease progression one year after baseline.\n",
      "\n",
      "**Data Set Characteristics:**\n",
      "\n",
      "  :Number of Instances: 442\n",
      "\n",
      "  :Number of Attributes: First 10 columns are numeric predictive values\n",
      "\n",
      "  :Target: Column 11 is a quantitative measure of disease progression one year after baseline\n",
      "\n",
      "  :Attribute Information:\n",
      "      - age     age in years\n",
      "      - sex\n",
      "      - bmi     body mass index\n",
      "      - bp      average blood pressure\n",
      "      - s1      tc, total serum cholesterol\n",
      "      - s2      ldl, low-density lipoproteins\n",
      "      - s3      hdl, high-density lipoproteins\n",
      "      - s4      tch, total cholesterol / HDL\n",
      "      - s5      ltg, possibly log of serum triglycerides level\n",
      "      - s6      glu, blood sugar level\n",
      "\n",
      "Note: Each of these 10 feature variables have been mean centered and scaled by the standard deviation times the square root of `n_samples` (i.e. the sum of squares of each column totals 1).\n",
      "\n",
      "Source URL:\n",
      "https://www4.stat.ncsu.edu/~boos/var.select/diabetes.html\n",
      "\n",
      "For more information see:\n",
      "Bradley Efron, Trevor Hastie, Iain Johnstone and Robert Tibshirani (2004) \"Least Angle Regression,\" Annals of Statistics (with discussion), 407-499.\n",
      "(https://web.stanford.edu/~hastie/Papers/LARS/LeastAngle_2002.pdf)\n",
      "\n"
     ]
    }
   ],
   "source": [
    "print(data['DESCR'])"
   ],
   "metadata": {
    "collapsed": false,
    "pycharm": {
     "name": "#%%\n"
    }
   }
  },
  {
   "cell_type": "code",
   "execution_count": 7,
   "outputs": [
    {
     "name": "stdout",
     "output_type": "stream",
     "text": [
      "<class 'pandas.core.frame.DataFrame'>\n",
      "RangeIndex: 442 entries, 0 to 441\n",
      "Data columns (total 11 columns):\n",
      " #   Column  Non-Null Count  Dtype  \n",
      "---  ------  --------------  -----  \n",
      " 0   AGE     442 non-null    int64  \n",
      " 1   SEX     442 non-null    int64  \n",
      " 2   BMI     442 non-null    float64\n",
      " 3   BP      442 non-null    float64\n",
      " 4   S1      442 non-null    int64  \n",
      " 5   S2      442 non-null    float64\n",
      " 6   S3      442 non-null    float64\n",
      " 7   S4      442 non-null    float64\n",
      " 8   S5      442 non-null    float64\n",
      " 9   S6      442 non-null    int64  \n",
      " 10  Y       442 non-null    int64  \n",
      "dtypes: float64(6), int64(5)\n",
      "memory usage: 38.1 KB\n"
     ]
    }
   ],
   "source": [
    "import ssl\n",
    "ssl._create_default_https_context = ssl._create_unverified_context\n",
    "\n",
    "data_df = pd.read_csv('https://www4.stat.ncsu.edu/~boos/var.select/diabetes.tab.txt', sep='\\t')\n",
    "data_df.info()"
   ],
   "metadata": {
    "collapsed": false,
    "pycharm": {
     "name": "#%%\n"
    }
   }
  },
  {
   "cell_type": "code",
   "execution_count": 8,
   "outputs": [
    {
     "data": {
      "text/plain": "     AGE   BMI      BP   S1     S2    S3    S4      S5   S6  SEX_1  SEX_2\n0     59  32.1  101.00  157   93.2  38.0  4.00  4.8598   87      0      1\n1     48  21.6   87.00  183  103.2  70.0  3.00  3.8918   69      1      0\n2     72  30.5   93.00  156   93.6  41.0  4.00  4.6728   85      0      1\n3     24  25.3   84.00  198  131.4  40.0  5.00  4.8903   89      1      0\n4     50  23.0  101.00  192  125.4  52.0  4.00  4.2905   80      1      0\n..   ...   ...     ...  ...    ...   ...   ...     ...  ...    ...    ...\n437   60  28.2  112.00  185  113.8  42.0  4.00  4.9836   93      0      1\n438   47  24.9   75.00  225  166.0  42.0  5.00  4.4427  102      0      1\n439   60  24.9   99.67  162  106.6  43.0  3.77  4.1271   95      0      1\n440   36  30.0   95.00  201  125.2  42.0  4.79  5.1299   85      1      0\n441   36  19.6   71.00  250  133.2  97.0  3.00  4.5951   92      1      0\n\n[442 rows x 11 columns]",
      "text/html": "<div>\n<style scoped>\n    .dataframe tbody tr th:only-of-type {\n        vertical-align: middle;\n    }\n\n    .dataframe tbody tr th {\n        vertical-align: top;\n    }\n\n    .dataframe thead th {\n        text-align: right;\n    }\n</style>\n<table border=\"1\" class=\"dataframe\">\n  <thead>\n    <tr style=\"text-align: right;\">\n      <th></th>\n      <th>AGE</th>\n      <th>BMI</th>\n      <th>BP</th>\n      <th>S1</th>\n      <th>S2</th>\n      <th>S3</th>\n      <th>S4</th>\n      <th>S5</th>\n      <th>S6</th>\n      <th>SEX_1</th>\n      <th>SEX_2</th>\n    </tr>\n  </thead>\n  <tbody>\n    <tr>\n      <th>0</th>\n      <td>59</td>\n      <td>32.1</td>\n      <td>101.00</td>\n      <td>157</td>\n      <td>93.2</td>\n      <td>38.0</td>\n      <td>4.00</td>\n      <td>4.8598</td>\n      <td>87</td>\n      <td>0</td>\n      <td>1</td>\n    </tr>\n    <tr>\n      <th>1</th>\n      <td>48</td>\n      <td>21.6</td>\n      <td>87.00</td>\n      <td>183</td>\n      <td>103.2</td>\n      <td>70.0</td>\n      <td>3.00</td>\n      <td>3.8918</td>\n      <td>69</td>\n      <td>1</td>\n      <td>0</td>\n    </tr>\n    <tr>\n      <th>2</th>\n      <td>72</td>\n      <td>30.5</td>\n      <td>93.00</td>\n      <td>156</td>\n      <td>93.6</td>\n      <td>41.0</td>\n      <td>4.00</td>\n      <td>4.6728</td>\n      <td>85</td>\n      <td>0</td>\n      <td>1</td>\n    </tr>\n    <tr>\n      <th>3</th>\n      <td>24</td>\n      <td>25.3</td>\n      <td>84.00</td>\n      <td>198</td>\n      <td>131.4</td>\n      <td>40.0</td>\n      <td>5.00</td>\n      <td>4.8903</td>\n      <td>89</td>\n      <td>1</td>\n      <td>0</td>\n    </tr>\n    <tr>\n      <th>4</th>\n      <td>50</td>\n      <td>23.0</td>\n      <td>101.00</td>\n      <td>192</td>\n      <td>125.4</td>\n      <td>52.0</td>\n      <td>4.00</td>\n      <td>4.2905</td>\n      <td>80</td>\n      <td>1</td>\n      <td>0</td>\n    </tr>\n    <tr>\n      <th>...</th>\n      <td>...</td>\n      <td>...</td>\n      <td>...</td>\n      <td>...</td>\n      <td>...</td>\n      <td>...</td>\n      <td>...</td>\n      <td>...</td>\n      <td>...</td>\n      <td>...</td>\n      <td>...</td>\n    </tr>\n    <tr>\n      <th>437</th>\n      <td>60</td>\n      <td>28.2</td>\n      <td>112.00</td>\n      <td>185</td>\n      <td>113.8</td>\n      <td>42.0</td>\n      <td>4.00</td>\n      <td>4.9836</td>\n      <td>93</td>\n      <td>0</td>\n      <td>1</td>\n    </tr>\n    <tr>\n      <th>438</th>\n      <td>47</td>\n      <td>24.9</td>\n      <td>75.00</td>\n      <td>225</td>\n      <td>166.0</td>\n      <td>42.0</td>\n      <td>5.00</td>\n      <td>4.4427</td>\n      <td>102</td>\n      <td>0</td>\n      <td>1</td>\n    </tr>\n    <tr>\n      <th>439</th>\n      <td>60</td>\n      <td>24.9</td>\n      <td>99.67</td>\n      <td>162</td>\n      <td>106.6</td>\n      <td>43.0</td>\n      <td>3.77</td>\n      <td>4.1271</td>\n      <td>95</td>\n      <td>0</td>\n      <td>1</td>\n    </tr>\n    <tr>\n      <th>440</th>\n      <td>36</td>\n      <td>30.0</td>\n      <td>95.00</td>\n      <td>201</td>\n      <td>125.2</td>\n      <td>42.0</td>\n      <td>4.79</td>\n      <td>5.1299</td>\n      <td>85</td>\n      <td>1</td>\n      <td>0</td>\n    </tr>\n    <tr>\n      <th>441</th>\n      <td>36</td>\n      <td>19.6</td>\n      <td>71.00</td>\n      <td>250</td>\n      <td>133.2</td>\n      <td>97.0</td>\n      <td>3.00</td>\n      <td>4.5951</td>\n      <td>92</td>\n      <td>1</td>\n      <td>0</td>\n    </tr>\n  </tbody>\n</table>\n<p>442 rows × 11 columns</p>\n</div>"
     },
     "execution_count": 8,
     "metadata": {},
     "output_type": "execute_result"
    }
   ],
   "source": [
    "y = data_df['Y']\n",
    "X = data_df.drop(columns=['Y'])\n",
    "X = pd.get_dummies(X, columns=['SEX'])\n",
    "X"
   ],
   "metadata": {
    "collapsed": false,
    "pycharm": {
     "name": "#%%\n"
    }
   }
  },
  {
   "cell_type": "code",
   "execution_count": 9,
   "outputs": [
    {
     "name": "stdout",
     "output_type": "stream",
     "text": [
      "309 133\n"
     ]
    }
   ],
   "source": [
    "idx = list(range(X.shape[0]))\n",
    "train_idx, valid_idx = train_test_split(idx, test_size=0.3, random_state=2023)\n",
    "print(len(train_idx), len(valid_idx))"
   ],
   "metadata": {
    "collapsed": false,
    "pycharm": {
     "name": "#%%\n"
    }
   }
  },
  {
   "cell_type": "code",
   "execution_count": 10,
   "outputs": [],
   "source": [
    "results = LinearRegression().fit(X.iloc[train_idx], y.iloc[train_idx])"
   ],
   "metadata": {
    "collapsed": false,
    "pycharm": {
     "name": "#%%\n"
    }
   }
  },
  {
   "cell_type": "code",
   "execution_count": 11,
   "outputs": [],
   "source": [
    "import scipy\n",
    "from sklearn import metrics\n",
    "\n",
    "def sse(clf, X, y):\n",
    "    \"\"\"Calculate the standard squared error of the model.\n",
    "    Parameters\n",
    "    ----------\n",
    "    clf : sklearn.linear_model\n",
    "        A scikit-learn linear model classifier with a `predict()` method.\n",
    "    X : numpy.ndarray\n",
    "        Training data used to fit the classifier.\n",
    "    y : numpy.ndarray\n",
    "        Target training values, of shape = [n_samples].\n",
    "    Returns\n",
    "    -------\n",
    "    float\n",
    "        The standard squared error of the model.\n",
    "    \"\"\"\n",
    "    y_hat = clf.predict(X)\n",
    "    sse = np.sum((y_hat - y) ** 2)\n",
    "    return sse / X.shape[0]\n",
    "\n",
    "\n",
    "def adj_r2_score(clf, X, y):\n",
    "    \"\"\"Calculate the adjusted :math:`R^2` of the model.\n",
    "    Parameters\n",
    "    ----------\n",
    "    clf : sklearn.linear_model\n",
    "        A scikit-learn linear model classifier with a `predict()` method.\n",
    "    X : numpy.ndarray\n",
    "        Training data used to fit the classifier.\n",
    "    y : numpy.ndarray\n",
    "        Target training values, of shape = [n_samples].\n",
    "    Returns\n",
    "    -------\n",
    "    float\n",
    "        The adjusted :math:`R^2` of the model.\n",
    "    \"\"\"\n",
    "    n = X.shape[0]  # Number of observations\n",
    "    p = X.shape[1]  # Number of features\n",
    "    r_squared = metrics.r2_score(y, clf.predict(X))\n",
    "    return 1 - (1 - r_squared) * ((n - 1) / (n - p - 1))\n",
    "\n",
    "\n",
    "def coef_se(clf, X, y):\n",
    "    \"\"\"Calculate standard error for beta coefficients.\n",
    "    Parameters\n",
    "    ----------\n",
    "    clf : sklearn.linear_model\n",
    "        A scikit-learn linear model classifier with a `predict()` method.\n",
    "    X : numpy.ndarray\n",
    "        Training data used to fit the classifier.\n",
    "    y : numpy.ndarray\n",
    "        Target training values, of shape = [n_samples].\n",
    "    Returns\n",
    "    -------\n",
    "    numpy.ndarray\n",
    "        An array of standard errors for the beta coefficients.\n",
    "    \"\"\"\n",
    "    n = X.shape[0]\n",
    "    X1 = np.hstack((np.ones((n, 1)), np.matrix(X)))\n",
    "    se_matrix = scipy.linalg.sqrtm(\n",
    "        metrics.mean_squared_error(y, clf.predict(X)) *\n",
    "        np.linalg.inv(X1.T * X1)\n",
    "    )\n",
    "    return np.diagonal(se_matrix)\n",
    "\n",
    "\n",
    "def coef_tval(clf, X, y):\n",
    "    \"\"\"Calculate t-statistic for beta coefficients.\n",
    "    Parameters\n",
    "    ----------\n",
    "    clf : sklearn.linear_model\n",
    "        A scikit-learn linear model classifier with a `predict()` method.\n",
    "    X : numpy.ndarray\n",
    "        Training data used to fit the classifier.\n",
    "    y : numpy.ndarray\n",
    "        Target training values, of shape = [n_samples].\n",
    "    Returns\n",
    "    -------\n",
    "    numpy.ndarray\n",
    "        An array of t-statistic values.\n",
    "    \"\"\"\n",
    "    a = np.array(clf.intercept_ / coef_se(clf, X, y)[0])\n",
    "    b = np.array(clf.coef_ / coef_se(clf, X, y)[1:])\n",
    "    return np.append(a, b)\n",
    "\n",
    "\n",
    "def coef_pval(clf, X, y):\n",
    "    \"\"\"Calculate p-values for beta coefficients.\n",
    "    Parameters\n",
    "    ----------\n",
    "    clf : sklearn.linear_model\n",
    "        A scikit-learn linear model classifier with a `predict()` method.\n",
    "    X : numpy.ndarray\n",
    "        Training data used to fit the classifier.\n",
    "    y : numpy.ndarray\n",
    "        Target training values, of shape = [n_samples].\n",
    "    Returns\n",
    "    -------\n",
    "    numpy.ndarray\n",
    "        An array of p-values.\n",
    "    \"\"\"\n",
    "    n = X.shape[0]\n",
    "    t = coef_tval(clf, X, y)\n",
    "    p = 2 * (1 - scipy.stats.t.cdf(abs(t), n - 1))\n",
    "    return p\n",
    "\n",
    "def summary(clf, X, y, xlabels=None):\n",
    "    \"\"\"\n",
    "    Output summary statistics for a fitted regression model.\n",
    "    Parameters\n",
    "    ----------\n",
    "    clf : sklearn.linear_model\n",
    "        A scikit-learn linear model classifier with a `predict()` method.\n",
    "    X : numpy.ndarray\n",
    "        Training data used to fit the classifier.\n",
    "    y : numpy.ndarray\n",
    "        Target training values, of shape = [n_samples].\n",
    "    xlabels : list, tuple\n",
    "        The labels for the predictors.\n",
    "    \"\"\"\n",
    "    # Check and/or make xlabels\n",
    "    ncols = X.shape[1]\n",
    "    if xlabels is None:\n",
    "        xlabels = np.array(\n",
    "            ['x{0}'.format(i) for i in range(1, ncols + 1)], dtype='str')\n",
    "    elif isinstance(xlabels, (tuple, list)):\n",
    "        xlabels = np.array(xlabels, dtype='str')\n",
    "    # Make sure dims of xlabels matches dims of X\n",
    "    if xlabels.shape[0] != ncols:\n",
    "        raise AssertionError(\n",
    "            \"Dimension of xlabels {0} does not match \"\n",
    "            \"X {1}.\".format(xlabels.shape, X.shape))\n",
    "    # Create data frame of coefficient estimates and associated stats\n",
    "    coef_df = pd.DataFrame(\n",
    "        index=['_intercept'] + list(xlabels),\n",
    "        columns=['Estimate', 'Std. Error', 't value', 'p value']\n",
    "    )\n",
    "    try:\n",
    "        coef_df['Estimate'] = np.concatenate(\n",
    "            (np.round(np.array([clf.intercept_]), 6), np.round((clf.coef_), 6)))\n",
    "    except Exception as e:\n",
    "        coef_df['Estimate'] = np.concatenate(\n",
    "            (\n",
    "                np.round(np.array([clf.intercept_]), 6),\n",
    "                np.round((clf.coef_), 6)\n",
    "            ), axis = 1\n",
    "    )[0,:]\n",
    "    coef_df['Std. Error'] = np.round(coef_se(clf, X, y), 6)\n",
    "    coef_df['t value'] = np.round(coef_tval(clf, X, y), 4)\n",
    "    coef_df['p value'] = np.round(coef_pval(clf, X, y), 6)\n",
    "    # Output results\n",
    "    print('Coefficients:')\n",
    "    print(coef_df.to_string(index=True))\n",
    "    print('---')\n",
    "    print('R-squared:  {0:.6f},    Adjusted R-squared:  {1:.6f},    MSE: {2:.1f}'.format(\n",
    "        metrics.r2_score(y, clf.predict(X)), adj_r2_score(clf, X, y), sse(clf, X, y)))"
   ],
   "metadata": {
    "collapsed": false,
    "pycharm": {
     "name": "#%%\n"
    }
   }
  },
  {
   "cell_type": "code",
   "execution_count": 12,
   "outputs": [
    {
     "name": "stdout",
     "output_type": "stream",
     "text": [
      "Coefficients:\n",
      "              Estimate                  Std. Error         t value   p value\n",
      "_intercept -353.422717  5.805365e+08+0.000000e+00j -0.0000+0.0000j  1.000000\n",
      "AGE          -0.241046  6.848335e+00+0.000000e+00j -0.0352+0.0000j  0.971975\n",
      "BMI           5.364734  1.280634e+00+0.000000e+00j  4.1891-0.0000j  0.000051\n",
      "BP            0.973515  3.714890e-01+0.000000e+00j  2.6206-0.0000j  0.009807\n",
      "S1           -1.128987  3.149810e-01+0.000000e+00j -3.5843+0.0000j  0.000474\n",
      "S2            0.935342  3.621640e-01+0.000000e+00j  2.5827-0.0000j  0.010894\n",
      "S3            0.295834  4.261810e-01+0.000000e+00j  0.6942+0.0000j  0.488808\n",
      "S4            2.577375  1.013887e+01+0.000000e+00j  0.2542-0.0000j  0.799731\n",
      "S5           72.840272  2.226409e+01+0.000000e+00j  3.2716+0.0000j  0.001364\n",
      "S6            0.292290  3.922070e-01+0.000000e+00j  0.7452-0.0000j  0.457449\n",
      "SEX_1        10.444984  5.805365e+08+0.000000e+00j  0.0000+0.0000j  1.000000\n",
      "SEX_2       -10.444984  5.805364e+08+0.000000e+00j -0.0000+0.0000j  1.000000\n",
      "---\n",
      "R-squared:  0.530165,    Adjusted R-squared:  0.487453,    MSE: 3084.6\n"
     ]
    }
   ],
   "source": [
    "summary(results, X.iloc[valid_idx], y.loc[valid_idx], xlabels=X.columns)"
   ],
   "metadata": {
    "collapsed": false,
    "pycharm": {
     "name": "#%%\n"
    }
   }
  },
  {
   "cell_type": "code",
   "execution_count": 13,
   "outputs": [
    {
     "name": "stdout",
     "output_type": "stream",
     "text": [
      "Coefficients:\n",
      "              Estimate                  Std. Error         t value   p value\n",
      "_intercept -353.422717  7.843017e+08+3.233200e-02j -0.0000+0.0000j  1.000000\n",
      "AGE          -0.241046  4.648774e+00+3.960723e+00j -0.0300+0.0256j  0.968542\n",
      "BMI           5.364734  8.470680e-01+7.852000e-03j  6.3328-0.0587j  0.000000\n",
      "BP            0.973515  2.558100e-01-1.800000e-05j  3.8056+0.0003j  0.000171\n",
      "S1           -1.128987  2.130450e-01-4.780000e-04j -5.2993-0.0119j  0.000000\n",
      "S2            0.935342  2.437880e-01-4.790000e-04j  3.8367+0.0075j  0.000151\n",
      "S3            0.295834  3.389010e-01+3.558000e-03j  0.8728-0.0092j  0.383413\n",
      "S4            2.577375  6.594358e+00+3.056900e-02j  0.3908-0.0018j  0.696185\n",
      "S5           72.840272  1.421280e+01+2.071070e-01j  5.1239-0.0747j  0.000001\n",
      "S6            0.292290  3.059540e-01+4.600000e-05j  0.9553-0.0001j  0.340155\n",
      "SEX_1        10.444984  7.843016e+08+1.826773e+00j  0.0000-0.0000j  1.000000\n",
      "SEX_2       -10.444984  7.843016e+08+1.342689e+00j -0.0000+0.0000j  1.000000\n",
      "---\n",
      "R-squared:  0.501442,    Adjusted R-squared:  0.482977,    MSE: 2794.8\n"
     ]
    }
   ],
   "source": [
    "summary(results, X.iloc[train_idx], y.loc[train_idx], xlabels=X.columns)"
   ],
   "metadata": {
    "collapsed": false,
    "pycharm": {
     "name": "#%%\n"
    }
   }
  },
  {
   "cell_type": "code",
   "execution_count": 14,
   "outputs": [
    {
     "data": {
      "text/plain": "        AGE       BMI        BP        S1        S2        S3        S4  \\\n0  0.666667  0.573840  0.565217  0.294118  0.297578  0.197368  0.318471   \n1  0.483333  0.130802  0.362319  0.421569  0.355248  0.618421  0.159236   \n2  0.883333  0.506329  0.449275  0.289216  0.299885  0.236842  0.318471   \n3  0.083333  0.286920  0.318841  0.495098  0.517878  0.223684  0.477707   \n4  0.516667  0.189873  0.565217  0.465686  0.483276  0.381579  0.318471   \n\n         S5        S6  SEX_1  SEX_2  \n0  0.562217  0.439394    0.0    1.0  \n1  0.222437  0.166667    1.0    0.0  \n2  0.496578  0.409091    0.0    1.0  \n3  0.572923  0.469697    1.0    0.0  \n4  0.362385  0.333333    1.0    0.0  ",
      "text/html": "<div>\n<style scoped>\n    .dataframe tbody tr th:only-of-type {\n        vertical-align: middle;\n    }\n\n    .dataframe tbody tr th {\n        vertical-align: top;\n    }\n\n    .dataframe thead th {\n        text-align: right;\n    }\n</style>\n<table border=\"1\" class=\"dataframe\">\n  <thead>\n    <tr style=\"text-align: right;\">\n      <th></th>\n      <th>AGE</th>\n      <th>BMI</th>\n      <th>BP</th>\n      <th>S1</th>\n      <th>S2</th>\n      <th>S3</th>\n      <th>S4</th>\n      <th>S5</th>\n      <th>S6</th>\n      <th>SEX_1</th>\n      <th>SEX_2</th>\n    </tr>\n  </thead>\n  <tbody>\n    <tr>\n      <th>0</th>\n      <td>0.666667</td>\n      <td>0.573840</td>\n      <td>0.565217</td>\n      <td>0.294118</td>\n      <td>0.297578</td>\n      <td>0.197368</td>\n      <td>0.318471</td>\n      <td>0.562217</td>\n      <td>0.439394</td>\n      <td>0.0</td>\n      <td>1.0</td>\n    </tr>\n    <tr>\n      <th>1</th>\n      <td>0.483333</td>\n      <td>0.130802</td>\n      <td>0.362319</td>\n      <td>0.421569</td>\n      <td>0.355248</td>\n      <td>0.618421</td>\n      <td>0.159236</td>\n      <td>0.222437</td>\n      <td>0.166667</td>\n      <td>1.0</td>\n      <td>0.0</td>\n    </tr>\n    <tr>\n      <th>2</th>\n      <td>0.883333</td>\n      <td>0.506329</td>\n      <td>0.449275</td>\n      <td>0.289216</td>\n      <td>0.299885</td>\n      <td>0.236842</td>\n      <td>0.318471</td>\n      <td>0.496578</td>\n      <td>0.409091</td>\n      <td>0.0</td>\n      <td>1.0</td>\n    </tr>\n    <tr>\n      <th>3</th>\n      <td>0.083333</td>\n      <td>0.286920</td>\n      <td>0.318841</td>\n      <td>0.495098</td>\n      <td>0.517878</td>\n      <td>0.223684</td>\n      <td>0.477707</td>\n      <td>0.572923</td>\n      <td>0.469697</td>\n      <td>1.0</td>\n      <td>0.0</td>\n    </tr>\n    <tr>\n      <th>4</th>\n      <td>0.516667</td>\n      <td>0.189873</td>\n      <td>0.565217</td>\n      <td>0.465686</td>\n      <td>0.483276</td>\n      <td>0.381579</td>\n      <td>0.318471</td>\n      <td>0.362385</td>\n      <td>0.333333</td>\n      <td>1.0</td>\n      <td>0.0</td>\n    </tr>\n  </tbody>\n</table>\n</div>"
     },
     "execution_count": 14,
     "metadata": {},
     "output_type": "execute_result"
    }
   ],
   "source": [
    "scaler = MinMaxScaler().fit(X.iloc[train_idx]) # train data로만 훈련\n",
    "X_scal = scaler.transform(X)\n",
    "X_scal = pd.DataFrame(X_scal, columns=X.columns)\n",
    "X_scal.head()"
   ],
   "metadata": {
    "collapsed": false,
    "pycharm": {
     "name": "#%%\n"
    }
   }
  },
  {
   "cell_type": "code",
   "execution_count": 15,
   "outputs": [
    {
     "name": "stdout",
     "output_type": "stream",
     "text": [
      "Coefficients:\n",
      "              Estimate                  Std. Error         t value   p value\n",
      "_intercept   -2.765884  3.804036e+08+0.000000e+00j -0.0000+0.0000j  1.000000\n",
      "AGE         -14.462769  2.365959e+01-0.000000e+00j -0.6113-0.0000j  0.542062\n",
      "BMI         127.144195  3.180163e+01+0.000000e+00j  3.9980+0.0000j  0.000106\n",
      "BP           67.172560  2.822302e+01-0.000000e+00j  2.3801+0.0000j  0.018740\n",
      "S1         -230.313267  1.637134e+02+0.000000e+00j -1.4068+0.0000j  0.161834\n",
      "S2          162.188278  1.161212e+02+0.000000e+00j  1.3967+0.0000j  0.164843\n",
      "S3           22.483360  7.068009e+01-0.000000e+00j  0.3181+0.0000j  0.750912\n",
      "S4           16.185916  5.686624e+01-0.000000e+00j  0.2846+0.0000j  0.776373\n",
      "S5          207.514650  5.002405e+01+0.000000e+00j  4.1483+0.0000j  0.000060\n",
      "S6           19.291168  3.403284e+01-0.000000e+00j  0.5668+0.0000j  0.571786\n",
      "SEX_1        10.444984  3.804036e+08+0.000000e+00j  0.0000+0.0000j  1.000000\n",
      "SEX_2       -10.444984  3.804036e+08+0.000000e+00j -0.0000+0.0000j  1.000000\n",
      "---\n",
      "R-squared:  0.530165,    Adjusted R-squared:  0.487453,    MSE: 3084.6\n"
     ]
    }
   ],
   "source": [
    "results = LinearRegression().fit(X_scal.iloc[train_idx], y.iloc[train_idx])\n",
    "summary(results, X_scal.iloc[valid_idx], y.iloc[valid_idx], xlabels=X_scal.columns)"
   ],
   "metadata": {
    "collapsed": false,
    "pycharm": {
     "name": "#%%\n"
    }
   }
  },
  {
   "cell_type": "markdown",
   "source": [
    "## [Ridge Regression]\n",
    "* Hyperparameter Tuning using for Loop\n",
    "* Hyperparameter Tuning using for GridSearchCV"
   ],
   "metadata": {
    "collapsed": false,
    "pycharm": {
     "name": "#%% md\n"
    }
   }
  },
  {
   "cell_type": "markdown",
   "source": [
    "## [Ridge Regression Parameters]\n",
    "* Package : https://scikit-learn.org/stable/modules/generated/sklearn.linear_model.Ridge.html\n",
    "* alpha : L2-norm Penalty Term\n",
    "    * alpha : 0 일 때, Just Linear Regression\n",
    "    * fit_intercept : Centering to zero\n",
    "        - 베타0를 0로 보내는 것 (베타0는 상수이기 때문에)\n",
    "    * max_iter : Maximum number of interation\n",
    "        - Loss Function의 Ridge Penalty Term은 Closed Form 값이기는 하지만 값을 찾아 나감\n",
    "        - Penalty Term : (1 / (2 * n_samples)) * ||y - Xw||^2_2 + alpha * ||w||_2"
   ],
   "metadata": {
    "collapsed": false,
    "pycharm": {
     "name": "#%% md\n"
    }
   }
  },
  {
   "cell_type": "code",
   "execution_count": 16,
   "outputs": [],
   "source": [
    "penalty = [0.00001, 0.00005, 0.0001, 0.001, 0.01, 0.05, 0.1, 0.3, 0.5, 0.7, 1, 5, 10]"
   ],
   "metadata": {
    "collapsed": false,
    "pycharm": {
     "name": "#%%\n"
    }
   }
  },
  {
   "cell_type": "code",
   "execution_count": 17,
   "outputs": [
    {
     "name": "stdout",
     "output_type": "stream",
     "text": [
      "Alpha  0.00001, R2  0.5301655, MSE  3084.6095744, RMSE  55.5392616\n",
      "Alpha  0.00005, R2  0.5301672, MSE  3084.5988322, RMSE  55.5391648\n",
      "Alpha  0.00010, R2  0.5301692, MSE  3084.5854446, RMSE  55.5390443\n",
      "Alpha  0.00100, R2  0.5302048, MSE  3084.3519225, RMSE  55.5369420\n",
      "Alpha  0.01000, R2  0.5304637, MSE  3082.6522133, RMSE  55.5216373\n",
      "Alpha  0.05000, R2  0.5306739, MSE  3081.2719053, RMSE  55.5092056\n",
      "Alpha  0.10000, R2  0.5304511, MSE  3082.7343410, RMSE  55.5223769\n",
      "Alpha  0.30000, R2  0.5294946, MSE  3089.0142040, RMSE  55.5789007\n",
      "Alpha  0.50000, R2  0.5285641, MSE  3095.1232917, RMSE  55.6338323\n",
      "Alpha  0.70000, R2  0.5275205, MSE  3101.9751863, RMSE  55.6953785\n",
      "Alpha  1.00000, R2  0.5257398, MSE  3113.6657269, RMSE  55.8002305\n",
      "Alpha  5.00000, R2  0.4932187, MSE  3327.1766532, RMSE  57.6816839\n",
      "Alpha  10.00000, R2  0.4513724, MSE  3601.9109235, RMSE  60.0159222\n"
     ]
    }
   ],
   "source": [
    "# for loop, using ridge\n",
    "for p in penalty:\n",
    "    model = Ridge(alpha=p).fit(X_scal.iloc[train_idx], y.iloc[train_idx])\n",
    "    score = model.score(X_scal.iloc[valid_idx], y.iloc[valid_idx])\n",
    "    pred_y = model.predict(X_scal.iloc[valid_idx])\n",
    "    mse = mean_squared_error(y.iloc[valid_idx], pred_y)\n",
    "    print(f\"Alpha {p: .5f}, R2 {score: .7f}, MSE {mse: .7f}, RMSE {np.sqrt(mse): .7f}\")"
   ],
   "metadata": {
    "collapsed": false,
    "pycharm": {
     "name": "#%%\n"
    }
   }
  },
  {
   "cell_type": "code",
   "execution_count": 18,
   "outputs": [
    {
     "name": "stdout",
     "output_type": "stream",
     "text": [
      "Coefficients:\n",
      "              Estimate    Std. Error  t value   p value\n",
      "_intercept   17.825740  3.801975e+08   0.0000  1.000000\n",
      "AGE         -13.785283  2.357059e+01  -0.5849  0.559646\n",
      "BMI         127.651862  3.178432e+01   4.0162  0.000099\n",
      "BP           67.519687  2.819772e+01   2.3945  0.018048\n",
      "S1         -138.819177  1.636202e+02  -0.8484  0.397738\n",
      "S2           90.895898  1.160603e+02   0.7832  0.434925\n",
      "S3          -17.147463  7.064699e+01  -0.2427  0.808599\n",
      "S4            9.075568  5.681209e+01   0.1597  0.873324\n",
      "S5          174.903805  4.997324e+01   3.4999  0.000635\n",
      "S6           19.246301  3.401304e+01   0.5659  0.572456\n",
      "SEX_1        10.540953  3.801975e+08   0.0000  1.000000\n",
      "SEX_2       -10.540953  3.801975e+08  -0.0000  1.000000\n",
      "---\n",
      "R-squared:  0.530674,    Adjusted R-squared:  0.488008,    MSE: 3081.3\n"
     ]
    }
   ],
   "source": [
    "model_best = Ridge(alpha=0.05).fit(X_scal.iloc[train_idx], y.iloc[train_idx])\n",
    "summary(model_best, X_scal.iloc[valid_idx], y.iloc[valid_idx], xlabels=X_scal.columns)"
   ],
   "metadata": {
    "collapsed": false,
    "pycharm": {
     "name": "#%%\n"
    }
   }
  },
  {
   "cell_type": "code",
   "execution_count": 19,
   "outputs": [
    {
     "name": "stdout",
     "output_type": "stream",
     "text": [
      "best alpha :  1.00000, R2: 0.4419\n"
     ]
    }
   ],
   "source": [
    "# using RidgeCV\n",
    "ridge_cv = RidgeCV(alphas=penalty, cv=5)\n",
    "model = ridge_cv.fit(X_scal.iloc[train_idx], y.iloc[train_idx])\n",
    "print(f\"best alpha : {model.alpha_: .5f}, R2: {model.best_score_:.4f}\")"
   ],
   "metadata": {
    "collapsed": false,
    "pycharm": {
     "name": "#%%\n"
    }
   }
  },
  {
   "cell_type": "code",
   "execution_count": 20,
   "outputs": [
    {
     "name": "stdout",
     "output_type": "stream",
     "text": [
      "alpha :  1.00000, R2: 0.4419\n",
      "Coefficients:\n",
      "              Estimate    Std. Error  t value   p value\n",
      "_intercept   43.015535  3.821909e+08   0.0000  1.000000\n",
      "AGE         -10.212337  2.384223e+01  -0.4283  0.669109\n",
      "BMI         120.864809  3.195330e+01   3.7825  0.000234\n",
      "BP           66.451269  2.837207e+01   2.3421  0.020670\n",
      "S1          -19.444296  1.644912e+02  -0.1182  0.906082\n",
      "S2           -6.763887  1.166733e+02  -0.0580  0.953858\n",
      "S3          -55.007168  7.100133e+01  -0.7747  0.439882\n",
      "S4           18.933213  5.710622e+01   0.3315  0.740760\n",
      "S5          117.213598  5.025068e+01   2.3326  0.021183\n",
      "S6           22.940872  3.418407e+01   0.6711  0.503331\n",
      "SEX_1        10.460773  3.821908e+08   0.0000  1.000000\n",
      "SEX_2       -10.460773  3.821908e+08  -0.0000  1.000000\n",
      "---\n",
      "R-squared:  0.525740,    Adjusted R-squared:  0.482625,    MSE: 3113.7\n"
     ]
    }
   ],
   "source": [
    "# RidgeCV result\n",
    "model_best = Ridge(alpha=model.alpha_).fit(X_scal.iloc[train_idx], y.iloc[train_idx])\n",
    "score = model_best.score(X_scal.iloc[valid_idx], y.iloc[valid_idx])\n",
    "pred_y = model_best.predict(X_scal.iloc[valid_idx])\n",
    "mse = np.sqrt(mean_squared_error(y.iloc[valid_idx], pred_y))\n",
    "print(f\"alpha : {model.alpha_: .5f}, R2: {model.best_score_:.4f}\")\n",
    "summary(model_best, X_scal.iloc[valid_idx], y.iloc[valid_idx], xlabels=X_scal.columns)"
   ],
   "metadata": {
    "collapsed": false,
    "pycharm": {
     "name": "#%%\n"
    }
   }
  },
  {
   "cell_type": "code",
   "execution_count": 21,
   "outputs": [],
   "source": [
    "# BMI, S3, S5 만 LinearRegression 적용\n",
    "target_column = ['BMI', 'BP', 'S3', 'S5']"
   ],
   "metadata": {
    "collapsed": false,
    "pycharm": {
     "name": "#%%\n"
    }
   }
  },
  {
   "cell_type": "code",
   "execution_count": 22,
   "outputs": [],
   "source": [
    "results = LinearRegression().fit(X.iloc[train_idx][target_column], y.iloc[train_idx])"
   ],
   "metadata": {
    "collapsed": false,
    "pycharm": {
     "name": "#%%\n"
    }
   }
  },
  {
   "cell_type": "code",
   "execution_count": 23,
   "outputs": [
    {
     "name": "stdout",
     "output_type": "stream",
     "text": [
      "Coefficients:\n",
      "              Estimate  Std. Error  t value   p value\n",
      "_intercept -242.768534   64.246649  -3.7787  0.000238\n",
      "BMI           5.719775    1.133027   5.0482  0.000001\n",
      "BP            0.737781    0.189800   3.8871  0.000160\n",
      "S3           -0.670649    0.296573  -2.2613  0.025374\n",
      "S5           45.066168    9.656949   4.6667  0.000007\n",
      "---\n",
      "R-squared:  0.504676,    Adjusted R-squared:  0.489197,    MSE: 3252.0\n"
     ]
    }
   ],
   "source": [
    "summary(results, X.iloc[valid_idx][target_column], y.loc[valid_idx], xlabels=target_column)"
   ],
   "metadata": {
    "collapsed": false,
    "pycharm": {
     "name": "#%%\n"
    }
   }
  }
 ],
 "metadata": {
  "kernelspec": {
   "display_name": "Python 3",
   "language": "python",
   "name": "python3"
  },
  "language_info": {
   "codemirror_mode": {
    "name": "ipython",
    "version": 2
   },
   "file_extension": ".py",
   "mimetype": "text/x-python",
   "name": "python",
   "nbconvert_exporter": "python",
   "pygments_lexer": "ipython2",
   "version": "2.7.6"
  }
 },
 "nbformat": 4,
 "nbformat_minor": 0
}