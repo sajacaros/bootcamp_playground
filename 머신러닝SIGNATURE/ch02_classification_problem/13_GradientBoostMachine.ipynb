{
 "cells": [
  {
   "cell_type": "markdown",
   "metadata": {
    "collapsed": true,
    "pycharm": {
     "name": "#%% md\n"
    }
   },
   "source": [
    "# 13 Grandient Boosting Machine"
   ]
  },
  {
   "cell_type": "code",
   "execution_count": 47,
   "outputs": [],
   "source": [
    "import numpy as np\n",
    "import matplotlib.pyplot as plt\n",
    "import pandas as pd\n",
    "import seaborn as sns\n",
    "\n",
    "from sklearn.model_selection import train_test_split\n",
    "from sklearn.metrics import confusion_matrix, f1_score, mean_squared_error, r2_score\n",
    "from sklearn.ensemble import GradientBoostingClassifier, GradientBoostingRegressor\n",
    "from collections import Counter"
   ],
   "metadata": {
    "collapsed": false,
    "pycharm": {
     "name": "#%%\n"
    }
   }
  },
  {
   "cell_type": "code",
   "execution_count": 29,
   "outputs": [],
   "source": [
    "data_url = r'https://raw.githubusercontent.com/GonieAhn/Data-Science-online-course-from-gonie/main/Data%20Store/example_data.csv'"
   ],
   "metadata": {
    "collapsed": false,
    "pycharm": {
     "name": "#%%\n"
    }
   }
  },
  {
   "cell_type": "code",
   "execution_count": 30,
   "outputs": [
    {
     "name": "stdout",
     "output_type": "stream",
     "text": [
      "<class 'pandas.core.frame.DataFrame'>\n",
      "RangeIndex: 532 entries, 0 to 531\n",
      "Data columns (total 23 columns):\n",
      " #   Column   Non-Null Count  Dtype  \n",
      "---  ------   --------------  -----  \n",
      " 0   censor   532 non-null    int64  \n",
      " 1   event    532 non-null    int64  \n",
      " 2   age      532 non-null    int64  \n",
      " 3   wtkg     532 non-null    float64\n",
      " 4   hemo     532 non-null    int64  \n",
      " 5   homo     532 non-null    int64  \n",
      " 6   drugs    532 non-null    int64  \n",
      " 7   karnof   532 non-null    int64  \n",
      " 8   oprior   532 non-null    int64  \n",
      " 9   z30      532 non-null    int64  \n",
      " 10  zprior   532 non-null    int64  \n",
      " 11  preanti  532 non-null    int64  \n",
      " 12  race     532 non-null    int64  \n",
      " 13  gender   532 non-null    int64  \n",
      " 14  str2     532 non-null    int64  \n",
      " 15  strat    532 non-null    int64  \n",
      " 16  symptom  532 non-null    int64  \n",
      " 17  cd40     532 non-null    int64  \n",
      " 18  cd420    532 non-null    int64  \n",
      " 19  cd496    532 non-null    int64  \n",
      " 20  r        532 non-null    int64  \n",
      " 21  cd80     532 non-null    int64  \n",
      " 22  cd820    532 non-null    int64  \n",
      "dtypes: float64(1), int64(22)\n",
      "memory usage: 95.7 KB\n"
     ]
    }
   ],
   "source": [
    "data_df = pd.read_csv(data_url)\n",
    "data_df.info()"
   ],
   "metadata": {
    "collapsed": false,
    "pycharm": {
     "name": "#%%\n"
    }
   }
  },
  {
   "cell_type": "code",
   "execution_count": 31,
   "outputs": [
    {
     "data": {
      "text/plain": "           censor        event         age        wtkg        hemo  \\\ncount  532.000000   532.000000  532.000000  532.000000  532.000000   \nmean     0.340226   801.236842   35.225564   76.061855    0.078947   \nstd      0.474231   326.887929    8.852094   13.224698    0.269910   \nmin      0.000000    33.000000   13.000000   47.401000    0.000000   \n25%      0.000000   535.750000   29.000000   67.500000    0.000000   \n50%      0.000000   933.500000   34.000000   74.600000    0.000000   \n75%      1.000000  1081.000000   40.000000   83.502000    0.000000   \nmax      1.000000  1231.000000   70.000000  149.000000    1.000000   \n\n             homo       drugs      karnof      oprior         z30  ...  \\\ncount  532.000000  532.000000  532.000000  532.000000  532.000000  ...   \nmean     0.640977    0.118421   95.432331    0.030075    0.546992  ...   \nstd      0.480165    0.323410    5.981856    0.170955    0.498255  ...   \nmin      0.000000    0.000000   70.000000    0.000000    0.000000  ...   \n25%      0.000000    0.000000   90.000000    0.000000    0.000000  ...   \n50%      1.000000    0.000000  100.000000    0.000000    1.000000  ...   \n75%      1.000000    0.000000  100.000000    0.000000    1.000000  ...   \nmax      1.000000    1.000000  100.000000    1.000000    1.000000  ...   \n\n           gender        str2       strat     symptom        cd40       cd420  \\\ncount  532.000000  532.000000  532.000000  532.000000  532.000000  532.000000   \nmean     0.812030    0.580827    1.981203    0.167293  353.204887  336.139098   \nstd      0.391056    0.493888    0.905946    0.373589  114.105253  130.961573   \nmin      0.000000    0.000000    1.000000    0.000000  103.000000   49.000000   \n25%      1.000000    0.000000    1.000000    0.000000  271.000000  243.750000   \n50%      1.000000    1.000000    2.000000    0.000000  346.000000  330.500000   \n75%      1.000000    1.000000    3.000000    0.000000  422.000000  418.000000   \nmax      1.000000    1.000000    3.000000    1.000000  771.000000  909.000000   \n\n            cd496           r         cd80        cd820  \ncount  532.000000  532.000000   532.000000   532.000000  \nmean   173.146617    0.603383   987.250000   928.214286  \nstd    191.455406    0.489656   475.223907   438.569798  \nmin     -1.000000    0.000000   221.000000   150.000000  \n25%     -1.000000    0.000000   653.250000   626.500000  \n50%    113.000000    1.000000   881.000000   818.000000  \n75%    324.000000    1.000000  1190.000000  1164.000000  \nmax    857.000000    1.000000  4255.000000  3130.000000  \n\n[8 rows x 23 columns]",
      "text/html": "<div>\n<style scoped>\n    .dataframe tbody tr th:only-of-type {\n        vertical-align: middle;\n    }\n\n    .dataframe tbody tr th {\n        vertical-align: top;\n    }\n\n    .dataframe thead th {\n        text-align: right;\n    }\n</style>\n<table border=\"1\" class=\"dataframe\">\n  <thead>\n    <tr style=\"text-align: right;\">\n      <th></th>\n      <th>censor</th>\n      <th>event</th>\n      <th>age</th>\n      <th>wtkg</th>\n      <th>hemo</th>\n      <th>homo</th>\n      <th>drugs</th>\n      <th>karnof</th>\n      <th>oprior</th>\n      <th>z30</th>\n      <th>...</th>\n      <th>gender</th>\n      <th>str2</th>\n      <th>strat</th>\n      <th>symptom</th>\n      <th>cd40</th>\n      <th>cd420</th>\n      <th>cd496</th>\n      <th>r</th>\n      <th>cd80</th>\n      <th>cd820</th>\n    </tr>\n  </thead>\n  <tbody>\n    <tr>\n      <th>count</th>\n      <td>532.000000</td>\n      <td>532.000000</td>\n      <td>532.000000</td>\n      <td>532.000000</td>\n      <td>532.000000</td>\n      <td>532.000000</td>\n      <td>532.000000</td>\n      <td>532.000000</td>\n      <td>532.000000</td>\n      <td>532.000000</td>\n      <td>...</td>\n      <td>532.000000</td>\n      <td>532.000000</td>\n      <td>532.000000</td>\n      <td>532.000000</td>\n      <td>532.000000</td>\n      <td>532.000000</td>\n      <td>532.000000</td>\n      <td>532.000000</td>\n      <td>532.000000</td>\n      <td>532.000000</td>\n    </tr>\n    <tr>\n      <th>mean</th>\n      <td>0.340226</td>\n      <td>801.236842</td>\n      <td>35.225564</td>\n      <td>76.061855</td>\n      <td>0.078947</td>\n      <td>0.640977</td>\n      <td>0.118421</td>\n      <td>95.432331</td>\n      <td>0.030075</td>\n      <td>0.546992</td>\n      <td>...</td>\n      <td>0.812030</td>\n      <td>0.580827</td>\n      <td>1.981203</td>\n      <td>0.167293</td>\n      <td>353.204887</td>\n      <td>336.139098</td>\n      <td>173.146617</td>\n      <td>0.603383</td>\n      <td>987.250000</td>\n      <td>928.214286</td>\n    </tr>\n    <tr>\n      <th>std</th>\n      <td>0.474231</td>\n      <td>326.887929</td>\n      <td>8.852094</td>\n      <td>13.224698</td>\n      <td>0.269910</td>\n      <td>0.480165</td>\n      <td>0.323410</td>\n      <td>5.981856</td>\n      <td>0.170955</td>\n      <td>0.498255</td>\n      <td>...</td>\n      <td>0.391056</td>\n      <td>0.493888</td>\n      <td>0.905946</td>\n      <td>0.373589</td>\n      <td>114.105253</td>\n      <td>130.961573</td>\n      <td>191.455406</td>\n      <td>0.489656</td>\n      <td>475.223907</td>\n      <td>438.569798</td>\n    </tr>\n    <tr>\n      <th>min</th>\n      <td>0.000000</td>\n      <td>33.000000</td>\n      <td>13.000000</td>\n      <td>47.401000</td>\n      <td>0.000000</td>\n      <td>0.000000</td>\n      <td>0.000000</td>\n      <td>70.000000</td>\n      <td>0.000000</td>\n      <td>0.000000</td>\n      <td>...</td>\n      <td>0.000000</td>\n      <td>0.000000</td>\n      <td>1.000000</td>\n      <td>0.000000</td>\n      <td>103.000000</td>\n      <td>49.000000</td>\n      <td>-1.000000</td>\n      <td>0.000000</td>\n      <td>221.000000</td>\n      <td>150.000000</td>\n    </tr>\n    <tr>\n      <th>25%</th>\n      <td>0.000000</td>\n      <td>535.750000</td>\n      <td>29.000000</td>\n      <td>67.500000</td>\n      <td>0.000000</td>\n      <td>0.000000</td>\n      <td>0.000000</td>\n      <td>90.000000</td>\n      <td>0.000000</td>\n      <td>0.000000</td>\n      <td>...</td>\n      <td>1.000000</td>\n      <td>0.000000</td>\n      <td>1.000000</td>\n      <td>0.000000</td>\n      <td>271.000000</td>\n      <td>243.750000</td>\n      <td>-1.000000</td>\n      <td>0.000000</td>\n      <td>653.250000</td>\n      <td>626.500000</td>\n    </tr>\n    <tr>\n      <th>50%</th>\n      <td>0.000000</td>\n      <td>933.500000</td>\n      <td>34.000000</td>\n      <td>74.600000</td>\n      <td>0.000000</td>\n      <td>1.000000</td>\n      <td>0.000000</td>\n      <td>100.000000</td>\n      <td>0.000000</td>\n      <td>1.000000</td>\n      <td>...</td>\n      <td>1.000000</td>\n      <td>1.000000</td>\n      <td>2.000000</td>\n      <td>0.000000</td>\n      <td>346.000000</td>\n      <td>330.500000</td>\n      <td>113.000000</td>\n      <td>1.000000</td>\n      <td>881.000000</td>\n      <td>818.000000</td>\n    </tr>\n    <tr>\n      <th>75%</th>\n      <td>1.000000</td>\n      <td>1081.000000</td>\n      <td>40.000000</td>\n      <td>83.502000</td>\n      <td>0.000000</td>\n      <td>1.000000</td>\n      <td>0.000000</td>\n      <td>100.000000</td>\n      <td>0.000000</td>\n      <td>1.000000</td>\n      <td>...</td>\n      <td>1.000000</td>\n      <td>1.000000</td>\n      <td>3.000000</td>\n      <td>0.000000</td>\n      <td>422.000000</td>\n      <td>418.000000</td>\n      <td>324.000000</td>\n      <td>1.000000</td>\n      <td>1190.000000</td>\n      <td>1164.000000</td>\n    </tr>\n    <tr>\n      <th>max</th>\n      <td>1.000000</td>\n      <td>1231.000000</td>\n      <td>70.000000</td>\n      <td>149.000000</td>\n      <td>1.000000</td>\n      <td>1.000000</td>\n      <td>1.000000</td>\n      <td>100.000000</td>\n      <td>1.000000</td>\n      <td>1.000000</td>\n      <td>...</td>\n      <td>1.000000</td>\n      <td>1.000000</td>\n      <td>3.000000</td>\n      <td>1.000000</td>\n      <td>771.000000</td>\n      <td>909.000000</td>\n      <td>857.000000</td>\n      <td>1.000000</td>\n      <td>4255.000000</td>\n      <td>3130.000000</td>\n    </tr>\n  </tbody>\n</table>\n<p>8 rows × 23 columns</p>\n</div>"
     },
     "execution_count": 31,
     "metadata": {},
     "output_type": "execute_result"
    }
   ],
   "source": [
    "data_df.describe()"
   ],
   "metadata": {
    "collapsed": false,
    "pycharm": {
     "name": "#%%\n"
    }
   }
  },
  {
   "cell_type": "code",
   "execution_count": 32,
   "outputs": [],
   "source": [
    "y = data_df['censor']\n",
    "X = data_df.drop(columns=['censor'])"
   ],
   "metadata": {
    "collapsed": false,
    "pycharm": {
     "name": "#%%\n"
    }
   }
  },
  {
   "cell_type": "code",
   "execution_count": 33,
   "outputs": [
    {
     "name": "stdout",
     "output_type": "stream",
     "text": [
      "train data : 372\n",
      "valid data : 160\n",
      "train data y : Counter({0: 246, 1: 126})\n",
      "train data y : Counter({0: 105, 1: 55})\n"
     ]
    }
   ],
   "source": [
    "idx = list(range(X.shape[0]))\n",
    "train_idx, valid_idx = train_test_split(idx, test_size=0.3, random_state=119)\n",
    "print(f'train data : {len(train_idx)}')\n",
    "print(f'valid data : {len(valid_idx)}')\n",
    "print(f'train data y : {Counter(y.iloc[train_idx])}')\n",
    "print(f'train data y : {Counter(y.iloc[valid_idx])}')"
   ],
   "metadata": {
    "collapsed": false,
    "pycharm": {
     "name": "#%%\n"
    }
   }
  },
  {
   "cell_type": "markdown",
   "source": [],
   "metadata": {
    "collapsed": false,
    "pycharm": {
     "name": "#%% md\n"
    }
   }
  },
  {
   "cell_type": "markdown",
   "source": [
    "[Gradient Boosting Machine Parameters]\n",
    "  - Package : https://scikit-learn.org/stable/modules/generated/sklearn.ensemble.GradientBoostingClassifier.html\n",
    "  - n_estimators : # of Tree\n",
    "  - learning_rate : learning_rate과 n_estimator와 Trade-off 관계가 있음\n",
    "    - Weight applied to each classifier at each boosting iteration\n",
    "  - max_features : Feature 수 sampling (Overfitting 방지)\n",
    "  - subsample : Data Subsample (Overfitting 방지, Bootstrap X)\n",
    "  - max_depth : Tree의 최대 깊이 제한"
   ],
   "metadata": {
    "collapsed": false,
    "pycharm": {
     "name": "#%% md\n"
    }
   }
  },
  {
   "cell_type": "code",
   "execution_count": 34,
   "outputs": [],
   "source": [
    "estimators = [10, 20, 50]\n",
    "learning = [0.05, 0.1, 0.5]\n",
    "sub_sampling = [0.5, 0.75, 1]"
   ],
   "metadata": {
    "collapsed": false,
    "pycharm": {
     "name": "#%%\n"
    }
   }
  },
  {
   "cell_type": "code",
   "execution_count": 35,
   "outputs": [],
   "source": [
    "save_est = []\n",
    "save_lr = []\n",
    "save_sub = []\n",
    "f1_score_ = []"
   ],
   "metadata": {
    "collapsed": false,
    "pycharm": {
     "name": "#%%\n"
    }
   }
  },
  {
   "cell_type": "code",
   "execution_count": 36,
   "outputs": [
    {
     "name": "stdout",
     "output_type": "stream",
     "text": [
      "---- 0 ----\n",
      "estimator : 10, lr : 0.05, sub_sampling : 0.5\n",
      "train Confusion Matrix\n",
      "[[244   2]\n",
      " [ 46  80]]\n",
      "train Acc : [0.65591398 0.21505376]\n",
      "train f1-score : 0.7692307692307692\n",
      "test Confusion Matrix\n",
      "[[100   5]\n",
      " [ 26  29]]\n",
      "test Acc : [0.625   0.18125]\n",
      "test f1-score : 0.6516853932584269\n",
      "--------------------\n",
      "---- 1 ----\n",
      "estimator : 10, lr : 0.05, sub_sampling : 0.75\n",
      "train Confusion Matrix\n",
      "[[243   3]\n",
      " [ 40  86]]\n",
      "train Acc : [0.65322581 0.2311828 ]\n",
      "train f1-score : 0.8\n",
      "test Confusion Matrix\n",
      "[[100   5]\n",
      " [ 22  33]]\n",
      "test Acc : [0.625   0.20625]\n",
      "test f1-score : 0.7096774193548387\n",
      "--------------------\n",
      "---- 2 ----\n",
      "estimator : 10, lr : 0.05, sub_sampling : 1\n",
      "train Confusion Matrix\n",
      "[[241   5]\n",
      " [ 36  90]]\n",
      "train Acc : [0.64784946 0.24193548]\n",
      "train f1-score : 0.8144796380090498\n",
      "test Confusion Matrix\n",
      "[[100   5]\n",
      " [ 20  35]]\n",
      "test Acc : [0.625   0.21875]\n",
      "test f1-score : 0.7368421052631579\n",
      "--------------------\n",
      "---- 3 ----\n",
      "estimator : 10, lr : 0.1, sub_sampling : 0.5\n",
      "train Confusion Matrix\n",
      "[[238   8]\n",
      " [ 33  93]]\n",
      "train Acc : [0.63978495 0.25      ]\n",
      "train f1-score : 0.8193832599118944\n",
      "test Confusion Matrix\n",
      "[[97  8]\n",
      " [16 39]]\n",
      "test Acc : [0.60625 0.24375]\n",
      "test f1-score : 0.764705882352941\n",
      "--------------------\n",
      "---- 4 ----\n",
      "estimator : 10, lr : 0.1, sub_sampling : 0.75\n",
      "train Confusion Matrix\n",
      "[[239   7]\n",
      " [ 25 101]]\n",
      "train Acc : [0.64247312 0.27150538]\n",
      "train f1-score : 0.8632478632478632\n",
      "test Confusion Matrix\n",
      "[[99  6]\n",
      " [17 38]]\n",
      "test Acc : [0.61875 0.2375 ]\n",
      "test f1-score : 0.7676767676767676\n",
      "--------------------\n",
      "---- 5 ----\n",
      "estimator : 10, lr : 0.1, sub_sampling : 1\n",
      "train Confusion Matrix\n",
      "[[242   4]\n",
      " [ 32  94]]\n",
      "train Acc : [0.65053763 0.25268817]\n",
      "train f1-score : 0.8392857142857143\n",
      "test Confusion Matrix\n",
      "[[100   5]\n",
      " [ 21  34]]\n",
      "test Acc : [0.625  0.2125]\n",
      "test f1-score : 0.723404255319149\n",
      "--------------------\n",
      "---- 6 ----\n",
      "estimator : 10, lr : 0.5, sub_sampling : 0.5\n",
      "train Confusion Matrix\n",
      "[[236  10]\n",
      " [ 11 115]]\n",
      "train Acc : [0.6344086  0.30913978]\n",
      "train f1-score : 0.9163346613545816\n",
      "test Confusion Matrix\n",
      "[[87 18]\n",
      " [11 44]]\n",
      "test Acc : [0.54375 0.275  ]\n",
      "test f1-score : 0.7521367521367521\n",
      "--------------------\n",
      "---- 7 ----\n",
      "estimator : 10, lr : 0.5, sub_sampling : 0.75\n",
      "train Confusion Matrix\n",
      "[[240   6]\n",
      " [ 10 116]]\n",
      "train Acc : [0.64516129 0.31182796]\n",
      "train f1-score : 0.9354838709677418\n",
      "test Confusion Matrix\n",
      "[[96  9]\n",
      " [13 42]]\n",
      "test Acc : [0.6    0.2625]\n",
      "test f1-score : 0.7924528301886793\n",
      "--------------------\n",
      "---- 8 ----\n",
      "estimator : 10, lr : 0.5, sub_sampling : 1\n",
      "train Confusion Matrix\n",
      "[[242   4]\n",
      " [  4 122]]\n",
      "train Acc : [0.65053763 0.32795699]\n",
      "train f1-score : 0.9682539682539683\n",
      "test Confusion Matrix\n",
      "[[98  7]\n",
      " [14 41]]\n",
      "test Acc : [0.6125  0.25625]\n",
      "test f1-score : 0.7961165048543689\n",
      "--------------------\n",
      "---- 9 ----\n",
      "estimator : 20, lr : 0.05, sub_sampling : 0.5\n",
      "train Confusion Matrix\n",
      "[[241   5]\n",
      " [ 27  99]]\n",
      "train Acc : [0.64784946 0.26612903]\n",
      "train f1-score : 0.8608695652173911\n",
      "test Confusion Matrix\n",
      "[[99  6]\n",
      " [14 41]]\n",
      "test Acc : [0.61875 0.25625]\n",
      "test f1-score : 0.803921568627451\n",
      "--------------------\n",
      "---- 10 ----\n",
      "estimator : 20, lr : 0.05, sub_sampling : 0.75\n",
      "train Confusion Matrix\n",
      "[[241   5]\n",
      " [ 25 101]]\n",
      "train Acc : [0.64784946 0.27150538]\n",
      "train f1-score : 0.8706896551724137\n",
      "test Confusion Matrix\n",
      "[[97  8]\n",
      " [14 41]]\n",
      "test Acc : [0.60625 0.25625]\n",
      "test f1-score : 0.7884615384615385\n",
      "--------------------\n",
      "---- 11 ----\n",
      "estimator : 20, lr : 0.05, sub_sampling : 1\n",
      "train Confusion Matrix\n",
      "[[242   4]\n",
      " [ 32  94]]\n",
      "train Acc : [0.65053763 0.25268817]\n",
      "train f1-score : 0.8392857142857143\n",
      "test Confusion Matrix\n",
      "[[100   5]\n",
      " [ 21  34]]\n",
      "test Acc : [0.625  0.2125]\n",
      "test f1-score : 0.723404255319149\n",
      "--------------------\n",
      "---- 12 ----\n",
      "estimator : 20, lr : 0.1, sub_sampling : 0.5\n",
      "train Confusion Matrix\n",
      "[[238   8]\n",
      " [ 12 114]]\n",
      "train Acc : [0.63978495 0.30645161]\n",
      "train f1-score : 0.9193548387096775\n",
      "test Confusion Matrix\n",
      "[[96  9]\n",
      " [ 8 47]]\n",
      "test Acc : [0.6     0.29375]\n",
      "test f1-score : 0.8468468468468467\n",
      "--------------------\n",
      "---- 13 ----\n",
      "estimator : 20, lr : 0.1, sub_sampling : 0.75\n",
      "train Confusion Matrix\n",
      "[[236  10]\n",
      " [ 15 111]]\n",
      "train Acc : [0.6344086 0.2983871]\n",
      "train f1-score : 0.8987854251012146\n",
      "test Confusion Matrix\n",
      "[[97  8]\n",
      " [11 44]]\n",
      "test Acc : [0.60625 0.275  ]\n",
      "test f1-score : 0.8224299065420562\n",
      "--------------------\n",
      "---- 14 ----\n",
      "estimator : 20, lr : 0.1, sub_sampling : 1\n",
      "train Confusion Matrix\n",
      "[[238   8]\n",
      " [ 15 111]]\n",
      "train Acc : [0.63978495 0.2983871 ]\n",
      "train f1-score : 0.9061224489795918\n",
      "test Confusion Matrix\n",
      "[[97  8]\n",
      " [12 43]]\n",
      "test Acc : [0.60625 0.26875]\n",
      "test f1-score : 0.8113207547169811\n",
      "--------------------\n",
      "---- 15 ----\n",
      "estimator : 20, lr : 0.5, sub_sampling : 0.5\n",
      "train Confusion Matrix\n",
      "[[240   6]\n",
      " [  2 124]]\n",
      "train Acc : [0.64516129 0.33333333]\n",
      "train f1-score : 0.96875\n",
      "test Confusion Matrix\n",
      "[[91 14]\n",
      " [11 44]]\n",
      "test Acc : [0.56875 0.275  ]\n",
      "test f1-score : 0.7787610619469026\n",
      "--------------------\n",
      "---- 16 ----\n",
      "estimator : 20, lr : 0.5, sub_sampling : 0.75\n",
      "train Confusion Matrix\n",
      "[[245   1]\n",
      " [  2 124]]\n",
      "train Acc : [0.65860215 0.33333333]\n",
      "train f1-score : 0.9880478087649401\n",
      "test Confusion Matrix\n",
      "[[94 11]\n",
      " [12 43]]\n",
      "test Acc : [0.5875  0.26875]\n",
      "test f1-score : 0.7889908256880734\n",
      "--------------------\n",
      "---- 17 ----\n",
      "estimator : 20, lr : 0.5, sub_sampling : 1\n",
      "train Confusion Matrix\n",
      "[[246   0]\n",
      " [  0 126]]\n",
      "train Acc : [0.66129032 0.33870968]\n",
      "train f1-score : 1.0\n",
      "test Confusion Matrix\n",
      "[[96  9]\n",
      " [ 9 46]]\n",
      "test Acc : [0.6    0.2875]\n",
      "test f1-score : 0.8363636363636363\n",
      "--------------------\n",
      "---- 18 ----\n",
      "estimator : 50, lr : 0.05, sub_sampling : 0.5\n",
      "train Confusion Matrix\n",
      "[[236  10]\n",
      " [  9 117]]\n",
      "train Acc : [0.6344086  0.31451613]\n",
      "train f1-score : 0.924901185770751\n",
      "test Confusion Matrix\n",
      "[[94 11]\n",
      " [ 7 48]]\n",
      "test Acc : [0.5875 0.3   ]\n",
      "test f1-score : 0.8421052631578948\n",
      "--------------------\n",
      "---- 19 ----\n",
      "estimator : 50, lr : 0.05, sub_sampling : 0.75\n",
      "train Confusion Matrix\n",
      "[[238   8]\n",
      " [  7 119]]\n",
      "train Acc : [0.63978495 0.31989247]\n",
      "train f1-score : 0.9407114624505929\n",
      "test Confusion Matrix\n",
      "[[95 10]\n",
      " [ 9 46]]\n",
      "test Acc : [0.59375 0.2875 ]\n",
      "test f1-score : 0.8288288288288289\n",
      "--------------------\n",
      "---- 20 ----\n",
      "estimator : 50, lr : 0.05, sub_sampling : 1\n",
      "train Confusion Matrix\n",
      "[[238   8]\n",
      " [  8 118]]\n",
      "train Acc : [0.63978495 0.3172043 ]\n",
      "train f1-score : 0.9365079365079365\n",
      "test Confusion Matrix\n",
      "[[97  8]\n",
      " [ 9 46]]\n",
      "test Acc : [0.60625 0.2875 ]\n",
      "test f1-score : 0.8440366972477065\n",
      "--------------------\n",
      "---- 21 ----\n",
      "estimator : 50, lr : 0.1, sub_sampling : 0.5\n",
      "train Confusion Matrix\n",
      "[[234  12]\n",
      " [  6 120]]\n",
      "train Acc : [0.62903226 0.32258065]\n",
      "train f1-score : 0.9302325581395349\n",
      "test Confusion Matrix\n",
      "[[93 12]\n",
      " [ 6 49]]\n",
      "test Acc : [0.58125 0.30625]\n",
      "test f1-score : 0.8448275862068965\n",
      "--------------------\n",
      "---- 22 ----\n",
      "estimator : 50, lr : 0.1, sub_sampling : 0.75\n",
      "train Confusion Matrix\n",
      "[[241   5]\n",
      " [  4 122]]\n",
      "train Acc : [0.64784946 0.32795699]\n",
      "train f1-score : 0.9644268774703557\n",
      "test Confusion Matrix\n",
      "[[95 10]\n",
      " [ 9 46]]\n",
      "test Acc : [0.59375 0.2875 ]\n",
      "test f1-score : 0.8288288288288289\n",
      "--------------------\n",
      "---- 23 ----\n",
      "estimator : 50, lr : 0.1, sub_sampling : 1\n",
      "train Confusion Matrix\n",
      "[[241   5]\n",
      " [  3 123]]\n",
      "train Acc : [0.64784946 0.33064516]\n",
      "train f1-score : 0.968503937007874\n",
      "test Confusion Matrix\n",
      "[[96  9]\n",
      " [ 9 46]]\n",
      "test Acc : [0.6    0.2875]\n",
      "test f1-score : 0.8363636363636363\n",
      "--------------------\n",
      "---- 24 ----\n",
      "estimator : 50, lr : 0.5, sub_sampling : 0.5\n",
      "train Confusion Matrix\n",
      "[[246   0]\n",
      " [  0 126]]\n",
      "train Acc : [0.66129032 0.33870968]\n",
      "train f1-score : 1.0\n",
      "test Confusion Matrix\n",
      "[[89 16]\n",
      " [ 9 46]]\n",
      "test Acc : [0.55625 0.2875 ]\n",
      "test f1-score : 0.7863247863247863\n",
      "--------------------\n",
      "---- 25 ----\n",
      "estimator : 50, lr : 0.5, sub_sampling : 0.75\n",
      "train Confusion Matrix\n",
      "[[246   0]\n",
      " [  0 126]]\n",
      "train Acc : [0.66129032 0.33870968]\n",
      "train f1-score : 1.0\n",
      "test Confusion Matrix\n",
      "[[93 12]\n",
      " [13 42]]\n",
      "test Acc : [0.58125 0.2625 ]\n",
      "test f1-score : 0.7706422018348624\n",
      "--------------------\n",
      "---- 26 ----\n",
      "estimator : 50, lr : 0.5, sub_sampling : 1\n",
      "train Confusion Matrix\n",
      "[[246   0]\n",
      " [  0 126]]\n",
      "train Acc : [0.66129032 0.33870968]\n",
      "train f1-score : 1.0\n",
      "test Confusion Matrix\n",
      "[[91 14]\n",
      " [11 44]]\n",
      "test Acc : [0.56875 0.275  ]\n",
      "test f1-score : 0.7787610619469026\n",
      "--------------------\n"
     ]
    }
   ],
   "source": [
    "cnt = 0\n",
    "for est in estimators:\n",
    "    for lr in learning:\n",
    "        for sub in sub_sampling:\n",
    "            print(f'---- {cnt} ----')\n",
    "            cnt += 1\n",
    "            print(f'estimator : {est}, lr : {lr}, sub_sampling : {sub}')\n",
    "            model = GradientBoostingClassifier(\n",
    "                n_estimators=est,\n",
    "                learning_rate=lr,\n",
    "                subsample=sub,\n",
    "                random_state=119\n",
    "            )\n",
    "            model.fit(X.iloc[train_idx], y.iloc[train_idx])\n",
    "\n",
    "            # Train Acc\n",
    "            y_pred_train = model.predict(X.iloc[train_idx])\n",
    "            cm_train = confusion_matrix(y.iloc[train_idx], y_pred_train)\n",
    "            print('train Confusion Matrix')\n",
    "            print(cm_train)\n",
    "            print(f'train Acc : {(cm_train[0,0], cm_train[1,1]) / cm_train.sum()}')\n",
    "            print(f'train f1-score : {f1_score(y.iloc[train_idx], y_pred_train)}')\n",
    "\n",
    "            # Test Acc\n",
    "            y_pred_test = model.predict(X.iloc[valid_idx])\n",
    "            cm_test = confusion_matrix(y.iloc[valid_idx], y_pred_test)\n",
    "            print('test Confusion Matrix')\n",
    "            print(cm_test)\n",
    "            print(f'test Acc : {(cm_test[0,0], cm_test[1,1]) / cm_test.sum()}')\n",
    "            print(f'test f1-score : {f1_score(y.iloc[valid_idx], y_pred_test)}')\n",
    "            print('-'*20)\n",
    "            save_est.append(est)\n",
    "            save_lr.append(lr)\n",
    "            save_sub.append(sub)\n",
    "            f1_score_.append(f1_score(y.iloc[valid_idx], y_pred_test))"
   ],
   "metadata": {
    "collapsed": false,
    "pycharm": {
     "name": "#%%\n"
    }
   }
  },
  {
   "cell_type": "code",
   "execution_count": 37,
   "outputs": [
    {
     "name": "stdout",
     "output_type": "stream",
     "text": [
      "best idx : 12, f1-score : 0.8468468468468467\n",
      "best est : 20, lr:0.1, sub sampling: 0.5\n"
     ]
    }
   ],
   "source": [
    "print(f'best idx : {np.argmax(f1_score_)}, f1-score : {f1_score_[np.argmax(f1_score_)]}')\n",
    "print(f'best est : {save_est[np.argmax(f1_score_)]}, lr:{save_lr[np.argmax(f1_score_)]}, sub sampling: {save_sub[np.argmax(f1_score_)]}')"
   ],
   "metadata": {
    "collapsed": false,
    "pycharm": {
     "name": "#%%\n"
    }
   }
  },
  {
   "cell_type": "code",
   "execution_count": 38,
   "outputs": [
    {
     "name": "stdout",
     "output_type": "stream",
     "text": [
      "test Confusion Matrix\n",
      "[[95 10]\n",
      " [ 6 49]]\n",
      "test Acc : [0.59375 0.30625]\n",
      "test f1-score : 0.8596491228070176\n",
      "--------------------\n"
     ]
    }
   ],
   "source": [
    "best_model = GradientBoostingClassifier(\n",
    "                n_estimators=70,\n",
    "                learning_rate=0.05,\n",
    "                subsample=0.75,\n",
    "                random_state=119\n",
    "            )\n",
    "best_model.fit(X.iloc[train_idx], y.iloc[train_idx])\n",
    "y_pred_test = best_model.predict(X.iloc[valid_idx])\n",
    "cm_test = confusion_matrix(y.iloc[valid_idx], y_pred_test)\n",
    "print('test Confusion Matrix')\n",
    "print(cm_test)\n",
    "print(f'test Acc : {(cm_test[0,0], cm_test[1,1]) / cm_test.sum()}')\n",
    "print(f'test f1-score : {f1_score(y.iloc[valid_idx], y_pred_test)}')\n",
    "print('-'*20)"
   ],
   "metadata": {
    "collapsed": false,
    "pycharm": {
     "name": "#%%\n"
    }
   }
  },
  {
   "cell_type": "code",
   "execution_count": 39,
   "outputs": [
    {
     "name": "stdout",
     "output_type": "stream",
     "text": [
      "       Score  Feature\n",
      "0   0.551746    event\n",
      "1   0.101582    cd420\n",
      "2   0.070442        r\n",
      "3   0.049608     wtkg\n",
      "4   0.047552    cd496\n",
      "5   0.046233  preanti\n",
      "6   0.039519     race\n",
      "7   0.021911     cd80\n",
      "8   0.021247    cd820\n",
      "9   0.018860      age\n",
      "10  0.008619      z30\n",
      "11  0.007822     cd40\n",
      "12  0.004964     hemo\n",
      "13  0.004427   karnof\n",
      "14  0.001538     homo\n",
      "15  0.001486    strat\n",
      "16  0.001414   oprior\n",
      "17  0.000621    drugs\n",
      "18  0.000407  symptom\n",
      "19  0.000000   zprior\n",
      "20  0.000000     str2\n",
      "21  0.000000   gender\n"
     ]
    }
   ],
   "source": [
    "feature_map = pd.DataFrame(sorted(zip(best_model.feature_importances_, X.columns), reverse=True), columns=['Score', 'Feature'])\n",
    "print(feature_map)"
   ],
   "metadata": {
    "collapsed": false,
    "pycharm": {
     "name": "#%%\n"
    }
   }
  },
  {
   "cell_type": "code",
   "execution_count": 40,
   "outputs": [
    {
     "data": {
      "text/plain": "<Figure size 640x480 with 1 Axes>",
      "image/png": "[encoded data removed]"
     },
     "metadata": {},
     "output_type": "display_data"
    }
   ],
   "source": [
    "feature_map_20 = feature_map.iloc[:10]\n",
    "sns.barplot(data=feature_map_20, x='Score', y='Feature')\n",
    "plt.title('AdaBoost Importance Features')\n",
    "plt.tight_layout()\n",
    "plt.show()"
   ],
   "metadata": {
    "collapsed": false,
    "pycharm": {
     "name": "#%%\n"
    }
   }
  },
  {
   "cell_type": "code",
   "execution_count": 41,
   "outputs": [
    {
     "name": "stdout",
     "output_type": "stream",
     "text": [
      "<class 'pandas.core.frame.DataFrame'>\n",
      "RangeIndex: 442 entries, 0 to 441\n",
      "Data columns (total 11 columns):\n",
      " #   Column  Non-Null Count  Dtype  \n",
      "---  ------  --------------  -----  \n",
      " 0   AGE     442 non-null    int64  \n",
      " 1   SEX     442 non-null    int64  \n",
      " 2   BMI     442 non-null    float64\n",
      " 3   BP      442 non-null    float64\n",
      " 4   S1      442 non-null    int64  \n",
      " 5   S2      442 non-null    float64\n",
      " 6   S3      442 non-null    float64\n",
      " 7   S4      442 non-null    float64\n",
      " 8   S5      442 non-null    float64\n",
      " 9   S6      442 non-null    int64  \n",
      " 10  Y       442 non-null    int64  \n",
      "dtypes: float64(6), int64(5)\n",
      "memory usage: 38.1 KB\n"
     ]
    }
   ],
   "source": [
    "# GBM Regressor\n",
    "import ssl\n",
    "ssl._create_default_https_context = ssl._create_unverified_context\n",
    "\n",
    "data_df = pd.read_csv('https://www4.stat.ncsu.edu/~boos/var.select/diabetes.tab.txt', sep='\\t')\n",
    "data_df.info()"
   ],
   "metadata": {
    "collapsed": false,
    "pycharm": {
     "name": "#%%\n"
    }
   }
  },
  {
   "cell_type": "code",
   "execution_count": 42,
   "outputs": [
    {
     "data": {
      "text/plain": "     AGE   BMI      BP   S1     S2    S3    S4      S5   S6  SEX_1  SEX_2\n0     59  32.1  101.00  157   93.2  38.0  4.00  4.8598   87      0      1\n1     48  21.6   87.00  183  103.2  70.0  3.00  3.8918   69      1      0\n2     72  30.5   93.00  156   93.6  41.0  4.00  4.6728   85      0      1\n3     24  25.3   84.00  198  131.4  40.0  5.00  4.8903   89      1      0\n4     50  23.0  101.00  192  125.4  52.0  4.00  4.2905   80      1      0\n..   ...   ...     ...  ...    ...   ...   ...     ...  ...    ...    ...\n437   60  28.2  112.00  185  113.8  42.0  4.00  4.9836   93      0      1\n438   47  24.9   75.00  225  166.0  42.0  5.00  4.4427  102      0      1\n439   60  24.9   99.67  162  106.6  43.0  3.77  4.1271   95      0      1\n440   36  30.0   95.00  201  125.2  42.0  4.79  5.1299   85      1      0\n441   36  19.6   71.00  250  133.2  97.0  3.00  4.5951   92      1      0\n\n[442 rows x 11 columns]",
      "text/html": "<div>\n<style scoped>\n    .dataframe tbody tr th:only-of-type {\n        vertical-align: middle;\n    }\n\n    .dataframe tbody tr th {\n        vertical-align: top;\n    }\n\n    .dataframe thead th {\n        text-align: right;\n    }\n</style>\n<table border=\"1\" class=\"dataframe\">\n  <thead>\n    <tr style=\"text-align: right;\">\n      <th></th>\n      <th>AGE</th>\n      <th>BMI</th>\n      <th>BP</th>\n      <th>S1</th>\n      <th>S2</th>\n      <th>S3</th>\n      <th>S4</th>\n      <th>S5</th>\n      <th>S6</th>\n      <th>SEX_1</th>\n      <th>SEX_2</th>\n    </tr>\n  </thead>\n  <tbody>\n    <tr>\n      <th>0</th>\n      <td>59</td>\n      <td>32.1</td>\n      <td>101.00</td>\n      <td>157</td>\n      <td>93.2</td>\n      <td>38.0</td>\n      <td>4.00</td>\n      <td>4.8598</td>\n      <td>87</td>\n      <td>0</td>\n      <td>1</td>\n    </tr>\n    <tr>\n      <th>1</th>\n      <td>48</td>\n      <td>21.6</td>\n      <td>87.00</td>\n      <td>183</td>\n      <td>103.2</td>\n      <td>70.0</td>\n      <td>3.00</td>\n      <td>3.8918</td>\n      <td>69</td>\n      <td>1</td>\n      <td>0</td>\n    </tr>\n    <tr>\n      <th>2</th>\n      <td>72</td>\n      <td>30.5</td>\n      <td>93.00</td>\n      <td>156</td>\n      <td>93.6</td>\n      <td>41.0</td>\n      <td>4.00</td>\n      <td>4.6728</td>\n      <td>85</td>\n      <td>0</td>\n      <td>1</td>\n    </tr>\n    <tr>\n      <th>3</th>\n      <td>24</td>\n      <td>25.3</td>\n      <td>84.00</td>\n      <td>198</td>\n      <td>131.4</td>\n      <td>40.0</td>\n      <td>5.00</td>\n      <td>4.8903</td>\n      <td>89</td>\n      <td>1</td>\n      <td>0</td>\n    </tr>\n    <tr>\n      <th>4</th>\n      <td>50</td>\n      <td>23.0</td>\n      <td>101.00</td>\n      <td>192</td>\n      <td>125.4</td>\n      <td>52.0</td>\n      <td>4.00</td>\n      <td>4.2905</td>\n      <td>80</td>\n      <td>1</td>\n      <td>0</td>\n    </tr>\n    <tr>\n      <th>...</th>\n      <td>...</td>\n      <td>...</td>\n      <td>...</td>\n      <td>...</td>\n      <td>...</td>\n      <td>...</td>\n      <td>...</td>\n      <td>...</td>\n      <td>...</td>\n      <td>...</td>\n      <td>...</td>\n    </tr>\n    <tr>\n      <th>437</th>\n      <td>60</td>\n      <td>28.2</td>\n      <td>112.00</td>\n      <td>185</td>\n      <td>113.8</td>\n      <td>42.0</td>\n      <td>4.00</td>\n      <td>4.9836</td>\n      <td>93</td>\n      <td>0</td>\n      <td>1</td>\n    </tr>\n    <tr>\n      <th>438</th>\n      <td>47</td>\n      <td>24.9</td>\n      <td>75.00</td>\n      <td>225</td>\n      <td>166.0</td>\n      <td>42.0</td>\n      <td>5.00</td>\n      <td>4.4427</td>\n      <td>102</td>\n      <td>0</td>\n      <td>1</td>\n    </tr>\n    <tr>\n      <th>439</th>\n      <td>60</td>\n      <td>24.9</td>\n      <td>99.67</td>\n      <td>162</td>\n      <td>106.6</td>\n      <td>43.0</td>\n      <td>3.77</td>\n      <td>4.1271</td>\n      <td>95</td>\n      <td>0</td>\n      <td>1</td>\n    </tr>\n    <tr>\n      <th>440</th>\n      <td>36</td>\n      <td>30.0</td>\n      <td>95.00</td>\n      <td>201</td>\n      <td>125.2</td>\n      <td>42.0</td>\n      <td>4.79</td>\n      <td>5.1299</td>\n      <td>85</td>\n      <td>1</td>\n      <td>0</td>\n    </tr>\n    <tr>\n      <th>441</th>\n      <td>36</td>\n      <td>19.6</td>\n      <td>71.00</td>\n      <td>250</td>\n      <td>133.2</td>\n      <td>97.0</td>\n      <td>3.00</td>\n      <td>4.5951</td>\n      <td>92</td>\n      <td>1</td>\n      <td>0</td>\n    </tr>\n  </tbody>\n</table>\n<p>442 rows × 11 columns</p>\n</div>"
     },
     "execution_count": 42,
     "metadata": {},
     "output_type": "execute_result"
    }
   ],
   "source": [
    "y = data_df['Y']\n",
    "X = data_df.drop(columns=['Y'])\n",
    "X = pd.get_dummies(X, columns=['SEX'])\n",
    "X"
   ],
   "metadata": {
    "collapsed": false,
    "pycharm": {
     "name": "#%%\n"
    }
   }
  },
  {
   "cell_type": "code",
   "execution_count": 43,
   "outputs": [
    {
     "name": "stdout",
     "output_type": "stream",
     "text": [
      "309 133\n"
     ]
    }
   ],
   "source": [
    "idx = list(range(X.shape[0]))\n",
    "train_idx, valid_idx = train_test_split(idx, test_size=0.3, random_state=2023)\n",
    "print(len(train_idx), len(valid_idx))"
   ],
   "metadata": {
    "collapsed": false,
    "pycharm": {
     "name": "#%%\n"
    }
   }
  },
  {
   "cell_type": "code",
   "execution_count": 49,
   "outputs": [],
   "source": [
    "estimators = [50, 70, 90, 120]\n",
    "learning = [0.05, 0.1, 0.5]\n",
    "sub_sampling = [0.5, 0.75, 1]"
   ],
   "metadata": {
    "collapsed": false,
    "pycharm": {
     "name": "#%%\n"
    }
   }
  },
  {
   "cell_type": "code",
   "execution_count": 50,
   "outputs": [],
   "source": [
    "save_est = []\n",
    "save_lr = []\n",
    "save_sub = []\n",
    "r2_score_ = []"
   ],
   "metadata": {
    "collapsed": false,
    "pycharm": {
     "name": "#%%\n"
    }
   }
  },
  {
   "cell_type": "code",
   "execution_count": 51,
   "outputs": [
    {
     "name": "stdout",
     "output_type": "stream",
     "text": [
      "---- 0 ----\n",
      "estimator : 50, lr : 0.05, sub_sampling : 0.5\n",
      "train RMSE : 42.57079915195377\n",
      "train R2 : 0.6767136197252009\n",
      "test RMSE : 57.547389977398446\n",
      "test R2 : 0.49557576372212186\n",
      "--------------------\n",
      "---- 1 ----\n",
      "estimator : 50, lr : 0.05, sub_sampling : 0.75\n",
      "train RMSE : 41.952003079594014\n",
      "train R2 : 0.686043696945301\n",
      "test RMSE : 58.95283076784344\n",
      "test R2 : 0.4706364794924697\n",
      "--------------------\n",
      "---- 2 ----\n",
      "estimator : 50, lr : 0.05, sub_sampling : 1\n",
      "train RMSE : 42.59645822462251\n",
      "train R2 : 0.6763237877832261\n",
      "test RMSE : 60.02856210547344\n",
      "test R2 : 0.45114128592010894\n",
      "--------------------\n",
      "---- 3 ----\n",
      "estimator : 50, lr : 0.1, sub_sampling : 0.5\n",
      "train RMSE : 35.02406840831017\n",
      "train R2 : 0.7811749745491734\n",
      "test RMSE : 59.0914223821234\n",
      "test R2 : 0.468144603163025\n",
      "--------------------\n",
      "---- 4 ----\n",
      "estimator : 50, lr : 0.1, sub_sampling : 0.75\n",
      "train RMSE : 34.897941509579255\n",
      "train R2 : 0.7827481799315098\n",
      "test RMSE : 60.14518943187981\n",
      "test R2 : 0.44900649856624886\n",
      "--------------------\n",
      "---- 5 ----\n",
      "estimator : 50, lr : 0.1, sub_sampling : 1\n",
      "train RMSE : 34.67451266444717\n",
      "train R2 : 0.7855211192564082\n",
      "test RMSE : 59.82735629238906\n",
      "test R2 : 0.45481448689132475\n",
      "--------------------\n",
      "---- 6 ----\n",
      "estimator : 50, lr : 0.5, sub_sampling : 0.5\n",
      "train RMSE : 19.618956898220308\n",
      "train R2 : 0.9313381297473965\n",
      "test RMSE : 74.3172834315855\n",
      "test R2 : 0.15875143771737177\n",
      "--------------------\n",
      "---- 7 ----\n",
      "estimator : 50, lr : 0.5, sub_sampling : 0.75\n",
      "train RMSE : 14.901111325072826\n",
      "train R2 : 0.9603903393826746\n",
      "test RMSE : 67.65708557182828\n",
      "test R2 : 0.30277772349119436\n",
      "--------------------\n",
      "---- 8 ----\n",
      "estimator : 50, lr : 0.5, sub_sampling : 1\n",
      "train RMSE : 13.260719204596871\n",
      "train R2 : 0.9686311959996613\n",
      "test RMSE : 63.52343189937029\n",
      "test R2 : 0.3853716494187813\n",
      "--------------------\n",
      "---- 9 ----\n",
      "estimator : 70, lr : 0.05, sub_sampling : 0.5\n",
      "train RMSE : 39.14524476414566\n",
      "train R2 : 0.7266482689092394\n",
      "test RMSE : 57.075650385405474\n",
      "test R2 : 0.5038118129452638\n",
      "--------------------\n",
      "---- 10 ----\n",
      "estimator : 70, lr : 0.05, sub_sampling : 0.75\n",
      "train RMSE : 38.51365298879307\n",
      "train R2 : 0.7353979352254565\n",
      "test RMSE : 58.69109886674094\n",
      "test R2 : 0.4753264581347395\n",
      "--------------------\n",
      "---- 11 ----\n",
      "estimator : 70, lr : 0.05, sub_sampling : 1\n",
      "train RMSE : 39.11886805219846\n",
      "train R2 : 0.7270165226149345\n",
      "test RMSE : 59.67155356647381\n",
      "test R2 : 0.4576503396488516\n",
      "--------------------\n",
      "---- 12 ----\n",
      "estimator : 70, lr : 0.1, sub_sampling : 0.5\n",
      "train RMSE : 31.3856851151691\n",
      "train R2 : 0.8242776392350968\n",
      "test RMSE : 59.3050012943238\n",
      "test R2 : 0.46429299909323707\n",
      "--------------------\n",
      "---- 13 ----\n",
      "estimator : 70, lr : 0.1, sub_sampling : 0.75\n",
      "train RMSE : 30.71540289607168\n",
      "train R2 : 0.8317030538858089\n",
      "test RMSE : 60.57729942938456\n",
      "test R2 : 0.4410608897917071\n",
      "--------------------\n",
      "---- 14 ----\n",
      "estimator : 70, lr : 0.1, sub_sampling : 1\n",
      "train RMSE : 31.295846958586793\n",
      "train R2 : 0.825282172302819\n",
      "test RMSE : 60.54682546546031\n",
      "test R2 : 0.4416231071937671\n",
      "--------------------\n",
      "---- 15 ----\n",
      "estimator : 70, lr : 0.5, sub_sampling : 0.5\n",
      "train RMSE : 14.41365956773944\n",
      "train R2 : 0.9629394104724159\n",
      "test RMSE : 76.15266588315947\n",
      "test R2 : 0.11668642425299047\n",
      "--------------------\n",
      "---- 16 ----\n",
      "estimator : 70, lr : 0.5, sub_sampling : 0.75\n",
      "train RMSE : 9.378279369184863\n",
      "train R2 : 0.9843104627635\n",
      "test RMSE : 68.41187502478607\n",
      "test R2 : 0.28713438031330496\n",
      "--------------------\n",
      "---- 17 ----\n",
      "estimator : 70, lr : 0.5, sub_sampling : 1\n",
      "train RMSE : 8.723526962321582\n",
      "train R2 : 0.9864247443153982\n",
      "test RMSE : 63.61804153879355\n",
      "test R2 : 0.3835394729122432\n",
      "--------------------\n",
      "---- 18 ----\n",
      "estimator : 90, lr : 0.05, sub_sampling : 0.5\n",
      "train RMSE : 36.60637301881301\n",
      "train R2 : 0.7609563539074219\n",
      "test RMSE : 57.0608337115253\n",
      "test R2 : 0.5040693975453703\n",
      "--------------------\n",
      "---- 19 ----\n",
      "estimator : 90, lr : 0.05, sub_sampling : 0.75\n",
      "train RMSE : 35.879539047039025\n",
      "train R2 : 0.7703547258498818\n",
      "test RMSE : 58.61383379923015\n",
      "test R2 : 0.47670698272091416\n",
      "--------------------\n",
      "---- 20 ----\n",
      "estimator : 90, lr : 0.05, sub_sampling : 1\n",
      "train RMSE : 36.762248983428314\n",
      "train R2 : 0.7589162451549893\n",
      "test RMSE : 59.365107719438925\n",
      "test R2 : 0.46320655615210315\n",
      "--------------------\n",
      "---- 21 ----\n",
      "estimator : 90, lr : 0.1, sub_sampling : 0.5\n",
      "train RMSE : 28.417601715882235\n",
      "train R2 : 0.855941579412891\n",
      "test RMSE : 60.112401408116845\n",
      "test R2 : 0.44960708071990496\n",
      "--------------------\n",
      "---- 22 ----\n",
      "estimator : 90, lr : 0.1, sub_sampling : 0.75\n",
      "train RMSE : 27.43696438934632\n",
      "train R2 : 0.8657123969929859\n",
      "test RMSE : 60.574286519082314\n",
      "test R2 : 0.4411164878966167\n",
      "--------------------\n",
      "---- 23 ----\n",
      "estimator : 90, lr : 0.1, sub_sampling : 1\n",
      "train RMSE : 28.292109401020674\n",
      "train R2 : 0.8572110959664677\n",
      "test RMSE : 60.51807329910951\n",
      "test R2 : 0.4421532995939431\n",
      "--------------------\n",
      "---- 24 ----\n",
      "estimator : 90, lr : 0.5, sub_sampling : 0.5\n",
      "train RMSE : 11.362464241355617\n",
      "train R2 : 0.9769692086061839\n",
      "test RMSE : 77.40788633249413\n",
      "test R2 : 0.08732721504320495\n",
      "--------------------\n",
      "---- 25 ----\n",
      "estimator : 90, lr : 0.5, sub_sampling : 0.75\n",
      "train RMSE : 6.559165261382336\n",
      "train R2 : 0.9923253081084937\n",
      "test RMSE : 68.55541271294422\n",
      "test R2 : 0.2841398584688335\n",
      "--------------------\n",
      "---- 26 ----\n",
      "estimator : 90, lr : 0.5, sub_sampling : 1\n",
      "train RMSE : 5.887241037694468\n",
      "train R2 : 0.9938171681260705\n",
      "test RMSE : 63.560065969451834\n",
      "test R2 : 0.3846625305944077\n",
      "--------------------\n",
      "---- 27 ----\n",
      "estimator : 120, lr : 0.05, sub_sampling : 0.5\n",
      "train RMSE : 33.521277905112754\n",
      "train R2 : 0.7995505191632146\n",
      "test RMSE : 57.64145377432698\n",
      "test R2 : 0.493925407834955\n",
      "--------------------\n",
      "---- 28 ----\n",
      "estimator : 120, lr : 0.05, sub_sampling : 0.75\n",
      "train RMSE : 32.8709667950305\n",
      "train R2 : 0.8072524981358615\n",
      "test RMSE : 58.824766032706684\n",
      "test R2 : 0.4729338811320921\n",
      "--------------------\n",
      "---- 29 ----\n",
      "estimator : 120, lr : 0.05, sub_sampling : 1\n",
      "train RMSE : 33.88293759251245\n",
      "train R2 : 0.7952019041220556\n",
      "test RMSE : 59.69688234074558\n",
      "test R2 : 0.45718981979360096\n",
      "--------------------\n",
      "---- 30 ----\n",
      "estimator : 120, lr : 0.1, sub_sampling : 0.5\n",
      "train RMSE : 25.091994258665945\n",
      "train R2 : 0.8876859309493952\n",
      "test RMSE : 60.259927595512785\n",
      "test R2 : 0.44690224766677233\n",
      "--------------------\n",
      "---- 31 ----\n",
      "estimator : 120, lr : 0.1, sub_sampling : 0.75\n",
      "train RMSE : 23.609724764749057\n",
      "train R2 : 0.9005635408248256\n",
      "test RMSE : 60.853761286269226\n",
      "test R2 : 0.4359474906772879\n",
      "--------------------\n",
      "---- 32 ----\n",
      "estimator : 120, lr : 0.1, sub_sampling : 1\n",
      "train RMSE : 24.701846252811613\n",
      "train R2 : 0.8911514542093426\n",
      "test RMSE : 61.38148708916672\n",
      "test R2 : 0.42612210806792394\n",
      "--------------------\n",
      "---- 33 ----\n",
      "estimator : 120, lr : 0.5, sub_sampling : 0.5\n",
      "train RMSE : 7.804388758235234\n",
      "train R2 : 0.9891347032528226\n",
      "test RMSE : 77.80368168321802\n",
      "test R2 : 0.07797015411633346\n",
      "--------------------\n",
      "---- 34 ----\n",
      "estimator : 120, lr : 0.5, sub_sampling : 0.75\n",
      "train RMSE : 3.654183187662751\n",
      "train R2 : 0.9976179853235343\n",
      "test RMSE : 68.80653083814416\n",
      "test R2 : 0.2788858693382109\n",
      "--------------------\n",
      "---- 35 ----\n",
      "estimator : 120, lr : 0.5, sub_sampling : 1\n",
      "train RMSE : 3.3420306879144537\n",
      "train R2 : 0.9980075626719463\n",
      "test RMSE : 63.55378619623925\n",
      "test R2 : 0.38478411602093243\n",
      "--------------------\n"
     ]
    }
   ],
   "source": [
    "cnt = 0\n",
    "for est in estimators:\n",
    "    for lr in learning:\n",
    "        for sub in sub_sampling:\n",
    "            print(f'---- {cnt} ----')\n",
    "            cnt += 1\n",
    "            print(f'estimator : {est}, lr : {lr}, sub_sampling : {sub}')\n",
    "            model = GradientBoostingRegressor(\n",
    "                n_estimators=est,\n",
    "                learning_rate=lr,\n",
    "                subsample=sub,\n",
    "                random_state=119\n",
    "            )\n",
    "            model.fit(X.iloc[train_idx], y.iloc[train_idx])\n",
    "\n",
    "            # Train Acc\n",
    "            y_pred_train = model.predict(X.iloc[train_idx])\n",
    "            rmse_train = mean_squared_error(y.iloc[train_idx], y_pred_train, squared=False)\n",
    "            print(f'train RMSE : {rmse_train}')\n",
    "            print(f'train R2 : {r2_score(y.iloc[train_idx], y_pred_train)}')\n",
    "\n",
    "            # Test Acc\n",
    "            y_pred_test = model.predict(X.iloc[valid_idx])\n",
    "            rmse_test = mean_squared_error(y.iloc[valid_idx], y_pred_test, squared=False)\n",
    "            print(f'test RMSE : {rmse_test}')\n",
    "            print(f'test R2 : {r2_score(y.iloc[valid_idx], y_pred_test)}')\n",
    "            print('-'*20)\n",
    "            save_est.append(est)\n",
    "            save_lr.append(lr)\n",
    "            save_sub.append(sub)\n",
    "            r2_score_.append(r2_score(y.iloc[valid_idx], y_pred_test))"
   ],
   "metadata": {
    "collapsed": false,
    "pycharm": {
     "name": "#%%\n"
    }
   }
  },
  {
   "cell_type": "code",
   "execution_count": 52,
   "outputs": [
    {
     "name": "stdout",
     "output_type": "stream",
     "text": [
      "best idx : 18, r2-score : 0.5040693975453703\n",
      "best est : 90, lr:0.05, sub sampling: 0.5\n"
     ]
    }
   ],
   "source": [
    "print(f'best idx : {np.argmax(r2_score_)}, r2-score : {r2_score_[np.argmax(r2_score_)]}')\n",
    "print(f'best est : {save_est[np.argmax(r2_score_)]}, lr:{save_lr[np.argmax(r2_score_)]}, sub sampling: {save_sub[np.argmax(r2_score_)]}')"
   ],
   "metadata": {
    "collapsed": false,
    "pycharm": {
     "name": "#%%\n"
    }
   }
  },
  {
   "cell_type": "code",
   "execution_count": null,
   "outputs": [],
   "source": [],
   "metadata": {
    "collapsed": false,
    "pycharm": {
     "name": "#%%\n"
    }
   }
  }
 ],
 "metadata": {
  "kernelspec": {
   "display_name": "Python 3",
   "language": "python",
   "name": "python3"
  },
  "language_info": {
   "codemirror_mode": {
    "name": "ipython",
    "version": 2
   },
   "file_extension": ".py",
   "mimetype": "text/x-python",
   "name": "python",
   "nbconvert_exporter": "python",
   "pygments_lexer": "ipython2",
   "version": "2.7.6"
  }
 },
 "nbformat": 4,
 "nbformat_minor": 0
}