{
 "cells": [
  {
   "cell_type": "markdown",
   "metadata": {
    "collapsed": true,
    "pycharm": {
     "name": "#%% md\n"
    }
   },
   "source": [
    "# 16 XGBoost"
   ]
  },
  {
   "cell_type": "code",
   "execution_count": 21,
   "outputs": [],
   "source": [
    "import gc\n",
    "import re\n",
    "\n",
    "import numpy as np\n",
    "import matplotlib.pyplot as plt\n",
    "import pandas as pd\n",
    "import seaborn as sns\n",
    "\n",
    "from sklearn.model_selection import train_test_split\n",
    "from sklearn.metrics import confusion_matrix, f1_score, mean_squared_error, r2_score\n",
    "from xgboost import XGBClassifier, XGBRegressor\n",
    "from collections import Counter"
   ],
   "metadata": {
    "collapsed": false,
    "pycharm": {
     "name": "#%%\n"
    }
   }
  },
  {
   "cell_type": "code",
   "execution_count": 22,
   "outputs": [],
   "source": [
    "data_url = r'https://raw.githubusercontent.com/GonieAhn/Data-Science-online-course-from-gonie/main/Data%20Store/example_data.csv'"
   ],
   "metadata": {
    "collapsed": false,
    "pycharm": {
     "name": "#%%\n"
    }
   }
  },
  {
   "cell_type": "code",
   "execution_count": 23,
   "outputs": [
    {
     "name": "stdout",
     "output_type": "stream",
     "text": [
      "<class 'pandas.core.frame.DataFrame'>\n",
      "RangeIndex: 532 entries, 0 to 531\n",
      "Data columns (total 23 columns):\n",
      " #   Column   Non-Null Count  Dtype  \n",
      "---  ------   --------------  -----  \n",
      " 0   censor   532 non-null    int64  \n",
      " 1   event    532 non-null    int64  \n",
      " 2   age      532 non-null    int64  \n",
      " 3   wtkg     532 non-null    float64\n",
      " 4   hemo     532 non-null    int64  \n",
      " 5   homo     532 non-null    int64  \n",
      " 6   drugs    532 non-null    int64  \n",
      " 7   karnof   532 non-null    int64  \n",
      " 8   oprior   532 non-null    int64  \n",
      " 9   z30      532 non-null    int64  \n",
      " 10  zprior   532 non-null    int64  \n",
      " 11  preanti  532 non-null    int64  \n",
      " 12  race     532 non-null    int64  \n",
      " 13  gender   532 non-null    int64  \n",
      " 14  str2     532 non-null    int64  \n",
      " 15  strat    532 non-null    int64  \n",
      " 16  symptom  532 non-null    int64  \n",
      " 17  cd40     532 non-null    int64  \n",
      " 18  cd420    532 non-null    int64  \n",
      " 19  cd496    532 non-null    int64  \n",
      " 20  r        532 non-null    int64  \n",
      " 21  cd80     532 non-null    int64  \n",
      " 22  cd820    532 non-null    int64  \n",
      "dtypes: float64(1), int64(22)\n",
      "memory usage: 95.7 KB\n"
     ]
    }
   ],
   "source": [
    "data_df = pd.read_csv(data_url)\n",
    "data_df.info()"
   ],
   "metadata": {
    "collapsed": false,
    "pycharm": {
     "name": "#%%\n"
    }
   }
  },
  {
   "cell_type": "code",
   "execution_count": 24,
   "outputs": [],
   "source": [
    "# Feature Name Cleaning\n",
    "regex = re.compile(r\"\\[|\\]|<\", re.IGNORECASE)\n",
    "data_df.columns = [regex.sub(\"_\", col) if any(x in str(col) for x in set(('[', ']', '<'))) else col for col in data_df.columns.values]"
   ],
   "metadata": {
    "collapsed": false,
    "pycharm": {
     "name": "#%%\n"
    }
   }
  },
  {
   "cell_type": "code",
   "execution_count": 25,
   "outputs": [
    {
     "name": "stdout",
     "output_type": "stream",
     "text": [
      ">>>> Data Shape : (532, 22)\n"
     ]
    }
   ],
   "source": [
    "# Data Quality Checking\n",
    "col = []\n",
    "missing = []\n",
    "level = []\n",
    "for name in data_df.columns:\n",
    "\n",
    "    # Missing\n",
    "    missper = data_df[name].isnull().sum() / data_df.shape[0]\n",
    "    missing.append(round(missper, 4))\n",
    "\n",
    "    # Leveling\n",
    "    lel = data_df[name].dropna()\n",
    "    level.append(len(list(set(lel))))\n",
    "\n",
    "    # Columns\n",
    "    col.append(name)\n",
    "\n",
    "summary = pd.concat([pd.DataFrame(col, columns=['name']),\n",
    "                     pd.DataFrame(missing, columns=['Missing Percentage']),\n",
    "                     pd.DataFrame(level, columns=['Level'])], axis=1)\n",
    "\n",
    "drop_col = summary['name'][(summary['Level'] <= 1) | (summary['Missing Percentage'] >= 0.8)]\n",
    "data_df.drop(columns=drop_col, inplace=True)\n",
    "print(\">>>> Data Shape : {}\".format(data_df.shape))"
   ],
   "metadata": {
    "collapsed": false,
    "pycharm": {
     "name": "#%%\n"
    }
   }
  },
  {
   "cell_type": "code",
   "execution_count": 26,
   "outputs": [
    {
     "data": {
      "text/plain": "       name  Missing Percentage  Level\n0    censor                 0.0      2\n1     event                 0.0    358\n2       age                 0.0     52\n3      wtkg                 0.0    312\n4      hemo                 0.0      2\n5      homo                 0.0      2\n6     drugs                 0.0      2\n7    karnof                 0.0      4\n8    oprior                 0.0      2\n9       z30                 0.0      2\n10   zprior                 0.0      1\n11  preanti                 0.0    273\n12     race                 0.0      2\n13   gender                 0.0      2\n14     str2                 0.0      2\n15    strat                 0.0      3\n16  symptom                 0.0      2\n17     cd40                 0.0    278\n18    cd420                 0.0    314\n19    cd496                 0.0    231\n20        r                 0.0      2\n21     cd80                 0.0    416\n22    cd820                 0.0    423",
      "text/html": "<div>\n<style scoped>\n    .dataframe tbody tr th:only-of-type {\n        vertical-align: middle;\n    }\n\n    .dataframe tbody tr th {\n        vertical-align: top;\n    }\n\n    .dataframe thead th {\n        text-align: right;\n    }\n</style>\n<table border=\"1\" class=\"dataframe\">\n  <thead>\n    <tr style=\"text-align: right;\">\n      <th></th>\n      <th>name</th>\n      <th>Missing Percentage</th>\n      <th>Level</th>\n    </tr>\n  </thead>\n  <tbody>\n    <tr>\n      <th>0</th>\n      <td>censor</td>\n      <td>0.0</td>\n      <td>2</td>\n    </tr>\n    <tr>\n      <th>1</th>\n      <td>event</td>\n      <td>0.0</td>\n      <td>358</td>\n    </tr>\n    <tr>\n      <th>2</th>\n      <td>age</td>\n      <td>0.0</td>\n      <td>52</td>\n    </tr>\n    <tr>\n      <th>3</th>\n      <td>wtkg</td>\n      <td>0.0</td>\n      <td>312</td>\n    </tr>\n    <tr>\n      <th>4</th>\n      <td>hemo</td>\n      <td>0.0</td>\n      <td>2</td>\n    </tr>\n    <tr>\n      <th>5</th>\n      <td>homo</td>\n      <td>0.0</td>\n      <td>2</td>\n    </tr>\n    <tr>\n      <th>6</th>\n      <td>drugs</td>\n      <td>0.0</td>\n      <td>2</td>\n    </tr>\n    <tr>\n      <th>7</th>\n      <td>karnof</td>\n      <td>0.0</td>\n      <td>4</td>\n    </tr>\n    <tr>\n      <th>8</th>\n      <td>oprior</td>\n      <td>0.0</td>\n      <td>2</td>\n    </tr>\n    <tr>\n      <th>9</th>\n      <td>z30</td>\n      <td>0.0</td>\n      <td>2</td>\n    </tr>\n    <tr>\n      <th>10</th>\n      <td>zprior</td>\n      <td>0.0</td>\n      <td>1</td>\n    </tr>\n    <tr>\n      <th>11</th>\n      <td>preanti</td>\n      <td>0.0</td>\n      <td>273</td>\n    </tr>\n    <tr>\n      <th>12</th>\n      <td>race</td>\n      <td>0.0</td>\n      <td>2</td>\n    </tr>\n    <tr>\n      <th>13</th>\n      <td>gender</td>\n      <td>0.0</td>\n      <td>2</td>\n    </tr>\n    <tr>\n      <th>14</th>\n      <td>str2</td>\n      <td>0.0</td>\n      <td>2</td>\n    </tr>\n    <tr>\n      <th>15</th>\n      <td>strat</td>\n      <td>0.0</td>\n      <td>3</td>\n    </tr>\n    <tr>\n      <th>16</th>\n      <td>symptom</td>\n      <td>0.0</td>\n      <td>2</td>\n    </tr>\n    <tr>\n      <th>17</th>\n      <td>cd40</td>\n      <td>0.0</td>\n      <td>278</td>\n    </tr>\n    <tr>\n      <th>18</th>\n      <td>cd420</td>\n      <td>0.0</td>\n      <td>314</td>\n    </tr>\n    <tr>\n      <th>19</th>\n      <td>cd496</td>\n      <td>0.0</td>\n      <td>231</td>\n    </tr>\n    <tr>\n      <th>20</th>\n      <td>r</td>\n      <td>0.0</td>\n      <td>2</td>\n    </tr>\n    <tr>\n      <th>21</th>\n      <td>cd80</td>\n      <td>0.0</td>\n      <td>416</td>\n    </tr>\n    <tr>\n      <th>22</th>\n      <td>cd820</td>\n      <td>0.0</td>\n      <td>423</td>\n    </tr>\n  </tbody>\n</table>\n</div>"
     },
     "execution_count": 26,
     "metadata": {},
     "output_type": "execute_result"
    }
   ],
   "source": [
    "summary"
   ],
   "metadata": {
    "collapsed": false,
    "pycharm": {
     "name": "#%%\n"
    }
   }
  },
  {
   "cell_type": "code",
   "execution_count": 27,
   "outputs": [],
   "source": [
    "# X's & Y Split\n",
    "y = data_df['censor']\n",
    "X = data_df.drop(columns=['censor'])"
   ],
   "metadata": {
    "collapsed": false,
    "pycharm": {
     "name": "#%%\n"
    }
   }
  },
  {
   "cell_type": "code",
   "execution_count": 28,
   "outputs": [
    {
     "name": "stdout",
     "output_type": "stream",
     "text": [
      ">>>> # of Train data : 372\n",
      ">>>> # of valid data : 160\n",
      ">>>> # of Train data Y : Counter({0: 250, 1: 122})\n",
      ">>>> # of valid data Y : Counter({0: 101, 1: 59})\n"
     ]
    }
   ],
   "source": [
    "idx = list(range(X.shape[0]))\n",
    "train_idx, valid_idx = train_test_split(idx, test_size=0.3, random_state=2023)\n",
    "print(\">>>> # of Train data : {}\".format(len(train_idx)))\n",
    "print(\">>>> # of valid data : {}\".format(len(valid_idx)))\n",
    "print(\">>>> # of Train data Y : {}\".format(Counter(y.iloc[train_idx])))\n",
    "print(\">>>> # of valid data Y : {}\".format(Counter(y.iloc[valid_idx])))"
   ],
   "metadata": {
    "collapsed": false,
    "pycharm": {
     "name": "#%%\n"
    }
   }
  },
  {
   "cell_type": "markdown",
   "source": [
    "[XGBoost Parameters]\n",
    "  - Package : https://xgboost.readthedocs.io/en/stable/\n",
    "  - booster : Iteration 마다의 Model Run Type을 고를수 있음 (2가지)\n",
    "    - gbtree : tree-based models\n",
    "    - gblinear : linear models\n",
    "  - silent : 학습하면서 running message를 프린트해줌 (Parameter 실험 시 안좋음)\n",
    "    - 0은 프린트 안해주고, 1은 프린트해줌\n",
    "  - nthread : 병렬처리 할때 core를 몇개 잡을 것인지\n",
    "    - default로 잡을 수 있는 모든 core를 잡을 수 있도록 해줌\n",
    "  - learning_rate : GBM에서 shrinking 하는 것과 같은 것\n",
    "  - reg_lambda : L2 regularization term on weights (analogous to Ridge regression)\n",
    "  - reg_alpha : L1 regularization term on weight (analogous to Lasso regression)\n",
    "  - objective [default=reg:linear]\n",
    "     - This defines the loss function to be minimized. Mostly used values are:\n",
    "         - binary:logistic –logistic regression for binary classification, returns predicted probability (not class)\n",
    "         - multi:softmax –multiclass classification using the softmax objective, returns predicted class (not probabilities)\n",
    "you also need to set an additional num_class (number of classes) parameter defining the number of unique classes\n",
    "         - multi:softprob –same as softmax, but returns predicted probability of each data point belonging to each class.\n",
    "  - eval_metric [ default according to objective ]\n",
    "    - The metric to be used for validation data.\n",
    "    - The default values are rmse for regression and error for classification.\n",
    "    - Typical values are:\n",
    "        -    rmse – root mean square error\n",
    "        -    mae – mean absolute error\n",
    "        -    logloss – negative log-likelihood\n",
    "        -    error – Binary classification error rate (0.5 threshold)\n",
    "        -    merror – Multiclass classification error rate\n",
    "        -    mlogloss – Multiclass logloss\n",
    "        -    auc: Area under the curve"
   ],
   "metadata": {
    "collapsed": false,
    "pycharm": {
     "name": "#%% md\n"
    }
   }
  },
  {
   "cell_type": "markdown",
   "source": [
    "[XGBoost]\n",
    "\n",
    "  - Hyperparameter tuning\n",
    "  - n_estimators, learning_rate, max_depth, reg_alpha\n",
    "  - XGBoost은 Hyperparam이 굉장히 많은 알고리즘 중에 하나임\n",
    "  - 위에 4가지만 잘 조정해도 좋은 결과를 얻을 수 있음"
   ],
   "metadata": {
    "collapsed": false,
    "pycharm": {
     "name": "#%% md\n"
    }
   }
  },
  {
   "cell_type": "code",
   "execution_count": 29,
   "outputs": [],
   "source": [
    "# n_estimators\n",
    "n_tree = [5, 10, 20]\n",
    "# learning_rate\n",
    "l_rate = [0.1, 0.3]\n",
    "# max_depth\n",
    "m_depth = [3, 5]\n",
    "# reg_alpha\n",
    "L1_norm = [0.1, 0.3, 0.5]"
   ],
   "metadata": {
    "collapsed": false,
    "pycharm": {
     "name": "#%%\n"
    }
   }
  },
  {
   "cell_type": "code",
   "execution_count": 30,
   "outputs": [],
   "source": [
    "# Modeling\n",
    "save_n = []\n",
    "save_l = []\n",
    "save_m = []\n",
    "save_L1 = []\n",
    "f1_score_ = []"
   ],
   "metadata": {
    "collapsed": false,
    "pycharm": {
     "name": "#%%\n"
    }
   }
  },
  {
   "cell_type": "code",
   "execution_count": 33,
   "outputs": [
    {
     "name": "stdout",
     "output_type": "stream",
     "text": [
      ">>> 0 <<<\n",
      "n_estimators : 5, learning_rate : 0.1, max_depth : 3, reg_alpha : 0.1\n",
      "Train Confusion Matrix\n",
      "[[228  22]\n",
      " [ 19 103]]\n",
      "Train Acc : 0.8897849462365591\n",
      "Train F1-Score : 0.8340080971659919\n",
      "Test Confusion Matrix\n",
      "[[88 13]\n",
      " [13 46]]\n",
      "TesT Acc : 0.8375\n",
      "Test F1-Score : 0.7796610169491526\n",
      "-----------------------------------------------------------------------\n",
      "-----------------------------------------------------------------------\n",
      ">>> 1 <<<\n",
      "n_estimators : 5, learning_rate : 0.1, max_depth : 3, reg_alpha : 0.3\n",
      "Train Confusion Matrix\n",
      "[[230  20]\n",
      " [ 19 103]]\n",
      "Train Acc : 0.8951612903225806\n",
      "Train F1-Score : 0.8408163265306122\n",
      "Test Confusion Matrix\n",
      "[[88 13]\n",
      " [12 47]]\n",
      "TesT Acc : 0.84375\n",
      "Test F1-Score : 0.7899159663865546\n",
      "-----------------------------------------------------------------------\n",
      "-----------------------------------------------------------------------\n",
      ">>> 2 <<<\n",
      "n_estimators : 5, learning_rate : 0.1, max_depth : 3, reg_alpha : 0.5\n",
      "Train Confusion Matrix\n",
      "[[230  20]\n",
      " [ 19 103]]\n",
      "Train Acc : 0.8951612903225806\n",
      "Train F1-Score : 0.8408163265306122\n",
      "Test Confusion Matrix\n",
      "[[89 12]\n",
      " [12 47]]\n",
      "TesT Acc : 0.85\n",
      "Test F1-Score : 0.7966101694915254\n",
      "-----------------------------------------------------------------------\n",
      "-----------------------------------------------------------------------\n",
      ">>> 3 <<<\n",
      "n_estimators : 5, learning_rate : 0.1, max_depth : 5, reg_alpha : 0.1\n",
      "Train Confusion Matrix\n",
      "[[240  10]\n",
      " [ 16 106]]\n",
      "Train Acc : 0.9301075268817204\n",
      "Train F1-Score : 0.8907563025210085\n",
      "Test Confusion Matrix\n",
      "[[92  9]\n",
      " [14 45]]\n",
      "TesT Acc : 0.85625\n",
      "Test F1-Score : 0.7964601769911505\n",
      "-----------------------------------------------------------------------\n",
      "-----------------------------------------------------------------------\n",
      ">>> 4 <<<\n",
      "n_estimators : 5, learning_rate : 0.1, max_depth : 5, reg_alpha : 0.3\n",
      "Train Confusion Matrix\n",
      "[[242   8]\n",
      " [ 15 107]]\n",
      "Train Acc : 0.9381720430107527\n",
      "Train F1-Score : 0.9029535864978903\n",
      "Test Confusion Matrix\n",
      "[[93  8]\n",
      " [16 43]]\n",
      "TesT Acc : 0.85\n",
      "Test F1-Score : 0.7818181818181819\n",
      "-----------------------------------------------------------------------\n",
      "-----------------------------------------------------------------------\n",
      ">>> 5 <<<\n",
      "n_estimators : 5, learning_rate : 0.1, max_depth : 5, reg_alpha : 0.5\n",
      "Train Confusion Matrix\n",
      "[[240  10]\n",
      " [ 14 108]]\n",
      "Train Acc : 0.9354838709677419\n",
      "Train F1-Score : 0.9\n",
      "Test Confusion Matrix\n",
      "[[92  9]\n",
      " [16 43]]\n",
      "TesT Acc : 0.84375\n",
      "Test F1-Score : 0.7747747747747747\n",
      "-----------------------------------------------------------------------\n",
      "-----------------------------------------------------------------------\n",
      ">>> 6 <<<\n",
      "n_estimators : 5, learning_rate : 0.3, max_depth : 3, reg_alpha : 0.1\n",
      "Train Confusion Matrix\n",
      "[[231  19]\n",
      " [ 12 110]]\n",
      "Train Acc : 0.9166666666666666\n",
      "Train F1-Score : 0.8764940239043824\n",
      "Test Confusion Matrix\n",
      "[[90 11]\n",
      " [ 8 51]]\n",
      "TesT Acc : 0.88125\n",
      "Test F1-Score : 0.8429752066115702\n",
      "-----------------------------------------------------------------------\n",
      "-----------------------------------------------------------------------\n",
      ">>> 7 <<<\n",
      "n_estimators : 5, learning_rate : 0.3, max_depth : 3, reg_alpha : 0.3\n",
      "Train Confusion Matrix\n",
      "[[233  17]\n",
      " [ 13 109]]\n",
      "Train Acc : 0.9193548387096774\n",
      "Train F1-Score : 0.8790322580645162\n",
      "Test Confusion Matrix\n",
      "[[91 10]\n",
      " [ 8 51]]\n",
      "TesT Acc : 0.8875\n",
      "Test F1-Score : 0.85\n",
      "-----------------------------------------------------------------------\n",
      "-----------------------------------------------------------------------\n",
      ">>> 8 <<<\n",
      "n_estimators : 5, learning_rate : 0.3, max_depth : 3, reg_alpha : 0.5\n",
      "Train Confusion Matrix\n",
      "[[231  19]\n",
      " [ 12 110]]\n",
      "Train Acc : 0.9166666666666666\n",
      "Train F1-Score : 0.8764940239043824\n",
      "Test Confusion Matrix\n",
      "[[90 11]\n",
      " [ 9 50]]\n",
      "TesT Acc : 0.875\n",
      "Test F1-Score : 0.8333333333333333\n",
      "-----------------------------------------------------------------------\n",
      "-----------------------------------------------------------------------\n",
      ">>> 9 <<<\n",
      "n_estimators : 5, learning_rate : 0.3, max_depth : 5, reg_alpha : 0.1\n",
      "Train Confusion Matrix\n",
      "[[245   5]\n",
      " [ 11 111]]\n",
      "Train Acc : 0.956989247311828\n",
      "Train F1-Score : 0.9327731092436975\n",
      "Test Confusion Matrix\n",
      "[[93  8]\n",
      " [13 46]]\n",
      "TesT Acc : 0.86875\n",
      "Test F1-Score : 0.8141592920353983\n",
      "-----------------------------------------------------------------------\n",
      "-----------------------------------------------------------------------\n",
      ">>> 10 <<<\n",
      "n_estimators : 5, learning_rate : 0.3, max_depth : 5, reg_alpha : 0.3\n",
      "Train Confusion Matrix\n",
      "[[243   7]\n",
      " [ 11 111]]\n",
      "Train Acc : 0.9516129032258065\n",
      "Train F1-Score : 0.925\n",
      "Test Confusion Matrix\n",
      "[[91 10]\n",
      " [14 45]]\n",
      "TesT Acc : 0.85\n",
      "Test F1-Score : 0.7894736842105264\n",
      "-----------------------------------------------------------------------\n",
      "-----------------------------------------------------------------------\n",
      ">>> 11 <<<\n",
      "n_estimators : 5, learning_rate : 0.3, max_depth : 5, reg_alpha : 0.5\n",
      "Train Confusion Matrix\n",
      "[[243   7]\n",
      " [ 11 111]]\n",
      "Train Acc : 0.9516129032258065\n",
      "Train F1-Score : 0.925\n",
      "Test Confusion Matrix\n",
      "[[93  8]\n",
      " [13 46]]\n",
      "TesT Acc : 0.86875\n",
      "Test F1-Score : 0.8141592920353983\n",
      "-----------------------------------------------------------------------\n",
      "-----------------------------------------------------------------------\n",
      ">>> 12 <<<\n",
      "n_estimators : 10, learning_rate : 0.1, max_depth : 3, reg_alpha : 0.1\n",
      "Train Confusion Matrix\n",
      "[[234  16]\n",
      " [ 23  99]]\n",
      "Train Acc : 0.8951612903225806\n",
      "Train F1-Score : 0.8354430379746836\n",
      "Test Confusion Matrix\n",
      "[[93  8]\n",
      " [15 44]]\n",
      "TesT Acc : 0.85625\n",
      "Test F1-Score : 0.7927927927927929\n",
      "-----------------------------------------------------------------------\n",
      "-----------------------------------------------------------------------\n",
      ">>> 13 <<<\n",
      "n_estimators : 10, learning_rate : 0.1, max_depth : 3, reg_alpha : 0.3\n",
      "Train Confusion Matrix\n",
      "[[234  16]\n",
      " [ 23  99]]\n",
      "Train Acc : 0.8951612903225806\n",
      "Train F1-Score : 0.8354430379746836\n",
      "Test Confusion Matrix\n",
      "[[93  8]\n",
      " [15 44]]\n",
      "TesT Acc : 0.85625\n",
      "Test F1-Score : 0.7927927927927929\n",
      "-----------------------------------------------------------------------\n",
      "-----------------------------------------------------------------------\n",
      ">>> 14 <<<\n",
      "n_estimators : 10, learning_rate : 0.1, max_depth : 3, reg_alpha : 0.5\n",
      "Train Confusion Matrix\n",
      "[[237  13]\n",
      " [ 21 101]]\n",
      "Train Acc : 0.9086021505376344\n",
      "Train F1-Score : 0.8559322033898306\n",
      "Test Confusion Matrix\n",
      "[[91 10]\n",
      " [15 44]]\n",
      "TesT Acc : 0.84375\n",
      "Test F1-Score : 0.7787610619469028\n",
      "-----------------------------------------------------------------------\n",
      "-----------------------------------------------------------------------\n",
      ">>> 15 <<<\n",
      "n_estimators : 10, learning_rate : 0.1, max_depth : 5, reg_alpha : 0.1\n",
      "Train Confusion Matrix\n",
      "[[244   6]\n",
      " [ 13 109]]\n",
      "Train Acc : 0.9489247311827957\n",
      "Train F1-Score : 0.9198312236286921\n",
      "Test Confusion Matrix\n",
      "[[93  8]\n",
      " [14 45]]\n",
      "TesT Acc : 0.8625\n",
      "Test F1-Score : 0.8035714285714285\n",
      "-----------------------------------------------------------------------\n",
      "-----------------------------------------------------------------------\n",
      ">>> 16 <<<\n",
      "n_estimators : 10, learning_rate : 0.1, max_depth : 5, reg_alpha : 0.3\n",
      "Train Confusion Matrix\n",
      "[[241   9]\n",
      " [ 13 109]]\n",
      "Train Acc : 0.9408602150537635\n",
      "Train F1-Score : 0.9083333333333333\n",
      "Test Confusion Matrix\n",
      "[[93  8]\n",
      " [15 44]]\n",
      "TesT Acc : 0.85625\n",
      "Test F1-Score : 0.7927927927927929\n",
      "-----------------------------------------------------------------------\n",
      "-----------------------------------------------------------------------\n",
      ">>> 17 <<<\n",
      "n_estimators : 10, learning_rate : 0.1, max_depth : 5, reg_alpha : 0.5\n",
      "Train Confusion Matrix\n",
      "[[241   9]\n",
      " [ 11 111]]\n",
      "Train Acc : 0.946236559139785\n",
      "Train F1-Score : 0.9173553719008265\n",
      "Test Confusion Matrix\n",
      "[[93  8]\n",
      " [13 46]]\n",
      "TesT Acc : 0.86875\n",
      "Test F1-Score : 0.8141592920353983\n",
      "-----------------------------------------------------------------------\n",
      "-----------------------------------------------------------------------\n",
      ">>> 18 <<<\n",
      "n_estimators : 10, learning_rate : 0.3, max_depth : 3, reg_alpha : 0.1\n",
      "Train Confusion Matrix\n",
      "[[236  14]\n",
      " [  9 113]]\n",
      "Train Acc : 0.9381720430107527\n",
      "Train F1-Score : 0.9076305220883534\n",
      "Test Confusion Matrix\n",
      "[[90 11]\n",
      " [ 8 51]]\n",
      "TesT Acc : 0.88125\n",
      "Test F1-Score : 0.8429752066115702\n",
      "-----------------------------------------------------------------------\n",
      "-----------------------------------------------------------------------\n",
      ">>> 19 <<<\n",
      "n_estimators : 10, learning_rate : 0.3, max_depth : 3, reg_alpha : 0.3\n",
      "Train Confusion Matrix\n",
      "[[239  11]\n",
      " [ 10 112]]\n",
      "Train Acc : 0.9435483870967742\n",
      "Train F1-Score : 0.9142857142857143\n",
      "Test Confusion Matrix\n",
      "[[89 12]\n",
      " [10 49]]\n",
      "TesT Acc : 0.8625\n",
      "Test F1-Score : 0.8166666666666667\n",
      "-----------------------------------------------------------------------\n",
      "-----------------------------------------------------------------------\n",
      ">>> 20 <<<\n",
      "n_estimators : 10, learning_rate : 0.3, max_depth : 3, reg_alpha : 0.5\n",
      "Train Confusion Matrix\n",
      "[[240  10]\n",
      " [ 10 112]]\n",
      "Train Acc : 0.946236559139785\n",
      "Train F1-Score : 0.9180327868852459\n",
      "Test Confusion Matrix\n",
      "[[90 11]\n",
      " [12 47]]\n",
      "TesT Acc : 0.85625\n",
      "Test F1-Score : 0.8034188034188032\n",
      "-----------------------------------------------------------------------\n",
      "-----------------------------------------------------------------------\n",
      ">>> 21 <<<\n",
      "n_estimators : 10, learning_rate : 0.3, max_depth : 5, reg_alpha : 0.1\n",
      "Train Confusion Matrix\n",
      "[[248   2]\n",
      " [  7 115]]\n",
      "Train Acc : 0.9758064516129032\n",
      "Train F1-Score : 0.9623430962343097\n",
      "Test Confusion Matrix\n",
      "[[90 11]\n",
      " [14 45]]\n",
      "TesT Acc : 0.84375\n",
      "Test F1-Score : 0.782608695652174\n",
      "-----------------------------------------------------------------------\n",
      "-----------------------------------------------------------------------\n",
      ">>> 22 <<<\n",
      "n_estimators : 10, learning_rate : 0.3, max_depth : 5, reg_alpha : 0.3\n",
      "Train Confusion Matrix\n",
      "[[244   6]\n",
      " [  6 116]]\n",
      "Train Acc : 0.967741935483871\n",
      "Train F1-Score : 0.9508196721311475\n",
      "Test Confusion Matrix\n",
      "[[89 12]\n",
      " [13 46]]\n",
      "TesT Acc : 0.84375\n",
      "Test F1-Score : 0.7863247863247863\n",
      "-----------------------------------------------------------------------\n",
      "-----------------------------------------------------------------------\n",
      ">>> 23 <<<\n",
      "n_estimators : 10, learning_rate : 0.3, max_depth : 5, reg_alpha : 0.5\n",
      "Train Confusion Matrix\n",
      "[[247   3]\n",
      " [  8 114]]\n",
      "Train Acc : 0.9704301075268817\n",
      "Train F1-Score : 0.9539748953974896\n",
      "Test Confusion Matrix\n",
      "[[90 11]\n",
      " [13 46]]\n",
      "TesT Acc : 0.85\n",
      "Test F1-Score : 0.7931034482758621\n",
      "-----------------------------------------------------------------------\n",
      "-----------------------------------------------------------------------\n",
      ">>> 24 <<<\n",
      "n_estimators : 20, learning_rate : 0.1, max_depth : 3, reg_alpha : 0.1\n",
      "Train Confusion Matrix\n",
      "[[239  11]\n",
      " [ 11 111]]\n",
      "Train Acc : 0.9408602150537635\n",
      "Train F1-Score : 0.9098360655737705\n",
      "Test Confusion Matrix\n",
      "[[89 12]\n",
      " [10 49]]\n",
      "TesT Acc : 0.8625\n",
      "Test F1-Score : 0.8166666666666667\n",
      "-----------------------------------------------------------------------\n",
      "-----------------------------------------------------------------------\n",
      ">>> 25 <<<\n",
      "n_estimators : 20, learning_rate : 0.1, max_depth : 3, reg_alpha : 0.3\n",
      "Train Confusion Matrix\n",
      "[[237  13]\n",
      " [ 12 110]]\n",
      "Train Acc : 0.9327956989247311\n",
      "Train F1-Score : 0.8979591836734693\n",
      "Test Confusion Matrix\n",
      "[[88 13]\n",
      " [11 48]]\n",
      "TesT Acc : 0.85\n",
      "Test F1-Score : 0.8\n",
      "-----------------------------------------------------------------------\n",
      "-----------------------------------------------------------------------\n",
      ">>> 26 <<<\n",
      "n_estimators : 20, learning_rate : 0.1, max_depth : 3, reg_alpha : 0.5\n",
      "Train Confusion Matrix\n",
      "[[240  10]\n",
      " [ 12 110]]\n",
      "Train Acc : 0.9408602150537635\n",
      "Train F1-Score : 0.9090909090909091\n",
      "Test Confusion Matrix\n",
      "[[90 11]\n",
      " [10 49]]\n",
      "TesT Acc : 0.86875\n",
      "Test F1-Score : 0.8235294117647058\n",
      "-----------------------------------------------------------------------\n",
      "-----------------------------------------------------------------------\n",
      ">>> 27 <<<\n",
      "n_estimators : 20, learning_rate : 0.1, max_depth : 5, reg_alpha : 0.1\n",
      "Train Confusion Matrix\n",
      "[[245   5]\n",
      " [  9 113]]\n",
      "Train Acc : 0.9623655913978495\n",
      "Train F1-Score : 0.9416666666666667\n",
      "Test Confusion Matrix\n",
      "[[90 11]\n",
      " [14 45]]\n",
      "TesT Acc : 0.84375\n",
      "Test F1-Score : 0.782608695652174\n",
      "-----------------------------------------------------------------------\n",
      "-----------------------------------------------------------------------\n",
      ">>> 28 <<<\n",
      "n_estimators : 20, learning_rate : 0.1, max_depth : 5, reg_alpha : 0.3\n",
      "Train Confusion Matrix\n",
      "[[245   5]\n",
      " [  9 113]]\n",
      "Train Acc : 0.9623655913978495\n",
      "Train F1-Score : 0.9416666666666667\n",
      "Test Confusion Matrix\n",
      "[[94  7]\n",
      " [14 45]]\n",
      "TesT Acc : 0.86875\n",
      "Test F1-Score : 0.8108108108108109\n",
      "-----------------------------------------------------------------------\n",
      "-----------------------------------------------------------------------\n",
      ">>> 29 <<<\n",
      "n_estimators : 20, learning_rate : 0.1, max_depth : 5, reg_alpha : 0.5\n",
      "Train Confusion Matrix\n",
      "[[245   5]\n",
      " [  9 113]]\n",
      "Train Acc : 0.9623655913978495\n",
      "Train F1-Score : 0.9416666666666667\n",
      "Test Confusion Matrix\n",
      "[[92  9]\n",
      " [13 46]]\n",
      "TesT Acc : 0.8625\n",
      "Test F1-Score : 0.8070175438596492\n",
      "-----------------------------------------------------------------------\n",
      "-----------------------------------------------------------------------\n",
      ">>> 30 <<<\n",
      "n_estimators : 20, learning_rate : 0.3, max_depth : 3, reg_alpha : 0.1\n",
      "Train Confusion Matrix\n",
      "[[245   5]\n",
      " [  3 119]]\n",
      "Train Acc : 0.978494623655914\n",
      "Train F1-Score : 0.9674796747967479\n",
      "Test Confusion Matrix\n",
      "[[90 11]\n",
      " [11 48]]\n",
      "TesT Acc : 0.8625\n",
      "Test F1-Score : 0.8135593220338985\n",
      "-----------------------------------------------------------------------\n",
      "-----------------------------------------------------------------------\n",
      ">>> 31 <<<\n",
      "n_estimators : 20, learning_rate : 0.3, max_depth : 3, reg_alpha : 0.3\n",
      "Train Confusion Matrix\n",
      "[[243   7]\n",
      " [  6 116]]\n",
      "Train Acc : 0.9650537634408602\n",
      "Train F1-Score : 0.946938775510204\n",
      "Test Confusion Matrix\n",
      "[[90 11]\n",
      " [12 47]]\n",
      "TesT Acc : 0.85625\n",
      "Test F1-Score : 0.8034188034188032\n",
      "-----------------------------------------------------------------------\n",
      "-----------------------------------------------------------------------\n",
      ">>> 32 <<<\n",
      "n_estimators : 20, learning_rate : 0.3, max_depth : 3, reg_alpha : 0.5\n",
      "Train Confusion Matrix\n",
      "[[243   7]\n",
      " [  7 115]]\n",
      "Train Acc : 0.9623655913978495\n",
      "Train F1-Score : 0.9426229508196722\n",
      "Test Confusion Matrix\n",
      "[[90 11]\n",
      " [14 45]]\n",
      "TesT Acc : 0.84375\n",
      "Test F1-Score : 0.782608695652174\n",
      "-----------------------------------------------------------------------\n",
      "-----------------------------------------------------------------------\n",
      ">>> 33 <<<\n",
      "n_estimators : 20, learning_rate : 0.3, max_depth : 5, reg_alpha : 0.1\n",
      "Train Confusion Matrix\n",
      "[[250   0]\n",
      " [  1 121]]\n",
      "Train Acc : 0.9973118279569892\n",
      "Train F1-Score : 0.9958847736625513\n",
      "Test Confusion Matrix\n",
      "[[89 12]\n",
      " [13 46]]\n",
      "TesT Acc : 0.84375\n",
      "Test F1-Score : 0.7863247863247863\n",
      "-----------------------------------------------------------------------\n",
      "-----------------------------------------------------------------------\n",
      ">>> 34 <<<\n",
      "n_estimators : 20, learning_rate : 0.3, max_depth : 5, reg_alpha : 0.3\n",
      "Train Confusion Matrix\n",
      "[[250   0]\n",
      " [  2 120]]\n",
      "Train Acc : 0.9946236559139785\n",
      "Train F1-Score : 0.9917355371900827\n",
      "Test Confusion Matrix\n",
      "[[89 12]\n",
      " [14 45]]\n",
      "TesT Acc : 0.8375\n",
      "Test F1-Score : 0.7758620689655172\n",
      "-----------------------------------------------------------------------\n",
      "-----------------------------------------------------------------------\n",
      ">>> 35 <<<\n",
      "n_estimators : 20, learning_rate : 0.3, max_depth : 5, reg_alpha : 0.5\n",
      "Train Confusion Matrix\n",
      "[[249   1]\n",
      " [  2 120]]\n",
      "Train Acc : 0.9919354838709677\n",
      "Train F1-Score : 0.9876543209876544\n",
      "Test Confusion Matrix\n",
      "[[88 13]\n",
      " [13 46]]\n",
      "TesT Acc : 0.8375\n",
      "Test F1-Score : 0.7796610169491526\n",
      "-----------------------------------------------------------------------\n",
      "-----------------------------------------------------------------------\n"
     ]
    }
   ],
   "source": [
    "cnt = 0\n",
    "\n",
    "for n in n_tree:\n",
    "    for l in l_rate:\n",
    "        for m in m_depth:\n",
    "            for L1 in L1_norm:\n",
    "\n",
    "                print(\">>> {} <<<\".format(cnt))\n",
    "                cnt +=1\n",
    "                print(\"n_estimators : {}, learning_rate : {}, max_depth : {}, reg_alpha : {}\".format(n, l, m, L1))\n",
    "                model = XGBClassifier(n_estimators=n, learning_rate=l,\n",
    "                                      max_depth=m, reg_alpha=L1, objective='binary:logistic', random_state=119)\n",
    "                model.fit(X.iloc[train_idx], y.iloc[train_idx])\n",
    "\n",
    "\n",
    "                # Train Acc\n",
    "                y_pred_train = model.predict(X.iloc[train_idx])\n",
    "                cm_train = confusion_matrix(y.iloc[train_idx], y_pred_train)\n",
    "                print(\"Train Confusion Matrix\")\n",
    "                print(cm_train)\n",
    "                print(\"Train Acc : {}\".format((cm_train[0,0] + cm_train[1,1])/cm_train.sum()))\n",
    "                print(\"Train F1-Score : {}\".format(f1_score(y.iloc[train_idx], y_pred_train)))\n",
    "\n",
    "                # Test Acc\n",
    "                y_pred_test = model.predict(X.iloc[valid_idx])\n",
    "                cm_test = confusion_matrix(y.iloc[valid_idx], y_pred_test)\n",
    "                print(\"Test Confusion Matrix\")\n",
    "                print(cm_test)\n",
    "                print(\"TesT Acc : {}\".format((cm_test[0,0] + cm_test[1,1])/cm_test.sum()))\n",
    "                print(\"Test F1-Score : {}\".format(f1_score(y.iloc[valid_idx], y_pred_test)))\n",
    "                print(\"-----------------------------------------------------------------------\")\n",
    "                print(\"-----------------------------------------------------------------------\")\n",
    "                save_n.append(n)\n",
    "                save_l.append(l)\n",
    "                save_m.append(m)\n",
    "                save_L1.append(L1)\n",
    "                f1_score_.append(f1_score(y.iloc[valid_idx], y_pred_test))\n",
    "\n",
    "                # Model 저장\n",
    "                import joblib\n",
    "                joblib.dump(model, './model/Result_{}_{}_{}_{}_{}.pkl'.format(n, l, m, L1, round(f1_score_[-1], 4)))\n",
    "                gc.collect()"
   ],
   "metadata": {
    "collapsed": false,
    "pycharm": {
     "name": "#%%\n"
    }
   }
  },
  {
   "cell_type": "code",
   "execution_count": 38,
   "outputs": [
    {
     "data": {
      "text/plain": "XGBClassifier(base_score=None, booster=None, callbacks=None,\n              colsample_bylevel=None, colsample_bynode=None,\n              colsample_bytree=None, early_stopping_rounds=None,\n              enable_categorical=False, eval_metric=None, feature_types=None,\n              gamma=None, gpu_id=None, grow_policy=None, importance_type=None,\n              interaction_constraints=None, learning_rate=0.3, max_bin=None,\n              max_cat_threshold=None, max_cat_to_onehot=None,\n              max_delta_step=None, max_depth=3, max_leaves=None,\n              min_child_weight=None, missing=nan, monotone_constraints=None,\n              n_estimators=5, n_jobs=None, num_parallel_tree=None,\n              predictor=None, random_state=119, ...)",
      "text/html": "<style>#sk-container-id-1 {color: black;}#sk-container-id-1 pre{padding: 0;}#sk-container-id-1 div.sk-toggleable {background-color: white;}#sk-container-id-1 label.sk-toggleable__label {cursor: pointer;display: block;width: 100%;margin-bottom: 0;padding: 0.3em;box-sizing: border-box;text-align: center;}#sk-container-id-1 label.sk-toggleable__label-arrow:before {content: \"▸\";float: left;margin-right: 0.25em;color: #696969;}#sk-container-id-1 label.sk-toggleable__label-arrow:hover:before {color: black;}#sk-container-id-1 div.sk-estimator:hover label.sk-toggleable__label-arrow:before {color: black;}#sk-container-id-1 div.sk-toggleable__content {max-height: 0;max-width: 0;overflow: hidden;text-align: left;background-color: #f0f8ff;}#sk-container-id-1 div.sk-toggleable__content pre {margin: 0.2em;color: black;border-radius: 0.25em;background-color: #f0f8ff;}#sk-container-id-1 input.sk-toggleable__control:checked~div.sk-toggleable__content {max-height: 200px;max-width: 100%;overflow: auto;}#sk-container-id-1 input.sk-toggleable__control:checked~label.sk-toggleable__label-arrow:before {content: \"▾\";}#sk-container-id-1 div.sk-estimator input.sk-toggleable__control:checked~label.sk-toggleable__label {background-color: #d4ebff;}#sk-container-id-1 div.sk-label input.sk-toggleable__control:checked~label.sk-toggleable__label {background-color: #d4ebff;}#sk-container-id-1 input.sk-hidden--visually {border: 0;clip: rect(1px 1px 1px 1px);clip: rect(1px, 1px, 1px, 1px);height: 1px;margin: -1px;overflow: hidden;padding: 0;position: absolute;width: 1px;}#sk-container-id-1 div.sk-estimator {font-family: monospace;background-color: #f0f8ff;border: 1px dotted black;border-radius: 0.25em;box-sizing: border-box;margin-bottom: 0.5em;}#sk-container-id-1 div.sk-estimator:hover {background-color: #d4ebff;}#sk-container-id-1 div.sk-parallel-item::after {content: \"\";width: 100%;border-bottom: 1px solid gray;flex-grow: 1;}#sk-container-id-1 div.sk-label:hover label.sk-toggleable__label {background-color: #d4ebff;}#sk-container-id-1 div.sk-serial::before {content: \"\";position: absolute;border-left: 1px solid gray;box-sizing: border-box;top: 0;bottom: 0;left: 50%;z-index: 0;}#sk-container-id-1 div.sk-serial {display: flex;flex-direction: column;align-items: center;background-color: white;padding-right: 0.2em;padding-left: 0.2em;position: relative;}#sk-container-id-1 div.sk-item {position: relative;z-index: 1;}#sk-container-id-1 div.sk-parallel {display: flex;align-items: stretch;justify-content: center;background-color: white;position: relative;}#sk-container-id-1 div.sk-item::before, #sk-container-id-1 div.sk-parallel-item::before {content: \"\";position: absolute;border-left: 1px solid gray;box-sizing: border-box;top: 0;bottom: 0;left: 50%;z-index: -1;}#sk-container-id-1 div.sk-parallel-item {display: flex;flex-direction: column;z-index: 1;position: relative;background-color: white;}#sk-container-id-1 div.sk-parallel-item:first-child::after {align-self: flex-end;width: 50%;}#sk-container-id-1 div.sk-parallel-item:last-child::after {align-self: flex-start;width: 50%;}#sk-container-id-1 div.sk-parallel-item:only-child::after {width: 0;}#sk-container-id-1 div.sk-dashed-wrapped {border: 1px dashed gray;margin: 0 0.4em 0.5em 0.4em;box-sizing: border-box;padding-bottom: 0.4em;background-color: white;}#sk-container-id-1 div.sk-label label {font-family: monospace;font-weight: bold;display: inline-block;line-height: 1.2em;}#sk-container-id-1 div.sk-label-container {text-align: center;}#sk-container-id-1 div.sk-container {/* jupyter's `normalize.less` sets `[hidden] { display: none; }` but bootstrap.min.css set `[hidden] { display: none !important; }` so we also need the `!important` here to be able to override the default hidden behavior on the sphinx rendered scikit-learn.org. See: https://github.com/scikit-learn/scikit-learn/issues/21755 */display: inline-block !important;position: relative;}#sk-container-id-1 div.sk-text-repr-fallback {display: none;}</style><div id=\"sk-container-id-1\" class=\"sk-top-container\"><div class=\"sk-text-repr-fallback\"><pre>XGBClassifier(base_score=None, booster=None, callbacks=None,\n              colsample_bylevel=None, colsample_bynode=None,\n              colsample_bytree=None, early_stopping_rounds=None,\n              enable_categorical=False, eval_metric=None, feature_types=None,\n              gamma=None, gpu_id=None, grow_policy=None, importance_type=None,\n              interaction_constraints=None, learning_rate=0.3, max_bin=None,\n              max_cat_threshold=None, max_cat_to_onehot=None,\n              max_delta_step=None, max_depth=3, max_leaves=None,\n              min_child_weight=None, missing=nan, monotone_constraints=None,\n              n_estimators=5, n_jobs=None, num_parallel_tree=None,\n              predictor=None, random_state=119, ...)</pre><b>In a Jupyter environment, please rerun this cell to show the HTML representation or trust the notebook. <br />On GitHub, the HTML representation is unable to render, please try loading this page with nbviewer.org.</b></div><div class=\"sk-container\" hidden><div class=\"sk-item\"><div class=\"sk-estimator sk-toggleable\"><input class=\"sk-toggleable__control sk-hidden--visually\" id=\"sk-estimator-id-1\" type=\"checkbox\" checked><label for=\"sk-estimator-id-1\" class=\"sk-toggleable__label sk-toggleable__label-arrow\">XGBClassifier</label><div class=\"sk-toggleable__content\"><pre>XGBClassifier(base_score=None, booster=None, callbacks=None,\n              colsample_bylevel=None, colsample_bynode=None,\n              colsample_bytree=None, early_stopping_rounds=None,\n              enable_categorical=False, eval_metric=None, feature_types=None,\n              gamma=None, gpu_id=None, grow_policy=None, importance_type=None,\n              interaction_constraints=None, learning_rate=0.3, max_bin=None,\n              max_cat_threshold=None, max_cat_to_onehot=None,\n              max_delta_step=None, max_depth=3, max_leaves=None,\n              min_child_weight=None, missing=nan, monotone_constraints=None,\n              n_estimators=5, n_jobs=None, num_parallel_tree=None,\n              predictor=None, random_state=119, ...)</pre></div></div></div></div></div>"
     },
     "execution_count": 38,
     "metadata": {},
     "output_type": "execute_result"
    }
   ],
   "source": [
    "best_model = XGBClassifier(n_estimators=save_n[np.argmax(f1_score_)], learning_rate=save_l[np.argmax(f1_score_)],\n",
    "                           max_depth=save_m[np.argmax(f1_score_)], reg_alpha=save_L1[np.argmax(f1_score_)], objective='binary:logistic',\n",
    "                           random_state=119)\n",
    "best_model.fit(X.iloc[train_idx], y.iloc[train_idx])"
   ],
   "metadata": {
    "collapsed": false,
    "pycharm": {
     "name": "#%%\n"
    }
   }
  },
  {
   "cell_type": "code",
   "execution_count": 39,
   "outputs": [
    {
     "name": "stdout",
     "output_type": "stream",
     "text": [
      ">>> 9 <<<\n",
      "Best Test f1-score : 0.85\n",
      "Best n_estimators : 5\n",
      "Best Learning Rate : 0.3\n",
      "Best Max_depth : 3\n",
      "Best L1-norm : 0.3\n"
     ]
    }
   ],
   "source": [
    "print(f\">>> {np.argmax(f1_score_)} <<<\\nBest Test f1-score : {f1_score_[np.argmax(f1_score_)]}\\nBest n_estimators : {save_n[np.argmax(f1_score_)]}\\nBest Learning Rate : {save_l[np.argmax(f1_score_)]}\\nBest Max_depth : {save_m[np.argmax(f1_score_)]}\\nBest L1-norm : { save_L1[np.argmax(f1_score_)]}\")"
   ],
   "metadata": {
    "collapsed": false,
    "pycharm": {
     "name": "#%%\n"
    }
   }
  },
  {
   "cell_type": "code",
   "execution_count": 40,
   "outputs": [
    {
     "name": "stdout",
     "output_type": "stream",
     "text": [
      "       Score  Feature\n",
      "0   0.448921    event\n",
      "1   0.170655    cd496\n",
      "2   0.125130     race\n",
      "3   0.065897      age\n",
      "4   0.058242    cd420\n",
      "5   0.050638  preanti\n",
      "6   0.045772     cd80\n",
      "7   0.025039     wtkg\n",
      "8   0.009705   karnof\n",
      "9   0.000000      z30\n",
      "10  0.000000  symptom\n",
      "11  0.000000    strat\n",
      "12  0.000000     str2\n",
      "13  0.000000        r\n",
      "14  0.000000   oprior\n",
      "15  0.000000     homo\n",
      "16  0.000000     hemo\n",
      "17  0.000000   gender\n",
      "18  0.000000    drugs\n",
      "19  0.000000    cd820\n",
      "20  0.000000     cd40\n"
     ]
    }
   ],
   "source": [
    "feature_map = pd.DataFrame(sorted(zip(best_model.feature_importances_, X.columns), reverse=True), columns=['Score', 'Feature'])\n",
    "print(feature_map)"
   ],
   "metadata": {
    "collapsed": false,
    "pycharm": {
     "name": "#%%\n"
    }
   }
  },
  {
   "cell_type": "code",
   "execution_count": 41,
   "outputs": [
    {
     "data": {
      "text/plain": "<Figure size 2000x1000 with 1 Axes>",
      "image/png": "[encoded data removed]"
     },
     "metadata": {},
     "output_type": "display_data"
    }
   ],
   "source": [
    "# Importance Score Top 10\n",
    "feature_map_10 = feature_map.iloc[:10]\n",
    "plt.figure(figsize=(20, 10))\n",
    "sns.barplot(x=\"Score\", y=\"Feature\", data=feature_map_10.sort_values(by=\"Score\", ascending=False), errwidth=40)\n",
    "plt.title('XGBoost Importance Features')\n",
    "plt.tight_layout()\n",
    "plt.show()"
   ],
   "metadata": {
    "collapsed": false,
    "pycharm": {
     "name": "#%%\n"
    }
   }
  },
  {
   "cell_type": "code",
   "execution_count": null,
   "outputs": [],
   "source": [],
   "metadata": {
    "collapsed": false,
    "pycharm": {
     "name": "#%%\n"
    }
   }
  }
 ],
 "metadata": {
  "kernelspec": {
   "display_name": "Python 3",
   "language": "python",
   "name": "python3"
  },
  "language_info": {
   "codemirror_mode": {
    "name": "ipython",
    "version": 2
   },
   "file_extension": ".py",
   "mimetype": "text/x-python",
   "name": "python",
   "nbconvert_exporter": "python",
   "pygments_lexer": "ipython2",
   "version": "2.7.6"
  }
 },
 "nbformat": 4,
 "nbformat_minor": 0
}