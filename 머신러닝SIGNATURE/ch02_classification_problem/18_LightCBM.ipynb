{
 "cells": [
  {
   "cell_type": "markdown",
   "metadata": {
    "collapsed": true,
    "pycharm": {
     "name": "#%% md\n"
    }
   },
   "source": [
    "# 18 LightGBM\n",
    "[목적]\n",
    "  - XGBoost Model에서 Feature와 Data를 Handling 하여 처리해주는 LightGBM Model 실습 및 해석\n",
    "  - LightGBM의 경우 Missing Value를 Model 자체 내에서 처리해주기 때문에 삭제하지 않아도 됨\n",
    "  - Big Data를 빠르게 학습함\n",
    "  - 논문에서는 데이터 10,000개 이상일 때 사용하라고 했지만, 일단 돌려보자\n",
    "\n",
    "[Process]\n",
    "  1. Define X's & Y\n",
    "  2. Split Train & Valid dataset\n",
    "  3. Modeling\n",
    "  4. Model 해석"
   ]
  },
  {
   "cell_type": "code",
   "execution_count": 2,
   "outputs": [],
   "source": [
    "import os\n",
    "import gc\n",
    "import re\n",
    "import pickle\n",
    "import joblib\n",
    "import pandas as pd\n",
    "import matplotlib.pyplot as plt\n",
    "import numpy as np\n",
    "import seaborn as sns\n",
    "\n",
    "import warnings\n",
    "warnings.filterwarnings(\"ignore\")\n",
    "\n",
    "from sklearn.model_selection import train_test_split\n",
    "from sklearn.metrics import confusion_matrix, f1_score\n",
    "from lightgbm import LGBMClassifier, LGBMRegressor\n",
    "from collections import Counter"
   ],
   "metadata": {
    "collapsed": false,
    "pycharm": {
     "name": "#%%\n"
    }
   }
  },
  {
   "cell_type": "code",
   "execution_count": 3,
   "outputs": [],
   "source": [
    "# Data Loading (수술 時 사망 데이터)\n",
    "data_df=pd.read_csv(\"https://raw.githubusercontent.com/GonieAhn/Data-Science-online-course-from-gonie/main/Data%20Store/example_data.csv\")"
   ],
   "metadata": {
    "collapsed": false,
    "pycharm": {
     "name": "#%%\n"
    }
   }
  },
  {
   "cell_type": "code",
   "execution_count": 5,
   "outputs": [
    {
     "data": {
      "text/plain": "           censor        event         age        wtkg        hemo  \\\ncount  532.000000   532.000000  532.000000  532.000000  532.000000   \nmean     0.340226   801.236842   35.225564   76.061855    0.078947   \nstd      0.474231   326.887929    8.852094   13.224698    0.269910   \nmin      0.000000    33.000000   13.000000   47.401000    0.000000   \n25%      0.000000   535.750000   29.000000   67.500000    0.000000   \n50%      0.000000   933.500000   34.000000   74.600000    0.000000   \n75%      1.000000  1081.000000   40.000000   83.502000    0.000000   \nmax      1.000000  1231.000000   70.000000  149.000000    1.000000   \n\n             homo       drugs      karnof      oprior         z30  ...  \\\ncount  532.000000  532.000000  532.000000  532.000000  532.000000  ...   \nmean     0.640977    0.118421   95.432331    0.030075    0.546992  ...   \nstd      0.480165    0.323410    5.981856    0.170955    0.498255  ...   \nmin      0.000000    0.000000   70.000000    0.000000    0.000000  ...   \n25%      0.000000    0.000000   90.000000    0.000000    0.000000  ...   \n50%      1.000000    0.000000  100.000000    0.000000    1.000000  ...   \n75%      1.000000    0.000000  100.000000    0.000000    1.000000  ...   \nmax      1.000000    1.000000  100.000000    1.000000    1.000000  ...   \n\n           gender        str2       strat     symptom        cd40       cd420  \\\ncount  532.000000  532.000000  532.000000  532.000000  532.000000  532.000000   \nmean     0.812030    0.580827    1.981203    0.167293  353.204887  336.139098   \nstd      0.391056    0.493888    0.905946    0.373589  114.105253  130.961573   \nmin      0.000000    0.000000    1.000000    0.000000  103.000000   49.000000   \n25%      1.000000    0.000000    1.000000    0.000000  271.000000  243.750000   \n50%      1.000000    1.000000    2.000000    0.000000  346.000000  330.500000   \n75%      1.000000    1.000000    3.000000    0.000000  422.000000  418.000000   \nmax      1.000000    1.000000    3.000000    1.000000  771.000000  909.000000   \n\n            cd496           r         cd80        cd820  \ncount  532.000000  532.000000   532.000000   532.000000  \nmean   173.146617    0.603383   987.250000   928.214286  \nstd    191.455406    0.489656   475.223907   438.569798  \nmin     -1.000000    0.000000   221.000000   150.000000  \n25%     -1.000000    0.000000   653.250000   626.500000  \n50%    113.000000    1.000000   881.000000   818.000000  \n75%    324.000000    1.000000  1190.000000  1164.000000  \nmax    857.000000    1.000000  4255.000000  3130.000000  \n\n[8 rows x 23 columns]",
      "text/html": "<div>\n<style scoped>\n    .dataframe tbody tr th:only-of-type {\n        vertical-align: middle;\n    }\n\n    .dataframe tbody tr th {\n        vertical-align: top;\n    }\n\n    .dataframe thead th {\n        text-align: right;\n    }\n</style>\n<table border=\"1\" class=\"dataframe\">\n  <thead>\n    <tr style=\"text-align: right;\">\n      <th></th>\n      <th>censor</th>\n      <th>event</th>\n      <th>age</th>\n      <th>wtkg</th>\n      <th>hemo</th>\n      <th>homo</th>\n      <th>drugs</th>\n      <th>karnof</th>\n      <th>oprior</th>\n      <th>z30</th>\n      <th>...</th>\n      <th>gender</th>\n      <th>str2</th>\n      <th>strat</th>\n      <th>symptom</th>\n      <th>cd40</th>\n      <th>cd420</th>\n      <th>cd496</th>\n      <th>r</th>\n      <th>cd80</th>\n      <th>cd820</th>\n    </tr>\n  </thead>\n  <tbody>\n    <tr>\n      <th>count</th>\n      <td>532.000000</td>\n      <td>532.000000</td>\n      <td>532.000000</td>\n      <td>532.000000</td>\n      <td>532.000000</td>\n      <td>532.000000</td>\n      <td>532.000000</td>\n      <td>532.000000</td>\n      <td>532.000000</td>\n      <td>532.000000</td>\n      <td>...</td>\n      <td>532.000000</td>\n      <td>532.000000</td>\n      <td>532.000000</td>\n      <td>532.000000</td>\n      <td>532.000000</td>\n      <td>532.000000</td>\n      <td>532.000000</td>\n      <td>532.000000</td>\n      <td>532.000000</td>\n      <td>532.000000</td>\n    </tr>\n    <tr>\n      <th>mean</th>\n      <td>0.340226</td>\n      <td>801.236842</td>\n      <td>35.225564</td>\n      <td>76.061855</td>\n      <td>0.078947</td>\n      <td>0.640977</td>\n      <td>0.118421</td>\n      <td>95.432331</td>\n      <td>0.030075</td>\n      <td>0.546992</td>\n      <td>...</td>\n      <td>0.812030</td>\n      <td>0.580827</td>\n      <td>1.981203</td>\n      <td>0.167293</td>\n      <td>353.204887</td>\n      <td>336.139098</td>\n      <td>173.146617</td>\n      <td>0.603383</td>\n      <td>987.250000</td>\n      <td>928.214286</td>\n    </tr>\n    <tr>\n      <th>std</th>\n      <td>0.474231</td>\n      <td>326.887929</td>\n      <td>8.852094</td>\n      <td>13.224698</td>\n      <td>0.269910</td>\n      <td>0.480165</td>\n      <td>0.323410</td>\n      <td>5.981856</td>\n      <td>0.170955</td>\n      <td>0.498255</td>\n      <td>...</td>\n      <td>0.391056</td>\n      <td>0.493888</td>\n      <td>0.905946</td>\n      <td>0.373589</td>\n      <td>114.105253</td>\n      <td>130.961573</td>\n      <td>191.455406</td>\n      <td>0.489656</td>\n      <td>475.223907</td>\n      <td>438.569798</td>\n    </tr>\n    <tr>\n      <th>min</th>\n      <td>0.000000</td>\n      <td>33.000000</td>\n      <td>13.000000</td>\n      <td>47.401000</td>\n      <td>0.000000</td>\n      <td>0.000000</td>\n      <td>0.000000</td>\n      <td>70.000000</td>\n      <td>0.000000</td>\n      <td>0.000000</td>\n      <td>...</td>\n      <td>0.000000</td>\n      <td>0.000000</td>\n      <td>1.000000</td>\n      <td>0.000000</td>\n      <td>103.000000</td>\n      <td>49.000000</td>\n      <td>-1.000000</td>\n      <td>0.000000</td>\n      <td>221.000000</td>\n      <td>150.000000</td>\n    </tr>\n    <tr>\n      <th>25%</th>\n      <td>0.000000</td>\n      <td>535.750000</td>\n      <td>29.000000</td>\n      <td>67.500000</td>\n      <td>0.000000</td>\n      <td>0.000000</td>\n      <td>0.000000</td>\n      <td>90.000000</td>\n      <td>0.000000</td>\n      <td>0.000000</td>\n      <td>...</td>\n      <td>1.000000</td>\n      <td>0.000000</td>\n      <td>1.000000</td>\n      <td>0.000000</td>\n      <td>271.000000</td>\n      <td>243.750000</td>\n      <td>-1.000000</td>\n      <td>0.000000</td>\n      <td>653.250000</td>\n      <td>626.500000</td>\n    </tr>\n    <tr>\n      <th>50%</th>\n      <td>0.000000</td>\n      <td>933.500000</td>\n      <td>34.000000</td>\n      <td>74.600000</td>\n      <td>0.000000</td>\n      <td>1.000000</td>\n      <td>0.000000</td>\n      <td>100.000000</td>\n      <td>0.000000</td>\n      <td>1.000000</td>\n      <td>...</td>\n      <td>1.000000</td>\n      <td>1.000000</td>\n      <td>2.000000</td>\n      <td>0.000000</td>\n      <td>346.000000</td>\n      <td>330.500000</td>\n      <td>113.000000</td>\n      <td>1.000000</td>\n      <td>881.000000</td>\n      <td>818.000000</td>\n    </tr>\n    <tr>\n      <th>75%</th>\n      <td>1.000000</td>\n      <td>1081.000000</td>\n      <td>40.000000</td>\n      <td>83.502000</td>\n      <td>0.000000</td>\n      <td>1.000000</td>\n      <td>0.000000</td>\n      <td>100.000000</td>\n      <td>0.000000</td>\n      <td>1.000000</td>\n      <td>...</td>\n      <td>1.000000</td>\n      <td>1.000000</td>\n      <td>3.000000</td>\n      <td>0.000000</td>\n      <td>422.000000</td>\n      <td>418.000000</td>\n      <td>324.000000</td>\n      <td>1.000000</td>\n      <td>1190.000000</td>\n      <td>1164.000000</td>\n    </tr>\n    <tr>\n      <th>max</th>\n      <td>1.000000</td>\n      <td>1231.000000</td>\n      <td>70.000000</td>\n      <td>149.000000</td>\n      <td>1.000000</td>\n      <td>1.000000</td>\n      <td>1.000000</td>\n      <td>100.000000</td>\n      <td>1.000000</td>\n      <td>1.000000</td>\n      <td>...</td>\n      <td>1.000000</td>\n      <td>1.000000</td>\n      <td>3.000000</td>\n      <td>1.000000</td>\n      <td>771.000000</td>\n      <td>909.000000</td>\n      <td>857.000000</td>\n      <td>1.000000</td>\n      <td>4255.000000</td>\n      <td>3130.000000</td>\n    </tr>\n  </tbody>\n</table>\n<p>8 rows × 23 columns</p>\n</div>"
     },
     "execution_count": 5,
     "metadata": {},
     "output_type": "execute_result"
    }
   ],
   "source": [
    "data_df.describe()"
   ],
   "metadata": {
    "collapsed": false,
    "pycharm": {
     "name": "#%%\n"
    }
   }
  },
  {
   "cell_type": "code",
   "execution_count": 6,
   "outputs": [
    {
     "name": "stdout",
     "output_type": "stream",
     "text": [
      ">>>> Data Shape : (532, 22)\n"
     ]
    }
   ],
   "source": [
    "# Data Quality Checking\n",
    "col = []\n",
    "missing = []\n",
    "level = []\n",
    "for name in data_df.columns:\n",
    "\n",
    "    # Missing\n",
    "    missper = data_df[name].isnull().sum() / data_df.shape[0]\n",
    "    missing.append(round(missper, 4))\n",
    "\n",
    "    # Leveling\n",
    "    lel = data_df[name].dropna()\n",
    "    level.append(len(list(set(lel))))\n",
    "\n",
    "    # Columns\n",
    "    col.append(name)\n",
    "\n",
    "summary = pd.concat([pd.DataFrame(col, columns=['name']),\n",
    "                     pd.DataFrame(missing, columns=['Missing Percentage']),\n",
    "                     pd.DataFrame(level, columns=['Level'])], axis=1)\n",
    "\n",
    "drop_col = summary['name'][(summary['Level'] <= 1) | (summary['Missing Percentage'] >= 0.8)]\n",
    "data_df.drop(columns=drop_col, inplace=True)\n",
    "print(\">>>> Data Shape : {}\".format(data_df.shape))"
   ],
   "metadata": {
    "collapsed": false,
    "pycharm": {
     "name": "#%%\n"
    }
   }
  },
  {
   "cell_type": "code",
   "execution_count": 7,
   "outputs": [],
   "source": [
    "# X's & Y Split\n",
    "y = data_df['censor']\n",
    "X = data_df.drop(columns=['censor'])"
   ],
   "metadata": {
    "collapsed": false,
    "pycharm": {
     "name": "#%%\n"
    }
   }
  },
  {
   "cell_type": "code",
   "execution_count": 8,
   "outputs": [
    {
     "name": "stdout",
     "output_type": "stream",
     "text": [
      ">>>> # of Train data : 372\n",
      ">>>> # of valid data : 160\n",
      ">>>> # of Train data Y : Counter({0: 241, 1: 131})\n",
      ">>>> # of valid data Y : Counter({0: 110, 1: 50})\n"
     ]
    }
   ],
   "source": [
    "idx = list(range(X.shape[0]))\n",
    "train_idx, valid_idx = train_test_split(idx, test_size=0.3, random_state=2021)\n",
    "print(\">>>> # of Train data : {}\".format(len(train_idx)))\n",
    "print(\">>>> # of valid data : {}\".format(len(valid_idx)))\n",
    "print(\">>>> # of Train data Y : {}\".format(Counter(y.iloc[train_idx])))\n",
    "print(\">>>> # of valid data Y : {}\".format(Counter(y.iloc[valid_idx])))"
   ],
   "metadata": {
    "collapsed": false,
    "pycharm": {
     "name": "#%%\n"
    }
   }
  },
  {
   "cell_type": "markdown",
   "source": [
    "[LightGBM Parameters]\n",
    "  - Package : https://lightgbm.readthedocs.io/en/latest/Python-Intro.html\n",
    "  - learning_rate : GBM에서 shrinking 하는 것과 같은 것\n",
    "  - reg_lambda : L2 regularization term on weights (analogous to Ridge regression)\n",
    "  - reg_alpha : L1 regularization term on weight (analogous to Lasso regression)\n",
    "  - objective\n",
    "        objective 🔗︎, default = regression, type = enum, options: regression, regression_l1, huber, fair, poisson, quantile, mape, gamma, tweedie, binary, multiclass, multiclassova, cross_entropy, cross_entropy_lambda, lambdarank, rank_xendcg, aliases: objective_type, app, application, loss\n",
    "\n",
    "  - eval_metric [ default according to objective ]\n",
    "    - The metric to be used for validation data.\n",
    "    - The default values are rmse for regression and error for classification.\n",
    "    - Typical values are:\n",
    "        -    rmse – root mean square error\n",
    "        -    mae – mean absolute error\n",
    "        -    logloss – negative log-likelihood\n",
    "        -    error – Binary classification error rate (0.5 threshold)\n",
    "        -    merror – Multiclass classification error rate\n",
    "        -    mlogloss – Multiclass logloss\n",
    "        -    auc: Area under the curve"
   ],
   "metadata": {
    "collapsed": false,
    "pycharm": {
     "name": "#%% md\n"
    }
   }
  },
  {
   "cell_type": "markdown",
   "source": [
    "[LightGBM]\n",
    "\n",
    "  - Hyperparameter tuning\n",
    "  - n_estimators, learning_rate, max_depth, reg_alpha\n",
    "  - LightGBM은 Hyperparam이 굉장히 많은 알고리즘 중에 하나임\n",
    "  - 위에 4가지만 잘 조정해도 좋은 결과를 얻을 수 있음"
   ],
   "metadata": {
    "collapsed": false,
    "pycharm": {
     "name": "#%% md\n"
    }
   }
  },
  {
   "cell_type": "code",
   "execution_count": 9,
   "outputs": [],
   "source": [
    "# n_estimators\n",
    "n_tree = [5, 10, 20]\n",
    "# learning_rate\n",
    "l_rate = [0.1, 0.3]\n",
    "# max_depth\n",
    "m_depth = [3, 5]\n",
    "# reg_alpha\n",
    "L1_norm = [0.1, 0.3, 0.5]"
   ],
   "metadata": {
    "collapsed": false,
    "pycharm": {
     "name": "#%%\n"
    }
   }
  },
  {
   "cell_type": "code",
   "execution_count": 10,
   "outputs": [],
   "source": [
    "# Modeling\n",
    "save_n = []\n",
    "save_l = []\n",
    "save_m = []\n",
    "save_L1 = []\n",
    "f1_score_ = []"
   ],
   "metadata": {
    "collapsed": false,
    "pycharm": {
     "name": "#%%\n"
    }
   }
  },
  {
   "cell_type": "code",
   "execution_count": 12,
   "outputs": [
    {
     "name": "stdout",
     "output_type": "stream",
     "text": [
      ">>> 0 <<<\n",
      "n_estimators : 5, learning_rate : 0.1, max_depth : 3, reg_alpha : 0.1\n",
      "Train Confusion Matrix\n",
      "[[237   4]\n",
      " [ 55  76]]\n",
      "Train Acc : 0.8413978494623656\n",
      "Train F1-Score : 0.7203791469194314\n",
      "Test Confusion Matrix\n",
      "[[103   7]\n",
      " [ 10  40]]\n",
      "TesT Acc : 0.89375\n",
      "Test F1-Score : 0.8247422680412372\n",
      "-----------------------------------------------------------------------\n",
      "-----------------------------------------------------------------------\n",
      ">>> 1 <<<\n",
      "n_estimators : 5, learning_rate : 0.1, max_depth : 3, reg_alpha : 0.3\n",
      "Train Confusion Matrix\n",
      "[[237   4]\n",
      " [ 54  77]]\n",
      "Train Acc : 0.8440860215053764\n",
      "Train F1-Score : 0.7264150943396226\n",
      "Test Confusion Matrix\n",
      "[[102   8]\n",
      " [ 10  40]]\n",
      "TesT Acc : 0.8875\n",
      "Test F1-Score : 0.816326530612245\n",
      "-----------------------------------------------------------------------\n",
      "-----------------------------------------------------------------------\n",
      ">>> 2 <<<\n",
      "n_estimators : 5, learning_rate : 0.1, max_depth : 3, reg_alpha : 0.5\n",
      "Train Confusion Matrix\n",
      "[[237   4]\n",
      " [ 54  77]]\n",
      "Train Acc : 0.8440860215053764\n",
      "Train F1-Score : 0.7264150943396226\n",
      "Test Confusion Matrix\n",
      "[[102   8]\n",
      " [ 10  40]]\n",
      "TesT Acc : 0.8875\n",
      "Test F1-Score : 0.816326530612245\n",
      "-----------------------------------------------------------------------\n",
      "-----------------------------------------------------------------------\n",
      ">>> 3 <<<\n",
      "n_estimators : 5, learning_rate : 0.1, max_depth : 5, reg_alpha : 0.1\n",
      "Train Confusion Matrix\n",
      "[[237   4]\n",
      " [ 44  87]]\n",
      "Train Acc : 0.8709677419354839\n",
      "Train F1-Score : 0.7837837837837838\n",
      "Test Confusion Matrix\n",
      "[[101   9]\n",
      " [  9  41]]\n",
      "TesT Acc : 0.8875\n",
      "Test F1-Score : 0.82\n",
      "-----------------------------------------------------------------------\n",
      "-----------------------------------------------------------------------\n",
      ">>> 4 <<<\n",
      "n_estimators : 5, learning_rate : 0.1, max_depth : 5, reg_alpha : 0.3\n",
      "Train Confusion Matrix\n",
      "[[236   5]\n",
      " [ 50  81]]\n",
      "Train Acc : 0.8521505376344086\n",
      "Train F1-Score : 0.7465437788018434\n",
      "Test Confusion Matrix\n",
      "[[101   9]\n",
      " [ 10  40]]\n",
      "TesT Acc : 0.88125\n",
      "Test F1-Score : 0.8080808080808082\n",
      "-----------------------------------------------------------------------\n",
      "-----------------------------------------------------------------------\n",
      ">>> 5 <<<\n",
      "n_estimators : 5, learning_rate : 0.1, max_depth : 5, reg_alpha : 0.5\n",
      "Train Confusion Matrix\n",
      "[[236   5]\n",
      " [ 44  87]]\n",
      "Train Acc : 0.8682795698924731\n",
      "Train F1-Score : 0.7802690582959643\n",
      "Test Confusion Matrix\n",
      "[[101   9]\n",
      " [  9  41]]\n",
      "TesT Acc : 0.8875\n",
      "Test F1-Score : 0.82\n",
      "-----------------------------------------------------------------------\n",
      "-----------------------------------------------------------------------\n",
      ">>> 6 <<<\n",
      "n_estimators : 5, learning_rate : 0.3, max_depth : 3, reg_alpha : 0.1\n",
      "Train Confusion Matrix\n",
      "[[227  14]\n",
      " [ 17 114]]\n",
      "Train Acc : 0.9166666666666666\n",
      "Train F1-Score : 0.8803088803088803\n",
      "Test Confusion Matrix\n",
      "[[95 15]\n",
      " [ 1 49]]\n",
      "TesT Acc : 0.9\n",
      "Test F1-Score : 0.8596491228070174\n",
      "-----------------------------------------------------------------------\n",
      "-----------------------------------------------------------------------\n",
      ">>> 7 <<<\n",
      "n_estimators : 5, learning_rate : 0.3, max_depth : 3, reg_alpha : 0.3\n",
      "Train Confusion Matrix\n",
      "[[228  13]\n",
      " [ 19 112]]\n",
      "Train Acc : 0.9139784946236559\n",
      "Train F1-Score : 0.875\n",
      "Test Confusion Matrix\n",
      "[[96 14]\n",
      " [ 1 49]]\n",
      "TesT Acc : 0.90625\n",
      "Test F1-Score : 0.8672566371681417\n",
      "-----------------------------------------------------------------------\n",
      "-----------------------------------------------------------------------\n",
      ">>> 8 <<<\n",
      "n_estimators : 5, learning_rate : 0.3, max_depth : 3, reg_alpha : 0.5\n",
      "Train Confusion Matrix\n",
      "[[228  13]\n",
      " [ 17 114]]\n",
      "Train Acc : 0.9193548387096774\n",
      "Train F1-Score : 0.883720930232558\n",
      "Test Confusion Matrix\n",
      "[[96 14]\n",
      " [ 1 49]]\n",
      "TesT Acc : 0.90625\n",
      "Test F1-Score : 0.8672566371681417\n",
      "-----------------------------------------------------------------------\n",
      "-----------------------------------------------------------------------\n",
      ">>> 9 <<<\n",
      "n_estimators : 5, learning_rate : 0.3, max_depth : 5, reg_alpha : 0.1\n",
      "Train Confusion Matrix\n",
      "[[232   9]\n",
      " [ 20 111]]\n",
      "Train Acc : 0.9220430107526881\n",
      "Train F1-Score : 0.8844621513944223\n",
      "Test Confusion Matrix\n",
      "[[95 15]\n",
      " [ 4 46]]\n",
      "TesT Acc : 0.88125\n",
      "Test F1-Score : 0.8288288288288288\n",
      "-----------------------------------------------------------------------\n",
      "-----------------------------------------------------------------------\n",
      ">>> 10 <<<\n",
      "n_estimators : 5, learning_rate : 0.3, max_depth : 5, reg_alpha : 0.3\n",
      "Train Confusion Matrix\n",
      "[[232   9]\n",
      " [ 17 114]]\n",
      "Train Acc : 0.9301075268817204\n",
      "Train F1-Score : 0.8976377952755905\n",
      "Test Confusion Matrix\n",
      "[[94 16]\n",
      " [ 5 45]]\n",
      "TesT Acc : 0.86875\n",
      "Test F1-Score : 0.8108108108108109\n",
      "-----------------------------------------------------------------------\n",
      "-----------------------------------------------------------------------\n",
      ">>> 11 <<<\n",
      "n_estimators : 5, learning_rate : 0.3, max_depth : 5, reg_alpha : 0.5\n",
      "Train Confusion Matrix\n",
      "[[231  10]\n",
      " [ 21 110]]\n",
      "Train Acc : 0.9166666666666666\n",
      "Train F1-Score : 0.8764940239043825\n",
      "Test Confusion Matrix\n",
      "[[97 13]\n",
      " [ 3 47]]\n",
      "TesT Acc : 0.9\n",
      "Test F1-Score : 0.8545454545454546\n",
      "-----------------------------------------------------------------------\n",
      "-----------------------------------------------------------------------\n",
      ">>> 12 <<<\n",
      "n_estimators : 10, learning_rate : 0.1, max_depth : 3, reg_alpha : 0.1\n",
      "Train Confusion Matrix\n",
      "[[233   8]\n",
      " [ 36  95]]\n",
      "Train Acc : 0.8817204301075269\n",
      "Train F1-Score : 0.811965811965812\n",
      "Test Confusion Matrix\n",
      "[[98 12]\n",
      " [ 4 46]]\n",
      "TesT Acc : 0.9\n",
      "Test F1-Score : 0.851851851851852\n",
      "-----------------------------------------------------------------------\n",
      "-----------------------------------------------------------------------\n",
      ">>> 13 <<<\n",
      "n_estimators : 10, learning_rate : 0.1, max_depth : 3, reg_alpha : 0.3\n",
      "Train Confusion Matrix\n",
      "[[233   8]\n",
      " [ 36  95]]\n",
      "Train Acc : 0.8817204301075269\n",
      "Train F1-Score : 0.811965811965812\n",
      "Test Confusion Matrix\n",
      "[[98 12]\n",
      " [ 4 46]]\n",
      "TesT Acc : 0.9\n",
      "Test F1-Score : 0.851851851851852\n",
      "-----------------------------------------------------------------------\n",
      "-----------------------------------------------------------------------\n",
      ">>> 14 <<<\n",
      "n_estimators : 10, learning_rate : 0.1, max_depth : 3, reg_alpha : 0.5\n",
      "Train Confusion Matrix\n",
      "[[233   8]\n",
      " [ 33  98]]\n",
      "Train Acc : 0.8897849462365591\n",
      "Train F1-Score : 0.8270042194092826\n",
      "Test Confusion Matrix\n",
      "[[98 12]\n",
      " [ 5 45]]\n",
      "TesT Acc : 0.89375\n",
      "Test F1-Score : 0.8411214953271027\n",
      "-----------------------------------------------------------------------\n",
      "-----------------------------------------------------------------------\n",
      ">>> 15 <<<\n",
      "n_estimators : 10, learning_rate : 0.1, max_depth : 5, reg_alpha : 0.1\n",
      "Train Confusion Matrix\n",
      "[[232   9]\n",
      " [ 28 103]]\n",
      "Train Acc : 0.9005376344086021\n",
      "Train F1-Score : 0.8477366255144032\n",
      "Test Confusion Matrix\n",
      "[[97 13]\n",
      " [ 4 46]]\n",
      "TesT Acc : 0.89375\n",
      "Test F1-Score : 0.8440366972477064\n",
      "-----------------------------------------------------------------------\n",
      "-----------------------------------------------------------------------\n",
      ">>> 16 <<<\n",
      "n_estimators : 10, learning_rate : 0.1, max_depth : 5, reg_alpha : 0.3\n",
      "Train Confusion Matrix\n",
      "[[233   8]\n",
      " [ 25 106]]\n",
      "Train Acc : 0.9112903225806451\n",
      "Train F1-Score : 0.8653061224489796\n",
      "Test Confusion Matrix\n",
      "[[96 14]\n",
      " [ 4 46]]\n",
      "TesT Acc : 0.8875\n",
      "Test F1-Score : 0.8363636363636363\n",
      "-----------------------------------------------------------------------\n",
      "-----------------------------------------------------------------------\n",
      ">>> 17 <<<\n",
      "n_estimators : 10, learning_rate : 0.1, max_depth : 5, reg_alpha : 0.5\n",
      "Train Confusion Matrix\n",
      "[[232   9]\n",
      " [ 28 103]]\n",
      "Train Acc : 0.9005376344086021\n",
      "Train F1-Score : 0.8477366255144032\n",
      "Test Confusion Matrix\n",
      "[[97 13]\n",
      " [ 4 46]]\n",
      "TesT Acc : 0.89375\n",
      "Test F1-Score : 0.8440366972477064\n",
      "-----------------------------------------------------------------------\n",
      "-----------------------------------------------------------------------\n",
      ">>> 18 <<<\n",
      "n_estimators : 10, learning_rate : 0.3, max_depth : 3, reg_alpha : 0.1\n",
      "Train Confusion Matrix\n",
      "[[227  14]\n",
      " [ 12 119]]\n",
      "Train Acc : 0.9301075268817204\n",
      "Train F1-Score : 0.9015151515151515\n",
      "Test Confusion Matrix\n",
      "[[92 18]\n",
      " [ 1 49]]\n",
      "TesT Acc : 0.88125\n",
      "Test F1-Score : 0.8376068376068375\n",
      "-----------------------------------------------------------------------\n",
      "-----------------------------------------------------------------------\n",
      ">>> 19 <<<\n",
      "n_estimators : 10, learning_rate : 0.3, max_depth : 3, reg_alpha : 0.3\n",
      "Train Confusion Matrix\n",
      "[[229  12]\n",
      " [ 10 121]]\n",
      "Train Acc : 0.9408602150537635\n",
      "Train F1-Score : 0.9166666666666667\n",
      "Test Confusion Matrix\n",
      "[[92 18]\n",
      " [ 1 49]]\n",
      "TesT Acc : 0.88125\n",
      "Test F1-Score : 0.8376068376068375\n",
      "-----------------------------------------------------------------------\n",
      "-----------------------------------------------------------------------\n",
      ">>> 20 <<<\n",
      "n_estimators : 10, learning_rate : 0.3, max_depth : 3, reg_alpha : 0.5\n",
      "Train Confusion Matrix\n",
      "[[229  12]\n",
      " [ 13 118]]\n",
      "Train Acc : 0.9327956989247311\n",
      "Train F1-Score : 0.9042145593869731\n",
      "Test Confusion Matrix\n",
      "[[92 18]\n",
      " [ 1 49]]\n",
      "TesT Acc : 0.88125\n",
      "Test F1-Score : 0.8376068376068375\n",
      "-----------------------------------------------------------------------\n",
      "-----------------------------------------------------------------------\n",
      ">>> 21 <<<\n",
      "n_estimators : 10, learning_rate : 0.3, max_depth : 5, reg_alpha : 0.1\n",
      "Train Confusion Matrix\n",
      "[[233   8]\n",
      " [ 12 119]]\n",
      "Train Acc : 0.946236559139785\n",
      "Train F1-Score : 0.9224806201550387\n",
      "Test Confusion Matrix\n",
      "[[98 12]\n",
      " [ 3 47]]\n",
      "TesT Acc : 0.90625\n",
      "Test F1-Score : 0.8623853211009174\n",
      "-----------------------------------------------------------------------\n",
      "-----------------------------------------------------------------------\n",
      ">>> 22 <<<\n",
      "n_estimators : 10, learning_rate : 0.3, max_depth : 5, reg_alpha : 0.3\n",
      "Train Confusion Matrix\n",
      "[[234   7]\n",
      " [ 10 121]]\n",
      "Train Acc : 0.9543010752688172\n",
      "Train F1-Score : 0.9343629343629344\n",
      "Test Confusion Matrix\n",
      "[[96 14]\n",
      " [ 4 46]]\n",
      "TesT Acc : 0.8875\n",
      "Test F1-Score : 0.8363636363636363\n",
      "-----------------------------------------------------------------------\n",
      "-----------------------------------------------------------------------\n",
      ">>> 23 <<<\n",
      "n_estimators : 10, learning_rate : 0.3, max_depth : 5, reg_alpha : 0.5\n",
      "Train Confusion Matrix\n",
      "[[234   7]\n",
      " [ 11 120]]\n",
      "Train Acc : 0.9516129032258065\n",
      "Train F1-Score : 0.9302325581395349\n",
      "Test Confusion Matrix\n",
      "[[96 14]\n",
      " [ 4 46]]\n",
      "TesT Acc : 0.8875\n",
      "Test F1-Score : 0.8363636363636363\n",
      "-----------------------------------------------------------------------\n",
      "-----------------------------------------------------------------------\n",
      ">>> 24 <<<\n",
      "n_estimators : 20, learning_rate : 0.1, max_depth : 3, reg_alpha : 0.1\n",
      "Train Confusion Matrix\n",
      "[[229  12]\n",
      " [ 17 114]]\n",
      "Train Acc : 0.9220430107526881\n",
      "Train F1-Score : 0.8871595330739299\n",
      "Test Confusion Matrix\n",
      "[[95 15]\n",
      " [ 2 48]]\n",
      "TesT Acc : 0.89375\n",
      "Test F1-Score : 0.8495575221238937\n",
      "-----------------------------------------------------------------------\n",
      "-----------------------------------------------------------------------\n",
      ">>> 25 <<<\n",
      "n_estimators : 20, learning_rate : 0.1, max_depth : 3, reg_alpha : 0.3\n",
      "Train Confusion Matrix\n",
      "[[229  12]\n",
      " [ 14 117]]\n",
      "Train Acc : 0.9301075268817204\n",
      "Train F1-Score : 0.9\n",
      "Test Confusion Matrix\n",
      "[[94 16]\n",
      " [ 1 49]]\n",
      "TesT Acc : 0.89375\n",
      "Test F1-Score : 0.8521739130434782\n",
      "-----------------------------------------------------------------------\n",
      "-----------------------------------------------------------------------\n",
      ">>> 26 <<<\n",
      "n_estimators : 20, learning_rate : 0.1, max_depth : 3, reg_alpha : 0.5\n",
      "Train Confusion Matrix\n",
      "[[228  13]\n",
      " [ 13 118]]\n",
      "Train Acc : 0.9301075268817204\n",
      "Train F1-Score : 0.9007633587786259\n",
      "Test Confusion Matrix\n",
      "[[94 16]\n",
      " [ 1 49]]\n",
      "TesT Acc : 0.89375\n",
      "Test F1-Score : 0.8521739130434782\n",
      "-----------------------------------------------------------------------\n",
      "-----------------------------------------------------------------------\n",
      ">>> 27 <<<\n",
      "n_estimators : 20, learning_rate : 0.1, max_depth : 5, reg_alpha : 0.1\n",
      "Train Confusion Matrix\n",
      "[[233   8]\n",
      " [ 15 116]]\n",
      "Train Acc : 0.9381720430107527\n",
      "Train F1-Score : 0.9098039215686274\n",
      "Test Confusion Matrix\n",
      "[[95 15]\n",
      " [ 3 47]]\n",
      "TesT Acc : 0.8875\n",
      "Test F1-Score : 0.8392857142857143\n",
      "-----------------------------------------------------------------------\n",
      "-----------------------------------------------------------------------\n",
      ">>> 28 <<<\n",
      "n_estimators : 20, learning_rate : 0.1, max_depth : 5, reg_alpha : 0.3\n",
      "Train Confusion Matrix\n",
      "[[232   9]\n",
      " [ 14 117]]\n",
      "Train Acc : 0.9381720430107527\n",
      "Train F1-Score : 0.9105058365758756\n",
      "Test Confusion Matrix\n",
      "[[95 15]\n",
      " [ 2 48]]\n",
      "TesT Acc : 0.89375\n",
      "Test F1-Score : 0.8495575221238937\n",
      "-----------------------------------------------------------------------\n",
      "-----------------------------------------------------------------------\n",
      ">>> 29 <<<\n",
      "n_estimators : 20, learning_rate : 0.1, max_depth : 5, reg_alpha : 0.5\n",
      "Train Confusion Matrix\n",
      "[[232   9]\n",
      " [ 17 114]]\n",
      "Train Acc : 0.9301075268817204\n",
      "Train F1-Score : 0.8976377952755905\n",
      "Test Confusion Matrix\n",
      "[[96 14]\n",
      " [ 3 47]]\n",
      "TesT Acc : 0.89375\n",
      "Test F1-Score : 0.8468468468468469\n",
      "-----------------------------------------------------------------------\n",
      "-----------------------------------------------------------------------\n",
      ">>> 30 <<<\n",
      "n_estimators : 20, learning_rate : 0.3, max_depth : 3, reg_alpha : 0.1\n",
      "Train Confusion Matrix\n",
      "[[236   5]\n",
      " [  6 125]]\n",
      "Train Acc : 0.9704301075268817\n",
      "Train F1-Score : 0.9578544061302683\n",
      "Test Confusion Matrix\n",
      "[[89 21]\n",
      " [ 1 49]]\n",
      "TesT Acc : 0.8625\n",
      "Test F1-Score : 0.8166666666666667\n",
      "-----------------------------------------------------------------------\n",
      "-----------------------------------------------------------------------\n",
      ">>> 31 <<<\n",
      "n_estimators : 20, learning_rate : 0.3, max_depth : 3, reg_alpha : 0.3\n",
      "Train Confusion Matrix\n",
      "[[233   8]\n",
      " [  6 125]]\n",
      "Train Acc : 0.9623655913978495\n",
      "Train F1-Score : 0.9469696969696969\n",
      "Test Confusion Matrix\n",
      "[[91 19]\n",
      " [ 1 49]]\n",
      "TesT Acc : 0.875\n",
      "Test F1-Score : 0.8305084745762712\n",
      "-----------------------------------------------------------------------\n",
      "-----------------------------------------------------------------------\n",
      ">>> 32 <<<\n",
      "n_estimators : 20, learning_rate : 0.3, max_depth : 3, reg_alpha : 0.5\n",
      "Train Confusion Matrix\n",
      "[[234   7]\n",
      " [  8 123]]\n",
      "Train Acc : 0.9596774193548387\n",
      "Train F1-Score : 0.9425287356321839\n",
      "Test Confusion Matrix\n",
      "[[93 17]\n",
      " [ 1 49]]\n",
      "TesT Acc : 0.8875\n",
      "Test F1-Score : 0.8448275862068965\n",
      "-----------------------------------------------------------------------\n",
      "-----------------------------------------------------------------------\n",
      ">>> 33 <<<\n",
      "n_estimators : 20, learning_rate : 0.3, max_depth : 5, reg_alpha : 0.1\n",
      "Train Confusion Matrix\n",
      "[[239   2]\n",
      " [  2 129]]\n",
      "Train Acc : 0.989247311827957\n",
      "Train F1-Score : 0.9847328244274809\n",
      "Test Confusion Matrix\n",
      "[[94 16]\n",
      " [ 2 48]]\n",
      "TesT Acc : 0.8875\n",
      "Test F1-Score : 0.8421052631578947\n",
      "-----------------------------------------------------------------------\n",
      "-----------------------------------------------------------------------\n",
      ">>> 34 <<<\n",
      "n_estimators : 20, learning_rate : 0.3, max_depth : 5, reg_alpha : 0.3\n",
      "Train Confusion Matrix\n",
      "[[237   4]\n",
      " [  0 131]]\n",
      "Train Acc : 0.989247311827957\n",
      "Train F1-Score : 0.9849624060150376\n",
      "Test Confusion Matrix\n",
      "[[93 17]\n",
      " [ 2 48]]\n",
      "TesT Acc : 0.88125\n",
      "Test F1-Score : 0.8347826086956522\n",
      "-----------------------------------------------------------------------\n",
      "-----------------------------------------------------------------------\n",
      ">>> 35 <<<\n",
      "n_estimators : 20, learning_rate : 0.3, max_depth : 5, reg_alpha : 0.5\n",
      "Train Confusion Matrix\n",
      "[[237   4]\n",
      " [  1 130]]\n",
      "Train Acc : 0.9865591397849462\n",
      "Train F1-Score : 0.9811320754716981\n",
      "Test Confusion Matrix\n",
      "[[92 18]\n",
      " [ 4 46]]\n",
      "TesT Acc : 0.8625\n",
      "Test F1-Score : 0.8070175438596492\n",
      "-----------------------------------------------------------------------\n",
      "-----------------------------------------------------------------------\n"
     ]
    }
   ],
   "source": [
    "cnt = 0\n",
    "\n",
    "for n in n_tree:\n",
    "    for l in l_rate:\n",
    "        for m in m_depth:\n",
    "            for L1 in L1_norm:\n",
    "\n",
    "                print(\">>> {} <<<\".format(cnt))\n",
    "                cnt +=1\n",
    "                print(\"n_estimators : {}, learning_rate : {}, max_depth : {}, reg_alpha : {}\".format(n, l, m, L1))\n",
    "                model = LGBMClassifier(n_estimators=n, learning_rate=l,\n",
    "                                       max_depth=m, reg_alpha=L1,\n",
    "                                       n_jobs=-1, objective='cross_entropy')\n",
    "                model.fit(X.iloc[train_idx], y.iloc[train_idx])\n",
    "\n",
    "\n",
    "                # Train Acc\n",
    "                y_pred_train = model.predict(X.iloc[train_idx])\n",
    "                cm_train = confusion_matrix(y.iloc[train_idx], y_pred_train)\n",
    "                print(\"Train Confusion Matrix\")\n",
    "                print(cm_train)\n",
    "                print(\"Train Acc : {}\".format((cm_train[0,0] + cm_train[1,1])/cm_train.sum()))\n",
    "                print(\"Train F1-Score : {}\".format(f1_score(y.iloc[train_idx], y_pred_train)))\n",
    "\n",
    "                # Test Acc\n",
    "                y_pred_test = model.predict(X.iloc[valid_idx])\n",
    "                cm_test = confusion_matrix(y.iloc[valid_idx], y_pred_test)\n",
    "                print(\"Test Confusion Matrix\")\n",
    "                print(cm_test)\n",
    "                print(\"TesT Acc : {}\".format((cm_test[0,0] + cm_test[1,1])/cm_test.sum()))\n",
    "                print(\"Test F1-Score : {}\".format(f1_score(y.iloc[valid_idx], y_pred_test)))\n",
    "                print(\"-----------------------------------------------------------------------\")\n",
    "                print(\"-----------------------------------------------------------------------\")\n",
    "                save_n.append(n)\n",
    "                save_l.append(l)\n",
    "                save_m.append(m)\n",
    "                save_L1.append(L1)\n",
    "                f1_score_.append(f1_score(y.iloc[valid_idx], y_pred_test))\n",
    "\n",
    "\n",
    "                #joblib.dump(model, './LightGBM_model/Result_{}_{}_{}_{}_{}.pkl'.format(n, l, m, L1, round(save_acc[-1], 4)))\n",
    "                #gc.collect()"
   ],
   "metadata": {
    "collapsed": false,
    "pycharm": {
     "name": "#%%\n"
    }
   }
  },
  {
   "cell_type": "code",
   "execution_count": 13,
   "outputs": [
    {
     "name": "stdout",
     "output_type": "stream",
     "text": [
      ">>> 7 <<<\n",
      "Best Test f1-score : 0.8672566371681417\n",
      "Best n_estimators : 5\n",
      "Best Learning Rate : 0.3\n",
      "Best Max_depth : 3\n",
      "Best L1-norm : 0.3\n"
     ]
    }
   ],
   "source": [
    "print(f\">>> {np.argmax(f1_score_)} <<<\\nBest Test f1-score : {f1_score_[np.argmax(f1_score_)]}\\nBest n_estimators : {save_n[np.argmax(f1_score_)]}\\nBest Learning Rate : {save_l[np.argmax(f1_score_)]}\\nBest Max_depth : {save_m[np.argmax(f1_score_)]}\\nBest L1-norm : {save_L1[np.argmax(f1_score_)]}\")"
   ],
   "metadata": {
    "collapsed": false,
    "pycharm": {
     "name": "#%%\n"
    }
   }
  },
  {
   "cell_type": "code",
   "execution_count": 14,
   "outputs": [
    {
     "data": {
      "text/plain": "LGBMClassifier(learning_rate=0.3, max_depth=3, n_estimators=5,\n               objective='cross_entropy', random_state=119, reg_alpha=0.3)",
      "text/html": "<style>#sk-container-id-1 {color: black;}#sk-container-id-1 pre{padding: 0;}#sk-container-id-1 div.sk-toggleable {background-color: white;}#sk-container-id-1 label.sk-toggleable__label {cursor: pointer;display: block;width: 100%;margin-bottom: 0;padding: 0.3em;box-sizing: border-box;text-align: center;}#sk-container-id-1 label.sk-toggleable__label-arrow:before {content: \"▸\";float: left;margin-right: 0.25em;color: #696969;}#sk-container-id-1 label.sk-toggleable__label-arrow:hover:before {color: black;}#sk-container-id-1 div.sk-estimator:hover label.sk-toggleable__label-arrow:before {color: black;}#sk-container-id-1 div.sk-toggleable__content {max-height: 0;max-width: 0;overflow: hidden;text-align: left;background-color: #f0f8ff;}#sk-container-id-1 div.sk-toggleable__content pre {margin: 0.2em;color: black;border-radius: 0.25em;background-color: #f0f8ff;}#sk-container-id-1 input.sk-toggleable__control:checked~div.sk-toggleable__content {max-height: 200px;max-width: 100%;overflow: auto;}#sk-container-id-1 input.sk-toggleable__control:checked~label.sk-toggleable__label-arrow:before {content: \"▾\";}#sk-container-id-1 div.sk-estimator input.sk-toggleable__control:checked~label.sk-toggleable__label {background-color: #d4ebff;}#sk-container-id-1 div.sk-label input.sk-toggleable__control:checked~label.sk-toggleable__label {background-color: #d4ebff;}#sk-container-id-1 input.sk-hidden--visually {border: 0;clip: rect(1px 1px 1px 1px);clip: rect(1px, 1px, 1px, 1px);height: 1px;margin: -1px;overflow: hidden;padding: 0;position: absolute;width: 1px;}#sk-container-id-1 div.sk-estimator {font-family: monospace;background-color: #f0f8ff;border: 1px dotted black;border-radius: 0.25em;box-sizing: border-box;margin-bottom: 0.5em;}#sk-container-id-1 div.sk-estimator:hover {background-color: #d4ebff;}#sk-container-id-1 div.sk-parallel-item::after {content: \"\";width: 100%;border-bottom: 1px solid gray;flex-grow: 1;}#sk-container-id-1 div.sk-label:hover label.sk-toggleable__label {background-color: #d4ebff;}#sk-container-id-1 div.sk-serial::before {content: \"\";position: absolute;border-left: 1px solid gray;box-sizing: border-box;top: 0;bottom: 0;left: 50%;z-index: 0;}#sk-container-id-1 div.sk-serial {display: flex;flex-direction: column;align-items: center;background-color: white;padding-right: 0.2em;padding-left: 0.2em;position: relative;}#sk-container-id-1 div.sk-item {position: relative;z-index: 1;}#sk-container-id-1 div.sk-parallel {display: flex;align-items: stretch;justify-content: center;background-color: white;position: relative;}#sk-container-id-1 div.sk-item::before, #sk-container-id-1 div.sk-parallel-item::before {content: \"\";position: absolute;border-left: 1px solid gray;box-sizing: border-box;top: 0;bottom: 0;left: 50%;z-index: -1;}#sk-container-id-1 div.sk-parallel-item {display: flex;flex-direction: column;z-index: 1;position: relative;background-color: white;}#sk-container-id-1 div.sk-parallel-item:first-child::after {align-self: flex-end;width: 50%;}#sk-container-id-1 div.sk-parallel-item:last-child::after {align-self: flex-start;width: 50%;}#sk-container-id-1 div.sk-parallel-item:only-child::after {width: 0;}#sk-container-id-1 div.sk-dashed-wrapped {border: 1px dashed gray;margin: 0 0.4em 0.5em 0.4em;box-sizing: border-box;padding-bottom: 0.4em;background-color: white;}#sk-container-id-1 div.sk-label label {font-family: monospace;font-weight: bold;display: inline-block;line-height: 1.2em;}#sk-container-id-1 div.sk-label-container {text-align: center;}#sk-container-id-1 div.sk-container {/* jupyter's `normalize.less` sets `[hidden] { display: none; }` but bootstrap.min.css set `[hidden] { display: none !important; }` so we also need the `!important` here to be able to override the default hidden behavior on the sphinx rendered scikit-learn.org. See: https://github.com/scikit-learn/scikit-learn/issues/21755 */display: inline-block !important;position: relative;}#sk-container-id-1 div.sk-text-repr-fallback {display: none;}</style><div id=\"sk-container-id-1\" class=\"sk-top-container\"><div class=\"sk-text-repr-fallback\"><pre>LGBMClassifier(learning_rate=0.3, max_depth=3, n_estimators=5,\n               objective=&#x27;cross_entropy&#x27;, random_state=119, reg_alpha=0.3)</pre><b>In a Jupyter environment, please rerun this cell to show the HTML representation or trust the notebook. <br />On GitHub, the HTML representation is unable to render, please try loading this page with nbviewer.org.</b></div><div class=\"sk-container\" hidden><div class=\"sk-item\"><div class=\"sk-estimator sk-toggleable\"><input class=\"sk-toggleable__control sk-hidden--visually\" id=\"sk-estimator-id-1\" type=\"checkbox\" checked><label for=\"sk-estimator-id-1\" class=\"sk-toggleable__label sk-toggleable__label-arrow\">LGBMClassifier</label><div class=\"sk-toggleable__content\"><pre>LGBMClassifier(learning_rate=0.3, max_depth=3, n_estimators=5,\n               objective=&#x27;cross_entropy&#x27;, random_state=119, reg_alpha=0.3)</pre></div></div></div></div></div>"
     },
     "execution_count": 14,
     "metadata": {},
     "output_type": "execute_result"
    }
   ],
   "source": [
    "best_model = LGBMClassifier(n_estimators=save_n[np.argmax(f1_score_)], learning_rate=save_l[np.argmax(f1_score_)],\n",
    "                           max_depth=save_m[np.argmax(f1_score_)], reg_alpha=save_L1[np.argmax(f1_score_)], objective='cross_entropy',\n",
    "                           random_state=119)\n",
    "best_model.fit(X.iloc[train_idx], y.iloc[train_idx])"
   ],
   "metadata": {
    "collapsed": false,
    "pycharm": {
     "name": "#%%\n"
    }
   }
  },
  {
   "cell_type": "code",
   "execution_count": 18,
   "outputs": [
    {
     "name": "stdout",
     "output_type": "stream",
     "text": [
      "Train Confusion Matrix\n",
      "[[228  13]\n",
      " [ 19 112]]\n",
      "Train Acc : 0.9139784946236559\n",
      "Train F1-Score : 0.875\n"
     ]
    }
   ],
   "source": [
    "# Train Acc\n",
    "y_pre_train = best_model.predict(X.iloc[train_idx])\n",
    "cm_train = confusion_matrix(y.iloc[train_idx], y_pre_train)\n",
    "print(\"Train Confusion Matrix\")\n",
    "print(cm_train)\n",
    "print(\"Train Acc : {}\".format((cm_train[0,0] + cm_train[1,1])/cm_train.sum()))\n",
    "print(\"Train F1-Score : {}\".format(f1_score(y.iloc[train_idx], y_pre_train)))"
   ],
   "metadata": {
    "collapsed": false,
    "pycharm": {
     "name": "#%%\n"
    }
   }
  },
  {
   "cell_type": "code",
   "execution_count": 20,
   "outputs": [
    {
     "name": "stdout",
     "output_type": "stream",
     "text": [
      "Test Confusion Matrix\n",
      "[[96 14]\n",
      " [ 1 49]]\n",
      "TesT Acc : 0.90625\n",
      "Test F1-Score : 0.8672566371681417\n"
     ]
    }
   ],
   "source": [
    "# Test Acc\n",
    "y_pre_test = best_model.predict(X.iloc[valid_idx])\n",
    "cm_test = confusion_matrix(y.iloc[valid_idx], y_pre_test)\n",
    "print(\"Test Confusion Matrix\")\n",
    "print(cm_test)\n",
    "print(\"TesT Acc : {}\".format((cm_test[0,0] + cm_test[1,1])/cm_test.sum()))\n",
    "print(\"Test F1-Score : {}\".format(f1_score(y.iloc[valid_idx], y_pre_test)))"
   ],
   "metadata": {
    "collapsed": false,
    "pycharm": {
     "name": "#%%\n"
    }
   }
  },
  {
   "cell_type": "code",
   "execution_count": 21,
   "outputs": [
    {
     "name": "stdout",
     "output_type": "stream",
     "text": [
      "    Score  Feature\n",
      "0      10    event\n",
      "1       4    cd496\n",
      "2       4    cd420\n",
      "3       4     cd40\n",
      "4       3  preanti\n",
      "5       2     wtkg\n",
      "6       2     race\n",
      "7       1      z30\n",
      "8       1      age\n",
      "9       0  symptom\n",
      "10      0    strat\n",
      "11      0     str2\n",
      "12      0        r\n",
      "13      0   oprior\n",
      "14      0   karnof\n",
      "15      0     homo\n",
      "16      0     hemo\n",
      "17      0   gender\n",
      "18      0    drugs\n",
      "19      0    cd820\n",
      "20      0     cd80\n"
     ]
    }
   ],
   "source": [
    "feature_map = pd.DataFrame(sorted(zip(best_model.feature_importances_, X.columns), reverse=True), columns=['Score', 'Feature'])\n",
    "print(feature_map)"
   ],
   "metadata": {
    "collapsed": false,
    "pycharm": {
     "name": "#%%\n"
    }
   }
  },
  {
   "cell_type": "code",
   "execution_count": 22,
   "outputs": [
    {
     "data": {
      "text/plain": "<Figure size 2000x1000 with 1 Axes>",
      "image/png": "[encoded data removed]"
     },
     "metadata": {},
     "output_type": "display_data"
    }
   ],
   "source": [
    "# Importance Score Top 10\n",
    "feature_map_10 = feature_map.iloc[:10]\n",
    "plt.figure(figsize=(20, 10))\n",
    "sns.barplot(x=\"Score\", y=\"Feature\", data=feature_map_10.sort_values(by=\"Score\", ascending=False), errwidth=40)\n",
    "plt.title('XGBoost Importance Features')\n",
    "plt.tight_layout()\n",
    "plt.show()"
   ],
   "metadata": {
    "collapsed": false,
    "pycharm": {
     "name": "#%%\n"
    }
   }
  },
  {
   "cell_type": "code",
   "execution_count": null,
   "outputs": [],
   "source": [],
   "metadata": {
    "collapsed": false,
    "pycharm": {
     "name": "#%%\n"
    }
   }
  }
 ],
 "metadata": {
  "kernelspec": {
   "display_name": "Python 3",
   "language": "python",
   "name": "python3"
  },
  "language_info": {
   "codemirror_mode": {
    "name": "ipython",
    "version": 2
   },
   "file_extension": ".py",
   "mimetype": "text/x-python",
   "name": "python",
   "nbconvert_exporter": "python",
   "pygments_lexer": "ipython2",
   "version": "2.7.6"
  }
 },
 "nbformat": 4,
 "nbformat_minor": 0
}