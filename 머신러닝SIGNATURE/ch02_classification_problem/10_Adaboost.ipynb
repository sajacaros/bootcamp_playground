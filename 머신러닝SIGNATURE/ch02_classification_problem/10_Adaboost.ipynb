{
 "cells": [
  {
   "cell_type": "markdown",
   "metadata": {
    "collapsed": true,
    "pycharm": {
     "name": "#%% md\n"
    }
   },
   "source": [
    "# 10. AdaBoost"
   ]
  },
  {
   "cell_type": "code",
   "execution_count": 1,
   "outputs": [],
   "source": [
    "import numpy as np\n",
    "import matplotlib.pyplot as plt\n",
    "import pandas as pd\n",
    "import seaborn as sns\n",
    "\n",
    "from sklearn.model_selection import train_test_split\n",
    "from sklearn.metrics import confusion_matrix, f1_score\n",
    "from sklearn.ensemble import AdaBoostClassifier\n",
    "from collections import Counter"
   ],
   "metadata": {
    "collapsed": false,
    "pycharm": {
     "name": "#%%\n"
    }
   }
  },
  {
   "cell_type": "code",
   "execution_count": 2,
   "outputs": [],
   "source": [
    "data_url = r'https://raw.githubusercontent.com/GonieAhn/Data-Science-online-course-from-gonie/main/Data%20Store/example_data.csv'"
   ],
   "metadata": {
    "collapsed": false,
    "pycharm": {
     "name": "#%%\n"
    }
   }
  },
  {
   "cell_type": "code",
   "execution_count": 3,
   "outputs": [
    {
     "name": "stdout",
     "output_type": "stream",
     "text": [
      "<class 'pandas.core.frame.DataFrame'>\n",
      "RangeIndex: 532 entries, 0 to 531\n",
      "Data columns (total 23 columns):\n",
      " #   Column   Non-Null Count  Dtype  \n",
      "---  ------   --------------  -----  \n",
      " 0   censor   532 non-null    int64  \n",
      " 1   event    532 non-null    int64  \n",
      " 2   age      532 non-null    int64  \n",
      " 3   wtkg     532 non-null    float64\n",
      " 4   hemo     532 non-null    int64  \n",
      " 5   homo     532 non-null    int64  \n",
      " 6   drugs    532 non-null    int64  \n",
      " 7   karnof   532 non-null    int64  \n",
      " 8   oprior   532 non-null    int64  \n",
      " 9   z30      532 non-null    int64  \n",
      " 10  zprior   532 non-null    int64  \n",
      " 11  preanti  532 non-null    int64  \n",
      " 12  race     532 non-null    int64  \n",
      " 13  gender   532 non-null    int64  \n",
      " 14  str2     532 non-null    int64  \n",
      " 15  strat    532 non-null    int64  \n",
      " 16  symptom  532 non-null    int64  \n",
      " 17  cd40     532 non-null    int64  \n",
      " 18  cd420    532 non-null    int64  \n",
      " 19  cd496    532 non-null    int64  \n",
      " 20  r        532 non-null    int64  \n",
      " 21  cd80     532 non-null    int64  \n",
      " 22  cd820    532 non-null    int64  \n",
      "dtypes: float64(1), int64(22)\n",
      "memory usage: 95.7 KB\n"
     ]
    }
   ],
   "source": [
    "data_df = pd.read_csv(data_url)\n",
    "data_df.info()"
   ],
   "metadata": {
    "collapsed": false,
    "pycharm": {
     "name": "#%%\n"
    }
   }
  },
  {
   "cell_type": "code",
   "execution_count": 4,
   "outputs": [
    {
     "data": {
      "text/plain": "           censor        event         age        wtkg        hemo  \\\ncount  532.000000   532.000000  532.000000  532.000000  532.000000   \nmean     0.340226   801.236842   35.225564   76.061855    0.078947   \nstd      0.474231   326.887929    8.852094   13.224698    0.269910   \nmin      0.000000    33.000000   13.000000   47.401000    0.000000   \n25%      0.000000   535.750000   29.000000   67.500000    0.000000   \n50%      0.000000   933.500000   34.000000   74.600000    0.000000   \n75%      1.000000  1081.000000   40.000000   83.502000    0.000000   \nmax      1.000000  1231.000000   70.000000  149.000000    1.000000   \n\n             homo       drugs      karnof      oprior         z30  ...  \\\ncount  532.000000  532.000000  532.000000  532.000000  532.000000  ...   \nmean     0.640977    0.118421   95.432331    0.030075    0.546992  ...   \nstd      0.480165    0.323410    5.981856    0.170955    0.498255  ...   \nmin      0.000000    0.000000   70.000000    0.000000    0.000000  ...   \n25%      0.000000    0.000000   90.000000    0.000000    0.000000  ...   \n50%      1.000000    0.000000  100.000000    0.000000    1.000000  ...   \n75%      1.000000    0.000000  100.000000    0.000000    1.000000  ...   \nmax      1.000000    1.000000  100.000000    1.000000    1.000000  ...   \n\n           gender        str2       strat     symptom        cd40       cd420  \\\ncount  532.000000  532.000000  532.000000  532.000000  532.000000  532.000000   \nmean     0.812030    0.580827    1.981203    0.167293  353.204887  336.139098   \nstd      0.391056    0.493888    0.905946    0.373589  114.105253  130.961573   \nmin      0.000000    0.000000    1.000000    0.000000  103.000000   49.000000   \n25%      1.000000    0.000000    1.000000    0.000000  271.000000  243.750000   \n50%      1.000000    1.000000    2.000000    0.000000  346.000000  330.500000   \n75%      1.000000    1.000000    3.000000    0.000000  422.000000  418.000000   \nmax      1.000000    1.000000    3.000000    1.000000  771.000000  909.000000   \n\n            cd496           r         cd80        cd820  \ncount  532.000000  532.000000   532.000000   532.000000  \nmean   173.146617    0.603383   987.250000   928.214286  \nstd    191.455406    0.489656   475.223907   438.569798  \nmin     -1.000000    0.000000   221.000000   150.000000  \n25%     -1.000000    0.000000   653.250000   626.500000  \n50%    113.000000    1.000000   881.000000   818.000000  \n75%    324.000000    1.000000  1190.000000  1164.000000  \nmax    857.000000    1.000000  4255.000000  3130.000000  \n\n[8 rows x 23 columns]",
      "text/html": "<div>\n<style scoped>\n    .dataframe tbody tr th:only-of-type {\n        vertical-align: middle;\n    }\n\n    .dataframe tbody tr th {\n        vertical-align: top;\n    }\n\n    .dataframe thead th {\n        text-align: right;\n    }\n</style>\n<table border=\"1\" class=\"dataframe\">\n  <thead>\n    <tr style=\"text-align: right;\">\n      <th></th>\n      <th>censor</th>\n      <th>event</th>\n      <th>age</th>\n      <th>wtkg</th>\n      <th>hemo</th>\n      <th>homo</th>\n      <th>drugs</th>\n      <th>karnof</th>\n      <th>oprior</th>\n      <th>z30</th>\n      <th>...</th>\n      <th>gender</th>\n      <th>str2</th>\n      <th>strat</th>\n      <th>symptom</th>\n      <th>cd40</th>\n      <th>cd420</th>\n      <th>cd496</th>\n      <th>r</th>\n      <th>cd80</th>\n      <th>cd820</th>\n    </tr>\n  </thead>\n  <tbody>\n    <tr>\n      <th>count</th>\n      <td>532.000000</td>\n      <td>532.000000</td>\n      <td>532.000000</td>\n      <td>532.000000</td>\n      <td>532.000000</td>\n      <td>532.000000</td>\n      <td>532.000000</td>\n      <td>532.000000</td>\n      <td>532.000000</td>\n      <td>532.000000</td>\n      <td>...</td>\n      <td>532.000000</td>\n      <td>532.000000</td>\n      <td>532.000000</td>\n      <td>532.000000</td>\n      <td>532.000000</td>\n      <td>532.000000</td>\n      <td>532.000000</td>\n      <td>532.000000</td>\n      <td>532.000000</td>\n      <td>532.000000</td>\n    </tr>\n    <tr>\n      <th>mean</th>\n      <td>0.340226</td>\n      <td>801.236842</td>\n      <td>35.225564</td>\n      <td>76.061855</td>\n      <td>0.078947</td>\n      <td>0.640977</td>\n      <td>0.118421</td>\n      <td>95.432331</td>\n      <td>0.030075</td>\n      <td>0.546992</td>\n      <td>...</td>\n      <td>0.812030</td>\n      <td>0.580827</td>\n      <td>1.981203</td>\n      <td>0.167293</td>\n      <td>353.204887</td>\n      <td>336.139098</td>\n      <td>173.146617</td>\n      <td>0.603383</td>\n      <td>987.250000</td>\n      <td>928.214286</td>\n    </tr>\n    <tr>\n      <th>std</th>\n      <td>0.474231</td>\n      <td>326.887929</td>\n      <td>8.852094</td>\n      <td>13.224698</td>\n      <td>0.269910</td>\n      <td>0.480165</td>\n      <td>0.323410</td>\n      <td>5.981856</td>\n      <td>0.170955</td>\n      <td>0.498255</td>\n      <td>...</td>\n      <td>0.391056</td>\n      <td>0.493888</td>\n      <td>0.905946</td>\n      <td>0.373589</td>\n      <td>114.105253</td>\n      <td>130.961573</td>\n      <td>191.455406</td>\n      <td>0.489656</td>\n      <td>475.223907</td>\n      <td>438.569798</td>\n    </tr>\n    <tr>\n      <th>min</th>\n      <td>0.000000</td>\n      <td>33.000000</td>\n      <td>13.000000</td>\n      <td>47.401000</td>\n      <td>0.000000</td>\n      <td>0.000000</td>\n      <td>0.000000</td>\n      <td>70.000000</td>\n      <td>0.000000</td>\n      <td>0.000000</td>\n      <td>...</td>\n      <td>0.000000</td>\n      <td>0.000000</td>\n      <td>1.000000</td>\n      <td>0.000000</td>\n      <td>103.000000</td>\n      <td>49.000000</td>\n      <td>-1.000000</td>\n      <td>0.000000</td>\n      <td>221.000000</td>\n      <td>150.000000</td>\n    </tr>\n    <tr>\n      <th>25%</th>\n      <td>0.000000</td>\n      <td>535.750000</td>\n      <td>29.000000</td>\n      <td>67.500000</td>\n      <td>0.000000</td>\n      <td>0.000000</td>\n      <td>0.000000</td>\n      <td>90.000000</td>\n      <td>0.000000</td>\n      <td>0.000000</td>\n      <td>...</td>\n      <td>1.000000</td>\n      <td>0.000000</td>\n      <td>1.000000</td>\n      <td>0.000000</td>\n      <td>271.000000</td>\n      <td>243.750000</td>\n      <td>-1.000000</td>\n      <td>0.000000</td>\n      <td>653.250000</td>\n      <td>626.500000</td>\n    </tr>\n    <tr>\n      <th>50%</th>\n      <td>0.000000</td>\n      <td>933.500000</td>\n      <td>34.000000</td>\n      <td>74.600000</td>\n      <td>0.000000</td>\n      <td>1.000000</td>\n      <td>0.000000</td>\n      <td>100.000000</td>\n      <td>0.000000</td>\n      <td>1.000000</td>\n      <td>...</td>\n      <td>1.000000</td>\n      <td>1.000000</td>\n      <td>2.000000</td>\n      <td>0.000000</td>\n      <td>346.000000</td>\n      <td>330.500000</td>\n      <td>113.000000</td>\n      <td>1.000000</td>\n      <td>881.000000</td>\n      <td>818.000000</td>\n    </tr>\n    <tr>\n      <th>75%</th>\n      <td>1.000000</td>\n      <td>1081.000000</td>\n      <td>40.000000</td>\n      <td>83.502000</td>\n      <td>0.000000</td>\n      <td>1.000000</td>\n      <td>0.000000</td>\n      <td>100.000000</td>\n      <td>0.000000</td>\n      <td>1.000000</td>\n      <td>...</td>\n      <td>1.000000</td>\n      <td>1.000000</td>\n      <td>3.000000</td>\n      <td>0.000000</td>\n      <td>422.000000</td>\n      <td>418.000000</td>\n      <td>324.000000</td>\n      <td>1.000000</td>\n      <td>1190.000000</td>\n      <td>1164.000000</td>\n    </tr>\n    <tr>\n      <th>max</th>\n      <td>1.000000</td>\n      <td>1231.000000</td>\n      <td>70.000000</td>\n      <td>149.000000</td>\n      <td>1.000000</td>\n      <td>1.000000</td>\n      <td>1.000000</td>\n      <td>100.000000</td>\n      <td>1.000000</td>\n      <td>1.000000</td>\n      <td>...</td>\n      <td>1.000000</td>\n      <td>1.000000</td>\n      <td>3.000000</td>\n      <td>1.000000</td>\n      <td>771.000000</td>\n      <td>909.000000</td>\n      <td>857.000000</td>\n      <td>1.000000</td>\n      <td>4255.000000</td>\n      <td>3130.000000</td>\n    </tr>\n  </tbody>\n</table>\n<p>8 rows × 23 columns</p>\n</div>"
     },
     "execution_count": 4,
     "metadata": {},
     "output_type": "execute_result"
    }
   ],
   "source": [
    "data_df.describe()"
   ],
   "metadata": {
    "collapsed": false,
    "pycharm": {
     "name": "#%%\n"
    }
   }
  },
  {
   "cell_type": "code",
   "execution_count": 5,
   "outputs": [],
   "source": [
    "y = data_df['censor']\n",
    "X = data_df.drop(columns=['censor'])"
   ],
   "metadata": {
    "collapsed": false,
    "pycharm": {
     "name": "#%%\n"
    }
   }
  },
  {
   "cell_type": "code",
   "execution_count": 7,
   "outputs": [
    {
     "name": "stdout",
     "output_type": "stream",
     "text": [
      "train data : 372\n",
      "valid data : 160\n",
      "train data y : Counter({0: 246, 1: 126})\n",
      "train data y : Counter({0: 105, 1: 55})\n"
     ]
    }
   ],
   "source": [
    "idx = list(range(X.shape[0]))\n",
    "train_idx, valid_idx = train_test_split(idx, test_size=0.3, random_state=119)\n",
    "print(f'train data : {len(train_idx)}')\n",
    "print(f'valid data : {len(valid_idx)}')\n",
    "print(f'train data y : {Counter(y.iloc[train_idx])}')\n",
    "print(f'train data y : {Counter(y.iloc[valid_idx])}')"
   ],
   "metadata": {
    "collapsed": false,
    "pycharm": {
     "name": "#%%\n"
    }
   }
  },
  {
   "cell_type": "markdown",
   "source": [
    "[AdaBoost Parameters]\n",
    "  - Package : https://scikit-learn.org/stable/modules/generated/sklearn.ensemble.AdaBoostClassifier.html\n",
    "  - n_estimators : # of Tree\n",
    "  - learning_rate : learning_rate과 n_estimator와 Trade-off 관계가 있음\n",
    "    - Weight applied to each classifier at each boosting iteration"
   ],
   "metadata": {
    "collapsed": false,
    "pycharm": {
     "name": "#%% md\n"
    }
   }
  },
  {
   "cell_type": "code",
   "execution_count": 15,
   "outputs": [],
   "source": [
    "estimators = [70, 90, 100]\n",
    "learning = [0.01, 0.03, 0.05, 0.1, 0.5]"
   ],
   "metadata": {
    "collapsed": false,
    "pycharm": {
     "name": "#%%\n"
    }
   }
  },
  {
   "cell_type": "code",
   "execution_count": 16,
   "outputs": [],
   "source": [
    "save_est = []\n",
    "save_lr = []\n",
    "f1_score_ = []"
   ],
   "metadata": {
    "collapsed": false,
    "pycharm": {
     "name": "#%%\n"
    }
   }
  },
  {
   "cell_type": "code",
   "execution_count": 17,
   "outputs": [
    {
     "name": "stdout",
     "output_type": "stream",
     "text": [
      "----- 0 ----\n",
      "estimator : 70, lr : 0.01\n",
      "train Confusion Matrix\n",
      "[[189  57]\n",
      " [  8 118]]\n",
      "train Acc : 0.8252688172043011\n",
      "train f1-score : 0.7840531561461794\n",
      "test Confusion Matrix\n",
      "[[80 25]\n",
      " [ 2 53]]\n",
      "test Acc : 0.83125\n",
      "test f1-score : 0.7969924812030076\n",
      "--------------------\n",
      "----- 1 ----\n",
      "estimator : 70, lr : 0.03\n",
      "train Confusion Matrix\n",
      "[[194  52]\n",
      " [ 10 116]]\n",
      "train Acc : 0.8333333333333334\n",
      "train f1-score : 0.7891156462585033\n",
      "test Confusion Matrix\n",
      "[[84 21]\n",
      " [ 2 53]]\n",
      "test Acc : 0.85625\n",
      "test f1-score : 0.8217054263565892\n",
      "--------------------\n",
      "----- 2 ----\n",
      "estimator : 70, lr : 0.05\n",
      "train Confusion Matrix\n",
      "[[220  26]\n",
      " [ 13 113]]\n",
      "train Acc : 0.8951612903225806\n",
      "train f1-score : 0.8528301886792453\n",
      "test Confusion Matrix\n",
      "[[93 12]\n",
      " [ 7 48]]\n",
      "test Acc : 0.88125\n",
      "test f1-score : 0.8347826086956521\n",
      "--------------------\n",
      "----- 3 ----\n",
      "estimator : 70, lr : 0.1\n",
      "train Confusion Matrix\n",
      "[[225  21]\n",
      " [ 16 110]]\n",
      "train Acc : 0.9005376344086021\n",
      "train f1-score : 0.8560311284046692\n",
      "test Confusion Matrix\n",
      "[[90 15]\n",
      " [10 45]]\n",
      "test Acc : 0.84375\n",
      "test f1-score : 0.7826086956521738\n",
      "--------------------\n",
      "----- 4 ----\n",
      "estimator : 70, lr : 0.5\n",
      "train Confusion Matrix\n",
      "[[234  12]\n",
      " [ 10 116]]\n",
      "train Acc : 0.9408602150537635\n",
      "train f1-score : 0.9133858267716536\n",
      "test Confusion Matrix\n",
      "[[91 14]\n",
      " [11 44]]\n",
      "test Acc : 0.84375\n",
      "test f1-score : 0.7787610619469026\n",
      "--------------------\n",
      "----- 5 ----\n",
      "estimator : 90, lr : 0.01\n",
      "train Confusion Matrix\n",
      "[[189  57]\n",
      " [  8 118]]\n",
      "train Acc : 0.8252688172043011\n",
      "train f1-score : 0.7840531561461794\n",
      "test Confusion Matrix\n",
      "[[80 25]\n",
      " [ 2 53]]\n",
      "test Acc : 0.83125\n",
      "test f1-score : 0.7969924812030076\n",
      "--------------------\n",
      "----- 6 ----\n",
      "estimator : 90, lr : 0.03\n",
      "train Confusion Matrix\n",
      "[[205  41]\n",
      " [ 10 116]]\n",
      "train Acc : 0.8629032258064516\n",
      "train f1-score : 0.8197879858657243\n",
      "test Confusion Matrix\n",
      "[[89 16]\n",
      " [ 2 53]]\n",
      "test Acc : 0.8875\n",
      "test f1-score : 0.8548387096774193\n",
      "--------------------\n",
      "----- 7 ----\n",
      "estimator : 90, lr : 0.05\n",
      "train Confusion Matrix\n",
      "[[223  23]\n",
      " [ 15 111]]\n",
      "train Acc : 0.8978494623655914\n",
      "train f1-score : 0.8538461538461538\n",
      "test Confusion Matrix\n",
      "[[93 12]\n",
      " [ 8 47]]\n",
      "test Acc : 0.875\n",
      "test f1-score : 0.8245614035087718\n",
      "--------------------\n",
      "----- 8 ----\n",
      "estimator : 90, lr : 0.1\n",
      "train Confusion Matrix\n",
      "[[226  20]\n",
      " [ 14 112]]\n",
      "train Acc : 0.9086021505376344\n",
      "train f1-score : 0.8682170542635659\n",
      "test Confusion Matrix\n",
      "[[90 15]\n",
      " [10 45]]\n",
      "test Acc : 0.84375\n",
      "test f1-score : 0.7826086956521738\n",
      "--------------------\n",
      "----- 9 ----\n",
      "estimator : 90, lr : 0.5\n",
      "train Confusion Matrix\n",
      "[[238   8]\n",
      " [  7 119]]\n",
      "train Acc : 0.9596774193548387\n",
      "train f1-score : 0.9407114624505929\n",
      "test Confusion Matrix\n",
      "[[90 15]\n",
      " [13 42]]\n",
      "test Acc : 0.825\n",
      "test f1-score : 0.7499999999999999\n",
      "--------------------\n",
      "----- 10 ----\n",
      "estimator : 100, lr : 0.01\n",
      "train Confusion Matrix\n",
      "[[189  57]\n",
      " [  8 118]]\n",
      "train Acc : 0.8252688172043011\n",
      "train f1-score : 0.7840531561461794\n",
      "test Confusion Matrix\n",
      "[[80 25]\n",
      " [ 2 53]]\n",
      "test Acc : 0.83125\n",
      "test f1-score : 0.7969924812030076\n",
      "--------------------\n",
      "----- 11 ----\n",
      "estimator : 100, lr : 0.03\n",
      "train Confusion Matrix\n",
      "[[217  29]\n",
      " [ 13 113]]\n",
      "train Acc : 0.8870967741935484\n",
      "train f1-score : 0.8432835820895525\n",
      "test Confusion Matrix\n",
      "[[93 12]\n",
      " [ 6 49]]\n",
      "test Acc : 0.8875\n",
      "test f1-score : 0.8448275862068965\n",
      "--------------------\n",
      "----- 12 ----\n",
      "estimator : 100, lr : 0.05\n",
      "train Confusion Matrix\n",
      "[[222  24]\n",
      " [ 14 112]]\n",
      "train Acc : 0.8978494623655914\n",
      "train f1-score : 0.8549618320610687\n",
      "test Confusion Matrix\n",
      "[[92 13]\n",
      " [ 8 47]]\n",
      "test Acc : 0.86875\n",
      "test f1-score : 0.817391304347826\n",
      "--------------------\n",
      "----- 13 ----\n",
      "estimator : 100, lr : 0.1\n",
      "train Confusion Matrix\n",
      "[[226  20]\n",
      " [ 14 112]]\n",
      "train Acc : 0.9086021505376344\n",
      "train f1-score : 0.8682170542635659\n",
      "test Confusion Matrix\n",
      "[[91 14]\n",
      " [10 45]]\n",
      "test Acc : 0.85\n",
      "test f1-score : 0.7894736842105264\n",
      "--------------------\n",
      "----- 14 ----\n",
      "estimator : 100, lr : 0.5\n",
      "train Confusion Matrix\n",
      "[[238   8]\n",
      " [  5 121]]\n",
      "train Acc : 0.9650537634408602\n",
      "train f1-score : 0.9490196078431372\n",
      "test Confusion Matrix\n",
      "[[89 16]\n",
      " [11 44]]\n",
      "test Acc : 0.83125\n",
      "test f1-score : 0.7652173913043478\n",
      "--------------------\n"
     ]
    }
   ],
   "source": [
    "cnt = 0\n",
    "for est in estimators:\n",
    "    for lr in learning:\n",
    "        print(f'----- {cnt} ----')\n",
    "        cnt += 1\n",
    "        print(f'estimator : {est}, lr : {lr}')\n",
    "\n",
    "        model = AdaBoostClassifier(\n",
    "            n_estimators=est,\n",
    "            learning_rate=lr,\n",
    "            random_state=119\n",
    "        )\n",
    "        model.fit(X.iloc[train_idx], y.iloc[train_idx])\n",
    "\n",
    "        # train Acc\n",
    "        y_pred_train = model.predict(X.iloc[train_idx])\n",
    "        cm_train = confusion_matrix(y.iloc[train_idx], y_pred_train)\n",
    "        print('train Confusion Matrix')\n",
    "        print(cm_train)\n",
    "        print(f'train Acc : {(cm_train[0,0] + cm_train[1,1]) / cm_train.sum()}')\n",
    "        print(f'train f1-score : {f1_score(y.iloc[train_idx], y_pred_train)}')\n",
    "\n",
    "        # test Acc\n",
    "        y_pred_test = model.predict(X.iloc[valid_idx])\n",
    "        cm_test = confusion_matrix(y.iloc[valid_idx], y_pred_test)\n",
    "        print('test Confusion Matrix')\n",
    "        print(cm_test)\n",
    "        print(f'test Acc : {(cm_test[0,0] + cm_test[1,1]) / cm_test.sum()}')\n",
    "        print(f'test f1-score : {f1_score(y.iloc[valid_idx], y_pred_test)}')\n",
    "        print('-'*20)\n",
    "        save_est.append(est)\n",
    "        save_lr.append(lr)\n",
    "        f1_score_.append(f1_score(y.iloc[valid_idx], y_pred_test))"
   ],
   "metadata": {
    "collapsed": false,
    "pycharm": {
     "name": "#%%\n"
    }
   }
  },
  {
   "cell_type": "code",
   "execution_count": 18,
   "outputs": [
    {
     "name": "stdout",
     "output_type": "stream",
     "text": [
      "best idx : 6, f1-score : 0.8548387096774193\n",
      "best est : 90, lr:0.03, \n"
     ]
    }
   ],
   "source": [
    "print(f'best idx : {np.argmax(f1_score_)}, f1-score : {f1_score_[np.argmax(f1_score_)]}')\n",
    "print(f'best est : {save_est[np.argmax(f1_score_)]}, lr:{save_lr[np.argmax(f1_score_)]}, ')"
   ],
   "metadata": {
    "collapsed": false,
    "pycharm": {
     "name": "#%%\n"
    }
   }
  },
  {
   "cell_type": "code",
   "execution_count": 20,
   "outputs": [
    {
     "name": "stdout",
     "output_type": "stream",
     "text": [
      "test Confusion Matrix\n",
      "[[89 16]\n",
      " [ 2 53]]\n",
      "test Acc : 0.8875\n",
      "test f1-score : 0.8548387096774193\n"
     ]
    }
   ],
   "source": [
    "best_model = AdaBoostClassifier(\n",
    "            n_estimators=90,\n",
    "            learning_rate=0.03,\n",
    "            random_state=119\n",
    "        )\n",
    "best_model.fit(X.iloc[train_idx], y.iloc[train_idx])\n",
    "y_pred_test = best_model.predict(X.iloc[valid_idx])\n",
    "cm_test = confusion_matrix(y.iloc[valid_idx], y_pred_test)\n",
    "print('test Confusion Matrix')\n",
    "print(cm_test)\n",
    "print(f'test Acc : {(cm_test[0,0] + cm_test[1,1]) / cm_test.sum()}')\n",
    "print(f'test f1-score : {f1_score(y.iloc[valid_idx], y_pred_test)}')"
   ],
   "metadata": {
    "collapsed": false,
    "pycharm": {
     "name": "#%%\n"
    }
   }
  },
  {
   "cell_type": "code",
   "execution_count": 21,
   "outputs": [
    {
     "name": "stdout",
     "output_type": "stream",
     "text": [
      "       Score  Feature\n",
      "0   0.544444    event\n",
      "1   0.188889    cd420\n",
      "2   0.111111  preanti\n",
      "3   0.088889        r\n",
      "4   0.055556    cd496\n",
      "5   0.011111     race\n",
      "6   0.000000   zprior\n",
      "7   0.000000      z30\n",
      "8   0.000000     wtkg\n",
      "9   0.000000  symptom\n",
      "10  0.000000    strat\n",
      "11  0.000000     str2\n",
      "12  0.000000   oprior\n",
      "13  0.000000   karnof\n",
      "14  0.000000     homo\n",
      "15  0.000000     hemo\n",
      "16  0.000000   gender\n",
      "17  0.000000    drugs\n",
      "18  0.000000    cd820\n",
      "19  0.000000     cd80\n",
      "20  0.000000     cd40\n",
      "21  0.000000      age\n"
     ]
    }
   ],
   "source": [
    "feature_map = pd.DataFrame(sorted(zip(best_model.feature_importances_, X.columns), reverse=True), columns=['Score', 'Feature'])\n",
    "print(feature_map)"
   ],
   "metadata": {
    "collapsed": false,
    "pycharm": {
     "name": "#%%\n"
    }
   }
  },
  {
   "cell_type": "code",
   "execution_count": 22,
   "outputs": [
    {
     "data": {
      "text/plain": "<Figure size 640x480 with 1 Axes>",
      "image/png": "[encoded data removed]"
     },
     "metadata": {},
     "output_type": "display_data"
    }
   ],
   "source": [
    "feature_map_20 = feature_map.iloc[:10]\n",
    "sns.barplot(data=feature_map_20, x='Score', y='Feature')\n",
    "plt.title('AdaBoost Importance Features')\n",
    "plt.tight_layout()\n",
    "plt.show()"
   ],
   "metadata": {
    "collapsed": false,
    "pycharm": {
     "name": "#%%\n"
    }
   }
  },
  {
   "cell_type": "code",
   "execution_count": null,
   "outputs": [],
   "source": [],
   "metadata": {
    "collapsed": false,
    "pycharm": {
     "name": "#%%\n"
    }
   }
  }
 ],
 "metadata": {
  "kernelspec": {
   "display_name": "Python 3",
   "language": "python",
   "name": "python3"
  },
  "language_info": {
   "codemirror_mode": {
    "name": "ipython",
    "version": 2
   },
   "file_extension": ".py",
   "mimetype": "text/x-python",
   "name": "python",
   "nbconvert_exporter": "python",
   "pygments_lexer": "ipython2",
   "version": "2.7.6"
  }
 },
 "nbformat": 4,
 "nbformat_minor": 0
}