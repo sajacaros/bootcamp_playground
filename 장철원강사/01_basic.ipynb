{
 "cells": [
  {
   "cell_type": "code",
   "execution_count": 1,
   "id": "initial_id",
   "metadata": {
    "collapsed": true,
    "ExecuteTime": {
     "end_time": "2023-11-27T03:03:47.288520200Z",
     "start_time": "2023-11-27T03:03:47.220107300Z"
    }
   },
   "outputs": [],
   "source": [
    "import surprise\n",
    "import implicit"
   ]
  },
  {
   "cell_type": "code",
   "execution_count": 4,
   "outputs": [
    {
     "data": {
      "text/plain": "120"
     },
     "execution_count": 4,
     "metadata": {},
     "output_type": "execute_result"
    }
   ],
   "source": [
    "def factorial(n):\n",
    "    res = 1\n",
    "    for i in range(1, n+1):\n",
    "        res *= i\n",
    "    return res\n",
    "factorial(5)"
   ],
   "metadata": {
    "collapsed": false,
    "ExecuteTime": {
     "end_time": "2023-11-27T03:04:31.887624Z",
     "start_time": "2023-11-27T03:04:31.872671500Z"
    }
   },
   "id": "3f3a8ad41352beb6"
  },
  {
   "cell_type": "code",
   "execution_count": 12,
   "outputs": [
    {
     "data": {
      "text/plain": "10.0"
     },
     "execution_count": 12,
     "metadata": {},
     "output_type": "execute_result"
    }
   ],
   "source": [
    "def combination(n,r):\n",
    "    return factorial(n)/(factorial(r)*factorial(n-r))\n",
    "combination(5,3)"
   ],
   "metadata": {
    "collapsed": false,
    "ExecuteTime": {
     "end_time": "2023-11-27T03:24:13.632562200Z",
     "start_time": "2023-11-27T03:24:13.567446600Z"
    }
   },
   "id": "55610a3bbbe9ad03"
  },
  {
   "cell_type": "code",
   "execution_count": 13,
   "outputs": [],
   "source": [
    "import pandas as pd\n",
    "import numpy as np"
   ],
   "metadata": {
    "collapsed": false,
    "ExecuteTime": {
     "end_time": "2023-11-27T05:23:17.370091100Z",
     "start_time": "2023-11-27T05:23:17.358258Z"
    }
   },
   "id": "806a4703d6ae6ce4"
  },
  {
   "cell_type": "code",
   "execution_count": 14,
   "outputs": [],
   "source": [
    "df = pd.read_csv('./data/house_prices.csv')"
   ],
   "metadata": {
    "collapsed": false,
    "ExecuteTime": {
     "end_time": "2023-11-27T05:23:38.677550100Z",
     "start_time": "2023-11-27T05:23:38.657489300Z"
    }
   },
   "id": "8d8ac12738a662cf"
  },
  {
   "cell_type": "code",
   "execution_count": 17,
   "outputs": [
    {
     "data": {
      "text/plain": "      CRIM    ZN  INDUS  CHAS    NOX     RM   AGE     DIS  RAD  TAX  PTRATIO  \\\n0  0.00632  18.0   2.31     0  0.538  6.575  65.2  4.0900    1  296     15.3   \n1  0.02731   0.0   7.07     0  0.469  6.421  78.9  4.9671    2  242     17.8   \n2  0.02729   0.0   7.07     0  0.469  7.185  61.1  4.9671    2  242     17.8   \n\n        B  LSTAT  MEDV  \n0  396.90   4.98  24.0  \n1  396.90   9.14  21.6  \n2  392.83   4.03  34.7  ",
      "text/html": "<div>\n<style scoped>\n    .dataframe tbody tr th:only-of-type {\n        vertical-align: middle;\n    }\n\n    .dataframe tbody tr th {\n        vertical-align: top;\n    }\n\n    .dataframe thead th {\n        text-align: right;\n    }\n</style>\n<table border=\"1\" class=\"dataframe\">\n  <thead>\n    <tr style=\"text-align: right;\">\n      <th></th>\n      <th>CRIM</th>\n      <th>ZN</th>\n      <th>INDUS</th>\n      <th>CHAS</th>\n      <th>NOX</th>\n      <th>RM</th>\n      <th>AGE</th>\n      <th>DIS</th>\n      <th>RAD</th>\n      <th>TAX</th>\n      <th>PTRATIO</th>\n      <th>B</th>\n      <th>LSTAT</th>\n      <th>MEDV</th>\n    </tr>\n  </thead>\n  <tbody>\n    <tr>\n      <th>0</th>\n      <td>0.00632</td>\n      <td>18.0</td>\n      <td>2.31</td>\n      <td>0</td>\n      <td>0.538</td>\n      <td>6.575</td>\n      <td>65.2</td>\n      <td>4.0900</td>\n      <td>1</td>\n      <td>296</td>\n      <td>15.3</td>\n      <td>396.90</td>\n      <td>4.98</td>\n      <td>24.0</td>\n    </tr>\n    <tr>\n      <th>1</th>\n      <td>0.02731</td>\n      <td>0.0</td>\n      <td>7.07</td>\n      <td>0</td>\n      <td>0.469</td>\n      <td>6.421</td>\n      <td>78.9</td>\n      <td>4.9671</td>\n      <td>2</td>\n      <td>242</td>\n      <td>17.8</td>\n      <td>396.90</td>\n      <td>9.14</td>\n      <td>21.6</td>\n    </tr>\n    <tr>\n      <th>2</th>\n      <td>0.02729</td>\n      <td>0.0</td>\n      <td>7.07</td>\n      <td>0</td>\n      <td>0.469</td>\n      <td>7.185</td>\n      <td>61.1</td>\n      <td>4.9671</td>\n      <td>2</td>\n      <td>242</td>\n      <td>17.8</td>\n      <td>392.83</td>\n      <td>4.03</td>\n      <td>34.7</td>\n    </tr>\n  </tbody>\n</table>\n</div>"
     },
     "execution_count": 17,
     "metadata": {},
     "output_type": "execute_result"
    }
   ],
   "source": [
    "df.head(3)"
   ],
   "metadata": {
    "collapsed": false,
    "ExecuteTime": {
     "end_time": "2023-11-27T05:24:10.734680800Z",
     "start_time": "2023-11-27T05:24:10.727578300Z"
    }
   },
   "id": "d255ff4faf952413"
  },
  {
   "cell_type": "code",
   "execution_count": 18,
   "outputs": [
    {
     "data": {
      "text/plain": "7.4670000000000005"
     },
     "execution_count": 18,
     "metadata": {},
     "output_type": "execute_result"
    }
   ],
   "source": [
    "df.iloc[2,4] + df.iloc[3,5]"
   ],
   "metadata": {
    "collapsed": false,
    "ExecuteTime": {
     "end_time": "2023-11-27T05:24:29.394776400Z",
     "start_time": "2023-11-27T05:24:29.370229300Z"
    }
   },
   "id": "15b823122d6815c0"
  },
  {
   "cell_type": "code",
   "execution_count": 19,
   "outputs": [
    {
     "data": {
      "text/plain": "Index(['CRIM', 'ZN', 'INDUS', 'CHAS', 'NOX', 'RM', 'AGE', 'DIS', 'RAD', 'TAX',\n       'PTRATIO', 'B', 'LSTAT', 'MEDV'],\n      dtype='object')"
     },
     "execution_count": 19,
     "metadata": {},
     "output_type": "execute_result"
    }
   ],
   "source": [
    "df.columns"
   ],
   "metadata": {
    "collapsed": false,
    "ExecuteTime": {
     "end_time": "2023-11-27T06:11:26.095540700Z",
     "start_time": "2023-11-27T06:11:26.049538600Z"
    }
   },
   "id": "ebd23bbaf71816d0"
  },
  {
   "cell_type": "code",
   "execution_count": 22,
   "outputs": [
    {
     "data": {
      "text/plain": "        CRIM    ZN  INDUS  CHAS    NOX\n0    0.00632  18.0   2.31     0  0.538\n1    0.02731   0.0   7.07     0  0.469\n2    0.02729   0.0   7.07     0  0.469\n3    0.03237   0.0   2.18     0  0.458\n4    0.06905   0.0   2.18     0  0.458\n..       ...   ...    ...   ...    ...\n501  0.06263   0.0  11.93     0  0.573\n502  0.04527   0.0  11.93     0  0.573\n503  0.06076   0.0  11.93     0  0.573\n504  0.10959   0.0  11.93     0  0.573\n505  0.04741   0.0  11.93     0  0.573\n\n[506 rows x 5 columns]",
      "text/html": "<div>\n<style scoped>\n    .dataframe tbody tr th:only-of-type {\n        vertical-align: middle;\n    }\n\n    .dataframe tbody tr th {\n        vertical-align: top;\n    }\n\n    .dataframe thead th {\n        text-align: right;\n    }\n</style>\n<table border=\"1\" class=\"dataframe\">\n  <thead>\n    <tr style=\"text-align: right;\">\n      <th></th>\n      <th>CRIM</th>\n      <th>ZN</th>\n      <th>INDUS</th>\n      <th>CHAS</th>\n      <th>NOX</th>\n    </tr>\n  </thead>\n  <tbody>\n    <tr>\n      <th>0</th>\n      <td>0.00632</td>\n      <td>18.0</td>\n      <td>2.31</td>\n      <td>0</td>\n      <td>0.538</td>\n    </tr>\n    <tr>\n      <th>1</th>\n      <td>0.02731</td>\n      <td>0.0</td>\n      <td>7.07</td>\n      <td>0</td>\n      <td>0.469</td>\n    </tr>\n    <tr>\n      <th>2</th>\n      <td>0.02729</td>\n      <td>0.0</td>\n      <td>7.07</td>\n      <td>0</td>\n      <td>0.469</td>\n    </tr>\n    <tr>\n      <th>3</th>\n      <td>0.03237</td>\n      <td>0.0</td>\n      <td>2.18</td>\n      <td>0</td>\n      <td>0.458</td>\n    </tr>\n    <tr>\n      <th>4</th>\n      <td>0.06905</td>\n      <td>0.0</td>\n      <td>2.18</td>\n      <td>0</td>\n      <td>0.458</td>\n    </tr>\n    <tr>\n      <th>...</th>\n      <td>...</td>\n      <td>...</td>\n      <td>...</td>\n      <td>...</td>\n      <td>...</td>\n    </tr>\n    <tr>\n      <th>501</th>\n      <td>0.06263</td>\n      <td>0.0</td>\n      <td>11.93</td>\n      <td>0</td>\n      <td>0.573</td>\n    </tr>\n    <tr>\n      <th>502</th>\n      <td>0.04527</td>\n      <td>0.0</td>\n      <td>11.93</td>\n      <td>0</td>\n      <td>0.573</td>\n    </tr>\n    <tr>\n      <th>503</th>\n      <td>0.06076</td>\n      <td>0.0</td>\n      <td>11.93</td>\n      <td>0</td>\n      <td>0.573</td>\n    </tr>\n    <tr>\n      <th>504</th>\n      <td>0.10959</td>\n      <td>0.0</td>\n      <td>11.93</td>\n      <td>0</td>\n      <td>0.573</td>\n    </tr>\n    <tr>\n      <th>505</th>\n      <td>0.04741</td>\n      <td>0.0</td>\n      <td>11.93</td>\n      <td>0</td>\n      <td>0.573</td>\n    </tr>\n  </tbody>\n</table>\n<p>506 rows × 5 columns</p>\n</div>"
     },
     "execution_count": 22,
     "metadata": {},
     "output_type": "execute_result"
    }
   ],
   "source": [
    "X = df[df.columns[:5]]\n",
    "X"
   ],
   "metadata": {
    "collapsed": false,
    "ExecuteTime": {
     "end_time": "2023-11-27T06:11:50.069111300Z",
     "start_time": "2023-11-27T06:11:50.028370200Z"
    }
   },
   "id": "ce98991c3ec28367"
  },
  {
   "cell_type": "code",
   "execution_count": 25,
   "outputs": [],
   "source": [
    "X_t = np.transpose(X)"
   ],
   "metadata": {
    "collapsed": false,
    "ExecuteTime": {
     "end_time": "2023-11-27T06:12:23.835296200Z",
     "start_time": "2023-11-27T06:12:23.816572600Z"
    }
   },
   "id": "4898f9e4155ec4c8"
  },
  {
   "cell_type": "code",
   "execution_count": 27,
   "outputs": [],
   "source": [
    "XtX = X_t.dot(X) # 공분산"
   ],
   "metadata": {
    "collapsed": false,
    "ExecuteTime": {
     "end_time": "2023-11-27T06:41:41.861183600Z",
     "start_time": "2023-11-27T06:41:41.837276Z"
    }
   },
   "id": "5809a16ff8fb73ad"
  },
  {
   "cell_type": "code",
   "execution_count": 28,
   "outputs": [
    {
     "data": {
      "text/plain": "5.318697879179408e+17"
     },
     "execution_count": 28,
     "metadata": {},
     "output_type": "execute_result"
    }
   ],
   "source": [
    "np.linalg.det(XtX)"
   ],
   "metadata": {
    "collapsed": false,
    "ExecuteTime": {
     "end_time": "2023-11-27T06:41:55.396123100Z",
     "start_time": "2023-11-27T06:41:55.386227800Z"
    }
   },
   "id": "2d4fe9261c093ead"
  },
  {
   "cell_type": "code",
   "execution_count": 29,
   "outputs": [],
   "source": [
    "XtX_inv = np.linalg.inv(XtX)"
   ],
   "metadata": {
    "collapsed": false,
    "ExecuteTime": {
     "end_time": "2023-11-27T07:05:58.419618900Z",
     "start_time": "2023-11-27T07:05:58.409183500Z"
    }
   },
   "id": "821c4bc10e2fa196"
  },
  {
   "cell_type": "code",
   "execution_count": 30,
   "outputs": [
    {
     "data": {
      "text/plain": "                  0             1             2             3             4\nCRIM   1.000000e+00  1.802548e-17 -2.058407e-16  3.310259e-17  6.488672e-15\nZN     3.876846e-18  1.000000e+00  3.549498e-17 -1.178236e-15 -3.597749e-14\nINDUS -1.205305e-16  7.856346e-17  1.000000e+00 -2.032484e-15  1.207309e-14\nCHAS  -3.705449e-19 -1.512685e-19 -8.167007e-18  1.000000e+00  2.775057e-16\nNOX   -1.017577e-17  2.147685e-18  5.254621e-18  7.186007e-17  1.000000e+00",
      "text/html": "<div>\n<style scoped>\n    .dataframe tbody tr th:only-of-type {\n        vertical-align: middle;\n    }\n\n    .dataframe tbody tr th {\n        vertical-align: top;\n    }\n\n    .dataframe thead th {\n        text-align: right;\n    }\n</style>\n<table border=\"1\" class=\"dataframe\">\n  <thead>\n    <tr style=\"text-align: right;\">\n      <th></th>\n      <th>0</th>\n      <th>1</th>\n      <th>2</th>\n      <th>3</th>\n      <th>4</th>\n    </tr>\n  </thead>\n  <tbody>\n    <tr>\n      <th>CRIM</th>\n      <td>1.000000e+00</td>\n      <td>1.802548e-17</td>\n      <td>-2.058407e-16</td>\n      <td>3.310259e-17</td>\n      <td>6.488672e-15</td>\n    </tr>\n    <tr>\n      <th>ZN</th>\n      <td>3.876846e-18</td>\n      <td>1.000000e+00</td>\n      <td>3.549498e-17</td>\n      <td>-1.178236e-15</td>\n      <td>-3.597749e-14</td>\n    </tr>\n    <tr>\n      <th>INDUS</th>\n      <td>-1.205305e-16</td>\n      <td>7.856346e-17</td>\n      <td>1.000000e+00</td>\n      <td>-2.032484e-15</td>\n      <td>1.207309e-14</td>\n    </tr>\n    <tr>\n      <th>CHAS</th>\n      <td>-3.705449e-19</td>\n      <td>-1.512685e-19</td>\n      <td>-8.167007e-18</td>\n      <td>1.000000e+00</td>\n      <td>2.775057e-16</td>\n    </tr>\n    <tr>\n      <th>NOX</th>\n      <td>-1.017577e-17</td>\n      <td>2.147685e-18</td>\n      <td>5.254621e-18</td>\n      <td>7.186007e-17</td>\n      <td>1.000000e+00</td>\n    </tr>\n  </tbody>\n</table>\n</div>"
     },
     "execution_count": 30,
     "metadata": {},
     "output_type": "execute_result"
    }
   ],
   "source": [
    "XtX.dot(XtX_inv)"
   ],
   "metadata": {
    "collapsed": false,
    "ExecuteTime": {
     "end_time": "2023-11-27T07:06:09.148562400Z",
     "start_time": "2023-11-27T07:06:09.115247900Z"
    }
   },
   "id": "f851058aa4b47e28"
  },
  {
   "cell_type": "code",
   "execution_count": 33,
   "outputs": [
    {
     "data": {
      "text/plain": "1226.1231702310001"
     },
     "execution_count": 33,
     "metadata": {},
     "output_type": "execute_result"
    }
   ],
   "source": [
    "np.inner(df['CRIM'], df['NOX'])"
   ],
   "metadata": {
    "collapsed": false,
    "ExecuteTime": {
     "end_time": "2023-11-27T07:28:23.443123800Z",
     "start_time": "2023-11-27T07:28:23.426097900Z"
    }
   },
   "id": "53d4a96a8571e1a0"
  },
  {
   "cell_type": "code",
   "execution_count": 35,
   "outputs": [
    {
     "data": {
      "text/plain": "               CRIM            ZN         INDUS       CHAS         NOX\nCRIM   43970.343555     468.70266  32479.095184   64.80846  1226.12317\nZN       468.702660  340029.00000  20903.090000  270.00000  2484.44175\nINDUS  32479.095184   20903.09000  86525.629900  445.17000  3432.39536\nCHAS      64.808460     270.00000    445.170000   35.00000    20.76990\nNOX     1226.123170    2484.44175   3432.395360   20.76990   162.47038",
      "text/html": "<div>\n<style scoped>\n    .dataframe tbody tr th:only-of-type {\n        vertical-align: middle;\n    }\n\n    .dataframe tbody tr th {\n        vertical-align: top;\n    }\n\n    .dataframe thead th {\n        text-align: right;\n    }\n</style>\n<table border=\"1\" class=\"dataframe\">\n  <thead>\n    <tr style=\"text-align: right;\">\n      <th></th>\n      <th>CRIM</th>\n      <th>ZN</th>\n      <th>INDUS</th>\n      <th>CHAS</th>\n      <th>NOX</th>\n    </tr>\n  </thead>\n  <tbody>\n    <tr>\n      <th>CRIM</th>\n      <td>43970.343555</td>\n      <td>468.70266</td>\n      <td>32479.095184</td>\n      <td>64.80846</td>\n      <td>1226.12317</td>\n    </tr>\n    <tr>\n      <th>ZN</th>\n      <td>468.702660</td>\n      <td>340029.00000</td>\n      <td>20903.090000</td>\n      <td>270.00000</td>\n      <td>2484.44175</td>\n    </tr>\n    <tr>\n      <th>INDUS</th>\n      <td>32479.095184</td>\n      <td>20903.09000</td>\n      <td>86525.629900</td>\n      <td>445.17000</td>\n      <td>3432.39536</td>\n    </tr>\n    <tr>\n      <th>CHAS</th>\n      <td>64.808460</td>\n      <td>270.00000</td>\n      <td>445.170000</td>\n      <td>35.00000</td>\n      <td>20.76990</td>\n    </tr>\n    <tr>\n      <th>NOX</th>\n      <td>1226.123170</td>\n      <td>2484.44175</td>\n      <td>3432.395360</td>\n      <td>20.76990</td>\n      <td>162.47038</td>\n    </tr>\n  </tbody>\n</table>\n</div>"
     },
     "execution_count": 35,
     "metadata": {},
     "output_type": "execute_result"
    }
   ],
   "source": [
    "conv_x = X_t.dot(X)\n",
    "conv_x"
   ],
   "metadata": {
    "collapsed": false,
    "ExecuteTime": {
     "end_time": "2023-11-27T08:40:46.144428800Z",
     "start_time": "2023-11-27T08:40:46.130538300Z"
    }
   },
   "id": "8ce199b5f2c49dc3"
  },
  {
   "cell_type": "code",
   "execution_count": 36,
   "outputs": [],
   "source": [
    "e, v = np.linalg.eig(conv_x)"
   ],
   "metadata": {
    "collapsed": false,
    "ExecuteTime": {
     "end_time": "2023-11-27T08:40:59.548439600Z",
     "start_time": "2023-11-27T08:40:59.526477300Z"
    }
   },
   "id": "157ec26738d7a5b5"
  },
  {
   "cell_type": "code",
   "execution_count": 37,
   "outputs": [
    {
     "data": {
      "text/plain": "array([3.41796942e+05, 1.02737970e+05, 2.61371298e+04, 3.26583074e+01,\n       1.77441256e+01])"
     },
     "execution_count": 37,
     "metadata": {},
     "output_type": "execute_result"
    }
   ],
   "source": [
    "e"
   ],
   "metadata": {
    "collapsed": false,
    "ExecuteTime": {
     "end_time": "2023-11-27T08:41:01.029193300Z",
     "start_time": "2023-11-27T08:41:00.983816800Z"
    }
   },
   "id": "4ec41af725782e43"
  },
  {
   "cell_type": "code",
   "execution_count": 39,
   "outputs": [
    {
     "data": {
      "text/plain": "array([[ 1.06600530e-02,  4.82019000e-01, -8.76089936e-01,\n         3.21746923e-03,  3.45180803e-04],\n       [ 9.96453844e-01, -7.81206913e-02, -3.08630034e-02,\n        -1.15089670e-03, -4.80050958e-03],\n       [ 8.30624537e-02,  8.72036354e-01,  4.80740696e-01,\n        -1.19812261e-02, -3.73906326e-02],\n       [ 8.97931896e-04,  3.88535216e-03,  5.71982320e-03,\n         9.88567280e-01, -1.50619104e-01],\n       [ 8.11927405e-03,  3.30506078e-02,  1.92240992e-02,\n         1.50264788e-01,  9.87872797e-01]])"
     },
     "execution_count": 39,
     "metadata": {},
     "output_type": "execute_result"
    }
   ],
   "source": [
    "v"
   ],
   "metadata": {
    "collapsed": false,
    "ExecuteTime": {
     "end_time": "2023-11-27T08:41:05.958318800Z",
     "start_time": "2023-11-27T08:41:05.933277500Z"
    }
   },
   "id": "d3da0362b5bcf8b1"
  },
  {
   "cell_type": "code",
   "execution_count": 41,
   "outputs": [],
   "source": [
    "u, s, vt = np.linalg.svd(conv_x)"
   ],
   "metadata": {
    "collapsed": false,
    "ExecuteTime": {
     "end_time": "2023-11-27T09:10:47.376080200Z",
     "start_time": "2023-11-27T09:10:47.346732Z"
    }
   },
   "id": "ac2f282ac1508a0e"
  },
  {
   "cell_type": "code",
   "execution_count": 42,
   "outputs": [
    {
     "data": {
      "text/plain": "array([[-1.06600530e-02,  4.82019000e-01,  8.76089936e-01,\n        -3.21746923e-03,  3.45180803e-04],\n       [-9.96453844e-01, -7.81206913e-02,  3.08630034e-02,\n         1.15089670e-03, -4.80050958e-03],\n       [-8.30624537e-02,  8.72036354e-01, -4.80740696e-01,\n         1.19812261e-02, -3.73906326e-02],\n       [-8.97931896e-04,  3.88535216e-03, -5.71982320e-03,\n        -9.88567280e-01, -1.50619104e-01],\n       [-8.11927405e-03,  3.30506078e-02, -1.92240992e-02,\n        -1.50264788e-01,  9.87872797e-01]])"
     },
     "execution_count": 42,
     "metadata": {},
     "output_type": "execute_result"
    }
   ],
   "source": [
    "u"
   ],
   "metadata": {
    "collapsed": false,
    "ExecuteTime": {
     "end_time": "2023-11-27T09:10:49.599054700Z",
     "start_time": "2023-11-27T09:10:49.576573500Z"
    }
   },
   "id": "87d3ae0fe02e052"
  },
  {
   "cell_type": "code",
   "execution_count": 43,
   "outputs": [
    {
     "data": {
      "text/plain": "array([3.41796942e+05, 1.02737970e+05, 2.61371298e+04, 3.26583074e+01,\n       1.77441256e+01])"
     },
     "execution_count": 43,
     "metadata": {},
     "output_type": "execute_result"
    }
   ],
   "source": [
    "s"
   ],
   "metadata": {
    "collapsed": false,
    "ExecuteTime": {
     "end_time": "2023-11-27T09:10:50.895643700Z",
     "start_time": "2023-11-27T09:10:50.870025400Z"
    }
   },
   "id": "bda290be0bbeb15b"
  },
  {
   "cell_type": "code",
   "execution_count": 44,
   "outputs": [
    {
     "data": {
      "text/plain": "array([[-1.06600530e-02, -9.96453844e-01, -8.30624537e-02,\n        -8.97931896e-04, -8.11927405e-03],\n       [ 4.82019000e-01, -7.81206913e-02,  8.72036354e-01,\n         3.88535216e-03,  3.30506078e-02],\n       [ 8.76089936e-01,  3.08630034e-02, -4.80740696e-01,\n        -5.71982320e-03, -1.92240992e-02],\n       [-3.21746923e-03,  1.15089670e-03,  1.19812261e-02,\n        -9.88567280e-01, -1.50264788e-01],\n       [ 3.45180803e-04, -4.80050958e-03, -3.73906326e-02,\n        -1.50619104e-01,  9.87872797e-01]])"
     },
     "execution_count": 44,
     "metadata": {},
     "output_type": "execute_result"
    }
   ],
   "source": [
    "vt"
   ],
   "metadata": {
    "collapsed": false,
    "ExecuteTime": {
     "end_time": "2023-11-27T09:10:52.563173700Z",
     "start_time": "2023-11-27T09:10:52.539192900Z"
    }
   },
   "id": "50ddc2724c39300f"
  },
  {
   "cell_type": "code",
   "execution_count": 45,
   "outputs": [],
   "source": [
    "u2,s2,vt2 = np.linalg.svd(X)"
   ],
   "metadata": {
    "collapsed": false,
    "ExecuteTime": {
     "end_time": "2023-11-27T09:13:12.679427Z",
     "start_time": "2023-11-27T09:13:12.644758700Z"
    }
   },
   "id": "22fe46c0d925cc49"
  },
  {
   "cell_type": "code",
   "execution_count": 46,
   "outputs": [
    {
     "data": {
      "text/plain": "array([[-0.03101509,  0.00196257,  0.00346251, ..., -0.00242585,\n        -0.00265735, -0.00236255],\n       [-0.00101149,  0.01932427,  0.0209311 , ..., -0.00245423,\n        -0.0024579 , -0.00245323],\n       [-0.00101149,  0.01932424,  0.02093121, ..., -0.04883048,\n        -0.04868345, -0.04887067],\n       ...,\n       [-0.00170403,  0.03260754,  0.03521387, ...,  0.99701042,\n        -0.00298235, -0.00299156],\n       [-0.00170492,  0.03268098,  0.03494926, ..., -0.00298271,\n         0.99702445, -0.00298466],\n       [-0.00170379,  0.03258747,  0.03528622, ..., -0.00299146,\n        -0.00298421,  0.99700656]])"
     },
     "execution_count": 46,
     "metadata": {},
     "output_type": "execute_result"
    }
   ],
   "source": [
    "u2"
   ],
   "metadata": {
    "collapsed": false,
    "ExecuteTime": {
     "end_time": "2023-11-27T09:13:14.612385Z",
     "start_time": "2023-11-27T09:13:14.578991900Z"
    }
   },
   "id": "32060bf6c63d75c3"
  },
  {
   "cell_type": "code",
   "execution_count": 47,
   "outputs": [
    {
     "data": {
      "text/plain": "array([584.63402402, 320.52764236, 161.66981734,   5.71474474,\n         4.21237766])"
     },
     "execution_count": 47,
     "metadata": {},
     "output_type": "execute_result"
    }
   ],
   "source": [
    "s2"
   ],
   "metadata": {
    "collapsed": false,
    "ExecuteTime": {
     "end_time": "2023-11-27T09:13:17.587208300Z",
     "start_time": "2023-11-27T09:13:17.554445400Z"
    }
   },
   "id": "47fc3af02543b955"
  },
  {
   "cell_type": "code",
   "execution_count": 48,
   "outputs": [
    {
     "data": {
      "text/plain": "array([[-1.06600530e-02, -9.96453844e-01, -8.30624537e-02,\n        -8.97931896e-04, -8.11927405e-03],\n       [ 4.82019000e-01, -7.81206913e-02,  8.72036354e-01,\n         3.88535216e-03,  3.30506078e-02],\n       [-8.76089936e-01, -3.08630034e-02,  4.80740696e-01,\n         5.71982320e-03,  1.92240992e-02],\n       [-3.21746923e-03,  1.15089670e-03,  1.19812261e-02,\n        -9.88567280e-01, -1.50264788e-01],\n       [-3.45180803e-04,  4.80050958e-03,  3.73906326e-02,\n         1.50619104e-01, -9.87872797e-01]])"
     },
     "execution_count": 48,
     "metadata": {},
     "output_type": "execute_result"
    }
   ],
   "source": [
    "vt2"
   ],
   "metadata": {
    "collapsed": false,
    "ExecuteTime": {
     "end_time": "2023-11-27T09:13:25.417134600Z",
     "start_time": "2023-11-27T09:13:25.392351300Z"
    }
   },
   "id": "3c3fc9972ba0103b"
  },
  {
   "cell_type": "code",
   "execution_count": 49,
   "outputs": [
    {
     "data": {
      "text/plain": "array([3.41796942e+05, 1.02737970e+05, 2.61371298e+04, 3.26583074e+01,\n       1.77441256e+01])"
     },
     "execution_count": 49,
     "metadata": {},
     "output_type": "execute_result"
    }
   ],
   "source": [
    "np.square(s2)"
   ],
   "metadata": {
    "collapsed": false,
    "ExecuteTime": {
     "end_time": "2023-11-27T09:14:46.171388Z",
     "start_time": "2023-11-27T09:14:46.145641700Z"
    }
   },
   "id": "4c984598f6366a9c"
  },
  {
   "cell_type": "code",
   "execution_count": null,
   "outputs": [],
   "source": [],
   "metadata": {
    "collapsed": false
   },
   "id": "ad198e9bf515c268"
  }
 ],
 "metadata": {
  "kernelspec": {
   "display_name": "Python 3",
   "language": "python",
   "name": "python3"
  },
  "language_info": {
   "codemirror_mode": {
    "name": "ipython",
    "version": 2
   },
   "file_extension": ".py",
   "mimetype": "text/x-python",
   "name": "python",
   "nbconvert_exporter": "python",
   "pygments_lexer": "ipython2",
   "version": "2.7.6"
  }
 },
 "nbformat": 4,
 "nbformat_minor": 5
}
