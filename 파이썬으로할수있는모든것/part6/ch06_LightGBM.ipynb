{
 "cells": [
  {
   "cell_type": "markdown",
   "metadata": {
    "collapsed": true,
    "pycharm": {
     "name": "#%% md\n"
    }
   },
   "source": [
    "# LightGBM: Credit Score 예측모델 만들기\n",
    "\n",
    "## 데이터 살펴보기"
   ]
  },
  {
   "cell_type": "code",
   "execution_count": 1,
   "outputs": [],
   "source": [
    "import re\n",
    "\n",
    "import pandas as pd\n",
    "import numpy as np\n",
    "import matplotlib.pyplot as plt\n",
    "import seaborn as sns"
   ],
   "metadata": {
    "collapsed": false,
    "pycharm": {
     "name": "#%%\n"
    }
   }
  },
  {
   "cell_type": "code",
   "execution_count": 2,
   "outputs": [],
   "source": [
    "url = 'https://github.com/DSNote/fastcampus/raw/main/credit.csv'"
   ],
   "metadata": {
    "collapsed": false,
    "pycharm": {
     "name": "#%%\n"
    }
   }
  },
  {
   "cell_type": "code",
   "execution_count": 3,
   "outputs": [
    {
     "data": {
      "text/plain": "       ID Customer_ID             Name  Age          SSN    Occupation  \\\n0  0x1602   CUS_0xd40    Aaron Maashoh   23  821-00-0265     Scientist   \n1  0x160e  CUS_0x21b1  Rick Rothackerj  28_  004-07-5839       _______   \n2  0x161a  CUS_0x2dbc           Langep   34  486-85-3974       _______   \n3  0x1626  CUS_0xb891           Jasond   54  072-31-6145  Entrepreneur   \n4  0x1632  CUS_0x1cdb           Deepaa   21  615-06-7821     Developer   \n\n  Annual_Income  Num_Bank_Accounts  Num_Credit_Card  Interest_Rate  ...  \\\n0      19114.12                  3                4              3  ...   \n1      34847.84                  2                4              6  ...   \n2     143162.64                  1                5              8  ...   \n3      30689.89                  2                5              4  ...   \n4     35547.71_                  7                5              5  ...   \n\n  Num_Credit_Inquiries Outstanding_Debt  Credit_Utilization_Ratio  \\\n0                  4.0           809.98                 26.822620   \n1                  2.0           605.03                 24.464031   \n2                  3.0          1303.01                 28.616735   \n3                  4.0           632.46                 26.544229   \n4                  4.0           943.86                 39.797764   \n\n      Credit_History_Age  Payment_of_Min_Amount Total_EMI_per_month  \\\n0  22 Years and 1 Months                     No           49.574949   \n1  26 Years and 7 Months                     No           18.816215   \n2  17 Years and 9 Months                     No          246.992320   \n3  17 Years and 3 Months                     No           16.415452   \n4  30 Years and 8 Months                    Yes            0.000000   \n\n   Amount_invested_monthly                Payment_Behaviour Monthly_Balance  \\\n0              80.41529544  High_spent_Small_value_payments      312.494089   \n1              104.2918252   Low_spent_Small_value_payments      470.690627   \n2              168.4137027                           !@9#%8     1043.315978   \n3              81.22885871   Low_spent_Large_value_payments      433.604773   \n4              276.7253943                           !@9#%8      288.605522   \n\n   Credit_Score  \n0          Good  \n1      Standard  \n2          Good  \n3      Standard  \n4      Standard  \n\n[5 rows x 24 columns]",
      "text/html": "<div>\n<style scoped>\n    .dataframe tbody tr th:only-of-type {\n        vertical-align: middle;\n    }\n\n    .dataframe tbody tr th {\n        vertical-align: top;\n    }\n\n    .dataframe thead th {\n        text-align: right;\n    }\n</style>\n<table border=\"1\" class=\"dataframe\">\n  <thead>\n    <tr style=\"text-align: right;\">\n      <th></th>\n      <th>ID</th>\n      <th>Customer_ID</th>\n      <th>Name</th>\n      <th>Age</th>\n      <th>SSN</th>\n      <th>Occupation</th>\n      <th>Annual_Income</th>\n      <th>Num_Bank_Accounts</th>\n      <th>Num_Credit_Card</th>\n      <th>Interest_Rate</th>\n      <th>...</th>\n      <th>Num_Credit_Inquiries</th>\n      <th>Outstanding_Debt</th>\n      <th>Credit_Utilization_Ratio</th>\n      <th>Credit_History_Age</th>\n      <th>Payment_of_Min_Amount</th>\n      <th>Total_EMI_per_month</th>\n      <th>Amount_invested_monthly</th>\n      <th>Payment_Behaviour</th>\n      <th>Monthly_Balance</th>\n      <th>Credit_Score</th>\n    </tr>\n  </thead>\n  <tbody>\n    <tr>\n      <th>0</th>\n      <td>0x1602</td>\n      <td>CUS_0xd40</td>\n      <td>Aaron Maashoh</td>\n      <td>23</td>\n      <td>821-00-0265</td>\n      <td>Scientist</td>\n      <td>19114.12</td>\n      <td>3</td>\n      <td>4</td>\n      <td>3</td>\n      <td>...</td>\n      <td>4.0</td>\n      <td>809.98</td>\n      <td>26.822620</td>\n      <td>22 Years and 1 Months</td>\n      <td>No</td>\n      <td>49.574949</td>\n      <td>80.41529544</td>\n      <td>High_spent_Small_value_payments</td>\n      <td>312.494089</td>\n      <td>Good</td>\n    </tr>\n    <tr>\n      <th>1</th>\n      <td>0x160e</td>\n      <td>CUS_0x21b1</td>\n      <td>Rick Rothackerj</td>\n      <td>28_</td>\n      <td>004-07-5839</td>\n      <td>_______</td>\n      <td>34847.84</td>\n      <td>2</td>\n      <td>4</td>\n      <td>6</td>\n      <td>...</td>\n      <td>2.0</td>\n      <td>605.03</td>\n      <td>24.464031</td>\n      <td>26 Years and 7 Months</td>\n      <td>No</td>\n      <td>18.816215</td>\n      <td>104.2918252</td>\n      <td>Low_spent_Small_value_payments</td>\n      <td>470.690627</td>\n      <td>Standard</td>\n    </tr>\n    <tr>\n      <th>2</th>\n      <td>0x161a</td>\n      <td>CUS_0x2dbc</td>\n      <td>Langep</td>\n      <td>34</td>\n      <td>486-85-3974</td>\n      <td>_______</td>\n      <td>143162.64</td>\n      <td>1</td>\n      <td>5</td>\n      <td>8</td>\n      <td>...</td>\n      <td>3.0</td>\n      <td>1303.01</td>\n      <td>28.616735</td>\n      <td>17 Years and 9 Months</td>\n      <td>No</td>\n      <td>246.992320</td>\n      <td>168.4137027</td>\n      <td>!@9#%8</td>\n      <td>1043.315978</td>\n      <td>Good</td>\n    </tr>\n    <tr>\n      <th>3</th>\n      <td>0x1626</td>\n      <td>CUS_0xb891</td>\n      <td>Jasond</td>\n      <td>54</td>\n      <td>072-31-6145</td>\n      <td>Entrepreneur</td>\n      <td>30689.89</td>\n      <td>2</td>\n      <td>5</td>\n      <td>4</td>\n      <td>...</td>\n      <td>4.0</td>\n      <td>632.46</td>\n      <td>26.544229</td>\n      <td>17 Years and 3 Months</td>\n      <td>No</td>\n      <td>16.415452</td>\n      <td>81.22885871</td>\n      <td>Low_spent_Large_value_payments</td>\n      <td>433.604773</td>\n      <td>Standard</td>\n    </tr>\n    <tr>\n      <th>4</th>\n      <td>0x1632</td>\n      <td>CUS_0x1cdb</td>\n      <td>Deepaa</td>\n      <td>21</td>\n      <td>615-06-7821</td>\n      <td>Developer</td>\n      <td>35547.71_</td>\n      <td>7</td>\n      <td>5</td>\n      <td>5</td>\n      <td>...</td>\n      <td>4.0</td>\n      <td>943.86</td>\n      <td>39.797764</td>\n      <td>30 Years and 8 Months</td>\n      <td>Yes</td>\n      <td>0.000000</td>\n      <td>276.7253943</td>\n      <td>!@9#%8</td>\n      <td>288.605522</td>\n      <td>Standard</td>\n    </tr>\n  </tbody>\n</table>\n<p>5 rows × 24 columns</p>\n</div>"
     },
     "execution_count": 3,
     "metadata": {},
     "output_type": "execute_result"
    }
   ],
   "source": [
    "credit_df = pd.read_csv(url)\n",
    "credit_df.head()"
   ],
   "metadata": {
    "collapsed": false,
    "pycharm": {
     "name": "#%%\n"
    }
   }
  },
  {
   "cell_type": "code",
   "execution_count": 4,
   "outputs": [
    {
     "name": "stdout",
     "output_type": "stream",
     "text": [
      "<class 'pandas.core.frame.DataFrame'>\n",
      "RangeIndex: 12500 entries, 0 to 12499\n",
      "Data columns (total 20 columns):\n",
      " #   Column                    Non-Null Count  Dtype  \n",
      "---  ------                    --------------  -----  \n",
      " 0   Age                       12500 non-null  object \n",
      " 1   Occupation                12500 non-null  object \n",
      " 2   Annual_Income             12500 non-null  object \n",
      " 3   Num_Bank_Accounts         12500 non-null  int64  \n",
      " 4   Num_Credit_Card           12500 non-null  int64  \n",
      " 5   Interest_Rate             12500 non-null  int64  \n",
      " 6   Num_of_Loan               12500 non-null  object \n",
      " 7   Type_of_Loan              11074 non-null  object \n",
      " 8   Delay_from_due_date       12500 non-null  int64  \n",
      " 9   Num_of_Delayed_Payment    11657 non-null  object \n",
      " 10  Num_Credit_Inquiries      12264 non-null  float64\n",
      " 11  Outstanding_Debt          12500 non-null  object \n",
      " 12  Credit_Utilization_Ratio  12500 non-null  float64\n",
      " 13  Credit_History_Age        11387 non-null  object \n",
      " 14  Payment_of_Min_Amount     12500 non-null  object \n",
      " 15  Total_EMI_per_month       12500 non-null  float64\n",
      " 16  Amount_invested_monthly   11935 non-null  object \n",
      " 17  Payment_Behaviour         12500 non-null  object \n",
      " 18  Monthly_Balance           12366 non-null  float64\n",
      " 19  Credit_Score              12500 non-null  object \n",
      "dtypes: float64(4), int64(4), object(12)\n",
      "memory usage: 1.9+ MB\n"
     ]
    }
   ],
   "source": [
    "credit_df = credit_df.drop(['ID', 'Customer_ID', 'Name', 'SSN'], axis=1)\n",
    "credit_df.info()"
   ],
   "metadata": {
    "collapsed": false,
    "pycharm": {
     "name": "#%%\n"
    }
   }
  },
  {
   "cell_type": "code",
   "execution_count": 5,
   "outputs": [
    {
     "data": {
      "text/plain": "Standard    6943\nPoor        3582\nGood        1975\nName: Credit_Score, dtype: int64"
     },
     "execution_count": 5,
     "metadata": {},
     "output_type": "execute_result"
    }
   ],
   "source": [
    "credit_df['Credit_Score'].value_counts()"
   ],
   "metadata": {
    "collapsed": false,
    "pycharm": {
     "name": "#%%\n"
    }
   }
  },
  {
   "cell_type": "code",
   "execution_count": 6,
   "outputs": [
    {
     "data": {
      "text/plain": "0    2\n1    1\n2    2\n3    1\n4    1\nName: Credit_Score, dtype: int64"
     },
     "execution_count": 6,
     "metadata": {},
     "output_type": "execute_result"
    }
   ],
   "source": [
    "credit_df['Credit_Score'] = credit_df['Credit_Score'].replace({'Poor':0, 'Standard':1, 'Good':2})\n",
    "credit_df['Credit_Score'].head()"
   ],
   "metadata": {
    "collapsed": false,
    "pycharm": {
     "name": "#%%\n"
    }
   }
  },
  {
   "cell_type": "code",
   "execution_count": 7,
   "outputs": [
    {
     "data": {
      "text/plain": "       Num_Bank_Accounts  Num_Credit_Card  Interest_Rate  Delay_from_due_date  \\\ncount       12500.000000     12500.000000    12500.00000         12500.000000   \nmean           17.275120        21.647680       69.46520            21.051440   \nstd           118.518214       123.789969      455.95698            14.859994   \nmin             0.000000         1.000000        1.00000            -5.000000   \n25%             3.000000         4.000000        8.00000            10.000000   \n50%             6.000000         5.000000       13.00000            18.000000   \n75%             7.000000         7.000000       20.00000            28.000000   \nmax          1779.000000      1479.000000     5788.00000            67.000000   \n\n       Num_Credit_Inquiries  Credit_Utilization_Ratio  Total_EMI_per_month  \\\ncount          12264.000000              12500.000000         12500.000000   \nmean              24.591650                 32.291949          1303.781040   \nstd              183.422458                  5.084327          8118.261086   \nmin                0.000000                 20.992914             0.000000   \n25%                2.000000                 28.110034            29.128806   \n50%                4.000000                 32.297912            66.372879   \n75%                8.000000                 36.458660           149.904496   \nmax             2592.000000                 49.564519         82122.000000   \n\n       Monthly_Balance  Credit_Score  \ncount     12366.000000  12500.000000  \nmean        405.815391      0.871440  \nstd         218.136964      0.654268  \nmin           0.088628      0.000000  \n25%         271.785749      0.000000  \n50%         337.169588      1.000000  \n75%         475.222487      1.000000  \nmax        1602.040519      2.000000  ",
      "text/html": "<div>\n<style scoped>\n    .dataframe tbody tr th:only-of-type {\n        vertical-align: middle;\n    }\n\n    .dataframe tbody tr th {\n        vertical-align: top;\n    }\n\n    .dataframe thead th {\n        text-align: right;\n    }\n</style>\n<table border=\"1\" class=\"dataframe\">\n  <thead>\n    <tr style=\"text-align: right;\">\n      <th></th>\n      <th>Num_Bank_Accounts</th>\n      <th>Num_Credit_Card</th>\n      <th>Interest_Rate</th>\n      <th>Delay_from_due_date</th>\n      <th>Num_Credit_Inquiries</th>\n      <th>Credit_Utilization_Ratio</th>\n      <th>Total_EMI_per_month</th>\n      <th>Monthly_Balance</th>\n      <th>Credit_Score</th>\n    </tr>\n  </thead>\n  <tbody>\n    <tr>\n      <th>count</th>\n      <td>12500.000000</td>\n      <td>12500.000000</td>\n      <td>12500.00000</td>\n      <td>12500.000000</td>\n      <td>12264.000000</td>\n      <td>12500.000000</td>\n      <td>12500.000000</td>\n      <td>12366.000000</td>\n      <td>12500.000000</td>\n    </tr>\n    <tr>\n      <th>mean</th>\n      <td>17.275120</td>\n      <td>21.647680</td>\n      <td>69.46520</td>\n      <td>21.051440</td>\n      <td>24.591650</td>\n      <td>32.291949</td>\n      <td>1303.781040</td>\n      <td>405.815391</td>\n      <td>0.871440</td>\n    </tr>\n    <tr>\n      <th>std</th>\n      <td>118.518214</td>\n      <td>123.789969</td>\n      <td>455.95698</td>\n      <td>14.859994</td>\n      <td>183.422458</td>\n      <td>5.084327</td>\n      <td>8118.261086</td>\n      <td>218.136964</td>\n      <td>0.654268</td>\n    </tr>\n    <tr>\n      <th>min</th>\n      <td>0.000000</td>\n      <td>1.000000</td>\n      <td>1.00000</td>\n      <td>-5.000000</td>\n      <td>0.000000</td>\n      <td>20.992914</td>\n      <td>0.000000</td>\n      <td>0.088628</td>\n      <td>0.000000</td>\n    </tr>\n    <tr>\n      <th>25%</th>\n      <td>3.000000</td>\n      <td>4.000000</td>\n      <td>8.00000</td>\n      <td>10.000000</td>\n      <td>2.000000</td>\n      <td>28.110034</td>\n      <td>29.128806</td>\n      <td>271.785749</td>\n      <td>0.000000</td>\n    </tr>\n    <tr>\n      <th>50%</th>\n      <td>6.000000</td>\n      <td>5.000000</td>\n      <td>13.00000</td>\n      <td>18.000000</td>\n      <td>4.000000</td>\n      <td>32.297912</td>\n      <td>66.372879</td>\n      <td>337.169588</td>\n      <td>1.000000</td>\n    </tr>\n    <tr>\n      <th>75%</th>\n      <td>7.000000</td>\n      <td>7.000000</td>\n      <td>20.00000</td>\n      <td>28.000000</td>\n      <td>8.000000</td>\n      <td>36.458660</td>\n      <td>149.904496</td>\n      <td>475.222487</td>\n      <td>1.000000</td>\n    </tr>\n    <tr>\n      <th>max</th>\n      <td>1779.000000</td>\n      <td>1479.000000</td>\n      <td>5788.00000</td>\n      <td>67.000000</td>\n      <td>2592.000000</td>\n      <td>49.564519</td>\n      <td>82122.000000</td>\n      <td>1602.040519</td>\n      <td>2.000000</td>\n    </tr>\n  </tbody>\n</table>\n</div>"
     },
     "execution_count": 7,
     "metadata": {},
     "output_type": "execute_result"
    }
   ],
   "source": [
    "credit_df.describe()"
   ],
   "metadata": {
    "collapsed": false,
    "pycharm": {
     "name": "#%%\n"
    }
   }
  },
  {
   "cell_type": "code",
   "execution_count": 8,
   "outputs": [
    {
     "data": {
      "text/plain": "<Figure size 640x480 with 1 Axes>",
      "image/png": "[encoded data removed]"
     },
     "metadata": {},
     "output_type": "display_data"
    }
   ],
   "source": [
    "sns.barplot(data=credit_df, x='Payment_of_Min_Amount', y='Credit_Score')\n",
    "plt.show()"
   ],
   "metadata": {
    "collapsed": false,
    "pycharm": {
     "name": "#%%\n"
    }
   }
  },
  {
   "cell_type": "code",
   "execution_count": 9,
   "outputs": [
    {
     "data": {
      "text/plain": "<Figure size 1500x500 with 1 Axes>",
      "image/png": "[encoded data removed]"
     },
     "metadata": {},
     "output_type": "display_data"
    }
   ],
   "source": [
    "plt.figure(figsize=(15,5))\n",
    "sns.barplot(data=credit_df, x='Occupation', y='Credit_Score')\n",
    "plt.xticks(rotation=45)\n",
    "plt.show()"
   ],
   "metadata": {
    "collapsed": false,
    "pycharm": {
     "name": "#%%\n"
    }
   }
  },
  {
   "cell_type": "code",
   "execution_count": 10,
   "outputs": [
    {
     "data": {
      "text/plain": "<Figure size 1500x1000 with 2 Axes>",
      "image/png": "[encoded data removed]"
     },
     "metadata": {},
     "output_type": "display_data"
    }
   ],
   "source": [
    "plt.figure(figsize=(15,10))\n",
    "sns.heatmap(credit_df.corr(numeric_only=True), cmap='coolwarm', vmin=-1, vmax=1, annot=True)\n",
    "plt.show()"
   ],
   "metadata": {
    "collapsed": false,
    "pycharm": {
     "name": "#%%\n"
    }
   }
  },
  {
   "cell_type": "code",
   "execution_count": 11,
   "outputs": [],
   "source": [
    "## Data Cleaning - 숫자 데이터 처리"
   ],
   "metadata": {
    "collapsed": false,
    "pycharm": {
     "name": "#%%\n"
    }
   }
  },
  {
   "cell_type": "code",
   "execution_count": 12,
   "outputs": [
    {
     "name": "stdout",
     "output_type": "stream",
     "text": [
      "<class 'pandas.core.frame.DataFrame'>\n",
      "RangeIndex: 12500 entries, 0 to 12499\n",
      "Data columns (total 20 columns):\n",
      " #   Column                    Non-Null Count  Dtype  \n",
      "---  ------                    --------------  -----  \n",
      " 0   Age                       12500 non-null  object \n",
      " 1   Occupation                12500 non-null  object \n",
      " 2   Annual_Income             12500 non-null  object \n",
      " 3   Num_Bank_Accounts         12500 non-null  int64  \n",
      " 4   Num_Credit_Card           12500 non-null  int64  \n",
      " 5   Interest_Rate             12500 non-null  int64  \n",
      " 6   Num_of_Loan               12500 non-null  object \n",
      " 7   Type_of_Loan              11074 non-null  object \n",
      " 8   Delay_from_due_date       12500 non-null  int64  \n",
      " 9   Num_of_Delayed_Payment    11657 non-null  object \n",
      " 10  Num_Credit_Inquiries      12264 non-null  float64\n",
      " 11  Outstanding_Debt          12500 non-null  object \n",
      " 12  Credit_Utilization_Ratio  12500 non-null  float64\n",
      " 13  Credit_History_Age        11387 non-null  object \n",
      " 14  Payment_of_Min_Amount     12500 non-null  object \n",
      " 15  Total_EMI_per_month       12500 non-null  float64\n",
      " 16  Amount_invested_monthly   11935 non-null  object \n",
      " 17  Payment_Behaviour         12500 non-null  object \n",
      " 18  Monthly_Balance           12366 non-null  float64\n",
      " 19  Credit_Score              12500 non-null  int64  \n",
      "dtypes: float64(4), int64(5), object(11)\n",
      "memory usage: 1.9+ MB\n"
     ]
    }
   ],
   "source": [
    "credit_df.info()"
   ],
   "metadata": {
    "collapsed": false,
    "pycharm": {
     "name": "#%%\n"
    }
   }
  },
  {
   "cell_type": "code",
   "execution_count": 13,
   "outputs": [
    {
     "data": {
      "text/plain": "   Age    Occupation Annual_Income  Num_Bank_Accounts  Num_Credit_Card  \\\n0   23     Scientist      19114.12                  3                4   \n1  28_       _______      34847.84                  2                4   \n2   34       _______     143162.64                  1                5   \n3   54  Entrepreneur      30689.89                  2                5   \n4   21     Developer     35547.71_                  7                5   \n\n   Interest_Rate Num_of_Loan  \\\n0              3           4   \n1              6           1   \n2              8           3   \n3              4           1   \n4              5           0   \n\n                                        Type_of_Loan  Delay_from_due_date  \\\n0  Auto Loan, Credit-Builder Loan, Personal Loan,...                    3   \n1                                Credit-Builder Loan                    3   \n2            Auto Loan, Auto Loan, and Not Specified                    5   \n3                                      Not Specified                    0   \n4                                                NaN                    5   \n\n  Num_of_Delayed_Payment  Num_Credit_Inquiries Outstanding_Debt  \\\n0                      7                   4.0           809.98   \n1                      4                   2.0           605.03   \n2                      8                   3.0          1303.01   \n3                      6                   4.0           632.46   \n4                    NaN                   4.0           943.86   \n\n   Credit_Utilization_Ratio     Credit_History_Age Payment_of_Min_Amount  \\\n0                 26.822620  22 Years and 1 Months                    No   \n1                 24.464031  26 Years and 7 Months                    No   \n2                 28.616735  17 Years and 9 Months                    No   \n3                 26.544229  17 Years and 3 Months                    No   \n4                 39.797764  30 Years and 8 Months                   Yes   \n\n   Total_EMI_per_month Amount_invested_monthly  \\\n0            49.574949             80.41529544   \n1            18.816215             104.2918252   \n2           246.992320             168.4137027   \n3            16.415452             81.22885871   \n4             0.000000             276.7253943   \n\n                 Payment_Behaviour  Monthly_Balance  Credit_Score  \n0  High_spent_Small_value_payments       312.494089             2  \n1   Low_spent_Small_value_payments       470.690627             1  \n2                           !@9#%8      1043.315978             2  \n3   Low_spent_Large_value_payments       433.604773             1  \n4                           !@9#%8       288.605522             1  ",
      "text/html": "<div>\n<style scoped>\n    .dataframe tbody tr th:only-of-type {\n        vertical-align: middle;\n    }\n\n    .dataframe tbody tr th {\n        vertical-align: top;\n    }\n\n    .dataframe thead th {\n        text-align: right;\n    }\n</style>\n<table border=\"1\" class=\"dataframe\">\n  <thead>\n    <tr style=\"text-align: right;\">\n      <th></th>\n      <th>Age</th>\n      <th>Occupation</th>\n      <th>Annual_Income</th>\n      <th>Num_Bank_Accounts</th>\n      <th>Num_Credit_Card</th>\n      <th>Interest_Rate</th>\n      <th>Num_of_Loan</th>\n      <th>Type_of_Loan</th>\n      <th>Delay_from_due_date</th>\n      <th>Num_of_Delayed_Payment</th>\n      <th>Num_Credit_Inquiries</th>\n      <th>Outstanding_Debt</th>\n      <th>Credit_Utilization_Ratio</th>\n      <th>Credit_History_Age</th>\n      <th>Payment_of_Min_Amount</th>\n      <th>Total_EMI_per_month</th>\n      <th>Amount_invested_monthly</th>\n      <th>Payment_Behaviour</th>\n      <th>Monthly_Balance</th>\n      <th>Credit_Score</th>\n    </tr>\n  </thead>\n  <tbody>\n    <tr>\n      <th>0</th>\n      <td>23</td>\n      <td>Scientist</td>\n      <td>19114.12</td>\n      <td>3</td>\n      <td>4</td>\n      <td>3</td>\n      <td>4</td>\n      <td>Auto Loan, Credit-Builder Loan, Personal Loan,...</td>\n      <td>3</td>\n      <td>7</td>\n      <td>4.0</td>\n      <td>809.98</td>\n      <td>26.822620</td>\n      <td>22 Years and 1 Months</td>\n      <td>No</td>\n      <td>49.574949</td>\n      <td>80.41529544</td>\n      <td>High_spent_Small_value_payments</td>\n      <td>312.494089</td>\n      <td>2</td>\n    </tr>\n    <tr>\n      <th>1</th>\n      <td>28_</td>\n      <td>_______</td>\n      <td>34847.84</td>\n      <td>2</td>\n      <td>4</td>\n      <td>6</td>\n      <td>1</td>\n      <td>Credit-Builder Loan</td>\n      <td>3</td>\n      <td>4</td>\n      <td>2.0</td>\n      <td>605.03</td>\n      <td>24.464031</td>\n      <td>26 Years and 7 Months</td>\n      <td>No</td>\n      <td>18.816215</td>\n      <td>104.2918252</td>\n      <td>Low_spent_Small_value_payments</td>\n      <td>470.690627</td>\n      <td>1</td>\n    </tr>\n    <tr>\n      <th>2</th>\n      <td>34</td>\n      <td>_______</td>\n      <td>143162.64</td>\n      <td>1</td>\n      <td>5</td>\n      <td>8</td>\n      <td>3</td>\n      <td>Auto Loan, Auto Loan, and Not Specified</td>\n      <td>5</td>\n      <td>8</td>\n      <td>3.0</td>\n      <td>1303.01</td>\n      <td>28.616735</td>\n      <td>17 Years and 9 Months</td>\n      <td>No</td>\n      <td>246.992320</td>\n      <td>168.4137027</td>\n      <td>!@9#%8</td>\n      <td>1043.315978</td>\n      <td>2</td>\n    </tr>\n    <tr>\n      <th>3</th>\n      <td>54</td>\n      <td>Entrepreneur</td>\n      <td>30689.89</td>\n      <td>2</td>\n      <td>5</td>\n      <td>4</td>\n      <td>1</td>\n      <td>Not Specified</td>\n      <td>0</td>\n      <td>6</td>\n      <td>4.0</td>\n      <td>632.46</td>\n      <td>26.544229</td>\n      <td>17 Years and 3 Months</td>\n      <td>No</td>\n      <td>16.415452</td>\n      <td>81.22885871</td>\n      <td>Low_spent_Large_value_payments</td>\n      <td>433.604773</td>\n      <td>1</td>\n    </tr>\n    <tr>\n      <th>4</th>\n      <td>21</td>\n      <td>Developer</td>\n      <td>35547.71_</td>\n      <td>7</td>\n      <td>5</td>\n      <td>5</td>\n      <td>0</td>\n      <td>NaN</td>\n      <td>5</td>\n      <td>NaN</td>\n      <td>4.0</td>\n      <td>943.86</td>\n      <td>39.797764</td>\n      <td>30 Years and 8 Months</td>\n      <td>Yes</td>\n      <td>0.000000</td>\n      <td>276.7253943</td>\n      <td>!@9#%8</td>\n      <td>288.605522</td>\n      <td>1</td>\n    </tr>\n  </tbody>\n</table>\n</div>"
     },
     "execution_count": 13,
     "metadata": {},
     "output_type": "execute_result"
    }
   ],
   "source": [
    "credit_df.head()"
   ],
   "metadata": {
    "collapsed": false,
    "pycharm": {
     "name": "#%%\n"
    }
   }
  },
  {
   "cell_type": "code",
   "execution_count": 14,
   "outputs": [
    {
     "data": {
      "text/plain": "['Age',\n 'Occupation',\n 'Annual_Income',\n 'Num_of_Loan',\n 'Type_of_Loan',\n 'Num_of_Delayed_Payment',\n 'Outstanding_Debt',\n 'Credit_History_Age',\n 'Payment_of_Min_Amount',\n 'Amount_invested_monthly',\n 'Payment_Behaviour']"
     },
     "execution_count": 14,
     "metadata": {},
     "output_type": "execute_result"
    }
   ],
   "source": [
    "list(credit_df.columns[credit_df.dtypes=='object'])"
   ],
   "metadata": {
    "collapsed": false,
    "pycharm": {
     "name": "#%%\n"
    }
   }
  },
  {
   "cell_type": "code",
   "execution_count": 15,
   "outputs": [],
   "source": [
    "numeric_objs = ['Age', 'Annual_Income', 'Num_of_Loan', 'Num_of_Delayed_Payment', 'Outstanding_Debt', 'Amount_invested_monthly']"
   ],
   "metadata": {
    "collapsed": false,
    "pycharm": {
     "name": "#%%\n"
    }
   }
  },
  {
   "cell_type": "code",
   "execution_count": 16,
   "outputs": [
    {
     "data": {
      "text/plain": "     0\n0  5.5\n1  1.1\n2  1.5\n3    2\n4  NaN",
      "text/html": "<div>\n<style scoped>\n    .dataframe tbody tr th:only-of-type {\n        vertical-align: middle;\n    }\n\n    .dataframe tbody tr th {\n        vertical-align: top;\n    }\n\n    .dataframe thead th {\n        text-align: right;\n    }\n</style>\n<table border=\"1\" class=\"dataframe\">\n  <thead>\n    <tr style=\"text-align: right;\">\n      <th></th>\n      <th>0</th>\n    </tr>\n  </thead>\n  <tbody>\n    <tr>\n      <th>0</th>\n      <td>5.5</td>\n    </tr>\n    <tr>\n      <th>1</th>\n      <td>1.1</td>\n    </tr>\n    <tr>\n      <th>2</th>\n      <td>1.5</td>\n    </tr>\n    <tr>\n      <th>3</th>\n      <td>2</td>\n    </tr>\n    <tr>\n      <th>4</th>\n      <td>NaN</td>\n    </tr>\n  </tbody>\n</table>\n</div>"
     },
     "execution_count": 16,
     "metadata": {},
     "output_type": "execute_result"
    }
   ],
   "source": [
    "# series 데이터를 만들어 추출 테스트\n",
    "series = pd.Series(['5.5 g', '1.1', '1.5', '2', 'abc' ])\n",
    "series.str.extract(r'([0-9]+.?[0-9]?)')"
   ],
   "metadata": {
    "collapsed": false,
    "pycharm": {
     "name": "#%%\n"
    }
   }
  },
  {
   "cell_type": "code",
   "execution_count": 17,
   "outputs": [
    {
     "data": {
      "text/plain": "     0\n0  5.5\n1  1.1\n2  1.5\n3    2\n4  NaN\n5    1\n6   23",
      "text/html": "<div>\n<style scoped>\n    .dataframe tbody tr th:only-of-type {\n        vertical-align: middle;\n    }\n\n    .dataframe tbody tr th {\n        vertical-align: top;\n    }\n\n    .dataframe thead th {\n        text-align: right;\n    }\n</style>\n<table border=\"1\" class=\"dataframe\">\n  <thead>\n    <tr style=\"text-align: right;\">\n      <th></th>\n      <th>0</th>\n    </tr>\n  </thead>\n  <tbody>\n    <tr>\n      <th>0</th>\n      <td>5.5</td>\n    </tr>\n    <tr>\n      <th>1</th>\n      <td>1.1</td>\n    </tr>\n    <tr>\n      <th>2</th>\n      <td>1.5</td>\n    </tr>\n    <tr>\n      <th>3</th>\n      <td>2</td>\n    </tr>\n    <tr>\n      <th>4</th>\n      <td>NaN</td>\n    </tr>\n    <tr>\n      <th>5</th>\n      <td>1</td>\n    </tr>\n    <tr>\n      <th>6</th>\n      <td>23</td>\n    </tr>\n  </tbody>\n</table>\n</div>"
     },
     "execution_count": 17,
     "metadata": {},
     "output_type": "execute_result"
    }
   ],
   "source": [
    "series = pd.Series(['5.5 g', '1.1', '1.5', '2', 'abc', '1.', '23'])\n",
    "series.str.extract(r'(\\d+.\\d+|\\d+)')"
   ],
   "metadata": {
    "collapsed": false,
    "pycharm": {
     "name": "#%%\n"
    }
   }
  },
  {
   "cell_type": "code",
   "execution_count": 18,
   "outputs": [
    {
     "name": "stdout",
     "output_type": "stream",
     "text": [
      "<class 'pandas.core.frame.DataFrame'>\n",
      "RangeIndex: 12500 entries, 0 to 12499\n",
      "Data columns (total 20 columns):\n",
      " #   Column                    Non-Null Count  Dtype  \n",
      "---  ------                    --------------  -----  \n",
      " 0   Age                       12500 non-null  int64  \n",
      " 1   Occupation                12500 non-null  object \n",
      " 2   Annual_Income             12500 non-null  float64\n",
      " 3   Num_Bank_Accounts         12500 non-null  int64  \n",
      " 4   Num_Credit_Card           12500 non-null  int64  \n",
      " 5   Interest_Rate             12500 non-null  int64  \n",
      " 6   Num_of_Loan               12500 non-null  int64  \n",
      " 7   Type_of_Loan              11074 non-null  object \n",
      " 8   Delay_from_due_date       12500 non-null  int64  \n",
      " 9   Num_of_Delayed_Payment    11657 non-null  float64\n",
      " 10  Num_Credit_Inquiries      12264 non-null  float64\n",
      " 11  Outstanding_Debt          12500 non-null  float64\n",
      " 12  Credit_Utilization_Ratio  12500 non-null  float64\n",
      " 13  Credit_History_Age        11387 non-null  object \n",
      " 14  Payment_of_Min_Amount     12500 non-null  object \n",
      " 15  Total_EMI_per_month       12500 non-null  float64\n",
      " 16  Amount_invested_monthly   11935 non-null  float64\n",
      " 17  Payment_Behaviour         12500 non-null  object \n",
      " 18  Monthly_Balance           12366 non-null  float64\n",
      " 19  Credit_Score              12500 non-null  int64  \n",
      "dtypes: float64(8), int64(7), object(5)\n",
      "memory usage: 1.9+ MB\n"
     ]
    }
   ],
   "source": [
    "for o_name in numeric_objs:\n",
    "    credit_df[o_name] = pd.to_numeric(credit_df[o_name].str.extract(r'(\\d+.\\d+|\\d+)', expand=False))\n",
    "credit_df.info()"
   ],
   "metadata": {
    "collapsed": false,
    "pycharm": {
     "name": "#%%\n"
    }
   }
  },
  {
   "cell_type": "code",
   "execution_count": 19,
   "outputs": [
    {
     "data": {
      "text/plain": "0        22 Years and 1 Months\n1        26 Years and 7 Months\n2        17 Years and 9 Months\n3        17 Years and 3 Months\n4        30 Years and 8 Months\n                 ...          \n12495    28 Years and 1 Months\n12496                      NaN\n12497    29 Years and 9 Months\n12498     5 Years and 8 Months\n12499    31 Years and 3 Months\nName: Credit_History_Age, Length: 12500, dtype: object"
     },
     "execution_count": 19,
     "metadata": {},
     "output_type": "execute_result"
    }
   ],
   "source": [
    "credit_df['Credit_History_Age']"
   ],
   "metadata": {
    "collapsed": false,
    "pycharm": {
     "name": "#%%\n"
    }
   }
  },
  {
   "cell_type": "code",
   "execution_count": 20,
   "outputs": [],
   "source": [
    "import re\n",
    "def get_month(s):\n",
    "    if isinstance(s,str):\n",
    "        year, month = re.findall('\\d+', s)\n",
    "        return int(year)*12+int(month)\n",
    "    else:\n",
    "        return np.NaN\n",
    "\n",
    "credit_df['Credit_History_Age'] = credit_df['Credit_History_Age'].apply(get_month)"
   ],
   "metadata": {
    "collapsed": false,
    "pycharm": {
     "name": "#%%\n"
    }
   }
  },
  {
   "cell_type": "code",
   "execution_count": 21,
   "outputs": [],
   "source": [
    "## Data Cleaning - 이상 데이터 처리"
   ],
   "metadata": {
    "collapsed": false,
    "pycharm": {
     "name": "#%%\n"
    }
   }
  },
  {
   "cell_type": "code",
   "execution_count": 21,
   "outputs": [],
   "source": [],
   "metadata": {
    "collapsed": false,
    "pycharm": {
     "name": "#%%\n"
    }
   }
  },
  {
   "cell_type": "code",
   "execution_count": 21,
   "outputs": [],
   "source": [],
   "metadata": {
    "collapsed": false,
    "pycharm": {
     "name": "#%%\n"
    }
   }
  },
  {
   "cell_type": "code",
   "execution_count": 21,
   "outputs": [],
   "source": [],
   "metadata": {
    "collapsed": false,
    "pycharm": {
     "name": "#%%\n"
    }
   }
  },
  {
   "cell_type": "code",
   "execution_count": 21,
   "outputs": [],
   "source": [],
   "metadata": {
    "collapsed": false,
    "pycharm": {
     "name": "#%%\n"
    }
   }
  },
  {
   "cell_type": "code",
   "execution_count": 21,
   "outputs": [],
   "source": [],
   "metadata": {
    "collapsed": false,
    "pycharm": {
     "name": "#%%\n"
    }
   }
  },
  {
   "cell_type": "code",
   "execution_count": 21,
   "outputs": [],
   "source": [],
   "metadata": {
    "collapsed": false,
    "pycharm": {
     "name": "#%%\n"
    }
   }
  },
  {
   "cell_type": "code",
   "execution_count": 21,
   "outputs": [],
   "source": [],
   "metadata": {
    "collapsed": false,
    "pycharm": {
     "name": "#%%\n"
    }
   }
  },
  {
   "cell_type": "code",
   "execution_count": 21,
   "outputs": [],
   "source": [],
   "metadata": {
    "collapsed": false,
    "pycharm": {
     "name": "#%%\n"
    }
   }
  },
  {
   "cell_type": "code",
   "execution_count": 21,
   "outputs": [],
   "source": [],
   "metadata": {
    "collapsed": false,
    "pycharm": {
     "name": "#%%\n"
    }
   }
  },
  {
   "cell_type": "code",
   "execution_count": 21,
   "outputs": [],
   "source": [],
   "metadata": {
    "collapsed": false,
    "pycharm": {
     "name": "#%%\n"
    }
   }
  },
  {
   "cell_type": "code",
   "execution_count": 21,
   "outputs": [],
   "source": [],
   "metadata": {
    "collapsed": false,
    "pycharm": {
     "name": "#%%\n"
    }
   }
  },
  {
   "cell_type": "code",
   "execution_count": 21,
   "outputs": [],
   "source": [],
   "metadata": {
    "collapsed": false,
    "pycharm": {
     "name": "#%%\n"
    }
   }
  },
  {
   "cell_type": "code",
   "execution_count": 21,
   "outputs": [],
   "source": [],
   "metadata": {
    "collapsed": false,
    "pycharm": {
     "name": "#%%\n"
    }
   }
  },
  {
   "cell_type": "code",
   "execution_count": 21,
   "outputs": [],
   "source": [],
   "metadata": {
    "collapsed": false,
    "pycharm": {
     "name": "#%%\n"
    }
   }
  },
  {
   "cell_type": "code",
   "execution_count": 22,
   "outputs": [],
   "source": [
    "## Data Cleaning - 이상 데이터 처리"
   ],
   "metadata": {
    "collapsed": false,
    "pycharm": {
     "name": "#%%\n"
    }
   }
  },
  {
   "cell_type": "code",
   "execution_count": 22,
   "outputs": [],
   "source": [],
   "metadata": {
    "collapsed": false,
    "pycharm": {
     "name": "#%%\n"
    }
   }
  },
  {
   "cell_type": "code",
   "execution_count": 22,
   "outputs": [],
   "source": [],
   "metadata": {
    "collapsed": false,
    "pycharm": {
     "name": "#%%\n"
    }
   }
  },
  {
   "cell_type": "code",
   "execution_count": 22,
   "outputs": [],
   "source": [],
   "metadata": {
    "collapsed": false,
    "pycharm": {
     "name": "#%%\n"
    }
   }
  },
  {
   "cell_type": "code",
   "execution_count": 22,
   "outputs": [],
   "source": [],
   "metadata": {
    "collapsed": false,
    "pycharm": {
     "name": "#%%\n"
    }
   }
  },
  {
   "cell_type": "code",
   "execution_count": 22,
   "outputs": [],
   "source": [],
   "metadata": {
    "collapsed": false,
    "pycharm": {
     "name": "#%%\n"
    }
   }
  },
  {
   "cell_type": "code",
   "execution_count": 23,
   "outputs": [],
   "source": [
    "## 결측치 처리"
   ],
   "metadata": {
    "collapsed": false,
    "pycharm": {
     "name": "#%%\n"
    }
   }
  },
  {
   "cell_type": "code",
   "execution_count": 23,
   "outputs": [],
   "source": [],
   "metadata": {
    "collapsed": false,
    "pycharm": {
     "name": "#%%\n"
    }
   }
  },
  {
   "cell_type": "code",
   "execution_count": 23,
   "outputs": [],
   "source": [],
   "metadata": {
    "collapsed": false,
    "pycharm": {
     "name": "#%%\n"
    }
   }
  },
  {
   "cell_type": "code",
   "execution_count": 23,
   "outputs": [],
   "source": [],
   "metadata": {
    "collapsed": false,
    "pycharm": {
     "name": "#%%\n"
    }
   }
  },
  {
   "cell_type": "code",
   "execution_count": 23,
   "outputs": [],
   "source": [],
   "metadata": {
    "collapsed": false,
    "pycharm": {
     "name": "#%%\n"
    }
   }
  },
  {
   "cell_type": "code",
   "execution_count": 23,
   "outputs": [],
   "source": [],
   "metadata": {
    "collapsed": false,
    "pycharm": {
     "name": "#%%\n"
    }
   }
  },
  {
   "cell_type": "code",
   "execution_count": 24,
   "outputs": [],
   "source": [
    "## 텍스트 데이터 변환"
   ],
   "metadata": {
    "collapsed": false,
    "pycharm": {
     "name": "#%%\n"
    }
   }
  },
  {
   "cell_type": "code",
   "execution_count": 24,
   "outputs": [],
   "source": [],
   "metadata": {
    "collapsed": false,
    "pycharm": {
     "name": "#%%\n"
    }
   }
  },
  {
   "cell_type": "code",
   "execution_count": 24,
   "outputs": [],
   "source": [],
   "metadata": {
    "collapsed": false,
    "pycharm": {
     "name": "#%%\n"
    }
   }
  },
  {
   "cell_type": "code",
   "execution_count": 24,
   "outputs": [],
   "source": [],
   "metadata": {
    "collapsed": false,
    "pycharm": {
     "name": "#%%\n"
    }
   }
  },
  {
   "cell_type": "code",
   "execution_count": 24,
   "outputs": [],
   "source": [],
   "metadata": {
    "collapsed": false,
    "pycharm": {
     "name": "#%%\n"
    }
   }
  },
  {
   "cell_type": "code",
   "execution_count": 24,
   "outputs": [],
   "source": [],
   "metadata": {
    "collapsed": false,
    "pycharm": {
     "name": "#%%\n"
    }
   }
  },
  {
   "cell_type": "code",
   "execution_count": 24,
   "outputs": [],
   "source": [],
   "metadata": {
    "collapsed": false,
    "pycharm": {
     "name": "#%%\n"
    }
   }
  },
  {
   "cell_type": "code",
   "execution_count": 25,
   "outputs": [],
   "source": [
    "## 더미 변수 만들기"
   ],
   "metadata": {
    "collapsed": false,
    "pycharm": {
     "name": "#%%\n"
    }
   }
  },
  {
   "cell_type": "code",
   "execution_count": 25,
   "outputs": [],
   "source": [],
   "metadata": {
    "collapsed": false,
    "pycharm": {
     "name": "#%%\n"
    }
   }
  },
  {
   "cell_type": "code",
   "execution_count": 25,
   "outputs": [],
   "source": [],
   "metadata": {
    "collapsed": false,
    "pycharm": {
     "name": "#%%\n"
    }
   }
  },
  {
   "cell_type": "code",
   "execution_count": 25,
   "outputs": [],
   "source": [],
   "metadata": {
    "collapsed": false,
    "pycharm": {
     "name": "#%%\n"
    }
   }
  },
  {
   "cell_type": "code",
   "execution_count": 25,
   "outputs": [],
   "source": [],
   "metadata": {
    "collapsed": false,
    "pycharm": {
     "name": "#%%\n"
    }
   }
  },
  {
   "cell_type": "code",
   "execution_count": 25,
   "outputs": [],
   "source": [],
   "metadata": {
    "collapsed": false,
    "pycharm": {
     "name": "#%%\n"
    }
   }
  },
  {
   "cell_type": "code",
   "execution_count": 26,
   "outputs": [],
   "source": [
    "## LightGBM 알고리즘으로 모델링하기"
   ],
   "metadata": {
    "collapsed": false,
    "pycharm": {
     "name": "#%%\n"
    }
   }
  },
  {
   "cell_type": "code",
   "execution_count": 26,
   "outputs": [],
   "source": [],
   "metadata": {
    "collapsed": false,
    "pycharm": {
     "name": "#%%\n"
    }
   }
  },
  {
   "cell_type": "code",
   "execution_count": 26,
   "outputs": [],
   "source": [],
   "metadata": {
    "collapsed": false,
    "pycharm": {
     "name": "#%%\n"
    }
   }
  },
  {
   "cell_type": "code",
   "execution_count": 26,
   "outputs": [],
   "source": [],
   "metadata": {
    "collapsed": false,
    "pycharm": {
     "name": "#%%\n"
    }
   }
  },
  {
   "cell_type": "code",
   "execution_count": 26,
   "outputs": [],
   "source": [],
   "metadata": {
    "collapsed": false,
    "pycharm": {
     "name": "#%%\n"
    }
   }
  },
  {
   "cell_type": "code",
   "execution_count": 26,
   "outputs": [],
   "source": [],
   "metadata": {
    "collapsed": false,
    "pycharm": {
     "name": "#%%\n"
    }
   }
  },
  {
   "cell_type": "code",
   "execution_count": 27,
   "outputs": [],
   "source": [
    "## 그리드 서치"
   ],
   "metadata": {
    "collapsed": false,
    "pycharm": {
     "name": "#%%\n"
    }
   }
  },
  {
   "cell_type": "code",
   "execution_count": 27,
   "outputs": [],
   "source": [],
   "metadata": {
    "collapsed": false,
    "pycharm": {
     "name": "#%%\n"
    }
   }
  },
  {
   "cell_type": "code",
   "execution_count": 27,
   "outputs": [],
   "source": [],
   "metadata": {
    "collapsed": false,
    "pycharm": {
     "name": "#%%\n"
    }
   }
  },
  {
   "cell_type": "code",
   "execution_count": 27,
   "outputs": [],
   "source": [],
   "metadata": {
    "collapsed": false,
    "pycharm": {
     "name": "#%%\n"
    }
   }
  },
  {
   "cell_type": "code",
   "execution_count": 27,
   "outputs": [],
   "source": [],
   "metadata": {
    "collapsed": false,
    "pycharm": {
     "name": "#%%\n"
    }
   }
  },
  {
   "cell_type": "code",
   "execution_count": 27,
   "outputs": [],
   "source": [],
   "metadata": {
    "collapsed": false,
    "pycharm": {
     "name": "#%%\n"
    }
   }
  },
  {
   "cell_type": "code",
   "execution_count": 28,
   "outputs": [],
   "source": [
    "## LightGBM 알고리즘의 이해"
   ],
   "metadata": {
    "collapsed": false,
    "pycharm": {
     "name": "#%%\n"
    }
   }
  },
  {
   "cell_type": "code",
   "execution_count": 28,
   "outputs": [],
   "source": [],
   "metadata": {
    "collapsed": false,
    "pycharm": {
     "name": "#%%\n"
    }
   }
  },
  {
   "cell_type": "code",
   "execution_count": 28,
   "outputs": [],
   "source": [],
   "metadata": {
    "collapsed": false,
    "pycharm": {
     "name": "#%%\n"
    }
   }
  },
  {
   "cell_type": "code",
   "execution_count": 28,
   "outputs": [],
   "source": [],
   "metadata": {
    "collapsed": false,
    "pycharm": {
     "name": "#%%\n"
    }
   }
  },
  {
   "cell_type": "code",
   "execution_count": 28,
   "outputs": [],
   "source": [],
   "metadata": {
    "collapsed": false,
    "pycharm": {
     "name": "#%%\n"
    }
   }
  },
  {
   "cell_type": "code",
   "execution_count": 28,
   "outputs": [],
   "source": [],
   "metadata": {
    "collapsed": false,
    "pycharm": {
     "name": "#%%\n"
    }
   }
  },
  {
   "cell_type": "code",
   "execution_count": 28,
   "outputs": [],
   "source": [],
   "metadata": {
    "collapsed": false,
    "pycharm": {
     "name": "#%%\n"
    }
   }
  },
  {
   "cell_type": "code",
   "execution_count": 28,
   "outputs": [],
   "source": [],
   "metadata": {
    "collapsed": false,
    "pycharm": {
     "name": "#%%\n"
    }
   }
  },
  {
   "cell_type": "code",
   "execution_count": 28,
   "outputs": [],
   "source": [],
   "metadata": {
    "collapsed": false,
    "pycharm": {
     "name": "#%%\n"
    }
   }
  },
  {
   "cell_type": "code",
   "execution_count": 28,
   "outputs": [],
   "source": [],
   "metadata": {
    "collapsed": false,
    "pycharm": {
     "name": "#%%\n"
    }
   }
  },
  {
   "cell_type": "code",
   "execution_count": 28,
   "outputs": [],
   "source": [],
   "metadata": {
    "collapsed": false,
    "pycharm": {
     "name": "#%%\n"
    }
   }
  },
  {
   "cell_type": "code",
   "execution_count": 29,
   "outputs": [],
   "source": [
    "## LightGBM 알고리즘의 이해"
   ],
   "metadata": {
    "collapsed": false,
    "pycharm": {
     "name": "#%%\n"
    }
   }
  },
  {
   "cell_type": "code",
   "execution_count": 30,
   "outputs": [],
   "source": [
    "## LightGBM 알고리즘의 이해"
   ],
   "metadata": {
    "collapsed": false,
    "pycharm": {
     "name": "#%%\n"
    }
   }
  },
  {
   "cell_type": "code",
   "execution_count": 31,
   "outputs": [],
   "source": [
    "## LightGBM 알고리즘의 이해"
   ],
   "metadata": {
    "collapsed": false,
    "pycharm": {
     "name": "#%%\n"
    }
   }
  },
  {
   "cell_type": "code",
   "execution_count": 32,
   "outputs": [],
   "source": [
    "## LightGBM 알고리즘의 이해"
   ],
   "metadata": {
    "collapsed": false,
    "pycharm": {
     "name": "#%%\n"
    }
   }
  },
  {
   "cell_type": "code",
   "execution_count": 33,
   "outputs": [],
   "source": [
    "## LightGBM 알고리즘의 이해"
   ],
   "metadata": {
    "collapsed": false,
    "pycharm": {
     "name": "#%%\n"
    }
   }
  },
  {
   "cell_type": "code",
   "execution_count": 34,
   "outputs": [],
   "source": [
    "## 그리드 서치"
   ],
   "metadata": {
    "collapsed": false,
    "pycharm": {
     "name": "#%%\n"
    }
   }
  },
  {
   "cell_type": "code",
   "execution_count": 35,
   "outputs": [],
   "source": [
    "## 그리드 서치"
   ],
   "metadata": {
    "collapsed": false,
    "pycharm": {
     "name": "#%%\n"
    }
   }
  },
  {
   "cell_type": "code",
   "execution_count": 36,
   "outputs": [],
   "source": [
    "## 그리드 서치"
   ],
   "metadata": {
    "collapsed": false,
    "pycharm": {
     "name": "#%%\n"
    }
   }
  },
  {
   "cell_type": "code",
   "execution_count": 37,
   "outputs": [],
   "source": [
    "## 그리드 서치"
   ],
   "metadata": {
    "collapsed": false,
    "pycharm": {
     "name": "#%%\n"
    }
   }
  },
  {
   "cell_type": "code",
   "execution_count": 38,
   "outputs": [],
   "source": [
    "## LightGBM 알고리즘으로 모델링하기"
   ],
   "metadata": {
    "collapsed": false,
    "pycharm": {
     "name": "#%%\n"
    }
   }
  },
  {
   "cell_type": "code",
   "execution_count": 39,
   "outputs": [],
   "source": [
    "## LightGBM 알고리즘으로 모델링하기"
   ],
   "metadata": {
    "collapsed": false,
    "pycharm": {
     "name": "#%%\n"
    }
   }
  },
  {
   "cell_type": "code",
   "execution_count": 40,
   "outputs": [],
   "source": [
    "## LightGBM 알고리즘으로 모델링하기"
   ],
   "metadata": {
    "collapsed": false,
    "pycharm": {
     "name": "#%%\n"
    }
   }
  },
  {
   "cell_type": "code",
   "execution_count": 41,
   "outputs": [],
   "source": [
    "## LightGBM 알고리즘으로 모델링하기"
   ],
   "metadata": {
    "collapsed": false,
    "pycharm": {
     "name": "#%%\n"
    }
   }
  },
  {
   "cell_type": "code",
   "execution_count": 42,
   "outputs": [],
   "source": [
    "## 더미 변수 만들기"
   ],
   "metadata": {
    "collapsed": false,
    "pycharm": {
     "name": "#%%\n"
    }
   }
  },
  {
   "cell_type": "code",
   "execution_count": 43,
   "outputs": [],
   "source": [
    "## 더미 변수 만들기"
   ],
   "metadata": {
    "collapsed": false,
    "pycharm": {
     "name": "#%%\n"
    }
   }
  },
  {
   "cell_type": "code",
   "execution_count": 44,
   "outputs": [],
   "source": [
    "## 더미 변수 만들기"
   ],
   "metadata": {
    "collapsed": false,
    "pycharm": {
     "name": "#%%\n"
    }
   }
  },
  {
   "cell_type": "code",
   "execution_count": 45,
   "outputs": [],
   "source": [
    "## 더미 변수 만들기"
   ],
   "metadata": {
    "collapsed": false,
    "pycharm": {
     "name": "#%%\n"
    }
   }
  },
  {
   "cell_type": "code",
   "execution_count": 46,
   "outputs": [],
   "source": [
    "## 더미 변수 만들기"
   ],
   "metadata": {
    "collapsed": false,
    "pycharm": {
     "name": "#%%\n"
    }
   }
  },
  {
   "cell_type": "code",
   "execution_count": 47,
   "outputs": [],
   "source": [
    "## 텍스트 데이터 변환"
   ],
   "metadata": {
    "collapsed": false,
    "pycharm": {
     "name": "#%%\n"
    }
   }
  },
  {
   "cell_type": "code",
   "execution_count": 48,
   "outputs": [],
   "source": [
    "## 텍스트 데이터 변환"
   ],
   "metadata": {
    "collapsed": false,
    "pycharm": {
     "name": "#%%\n"
    }
   }
  },
  {
   "cell_type": "code",
   "execution_count": 49,
   "outputs": [],
   "source": [
    "## 텍스트 데이터 변환"
   ],
   "metadata": {
    "collapsed": false,
    "pycharm": {
     "name": "#%%\n"
    }
   }
  },
  {
   "cell_type": "code",
   "execution_count": 50,
   "outputs": [],
   "source": [
    "## 텍스트 데이터 변환"
   ],
   "metadata": {
    "collapsed": false,
    "pycharm": {
     "name": "#%%\n"
    }
   }
  },
  {
   "cell_type": "code",
   "execution_count": 51,
   "outputs": [],
   "source": [
    "## 결측치 처리"
   ],
   "metadata": {
    "collapsed": false,
    "pycharm": {
     "name": "#%%\n"
    }
   }
  },
  {
   "cell_type": "code",
   "execution_count": 52,
   "outputs": [],
   "source": [
    "## 결측치 처리"
   ],
   "metadata": {
    "collapsed": false,
    "pycharm": {
     "name": "#%%\n"
    }
   }
  },
  {
   "cell_type": "code",
   "execution_count": 53,
   "outputs": [],
   "source": [
    "## 결측치 처리"
   ],
   "metadata": {
    "collapsed": false,
    "pycharm": {
     "name": "#%%\n"
    }
   }
  },
  {
   "cell_type": "code",
   "execution_count": 54,
   "outputs": [],
   "source": [
    "## 결측치 처리"
   ],
   "metadata": {
    "collapsed": false,
    "pycharm": {
     "name": "#%%\n"
    }
   }
  },
  {
   "cell_type": "code",
   "execution_count": 55,
   "outputs": [],
   "source": [
    "## Data Cleaning - 이상 데이터 처리"
   ],
   "metadata": {
    "collapsed": false,
    "pycharm": {
     "name": "#%%\n"
    }
   }
  },
  {
   "cell_type": "code",
   "execution_count": 56,
   "outputs": [],
   "source": [
    "## Data Cleaning - 이상 데이터 처리"
   ],
   "metadata": {
    "collapsed": false,
    "pycharm": {
     "name": "#%%\n"
    }
   }
  },
  {
   "cell_type": "code",
   "execution_count": 57,
   "outputs": [],
   "source": [
    "## Data Cleaning - 이상 데이터 처리"
   ],
   "metadata": {
    "collapsed": false,
    "pycharm": {
     "name": "#%%\n"
    }
   }
  },
  {
   "cell_type": "code",
   "execution_count": 58,
   "outputs": [],
   "source": [
    "## Data Cleaning - 이상 데이터 처리"
   ],
   "metadata": {
    "collapsed": false,
    "pycharm": {
     "name": "#%%\n"
    }
   }
  },
  {
   "cell_type": "code",
   "execution_count": 59,
   "outputs": [],
   "source": [
    "## Data Cleaning - 숫자 데이터 처리"
   ],
   "metadata": {
    "collapsed": false,
    "pycharm": {
     "name": "#%%\n"
    }
   }
  },
  {
   "cell_type": "markdown",
   "source": [
    "## Data Cleaning - 숫자 데이터 처리"
   ],
   "metadata": {
    "collapsed": false
   }
  },
  {
   "cell_type": "markdown",
   "source": [
    "## Data Cleaning - 이상 데이터 처리"
   ],
   "metadata": {
    "collapsed": false
   }
  },
  {
   "cell_type": "markdown",
   "source": [
    "## 결측치 처리"
   ],
   "metadata": {
    "collapsed": false
   }
  },
  {
   "cell_type": "markdown",
   "source": [
    "## 텍스트 데이터 변환"
   ],
   "metadata": {
    "collapsed": false
   }
  },
  {
   "cell_type": "markdown",
   "source": [
    "## 더미 변수 만들기"
   ],
   "metadata": {
    "collapsed": false
   }
  },
  {
   "cell_type": "markdown",
   "source": [
    "## LightGBM 알고리즘으로 모델링하기"
   ],
   "metadata": {
    "collapsed": false
   }
  },
  {
   "cell_type": "markdown",
   "source": [
    "## 그리드 서치"
   ],
   "metadata": {
    "collapsed": false
   }
  },
  {
   "cell_type": "markdown",
   "source": [
    "## LightGBM 알고리즘의 이해"
   ],
   "metadata": {
    "collapsed": false
   }
  },
  {
   "cell_type": "markdown",
   "source": [
    "## LightGBM 알고리즘의 이해"
   ],
   "metadata": {
    "collapsed": false
   }
  },
  {
   "cell_type": "markdown",
   "source": [
    "## 그리드 서치\n",
    "## LightGBM 알고리즘의 이해"
   ],
   "metadata": {
    "collapsed": false
   }
  },
  {
   "cell_type": "markdown",
   "source": [
    "## LightGBM 알고리즘으로 모델링하기\n",
    "## 그리드 서치\n",
    "## LightGBM 알고리즘의 이해"
   ],
   "metadata": {
    "collapsed": false
   }
  },
  {
   "cell_type": "markdown",
   "source": [
    "## 더미 변수 만들기\n",
    "## LightGBM 알고리즘으로 모델링하기\n",
    "## 그리드 서치\n",
    "## LightGBM 알고리즘의 이해"
   ],
   "metadata": {
    "collapsed": false
   }
  },
  {
   "cell_type": "markdown",
   "source": [
    "## 텍스트 데이터 변환\n",
    "## 더미 변수 만들기\n",
    "## LightGBM 알고리즘으로 모델링하기\n",
    "## 그리드 서치\n",
    "## LightGBM 알고리즘의 이해"
   ],
   "metadata": {
    "collapsed": false
   }
  },
  {
   "cell_type": "markdown",
   "source": [
    "## 결측치 처리\n",
    "## 텍스트 데이터 변환\n",
    "## 더미 변수 만들기\n",
    "## LightGBM 알고리즘으로 모델링하기\n",
    "## 그리드 서치\n",
    "## LightGBM 알고리즘의 이해"
   ],
   "metadata": {
    "collapsed": false
   }
  },
  {
   "cell_type": "markdown",
   "source": [
    "## Data Cleaning - 이상 데이터 처리\n",
    "## 결측치 처리\n",
    "## 텍스트 데이터 변환\n",
    "## 더미 변수 만들기\n",
    "## LightGBM 알고리즘으로 모델링하기\n",
    "## 그리드 서치\n",
    "## LightGBM 알고리즘의 이해"
   ],
   "metadata": {
    "collapsed": false
   }
  },
  {
   "cell_type": "markdown",
   "source": [
    "## Data Cleaning - 숫자 데이터 처리\n",
    "## Data Cleaning - 이상 데이터 처리\n",
    "## 결측치 처리\n",
    "## 텍스트 데이터 변환\n",
    "## 더미 변수 만들기\n",
    "## LightGBM 알고리즘으로 모델링하기\n",
    "## 그리드 서치\n",
    "## LightGBM 알고리즘의 이해"
   ],
   "metadata": {
    "collapsed": false
   }
  }
 ],
 "metadata": {
  "kernelspec": {
   "display_name": "Python 3",
   "language": "python",
   "name": "python3"
  },
  "language_info": {
   "codemirror_mode": {
    "name": "ipython",
    "version": 2
   },
   "file_extension": ".py",
   "mimetype": "text/x-python",
   "name": "python",
   "nbconvert_exporter": "python",
   "pygments_lexer": "ipython2",
   "version": "2.7.6"
  }
 },
 "nbformat": 4,
 "nbformat_minor": 0
}