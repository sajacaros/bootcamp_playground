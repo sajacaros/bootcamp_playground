{
 "cells": [
  {
   "cell_type": "markdown",
   "source": [
    "# Ch07. 마트 매출 데이터로 피벗된 데이터를 언피벗하기"
   ],
   "metadata": {
    "collapsed": false,
    "pycharm": {
     "name": "#%% md\n"
    }
   }
  },
  {
   "cell_type": "markdown",
   "metadata": {
    "collapsed": true,
    "pycharm": {
     "name": "#%% md\n"
    }
   },
   "source": [
    "## 마트매출 데이터 언피벗해서 집계하기"
   ]
  },
  {
   "cell_type": "code",
   "execution_count": 1,
   "outputs": [],
   "source": [
    "import pandas as pd\n",
    "import numpy as np\n",
    "import matplotlib.pyplot as plt\n",
    "import seaborn as sns"
   ],
   "metadata": {
    "collapsed": false,
    "pycharm": {
     "name": "#%%\n"
    }
   }
  },
  {
   "cell_type": "code",
   "execution_count": 9,
   "outputs": [],
   "source": [
    "url = '../data/Ch07_unpivot.xlsx'"
   ],
   "metadata": {
    "collapsed": false,
    "pycharm": {
     "name": "#%%\n"
    }
   }
  },
  {
   "cell_type": "code",
   "execution_count": 20,
   "outputs": [
    {
     "data": {
      "text/plain": "                제품   지점       매출   year\n0      종합어묵 (300g)  강남점  1930000  2020년\n1     유기농떡튀밥 (40g)  강남점   320000  2020년\n2     염장다시마 (400g)  강남점  1310000  2020년\n3     진시래기국 (500g)  강남점   500000  2020년\n4     리얼칩스우엉 (30g)  강남점   480000  2020년\n...            ...  ...      ...    ...\n2395    매생이 (100g)  옥길점  1180000  2022년\n2396   찹쌀산자 (120g)  옥길점  1290000  2022년\n2397   생선가스 (300g)  옥길점   550000  2022년\n2398    게맛살 (178g)  옥길점  1340000  2022년\n2399   멸치가루 (120g)  옥길점   210000  2022년\n\n[7200 rows x 4 columns]",
      "text/html": "<div>\n<style scoped>\n    .dataframe tbody tr th:only-of-type {\n        vertical-align: middle;\n    }\n\n    .dataframe tbody tr th {\n        vertical-align: top;\n    }\n\n    .dataframe thead th {\n        text-align: right;\n    }\n</style>\n<table border=\"1\" class=\"dataframe\">\n  <thead>\n    <tr style=\"text-align: right;\">\n      <th></th>\n      <th>제품</th>\n      <th>지점</th>\n      <th>매출</th>\n      <th>year</th>\n    </tr>\n  </thead>\n  <tbody>\n    <tr>\n      <th>0</th>\n      <td>종합어묵 (300g)</td>\n      <td>강남점</td>\n      <td>1930000</td>\n      <td>2020년</td>\n    </tr>\n    <tr>\n      <th>1</th>\n      <td>유기농떡튀밥 (40g)</td>\n      <td>강남점</td>\n      <td>320000</td>\n      <td>2020년</td>\n    </tr>\n    <tr>\n      <th>2</th>\n      <td>염장다시마 (400g)</td>\n      <td>강남점</td>\n      <td>1310000</td>\n      <td>2020년</td>\n    </tr>\n    <tr>\n      <th>3</th>\n      <td>진시래기국 (500g)</td>\n      <td>강남점</td>\n      <td>500000</td>\n      <td>2020년</td>\n    </tr>\n    <tr>\n      <th>4</th>\n      <td>리얼칩스우엉 (30g)</td>\n      <td>강남점</td>\n      <td>480000</td>\n      <td>2020년</td>\n    </tr>\n    <tr>\n      <th>...</th>\n      <td>...</td>\n      <td>...</td>\n      <td>...</td>\n      <td>...</td>\n    </tr>\n    <tr>\n      <th>2395</th>\n      <td>매생이 (100g)</td>\n      <td>옥길점</td>\n      <td>1180000</td>\n      <td>2022년</td>\n    </tr>\n    <tr>\n      <th>2396</th>\n      <td>찹쌀산자 (120g)</td>\n      <td>옥길점</td>\n      <td>1290000</td>\n      <td>2022년</td>\n    </tr>\n    <tr>\n      <th>2397</th>\n      <td>생선가스 (300g)</td>\n      <td>옥길점</td>\n      <td>550000</td>\n      <td>2022년</td>\n    </tr>\n    <tr>\n      <th>2398</th>\n      <td>게맛살 (178g)</td>\n      <td>옥길점</td>\n      <td>1340000</td>\n      <td>2022년</td>\n    </tr>\n    <tr>\n      <th>2399</th>\n      <td>멸치가루 (120g)</td>\n      <td>옥길점</td>\n      <td>210000</td>\n      <td>2022년</td>\n    </tr>\n  </tbody>\n</table>\n<p>7200 rows × 4 columns</p>\n</div>"
     },
     "execution_count": 20,
     "metadata": {},
     "output_type": "execute_result"
    }
   ],
   "source": [
    "years = ['2020년', '2021년', '2022년']\n",
    "df_ex1 = pd.DataFrame()\n",
    "for year in years:\n",
    "    df = pd.read_excel(url, sheet_name=year)\n",
    "    df = df.melt('제품', var_name='지점', value_name='매출')\n",
    "    df['year'] = year\n",
    "    df_ex1 = pd.concat([df_ex1, df])\n",
    "df_ex1"
   ],
   "metadata": {
    "collapsed": false,
    "pycharm": {
     "name": "#%%\n"
    }
   }
  },
  {
   "cell_type": "code",
   "execution_count": 21,
   "outputs": [
    {
     "data": {
      "text/plain": "     지점  지역    분류\n0   강남점  서울   직영점\n1   서초점  서울   직영점\n2   송파점  서울  비직영점\n3   노원점  서울  비직영점\n4   은평점  서울  비직영점\n5   수지점  경기  비직영점\n6   영통점  경기   직영점\n7   주안점  인천  비직영점\n8   검단점  인천   직영점\n9   분당점  경기  비직영점\n10  부평점  인천  비직영점\n11  옥길점  경기   직영점",
      "text/html": "<div>\n<style scoped>\n    .dataframe tbody tr th:only-of-type {\n        vertical-align: middle;\n    }\n\n    .dataframe tbody tr th {\n        vertical-align: top;\n    }\n\n    .dataframe thead th {\n        text-align: right;\n    }\n</style>\n<table border=\"1\" class=\"dataframe\">\n  <thead>\n    <tr style=\"text-align: right;\">\n      <th></th>\n      <th>지점</th>\n      <th>지역</th>\n      <th>분류</th>\n    </tr>\n  </thead>\n  <tbody>\n    <tr>\n      <th>0</th>\n      <td>강남점</td>\n      <td>서울</td>\n      <td>직영점</td>\n    </tr>\n    <tr>\n      <th>1</th>\n      <td>서초점</td>\n      <td>서울</td>\n      <td>직영점</td>\n    </tr>\n    <tr>\n      <th>2</th>\n      <td>송파점</td>\n      <td>서울</td>\n      <td>비직영점</td>\n    </tr>\n    <tr>\n      <th>3</th>\n      <td>노원점</td>\n      <td>서울</td>\n      <td>비직영점</td>\n    </tr>\n    <tr>\n      <th>4</th>\n      <td>은평점</td>\n      <td>서울</td>\n      <td>비직영점</td>\n    </tr>\n    <tr>\n      <th>5</th>\n      <td>수지점</td>\n      <td>경기</td>\n      <td>비직영점</td>\n    </tr>\n    <tr>\n      <th>6</th>\n      <td>영통점</td>\n      <td>경기</td>\n      <td>직영점</td>\n    </tr>\n    <tr>\n      <th>7</th>\n      <td>주안점</td>\n      <td>인천</td>\n      <td>비직영점</td>\n    </tr>\n    <tr>\n      <th>8</th>\n      <td>검단점</td>\n      <td>인천</td>\n      <td>직영점</td>\n    </tr>\n    <tr>\n      <th>9</th>\n      <td>분당점</td>\n      <td>경기</td>\n      <td>비직영점</td>\n    </tr>\n    <tr>\n      <th>10</th>\n      <td>부평점</td>\n      <td>인천</td>\n      <td>비직영점</td>\n    </tr>\n    <tr>\n      <th>11</th>\n      <td>옥길점</td>\n      <td>경기</td>\n      <td>직영점</td>\n    </tr>\n  </tbody>\n</table>\n</div>"
     },
     "execution_count": 21,
     "metadata": {},
     "output_type": "execute_result"
    }
   ],
   "source": [
    "df_m1 = pd.read_excel(url, sheet_name='지점구분')\n",
    "df_m1"
   ],
   "metadata": {
    "collapsed": false,
    "pycharm": {
     "name": "#%%\n"
    }
   }
  },
  {
   "cell_type": "code",
   "execution_count": 22,
   "outputs": [
    {
     "data": {
      "text/plain": "               제품  구분\n0     종합어묵 (300g)  기타\n1    유기농떡튀밥 (40g)  기타\n2    염장다시마 (400g)  기타\n3    진시래기국 (500g)  기타\n4    리얼칩스우엉 (30g)  기타\n..            ...  ..\n195    매생이 (100g)  어패\n196   찹쌀산자 (120g)  기타\n197   생선가스 (300g)  기타\n198    게맛살 (178g)  기타\n199   멸치가루 (120g)  기타\n\n[200 rows x 2 columns]",
      "text/html": "<div>\n<style scoped>\n    .dataframe tbody tr th:only-of-type {\n        vertical-align: middle;\n    }\n\n    .dataframe tbody tr th {\n        vertical-align: top;\n    }\n\n    .dataframe thead th {\n        text-align: right;\n    }\n</style>\n<table border=\"1\" class=\"dataframe\">\n  <thead>\n    <tr style=\"text-align: right;\">\n      <th></th>\n      <th>제품</th>\n      <th>구분</th>\n    </tr>\n  </thead>\n  <tbody>\n    <tr>\n      <th>0</th>\n      <td>종합어묵 (300g)</td>\n      <td>기타</td>\n    </tr>\n    <tr>\n      <th>1</th>\n      <td>유기농떡튀밥 (40g)</td>\n      <td>기타</td>\n    </tr>\n    <tr>\n      <th>2</th>\n      <td>염장다시마 (400g)</td>\n      <td>기타</td>\n    </tr>\n    <tr>\n      <th>3</th>\n      <td>진시래기국 (500g)</td>\n      <td>기타</td>\n    </tr>\n    <tr>\n      <th>4</th>\n      <td>리얼칩스우엉 (30g)</td>\n      <td>기타</td>\n    </tr>\n    <tr>\n      <th>...</th>\n      <td>...</td>\n      <td>...</td>\n    </tr>\n    <tr>\n      <th>195</th>\n      <td>매생이 (100g)</td>\n      <td>어패</td>\n    </tr>\n    <tr>\n      <th>196</th>\n      <td>찹쌀산자 (120g)</td>\n      <td>기타</td>\n    </tr>\n    <tr>\n      <th>197</th>\n      <td>생선가스 (300g)</td>\n      <td>기타</td>\n    </tr>\n    <tr>\n      <th>198</th>\n      <td>게맛살 (178g)</td>\n      <td>기타</td>\n    </tr>\n    <tr>\n      <th>199</th>\n      <td>멸치가루 (120g)</td>\n      <td>기타</td>\n    </tr>\n  </tbody>\n</table>\n<p>200 rows × 2 columns</p>\n</div>"
     },
     "execution_count": 22,
     "metadata": {},
     "output_type": "execute_result"
    }
   ],
   "source": [
    "df_m2 = pd.read_excel(url, sheet_name='제품구분')\n",
    "df_m2"
   ],
   "metadata": {
    "collapsed": false,
    "pycharm": {
     "name": "#%%\n"
    }
   }
  },
  {
   "cell_type": "code",
   "execution_count": 23,
   "outputs": [
    {
     "data": {
      "text/plain": "                제품   지점       매출   year  지역   분류  구분\n0      종합어묵 (300g)  강남점  1930000  2020년  서울  직영점  기타\n1     유기농떡튀밥 (40g)  강남점   320000  2020년  서울  직영점  기타\n2     염장다시마 (400g)  강남점  1310000  2020년  서울  직영점  기타\n3     진시래기국 (500g)  강남점   500000  2020년  서울  직영점  기타\n4     리얼칩스우엉 (30g)  강남점   480000  2020년  서울  직영점  기타\n...            ...  ...      ...    ...  ..  ...  ..\n7195    매생이 (100g)  옥길점  1180000  2022년  경기  직영점  어패\n7196   찹쌀산자 (120g)  옥길점  1290000  2022년  경기  직영점  기타\n7197   생선가스 (300g)  옥길점   550000  2022년  경기  직영점  기타\n7198    게맛살 (178g)  옥길점  1340000  2022년  경기  직영점  기타\n7199   멸치가루 (120g)  옥길점   210000  2022년  경기  직영점  기타\n\n[7200 rows x 7 columns]",
      "text/html": "<div>\n<style scoped>\n    .dataframe tbody tr th:only-of-type {\n        vertical-align: middle;\n    }\n\n    .dataframe tbody tr th {\n        vertical-align: top;\n    }\n\n    .dataframe thead th {\n        text-align: right;\n    }\n</style>\n<table border=\"1\" class=\"dataframe\">\n  <thead>\n    <tr style=\"text-align: right;\">\n      <th></th>\n      <th>제품</th>\n      <th>지점</th>\n      <th>매출</th>\n      <th>year</th>\n      <th>지역</th>\n      <th>분류</th>\n      <th>구분</th>\n    </tr>\n  </thead>\n  <tbody>\n    <tr>\n      <th>0</th>\n      <td>종합어묵 (300g)</td>\n      <td>강남점</td>\n      <td>1930000</td>\n      <td>2020년</td>\n      <td>서울</td>\n      <td>직영점</td>\n      <td>기타</td>\n    </tr>\n    <tr>\n      <th>1</th>\n      <td>유기농떡튀밥 (40g)</td>\n      <td>강남점</td>\n      <td>320000</td>\n      <td>2020년</td>\n      <td>서울</td>\n      <td>직영점</td>\n      <td>기타</td>\n    </tr>\n    <tr>\n      <th>2</th>\n      <td>염장다시마 (400g)</td>\n      <td>강남점</td>\n      <td>1310000</td>\n      <td>2020년</td>\n      <td>서울</td>\n      <td>직영점</td>\n      <td>기타</td>\n    </tr>\n    <tr>\n      <th>3</th>\n      <td>진시래기국 (500g)</td>\n      <td>강남점</td>\n      <td>500000</td>\n      <td>2020년</td>\n      <td>서울</td>\n      <td>직영점</td>\n      <td>기타</td>\n    </tr>\n    <tr>\n      <th>4</th>\n      <td>리얼칩스우엉 (30g)</td>\n      <td>강남점</td>\n      <td>480000</td>\n      <td>2020년</td>\n      <td>서울</td>\n      <td>직영점</td>\n      <td>기타</td>\n    </tr>\n    <tr>\n      <th>...</th>\n      <td>...</td>\n      <td>...</td>\n      <td>...</td>\n      <td>...</td>\n      <td>...</td>\n      <td>...</td>\n      <td>...</td>\n    </tr>\n    <tr>\n      <th>7195</th>\n      <td>매생이 (100g)</td>\n      <td>옥길점</td>\n      <td>1180000</td>\n      <td>2022년</td>\n      <td>경기</td>\n      <td>직영점</td>\n      <td>어패</td>\n    </tr>\n    <tr>\n      <th>7196</th>\n      <td>찹쌀산자 (120g)</td>\n      <td>옥길점</td>\n      <td>1290000</td>\n      <td>2022년</td>\n      <td>경기</td>\n      <td>직영점</td>\n      <td>기타</td>\n    </tr>\n    <tr>\n      <th>7197</th>\n      <td>생선가스 (300g)</td>\n      <td>옥길점</td>\n      <td>550000</td>\n      <td>2022년</td>\n      <td>경기</td>\n      <td>직영점</td>\n      <td>기타</td>\n    </tr>\n    <tr>\n      <th>7198</th>\n      <td>게맛살 (178g)</td>\n      <td>옥길점</td>\n      <td>1340000</td>\n      <td>2022년</td>\n      <td>경기</td>\n      <td>직영점</td>\n      <td>기타</td>\n    </tr>\n    <tr>\n      <th>7199</th>\n      <td>멸치가루 (120g)</td>\n      <td>옥길점</td>\n      <td>210000</td>\n      <td>2022년</td>\n      <td>경기</td>\n      <td>직영점</td>\n      <td>기타</td>\n    </tr>\n  </tbody>\n</table>\n<p>7200 rows × 7 columns</p>\n</div>"
     },
     "execution_count": 23,
     "metadata": {},
     "output_type": "execute_result"
    }
   ],
   "source": [
    "df_ex = (df_ex1\n",
    " .merge(df_m1, on='지점', how='left')\n",
    " .merge(df_m2, on='제품', how='left')\n",
    " )\n",
    "df_ex"
   ],
   "metadata": {
    "collapsed": false,
    "pycharm": {
     "name": "#%%\n"
    }
   }
  },
  {
   "cell_type": "code",
   "execution_count": 25,
   "outputs": [
    {
     "data": {
      "text/plain": "지역         경기       서울      인천\nyear                          \n2020년  8.7155  10.9754  6.5449\n2021년  8.7908  11.1760  6.7754\n2022년  8.6829  11.0173  6.6009",
      "text/html": "<div>\n<style scoped>\n    .dataframe tbody tr th:only-of-type {\n        vertical-align: middle;\n    }\n\n    .dataframe tbody tr th {\n        vertical-align: top;\n    }\n\n    .dataframe thead th {\n        text-align: right;\n    }\n</style>\n<table border=\"1\" class=\"dataframe\">\n  <thead>\n    <tr style=\"text-align: right;\">\n      <th>지역</th>\n      <th>경기</th>\n      <th>서울</th>\n      <th>인천</th>\n    </tr>\n    <tr>\n      <th>year</th>\n      <th></th>\n      <th></th>\n      <th></th>\n    </tr>\n  </thead>\n  <tbody>\n    <tr>\n      <th>2020년</th>\n      <td>8.7155</td>\n      <td>10.9754</td>\n      <td>6.5449</td>\n    </tr>\n    <tr>\n      <th>2021년</th>\n      <td>8.7908</td>\n      <td>11.1760</td>\n      <td>6.7754</td>\n    </tr>\n    <tr>\n      <th>2022년</th>\n      <td>8.6829</td>\n      <td>11.0173</td>\n      <td>6.6009</td>\n    </tr>\n  </tbody>\n</table>\n</div>"
     },
     "execution_count": 25,
     "metadata": {},
     "output_type": "execute_result"
    }
   ],
   "source": [
    "(df_ex\n",
    " .pivot_table('매출', index='year', columns='지역', aggfunc='sum')\n",
    " .div(100_000_000)\n",
    " )"
   ],
   "metadata": {
    "collapsed": false,
    "pycharm": {
     "name": "#%%\n"
    }
   }
  },
  {
   "cell_type": "code",
   "execution_count": 26,
   "outputs": [
    {
     "data": {
      "text/plain": "분류     비직영점      직영점\n지역                  \n경기  12.9938  13.1954\n서울  20.0434  13.1253\n인천  13.3646   6.5566",
      "text/html": "<div>\n<style scoped>\n    .dataframe tbody tr th:only-of-type {\n        vertical-align: middle;\n    }\n\n    .dataframe tbody tr th {\n        vertical-align: top;\n    }\n\n    .dataframe thead th {\n        text-align: right;\n    }\n</style>\n<table border=\"1\" class=\"dataframe\">\n  <thead>\n    <tr style=\"text-align: right;\">\n      <th>분류</th>\n      <th>비직영점</th>\n      <th>직영점</th>\n    </tr>\n    <tr>\n      <th>지역</th>\n      <th></th>\n      <th></th>\n    </tr>\n  </thead>\n  <tbody>\n    <tr>\n      <th>경기</th>\n      <td>12.9938</td>\n      <td>13.1954</td>\n    </tr>\n    <tr>\n      <th>서울</th>\n      <td>20.0434</td>\n      <td>13.1253</td>\n    </tr>\n    <tr>\n      <th>인천</th>\n      <td>13.3646</td>\n      <td>6.5566</td>\n    </tr>\n  </tbody>\n</table>\n</div>"
     },
     "execution_count": 26,
     "metadata": {},
     "output_type": "execute_result"
    }
   ],
   "source": [
    "(df_ex\n",
    " .pivot_table('매출', index='지역', columns='분류', aggfunc='sum')\n",
    " .div(100_000_000)\n",
    " )"
   ],
   "metadata": {
    "collapsed": false,
    "pycharm": {
     "name": "#%%\n"
    }
   }
  },
  {
   "cell_type": "code",
   "execution_count": 29,
   "outputs": [
    {
     "data": {
      "text/plain": "year   2020년   2021년   2022년\n구분                          \n쌀     1.4495  1.4879  1.4609\n어패    2.1228  2.1179  2.0343\n정육    0.3943  0.4229  0.4530\n청과    1.1882  1.1890  1.1023",
      "text/html": "<div>\n<style scoped>\n    .dataframe tbody tr th:only-of-type {\n        vertical-align: middle;\n    }\n\n    .dataframe tbody tr th {\n        vertical-align: top;\n    }\n\n    .dataframe thead th {\n        text-align: right;\n    }\n</style>\n<table border=\"1\" class=\"dataframe\">\n  <thead>\n    <tr style=\"text-align: right;\">\n      <th>year</th>\n      <th>2020년</th>\n      <th>2021년</th>\n      <th>2022년</th>\n    </tr>\n    <tr>\n      <th>구분</th>\n      <th></th>\n      <th></th>\n      <th></th>\n    </tr>\n  </thead>\n  <tbody>\n    <tr>\n      <th>쌀</th>\n      <td>1.4495</td>\n      <td>1.4879</td>\n      <td>1.4609</td>\n    </tr>\n    <tr>\n      <th>어패</th>\n      <td>2.1228</td>\n      <td>2.1179</td>\n      <td>2.0343</td>\n    </tr>\n    <tr>\n      <th>정육</th>\n      <td>0.3943</td>\n      <td>0.4229</td>\n      <td>0.4530</td>\n    </tr>\n    <tr>\n      <th>청과</th>\n      <td>1.1882</td>\n      <td>1.1890</td>\n      <td>1.1023</td>\n    </tr>\n  </tbody>\n</table>\n</div>"
     },
     "execution_count": 29,
     "metadata": {},
     "output_type": "execute_result"
    }
   ],
   "source": [
    "(df_ex[df_ex['구분']!='기타']\n",
    " .pivot_table('매출', index='구분', columns='year', aggfunc='sum')\n",
    " .div(100_000_000)\n",
    " )"
   ],
   "metadata": {
    "collapsed": false,
    "pycharm": {
     "name": "#%%\n"
    }
   }
  },
  {
   "cell_type": "code",
   "execution_count": null,
   "outputs": [],
   "source": [],
   "metadata": {
    "collapsed": false,
    "pycharm": {
     "name": "#%%\n"
    }
   }
  }
 ],
 "metadata": {
  "kernelspec": {
   "display_name": "Python 3",
   "language": "python",
   "name": "python3"
  },
  "language_info": {
   "codemirror_mode": {
    "name": "ipython",
    "version": 2
   },
   "file_extension": ".py",
   "mimetype": "text/x-python",
   "name": "python",
   "nbconvert_exporter": "python",
   "pygments_lexer": "ipython2",
   "version": "2.7.6"
  }
 },
 "nbformat": 4,
 "nbformat_minor": 0
}