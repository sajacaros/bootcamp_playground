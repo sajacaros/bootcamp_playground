{
 "cells": [
  {
   "cell_type": "code",
   "execution_count": 1,
   "metadata": {
    "collapsed": true
   },
   "outputs": [],
   "source": [
    "import matplotlib.pyplot as plt\n",
    "import numpy as np\n",
    "import pandas as pd\n",
    "import seaborn as sns"
   ]
  },
  {
   "cell_type": "code",
   "execution_count": 2,
   "outputs": [],
   "source": [
    "url = r'https://raw.githubusercontent.com/panda-kim/pandas/main/ch04.csv'"
   ],
   "metadata": {
    "collapsed": false,
    "pycharm": {
     "name": "#%%\n"
    }
   }
  },
  {
   "cell_type": "code",
   "execution_count": 11,
   "outputs": [
    {
     "data": {
      "text/plain": "    이름  점수\n0  노성빈  22\n1  문주용  52\n2  최태주  71\n3  황혁범  53\n4  서석훈  22",
      "text/html": "<div>\n<style scoped>\n    .dataframe tbody tr th:only-of-type {\n        vertical-align: middle;\n    }\n\n    .dataframe tbody tr th {\n        vertical-align: top;\n    }\n\n    .dataframe thead th {\n        text-align: right;\n    }\n</style>\n<table border=\"1\" class=\"dataframe\">\n  <thead>\n    <tr style=\"text-align: right;\">\n      <th></th>\n      <th>이름</th>\n      <th>점수</th>\n    </tr>\n  </thead>\n  <tbody>\n    <tr>\n      <th>0</th>\n      <td>노성빈</td>\n      <td>22</td>\n    </tr>\n    <tr>\n      <th>1</th>\n      <td>문주용</td>\n      <td>52</td>\n    </tr>\n    <tr>\n      <th>2</th>\n      <td>최태주</td>\n      <td>71</td>\n    </tr>\n    <tr>\n      <th>3</th>\n      <td>황혁범</td>\n      <td>53</td>\n    </tr>\n    <tr>\n      <th>4</th>\n      <td>서석훈</td>\n      <td>22</td>\n    </tr>\n  </tbody>\n</table>\n</div>"
     },
     "execution_count": 11,
     "metadata": {},
     "output_type": "execute_result"
    }
   ],
   "source": [
    "df_ex_1 = pd.read_csv(url)\n",
    "df_ex_1.head()"
   ],
   "metadata": {
    "collapsed": false,
    "pycharm": {
     "name": "#%%\n"
    }
   }
  },
  {
   "cell_type": "code",
   "execution_count": 5,
   "outputs": [
    {
     "name": "stdout",
     "output_type": "stream",
     "text": [
      "<class 'pandas.core.frame.DataFrame'>\n",
      "RangeIndex: 100 entries, 0 to 99\n",
      "Data columns (total 2 columns):\n",
      " #   Column  Non-Null Count  Dtype \n",
      "---  ------  --------------  ----- \n",
      " 0   이름      100 non-null    object\n",
      " 1   점수      100 non-null    int64 \n",
      "dtypes: int64(1), object(1)\n",
      "memory usage: 1.7+ KB\n"
     ]
    }
   ],
   "source": [
    "df_ex_1.info()"
   ],
   "metadata": {
    "collapsed": false,
    "pycharm": {
     "name": "#%%\n"
    }
   }
  },
  {
   "cell_type": "code",
   "execution_count": 7,
   "outputs": [
    {
     "data": {
      "text/plain": "               점수\ncount  100.000000\nmean    50.890000\nstd     18.143588\nmin     20.000000\n25%     35.750000\n50%     50.500000\n75%     65.500000\nmax     79.000000",
      "text/html": "<div>\n<style scoped>\n    .dataframe tbody tr th:only-of-type {\n        vertical-align: middle;\n    }\n\n    .dataframe tbody tr th {\n        vertical-align: top;\n    }\n\n    .dataframe thead th {\n        text-align: right;\n    }\n</style>\n<table border=\"1\" class=\"dataframe\">\n  <thead>\n    <tr style=\"text-align: right;\">\n      <th></th>\n      <th>점수</th>\n    </tr>\n  </thead>\n  <tbody>\n    <tr>\n      <th>count</th>\n      <td>100.000000</td>\n    </tr>\n    <tr>\n      <th>mean</th>\n      <td>50.890000</td>\n    </tr>\n    <tr>\n      <th>std</th>\n      <td>18.143588</td>\n    </tr>\n    <tr>\n      <th>min</th>\n      <td>20.000000</td>\n    </tr>\n    <tr>\n      <th>25%</th>\n      <td>35.750000</td>\n    </tr>\n    <tr>\n      <th>50%</th>\n      <td>50.500000</td>\n    </tr>\n    <tr>\n      <th>75%</th>\n      <td>65.500000</td>\n    </tr>\n    <tr>\n      <th>max</th>\n      <td>79.000000</td>\n    </tr>\n  </tbody>\n</table>\n</div>"
     },
     "execution_count": 7,
     "metadata": {},
     "output_type": "execute_result"
    }
   ],
   "source": [
    "df_ex_1.describe()"
   ],
   "metadata": {
    "collapsed": false,
    "pycharm": {
     "name": "#%%\n"
    }
   }
  },
  {
   "cell_type": "code",
   "execution_count": 22,
   "outputs": [
    {
     "data": {
      "text/plain": "     이름  점수   순위\n37  민일택  79    1\n35  구은탁  79    1\n93  문지용  79    1\n38  임영찬  78    4\n61  백승수  78    4\n..  ...  ..  ...\n4   서석훈  22   94\n54  이동범  22   94\n20  유성환  21   98\n16  심진웅  21   98\n12  구우진  20  100\n\n[100 rows x 3 columns]",
      "text/html": "<div>\n<style scoped>\n    .dataframe tbody tr th:only-of-type {\n        vertical-align: middle;\n    }\n\n    .dataframe tbody tr th {\n        vertical-align: top;\n    }\n\n    .dataframe thead th {\n        text-align: right;\n    }\n</style>\n<table border=\"1\" class=\"dataframe\">\n  <thead>\n    <tr style=\"text-align: right;\">\n      <th></th>\n      <th>이름</th>\n      <th>점수</th>\n      <th>순위</th>\n    </tr>\n  </thead>\n  <tbody>\n    <tr>\n      <th>37</th>\n      <td>민일택</td>\n      <td>79</td>\n      <td>1</td>\n    </tr>\n    <tr>\n      <th>35</th>\n      <td>구은탁</td>\n      <td>79</td>\n      <td>1</td>\n    </tr>\n    <tr>\n      <th>93</th>\n      <td>문지용</td>\n      <td>79</td>\n      <td>1</td>\n    </tr>\n    <tr>\n      <th>38</th>\n      <td>임영찬</td>\n      <td>78</td>\n      <td>4</td>\n    </tr>\n    <tr>\n      <th>61</th>\n      <td>백승수</td>\n      <td>78</td>\n      <td>4</td>\n    </tr>\n    <tr>\n      <th>...</th>\n      <td>...</td>\n      <td>...</td>\n      <td>...</td>\n    </tr>\n    <tr>\n      <th>4</th>\n      <td>서석훈</td>\n      <td>22</td>\n      <td>94</td>\n    </tr>\n    <tr>\n      <th>54</th>\n      <td>이동범</td>\n      <td>22</td>\n      <td>94</td>\n    </tr>\n    <tr>\n      <th>20</th>\n      <td>유성환</td>\n      <td>21</td>\n      <td>98</td>\n    </tr>\n    <tr>\n      <th>16</th>\n      <td>심진웅</td>\n      <td>21</td>\n      <td>98</td>\n    </tr>\n    <tr>\n      <th>12</th>\n      <td>구우진</td>\n      <td>20</td>\n      <td>100</td>\n    </tr>\n  </tbody>\n</table>\n<p>100 rows × 3 columns</p>\n</div>"
     },
     "execution_count": 22,
     "metadata": {},
     "output_type": "execute_result"
    }
   ],
   "source": [
    "df_ex_1['순위'] = df_ex_1['점수'].rank(method='min', ascending=False).astype('int')\n",
    "df_ex_1.sort_values(by='순위')"
   ],
   "metadata": {
    "collapsed": false,
    "pycharm": {
     "name": "#%%\n"
    }
   }
  },
  {
   "cell_type": "code",
   "execution_count": 23,
   "outputs": [
    {
     "name": "stdout",
     "output_type": "stream",
     "text": [
      "<class 'pandas.core.frame.DataFrame'>\n",
      "RangeIndex: 100 entries, 0 to 99\n",
      "Data columns (total 3 columns):\n",
      " #   Column  Non-Null Count  Dtype \n",
      "---  ------  --------------  ----- \n",
      " 0   이름      100 non-null    object\n",
      " 1   점수      100 non-null    int64 \n",
      " 2   순위      100 non-null    int32 \n",
      "dtypes: int32(1), int64(1), object(1)\n",
      "memory usage: 2.1+ KB\n"
     ]
    }
   ],
   "source": [
    "df_ex_1.info()"
   ],
   "metadata": {
    "collapsed": false,
    "pycharm": {
     "name": "#%%\n"
    }
   }
  },
  {
   "cell_type": "code",
   "execution_count": 24,
   "outputs": [
    {
     "data": {
      "text/plain": "    이름  점수  순위\n0  노성빈  22  94\n1  문주용  52  49\n2  최태주  71  19\n3  황혁범  53  47\n4  서석훈  22  94",
      "text/html": "<div>\n<style scoped>\n    .dataframe tbody tr th:only-of-type {\n        vertical-align: middle;\n    }\n\n    .dataframe tbody tr th {\n        vertical-align: top;\n    }\n\n    .dataframe thead th {\n        text-align: right;\n    }\n</style>\n<table border=\"1\" class=\"dataframe\">\n  <thead>\n    <tr style=\"text-align: right;\">\n      <th></th>\n      <th>이름</th>\n      <th>점수</th>\n      <th>순위</th>\n    </tr>\n  </thead>\n  <tbody>\n    <tr>\n      <th>0</th>\n      <td>노성빈</td>\n      <td>22</td>\n      <td>94</td>\n    </tr>\n    <tr>\n      <th>1</th>\n      <td>문주용</td>\n      <td>52</td>\n      <td>49</td>\n    </tr>\n    <tr>\n      <th>2</th>\n      <td>최태주</td>\n      <td>71</td>\n      <td>19</td>\n    </tr>\n    <tr>\n      <th>3</th>\n      <td>황혁범</td>\n      <td>53</td>\n      <td>47</td>\n    </tr>\n    <tr>\n      <th>4</th>\n      <td>서석훈</td>\n      <td>22</td>\n      <td>94</td>\n    </tr>\n  </tbody>\n</table>\n</div>"
     },
     "execution_count": 24,
     "metadata": {},
     "output_type": "execute_result"
    }
   ],
   "source": [
    "df_ex_1['순위'] = df_ex_1['순위'].astype('int')\n",
    "df_ex_1.head()"
   ],
   "metadata": {
    "collapsed": false,
    "pycharm": {
     "name": "#%%\n"
    }
   }
  },
  {
   "cell_type": "code",
   "execution_count": 25,
   "outputs": [
    {
     "name": "stdout",
     "output_type": "stream",
     "text": [
      "<class 'pandas.core.frame.DataFrame'>\n",
      "RangeIndex: 100 entries, 0 to 99\n",
      "Data columns (total 3 columns):\n",
      " #   Column  Non-Null Count  Dtype \n",
      "---  ------  --------------  ----- \n",
      " 0   이름      100 non-null    object\n",
      " 1   점수      100 non-null    int64 \n",
      " 2   순위      100 non-null    int32 \n",
      "dtypes: int32(1), int64(1), object(1)\n",
      "memory usage: 2.1+ KB\n"
     ]
    }
   ],
   "source": [
    "df_ex_1.info()"
   ],
   "metadata": {
    "collapsed": false,
    "pycharm": {
     "name": "#%%\n"
    }
   }
  },
  {
   "cell_type": "code",
   "execution_count": 26,
   "outputs": [
    {
     "data": {
      "text/plain": "     이름  점수  순위\n35  구은탁  79   1\n37  민일택  79   1\n93  문지용  79   1",
      "text/html": "<div>\n<style scoped>\n    .dataframe tbody tr th:only-of-type {\n        vertical-align: middle;\n    }\n\n    .dataframe tbody tr th {\n        vertical-align: top;\n    }\n\n    .dataframe thead th {\n        text-align: right;\n    }\n</style>\n<table border=\"1\" class=\"dataframe\">\n  <thead>\n    <tr style=\"text-align: right;\">\n      <th></th>\n      <th>이름</th>\n      <th>점수</th>\n      <th>순위</th>\n    </tr>\n  </thead>\n  <tbody>\n    <tr>\n      <th>35</th>\n      <td>구은탁</td>\n      <td>79</td>\n      <td>1</td>\n    </tr>\n    <tr>\n      <th>37</th>\n      <td>민일택</td>\n      <td>79</td>\n      <td>1</td>\n    </tr>\n    <tr>\n      <th>93</th>\n      <td>문지용</td>\n      <td>79</td>\n      <td>1</td>\n    </tr>\n  </tbody>\n</table>\n</div>"
     },
     "execution_count": 26,
     "metadata": {},
     "output_type": "execute_result"
    }
   ],
   "source": [
    "df_ex_1[df_ex_1['순위']==1]"
   ],
   "metadata": {
    "collapsed": false,
    "pycharm": {
     "name": "#%%\n"
    }
   }
  },
  {
   "cell_type": "code",
   "execution_count": 28,
   "outputs": [
    {
     "data": {
      "text/plain": "     이름  점수\n35  구은탁  79\n37  민일택  79\n93  문지용  79",
      "text/html": "<div>\n<style scoped>\n    .dataframe tbody tr th:only-of-type {\n        vertical-align: middle;\n    }\n\n    .dataframe tbody tr th {\n        vertical-align: top;\n    }\n\n    .dataframe thead th {\n        text-align: right;\n    }\n</style>\n<table border=\"1\" class=\"dataframe\">\n  <thead>\n    <tr style=\"text-align: right;\">\n      <th></th>\n      <th>이름</th>\n      <th>점수</th>\n    </tr>\n  </thead>\n  <tbody>\n    <tr>\n      <th>35</th>\n      <td>구은탁</td>\n      <td>79</td>\n    </tr>\n    <tr>\n      <th>37</th>\n      <td>민일택</td>\n      <td>79</td>\n    </tr>\n    <tr>\n      <th>93</th>\n      <td>문지용</td>\n      <td>79</td>\n    </tr>\n  </tbody>\n</table>\n</div>"
     },
     "execution_count": 28,
     "metadata": {},
     "output_type": "execute_result"
    }
   ],
   "source": [
    "df_ex_1.loc[df_ex_1['순위']==1, ['이름','점수']]"
   ],
   "metadata": {
    "collapsed": false,
    "pycharm": {
     "name": "#%%\n"
    }
   }
  },
  {
   "cell_type": "code",
   "execution_count": 29,
   "outputs": [
    {
     "data": {
      "text/plain": "     이름  점수  순위\n1   문주용  52  49\n2   최태주  71  19\n3   황혁범  53  47\n5   주기원  44  63\n8   유지홍  65  26\n..  ...  ..  ..\n93  문지용  79   1\n94  양호근  58  39\n95  차지우  61  30\n98  류형석  41  69\n99  유남길  67  24\n\n[70 rows x 3 columns]",
      "text/html": "<div>\n<style scoped>\n    .dataframe tbody tr th:only-of-type {\n        vertical-align: middle;\n    }\n\n    .dataframe tbody tr th {\n        vertical-align: top;\n    }\n\n    .dataframe thead th {\n        text-align: right;\n    }\n</style>\n<table border=\"1\" class=\"dataframe\">\n  <thead>\n    <tr style=\"text-align: right;\">\n      <th></th>\n      <th>이름</th>\n      <th>점수</th>\n      <th>순위</th>\n    </tr>\n  </thead>\n  <tbody>\n    <tr>\n      <th>1</th>\n      <td>문주용</td>\n      <td>52</td>\n      <td>49</td>\n    </tr>\n    <tr>\n      <th>2</th>\n      <td>최태주</td>\n      <td>71</td>\n      <td>19</td>\n    </tr>\n    <tr>\n      <th>3</th>\n      <td>황혁범</td>\n      <td>53</td>\n      <td>47</td>\n    </tr>\n    <tr>\n      <th>5</th>\n      <td>주기원</td>\n      <td>44</td>\n      <td>63</td>\n    </tr>\n    <tr>\n      <th>8</th>\n      <td>유지홍</td>\n      <td>65</td>\n      <td>26</td>\n    </tr>\n    <tr>\n      <th>...</th>\n      <td>...</td>\n      <td>...</td>\n      <td>...</td>\n    </tr>\n    <tr>\n      <th>93</th>\n      <td>문지용</td>\n      <td>79</td>\n      <td>1</td>\n    </tr>\n    <tr>\n      <th>94</th>\n      <td>양호근</td>\n      <td>58</td>\n      <td>39</td>\n    </tr>\n    <tr>\n      <th>95</th>\n      <td>차지우</td>\n      <td>61</td>\n      <td>30</td>\n    </tr>\n    <tr>\n      <th>98</th>\n      <td>류형석</td>\n      <td>41</td>\n      <td>69</td>\n    </tr>\n    <tr>\n      <th>99</th>\n      <td>유남길</td>\n      <td>67</td>\n      <td>24</td>\n    </tr>\n  </tbody>\n</table>\n<p>70 rows × 3 columns</p>\n</div>"
     },
     "execution_count": 29,
     "metadata": {},
     "output_type": "execute_result"
    }
   ],
   "source": [
    "df_ex_1[df_ex_1.점수 > 40]"
   ],
   "metadata": {
    "collapsed": false,
    "pycharm": {
     "name": "#%%\n"
    }
   }
  },
  {
   "cell_type": "code",
   "execution_count": 30,
   "outputs": [
    {
     "data": {
      "text/plain": "     이름  점수  순위\n0   노성빈  22  94\n1   문주용  52  49\n2   최태주  71  19\n3   황혁범  53  47\n4   서석훈  22  94\n..  ...  ..  ..\n95  차지우  61  30\n96  신민기  22  94\n97  지도훈  24  90\n98  류형석  41  69\n99  유남길  67  24\n\n[100 rows x 3 columns]",
      "text/html": "<div>\n<style scoped>\n    .dataframe tbody tr th:only-of-type {\n        vertical-align: middle;\n    }\n\n    .dataframe tbody tr th {\n        vertical-align: top;\n    }\n\n    .dataframe thead th {\n        text-align: right;\n    }\n</style>\n<table border=\"1\" class=\"dataframe\">\n  <thead>\n    <tr style=\"text-align: right;\">\n      <th></th>\n      <th>이름</th>\n      <th>점수</th>\n      <th>순위</th>\n    </tr>\n  </thead>\n  <tbody>\n    <tr>\n      <th>0</th>\n      <td>노성빈</td>\n      <td>22</td>\n      <td>94</td>\n    </tr>\n    <tr>\n      <th>1</th>\n      <td>문주용</td>\n      <td>52</td>\n      <td>49</td>\n    </tr>\n    <tr>\n      <th>2</th>\n      <td>최태주</td>\n      <td>71</td>\n      <td>19</td>\n    </tr>\n    <tr>\n      <th>3</th>\n      <td>황혁범</td>\n      <td>53</td>\n      <td>47</td>\n    </tr>\n    <tr>\n      <th>4</th>\n      <td>서석훈</td>\n      <td>22</td>\n      <td>94</td>\n    </tr>\n    <tr>\n      <th>...</th>\n      <td>...</td>\n      <td>...</td>\n      <td>...</td>\n    </tr>\n    <tr>\n      <th>95</th>\n      <td>차지우</td>\n      <td>61</td>\n      <td>30</td>\n    </tr>\n    <tr>\n      <th>96</th>\n      <td>신민기</td>\n      <td>22</td>\n      <td>94</td>\n    </tr>\n    <tr>\n      <th>97</th>\n      <td>지도훈</td>\n      <td>24</td>\n      <td>90</td>\n    </tr>\n    <tr>\n      <th>98</th>\n      <td>류형석</td>\n      <td>41</td>\n      <td>69</td>\n    </tr>\n    <tr>\n      <th>99</th>\n      <td>유남길</td>\n      <td>67</td>\n      <td>24</td>\n    </tr>\n  </tbody>\n</table>\n<p>100 rows × 3 columns</p>\n</div>"
     },
     "execution_count": 30,
     "metadata": {},
     "output_type": "execute_result"
    }
   ],
   "source": [
    "df_ex_1"
   ],
   "metadata": {
    "collapsed": false,
    "pycharm": {
     "name": "#%%\n"
    }
   }
  },
  {
   "cell_type": "code",
   "execution_count": 31,
   "outputs": [
    {
     "data": {
      "text/plain": "     이름  점수  순위  비고\n0   노성빈  22  94  낙제\n1   문주용  52  49  패스\n2   최태주  71  19  패스\n3   황혁범  53  47  패스\n4   서석훈  22  94  낙제\n..  ...  ..  ..  ..\n95  차지우  61  30  패스\n96  신민기  22  94  낙제\n97  지도훈  24  90  낙제\n98  류형석  41  69  패스\n99  유남길  67  24  패스\n\n[100 rows x 4 columns]",
      "text/html": "<div>\n<style scoped>\n    .dataframe tbody tr th:only-of-type {\n        vertical-align: middle;\n    }\n\n    .dataframe tbody tr th {\n        vertical-align: top;\n    }\n\n    .dataframe thead th {\n        text-align: right;\n    }\n</style>\n<table border=\"1\" class=\"dataframe\">\n  <thead>\n    <tr style=\"text-align: right;\">\n      <th></th>\n      <th>이름</th>\n      <th>점수</th>\n      <th>순위</th>\n      <th>비고</th>\n    </tr>\n  </thead>\n  <tbody>\n    <tr>\n      <th>0</th>\n      <td>노성빈</td>\n      <td>22</td>\n      <td>94</td>\n      <td>낙제</td>\n    </tr>\n    <tr>\n      <th>1</th>\n      <td>문주용</td>\n      <td>52</td>\n      <td>49</td>\n      <td>패스</td>\n    </tr>\n    <tr>\n      <th>2</th>\n      <td>최태주</td>\n      <td>71</td>\n      <td>19</td>\n      <td>패스</td>\n    </tr>\n    <tr>\n      <th>3</th>\n      <td>황혁범</td>\n      <td>53</td>\n      <td>47</td>\n      <td>패스</td>\n    </tr>\n    <tr>\n      <th>4</th>\n      <td>서석훈</td>\n      <td>22</td>\n      <td>94</td>\n      <td>낙제</td>\n    </tr>\n    <tr>\n      <th>...</th>\n      <td>...</td>\n      <td>...</td>\n      <td>...</td>\n      <td>...</td>\n    </tr>\n    <tr>\n      <th>95</th>\n      <td>차지우</td>\n      <td>61</td>\n      <td>30</td>\n      <td>패스</td>\n    </tr>\n    <tr>\n      <th>96</th>\n      <td>신민기</td>\n      <td>22</td>\n      <td>94</td>\n      <td>낙제</td>\n    </tr>\n    <tr>\n      <th>97</th>\n      <td>지도훈</td>\n      <td>24</td>\n      <td>90</td>\n      <td>낙제</td>\n    </tr>\n    <tr>\n      <th>98</th>\n      <td>류형석</td>\n      <td>41</td>\n      <td>69</td>\n      <td>패스</td>\n    </tr>\n    <tr>\n      <th>99</th>\n      <td>유남길</td>\n      <td>67</td>\n      <td>24</td>\n      <td>패스</td>\n    </tr>\n  </tbody>\n</table>\n<p>100 rows × 4 columns</p>\n</div>"
     },
     "execution_count": 31,
     "metadata": {},
     "output_type": "execute_result"
    }
   ],
   "source": [
    "cond1 = df_ex_1.점수 > 40\n",
    "df_ex_1['비고'] = df_ex_1.점수.mask(cond1, '패스').mask(~cond1,'낙제')\n",
    "df_ex_1"
   ],
   "metadata": {
    "collapsed": false,
    "pycharm": {
     "name": "#%%\n"
    }
   }
  },
  {
   "cell_type": "code",
   "execution_count": 32,
   "outputs": [
    {
     "data": {
      "text/plain": "    이름  점수  순위  비고 학점\n0  노성빈  22  94  낙제  F\n1  문주용  52  49  패스  C\n2  최태주  71  19  패스  A\n3  황혁범  53  47  패스  C\n4  서석훈  22  94  낙제  F",
      "text/html": "<div>\n<style scoped>\n    .dataframe tbody tr th:only-of-type {\n        vertical-align: middle;\n    }\n\n    .dataframe tbody tr th {\n        vertical-align: top;\n    }\n\n    .dataframe thead th {\n        text-align: right;\n    }\n</style>\n<table border=\"1\" class=\"dataframe\">\n  <thead>\n    <tr style=\"text-align: right;\">\n      <th></th>\n      <th>이름</th>\n      <th>점수</th>\n      <th>순위</th>\n      <th>비고</th>\n      <th>학점</th>\n    </tr>\n  </thead>\n  <tbody>\n    <tr>\n      <th>0</th>\n      <td>노성빈</td>\n      <td>22</td>\n      <td>94</td>\n      <td>낙제</td>\n      <td>F</td>\n    </tr>\n    <tr>\n      <th>1</th>\n      <td>문주용</td>\n      <td>52</td>\n      <td>49</td>\n      <td>패스</td>\n      <td>C</td>\n    </tr>\n    <tr>\n      <th>2</th>\n      <td>최태주</td>\n      <td>71</td>\n      <td>19</td>\n      <td>패스</td>\n      <td>A</td>\n    </tr>\n    <tr>\n      <th>3</th>\n      <td>황혁범</td>\n      <td>53</td>\n      <td>47</td>\n      <td>패스</td>\n      <td>C</td>\n    </tr>\n    <tr>\n      <th>4</th>\n      <td>서석훈</td>\n      <td>22</td>\n      <td>94</td>\n      <td>낙제</td>\n      <td>F</td>\n    </tr>\n  </tbody>\n</table>\n</div>"
     },
     "execution_count": 32,
     "metadata": {},
     "output_type": "execute_result"
    }
   ],
   "source": [
    "df_ex_1['학점'] = pd.cut(df_ex_1.점수, bins=[0,40,50,60,70,80], labels=['F', 'D', 'C', 'B', 'A'])\n",
    "df_ex_1.head()"
   ],
   "metadata": {
    "collapsed": false,
    "pycharm": {
     "name": "#%%\n"
    }
   }
  },
  {
   "cell_type": "code",
   "execution_count": null,
   "outputs": [],
   "source": [],
   "metadata": {
    "collapsed": false,
    "pycharm": {
     "name": "#%%\n"
    }
   }
  }
 ],
 "metadata": {
  "kernelspec": {
   "display_name": "Python 3",
   "language": "python",
   "name": "python3"
  },
  "language_info": {
   "codemirror_mode": {
    "name": "ipython",
    "version": 2
   },
   "file_extension": ".py",
   "mimetype": "text/x-python",
   "name": "python",
   "nbconvert_exporter": "python",
   "pygments_lexer": "ipython2",
   "version": "2.7.6"
  }
 },
 "nbformat": 4,
 "nbformat_minor": 0
}