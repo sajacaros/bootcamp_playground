{
 "cells": [
  {
   "cell_type": "code",
   "execution_count": 1,
   "metadata": {
    "collapsed": true
   },
   "outputs": [],
   "source": [
    "import numpy as np\n",
    "import pandas as pd\n",
    "import matplotlib.pyplot as plt\n",
    "import seaborn as sns"
   ]
  },
  {
   "cell_type": "code",
   "execution_count": 10,
   "outputs": [
    {
     "data": {
      "text/plain": "0       mom\n1       get\n2    pandas\n3     level\ndtype: object"
     },
     "execution_count": 10,
     "metadata": {},
     "output_type": "execute_result"
    }
   ],
   "source": [
    "list1 = ['mom', 'get', 'pandas', 'level']\n",
    "s1 = pd.Series(list1)\n",
    "s2 = pd.Series(['1', '2', '3'])\n",
    "s1"
   ],
   "metadata": {
    "collapsed": false,
    "pycharm": {
     "name": "#%%\n"
    }
   }
  },
  {
   "cell_type": "code",
   "execution_count": 11,
   "outputs": [
    {
     "data": {
      "text/plain": "0    3\n1    3\n2    6\n3    5\ndtype: int64"
     },
     "execution_count": 11,
     "metadata": {},
     "output_type": "execute_result"
    }
   ],
   "source": [
    "s1.apply(len)"
   ],
   "metadata": {
    "collapsed": false,
    "pycharm": {
     "name": "#%%\n"
    }
   }
  },
  {
   "cell_type": "code",
   "execution_count": 12,
   "outputs": [
    {
     "data": {
      "text/plain": "0    1\n1    2\n2    3\ndtype: object"
     },
     "execution_count": 12,
     "metadata": {},
     "output_type": "execute_result"
    }
   ],
   "source": [
    "s2"
   ],
   "metadata": {
    "collapsed": false,
    "pycharm": {
     "name": "#%%\n"
    }
   }
  },
  {
   "cell_type": "code",
   "execution_count": 13,
   "outputs": [
    {
     "data": {
      "text/plain": "0    1\n1    2\n2    3\ndtype: int32"
     },
     "execution_count": 13,
     "metadata": {},
     "output_type": "execute_result"
    }
   ],
   "source": [
    "s2.astype('int')"
   ],
   "metadata": {
    "collapsed": false,
    "pycharm": {
     "name": "#%%\n"
    }
   }
  },
  {
   "cell_type": "code",
   "execution_count": 14,
   "outputs": [
    {
     "data": {
      "text/plain": "0    1\n1    2\n2    3\ndtype: int64"
     },
     "execution_count": 14,
     "metadata": {},
     "output_type": "execute_result"
    }
   ],
   "source": [
    "s2.apply(int)"
   ],
   "metadata": {
    "collapsed": false,
    "pycharm": {
     "name": "#%%\n"
    }
   }
  },
  {
   "cell_type": "code",
   "execution_count": 16,
   "outputs": [
    {
     "data": {
      "text/plain": "    이름      답안\n0  강승주     mom\n1  송중기     get\n2  권보아  pandas\n3  김판다   level",
      "text/html": "<div>\n<style scoped>\n    .dataframe tbody tr th:only-of-type {\n        vertical-align: middle;\n    }\n\n    .dataframe tbody tr th {\n        vertical-align: top;\n    }\n\n    .dataframe thead th {\n        text-align: right;\n    }\n</style>\n<table border=\"1\" class=\"dataframe\">\n  <thead>\n    <tr style=\"text-align: right;\">\n      <th></th>\n      <th>이름</th>\n      <th>답안</th>\n    </tr>\n  </thead>\n  <tbody>\n    <tr>\n      <th>0</th>\n      <td>강승주</td>\n      <td>mom</td>\n    </tr>\n    <tr>\n      <th>1</th>\n      <td>송중기</td>\n      <td>get</td>\n    </tr>\n    <tr>\n      <th>2</th>\n      <td>권보아</td>\n      <td>pandas</td>\n    </tr>\n    <tr>\n      <th>3</th>\n      <td>김판다</td>\n      <td>level</td>\n    </tr>\n  </tbody>\n</table>\n</div>"
     },
     "execution_count": 16,
     "metadata": {},
     "output_type": "execute_result"
    }
   ],
   "source": [
    "data = [['강승주', 'mom'], ['송중기', 'get'], ['권보아', 'pandas'], ['김판다', 'level']]\n",
    "df = pd.DataFrame(data, columns=['이름', '답안'])\n",
    "df"
   ],
   "metadata": {
    "collapsed": false,
    "pycharm": {
     "name": "#%%\n"
    }
   }
  },
  {
   "cell_type": "code",
   "execution_count": 19,
   "outputs": [
    {
     "data": {
      "text/plain": "0    False\n1    False\n2     True\n3     True\nName: 답안, dtype: bool"
     },
     "execution_count": 19,
     "metadata": {},
     "output_type": "execute_result"
    }
   ],
   "source": [
    "df['답안'].apply(lambda a: len(a)>=5)"
   ],
   "metadata": {
    "collapsed": false,
    "pycharm": {
     "name": "#%%\n"
    }
   }
  },
  {
   "cell_type": "code",
   "execution_count": 20,
   "outputs": [
    {
     "data": {
      "text/plain": "    이름      답안\n2  권보아  pandas\n3  김판다   level",
      "text/html": "<div>\n<style scoped>\n    .dataframe tbody tr th:only-of-type {\n        vertical-align: middle;\n    }\n\n    .dataframe tbody tr th {\n        vertical-align: top;\n    }\n\n    .dataframe thead th {\n        text-align: right;\n    }\n</style>\n<table border=\"1\" class=\"dataframe\">\n  <thead>\n    <tr style=\"text-align: right;\">\n      <th></th>\n      <th>이름</th>\n      <th>답안</th>\n    </tr>\n  </thead>\n  <tbody>\n    <tr>\n      <th>2</th>\n      <td>권보아</td>\n      <td>pandas</td>\n    </tr>\n    <tr>\n      <th>3</th>\n      <td>김판다</td>\n      <td>level</td>\n    </tr>\n  </tbody>\n</table>\n</div>"
     },
     "execution_count": 20,
     "metadata": {},
     "output_type": "execute_result"
    }
   ],
   "source": [
    "df[df['답안'].apply(lambda a: len(a)>=5)]"
   ],
   "metadata": {
    "collapsed": false,
    "pycharm": {
     "name": "#%%\n"
    }
   }
  },
  {
   "cell_type": "code",
   "execution_count": 21,
   "outputs": [
    {
     "data": {
      "text/plain": "      이름                   주소    답안\n0    류동영        경상북도 청도군 뒷마2길    메뉴\n1    유지수        경상북도 문경시 청암3길   목욕탕\n2    권민식  경기도 안양시 동안구 동편로49번길    야채\n3    차동혁        전라북도 정읍시 순촌1길    학교\n4    주남현     서울특별시 은평구 갈현로23길   초보자\n..   ...                  ...   ...\n995  허철현       충청남도 태안군 정주내4길   영향력\n996  성병선     경기도 광주시 도지울길13번길    흉내\n997  한성균       부산광역시 영도구 청학북로   스웨터\n998  양대환         강원도 춘천시 하중도길    남북\n999  이종봉       충청북도 단양군 여울목2길  해외여행\n\n[1000 rows x 3 columns]",
      "text/html": "<div>\n<style scoped>\n    .dataframe tbody tr th:only-of-type {\n        vertical-align: middle;\n    }\n\n    .dataframe tbody tr th {\n        vertical-align: top;\n    }\n\n    .dataframe thead th {\n        text-align: right;\n    }\n</style>\n<table border=\"1\" class=\"dataframe\">\n  <thead>\n    <tr style=\"text-align: right;\">\n      <th></th>\n      <th>이름</th>\n      <th>주소</th>\n      <th>답안</th>\n    </tr>\n  </thead>\n  <tbody>\n    <tr>\n      <th>0</th>\n      <td>류동영</td>\n      <td>경상북도 청도군 뒷마2길</td>\n      <td>메뉴</td>\n    </tr>\n    <tr>\n      <th>1</th>\n      <td>유지수</td>\n      <td>경상북도 문경시 청암3길</td>\n      <td>목욕탕</td>\n    </tr>\n    <tr>\n      <th>2</th>\n      <td>권민식</td>\n      <td>경기도 안양시 동안구 동편로49번길</td>\n      <td>야채</td>\n    </tr>\n    <tr>\n      <th>3</th>\n      <td>차동혁</td>\n      <td>전라북도 정읍시 순촌1길</td>\n      <td>학교</td>\n    </tr>\n    <tr>\n      <th>4</th>\n      <td>주남현</td>\n      <td>서울특별시 은평구 갈현로23길</td>\n      <td>초보자</td>\n    </tr>\n    <tr>\n      <th>...</th>\n      <td>...</td>\n      <td>...</td>\n      <td>...</td>\n    </tr>\n    <tr>\n      <th>995</th>\n      <td>허철현</td>\n      <td>충청남도 태안군 정주내4길</td>\n      <td>영향력</td>\n    </tr>\n    <tr>\n      <th>996</th>\n      <td>성병선</td>\n      <td>경기도 광주시 도지울길13번길</td>\n      <td>흉내</td>\n    </tr>\n    <tr>\n      <th>997</th>\n      <td>한성균</td>\n      <td>부산광역시 영도구 청학북로</td>\n      <td>스웨터</td>\n    </tr>\n    <tr>\n      <th>998</th>\n      <td>양대환</td>\n      <td>강원도 춘천시 하중도길</td>\n      <td>남북</td>\n    </tr>\n    <tr>\n      <th>999</th>\n      <td>이종봉</td>\n      <td>충청북도 단양군 여울목2길</td>\n      <td>해외여행</td>\n    </tr>\n  </tbody>\n</table>\n<p>1000 rows × 3 columns</p>\n</div>"
     },
     "execution_count": 21,
     "metadata": {},
     "output_type": "execute_result"
    }
   ],
   "source": [
    "url = 'https://raw.githubusercontent.com/panda-kim/csv_files/main/palindrome.csv'\n",
    "df = pd.read_csv(url)\n",
    "df"
   ],
   "metadata": {
    "collapsed": false,
    "pycharm": {
     "name": "#%%\n"
    }
   }
  },
  {
   "cell_type": "code",
   "execution_count": 22,
   "outputs": [
    {
     "data": {
      "text/plain": "      이름                   주소    답안   광역단체\n0    류동영        경상북도 청도군 뒷마2길    메뉴   경상북도\n1    유지수        경상북도 문경시 청암3길   목욕탕   경상북도\n2    권민식  경기도 안양시 동안구 동편로49번길    야채    경기도\n3    차동혁        전라북도 정읍시 순촌1길    학교   전라북도\n4    주남현     서울특별시 은평구 갈현로23길   초보자  서울특별시\n..   ...                  ...   ...    ...\n995  허철현       충청남도 태안군 정주내4길   영향력   충청남도\n996  성병선     경기도 광주시 도지울길13번길    흉내    경기도\n997  한성균       부산광역시 영도구 청학북로   스웨터  부산광역시\n998  양대환         강원도 춘천시 하중도길    남북    강원도\n999  이종봉       충청북도 단양군 여울목2길  해외여행   충청북도\n\n[1000 rows x 4 columns]",
      "text/html": "<div>\n<style scoped>\n    .dataframe tbody tr th:only-of-type {\n        vertical-align: middle;\n    }\n\n    .dataframe tbody tr th {\n        vertical-align: top;\n    }\n\n    .dataframe thead th {\n        text-align: right;\n    }\n</style>\n<table border=\"1\" class=\"dataframe\">\n  <thead>\n    <tr style=\"text-align: right;\">\n      <th></th>\n      <th>이름</th>\n      <th>주소</th>\n      <th>답안</th>\n      <th>광역단체</th>\n    </tr>\n  </thead>\n  <tbody>\n    <tr>\n      <th>0</th>\n      <td>류동영</td>\n      <td>경상북도 청도군 뒷마2길</td>\n      <td>메뉴</td>\n      <td>경상북도</td>\n    </tr>\n    <tr>\n      <th>1</th>\n      <td>유지수</td>\n      <td>경상북도 문경시 청암3길</td>\n      <td>목욕탕</td>\n      <td>경상북도</td>\n    </tr>\n    <tr>\n      <th>2</th>\n      <td>권민식</td>\n      <td>경기도 안양시 동안구 동편로49번길</td>\n      <td>야채</td>\n      <td>경기도</td>\n    </tr>\n    <tr>\n      <th>3</th>\n      <td>차동혁</td>\n      <td>전라북도 정읍시 순촌1길</td>\n      <td>학교</td>\n      <td>전라북도</td>\n    </tr>\n    <tr>\n      <th>4</th>\n      <td>주남현</td>\n      <td>서울특별시 은평구 갈현로23길</td>\n      <td>초보자</td>\n      <td>서울특별시</td>\n    </tr>\n    <tr>\n      <th>...</th>\n      <td>...</td>\n      <td>...</td>\n      <td>...</td>\n      <td>...</td>\n    </tr>\n    <tr>\n      <th>995</th>\n      <td>허철현</td>\n      <td>충청남도 태안군 정주내4길</td>\n      <td>영향력</td>\n      <td>충청남도</td>\n    </tr>\n    <tr>\n      <th>996</th>\n      <td>성병선</td>\n      <td>경기도 광주시 도지울길13번길</td>\n      <td>흉내</td>\n      <td>경기도</td>\n    </tr>\n    <tr>\n      <th>997</th>\n      <td>한성균</td>\n      <td>부산광역시 영도구 청학북로</td>\n      <td>스웨터</td>\n      <td>부산광역시</td>\n    </tr>\n    <tr>\n      <th>998</th>\n      <td>양대환</td>\n      <td>강원도 춘천시 하중도길</td>\n      <td>남북</td>\n      <td>강원도</td>\n    </tr>\n    <tr>\n      <th>999</th>\n      <td>이종봉</td>\n      <td>충청북도 단양군 여울목2길</td>\n      <td>해외여행</td>\n      <td>충청북도</td>\n    </tr>\n  </tbody>\n</table>\n<p>1000 rows × 4 columns</p>\n</div>"
     },
     "execution_count": 22,
     "metadata": {},
     "output_type": "execute_result"
    }
   ],
   "source": [
    "df['광역단체'] = df.주소.apply(lambda addr: addr.split(' ')[0])\n",
    "df"
   ],
   "metadata": {
    "collapsed": false,
    "pycharm": {
     "name": "#%%\n"
    }
   }
  },
  {
   "cell_type": "code",
   "execution_count": 23,
   "outputs": [
    {
     "data": {
      "text/plain": "      이름                   주소    답안   광역단체    역순\n0    류동영        경상북도 청도군 뒷마2길    메뉴   경상북도    뉴메\n1    유지수        경상북도 문경시 청암3길   목욕탕   경상북도   탕욕목\n2    권민식  경기도 안양시 동안구 동편로49번길    야채    경기도    채야\n3    차동혁        전라북도 정읍시 순촌1길    학교   전라북도    교학\n4    주남현     서울특별시 은평구 갈현로23길   초보자  서울특별시   자보초\n..   ...                  ...   ...    ...   ...\n995  허철현       충청남도 태안군 정주내4길   영향력   충청남도   력향영\n996  성병선     경기도 광주시 도지울길13번길    흉내    경기도    내흉\n997  한성균       부산광역시 영도구 청학북로   스웨터  부산광역시   터웨스\n998  양대환         강원도 춘천시 하중도길    남북    강원도    북남\n999  이종봉       충청북도 단양군 여울목2길  해외여행   충청북도  행여외해\n\n[1000 rows x 5 columns]",
      "text/html": "<div>\n<style scoped>\n    .dataframe tbody tr th:only-of-type {\n        vertical-align: middle;\n    }\n\n    .dataframe tbody tr th {\n        vertical-align: top;\n    }\n\n    .dataframe thead th {\n        text-align: right;\n    }\n</style>\n<table border=\"1\" class=\"dataframe\">\n  <thead>\n    <tr style=\"text-align: right;\">\n      <th></th>\n      <th>이름</th>\n      <th>주소</th>\n      <th>답안</th>\n      <th>광역단체</th>\n      <th>역순</th>\n    </tr>\n  </thead>\n  <tbody>\n    <tr>\n      <th>0</th>\n      <td>류동영</td>\n      <td>경상북도 청도군 뒷마2길</td>\n      <td>메뉴</td>\n      <td>경상북도</td>\n      <td>뉴메</td>\n    </tr>\n    <tr>\n      <th>1</th>\n      <td>유지수</td>\n      <td>경상북도 문경시 청암3길</td>\n      <td>목욕탕</td>\n      <td>경상북도</td>\n      <td>탕욕목</td>\n    </tr>\n    <tr>\n      <th>2</th>\n      <td>권민식</td>\n      <td>경기도 안양시 동안구 동편로49번길</td>\n      <td>야채</td>\n      <td>경기도</td>\n      <td>채야</td>\n    </tr>\n    <tr>\n      <th>3</th>\n      <td>차동혁</td>\n      <td>전라북도 정읍시 순촌1길</td>\n      <td>학교</td>\n      <td>전라북도</td>\n      <td>교학</td>\n    </tr>\n    <tr>\n      <th>4</th>\n      <td>주남현</td>\n      <td>서울특별시 은평구 갈현로23길</td>\n      <td>초보자</td>\n      <td>서울특별시</td>\n      <td>자보초</td>\n    </tr>\n    <tr>\n      <th>...</th>\n      <td>...</td>\n      <td>...</td>\n      <td>...</td>\n      <td>...</td>\n      <td>...</td>\n    </tr>\n    <tr>\n      <th>995</th>\n      <td>허철현</td>\n      <td>충청남도 태안군 정주내4길</td>\n      <td>영향력</td>\n      <td>충청남도</td>\n      <td>력향영</td>\n    </tr>\n    <tr>\n      <th>996</th>\n      <td>성병선</td>\n      <td>경기도 광주시 도지울길13번길</td>\n      <td>흉내</td>\n      <td>경기도</td>\n      <td>내흉</td>\n    </tr>\n    <tr>\n      <th>997</th>\n      <td>한성균</td>\n      <td>부산광역시 영도구 청학북로</td>\n      <td>스웨터</td>\n      <td>부산광역시</td>\n      <td>터웨스</td>\n    </tr>\n    <tr>\n      <th>998</th>\n      <td>양대환</td>\n      <td>강원도 춘천시 하중도길</td>\n      <td>남북</td>\n      <td>강원도</td>\n      <td>북남</td>\n    </tr>\n    <tr>\n      <th>999</th>\n      <td>이종봉</td>\n      <td>충청북도 단양군 여울목2길</td>\n      <td>해외여행</td>\n      <td>충청북도</td>\n      <td>행여외해</td>\n    </tr>\n  </tbody>\n</table>\n<p>1000 rows × 5 columns</p>\n</div>"
     },
     "execution_count": 23,
     "metadata": {},
     "output_type": "execute_result"
    }
   ],
   "source": [
    "df['역순'] = df.답안.apply(lambda a: a[::-1])\n",
    "df"
   ],
   "metadata": {
    "collapsed": false,
    "pycharm": {
     "name": "#%%\n"
    }
   }
  },
  {
   "cell_type": "code",
   "execution_count": 28,
   "outputs": [
    {
     "data": {
      "text/plain": "35     서울특별시\n41     인천광역시\n57     서울특별시\n617      경기도\n917      강원도\nName: 광역단체, dtype: object"
     },
     "execution_count": 28,
     "metadata": {},
     "output_type": "execute_result"
    }
   ],
   "source": [
    "cond1 = df.답안.apply(lambda a: len(a)==3)\n",
    "cond2 = df['답안'] == df['역순']\n",
    "ret = df.loc[cond1 & cond2, '광역단체']\n",
    "ret"
   ],
   "metadata": {
    "collapsed": false,
    "pycharm": {
     "name": "#%%\n"
    }
   }
  },
  {
   "cell_type": "code",
   "execution_count": 29,
   "outputs": [
    {
     "data": {
      "text/plain": "      이름                    주소   답안   광역단체   역순\n1    유지수         경상북도 문경시 청암3길  목욕탕   경상북도  탕욕목\n4    주남현      서울특별시 은평구 갈현로23길  초보자  서울특별시  자보초\n6    심상태         충청남도 서산시 상홍1길  라이터   충청남도  터이라\n13   심민호      광주광역시 광산구 빛동6로가길  위험성  광주광역시  성험위\n14   곽상남  부산광역시 금정구 중앙대로2035번길  레이저  부산광역시  저이레\n..   ...                   ...  ...    ...  ...\n986  심현민         전라북도 완주군 신지암로  상대편   전라북도  편대상\n987  배득종   부산광역시 사하구 다대로385번안길  이론적  부산광역시  적론이\n990  차제윤    서울특별시 강북구 4.19로11길  방송사  서울특별시  사송방\n995  허철현        충청남도 태안군 정주내4길  영향력   충청남도  력향영\n997  한성균        부산광역시 영도구 청학북로  스웨터  부산광역시  터웨스\n\n[442 rows x 5 columns]",
      "text/html": "<div>\n<style scoped>\n    .dataframe tbody tr th:only-of-type {\n        vertical-align: middle;\n    }\n\n    .dataframe tbody tr th {\n        vertical-align: top;\n    }\n\n    .dataframe thead th {\n        text-align: right;\n    }\n</style>\n<table border=\"1\" class=\"dataframe\">\n  <thead>\n    <tr style=\"text-align: right;\">\n      <th></th>\n      <th>이름</th>\n      <th>주소</th>\n      <th>답안</th>\n      <th>광역단체</th>\n      <th>역순</th>\n    </tr>\n  </thead>\n  <tbody>\n    <tr>\n      <th>1</th>\n      <td>유지수</td>\n      <td>경상북도 문경시 청암3길</td>\n      <td>목욕탕</td>\n      <td>경상북도</td>\n      <td>탕욕목</td>\n    </tr>\n    <tr>\n      <th>4</th>\n      <td>주남현</td>\n      <td>서울특별시 은평구 갈현로23길</td>\n      <td>초보자</td>\n      <td>서울특별시</td>\n      <td>자보초</td>\n    </tr>\n    <tr>\n      <th>6</th>\n      <td>심상태</td>\n      <td>충청남도 서산시 상홍1길</td>\n      <td>라이터</td>\n      <td>충청남도</td>\n      <td>터이라</td>\n    </tr>\n    <tr>\n      <th>13</th>\n      <td>심민호</td>\n      <td>광주광역시 광산구 빛동6로가길</td>\n      <td>위험성</td>\n      <td>광주광역시</td>\n      <td>성험위</td>\n    </tr>\n    <tr>\n      <th>14</th>\n      <td>곽상남</td>\n      <td>부산광역시 금정구 중앙대로2035번길</td>\n      <td>레이저</td>\n      <td>부산광역시</td>\n      <td>저이레</td>\n    </tr>\n    <tr>\n      <th>...</th>\n      <td>...</td>\n      <td>...</td>\n      <td>...</td>\n      <td>...</td>\n      <td>...</td>\n    </tr>\n    <tr>\n      <th>986</th>\n      <td>심현민</td>\n      <td>전라북도 완주군 신지암로</td>\n      <td>상대편</td>\n      <td>전라북도</td>\n      <td>편대상</td>\n    </tr>\n    <tr>\n      <th>987</th>\n      <td>배득종</td>\n      <td>부산광역시 사하구 다대로385번안길</td>\n      <td>이론적</td>\n      <td>부산광역시</td>\n      <td>적론이</td>\n    </tr>\n    <tr>\n      <th>990</th>\n      <td>차제윤</td>\n      <td>서울특별시 강북구 4.19로11길</td>\n      <td>방송사</td>\n      <td>서울특별시</td>\n      <td>사송방</td>\n    </tr>\n    <tr>\n      <th>995</th>\n      <td>허철현</td>\n      <td>충청남도 태안군 정주내4길</td>\n      <td>영향력</td>\n      <td>충청남도</td>\n      <td>력향영</td>\n    </tr>\n    <tr>\n      <th>997</th>\n      <td>한성균</td>\n      <td>부산광역시 영도구 청학북로</td>\n      <td>스웨터</td>\n      <td>부산광역시</td>\n      <td>터웨스</td>\n    </tr>\n  </tbody>\n</table>\n<p>442 rows × 5 columns</p>\n</div>"
     },
     "execution_count": 29,
     "metadata": {},
     "output_type": "execute_result"
    }
   ],
   "source": [
    "df[cond1]"
   ],
   "metadata": {
    "collapsed": false,
    "pycharm": {
     "name": "#%%\n"
    }
   }
  },
  {
   "cell_type": "code",
   "execution_count": 30,
   "outputs": [
    {
     "data": {
      "text/plain": "      이름                    주소   답안   광역단체   역순\n35   강승주     서울특별시 용산구 독서당로29길  기러기  서울특별시  기러기\n41   백서하   인천광역시 강화군 교동북로169번길  토마토  인천광역시  토마토\n57   오우진     서울특별시 노원구 동일로193길  스위스  서울특별시  스위스\n617  정성빈  경기도 성남시 분당구 발이봉로11번길  인도인    경기도  인도인\n917  차용석      강원도 횡성군 수남로108번길  별똥별    강원도  별똥별",
      "text/html": "<div>\n<style scoped>\n    .dataframe tbody tr th:only-of-type {\n        vertical-align: middle;\n    }\n\n    .dataframe tbody tr th {\n        vertical-align: top;\n    }\n\n    .dataframe thead th {\n        text-align: right;\n    }\n</style>\n<table border=\"1\" class=\"dataframe\">\n  <thead>\n    <tr style=\"text-align: right;\">\n      <th></th>\n      <th>이름</th>\n      <th>주소</th>\n      <th>답안</th>\n      <th>광역단체</th>\n      <th>역순</th>\n    </tr>\n  </thead>\n  <tbody>\n    <tr>\n      <th>35</th>\n      <td>강승주</td>\n      <td>서울특별시 용산구 독서당로29길</td>\n      <td>기러기</td>\n      <td>서울특별시</td>\n      <td>기러기</td>\n    </tr>\n    <tr>\n      <th>41</th>\n      <td>백서하</td>\n      <td>인천광역시 강화군 교동북로169번길</td>\n      <td>토마토</td>\n      <td>인천광역시</td>\n      <td>토마토</td>\n    </tr>\n    <tr>\n      <th>57</th>\n      <td>오우진</td>\n      <td>서울특별시 노원구 동일로193길</td>\n      <td>스위스</td>\n      <td>서울특별시</td>\n      <td>스위스</td>\n    </tr>\n    <tr>\n      <th>617</th>\n      <td>정성빈</td>\n      <td>경기도 성남시 분당구 발이봉로11번길</td>\n      <td>인도인</td>\n      <td>경기도</td>\n      <td>인도인</td>\n    </tr>\n    <tr>\n      <th>917</th>\n      <td>차용석</td>\n      <td>강원도 횡성군 수남로108번길</td>\n      <td>별똥별</td>\n      <td>강원도</td>\n      <td>별똥별</td>\n    </tr>\n  </tbody>\n</table>\n</div>"
     },
     "execution_count": 30,
     "metadata": {},
     "output_type": "execute_result"
    }
   ],
   "source": [
    "df[cond2]"
   ],
   "metadata": {
    "collapsed": false,
    "pycharm": {
     "name": "#%%\n"
    }
   }
  },
  {
   "cell_type": "code",
   "execution_count": 31,
   "outputs": [
    {
     "data": {
      "text/plain": "서울특별시    2\n인천광역시    1\n경기도      1\n강원도      1\nName: 광역단체, dtype: int64"
     },
     "execution_count": 31,
     "metadata": {},
     "output_type": "execute_result"
    }
   ],
   "source": [
    "ret.value_counts()"
   ],
   "metadata": {
    "collapsed": false,
    "pycharm": {
     "name": "#%%\n"
    }
   }
  },
  {
   "cell_type": "code",
   "execution_count": 33,
   "outputs": [
    {
     "data": {
      "text/plain": "        A      B          C        D      E\n0     mom  cat01     cat-01      cat  cat01\n1     get  dog02     dog-01      dog  01cat\n2  pandas  cow01  rabbit-01      cow  dog01\n3   level  cow02     dog-02      cow  cow01",
      "text/html": "<div>\n<style scoped>\n    .dataframe tbody tr th:only-of-type {\n        vertical-align: middle;\n    }\n\n    .dataframe tbody tr th {\n        vertical-align: top;\n    }\n\n    .dataframe thead th {\n        text-align: right;\n    }\n</style>\n<table border=\"1\" class=\"dataframe\">\n  <thead>\n    <tr style=\"text-align: right;\">\n      <th></th>\n      <th>A</th>\n      <th>B</th>\n      <th>C</th>\n      <th>D</th>\n      <th>E</th>\n    </tr>\n  </thead>\n  <tbody>\n    <tr>\n      <th>0</th>\n      <td>mom</td>\n      <td>cat01</td>\n      <td>cat-01</td>\n      <td>cat</td>\n      <td>cat01</td>\n    </tr>\n    <tr>\n      <th>1</th>\n      <td>get</td>\n      <td>dog02</td>\n      <td>dog-01</td>\n      <td>dog</td>\n      <td>01cat</td>\n    </tr>\n    <tr>\n      <th>2</th>\n      <td>pandas</td>\n      <td>cow01</td>\n      <td>rabbit-01</td>\n      <td>cow</td>\n      <td>dog01</td>\n    </tr>\n    <tr>\n      <th>3</th>\n      <td>level</td>\n      <td>cow02</td>\n      <td>dog-02</td>\n      <td>cow</td>\n      <td>cow01</td>\n    </tr>\n  </tbody>\n</table>\n</div>"
     },
     "execution_count": 33,
     "metadata": {},
     "output_type": "execute_result"
    }
   ],
   "source": [
    "data = [\n",
    "    ['mom', 'cat01', 'cat-01', '   cat', 'cat01'],\n",
    "    ['get', 'dog02', 'dog-01', '    dog', '01cat'],\n",
    "    ['pandas', 'cow01', 'rabbit-01', '  cow', 'dog01'],\n",
    "    ['level', 'cow02', 'dog-02', 'cow', 'cow01']\n",
    "]\n",
    "df = pd.DataFrame(data, columns=list('ABCDE'))\n",
    "df"
   ],
   "metadata": {
    "collapsed": false,
    "pycharm": {
     "name": "#%%\n"
    }
   }
  },
  {
   "cell_type": "code",
   "execution_count": 34,
   "outputs": [
    {
     "data": {
      "text/plain": "0    3\n1    3\n2    6\n3    5\nName: A, dtype: int64"
     },
     "execution_count": 34,
     "metadata": {},
     "output_type": "execute_result"
    }
   ],
   "source": [
    "df['A'].apply(len)"
   ],
   "metadata": {
    "collapsed": false,
    "pycharm": {
     "name": "#%%\n"
    }
   }
  },
  {
   "cell_type": "code",
   "execution_count": 35,
   "outputs": [
    {
     "data": {
      "text/plain": "0    3\n1    3\n2    6\n3    5\nName: A, dtype: int64"
     },
     "execution_count": 35,
     "metadata": {},
     "output_type": "execute_result"
    }
   ],
   "source": [
    "df['A'].str.len()"
   ],
   "metadata": {
    "collapsed": false,
    "pycharm": {
     "name": "#%%\n"
    }
   }
  },
  {
   "cell_type": "code",
   "execution_count": 36,
   "outputs": [
    {
     "data": {
      "text/plain": "0    cat\n1    dog\n2    cow\n3    cow\nName: B, dtype: object"
     },
     "execution_count": 36,
     "metadata": {},
     "output_type": "execute_result"
    }
   ],
   "source": [
    "df['B'].apply(lambda s: s[:3])"
   ],
   "metadata": {
    "collapsed": false,
    "pycharm": {
     "name": "#%%\n"
    }
   }
  },
  {
   "cell_type": "code",
   "execution_count": 37,
   "outputs": [
    {
     "data": {
      "text/plain": "0    cat\n1    dog\n2    cow\n3    cow\nName: B, dtype: object"
     },
     "execution_count": 37,
     "metadata": {},
     "output_type": "execute_result"
    }
   ],
   "source": [
    "df['B'].str[:3]"
   ],
   "metadata": {
    "collapsed": false,
    "pycharm": {
     "name": "#%%\n"
    }
   }
  },
  {
   "cell_type": "code",
   "execution_count": 40,
   "outputs": [
    {
     "data": {
      "text/plain": "        A      B          C        D      E\n0     mom  cat01     cat-01      cat  cat01\n1     get  dog02     dog-01      dog  01cat\n2  pandas  cow01  rabbit-01      cow  dog01\n3   level  cow02     dog-02      cow  cow01",
      "text/html": "<div>\n<style scoped>\n    .dataframe tbody tr th:only-of-type {\n        vertical-align: middle;\n    }\n\n    .dataframe tbody tr th {\n        vertical-align: top;\n    }\n\n    .dataframe thead th {\n        text-align: right;\n    }\n</style>\n<table border=\"1\" class=\"dataframe\">\n  <thead>\n    <tr style=\"text-align: right;\">\n      <th></th>\n      <th>A</th>\n      <th>B</th>\n      <th>C</th>\n      <th>D</th>\n      <th>E</th>\n    </tr>\n  </thead>\n  <tbody>\n    <tr>\n      <th>0</th>\n      <td>mom</td>\n      <td>cat01</td>\n      <td>cat-01</td>\n      <td>cat</td>\n      <td>cat01</td>\n    </tr>\n    <tr>\n      <th>1</th>\n      <td>get</td>\n      <td>dog02</td>\n      <td>dog-01</td>\n      <td>dog</td>\n      <td>01cat</td>\n    </tr>\n    <tr>\n      <th>2</th>\n      <td>pandas</td>\n      <td>cow01</td>\n      <td>rabbit-01</td>\n      <td>cow</td>\n      <td>dog01</td>\n    </tr>\n    <tr>\n      <th>3</th>\n      <td>level</td>\n      <td>cow02</td>\n      <td>dog-02</td>\n      <td>cow</td>\n      <td>cow01</td>\n    </tr>\n  </tbody>\n</table>\n</div>"
     },
     "execution_count": 40,
     "metadata": {},
     "output_type": "execute_result"
    }
   ],
   "source": [
    "df"
   ],
   "metadata": {
    "collapsed": false,
    "pycharm": {
     "name": "#%%\n"
    }
   }
  },
  {
   "cell_type": "code",
   "execution_count": 38,
   "outputs": [
    {
     "data": {
      "text/plain": "0     True\n1    False\n2    False\n3    False\nName: D, dtype: bool"
     },
     "execution_count": 38,
     "metadata": {},
     "output_type": "execute_result"
    }
   ],
   "source": [
    "df['D'].apply(lambda x: 'cat' in x)"
   ],
   "metadata": {
    "collapsed": false,
    "pycharm": {
     "name": "#%%\n"
    }
   }
  },
  {
   "cell_type": "code",
   "execution_count": 39,
   "outputs": [
    {
     "data": {
      "text/plain": "0     True\n1     True\n2    False\n3    False\nName: D, dtype: bool"
     },
     "execution_count": 39,
     "metadata": {},
     "output_type": "execute_result"
    }
   ],
   "source": [
    "# cat or dog 포함\n",
    "df['D'].str.contains(r'cat|dog')"
   ],
   "metadata": {
    "collapsed": false,
    "pycharm": {
     "name": "#%%\n"
    }
   }
  },
  {
   "cell_type": "code",
   "execution_count": 41,
   "outputs": [
    {
     "data": {
      "text/plain": "0    False\n1    False\n2    False\n3    False\nName: D, dtype: bool"
     },
     "execution_count": 41,
     "metadata": {},
     "output_type": "execute_result"
    }
   ],
   "source": [
    "# cat으로 시작\n",
    "df['D'].str.contains(r'^cat')"
   ],
   "metadata": {
    "collapsed": false,
    "pycharm": {
     "name": "#%%\n"
    }
   }
  },
  {
   "cell_type": "code",
   "execution_count": 42,
   "outputs": [
    {
     "data": {
      "text/plain": "0     True\n1    False\n2    False\n3    False\nName: D, dtype: bool"
     },
     "execution_count": 42,
     "metadata": {},
     "output_type": "execute_result"
    }
   ],
   "source": [
    "# cat으로 종료\n",
    "df['D'].str.contains(r'cat$')"
   ],
   "metadata": {
    "collapsed": false,
    "pycharm": {
     "name": "#%%\n"
    }
   }
  },
  {
   "cell_type": "code",
   "execution_count": 44,
   "outputs": [
    {
     "data": {
      "text/plain": "     0\n0  cat\n1  cat\n2  dog\n3  NaN",
      "text/html": "<div>\n<style scoped>\n    .dataframe tbody tr th:only-of-type {\n        vertical-align: middle;\n    }\n\n    .dataframe tbody tr th {\n        vertical-align: top;\n    }\n\n    .dataframe thead th {\n        text-align: right;\n    }\n</style>\n<table border=\"1\" class=\"dataframe\">\n  <thead>\n    <tr style=\"text-align: right;\">\n      <th></th>\n      <th>0</th>\n    </tr>\n  </thead>\n  <tbody>\n    <tr>\n      <th>0</th>\n      <td>cat</td>\n    </tr>\n    <tr>\n      <th>1</th>\n      <td>cat</td>\n    </tr>\n    <tr>\n      <th>2</th>\n      <td>dog</td>\n    </tr>\n    <tr>\n      <th>3</th>\n      <td>NaN</td>\n    </tr>\n  </tbody>\n</table>\n</div>"
     },
     "execution_count": 44,
     "metadata": {},
     "output_type": "execute_result"
    }
   ],
   "source": [
    "df['E'].str.extract(r'(cat|dog)')"
   ],
   "metadata": {
    "collapsed": false,
    "pycharm": {
     "name": "#%%\n"
    }
   }
  },
  {
   "cell_type": "code",
   "execution_count": 48,
   "outputs": [
    {
     "data": {
      "text/plain": "0     True\n1     True\n2    False\n3    False\nName: D, dtype: bool"
     },
     "execution_count": 48,
     "metadata": {},
     "output_type": "execute_result"
    }
   ],
   "source": [
    "# D컬럼에서 cat or dog 가 들어갔는지 apply 함수를 이용해 출력하시오\n",
    "cond1 = df['D'].apply(lambda s: 'cat' in s)\n",
    "cond2 = df['D'].apply(lambda s: 'dog' in s)\n",
    "cond1 | cond2"
   ],
   "metadata": {
    "collapsed": false,
    "pycharm": {
     "name": "#%%\n"
    }
   }
  },
  {
   "cell_type": "code",
   "execution_count": 49,
   "outputs": [
    {
     "data": {
      "text/plain": "0     True\n1     True\n2    False\n3    False\nName: D, dtype: bool"
     },
     "execution_count": 49,
     "metadata": {},
     "output_type": "execute_result"
    }
   ],
   "source": [
    "# D컬럼에서 cat or dog 가 들어갔는지 contains 함수를 이용해 출력하시오\n",
    "df['D'].str.contains(r'cat|dog')"
   ],
   "metadata": {
    "collapsed": false,
    "pycharm": {
     "name": "#%%\n"
    }
   }
  },
  {
   "cell_type": "code",
   "execution_count": 51,
   "outputs": [
    {
     "data": {
      "text/plain": "0     True\n1    False\n2    False\n3    False\nName: D, dtype: bool"
     },
     "execution_count": 51,
     "metadata": {},
     "output_type": "execute_result"
    }
   ],
   "source": [
    "# D컬럼에서 cat으로 종료하는지 apply함수를 이용해 출력하시오\n",
    "df['D'].apply(lambda s: s[-3:]=='cat')"
   ],
   "metadata": {
    "collapsed": false,
    "pycharm": {
     "name": "#%%\n"
    }
   }
  },
  {
   "cell_type": "code",
   "execution_count": 52,
   "outputs": [
    {
     "data": {
      "text/plain": "0     True\n1    False\n2    False\n3    False\nName: D, dtype: bool"
     },
     "execution_count": 52,
     "metadata": {},
     "output_type": "execute_result"
    }
   ],
   "source": [
    "df['D'].str.contains(r'cat$')"
   ],
   "metadata": {
    "collapsed": false,
    "pycharm": {
     "name": "#%%\n"
    }
   }
  },
  {
   "cell_type": "code",
   "execution_count": 53,
   "outputs": [
    {
     "data": {
      "text/plain": "    이름 제품 할인여부\n0  강승주  A   할인\n1  송중기  B   할인\n2  권보아  C   할인\n3  강보경  C   할인\n4  김판다  A  정상가\n5  박효신  A  정상가",
      "text/html": "<div>\n<style scoped>\n    .dataframe tbody tr th:only-of-type {\n        vertical-align: middle;\n    }\n\n    .dataframe tbody tr th {\n        vertical-align: top;\n    }\n\n    .dataframe thead th {\n        text-align: right;\n    }\n</style>\n<table border=\"1\" class=\"dataframe\">\n  <thead>\n    <tr style=\"text-align: right;\">\n      <th></th>\n      <th>이름</th>\n      <th>제품</th>\n      <th>할인여부</th>\n    </tr>\n  </thead>\n  <tbody>\n    <tr>\n      <th>0</th>\n      <td>강승주</td>\n      <td>A</td>\n      <td>할인</td>\n    </tr>\n    <tr>\n      <th>1</th>\n      <td>송중기</td>\n      <td>B</td>\n      <td>할인</td>\n    </tr>\n    <tr>\n      <th>2</th>\n      <td>권보아</td>\n      <td>C</td>\n      <td>할인</td>\n    </tr>\n    <tr>\n      <th>3</th>\n      <td>강보경</td>\n      <td>C</td>\n      <td>할인</td>\n    </tr>\n    <tr>\n      <th>4</th>\n      <td>김판다</td>\n      <td>A</td>\n      <td>정상가</td>\n    </tr>\n    <tr>\n      <th>5</th>\n      <td>박효신</td>\n      <td>A</td>\n      <td>정상가</td>\n    </tr>\n  </tbody>\n</table>\n</div>"
     },
     "execution_count": 53,
     "metadata": {},
     "output_type": "execute_result"
    }
   ],
   "source": [
    "data3 = [\n",
    "    ['강승주', 'A', '할인'],\n",
    "    ['송중기', 'B', '할인'],\n",
    "    ['권보아', 'C', '할인'],\n",
    "    ['강보경', 'C', '할인'],\n",
    "    ['김판다', 'A', '정상가'],\n",
    "    ['박효신', 'A', '정상가']\n",
    "]\n",
    "df3 = pd.DataFrame(data3, columns=['이름','제품','할인여부'])\n",
    "df3"
   ],
   "metadata": {
    "collapsed": false,
    "pycharm": {
     "name": "#%%\n"
    }
   }
  },
  {
   "cell_type": "code",
   "execution_count": 54,
   "outputs": [
    {
     "data": {
      "text/plain": "    정상가    할인\nA  5000  4000\nB  1200  1000\nC  2000  1500",
      "text/html": "<div>\n<style scoped>\n    .dataframe tbody tr th:only-of-type {\n        vertical-align: middle;\n    }\n\n    .dataframe tbody tr th {\n        vertical-align: top;\n    }\n\n    .dataframe thead th {\n        text-align: right;\n    }\n</style>\n<table border=\"1\" class=\"dataframe\">\n  <thead>\n    <tr style=\"text-align: right;\">\n      <th></th>\n      <th>정상가</th>\n      <th>할인</th>\n    </tr>\n  </thead>\n  <tbody>\n    <tr>\n      <th>A</th>\n      <td>5000</td>\n      <td>4000</td>\n    </tr>\n    <tr>\n      <th>B</th>\n      <td>1200</td>\n      <td>1000</td>\n    </tr>\n    <tr>\n      <th>C</th>\n      <td>2000</td>\n      <td>1500</td>\n    </tr>\n  </tbody>\n</table>\n</div>"
     },
     "execution_count": 54,
     "metadata": {},
     "output_type": "execute_result"
    }
   ],
   "source": [
    "df4 = pd.DataFrame([[5000, 4000], [1200, 1000], [2000, 1500]], index=list('ABC'), columns=['정상가', '할인'])\n",
    "df4"
   ],
   "metadata": {
    "collapsed": false,
    "pycharm": {
     "name": "#%%\n"
    }
   }
  },
  {
   "cell_type": "code",
   "execution_count": 58,
   "outputs": [
    {
     "name": "stdout",
     "output_type": "stream",
     "text": [
      "A\n",
      "할인\n"
     ]
    }
   ],
   "source": [
    "x = df3.iloc[0]\n",
    "print(x['제품'])\n",
    "print(x['할인여부'])"
   ],
   "metadata": {
    "collapsed": false,
    "pycharm": {
     "name": "#%%\n"
    }
   }
  },
  {
   "cell_type": "code",
   "execution_count": 67,
   "outputs": [
    {
     "data": {
      "text/plain": "4000"
     },
     "execution_count": 67,
     "metadata": {},
     "output_type": "execute_result"
    }
   ],
   "source": [
    "df4.loc[x['제품'], x['할인여부']]"
   ],
   "metadata": {
    "collapsed": false,
    "pycharm": {
     "name": "#%%\n"
    }
   }
  },
  {
   "cell_type": "code",
   "execution_count": 72,
   "outputs": [
    {
     "data": {
      "text/plain": "    이름 제품 할인여부    가격\n0  강승주  A   할인  4000\n1  송중기  B   할인  1000\n2  권보아  C   할인  1500\n3  강보경  C   할인  1500\n4  김판다  A  정상가  5000\n5  박효신  A  정상가  5000",
      "text/html": "<div>\n<style scoped>\n    .dataframe tbody tr th:only-of-type {\n        vertical-align: middle;\n    }\n\n    .dataframe tbody tr th {\n        vertical-align: top;\n    }\n\n    .dataframe thead th {\n        text-align: right;\n    }\n</style>\n<table border=\"1\" class=\"dataframe\">\n  <thead>\n    <tr style=\"text-align: right;\">\n      <th></th>\n      <th>이름</th>\n      <th>제품</th>\n      <th>할인여부</th>\n      <th>가격</th>\n    </tr>\n  </thead>\n  <tbody>\n    <tr>\n      <th>0</th>\n      <td>강승주</td>\n      <td>A</td>\n      <td>할인</td>\n      <td>4000</td>\n    </tr>\n    <tr>\n      <th>1</th>\n      <td>송중기</td>\n      <td>B</td>\n      <td>할인</td>\n      <td>1000</td>\n    </tr>\n    <tr>\n      <th>2</th>\n      <td>권보아</td>\n      <td>C</td>\n      <td>할인</td>\n      <td>1500</td>\n    </tr>\n    <tr>\n      <th>3</th>\n      <td>강보경</td>\n      <td>C</td>\n      <td>할인</td>\n      <td>1500</td>\n    </tr>\n    <tr>\n      <th>4</th>\n      <td>김판다</td>\n      <td>A</td>\n      <td>정상가</td>\n      <td>5000</td>\n    </tr>\n    <tr>\n      <th>5</th>\n      <td>박효신</td>\n      <td>A</td>\n      <td>정상가</td>\n      <td>5000</td>\n    </tr>\n  </tbody>\n</table>\n</div>"
     },
     "execution_count": 72,
     "metadata": {},
     "output_type": "execute_result"
    }
   ],
   "source": [
    "df3['가격'] = df3.apply(lambda x: df4.loc[x['제품'], x['할인여부']], axis=1)\n",
    "df3"
   ],
   "metadata": {
    "collapsed": false,
    "pycharm": {
     "name": "#%%\n"
    }
   }
  },
  {
   "cell_type": "code",
   "execution_count": null,
   "outputs": [],
   "source": [],
   "metadata": {
    "collapsed": false,
    "pycharm": {
     "name": "#%%\n"
    }
   }
  }
 ],
 "metadata": {
  "kernelspec": {
   "display_name": "Python 3",
   "language": "python",
   "name": "python3"
  },
  "language_info": {
   "codemirror_mode": {
    "name": "ipython",
    "version": 2
   },
   "file_extension": ".py",
   "mimetype": "text/x-python",
   "name": "python",
   "nbconvert_exporter": "python",
   "pygments_lexer": "ipython2",
   "version": "2.7.6"
  }
 },
 "nbformat": 4,
 "nbformat_minor": 0
}