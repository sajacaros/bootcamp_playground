{
 "cells": [
  {
   "cell_type": "markdown",
   "metadata": {
    "collapsed": true,
    "pycharm": {
     "name": "#%% md\n"
    }
   },
   "source": [
    "# Ch09. 주식데이터를 통해 groupby 사용하기"
   ]
  },
  {
   "cell_type": "code",
   "execution_count": 1,
   "outputs": [],
   "source": [
    "import pandas as pd\n",
    "import numpy as np\n",
    "import matplotlib.pyplot as plt\n",
    "import seaborn as sns"
   ],
   "metadata": {
    "collapsed": false,
    "pycharm": {
     "name": "#%%\n"
    }
   }
  },
  {
   "cell_type": "markdown",
   "source": [
    "## 01. 데이터 이동하기(shift)"
   ],
   "metadata": {
    "collapsed": false,
    "pycharm": {
     "name": "#%% md\n"
    }
   }
  },
  {
   "cell_type": "code",
   "execution_count": 2,
   "outputs": [
    {
     "data": {
      "text/plain": "      날짜    가격\n0  01/01  1000\n1  01/02  1200\n2  01/03   900\n3  01/04  1200\n4  01/05  1500",
      "text/html": "<div>\n<style scoped>\n    .dataframe tbody tr th:only-of-type {\n        vertical-align: middle;\n    }\n\n    .dataframe tbody tr th {\n        vertical-align: top;\n    }\n\n    .dataframe thead th {\n        text-align: right;\n    }\n</style>\n<table border=\"1\" class=\"dataframe\">\n  <thead>\n    <tr style=\"text-align: right;\">\n      <th></th>\n      <th>날짜</th>\n      <th>가격</th>\n    </tr>\n  </thead>\n  <tbody>\n    <tr>\n      <th>0</th>\n      <td>01/01</td>\n      <td>1000</td>\n    </tr>\n    <tr>\n      <th>1</th>\n      <td>01/02</td>\n      <td>1200</td>\n    </tr>\n    <tr>\n      <th>2</th>\n      <td>01/03</td>\n      <td>900</td>\n    </tr>\n    <tr>\n      <th>3</th>\n      <td>01/04</td>\n      <td>1200</td>\n    </tr>\n    <tr>\n      <th>4</th>\n      <td>01/05</td>\n      <td>1500</td>\n    </tr>\n  </tbody>\n</table>\n</div>"
     },
     "execution_count": 2,
     "metadata": {},
     "output_type": "execute_result"
    }
   ],
   "source": [
    "data = [['01/01', 1000], ['01/02', 1200], ['01/03', 900], ['01/04', 1200], ['01/05', 1500]]\n",
    "df = pd.DataFrame(data, columns=['날짜', '가격'])\n",
    "df"
   ],
   "metadata": {
    "collapsed": false,
    "pycharm": {
     "name": "#%%\n"
    }
   }
  },
  {
   "cell_type": "code",
   "execution_count": 3,
   "outputs": [
    {
     "data": {
      "text/plain": "      날짜      가격\n0   None     NaN\n1  01/01  1000.0\n2  01/02  1200.0\n3  01/03   900.0\n4  01/04  1200.0",
      "text/html": "<div>\n<style scoped>\n    .dataframe tbody tr th:only-of-type {\n        vertical-align: middle;\n    }\n\n    .dataframe tbody tr th {\n        vertical-align: top;\n    }\n\n    .dataframe thead th {\n        text-align: right;\n    }\n</style>\n<table border=\"1\" class=\"dataframe\">\n  <thead>\n    <tr style=\"text-align: right;\">\n      <th></th>\n      <th>날짜</th>\n      <th>가격</th>\n    </tr>\n  </thead>\n  <tbody>\n    <tr>\n      <th>0</th>\n      <td>None</td>\n      <td>NaN</td>\n    </tr>\n    <tr>\n      <th>1</th>\n      <td>01/01</td>\n      <td>1000.0</td>\n    </tr>\n    <tr>\n      <th>2</th>\n      <td>01/02</td>\n      <td>1200.0</td>\n    </tr>\n    <tr>\n      <th>3</th>\n      <td>01/03</td>\n      <td>900.0</td>\n    </tr>\n    <tr>\n      <th>4</th>\n      <td>01/04</td>\n      <td>1200.0</td>\n    </tr>\n  </tbody>\n</table>\n</div>"
     },
     "execution_count": 3,
     "metadata": {},
     "output_type": "execute_result"
    }
   ],
   "source": [
    "df.shift()"
   ],
   "metadata": {
    "collapsed": false,
    "pycharm": {
     "name": "#%%\n"
    }
   }
  },
  {
   "cell_type": "code",
   "execution_count": 4,
   "outputs": [
    {
     "data": {
      "text/plain": "      날짜      가격\n0  01/02  1200.0\n1  01/03   900.0\n2  01/04  1200.0\n3  01/05  1500.0\n4   None     NaN",
      "text/html": "<div>\n<style scoped>\n    .dataframe tbody tr th:only-of-type {\n        vertical-align: middle;\n    }\n\n    .dataframe tbody tr th {\n        vertical-align: top;\n    }\n\n    .dataframe thead th {\n        text-align: right;\n    }\n</style>\n<table border=\"1\" class=\"dataframe\">\n  <thead>\n    <tr style=\"text-align: right;\">\n      <th></th>\n      <th>날짜</th>\n      <th>가격</th>\n    </tr>\n  </thead>\n  <tbody>\n    <tr>\n      <th>0</th>\n      <td>01/02</td>\n      <td>1200.0</td>\n    </tr>\n    <tr>\n      <th>1</th>\n      <td>01/03</td>\n      <td>900.0</td>\n    </tr>\n    <tr>\n      <th>2</th>\n      <td>01/04</td>\n      <td>1200.0</td>\n    </tr>\n    <tr>\n      <th>3</th>\n      <td>01/05</td>\n      <td>1500.0</td>\n    </tr>\n    <tr>\n      <th>4</th>\n      <td>None</td>\n      <td>NaN</td>\n    </tr>\n  </tbody>\n</table>\n</div>"
     },
     "execution_count": 4,
     "metadata": {},
     "output_type": "execute_result"
    }
   ],
   "source": [
    "df.shift(-1)"
   ],
   "metadata": {
    "collapsed": false,
    "pycharm": {
     "name": "#%%\n"
    }
   }
  },
  {
   "cell_type": "code",
   "execution_count": 5,
   "outputs": [
    {
     "data": {
      "text/plain": "      날짜    가격   가격변동\n0  01/01  1000    NaN\n1  01/02  1200  200.0\n2  01/03   900 -300.0\n3  01/04  1200  300.0\n4  01/05  1500  300.0",
      "text/html": "<div>\n<style scoped>\n    .dataframe tbody tr th:only-of-type {\n        vertical-align: middle;\n    }\n\n    .dataframe tbody tr th {\n        vertical-align: top;\n    }\n\n    .dataframe thead th {\n        text-align: right;\n    }\n</style>\n<table border=\"1\" class=\"dataframe\">\n  <thead>\n    <tr style=\"text-align: right;\">\n      <th></th>\n      <th>날짜</th>\n      <th>가격</th>\n      <th>가격변동</th>\n    </tr>\n  </thead>\n  <tbody>\n    <tr>\n      <th>0</th>\n      <td>01/01</td>\n      <td>1000</td>\n      <td>NaN</td>\n    </tr>\n    <tr>\n      <th>1</th>\n      <td>01/02</td>\n      <td>1200</td>\n      <td>200.0</td>\n    </tr>\n    <tr>\n      <th>2</th>\n      <td>01/03</td>\n      <td>900</td>\n      <td>-300.0</td>\n    </tr>\n    <tr>\n      <th>3</th>\n      <td>01/04</td>\n      <td>1200</td>\n      <td>300.0</td>\n    </tr>\n    <tr>\n      <th>4</th>\n      <td>01/05</td>\n      <td>1500</td>\n      <td>300.0</td>\n    </tr>\n  </tbody>\n</table>\n</div>"
     },
     "execution_count": 5,
     "metadata": {},
     "output_type": "execute_result"
    }
   ],
   "source": [
    "df1 = df.copy()\n",
    "df1['가격변동'] = df1['가격'] - df1['가격'].shift()\n",
    "df1"
   ],
   "metadata": {
    "collapsed": false,
    "pycharm": {
     "name": "#%%\n"
    }
   }
  },
  {
   "cell_type": "code",
   "execution_count": 6,
   "outputs": [
    {
     "data": {
      "text/plain": "      날짜    가격   가격변동       변동률\n0  01/01  1000    NaN       NaN\n1  01/02  1200  200.0  0.200000\n2  01/03   900 -300.0 -0.250000\n3  01/04  1200  300.0  0.333333\n4  01/05  1500  300.0  0.250000",
      "text/html": "<div>\n<style scoped>\n    .dataframe tbody tr th:only-of-type {\n        vertical-align: middle;\n    }\n\n    .dataframe tbody tr th {\n        vertical-align: top;\n    }\n\n    .dataframe thead th {\n        text-align: right;\n    }\n</style>\n<table border=\"1\" class=\"dataframe\">\n  <thead>\n    <tr style=\"text-align: right;\">\n      <th></th>\n      <th>날짜</th>\n      <th>가격</th>\n      <th>가격변동</th>\n      <th>변동률</th>\n    </tr>\n  </thead>\n  <tbody>\n    <tr>\n      <th>0</th>\n      <td>01/01</td>\n      <td>1000</td>\n      <td>NaN</td>\n      <td>NaN</td>\n    </tr>\n    <tr>\n      <th>1</th>\n      <td>01/02</td>\n      <td>1200</td>\n      <td>200.0</td>\n      <td>0.200000</td>\n    </tr>\n    <tr>\n      <th>2</th>\n      <td>01/03</td>\n      <td>900</td>\n      <td>-300.0</td>\n      <td>-0.250000</td>\n    </tr>\n    <tr>\n      <th>3</th>\n      <td>01/04</td>\n      <td>1200</td>\n      <td>300.0</td>\n      <td>0.333333</td>\n    </tr>\n    <tr>\n      <th>4</th>\n      <td>01/05</td>\n      <td>1500</td>\n      <td>300.0</td>\n      <td>0.250000</td>\n    </tr>\n  </tbody>\n</table>\n</div>"
     },
     "execution_count": 6,
     "metadata": {},
     "output_type": "execute_result"
    }
   ],
   "source": [
    "df1['변동률'] = df1['가격'] / df1['가격'].shift() - 1\n",
    "df1"
   ],
   "metadata": {
    "collapsed": false,
    "pycharm": {
     "name": "#%%\n"
    }
   }
  },
  {
   "cell_type": "code",
   "execution_count": 7,
   "outputs": [
    {
     "data": {
      "text/plain": "0         NaN\n1    0.200000\n2   -0.250000\n3    0.333333\n4    0.250000\nName: 가격, dtype: float64"
     },
     "execution_count": 7,
     "metadata": {},
     "output_type": "execute_result"
    }
   ],
   "source": [
    "df1['가격'].pct_change()"
   ],
   "metadata": {
    "collapsed": false,
    "pycharm": {
     "name": "#%%\n"
    }
   }
  },
  {
   "cell_type": "code",
   "execution_count": 8,
   "outputs": [
    {
     "data": {
      "text/plain": "0      NaN\n1    200.0\n2   -300.0\n3    300.0\n4    300.0\nName: 가격, dtype: float64"
     },
     "execution_count": 8,
     "metadata": {},
     "output_type": "execute_result"
    }
   ],
   "source": [
    "df1['가격'].diff()"
   ],
   "metadata": {
    "collapsed": false,
    "pycharm": {
     "name": "#%%\n"
    }
   }
  },
  {
   "cell_type": "markdown",
   "source": [
    "## 02. groupby가 필요한 이유"
   ],
   "metadata": {
    "collapsed": false
   }
  },
  {
   "cell_type": "markdown",
   "source": [
    "* 그룹 내에서 함수를 적용하게 해주는 함수\n",
    "* 기본 구조\n",
    "```\n",
    "df.groupby(그룹의 기준)[함수에 적용할 열].func()\n",
    "```"
   ],
   "metadata": {
    "collapsed": false,
    "pycharm": {
     "name": "#%% md\n"
    }
   }
  },
  {
   "cell_type": "markdown",
   "source": [
    "## 03. 원시(raw) 데이터 그룹화해서 다르기(groupby)"
   ],
   "metadata": {
    "collapsed": false
   }
  },
  {
   "cell_type": "code",
   "execution_count": 3,
   "outputs": [
    {
     "data": {
      "text/plain": "    이름  반 성별  점수\n0  김판다  A  남  95\n1  송중기  B  남  93\n2  김나현  B  여  88\n3  박효신  A  남  85\n4  강승주  B  여  78\n5  권보아  A  여  72",
      "text/html": "<div>\n<style scoped>\n    .dataframe tbody tr th:only-of-type {\n        vertical-align: middle;\n    }\n\n    .dataframe tbody tr th {\n        vertical-align: top;\n    }\n\n    .dataframe thead th {\n        text-align: right;\n    }\n</style>\n<table border=\"1\" class=\"dataframe\">\n  <thead>\n    <tr style=\"text-align: right;\">\n      <th></th>\n      <th>이름</th>\n      <th>반</th>\n      <th>성별</th>\n      <th>점수</th>\n    </tr>\n  </thead>\n  <tbody>\n    <tr>\n      <th>0</th>\n      <td>김판다</td>\n      <td>A</td>\n      <td>남</td>\n      <td>95</td>\n    </tr>\n    <tr>\n      <th>1</th>\n      <td>송중기</td>\n      <td>B</td>\n      <td>남</td>\n      <td>93</td>\n    </tr>\n    <tr>\n      <th>2</th>\n      <td>김나현</td>\n      <td>B</td>\n      <td>여</td>\n      <td>88</td>\n    </tr>\n    <tr>\n      <th>3</th>\n      <td>박효신</td>\n      <td>A</td>\n      <td>남</td>\n      <td>85</td>\n    </tr>\n    <tr>\n      <th>4</th>\n      <td>강승주</td>\n      <td>B</td>\n      <td>여</td>\n      <td>78</td>\n    </tr>\n    <tr>\n      <th>5</th>\n      <td>권보아</td>\n      <td>A</td>\n      <td>여</td>\n      <td>72</td>\n    </tr>\n  </tbody>\n</table>\n</div>"
     },
     "execution_count": 3,
     "metadata": {},
     "output_type": "execute_result"
    }
   ],
   "source": [
    "data1 = [\n",
    "    ['김판다', 'A', '남', 95],\n",
    "    ['송중기', 'B', '남', 93],\n",
    "    ['김나현', 'B', '여', 88],\n",
    "    ['박효신', 'A', '남', 85],\n",
    "    ['강승주', 'B', '여', 78],\n",
    "    ['권보아', 'A', '여', 72]\n",
    "]\n",
    "df1 = pd.DataFrame(data1, columns=['이름', '반', '성별', '점수'])\n",
    "df1"
   ],
   "metadata": {
    "collapsed": false,
    "pycharm": {
     "name": "#%%\n"
    }
   }
  },
  {
   "cell_type": "code",
   "execution_count": 4,
   "outputs": [
    {
     "data": {
      "text/plain": "           날짜   이름     입금\n0  2021-01-01  김판다  10000\n1  2021-01-01  강승주   2000\n2  2021-01-02  김판다  20000\n3  2021-01-02  강승주   5000\n4  2021-01-03  강승주   8000\n5  2021-01-03  김판다   5000",
      "text/html": "<div>\n<style scoped>\n    .dataframe tbody tr th:only-of-type {\n        vertical-align: middle;\n    }\n\n    .dataframe tbody tr th {\n        vertical-align: top;\n    }\n\n    .dataframe thead th {\n        text-align: right;\n    }\n</style>\n<table border=\"1\" class=\"dataframe\">\n  <thead>\n    <tr style=\"text-align: right;\">\n      <th></th>\n      <th>날짜</th>\n      <th>이름</th>\n      <th>입금</th>\n    </tr>\n  </thead>\n  <tbody>\n    <tr>\n      <th>0</th>\n      <td>2021-01-01</td>\n      <td>김판다</td>\n      <td>10000</td>\n    </tr>\n    <tr>\n      <th>1</th>\n      <td>2021-01-01</td>\n      <td>강승주</td>\n      <td>2000</td>\n    </tr>\n    <tr>\n      <th>2</th>\n      <td>2021-01-02</td>\n      <td>김판다</td>\n      <td>20000</td>\n    </tr>\n    <tr>\n      <th>3</th>\n      <td>2021-01-02</td>\n      <td>강승주</td>\n      <td>5000</td>\n    </tr>\n    <tr>\n      <th>4</th>\n      <td>2021-01-03</td>\n      <td>강승주</td>\n      <td>8000</td>\n    </tr>\n    <tr>\n      <th>5</th>\n      <td>2021-01-03</td>\n      <td>김판다</td>\n      <td>5000</td>\n    </tr>\n  </tbody>\n</table>\n</div>"
     },
     "execution_count": 4,
     "metadata": {},
     "output_type": "execute_result"
    }
   ],
   "source": [
    "data2 = [\n",
    "    ['2021-01-01', '김판다', 10000],\n",
    "    ['2021-01-01', '강승주', 2000],\n",
    "    ['2021-01-02', '김판다', 20000],\n",
    "    ['2021-01-02', '강승주', 5000],\n",
    "    ['2021-01-03', '강승주', 8000],\n",
    "    ['2021-01-03', '김판다', 5000]\n",
    "]\n",
    "df2 = pd.DataFrame(data2, columns=['날짜', '이름', '입금'])\n",
    "df2"
   ],
   "metadata": {
    "collapsed": false,
    "pycharm": {
     "name": "#%%\n"
    }
   }
  },
  {
   "cell_type": "code",
   "execution_count": 6,
   "outputs": [
    {
     "data": {
      "text/plain": "    이름  반 성별  점수   등수\n0  김판다  A  남  95  1.0\n1  송중기  B  남  93  2.0\n2  김나현  B  여  88  3.0\n3  박효신  A  남  85  4.0\n4  강승주  B  여  78  5.0\n5  권보아  A  여  72  6.0",
      "text/html": "<div>\n<style scoped>\n    .dataframe tbody tr th:only-of-type {\n        vertical-align: middle;\n    }\n\n    .dataframe tbody tr th {\n        vertical-align: top;\n    }\n\n    .dataframe thead th {\n        text-align: right;\n    }\n</style>\n<table border=\"1\" class=\"dataframe\">\n  <thead>\n    <tr style=\"text-align: right;\">\n      <th></th>\n      <th>이름</th>\n      <th>반</th>\n      <th>성별</th>\n      <th>점수</th>\n      <th>등수</th>\n    </tr>\n  </thead>\n  <tbody>\n    <tr>\n      <th>0</th>\n      <td>김판다</td>\n      <td>A</td>\n      <td>남</td>\n      <td>95</td>\n      <td>1.0</td>\n    </tr>\n    <tr>\n      <th>1</th>\n      <td>송중기</td>\n      <td>B</td>\n      <td>남</td>\n      <td>93</td>\n      <td>2.0</td>\n    </tr>\n    <tr>\n      <th>2</th>\n      <td>김나현</td>\n      <td>B</td>\n      <td>여</td>\n      <td>88</td>\n      <td>3.0</td>\n    </tr>\n    <tr>\n      <th>3</th>\n      <td>박효신</td>\n      <td>A</td>\n      <td>남</td>\n      <td>85</td>\n      <td>4.0</td>\n    </tr>\n    <tr>\n      <th>4</th>\n      <td>강승주</td>\n      <td>B</td>\n      <td>여</td>\n      <td>78</td>\n      <td>5.0</td>\n    </tr>\n    <tr>\n      <th>5</th>\n      <td>권보아</td>\n      <td>A</td>\n      <td>여</td>\n      <td>72</td>\n      <td>6.0</td>\n    </tr>\n  </tbody>\n</table>\n</div>"
     },
     "execution_count": 6,
     "metadata": {},
     "output_type": "execute_result"
    }
   ],
   "source": [
    "df = df1.copy()\n",
    "df['등수'] = df['점수'].rank(ascending=False)\n",
    "df"
   ],
   "metadata": {
    "collapsed": false,
    "pycharm": {
     "name": "#%%\n"
    }
   }
  },
  {
   "cell_type": "code",
   "execution_count": 8,
   "outputs": [
    {
     "data": {
      "text/plain": "    이름  반 성별  점수   등수  반등수\n0  김판다  A  남  95  1.0  1.0\n1  송중기  B  남  93  2.0  1.0\n2  김나현  B  여  88  3.0  2.0\n3  박효신  A  남  85  4.0  2.0\n4  강승주  B  여  78  5.0  3.0\n5  권보아  A  여  72  6.0  3.0",
      "text/html": "<div>\n<style scoped>\n    .dataframe tbody tr th:only-of-type {\n        vertical-align: middle;\n    }\n\n    .dataframe tbody tr th {\n        vertical-align: top;\n    }\n\n    .dataframe thead th {\n        text-align: right;\n    }\n</style>\n<table border=\"1\" class=\"dataframe\">\n  <thead>\n    <tr style=\"text-align: right;\">\n      <th></th>\n      <th>이름</th>\n      <th>반</th>\n      <th>성별</th>\n      <th>점수</th>\n      <th>등수</th>\n      <th>반등수</th>\n    </tr>\n  </thead>\n  <tbody>\n    <tr>\n      <th>0</th>\n      <td>김판다</td>\n      <td>A</td>\n      <td>남</td>\n      <td>95</td>\n      <td>1.0</td>\n      <td>1.0</td>\n    </tr>\n    <tr>\n      <th>1</th>\n      <td>송중기</td>\n      <td>B</td>\n      <td>남</td>\n      <td>93</td>\n      <td>2.0</td>\n      <td>1.0</td>\n    </tr>\n    <tr>\n      <th>2</th>\n      <td>김나현</td>\n      <td>B</td>\n      <td>여</td>\n      <td>88</td>\n      <td>3.0</td>\n      <td>2.0</td>\n    </tr>\n    <tr>\n      <th>3</th>\n      <td>박효신</td>\n      <td>A</td>\n      <td>남</td>\n      <td>85</td>\n      <td>4.0</td>\n      <td>2.0</td>\n    </tr>\n    <tr>\n      <th>4</th>\n      <td>강승주</td>\n      <td>B</td>\n      <td>여</td>\n      <td>78</td>\n      <td>5.0</td>\n      <td>3.0</td>\n    </tr>\n    <tr>\n      <th>5</th>\n      <td>권보아</td>\n      <td>A</td>\n      <td>여</td>\n      <td>72</td>\n      <td>6.0</td>\n      <td>3.0</td>\n    </tr>\n  </tbody>\n</table>\n</div>"
     },
     "execution_count": 8,
     "metadata": {},
     "output_type": "execute_result"
    }
   ],
   "source": [
    "# 반별 등수\n",
    "df['반등수'] = df.groupby('반')['점수'].rank(ascending=False)\n",
    "df"
   ],
   "metadata": {
    "collapsed": false,
    "pycharm": {
     "name": "#%%\n"
    }
   }
  },
  {
   "cell_type": "code",
   "execution_count": 9,
   "outputs": [
    {
     "data": {
      "text/plain": "반\nA    84.000000\nB    86.333333\nName: 점수, dtype: float64"
     },
     "execution_count": 9,
     "metadata": {},
     "output_type": "execute_result"
    }
   ],
   "source": [
    "df.groupby('반')['점수'].mean()"
   ],
   "metadata": {
    "collapsed": false,
    "pycharm": {
     "name": "#%%\n"
    }
   }
  },
  {
   "cell_type": "code",
   "execution_count": 10,
   "outputs": [
    {
     "data": {
      "text/plain": "반  성별\nA  남     90.0\n   여     72.0\nB  남     93.0\n   여     83.0\nName: 점수, dtype: float64"
     },
     "execution_count": 10,
     "metadata": {},
     "output_type": "execute_result"
    }
   ],
   "source": [
    "df.groupby(['반', '성별'])['점수'].mean()"
   ],
   "metadata": {
    "collapsed": false,
    "pycharm": {
     "name": "#%%\n"
    }
   }
  },
  {
   "cell_type": "code",
   "execution_count": 11,
   "outputs": [
    {
     "data": {
      "text/plain": "성별     남     여\n반             \nA   90.0  72.0\nB   93.0  83.0",
      "text/html": "<div>\n<style scoped>\n    .dataframe tbody tr th:only-of-type {\n        vertical-align: middle;\n    }\n\n    .dataframe tbody tr th {\n        vertical-align: top;\n    }\n\n    .dataframe thead th {\n        text-align: right;\n    }\n</style>\n<table border=\"1\" class=\"dataframe\">\n  <thead>\n    <tr style=\"text-align: right;\">\n      <th>성별</th>\n      <th>남</th>\n      <th>여</th>\n    </tr>\n    <tr>\n      <th>반</th>\n      <th></th>\n      <th></th>\n    </tr>\n  </thead>\n  <tbody>\n    <tr>\n      <th>A</th>\n      <td>90.0</td>\n      <td>72.0</td>\n    </tr>\n    <tr>\n      <th>B</th>\n      <td>93.0</td>\n      <td>83.0</td>\n    </tr>\n  </tbody>\n</table>\n</div>"
     },
     "execution_count": 11,
     "metadata": {},
     "output_type": "execute_result"
    }
   ],
   "source": [
    "df.groupby(['반', '성별'])['점수'].mean().unstack()"
   ],
   "metadata": {
    "collapsed": false,
    "pycharm": {
     "name": "#%%\n"
    }
   }
  },
  {
   "cell_type": "code",
   "execution_count": 12,
   "outputs": [
    {
     "data": {
      "text/plain": "           날짜   이름     입금\n0  2021-01-01  김판다  10000\n1  2021-01-01  강승주   2000\n2  2021-01-02  김판다  20000\n3  2021-01-02  강승주   5000\n4  2021-01-03  강승주   8000\n5  2021-01-03  김판다   5000",
      "text/html": "<div>\n<style scoped>\n    .dataframe tbody tr th:only-of-type {\n        vertical-align: middle;\n    }\n\n    .dataframe tbody tr th {\n        vertical-align: top;\n    }\n\n    .dataframe thead th {\n        text-align: right;\n    }\n</style>\n<table border=\"1\" class=\"dataframe\">\n  <thead>\n    <tr style=\"text-align: right;\">\n      <th></th>\n      <th>날짜</th>\n      <th>이름</th>\n      <th>입금</th>\n    </tr>\n  </thead>\n  <tbody>\n    <tr>\n      <th>0</th>\n      <td>2021-01-01</td>\n      <td>김판다</td>\n      <td>10000</td>\n    </tr>\n    <tr>\n      <th>1</th>\n      <td>2021-01-01</td>\n      <td>강승주</td>\n      <td>2000</td>\n    </tr>\n    <tr>\n      <th>2</th>\n      <td>2021-01-02</td>\n      <td>김판다</td>\n      <td>20000</td>\n    </tr>\n    <tr>\n      <th>3</th>\n      <td>2021-01-02</td>\n      <td>강승주</td>\n      <td>5000</td>\n    </tr>\n    <tr>\n      <th>4</th>\n      <td>2021-01-03</td>\n      <td>강승주</td>\n      <td>8000</td>\n    </tr>\n    <tr>\n      <th>5</th>\n      <td>2021-01-03</td>\n      <td>김판다</td>\n      <td>5000</td>\n    </tr>\n  </tbody>\n</table>\n</div>"
     },
     "execution_count": 12,
     "metadata": {},
     "output_type": "execute_result"
    }
   ],
   "source": [
    "df2"
   ],
   "metadata": {
    "collapsed": false,
    "pycharm": {
     "name": "#%%\n"
    }
   }
  },
  {
   "cell_type": "code",
   "execution_count": 14,
   "outputs": [
    {
     "data": {
      "text/plain": "           날짜   이름     입금     전일입금\n0  2021-01-01  김판다  10000      NaN\n1  2021-01-01  강승주   2000      NaN\n2  2021-01-02  김판다  20000  10000.0\n3  2021-01-02  강승주   5000   2000.0\n4  2021-01-03  강승주   8000   5000.0\n5  2021-01-03  김판다   5000  20000.0",
      "text/html": "<div>\n<style scoped>\n    .dataframe tbody tr th:only-of-type {\n        vertical-align: middle;\n    }\n\n    .dataframe tbody tr th {\n        vertical-align: top;\n    }\n\n    .dataframe thead th {\n        text-align: right;\n    }\n</style>\n<table border=\"1\" class=\"dataframe\">\n  <thead>\n    <tr style=\"text-align: right;\">\n      <th></th>\n      <th>날짜</th>\n      <th>이름</th>\n      <th>입금</th>\n      <th>전일입금</th>\n    </tr>\n  </thead>\n  <tbody>\n    <tr>\n      <th>0</th>\n      <td>2021-01-01</td>\n      <td>김판다</td>\n      <td>10000</td>\n      <td>NaN</td>\n    </tr>\n    <tr>\n      <th>1</th>\n      <td>2021-01-01</td>\n      <td>강승주</td>\n      <td>2000</td>\n      <td>NaN</td>\n    </tr>\n    <tr>\n      <th>2</th>\n      <td>2021-01-02</td>\n      <td>김판다</td>\n      <td>20000</td>\n      <td>10000.0</td>\n    </tr>\n    <tr>\n      <th>3</th>\n      <td>2021-01-02</td>\n      <td>강승주</td>\n      <td>5000</td>\n      <td>2000.0</td>\n    </tr>\n    <tr>\n      <th>4</th>\n      <td>2021-01-03</td>\n      <td>강승주</td>\n      <td>8000</td>\n      <td>5000.0</td>\n    </tr>\n    <tr>\n      <th>5</th>\n      <td>2021-01-03</td>\n      <td>김판다</td>\n      <td>5000</td>\n      <td>20000.0</td>\n    </tr>\n  </tbody>\n</table>\n</div>"
     },
     "execution_count": 14,
     "metadata": {},
     "output_type": "execute_result"
    }
   ],
   "source": [
    "df2['전일입금'] = df2.groupby('이름')['입금'].shift()\n",
    "df2"
   ],
   "metadata": {
    "collapsed": false,
    "pycharm": {
     "name": "#%%\n"
    }
   }
  },
  {
   "cell_type": "markdown",
   "source": [
    "## 04. 파이썬 라이브러리를 통해 주식데이터 가져오기"
   ],
   "metadata": {
    "collapsed": false
   }
  },
  {
   "cell_type": "code",
   "execution_count": 15,
   "outputs": [],
   "source": [
    "import yfinance as yf"
   ],
   "metadata": {
    "collapsed": false,
    "pycharm": {
     "name": "#%%\n"
    }
   }
  },
  {
   "cell_type": "code",
   "execution_count": 20,
   "outputs": [
    {
     "name": "stdout",
     "output_type": "stream",
     "text": [
      "[*********************100%%**********************]  1 of 1 completed\n",
      "<class 'pandas.core.frame.DataFrame'>\n",
      "DatetimeIndex: 738 entries, 2018-01-02 to 2020-12-30\n",
      "Data columns (total 6 columns):\n",
      " #   Column     Non-Null Count  Dtype  \n",
      "---  ------     --------------  -----  \n",
      " 0   Open       738 non-null    float64\n",
      " 1   High       738 non-null    float64\n",
      " 2   Low        738 non-null    float64\n",
      " 3   Close      738 non-null    float64\n",
      " 4   Adj Close  738 non-null    float64\n",
      " 5   Volume     738 non-null    int64  \n",
      "dtypes: float64(5), int64(1)\n",
      "memory usage: 40.4 KB\n"
     ]
    }
   ],
   "source": [
    "df = yf.download('005930.KS', '2018-01-01', '2020-12-31')\n",
    "df.info()"
   ],
   "metadata": {
    "collapsed": false,
    "pycharm": {
     "name": "#%%\n"
    }
   }
  },
  {
   "cell_type": "code",
   "execution_count": 21,
   "outputs": [
    {
     "data": {
      "text/plain": "<Axes: xlabel='Date'>"
     },
     "execution_count": 21,
     "metadata": {},
     "output_type": "execute_result"
    },
    {
     "data": {
      "text/plain": "<Figure size 640x480 with 1 Axes>",
      "image/png": "[encoded data removed]"
     },
     "metadata": {},
     "output_type": "display_data"
    }
   ],
   "source": [
    "df['Close'].plot()"
   ],
   "metadata": {
    "collapsed": false,
    "pycharm": {
     "name": "#%%\n"
    }
   }
  },
  {
   "cell_type": "code",
   "execution_count": 24,
   "outputs": [
    {
     "name": "stdout",
     "output_type": "stream",
     "text": [
      "[*********************100%%**********************]  1 of 1 completed\n",
      "[*********************100%%**********************]  1 of 1 completed\n",
      "<class 'pandas.core.frame.DataFrame'>\n",
      "DatetimeIndex: 1476 entries, 2018-01-02 to 2020-12-30\n",
      "Data columns (total 7 columns):\n",
      " #   Column     Non-Null Count  Dtype  \n",
      "---  ------     --------------  -----  \n",
      " 0   Open       1476 non-null   float64\n",
      " 1   High       1476 non-null   float64\n",
      " 2   Low        1476 non-null   float64\n",
      " 3   Close      1476 non-null   float64\n",
      " 4   Adj Close  1476 non-null   float64\n",
      " 5   Volume     1476 non-null   int64  \n",
      " 6   Code       1476 non-null   object \n",
      "dtypes: float64(5), int64(1), object(1)\n",
      "memory usage: 92.2+ KB\n"
     ]
    }
   ],
   "source": [
    "stocks = ['005930.KS', '035720.KS']\n",
    "df_ex1 = pd.DataFrame()\n",
    "for code in stocks:\n",
    "    df = yf.download(code, '2018-01-01', '2020-12-31')\n",
    "    df['Code'] = code\n",
    "    df_ex1 = pd.concat([df_ex1, df])\n",
    "df_ex1.info()"
   ],
   "metadata": {
    "collapsed": false,
    "pycharm": {
     "name": "#%%\n"
    }
   }
  },
  {
   "cell_type": "code",
   "execution_count": 31,
   "outputs": [
    {
     "data": {
      "text/plain": "     종목코드     종목명    시장구분    소속부     종가   대비   등락률     시가     고가     저가  \\\n0  060310      3S  KOSDAQ  중견기업부   2240  -75 -3.24   2315   2330   2240   \n1  095570  AJ네트웍스   KOSPI    NaN   5370  -90 -1.65   5480   5480   5300   \n2  006840   AK홀딩스   KOSPI    NaN  17770  -30 -0.17  17670  17920  17600   \n3  054620  APS홀딩스  KOSDAQ  중견기업부  13760    0  0.00  13600  13860  13600   \n4  265520   AP시스템  KOSDAQ  우량기업부  20200 -350 -1.70  20700  20750  20100   \n\n      거래량        거래대금          시가총액     상장주식수  \n0  382882   873137720  108722078080  48536642  \n1  445230  2380080900  251435724150  46822295  \n2   10997   195036620  235409158970  13247561  \n3   48890   669061890  280624480960  20394221  \n4   59548  1213442450  308684704200  15281421  ",
      "text/html": "<div>\n<style scoped>\n    .dataframe tbody tr th:only-of-type {\n        vertical-align: middle;\n    }\n\n    .dataframe tbody tr th {\n        vertical-align: top;\n    }\n\n    .dataframe thead th {\n        text-align: right;\n    }\n</style>\n<table border=\"1\" class=\"dataframe\">\n  <thead>\n    <tr style=\"text-align: right;\">\n      <th></th>\n      <th>종목코드</th>\n      <th>종목명</th>\n      <th>시장구분</th>\n      <th>소속부</th>\n      <th>종가</th>\n      <th>대비</th>\n      <th>등락률</th>\n      <th>시가</th>\n      <th>고가</th>\n      <th>저가</th>\n      <th>거래량</th>\n      <th>거래대금</th>\n      <th>시가총액</th>\n      <th>상장주식수</th>\n    </tr>\n  </thead>\n  <tbody>\n    <tr>\n      <th>0</th>\n      <td>060310</td>\n      <td>3S</td>\n      <td>KOSDAQ</td>\n      <td>중견기업부</td>\n      <td>2240</td>\n      <td>-75</td>\n      <td>-3.24</td>\n      <td>2315</td>\n      <td>2330</td>\n      <td>2240</td>\n      <td>382882</td>\n      <td>873137720</td>\n      <td>108722078080</td>\n      <td>48536642</td>\n    </tr>\n    <tr>\n      <th>1</th>\n      <td>095570</td>\n      <td>AJ네트웍스</td>\n      <td>KOSPI</td>\n      <td>NaN</td>\n      <td>5370</td>\n      <td>-90</td>\n      <td>-1.65</td>\n      <td>5480</td>\n      <td>5480</td>\n      <td>5300</td>\n      <td>445230</td>\n      <td>2380080900</td>\n      <td>251435724150</td>\n      <td>46822295</td>\n    </tr>\n    <tr>\n      <th>2</th>\n      <td>006840</td>\n      <td>AK홀딩스</td>\n      <td>KOSPI</td>\n      <td>NaN</td>\n      <td>17770</td>\n      <td>-30</td>\n      <td>-0.17</td>\n      <td>17670</td>\n      <td>17920</td>\n      <td>17600</td>\n      <td>10997</td>\n      <td>195036620</td>\n      <td>235409158970</td>\n      <td>13247561</td>\n    </tr>\n    <tr>\n      <th>3</th>\n      <td>054620</td>\n      <td>APS홀딩스</td>\n      <td>KOSDAQ</td>\n      <td>중견기업부</td>\n      <td>13760</td>\n      <td>0</td>\n      <td>0.00</td>\n      <td>13600</td>\n      <td>13860</td>\n      <td>13600</td>\n      <td>48890</td>\n      <td>669061890</td>\n      <td>280624480960</td>\n      <td>20394221</td>\n    </tr>\n    <tr>\n      <th>4</th>\n      <td>265520</td>\n      <td>AP시스템</td>\n      <td>KOSDAQ</td>\n      <td>우량기업부</td>\n      <td>20200</td>\n      <td>-350</td>\n      <td>-1.70</td>\n      <td>20700</td>\n      <td>20750</td>\n      <td>20100</td>\n      <td>59548</td>\n      <td>1213442450</td>\n      <td>308684704200</td>\n      <td>15281421</td>\n    </tr>\n  </tbody>\n</table>\n</div>"
     },
     "execution_count": 31,
     "metadata": {},
     "output_type": "execute_result"
    }
   ],
   "source": [
    "url = 'https://raw.githubusercontent.com/panda-kim/csv_files/main/stock_230227.csv'\n",
    "df_stocks = pd.read_csv(url)\n",
    "df_stocks.head()"
   ],
   "metadata": {
    "collapsed": false,
    "pycharm": {
     "name": "#%%\n"
    }
   }
  },
  {
   "cell_type": "code",
   "execution_count": 32,
   "outputs": [
    {
     "name": "stdout",
     "output_type": "stream",
     "text": [
      "<class 'pandas.core.frame.DataFrame'>\n",
      "RangeIndex: 2700 entries, 0 to 2699\n",
      "Data columns (total 14 columns):\n",
      " #   Column  Non-Null Count  Dtype  \n",
      "---  ------  --------------  -----  \n",
      " 0   종목코드    2700 non-null   object \n",
      " 1   종목명     2700 non-null   object \n",
      " 2   시장구분    2700 non-null   object \n",
      " 3   소속부     1757 non-null   object \n",
      " 4   종가      2700 non-null   int64  \n",
      " 5   대비      2700 non-null   int64  \n",
      " 6   등락률     2700 non-null   float64\n",
      " 7   시가      2700 non-null   int64  \n",
      " 8   고가      2700 non-null   int64  \n",
      " 9   저가      2700 non-null   int64  \n",
      " 10  거래량     2700 non-null   int64  \n",
      " 11  거래대금    2700 non-null   int64  \n",
      " 12  시가총액    2700 non-null   int64  \n",
      " 13  상장주식수   2700 non-null   int64  \n",
      "dtypes: float64(1), int64(9), object(4)\n",
      "memory usage: 295.4+ KB\n"
     ]
    }
   ],
   "source": [
    "df_stocks.info()"
   ],
   "metadata": {
    "collapsed": false,
    "pycharm": {
     "name": "#%%\n"
    }
   }
  },
  {
   "cell_type": "code",
   "execution_count": 46,
   "outputs": [
    {
     "data": {
      "text/plain": "      종목코드     종목명\n7   282330  BGF리테일\n22  097950  CJ제일제당\n36  005830  DB손해보험\n61  383220     F&F\n67  078930      GS",
      "text/html": "<div>\n<style scoped>\n    .dataframe tbody tr th:only-of-type {\n        vertical-align: middle;\n    }\n\n    .dataframe tbody tr th {\n        vertical-align: top;\n    }\n\n    .dataframe thead th {\n        text-align: right;\n    }\n</style>\n<table border=\"1\" class=\"dataframe\">\n  <thead>\n    <tr style=\"text-align: right;\">\n      <th></th>\n      <th>종목코드</th>\n      <th>종목명</th>\n    </tr>\n  </thead>\n  <tbody>\n    <tr>\n      <th>7</th>\n      <td>282330</td>\n      <td>BGF리테일</td>\n    </tr>\n    <tr>\n      <th>22</th>\n      <td>097950</td>\n      <td>CJ제일제당</td>\n    </tr>\n    <tr>\n      <th>36</th>\n      <td>005830</td>\n      <td>DB손해보험</td>\n    </tr>\n    <tr>\n      <th>61</th>\n      <td>383220</td>\n      <td>F&amp;F</td>\n    </tr>\n    <tr>\n      <th>67</th>\n      <td>078930</td>\n      <td>GS</td>\n    </tr>\n  </tbody>\n</table>\n</div>"
     },
     "execution_count": 46,
     "metadata": {},
     "output_type": "execute_result"
    }
   ],
   "source": [
    "df_stocks = df_stocks.loc[df_stocks['시가총액'].rank(ascending=False) <= 100,['종목코드', '종목명']]\n",
    "df_stocks.head()"
   ],
   "metadata": {
    "collapsed": false,
    "pycharm": {
     "name": "#%%\n"
    }
   }
  },
  {
   "cell_type": "code",
   "execution_count": 52,
   "outputs": [
    {
     "data": {
      "text/plain": "['282330.KS',\n '097950.KS',\n '005830.KS',\n '383220.KS',\n '078930.KS',\n '267250.KS',\n '028300.KS',\n '011200.KS',\n '105560.KS',\n '030200.KS',\n '033780.KS',\n '003550.KS',\n '034220.KS',\n '051900.KS',\n '373220.KS',\n '032640.KS',\n '011070.KS',\n '066570.KS',\n '051910.KS',\n '035420.KS',\n '005490.KS',\n '010950.KS',\n '034730.KS',\n '011790.KS',\n '302440.KS',\n '326030.KS',\n '402340.KS',\n '361610.KS',\n '096770.KS',\n '017670.KS',\n '000660.KS',\n '035250.KS',\n '010130.KS',\n '011780.KS',\n '000270.KS',\n '024110.KS',\n '251270.KS',\n '003490.KS',\n '241560.KS',\n '034020.KS',\n '004990.KS',\n '011170.KS',\n '088980.KS',\n '138040.KS',\n '008560.KS',\n '006800.KS',\n '006400.KS',\n '028260.KS',\n '207940.KS',\n '032830.KS',\n '018260.KS',\n '028050.KS',\n '009150.KS',\n '005930.KS',\n '005935.KS',\n '010140.KS',\n '029780.KS',\n '000810.KS',\n '068270.KS',\n '091990.KS',\n '055550.KS',\n '002790.KS',\n '090430.KS',\n '086520.KS',\n '247540.KS',\n '036570.KS',\n '066970.KS',\n '271560.KS',\n '316140.KS',\n '000100.KS',\n '139480.KS',\n '035720.KS',\n '293490.KS',\n '323410.KS',\n '377300.KS',\n '021240.KS',\n '259960.KS',\n '028670.KS',\n '047050.KS',\n '003670.KS',\n '086790.KS',\n '352820.KS',\n '071050.KS',\n '015760.KS',\n '009540.KS',\n '161390.KS',\n '047810.KS',\n '128940.KS',\n '018880.KS',\n '009830.KS',\n '012450.KS',\n '000720.KS',\n '086280.KS',\n '012330.KS',\n '307950.KS',\n '004020.KS',\n '329180.KS',\n '005380.KS',\n '005387.KS',\n '008770.KS']"
     },
     "execution_count": 52,
     "metadata": {},
     "output_type": "execute_result"
    }
   ],
   "source": [
    "code_list = [code+'.KS' for code in df_stocks.종목코드]\n",
    "code_list"
   ],
   "metadata": {
    "collapsed": false,
    "pycharm": {
     "name": "#%%\n"
    }
   }
  },
  {
   "cell_type": "code",
   "execution_count": 53,
   "outputs": [
    {
     "name": "stdout",
     "output_type": "stream",
     "text": [
      "[*********************100%%**********************]  1 of 1 completed\n",
      "[*********************100%%**********************]  1 of 1 completed\n",
      "[*********************100%%**********************]  1 of 1 completed\n",
      "[*********************100%%**********************]  1 of 1 completed"
     ]
    },
    {
     "name": "stderr",
     "output_type": "stream",
     "text": [
      "\n",
      "1 Failed download:\n",
      "['383220.KS']: Exception(\"%ticker%: Data doesn't exist for startDate = 1514732400, endDate = 1609340400\")\n"
     ]
    },
    {
     "name": "stdout",
     "output_type": "stream",
     "text": [
      "\n",
      "[*********************100%%**********************]  1 of 1 completed\n",
      "[*********************100%%**********************]  1 of 1 completed\n",
      "[*********************100%%**********************]  1 of 1 completed"
     ]
    },
    {
     "name": "stderr",
     "output_type": "stream",
     "text": [
      "\n",
      "1 Failed download:\n",
      "['028300.KS']: Exception('%ticker%: No timezone found, symbol may be delisted')\n"
     ]
    },
    {
     "name": "stdout",
     "output_type": "stream",
     "text": [
      "\n",
      "[*********************100%%**********************]  1 of 1 completed\n",
      "[*********************100%%**********************]  1 of 1 completed\n",
      "[*********************100%%**********************]  1 of 1 completed\n",
      "[*********************100%%**********************]  1 of 1 completed\n",
      "[*********************100%%**********************]  1 of 1 completed\n",
      "[*********************100%%**********************]  1 of 1 completed\n",
      "[*********************100%%**********************]  1 of 1 completed\n",
      "[*********************100%%**********************]  1 of 1 completed"
     ]
    },
    {
     "name": "stderr",
     "output_type": "stream",
     "text": [
      "\n",
      "1 Failed download:\n",
      "['373220.KS']: Exception(\"%ticker%: Data doesn't exist for startDate = 1514732400, endDate = 1609340400\")\n"
     ]
    },
    {
     "name": "stdout",
     "output_type": "stream",
     "text": [
      "\n",
      "[*********************100%%**********************]  1 of 1 completed\n",
      "[*********************100%%**********************]  1 of 1 completed\n",
      "[*********************100%%**********************]  1 of 1 completed\n",
      "[*********************100%%**********************]  1 of 1 completed\n",
      "[*********************100%%**********************]  1 of 1 completed\n",
      "[*********************100%%**********************]  1 of 1 completed\n",
      "[*********************100%%**********************]  1 of 1 completed\n",
      "[*********************100%%**********************]  1 of 1 completed\n",
      "[*********************100%%**********************]  1 of 1 completed\n",
      "[*********************100%%**********************]  1 of 1 completed"
     ]
    },
    {
     "name": "stderr",
     "output_type": "stream",
     "text": [
      "\n",
      "1 Failed download:\n",
      "['302440.KS']: Exception(\"%ticker%: Data doesn't exist for startDate = 1514732400, endDate = 1609340400\")\n"
     ]
    },
    {
     "name": "stdout",
     "output_type": "stream",
     "text": [
      "\n",
      "[*********************100%%**********************]  1 of 1 completed\n",
      "[*********************100%%**********************]  1 of 1 completed"
     ]
    },
    {
     "name": "stderr",
     "output_type": "stream",
     "text": [
      "\n",
      "1 Failed download:\n",
      "['402340.KS']: Exception(\"%ticker%: Data doesn't exist for startDate = 1514732400, endDate = 1609340400\")\n"
     ]
    },
    {
     "name": "stdout",
     "output_type": "stream",
     "text": [
      "\n",
      "[*********************100%%**********************]  1 of 1 completed"
     ]
    },
    {
     "name": "stderr",
     "output_type": "stream",
     "text": [
      "\n",
      "1 Failed download:\n",
      "['361610.KS']: Exception(\"%ticker%: Data doesn't exist for startDate = 1514732400, endDate = 1609340400\")\n"
     ]
    },
    {
     "name": "stdout",
     "output_type": "stream",
     "text": [
      "\n",
      "[*********************100%%**********************]  1 of 1 completed\n",
      "[*********************100%%**********************]  1 of 1 completed\n",
      "[*********************100%%**********************]  1 of 1 completed\n",
      "[*********************100%%**********************]  1 of 1 completed\n",
      "[*********************100%%**********************]  1 of 1 completed\n",
      "[*********************100%%**********************]  1 of 1 completed\n",
      "[*********************100%%**********************]  1 of 1 completed\n",
      "[*********************100%%**********************]  1 of 1 completed\n",
      "[*********************100%%**********************]  1 of 1 completed\n",
      "[*********************100%%**********************]  1 of 1 completed\n",
      "[*********************100%%**********************]  1 of 1 completed\n",
      "[*********************100%%**********************]  1 of 1 completed\n",
      "[*********************100%%**********************]  1 of 1 completed\n",
      "[*********************100%%**********************]  1 of 1 completed\n",
      "[*********************100%%**********************]  1 of 1 completed\n",
      "[*********************100%%**********************]  1 of 1 completed\n",
      "[*********************100%%**********************]  1 of 1 completed"
     ]
    },
    {
     "name": "stderr",
     "output_type": "stream",
     "text": [
      "\n",
      "1 Failed download:\n",
      "['008560.KS']: Exception('%ticker%: No timezone found, symbol may be delisted')\n"
     ]
    },
    {
     "name": "stdout",
     "output_type": "stream",
     "text": [
      "\n",
      "[*********************100%%**********************]  1 of 1 completed\n",
      "[*********************100%%**********************]  1 of 1 completed\n",
      "[*********************100%%**********************]  1 of 1 completed\n",
      "[*********************100%%**********************]  1 of 1 completed\n",
      "[*********************100%%**********************]  1 of 1 completed\n",
      "[*********************100%%**********************]  1 of 1 completed\n",
      "[*********************100%%**********************]  1 of 1 completed\n",
      "[*********************100%%**********************]  1 of 1 completed\n",
      "[*********************100%%**********************]  1 of 1 completed\n",
      "[*********************100%%**********************]  1 of 1 completed\n",
      "[*********************100%%**********************]  1 of 1 completed\n",
      "[*********************100%%**********************]  1 of 1 completed\n",
      "[*********************100%%**********************]  1 of 1 completed\n",
      "[*********************100%%**********************]  1 of 1 completed\n",
      "[*********************100%%**********************]  1 of 1 completed"
     ]
    },
    {
     "name": "stderr",
     "output_type": "stream",
     "text": [
      "\n",
      "1 Failed download:\n",
      "['091990.KS']: Exception('%ticker%: No timezone found, symbol may be delisted')\n"
     ]
    },
    {
     "name": "stdout",
     "output_type": "stream",
     "text": [
      "\n",
      "[*********************100%%**********************]  1 of 1 completed\n",
      "[*********************100%%**********************]  1 of 1 completed\n",
      "[*********************100%%**********************]  1 of 1 completed\n",
      "[*********************100%%**********************]  1 of 1 completed"
     ]
    },
    {
     "name": "stderr",
     "output_type": "stream",
     "text": [
      "\n",
      "1 Failed download:\n",
      "['086520.KS']: Exception('%ticker%: No timezone found, symbol may be delisted')\n"
     ]
    },
    {
     "name": "stdout",
     "output_type": "stream",
     "text": [
      "\n",
      "[*********************100%%**********************]  1 of 1 completed"
     ]
    },
    {
     "name": "stderr",
     "output_type": "stream",
     "text": [
      "\n",
      "1 Failed download:\n",
      "['247540.KS']: Exception('%ticker%: No timezone found, symbol may be delisted')\n"
     ]
    },
    {
     "name": "stdout",
     "output_type": "stream",
     "text": [
      "\n",
      "[*********************100%%**********************]  1 of 1 completed\n",
      "[*********************100%%**********************]  1 of 1 completed"
     ]
    },
    {
     "name": "stderr",
     "output_type": "stream",
     "text": [
      "\n",
      "1 Failed download:\n",
      "['066970.KS']: Exception('%ticker%: No timezone found, symbol may be delisted')\n"
     ]
    },
    {
     "name": "stdout",
     "output_type": "stream",
     "text": [
      "\n",
      "[*********************100%%**********************]  1 of 1 completed\n",
      "[*********************100%%**********************]  1 of 1 completed\n",
      "[*********************100%%**********************]  1 of 1 completed\n",
      "[*********************100%%**********************]  1 of 1 completed\n",
      "[*********************100%%**********************]  1 of 1 completed\n",
      "[*********************100%%**********************]  1 of 1 completed"
     ]
    },
    {
     "name": "stderr",
     "output_type": "stream",
     "text": [
      "\n",
      "1 Failed download:\n",
      "['293490.KS']: Exception('%ticker%: No timezone found, symbol may be delisted')\n"
     ]
    },
    {
     "name": "stdout",
     "output_type": "stream",
     "text": [
      "\n",
      "[*********************100%%**********************]  1 of 1 completed"
     ]
    },
    {
     "name": "stderr",
     "output_type": "stream",
     "text": [
      "\n",
      "1 Failed download:\n",
      "['323410.KS']: Exception(\"%ticker%: Data doesn't exist for startDate = 1514732400, endDate = 1609340400\")\n"
     ]
    },
    {
     "name": "stdout",
     "output_type": "stream",
     "text": [
      "\n",
      "[*********************100%%**********************]  1 of 1 completed"
     ]
    },
    {
     "name": "stderr",
     "output_type": "stream",
     "text": [
      "\n",
      "1 Failed download:\n",
      "['377300.KS']: Exception(\"%ticker%: Data doesn't exist for startDate = 1514732400, endDate = 1609340400\")\n"
     ]
    },
    {
     "name": "stdout",
     "output_type": "stream",
     "text": [
      "\n",
      "[*********************100%%**********************]  1 of 1 completed\n",
      "[*********************100%%**********************]  1 of 1 completed"
     ]
    },
    {
     "name": "stderr",
     "output_type": "stream",
     "text": [
      "\n",
      "1 Failed download:\n",
      "['259960.KS']: Exception(\"%ticker%: Data doesn't exist for startDate = 1514732400, endDate = 1609340400\")\n"
     ]
    },
    {
     "name": "stdout",
     "output_type": "stream",
     "text": [
      "\n",
      "[*********************100%%**********************]  1 of 1 completed\n",
      "[*********************100%%**********************]  1 of 1 completed\n",
      "[*********************100%%**********************]  1 of 1 completed\n",
      "[*********************100%%**********************]  1 of 1 completed\n",
      "[*********************100%%**********************]  1 of 1 completed\n",
      "[*********************100%%**********************]  1 of 1 completed\n",
      "[*********************100%%**********************]  1 of 1 completed\n",
      "[*********************100%%**********************]  1 of 1 completed\n",
      "[*********************100%%**********************]  1 of 1 completed\n",
      "[*********************100%%**********************]  1 of 1 completed\n",
      "[*********************100%%**********************]  1 of 1 completed\n",
      "[*********************100%%**********************]  1 of 1 completed\n",
      "[*********************100%%**********************]  1 of 1 completed\n",
      "[*********************100%%**********************]  1 of 1 completed\n",
      "[*********************100%%**********************]  1 of 1 completed\n",
      "[*********************100%%**********************]  1 of 1 completed\n",
      "[*********************100%%**********************]  1 of 1 completed\n",
      "[*********************100%%**********************]  1 of 1 completed\n",
      "[*********************100%%**********************]  1 of 1 completed\n",
      "[*********************100%%**********************]  1 of 1 completed"
     ]
    },
    {
     "name": "stderr",
     "output_type": "stream",
     "text": [
      "\n",
      "1 Failed download:\n",
      "['329180.KS']: Exception(\"%ticker%: Data doesn't exist for startDate = 1514732400, endDate = 1609340400\")\n"
     ]
    },
    {
     "name": "stdout",
     "output_type": "stream",
     "text": [
      "\n",
      "[*********************100%%**********************]  1 of 1 completed\n",
      "[*********************100%%**********************]  1 of 1 completed\n",
      "[*********************100%%**********************]  1 of 1 completed\n"
     ]
    },
    {
     "data": {
      "text/plain": "                Open      High       Low     Close      Adj Close   Volume  \\\nDate                                                                         \n2018-01-02  212500.0  212500.0  208500.0  210500.0  192979.812500  43076.0   \n2018-01-03  205500.0  208500.0  201500.0  202500.0  185645.671875  39089.0   \n2018-01-04  203000.0  203500.0  200500.0  200500.0  183812.156250  49743.0   \n2018-01-05  202500.0  202500.0  196500.0  200000.0  183353.750000  29452.0   \n2018-01-08  200000.0  201000.0  199000.0  199000.0  182436.968750  26055.0   \n\n               028300  \nDate                   \n2018-01-02  282330.KS  \n2018-01-03  282330.KS  \n2018-01-04  282330.KS  \n2018-01-05  282330.KS  \n2018-01-08  282330.KS  ",
      "text/html": "<div>\n<style scoped>\n    .dataframe tbody tr th:only-of-type {\n        vertical-align: middle;\n    }\n\n    .dataframe tbody tr th {\n        vertical-align: top;\n    }\n\n    .dataframe thead th {\n        text-align: right;\n    }\n</style>\n<table border=\"1\" class=\"dataframe\">\n  <thead>\n    <tr style=\"text-align: right;\">\n      <th></th>\n      <th>Open</th>\n      <th>High</th>\n      <th>Low</th>\n      <th>Close</th>\n      <th>Adj Close</th>\n      <th>Volume</th>\n      <th>028300</th>\n    </tr>\n    <tr>\n      <th>Date</th>\n      <th></th>\n      <th></th>\n      <th></th>\n      <th></th>\n      <th></th>\n      <th></th>\n      <th></th>\n    </tr>\n  </thead>\n  <tbody>\n    <tr>\n      <th>2018-01-02</th>\n      <td>212500.0</td>\n      <td>212500.0</td>\n      <td>208500.0</td>\n      <td>210500.0</td>\n      <td>192979.812500</td>\n      <td>43076.0</td>\n      <td>282330.KS</td>\n    </tr>\n    <tr>\n      <th>2018-01-03</th>\n      <td>205500.0</td>\n      <td>208500.0</td>\n      <td>201500.0</td>\n      <td>202500.0</td>\n      <td>185645.671875</td>\n      <td>39089.0</td>\n      <td>282330.KS</td>\n    </tr>\n    <tr>\n      <th>2018-01-04</th>\n      <td>203000.0</td>\n      <td>203500.0</td>\n      <td>200500.0</td>\n      <td>200500.0</td>\n      <td>183812.156250</td>\n      <td>49743.0</td>\n      <td>282330.KS</td>\n    </tr>\n    <tr>\n      <th>2018-01-05</th>\n      <td>202500.0</td>\n      <td>202500.0</td>\n      <td>196500.0</td>\n      <td>200000.0</td>\n      <td>183353.750000</td>\n      <td>29452.0</td>\n      <td>282330.KS</td>\n    </tr>\n    <tr>\n      <th>2018-01-08</th>\n      <td>200000.0</td>\n      <td>201000.0</td>\n      <td>199000.0</td>\n      <td>199000.0</td>\n      <td>182436.968750</td>\n      <td>26055.0</td>\n      <td>282330.KS</td>\n    </tr>\n  </tbody>\n</table>\n</div>"
     },
     "execution_count": 53,
     "metadata": {},
     "output_type": "execute_result"
    }
   ],
   "source": [
    "df_ex1 = pd.DataFrame()\n",
    "for code in code_list:\n",
    "    try:\n",
    "        df = yf.download(code, '2018-01-01', '2020-12-31')\n",
    "    except:\n",
    "        print(f'download faile, code : {code}')\n",
    "        continue\n",
    "    df['code'] = code\n",
    "    df_ex1 = pd.concat([df_ex1, df])\n",
    "df_ex1.head()"
   ],
   "metadata": {
    "collapsed": false,
    "pycharm": {
     "name": "#%%\n"
    }
   }
  },
  {
   "cell_type": "code",
   "execution_count": null,
   "outputs": [],
   "source": [],
   "metadata": {
    "collapsed": false,
    "pycharm": {
     "name": "#%%\n"
    }
   }
  },
  {
   "cell_type": "code",
   "execution_count": null,
   "outputs": [],
   "source": [],
   "metadata": {
    "collapsed": false,
    "pycharm": {
     "name": "#%%\n"
    }
   }
  },
  {
   "cell_type": "markdown",
   "source": [
    "## 05. 2일 연속 급상승 주식 필터링하기"
   ],
   "metadata": {
    "collapsed": false
   }
  },
  {
   "cell_type": "code",
   "execution_count": null,
   "outputs": [],
   "source": [],
   "metadata": {
    "collapsed": false,
    "pycharm": {
     "name": "#%%\n"
    }
   }
  },
  {
   "cell_type": "code",
   "execution_count": null,
   "outputs": [],
   "source": [],
   "metadata": {
    "collapsed": false,
    "pycharm": {
     "name": "#%%\n"
    }
   }
  },
  {
   "cell_type": "code",
   "execution_count": null,
   "outputs": [],
   "source": [],
   "metadata": {
    "collapsed": false,
    "pycharm": {
     "name": "#%%\n"
    }
   }
  },
  {
   "cell_type": "code",
   "execution_count": null,
   "outputs": [],
   "source": [],
   "metadata": {
    "collapsed": false,
    "pycharm": {
     "name": "#%%\n"
    }
   }
  },
  {
   "cell_type": "markdown",
   "source": [
    "## 06. 시리즈와 데이터프레임의 연산(브로드 캐스팅)"
   ],
   "metadata": {
    "collapsed": false
   }
  },
  {
   "cell_type": "code",
   "execution_count": null,
   "outputs": [],
   "source": [],
   "metadata": {
    "collapsed": false,
    "pycharm": {
     "name": "#%%\n"
    }
   }
  },
  {
   "cell_type": "code",
   "execution_count": null,
   "outputs": [],
   "source": [],
   "metadata": {
    "collapsed": false,
    "pycharm": {
     "name": "#%%\n"
    }
   }
  },
  {
   "cell_type": "code",
   "execution_count": null,
   "outputs": [],
   "source": [],
   "metadata": {
    "collapsed": false,
    "pycharm": {
     "name": "#%%\n"
    }
   }
  },
  {
   "cell_type": "markdown",
   "source": [
    "## 07. 신규 상장 주식의 주가 변동 추이 알아보기"
   ],
   "metadata": {
    "collapsed": false
   }
  },
  {
   "cell_type": "code",
   "execution_count": null,
   "outputs": [],
   "source": [],
   "metadata": {
    "collapsed": false,
    "pycharm": {
     "name": "#%%\n"
    }
   }
  },
  {
   "cell_type": "code",
   "execution_count": null,
   "outputs": [],
   "source": [],
   "metadata": {
    "collapsed": false,
    "pycharm": {
     "name": "#%%\n"
    }
   }
  },
  {
   "cell_type": "code",
   "execution_count": null,
   "outputs": [],
   "source": [],
   "metadata": {
    "collapsed": false,
    "pycharm": {
     "name": "#%%\n"
    }
   }
  },
  {
   "cell_type": "code",
   "execution_count": null,
   "outputs": [],
   "source": [],
   "metadata": {
    "collapsed": false,
    "pycharm": {
     "name": "#%%\n"
    }
   }
  }
 ],
 "metadata": {
  "kernelspec": {
   "display_name": "Python 3",
   "language": "python",
   "name": "python3"
  },
  "language_info": {
   "codemirror_mode": {
    "name": "ipython",
    "version": 2
   },
   "file_extension": ".py",
   "mimetype": "text/x-python",
   "name": "python",
   "nbconvert_exporter": "python",
   "pygments_lexer": "ipython2",
   "version": "2.7.6"
  }
 },
 "nbformat": 4,
 "nbformat_minor": 0
}