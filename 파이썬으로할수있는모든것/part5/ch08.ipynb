{
 "cells": [
  {
   "cell_type": "markdown",
   "source": [
    "# Ch08. OECD 국가의 GDP 데이터로 실무의 데이터 다루기"
   ],
   "metadata": {
    "collapsed": false,
    "pycharm": {
     "name": "#%% md\n"
    }
   }
  },
  {
   "cell_type": "code",
   "execution_count": 1,
   "metadata": {
    "collapsed": true
   },
   "outputs": [],
   "source": [
    "import pandas as pd\n",
    "import seaborn as sns\n",
    "import matplotlib.pyplot as plt\n",
    "import numpy as np"
   ]
  },
  {
   "cell_type": "markdown",
   "source": [
    "\n",
    "## pandas.filter"
   ],
   "metadata": {
    "collapsed": false,
    "pycharm": {
     "name": "#%% md\n"
    }
   }
  },
  {
   "cell_type": "code",
   "execution_count": 4,
   "outputs": [
    {
     "data": {
      "text/plain": "   A  BC  AC  DA\n0  0   1   2   3\n1  4   5   6   7\n2  8   9  10  11",
      "text/html": "<div>\n<style scoped>\n    .dataframe tbody tr th:only-of-type {\n        vertical-align: middle;\n    }\n\n    .dataframe tbody tr th {\n        vertical-align: top;\n    }\n\n    .dataframe thead th {\n        text-align: right;\n    }\n</style>\n<table border=\"1\" class=\"dataframe\">\n  <thead>\n    <tr style=\"text-align: right;\">\n      <th></th>\n      <th>A</th>\n      <th>BC</th>\n      <th>AC</th>\n      <th>DA</th>\n    </tr>\n  </thead>\n  <tbody>\n    <tr>\n      <th>0</th>\n      <td>0</td>\n      <td>1</td>\n      <td>2</td>\n      <td>3</td>\n    </tr>\n    <tr>\n      <th>1</th>\n      <td>4</td>\n      <td>5</td>\n      <td>6</td>\n      <td>7</td>\n    </tr>\n    <tr>\n      <th>2</th>\n      <td>8</td>\n      <td>9</td>\n      <td>10</td>\n      <td>11</td>\n    </tr>\n  </tbody>\n</table>\n</div>"
     },
     "execution_count": 4,
     "metadata": {},
     "output_type": "execute_result"
    }
   ],
   "source": [
    "data = [\n",
    "    [0,1,2,3],\n",
    "    [4,5,6,7],\n",
    "    [8,9,10,11]\n",
    "]\n",
    "df = pd.DataFrame(data=data, columns=['A', 'BC', 'AC', 'DA'])\n",
    "df"
   ],
   "metadata": {
    "collapsed": false,
    "pycharm": {
     "name": "#%%\n"
    }
   }
  },
  {
   "cell_type": "code",
   "execution_count": 6,
   "outputs": [
    {
     "data": {
      "text/plain": "   A  AC  DA\n0  0   2   3\n1  4   6   7\n2  8  10  11",
      "text/html": "<div>\n<style scoped>\n    .dataframe tbody tr th:only-of-type {\n        vertical-align: middle;\n    }\n\n    .dataframe tbody tr th {\n        vertical-align: top;\n    }\n\n    .dataframe thead th {\n        text-align: right;\n    }\n</style>\n<table border=\"1\" class=\"dataframe\">\n  <thead>\n    <tr style=\"text-align: right;\">\n      <th></th>\n      <th>A</th>\n      <th>AC</th>\n      <th>DA</th>\n    </tr>\n  </thead>\n  <tbody>\n    <tr>\n      <th>0</th>\n      <td>0</td>\n      <td>2</td>\n      <td>3</td>\n    </tr>\n    <tr>\n      <th>1</th>\n      <td>4</td>\n      <td>6</td>\n      <td>7</td>\n    </tr>\n    <tr>\n      <th>2</th>\n      <td>8</td>\n      <td>10</td>\n      <td>11</td>\n    </tr>\n  </tbody>\n</table>\n</div>"
     },
     "execution_count": 6,
     "metadata": {},
     "output_type": "execute_result"
    }
   ],
   "source": [
    "df.filter(like='A')"
   ],
   "metadata": {
    "collapsed": false,
    "pycharm": {
     "name": "#%%\n"
    }
   }
  },
  {
   "cell_type": "code",
   "execution_count": 8,
   "outputs": [
    {
     "data": {
      "text/plain": "   A  AC\n0  0   2\n1  4   6\n2  8  10",
      "text/html": "<div>\n<style scoped>\n    .dataframe tbody tr th:only-of-type {\n        vertical-align: middle;\n    }\n\n    .dataframe tbody tr th {\n        vertical-align: top;\n    }\n\n    .dataframe thead th {\n        text-align: right;\n    }\n</style>\n<table border=\"1\" class=\"dataframe\">\n  <thead>\n    <tr style=\"text-align: right;\">\n      <th></th>\n      <th>A</th>\n      <th>AC</th>\n    </tr>\n  </thead>\n  <tbody>\n    <tr>\n      <th>0</th>\n      <td>0</td>\n      <td>2</td>\n    </tr>\n    <tr>\n      <th>1</th>\n      <td>4</td>\n      <td>6</td>\n    </tr>\n    <tr>\n      <th>2</th>\n      <td>8</td>\n      <td>10</td>\n    </tr>\n  </tbody>\n</table>\n</div>"
     },
     "execution_count": 8,
     "metadata": {},
     "output_type": "execute_result"
    }
   ],
   "source": [
    "df.filter(regex=r'^A')"
   ],
   "metadata": {
    "collapsed": false,
    "pycharm": {
     "name": "#%%\n"
    }
   }
  },
  {
   "cell_type": "code",
   "execution_count": 10,
   "outputs": [
    {
     "data": {
      "text/plain": "   BC  DA\n0   1   3\n1   5   7\n2   9  11",
      "text/html": "<div>\n<style scoped>\n    .dataframe tbody tr th:only-of-type {\n        vertical-align: middle;\n    }\n\n    .dataframe tbody tr th {\n        vertical-align: top;\n    }\n\n    .dataframe thead th {\n        text-align: right;\n    }\n</style>\n<table border=\"1\" class=\"dataframe\">\n  <thead>\n    <tr style=\"text-align: right;\">\n      <th></th>\n      <th>BC</th>\n      <th>DA</th>\n    </tr>\n  </thead>\n  <tbody>\n    <tr>\n      <th>0</th>\n      <td>1</td>\n      <td>3</td>\n    </tr>\n    <tr>\n      <th>1</th>\n      <td>5</td>\n      <td>7</td>\n    </tr>\n    <tr>\n      <th>2</th>\n      <td>9</td>\n      <td>11</td>\n    </tr>\n  </tbody>\n</table>\n</div>"
     },
     "execution_count": 10,
     "metadata": {},
     "output_type": "execute_result"
    }
   ],
   "source": [
    "df.filter(regex=r'B|D')"
   ],
   "metadata": {
    "collapsed": false,
    "pycharm": {
     "name": "#%%\n"
    }
   }
  },
  {
   "cell_type": "markdown",
   "source": [
    "## OECD 데이터 다루기"
   ],
   "metadata": {
    "collapsed": false,
    "pycharm": {
     "name": "#%% md\n"
    }
   }
  },
  {
   "cell_type": "code",
   "execution_count": 13,
   "outputs": [],
   "source": [
    "url = 'https://raw.githubusercontent.com/panda-kim/csv_files/main/OECD_GDP.csv'"
   ],
   "metadata": {
    "collapsed": false,
    "pycharm": {
     "name": "#%%\n"
    }
   }
  },
  {
   "cell_type": "code",
   "execution_count": 19,
   "outputs": [
    {
     "data": {
      "text/plain": "   Unnamed: 0     2019   2019.1   2019.2   2019.3   2019.4     2020   2020.1  \\\n0         NaN  1인당 GDP  GDP 성장률      GDP       수입       수출  1인당 GDP  GDP 성장률   \n1          국가      NaN      NaN      NaN      NaN      NaN      NaN      NaN   \n2         아시아      NaN      NaN      NaN      NaN      NaN      NaN      NaN   \n3        대한민국    31929      2.2   1651.0   503343   542233    31637     -0.9   \n4        이스라엘    43589      3.5    394.7    75697    51899    43611     -2.4   \n5          일본    40113      0.3   5064.9   721078   705671    38113     -4.3   \n6        튀르키예     9127      0.9    761.4   210261   181021     8538      1.8   \n7       북아메리카      NaN      NaN      NaN      NaN      NaN      NaN      NaN   \n8         캐나다    46327      1.9   1741.6   462392   450805    43242     -5.4   \n9         멕시코     9946     -0.1   1268.9        -   459597     8347     -8.2   \n10         미국    65280      2.2  21433.2  2497500  1643100    63544     -3.5   \n11      남아메리카      NaN      NaN      NaN      NaN      NaN      NaN      NaN   \n12         칠레    14742      0.9    279.4        -    69889    13232     -5.8   \n13       콜롬비아     6425      3.3    323.4    52703    39489     5333     -6.8   \n14      코스타리카    12670      2.2     64.0    17573    11864    12077     -4.5   \n15         유럽      NaN      NaN      NaN      NaN      NaN      NaN      NaN   \n16      오스트리아    50122      1.4    445.1   184747   178660    48105     -6.6   \n17        벨기에    46414      1.8    533.3   427845   446901    44594     -6.3   \n18         체코    23490      2.3    250.7   179569   199676    22762     -5.6   \n19        덴마크    60213      2.8    350.1    97209   109989    60909     -2.7   \n20      에스토니아    23718      5.0     31.5    18022    16112    23312     -2.9   \n21        핀란드    48712      1.3    269.0    73718    72839    49041     -2.8   \n22        프랑스    40380      1.5   2715.5   647361   559150    38625     -8.1   \n23         독일    46468      0.6   3861.1  1233994  1489430    45724     -4.9   \n24        그리스    19151      1.9    205.3    62520    37911    17676     -8.2   \n25        헝가리    16733      4.6    163.5   116516   122059    15899     -5.0   \n26      아이슬란드    68883      2.6     24.8     6616     5238    59261     -6.6   \n27       아일랜드    80779      5.6    398.6   100758   169585    83813      3.4   \n28       이탈리아    33567      0.3   2004.9   475979   539708    31676     -8.9   \n29       라트비아    17794      2.0     34.1    17809    14510    17620     -3.6   \n30      리투아니아    19555      4.3     54.6    35760    33152    19998     -0.9   \n31      룩셈부르크   114685      2.3     71.1    22960    14831   115874     -1.3   \n32       네덜란드    52295      1.7    907.1   514851   576786    52304     -3.7   \n33       노르웨이    75826      0.9    405.5    86152   104004    67294     -0.8   \n34        폴란드    15695      4.5    595.9   265260   266574    15656     -2.7   \n35       포르투갈    23285      2.5    239.5    89539    67064    22440     -7.6   \n36      슬로바키아    19273      2.5    105.1    89929    88736    19157     -4.8   \n37      슬로베니아    25941      3.2     54.2    37575    37543    25180     -5.5   \n38        스페인    29565      2.0   1393.5   372424   332965    27057    -10.8   \n39        스웨덴    51687      1.4    531.3   158835   161089    51926     -2.8   \n40        스위스    85300      1.1    731.5   277810   313913    86602     -2.9   \n41         영국    42354      1.4   2830.8   622640   443715    40285     -9.8   \n42      오세아니아      NaN      NaN      NaN      NaN      NaN      NaN      NaN   \n43    오스트레일리아    55057      2.2   1396.6   154043   271006    51812     -0.3   \n44       뉴질랜드    41999      1.6    209.1    42362    39516    41792      1.0   \n\n     2020.2   2020.3   2020.4  \n0       GDP       수입       수출  \n1       NaN      NaN      NaN  \n2       NaN      NaN      NaN  \n3    1638.2   467633   512498  \n4     402.0    69810    49372  \n5    4845.2        -        -  \n6     720.1   219758   169835  \n7       NaN      NaN      NaN  \n8    1643.4   419688   392129  \n9    1076.2        -   416235  \n10  20936.6        -        -  \n11      NaN      NaN      NaN  \n12    252.9        -    71728  \n13    271.3    43489    31056  \n14     61.5    15237    12443  \n15      NaN      NaN      NaN  \n16    429.0   171944   168920  \n17    515.3   396125   419910  \n18    243.5   171073   192574  \n19    355.2    96800   107227  \n20     31.0    17335    16375  \n21    271.2    68085    65668  \n22   2603.0   572028   478333  \n23   3806.1  1170726  1380378  \n24    189.4    55695    35170  \n25    155.0   110442   119412  \n26     21.7     5707     4594  \n27    418.6    97969   178734  \n28   1886.4   421828   495092  \n29     33.5    17264    15101  \n30     55.9    33141    32768  \n31     73.3    20930    13646  \n32    912.2   484785   551303  \n33    362.0    81352    82743  \n34    594.2   257064   270939  \n35    231.3    77515    61510  \n36    104.6    86476    83272  \n37     52.9    32965    34300  \n38   1281.2   325193   306752  \n39    537.6   148940   154297  \n40    748.0   291721   319226  \n41   2707.7   543961   381130  \n42      NaN      NaN      NaN  \n43   1330.9   146522   250570  \n44    212.5    37135    38897  ",
      "text/html": "<div>\n<style scoped>\n    .dataframe tbody tr th:only-of-type {\n        vertical-align: middle;\n    }\n\n    .dataframe tbody tr th {\n        vertical-align: top;\n    }\n\n    .dataframe thead th {\n        text-align: right;\n    }\n</style>\n<table border=\"1\" class=\"dataframe\">\n  <thead>\n    <tr style=\"text-align: right;\">\n      <th></th>\n      <th>Unnamed: 0</th>\n      <th>2019</th>\n      <th>2019.1</th>\n      <th>2019.2</th>\n      <th>2019.3</th>\n      <th>2019.4</th>\n      <th>2020</th>\n      <th>2020.1</th>\n      <th>2020.2</th>\n      <th>2020.3</th>\n      <th>2020.4</th>\n    </tr>\n  </thead>\n  <tbody>\n    <tr>\n      <th>0</th>\n      <td>NaN</td>\n      <td>1인당 GDP</td>\n      <td>GDP 성장률</td>\n      <td>GDP</td>\n      <td>수입</td>\n      <td>수출</td>\n      <td>1인당 GDP</td>\n      <td>GDP 성장률</td>\n      <td>GDP</td>\n      <td>수입</td>\n      <td>수출</td>\n    </tr>\n    <tr>\n      <th>1</th>\n      <td>국가</td>\n      <td>NaN</td>\n      <td>NaN</td>\n      <td>NaN</td>\n      <td>NaN</td>\n      <td>NaN</td>\n      <td>NaN</td>\n      <td>NaN</td>\n      <td>NaN</td>\n      <td>NaN</td>\n      <td>NaN</td>\n    </tr>\n    <tr>\n      <th>2</th>\n      <td>아시아</td>\n      <td>NaN</td>\n      <td>NaN</td>\n      <td>NaN</td>\n      <td>NaN</td>\n      <td>NaN</td>\n      <td>NaN</td>\n      <td>NaN</td>\n      <td>NaN</td>\n      <td>NaN</td>\n      <td>NaN</td>\n    </tr>\n    <tr>\n      <th>3</th>\n      <td>대한민국</td>\n      <td>31929</td>\n      <td>2.2</td>\n      <td>1651.0</td>\n      <td>503343</td>\n      <td>542233</td>\n      <td>31637</td>\n      <td>-0.9</td>\n      <td>1638.2</td>\n      <td>467633</td>\n      <td>512498</td>\n    </tr>\n    <tr>\n      <th>4</th>\n      <td>이스라엘</td>\n      <td>43589</td>\n      <td>3.5</td>\n      <td>394.7</td>\n      <td>75697</td>\n      <td>51899</td>\n      <td>43611</td>\n      <td>-2.4</td>\n      <td>402.0</td>\n      <td>69810</td>\n      <td>49372</td>\n    </tr>\n    <tr>\n      <th>5</th>\n      <td>일본</td>\n      <td>40113</td>\n      <td>0.3</td>\n      <td>5064.9</td>\n      <td>721078</td>\n      <td>705671</td>\n      <td>38113</td>\n      <td>-4.3</td>\n      <td>4845.2</td>\n      <td>-</td>\n      <td>-</td>\n    </tr>\n    <tr>\n      <th>6</th>\n      <td>튀르키예</td>\n      <td>9127</td>\n      <td>0.9</td>\n      <td>761.4</td>\n      <td>210261</td>\n      <td>181021</td>\n      <td>8538</td>\n      <td>1.8</td>\n      <td>720.1</td>\n      <td>219758</td>\n      <td>169835</td>\n    </tr>\n    <tr>\n      <th>7</th>\n      <td>북아메리카</td>\n      <td>NaN</td>\n      <td>NaN</td>\n      <td>NaN</td>\n      <td>NaN</td>\n      <td>NaN</td>\n      <td>NaN</td>\n      <td>NaN</td>\n      <td>NaN</td>\n      <td>NaN</td>\n      <td>NaN</td>\n    </tr>\n    <tr>\n      <th>8</th>\n      <td>캐나다</td>\n      <td>46327</td>\n      <td>1.9</td>\n      <td>1741.6</td>\n      <td>462392</td>\n      <td>450805</td>\n      <td>43242</td>\n      <td>-5.4</td>\n      <td>1643.4</td>\n      <td>419688</td>\n      <td>392129</td>\n    </tr>\n    <tr>\n      <th>9</th>\n      <td>멕시코</td>\n      <td>9946</td>\n      <td>-0.1</td>\n      <td>1268.9</td>\n      <td>-</td>\n      <td>459597</td>\n      <td>8347</td>\n      <td>-8.2</td>\n      <td>1076.2</td>\n      <td>-</td>\n      <td>416235</td>\n    </tr>\n    <tr>\n      <th>10</th>\n      <td>미국</td>\n      <td>65280</td>\n      <td>2.2</td>\n      <td>21433.2</td>\n      <td>2497500</td>\n      <td>1643100</td>\n      <td>63544</td>\n      <td>-3.5</td>\n      <td>20936.6</td>\n      <td>-</td>\n      <td>-</td>\n    </tr>\n    <tr>\n      <th>11</th>\n      <td>남아메리카</td>\n      <td>NaN</td>\n      <td>NaN</td>\n      <td>NaN</td>\n      <td>NaN</td>\n      <td>NaN</td>\n      <td>NaN</td>\n      <td>NaN</td>\n      <td>NaN</td>\n      <td>NaN</td>\n      <td>NaN</td>\n    </tr>\n    <tr>\n      <th>12</th>\n      <td>칠레</td>\n      <td>14742</td>\n      <td>0.9</td>\n      <td>279.4</td>\n      <td>-</td>\n      <td>69889</td>\n      <td>13232</td>\n      <td>-5.8</td>\n      <td>252.9</td>\n      <td>-</td>\n      <td>71728</td>\n    </tr>\n    <tr>\n      <th>13</th>\n      <td>콜롬비아</td>\n      <td>6425</td>\n      <td>3.3</td>\n      <td>323.4</td>\n      <td>52703</td>\n      <td>39489</td>\n      <td>5333</td>\n      <td>-6.8</td>\n      <td>271.3</td>\n      <td>43489</td>\n      <td>31056</td>\n    </tr>\n    <tr>\n      <th>14</th>\n      <td>코스타리카</td>\n      <td>12670</td>\n      <td>2.2</td>\n      <td>64.0</td>\n      <td>17573</td>\n      <td>11864</td>\n      <td>12077</td>\n      <td>-4.5</td>\n      <td>61.5</td>\n      <td>15237</td>\n      <td>12443</td>\n    </tr>\n    <tr>\n      <th>15</th>\n      <td>유럽</td>\n      <td>NaN</td>\n      <td>NaN</td>\n      <td>NaN</td>\n      <td>NaN</td>\n      <td>NaN</td>\n      <td>NaN</td>\n      <td>NaN</td>\n      <td>NaN</td>\n      <td>NaN</td>\n      <td>NaN</td>\n    </tr>\n    <tr>\n      <th>16</th>\n      <td>오스트리아</td>\n      <td>50122</td>\n      <td>1.4</td>\n      <td>445.1</td>\n      <td>184747</td>\n      <td>178660</td>\n      <td>48105</td>\n      <td>-6.6</td>\n      <td>429.0</td>\n      <td>171944</td>\n      <td>168920</td>\n    </tr>\n    <tr>\n      <th>17</th>\n      <td>벨기에</td>\n      <td>46414</td>\n      <td>1.8</td>\n      <td>533.3</td>\n      <td>427845</td>\n      <td>446901</td>\n      <td>44594</td>\n      <td>-6.3</td>\n      <td>515.3</td>\n      <td>396125</td>\n      <td>419910</td>\n    </tr>\n    <tr>\n      <th>18</th>\n      <td>체코</td>\n      <td>23490</td>\n      <td>2.3</td>\n      <td>250.7</td>\n      <td>179569</td>\n      <td>199676</td>\n      <td>22762</td>\n      <td>-5.6</td>\n      <td>243.5</td>\n      <td>171073</td>\n      <td>192574</td>\n    </tr>\n    <tr>\n      <th>19</th>\n      <td>덴마크</td>\n      <td>60213</td>\n      <td>2.8</td>\n      <td>350.1</td>\n      <td>97209</td>\n      <td>109989</td>\n      <td>60909</td>\n      <td>-2.7</td>\n      <td>355.2</td>\n      <td>96800</td>\n      <td>107227</td>\n    </tr>\n    <tr>\n      <th>20</th>\n      <td>에스토니아</td>\n      <td>23718</td>\n      <td>5.0</td>\n      <td>31.5</td>\n      <td>18022</td>\n      <td>16112</td>\n      <td>23312</td>\n      <td>-2.9</td>\n      <td>31.0</td>\n      <td>17335</td>\n      <td>16375</td>\n    </tr>\n    <tr>\n      <th>21</th>\n      <td>핀란드</td>\n      <td>48712</td>\n      <td>1.3</td>\n      <td>269.0</td>\n      <td>73718</td>\n      <td>72839</td>\n      <td>49041</td>\n      <td>-2.8</td>\n      <td>271.2</td>\n      <td>68085</td>\n      <td>65668</td>\n    </tr>\n    <tr>\n      <th>22</th>\n      <td>프랑스</td>\n      <td>40380</td>\n      <td>1.5</td>\n      <td>2715.5</td>\n      <td>647361</td>\n      <td>559150</td>\n      <td>38625</td>\n      <td>-8.1</td>\n      <td>2603.0</td>\n      <td>572028</td>\n      <td>478333</td>\n    </tr>\n    <tr>\n      <th>23</th>\n      <td>독일</td>\n      <td>46468</td>\n      <td>0.6</td>\n      <td>3861.1</td>\n      <td>1233994</td>\n      <td>1489430</td>\n      <td>45724</td>\n      <td>-4.9</td>\n      <td>3806.1</td>\n      <td>1170726</td>\n      <td>1380378</td>\n    </tr>\n    <tr>\n      <th>24</th>\n      <td>그리스</td>\n      <td>19151</td>\n      <td>1.9</td>\n      <td>205.3</td>\n      <td>62520</td>\n      <td>37911</td>\n      <td>17676</td>\n      <td>-8.2</td>\n      <td>189.4</td>\n      <td>55695</td>\n      <td>35170</td>\n    </tr>\n    <tr>\n      <th>25</th>\n      <td>헝가리</td>\n      <td>16733</td>\n      <td>4.6</td>\n      <td>163.5</td>\n      <td>116516</td>\n      <td>122059</td>\n      <td>15899</td>\n      <td>-5.0</td>\n      <td>155.0</td>\n      <td>110442</td>\n      <td>119412</td>\n    </tr>\n    <tr>\n      <th>26</th>\n      <td>아이슬란드</td>\n      <td>68883</td>\n      <td>2.6</td>\n      <td>24.8</td>\n      <td>6616</td>\n      <td>5238</td>\n      <td>59261</td>\n      <td>-6.6</td>\n      <td>21.7</td>\n      <td>5707</td>\n      <td>4594</td>\n    </tr>\n    <tr>\n      <th>27</th>\n      <td>아일랜드</td>\n      <td>80779</td>\n      <td>5.6</td>\n      <td>398.6</td>\n      <td>100758</td>\n      <td>169585</td>\n      <td>83813</td>\n      <td>3.4</td>\n      <td>418.6</td>\n      <td>97969</td>\n      <td>178734</td>\n    </tr>\n    <tr>\n      <th>28</th>\n      <td>이탈리아</td>\n      <td>33567</td>\n      <td>0.3</td>\n      <td>2004.9</td>\n      <td>475979</td>\n      <td>539708</td>\n      <td>31676</td>\n      <td>-8.9</td>\n      <td>1886.4</td>\n      <td>421828</td>\n      <td>495092</td>\n    </tr>\n    <tr>\n      <th>29</th>\n      <td>라트비아</td>\n      <td>17794</td>\n      <td>2.0</td>\n      <td>34.1</td>\n      <td>17809</td>\n      <td>14510</td>\n      <td>17620</td>\n      <td>-3.6</td>\n      <td>33.5</td>\n      <td>17264</td>\n      <td>15101</td>\n    </tr>\n    <tr>\n      <th>30</th>\n      <td>리투아니아</td>\n      <td>19555</td>\n      <td>4.3</td>\n      <td>54.6</td>\n      <td>35760</td>\n      <td>33152</td>\n      <td>19998</td>\n      <td>-0.9</td>\n      <td>55.9</td>\n      <td>33141</td>\n      <td>32768</td>\n    </tr>\n    <tr>\n      <th>31</th>\n      <td>룩셈부르크</td>\n      <td>114685</td>\n      <td>2.3</td>\n      <td>71.1</td>\n      <td>22960</td>\n      <td>14831</td>\n      <td>115874</td>\n      <td>-1.3</td>\n      <td>73.3</td>\n      <td>20930</td>\n      <td>13646</td>\n    </tr>\n    <tr>\n      <th>32</th>\n      <td>네덜란드</td>\n      <td>52295</td>\n      <td>1.7</td>\n      <td>907.1</td>\n      <td>514851</td>\n      <td>576786</td>\n      <td>52304</td>\n      <td>-3.7</td>\n      <td>912.2</td>\n      <td>484785</td>\n      <td>551303</td>\n    </tr>\n    <tr>\n      <th>33</th>\n      <td>노르웨이</td>\n      <td>75826</td>\n      <td>0.9</td>\n      <td>405.5</td>\n      <td>86152</td>\n      <td>104004</td>\n      <td>67294</td>\n      <td>-0.8</td>\n      <td>362.0</td>\n      <td>81352</td>\n      <td>82743</td>\n    </tr>\n    <tr>\n      <th>34</th>\n      <td>폴란드</td>\n      <td>15695</td>\n      <td>4.5</td>\n      <td>595.9</td>\n      <td>265260</td>\n      <td>266574</td>\n      <td>15656</td>\n      <td>-2.7</td>\n      <td>594.2</td>\n      <td>257064</td>\n      <td>270939</td>\n    </tr>\n    <tr>\n      <th>35</th>\n      <td>포르투갈</td>\n      <td>23285</td>\n      <td>2.5</td>\n      <td>239.5</td>\n      <td>89539</td>\n      <td>67064</td>\n      <td>22440</td>\n      <td>-7.6</td>\n      <td>231.3</td>\n      <td>77515</td>\n      <td>61510</td>\n    </tr>\n    <tr>\n      <th>36</th>\n      <td>슬로바키아</td>\n      <td>19273</td>\n      <td>2.5</td>\n      <td>105.1</td>\n      <td>89929</td>\n      <td>88736</td>\n      <td>19157</td>\n      <td>-4.8</td>\n      <td>104.6</td>\n      <td>86476</td>\n      <td>83272</td>\n    </tr>\n    <tr>\n      <th>37</th>\n      <td>슬로베니아</td>\n      <td>25941</td>\n      <td>3.2</td>\n      <td>54.2</td>\n      <td>37575</td>\n      <td>37543</td>\n      <td>25180</td>\n      <td>-5.5</td>\n      <td>52.9</td>\n      <td>32965</td>\n      <td>34300</td>\n    </tr>\n    <tr>\n      <th>38</th>\n      <td>스페인</td>\n      <td>29565</td>\n      <td>2.0</td>\n      <td>1393.5</td>\n      <td>372424</td>\n      <td>332965</td>\n      <td>27057</td>\n      <td>-10.8</td>\n      <td>1281.2</td>\n      <td>325193</td>\n      <td>306752</td>\n    </tr>\n    <tr>\n      <th>39</th>\n      <td>스웨덴</td>\n      <td>51687</td>\n      <td>1.4</td>\n      <td>531.3</td>\n      <td>158835</td>\n      <td>161089</td>\n      <td>51926</td>\n      <td>-2.8</td>\n      <td>537.6</td>\n      <td>148940</td>\n      <td>154297</td>\n    </tr>\n    <tr>\n      <th>40</th>\n      <td>스위스</td>\n      <td>85300</td>\n      <td>1.1</td>\n      <td>731.5</td>\n      <td>277810</td>\n      <td>313913</td>\n      <td>86602</td>\n      <td>-2.9</td>\n      <td>748.0</td>\n      <td>291721</td>\n      <td>319226</td>\n    </tr>\n    <tr>\n      <th>41</th>\n      <td>영국</td>\n      <td>42354</td>\n      <td>1.4</td>\n      <td>2830.8</td>\n      <td>622640</td>\n      <td>443715</td>\n      <td>40285</td>\n      <td>-9.8</td>\n      <td>2707.7</td>\n      <td>543961</td>\n      <td>381130</td>\n    </tr>\n    <tr>\n      <th>42</th>\n      <td>오세아니아</td>\n      <td>NaN</td>\n      <td>NaN</td>\n      <td>NaN</td>\n      <td>NaN</td>\n      <td>NaN</td>\n      <td>NaN</td>\n      <td>NaN</td>\n      <td>NaN</td>\n      <td>NaN</td>\n      <td>NaN</td>\n    </tr>\n    <tr>\n      <th>43</th>\n      <td>오스트레일리아</td>\n      <td>55057</td>\n      <td>2.2</td>\n      <td>1396.6</td>\n      <td>154043</td>\n      <td>271006</td>\n      <td>51812</td>\n      <td>-0.3</td>\n      <td>1330.9</td>\n      <td>146522</td>\n      <td>250570</td>\n    </tr>\n    <tr>\n      <th>44</th>\n      <td>뉴질랜드</td>\n      <td>41999</td>\n      <td>1.6</td>\n      <td>209.1</td>\n      <td>42362</td>\n      <td>39516</td>\n      <td>41792</td>\n      <td>1.0</td>\n      <td>212.5</td>\n      <td>37135</td>\n      <td>38897</td>\n    </tr>\n  </tbody>\n</table>\n</div>"
     },
     "execution_count": 19,
     "metadata": {},
     "output_type": "execute_result"
    }
   ],
   "source": [
    "df_ex1 = pd.read_csv(url)\n",
    "df_ex1"
   ],
   "metadata": {
    "collapsed": false,
    "pycharm": {
     "name": "#%%\n"
    }
   }
  },
  {
   "cell_type": "code",
   "execution_count": 20,
   "outputs": [
    {
     "data": {
      "text/plain": "   Unnamed: 0_level_0      2019                                       \\\n   Unnamed: 0_level_1   1인당 GDP GDP 성장률      GDP       수입         수출   \n0                  국가       NaN     NaN      NaN      NaN        NaN   \n1                 아시아       NaN     NaN      NaN      NaN        NaN   \n2                대한민국   31929.0     2.2   1651.0   503343   542233.0   \n3                이스라엘   43589.0     3.5    394.7    75697    51899.0   \n4                  일본   40113.0     0.3   5064.9   721078   705671.0   \n5                튀르키예    9127.0     0.9    761.4   210261   181021.0   \n6               북아메리카       NaN     NaN      NaN      NaN        NaN   \n7                 캐나다   46327.0     1.9   1741.6   462392   450805.0   \n8                 멕시코    9946.0    -0.1   1268.9        -   459597.0   \n9                  미국   65280.0     2.2  21433.2  2497500  1643100.0   \n10              남아메리카       NaN     NaN      NaN      NaN        NaN   \n11                 칠레   14742.0     0.9    279.4        -    69889.0   \n12               콜롬비아    6425.0     3.3    323.4    52703    39489.0   \n13              코스타리카   12670.0     2.2     64.0    17573    11864.0   \n14                 유럽       NaN     NaN      NaN      NaN        NaN   \n15              오스트리아   50122.0     1.4    445.1   184747   178660.0   \n16                벨기에   46414.0     1.8    533.3   427845   446901.0   \n17                 체코   23490.0     2.3    250.7   179569   199676.0   \n18                덴마크   60213.0     2.8    350.1    97209   109989.0   \n19              에스토니아   23718.0     5.0     31.5    18022    16112.0   \n20                핀란드   48712.0     1.3    269.0    73718    72839.0   \n21                프랑스   40380.0     1.5   2715.5   647361   559150.0   \n22                 독일   46468.0     0.6   3861.1  1233994  1489430.0   \n23                그리스   19151.0     1.9    205.3    62520    37911.0   \n24                헝가리   16733.0     4.6    163.5   116516   122059.0   \n25              아이슬란드   68883.0     2.6     24.8     6616     5238.0   \n26               아일랜드   80779.0     5.6    398.6   100758   169585.0   \n27               이탈리아   33567.0     0.3   2004.9   475979   539708.0   \n28               라트비아   17794.0     2.0     34.1    17809    14510.0   \n29              리투아니아   19555.0     4.3     54.6    35760    33152.0   \n30              룩셈부르크  114685.0     2.3     71.1    22960    14831.0   \n31               네덜란드   52295.0     1.7    907.1   514851   576786.0   \n32               노르웨이   75826.0     0.9    405.5    86152   104004.0   \n33                폴란드   15695.0     4.5    595.9   265260   266574.0   \n34               포르투갈   23285.0     2.5    239.5    89539    67064.0   \n35              슬로바키아   19273.0     2.5    105.1    89929    88736.0   \n36              슬로베니아   25941.0     3.2     54.2    37575    37543.0   \n37                스페인   29565.0     2.0   1393.5   372424   332965.0   \n38                스웨덴   51687.0     1.4    531.3   158835   161089.0   \n39                스위스   85300.0     1.1    731.5   277810   313913.0   \n40                 영국   42354.0     1.4   2830.8   622640   443715.0   \n41              오세아니아       NaN     NaN      NaN      NaN        NaN   \n42            오스트레일리아   55057.0     2.2   1396.6   154043   271006.0   \n43               뉴질랜드   41999.0     1.6    209.1    42362    39516.0   \n\n        2020                                     \n     1인당 GDP GDP 성장률      GDP       수입       수출  \n0        NaN     NaN      NaN      NaN      NaN  \n1        NaN     NaN      NaN      NaN      NaN  \n2    31637.0    -0.9   1638.2   467633   512498  \n3    43611.0    -2.4    402.0    69810    49372  \n4    38113.0    -4.3   4845.2        -        -  \n5     8538.0     1.8    720.1   219758   169835  \n6        NaN     NaN      NaN      NaN      NaN  \n7    43242.0    -5.4   1643.4   419688   392129  \n8     8347.0    -8.2   1076.2        -   416235  \n9    63544.0    -3.5  20936.6        -        -  \n10       NaN     NaN      NaN      NaN      NaN  \n11   13232.0    -5.8    252.9        -    71728  \n12    5333.0    -6.8    271.3    43489    31056  \n13   12077.0    -4.5     61.5    15237    12443  \n14       NaN     NaN      NaN      NaN      NaN  \n15   48105.0    -6.6    429.0   171944   168920  \n16   44594.0    -6.3    515.3   396125   419910  \n17   22762.0    -5.6    243.5   171073   192574  \n18   60909.0    -2.7    355.2    96800   107227  \n19   23312.0    -2.9     31.0    17335    16375  \n20   49041.0    -2.8    271.2    68085    65668  \n21   38625.0    -8.1   2603.0   572028   478333  \n22   45724.0    -4.9   3806.1  1170726  1380378  \n23   17676.0    -8.2    189.4    55695    35170  \n24   15899.0    -5.0    155.0   110442   119412  \n25   59261.0    -6.6     21.7     5707     4594  \n26   83813.0     3.4    418.6    97969   178734  \n27   31676.0    -8.9   1886.4   421828   495092  \n28   17620.0    -3.6     33.5    17264    15101  \n29   19998.0    -0.9     55.9    33141    32768  \n30  115874.0    -1.3     73.3    20930    13646  \n31   52304.0    -3.7    912.2   484785   551303  \n32   67294.0    -0.8    362.0    81352    82743  \n33   15656.0    -2.7    594.2   257064   270939  \n34   22440.0    -7.6    231.3    77515    61510  \n35   19157.0    -4.8    104.6    86476    83272  \n36   25180.0    -5.5     52.9    32965    34300  \n37   27057.0   -10.8   1281.2   325193   306752  \n38   51926.0    -2.8    537.6   148940   154297  \n39   86602.0    -2.9    748.0   291721   319226  \n40   40285.0    -9.8   2707.7   543961   381130  \n41       NaN     NaN      NaN      NaN      NaN  \n42   51812.0    -0.3   1330.9   146522   250570  \n43   41792.0     1.0    212.5    37135    38897  ",
      "text/html": "<div>\n<style scoped>\n    .dataframe tbody tr th:only-of-type {\n        vertical-align: middle;\n    }\n\n    .dataframe tbody tr th {\n        vertical-align: top;\n    }\n\n    .dataframe thead tr th {\n        text-align: left;\n    }\n</style>\n<table border=\"1\" class=\"dataframe\">\n  <thead>\n    <tr>\n      <th></th>\n      <th>Unnamed: 0_level_0</th>\n      <th colspan=\"5\" halign=\"left\">2019</th>\n      <th colspan=\"5\" halign=\"left\">2020</th>\n    </tr>\n    <tr>\n      <th></th>\n      <th>Unnamed: 0_level_1</th>\n      <th>1인당 GDP</th>\n      <th>GDP 성장률</th>\n      <th>GDP</th>\n      <th>수입</th>\n      <th>수출</th>\n      <th>1인당 GDP</th>\n      <th>GDP 성장률</th>\n      <th>GDP</th>\n      <th>수입</th>\n      <th>수출</th>\n    </tr>\n  </thead>\n  <tbody>\n    <tr>\n      <th>0</th>\n      <td>국가</td>\n      <td>NaN</td>\n      <td>NaN</td>\n      <td>NaN</td>\n      <td>NaN</td>\n      <td>NaN</td>\n      <td>NaN</td>\n      <td>NaN</td>\n      <td>NaN</td>\n      <td>NaN</td>\n      <td>NaN</td>\n    </tr>\n    <tr>\n      <th>1</th>\n      <td>아시아</td>\n      <td>NaN</td>\n      <td>NaN</td>\n      <td>NaN</td>\n      <td>NaN</td>\n      <td>NaN</td>\n      <td>NaN</td>\n      <td>NaN</td>\n      <td>NaN</td>\n      <td>NaN</td>\n      <td>NaN</td>\n    </tr>\n    <tr>\n      <th>2</th>\n      <td>대한민국</td>\n      <td>31929.0</td>\n      <td>2.2</td>\n      <td>1651.0</td>\n      <td>503343</td>\n      <td>542233.0</td>\n      <td>31637.0</td>\n      <td>-0.9</td>\n      <td>1638.2</td>\n      <td>467633</td>\n      <td>512498</td>\n    </tr>\n    <tr>\n      <th>3</th>\n      <td>이스라엘</td>\n      <td>43589.0</td>\n      <td>3.5</td>\n      <td>394.7</td>\n      <td>75697</td>\n      <td>51899.0</td>\n      <td>43611.0</td>\n      <td>-2.4</td>\n      <td>402.0</td>\n      <td>69810</td>\n      <td>49372</td>\n    </tr>\n    <tr>\n      <th>4</th>\n      <td>일본</td>\n      <td>40113.0</td>\n      <td>0.3</td>\n      <td>5064.9</td>\n      <td>721078</td>\n      <td>705671.0</td>\n      <td>38113.0</td>\n      <td>-4.3</td>\n      <td>4845.2</td>\n      <td>-</td>\n      <td>-</td>\n    </tr>\n    <tr>\n      <th>5</th>\n      <td>튀르키예</td>\n      <td>9127.0</td>\n      <td>0.9</td>\n      <td>761.4</td>\n      <td>210261</td>\n      <td>181021.0</td>\n      <td>8538.0</td>\n      <td>1.8</td>\n      <td>720.1</td>\n      <td>219758</td>\n      <td>169835</td>\n    </tr>\n    <tr>\n      <th>6</th>\n      <td>북아메리카</td>\n      <td>NaN</td>\n      <td>NaN</td>\n      <td>NaN</td>\n      <td>NaN</td>\n      <td>NaN</td>\n      <td>NaN</td>\n      <td>NaN</td>\n      <td>NaN</td>\n      <td>NaN</td>\n      <td>NaN</td>\n    </tr>\n    <tr>\n      <th>7</th>\n      <td>캐나다</td>\n      <td>46327.0</td>\n      <td>1.9</td>\n      <td>1741.6</td>\n      <td>462392</td>\n      <td>450805.0</td>\n      <td>43242.0</td>\n      <td>-5.4</td>\n      <td>1643.4</td>\n      <td>419688</td>\n      <td>392129</td>\n    </tr>\n    <tr>\n      <th>8</th>\n      <td>멕시코</td>\n      <td>9946.0</td>\n      <td>-0.1</td>\n      <td>1268.9</td>\n      <td>-</td>\n      <td>459597.0</td>\n      <td>8347.0</td>\n      <td>-8.2</td>\n      <td>1076.2</td>\n      <td>-</td>\n      <td>416235</td>\n    </tr>\n    <tr>\n      <th>9</th>\n      <td>미국</td>\n      <td>65280.0</td>\n      <td>2.2</td>\n      <td>21433.2</td>\n      <td>2497500</td>\n      <td>1643100.0</td>\n      <td>63544.0</td>\n      <td>-3.5</td>\n      <td>20936.6</td>\n      <td>-</td>\n      <td>-</td>\n    </tr>\n    <tr>\n      <th>10</th>\n      <td>남아메리카</td>\n      <td>NaN</td>\n      <td>NaN</td>\n      <td>NaN</td>\n      <td>NaN</td>\n      <td>NaN</td>\n      <td>NaN</td>\n      <td>NaN</td>\n      <td>NaN</td>\n      <td>NaN</td>\n      <td>NaN</td>\n    </tr>\n    <tr>\n      <th>11</th>\n      <td>칠레</td>\n      <td>14742.0</td>\n      <td>0.9</td>\n      <td>279.4</td>\n      <td>-</td>\n      <td>69889.0</td>\n      <td>13232.0</td>\n      <td>-5.8</td>\n      <td>252.9</td>\n      <td>-</td>\n      <td>71728</td>\n    </tr>\n    <tr>\n      <th>12</th>\n      <td>콜롬비아</td>\n      <td>6425.0</td>\n      <td>3.3</td>\n      <td>323.4</td>\n      <td>52703</td>\n      <td>39489.0</td>\n      <td>5333.0</td>\n      <td>-6.8</td>\n      <td>271.3</td>\n      <td>43489</td>\n      <td>31056</td>\n    </tr>\n    <tr>\n      <th>13</th>\n      <td>코스타리카</td>\n      <td>12670.0</td>\n      <td>2.2</td>\n      <td>64.0</td>\n      <td>17573</td>\n      <td>11864.0</td>\n      <td>12077.0</td>\n      <td>-4.5</td>\n      <td>61.5</td>\n      <td>15237</td>\n      <td>12443</td>\n    </tr>\n    <tr>\n      <th>14</th>\n      <td>유럽</td>\n      <td>NaN</td>\n      <td>NaN</td>\n      <td>NaN</td>\n      <td>NaN</td>\n      <td>NaN</td>\n      <td>NaN</td>\n      <td>NaN</td>\n      <td>NaN</td>\n      <td>NaN</td>\n      <td>NaN</td>\n    </tr>\n    <tr>\n      <th>15</th>\n      <td>오스트리아</td>\n      <td>50122.0</td>\n      <td>1.4</td>\n      <td>445.1</td>\n      <td>184747</td>\n      <td>178660.0</td>\n      <td>48105.0</td>\n      <td>-6.6</td>\n      <td>429.0</td>\n      <td>171944</td>\n      <td>168920</td>\n    </tr>\n    <tr>\n      <th>16</th>\n      <td>벨기에</td>\n      <td>46414.0</td>\n      <td>1.8</td>\n      <td>533.3</td>\n      <td>427845</td>\n      <td>446901.0</td>\n      <td>44594.0</td>\n      <td>-6.3</td>\n      <td>515.3</td>\n      <td>396125</td>\n      <td>419910</td>\n    </tr>\n    <tr>\n      <th>17</th>\n      <td>체코</td>\n      <td>23490.0</td>\n      <td>2.3</td>\n      <td>250.7</td>\n      <td>179569</td>\n      <td>199676.0</td>\n      <td>22762.0</td>\n      <td>-5.6</td>\n      <td>243.5</td>\n      <td>171073</td>\n      <td>192574</td>\n    </tr>\n    <tr>\n      <th>18</th>\n      <td>덴마크</td>\n      <td>60213.0</td>\n      <td>2.8</td>\n      <td>350.1</td>\n      <td>97209</td>\n      <td>109989.0</td>\n      <td>60909.0</td>\n      <td>-2.7</td>\n      <td>355.2</td>\n      <td>96800</td>\n      <td>107227</td>\n    </tr>\n    <tr>\n      <th>19</th>\n      <td>에스토니아</td>\n      <td>23718.0</td>\n      <td>5.0</td>\n      <td>31.5</td>\n      <td>18022</td>\n      <td>16112.0</td>\n      <td>23312.0</td>\n      <td>-2.9</td>\n      <td>31.0</td>\n      <td>17335</td>\n      <td>16375</td>\n    </tr>\n    <tr>\n      <th>20</th>\n      <td>핀란드</td>\n      <td>48712.0</td>\n      <td>1.3</td>\n      <td>269.0</td>\n      <td>73718</td>\n      <td>72839.0</td>\n      <td>49041.0</td>\n      <td>-2.8</td>\n      <td>271.2</td>\n      <td>68085</td>\n      <td>65668</td>\n    </tr>\n    <tr>\n      <th>21</th>\n      <td>프랑스</td>\n      <td>40380.0</td>\n      <td>1.5</td>\n      <td>2715.5</td>\n      <td>647361</td>\n      <td>559150.0</td>\n      <td>38625.0</td>\n      <td>-8.1</td>\n      <td>2603.0</td>\n      <td>572028</td>\n      <td>478333</td>\n    </tr>\n    <tr>\n      <th>22</th>\n      <td>독일</td>\n      <td>46468.0</td>\n      <td>0.6</td>\n      <td>3861.1</td>\n      <td>1233994</td>\n      <td>1489430.0</td>\n      <td>45724.0</td>\n      <td>-4.9</td>\n      <td>3806.1</td>\n      <td>1170726</td>\n      <td>1380378</td>\n    </tr>\n    <tr>\n      <th>23</th>\n      <td>그리스</td>\n      <td>19151.0</td>\n      <td>1.9</td>\n      <td>205.3</td>\n      <td>62520</td>\n      <td>37911.0</td>\n      <td>17676.0</td>\n      <td>-8.2</td>\n      <td>189.4</td>\n      <td>55695</td>\n      <td>35170</td>\n    </tr>\n    <tr>\n      <th>24</th>\n      <td>헝가리</td>\n      <td>16733.0</td>\n      <td>4.6</td>\n      <td>163.5</td>\n      <td>116516</td>\n      <td>122059.0</td>\n      <td>15899.0</td>\n      <td>-5.0</td>\n      <td>155.0</td>\n      <td>110442</td>\n      <td>119412</td>\n    </tr>\n    <tr>\n      <th>25</th>\n      <td>아이슬란드</td>\n      <td>68883.0</td>\n      <td>2.6</td>\n      <td>24.8</td>\n      <td>6616</td>\n      <td>5238.0</td>\n      <td>59261.0</td>\n      <td>-6.6</td>\n      <td>21.7</td>\n      <td>5707</td>\n      <td>4594</td>\n    </tr>\n    <tr>\n      <th>26</th>\n      <td>아일랜드</td>\n      <td>80779.0</td>\n      <td>5.6</td>\n      <td>398.6</td>\n      <td>100758</td>\n      <td>169585.0</td>\n      <td>83813.0</td>\n      <td>3.4</td>\n      <td>418.6</td>\n      <td>97969</td>\n      <td>178734</td>\n    </tr>\n    <tr>\n      <th>27</th>\n      <td>이탈리아</td>\n      <td>33567.0</td>\n      <td>0.3</td>\n      <td>2004.9</td>\n      <td>475979</td>\n      <td>539708.0</td>\n      <td>31676.0</td>\n      <td>-8.9</td>\n      <td>1886.4</td>\n      <td>421828</td>\n      <td>495092</td>\n    </tr>\n    <tr>\n      <th>28</th>\n      <td>라트비아</td>\n      <td>17794.0</td>\n      <td>2.0</td>\n      <td>34.1</td>\n      <td>17809</td>\n      <td>14510.0</td>\n      <td>17620.0</td>\n      <td>-3.6</td>\n      <td>33.5</td>\n      <td>17264</td>\n      <td>15101</td>\n    </tr>\n    <tr>\n      <th>29</th>\n      <td>리투아니아</td>\n      <td>19555.0</td>\n      <td>4.3</td>\n      <td>54.6</td>\n      <td>35760</td>\n      <td>33152.0</td>\n      <td>19998.0</td>\n      <td>-0.9</td>\n      <td>55.9</td>\n      <td>33141</td>\n      <td>32768</td>\n    </tr>\n    <tr>\n      <th>30</th>\n      <td>룩셈부르크</td>\n      <td>114685.0</td>\n      <td>2.3</td>\n      <td>71.1</td>\n      <td>22960</td>\n      <td>14831.0</td>\n      <td>115874.0</td>\n      <td>-1.3</td>\n      <td>73.3</td>\n      <td>20930</td>\n      <td>13646</td>\n    </tr>\n    <tr>\n      <th>31</th>\n      <td>네덜란드</td>\n      <td>52295.0</td>\n      <td>1.7</td>\n      <td>907.1</td>\n      <td>514851</td>\n      <td>576786.0</td>\n      <td>52304.0</td>\n      <td>-3.7</td>\n      <td>912.2</td>\n      <td>484785</td>\n      <td>551303</td>\n    </tr>\n    <tr>\n      <th>32</th>\n      <td>노르웨이</td>\n      <td>75826.0</td>\n      <td>0.9</td>\n      <td>405.5</td>\n      <td>86152</td>\n      <td>104004.0</td>\n      <td>67294.0</td>\n      <td>-0.8</td>\n      <td>362.0</td>\n      <td>81352</td>\n      <td>82743</td>\n    </tr>\n    <tr>\n      <th>33</th>\n      <td>폴란드</td>\n      <td>15695.0</td>\n      <td>4.5</td>\n      <td>595.9</td>\n      <td>265260</td>\n      <td>266574.0</td>\n      <td>15656.0</td>\n      <td>-2.7</td>\n      <td>594.2</td>\n      <td>257064</td>\n      <td>270939</td>\n    </tr>\n    <tr>\n      <th>34</th>\n      <td>포르투갈</td>\n      <td>23285.0</td>\n      <td>2.5</td>\n      <td>239.5</td>\n      <td>89539</td>\n      <td>67064.0</td>\n      <td>22440.0</td>\n      <td>-7.6</td>\n      <td>231.3</td>\n      <td>77515</td>\n      <td>61510</td>\n    </tr>\n    <tr>\n      <th>35</th>\n      <td>슬로바키아</td>\n      <td>19273.0</td>\n      <td>2.5</td>\n      <td>105.1</td>\n      <td>89929</td>\n      <td>88736.0</td>\n      <td>19157.0</td>\n      <td>-4.8</td>\n      <td>104.6</td>\n      <td>86476</td>\n      <td>83272</td>\n    </tr>\n    <tr>\n      <th>36</th>\n      <td>슬로베니아</td>\n      <td>25941.0</td>\n      <td>3.2</td>\n      <td>54.2</td>\n      <td>37575</td>\n      <td>37543.0</td>\n      <td>25180.0</td>\n      <td>-5.5</td>\n      <td>52.9</td>\n      <td>32965</td>\n      <td>34300</td>\n    </tr>\n    <tr>\n      <th>37</th>\n      <td>스페인</td>\n      <td>29565.0</td>\n      <td>2.0</td>\n      <td>1393.5</td>\n      <td>372424</td>\n      <td>332965.0</td>\n      <td>27057.0</td>\n      <td>-10.8</td>\n      <td>1281.2</td>\n      <td>325193</td>\n      <td>306752</td>\n    </tr>\n    <tr>\n      <th>38</th>\n      <td>스웨덴</td>\n      <td>51687.0</td>\n      <td>1.4</td>\n      <td>531.3</td>\n      <td>158835</td>\n      <td>161089.0</td>\n      <td>51926.0</td>\n      <td>-2.8</td>\n      <td>537.6</td>\n      <td>148940</td>\n      <td>154297</td>\n    </tr>\n    <tr>\n      <th>39</th>\n      <td>스위스</td>\n      <td>85300.0</td>\n      <td>1.1</td>\n      <td>731.5</td>\n      <td>277810</td>\n      <td>313913.0</td>\n      <td>86602.0</td>\n      <td>-2.9</td>\n      <td>748.0</td>\n      <td>291721</td>\n      <td>319226</td>\n    </tr>\n    <tr>\n      <th>40</th>\n      <td>영국</td>\n      <td>42354.0</td>\n      <td>1.4</td>\n      <td>2830.8</td>\n      <td>622640</td>\n      <td>443715.0</td>\n      <td>40285.0</td>\n      <td>-9.8</td>\n      <td>2707.7</td>\n      <td>543961</td>\n      <td>381130</td>\n    </tr>\n    <tr>\n      <th>41</th>\n      <td>오세아니아</td>\n      <td>NaN</td>\n      <td>NaN</td>\n      <td>NaN</td>\n      <td>NaN</td>\n      <td>NaN</td>\n      <td>NaN</td>\n      <td>NaN</td>\n      <td>NaN</td>\n      <td>NaN</td>\n      <td>NaN</td>\n    </tr>\n    <tr>\n      <th>42</th>\n      <td>오스트레일리아</td>\n      <td>55057.0</td>\n      <td>2.2</td>\n      <td>1396.6</td>\n      <td>154043</td>\n      <td>271006.0</td>\n      <td>51812.0</td>\n      <td>-0.3</td>\n      <td>1330.9</td>\n      <td>146522</td>\n      <td>250570</td>\n    </tr>\n    <tr>\n      <th>43</th>\n      <td>뉴질랜드</td>\n      <td>41999.0</td>\n      <td>1.6</td>\n      <td>209.1</td>\n      <td>42362</td>\n      <td>39516.0</td>\n      <td>41792.0</td>\n      <td>1.0</td>\n      <td>212.5</td>\n      <td>37135</td>\n      <td>38897</td>\n    </tr>\n  </tbody>\n</table>\n</div>"
     },
     "execution_count": 20,
     "metadata": {},
     "output_type": "execute_result"
    }
   ],
   "source": [
    "df_ex1 = pd.read_csv(url,header=[0,1])\n",
    "df_ex1"
   ],
   "metadata": {
    "collapsed": false,
    "pycharm": {
     "name": "#%%\n"
    }
   }
  },
  {
   "cell_type": "code",
   "execution_count": 21,
   "outputs": [
    {
     "data": {
      "text/plain": "             2019                                           2020          \\\n          1인당 GDP GDP 성장률      GDP       수입         수출   1인당 GDP GDP 성장률   \n국가                                                                         \n아시아           NaN     NaN      NaN      NaN        NaN       NaN     NaN   \n대한민국      31929.0     2.2   1651.0   503343   542233.0   31637.0    -0.9   \n이스라엘      43589.0     3.5    394.7    75697    51899.0   43611.0    -2.4   \n일본        40113.0     0.3   5064.9   721078   705671.0   38113.0    -4.3   \n튀르키예       9127.0     0.9    761.4   210261   181021.0    8538.0     1.8   \n북아메리카         NaN     NaN      NaN      NaN        NaN       NaN     NaN   \n캐나다       46327.0     1.9   1741.6   462392   450805.0   43242.0    -5.4   \n멕시코        9946.0    -0.1   1268.9        -   459597.0    8347.0    -8.2   \n미국        65280.0     2.2  21433.2  2497500  1643100.0   63544.0    -3.5   \n남아메리카         NaN     NaN      NaN      NaN        NaN       NaN     NaN   \n칠레        14742.0     0.9    279.4        -    69889.0   13232.0    -5.8   \n콜롬비아       6425.0     3.3    323.4    52703    39489.0    5333.0    -6.8   \n코스타리카     12670.0     2.2     64.0    17573    11864.0   12077.0    -4.5   \n유럽            NaN     NaN      NaN      NaN        NaN       NaN     NaN   \n오스트리아     50122.0     1.4    445.1   184747   178660.0   48105.0    -6.6   \n벨기에       46414.0     1.8    533.3   427845   446901.0   44594.0    -6.3   \n체코        23490.0     2.3    250.7   179569   199676.0   22762.0    -5.6   \n덴마크       60213.0     2.8    350.1    97209   109989.0   60909.0    -2.7   \n에스토니아     23718.0     5.0     31.5    18022    16112.0   23312.0    -2.9   \n핀란드       48712.0     1.3    269.0    73718    72839.0   49041.0    -2.8   \n프랑스       40380.0     1.5   2715.5   647361   559150.0   38625.0    -8.1   \n독일        46468.0     0.6   3861.1  1233994  1489430.0   45724.0    -4.9   \n그리스       19151.0     1.9    205.3    62520    37911.0   17676.0    -8.2   \n헝가리       16733.0     4.6    163.5   116516   122059.0   15899.0    -5.0   \n아이슬란드     68883.0     2.6     24.8     6616     5238.0   59261.0    -6.6   \n아일랜드      80779.0     5.6    398.6   100758   169585.0   83813.0     3.4   \n이탈리아      33567.0     0.3   2004.9   475979   539708.0   31676.0    -8.9   \n라트비아      17794.0     2.0     34.1    17809    14510.0   17620.0    -3.6   \n리투아니아     19555.0     4.3     54.6    35760    33152.0   19998.0    -0.9   \n룩셈부르크    114685.0     2.3     71.1    22960    14831.0  115874.0    -1.3   \n네덜란드      52295.0     1.7    907.1   514851   576786.0   52304.0    -3.7   \n노르웨이      75826.0     0.9    405.5    86152   104004.0   67294.0    -0.8   \n폴란드       15695.0     4.5    595.9   265260   266574.0   15656.0    -2.7   \n포르투갈      23285.0     2.5    239.5    89539    67064.0   22440.0    -7.6   \n슬로바키아     19273.0     2.5    105.1    89929    88736.0   19157.0    -4.8   \n슬로베니아     25941.0     3.2     54.2    37575    37543.0   25180.0    -5.5   \n스페인       29565.0     2.0   1393.5   372424   332965.0   27057.0   -10.8   \n스웨덴       51687.0     1.4    531.3   158835   161089.0   51926.0    -2.8   \n스위스       85300.0     1.1    731.5   277810   313913.0   86602.0    -2.9   \n영국        42354.0     1.4   2830.8   622640   443715.0   40285.0    -9.8   \n오세아니아         NaN     NaN      NaN      NaN        NaN       NaN     NaN   \n오스트레일리아   55057.0     2.2   1396.6   154043   271006.0   51812.0    -0.3   \n뉴질랜드      41999.0     1.6    209.1    42362    39516.0   41792.0     1.0   \n\n                                    \n             GDP       수입       수출  \n국가                                  \n아시아          NaN      NaN      NaN  \n대한민국      1638.2   467633   512498  \n이스라엘       402.0    69810    49372  \n일본        4845.2        -        -  \n튀르키예       720.1   219758   169835  \n북아메리카        NaN      NaN      NaN  \n캐나다       1643.4   419688   392129  \n멕시코       1076.2        -   416235  \n미국       20936.6        -        -  \n남아메리카        NaN      NaN      NaN  \n칠레         252.9        -    71728  \n콜롬비아       271.3    43489    31056  \n코스타리카       61.5    15237    12443  \n유럽           NaN      NaN      NaN  \n오스트리아      429.0   171944   168920  \n벨기에        515.3   396125   419910  \n체코         243.5   171073   192574  \n덴마크        355.2    96800   107227  \n에스토니아       31.0    17335    16375  \n핀란드        271.2    68085    65668  \n프랑스       2603.0   572028   478333  \n독일        3806.1  1170726  1380378  \n그리스        189.4    55695    35170  \n헝가리        155.0   110442   119412  \n아이슬란드       21.7     5707     4594  \n아일랜드       418.6    97969   178734  \n이탈리아      1886.4   421828   495092  \n라트비아        33.5    17264    15101  \n리투아니아       55.9    33141    32768  \n룩셈부르크       73.3    20930    13646  \n네덜란드       912.2   484785   551303  \n노르웨이       362.0    81352    82743  \n폴란드        594.2   257064   270939  \n포르투갈       231.3    77515    61510  \n슬로바키아      104.6    86476    83272  \n슬로베니아       52.9    32965    34300  \n스페인       1281.2   325193   306752  \n스웨덴        537.6   148940   154297  \n스위스        748.0   291721   319226  \n영국        2707.7   543961   381130  \n오세아니아        NaN      NaN      NaN  \n오스트레일리아   1330.9   146522   250570  \n뉴질랜드       212.5    37135    38897  ",
      "text/html": "<div>\n<style scoped>\n    .dataframe tbody tr th:only-of-type {\n        vertical-align: middle;\n    }\n\n    .dataframe tbody tr th {\n        vertical-align: top;\n    }\n\n    .dataframe thead tr th {\n        text-align: left;\n    }\n\n    .dataframe thead tr:last-of-type th {\n        text-align: right;\n    }\n</style>\n<table border=\"1\" class=\"dataframe\">\n  <thead>\n    <tr>\n      <th></th>\n      <th colspan=\"5\" halign=\"left\">2019</th>\n      <th colspan=\"5\" halign=\"left\">2020</th>\n    </tr>\n    <tr>\n      <th></th>\n      <th>1인당 GDP</th>\n      <th>GDP 성장률</th>\n      <th>GDP</th>\n      <th>수입</th>\n      <th>수출</th>\n      <th>1인당 GDP</th>\n      <th>GDP 성장률</th>\n      <th>GDP</th>\n      <th>수입</th>\n      <th>수출</th>\n    </tr>\n    <tr>\n      <th>국가</th>\n      <th></th>\n      <th></th>\n      <th></th>\n      <th></th>\n      <th></th>\n      <th></th>\n      <th></th>\n      <th></th>\n      <th></th>\n      <th></th>\n    </tr>\n  </thead>\n  <tbody>\n    <tr>\n      <th>아시아</th>\n      <td>NaN</td>\n      <td>NaN</td>\n      <td>NaN</td>\n      <td>NaN</td>\n      <td>NaN</td>\n      <td>NaN</td>\n      <td>NaN</td>\n      <td>NaN</td>\n      <td>NaN</td>\n      <td>NaN</td>\n    </tr>\n    <tr>\n      <th>대한민국</th>\n      <td>31929.0</td>\n      <td>2.2</td>\n      <td>1651.0</td>\n      <td>503343</td>\n      <td>542233.0</td>\n      <td>31637.0</td>\n      <td>-0.9</td>\n      <td>1638.2</td>\n      <td>467633</td>\n      <td>512498</td>\n    </tr>\n    <tr>\n      <th>이스라엘</th>\n      <td>43589.0</td>\n      <td>3.5</td>\n      <td>394.7</td>\n      <td>75697</td>\n      <td>51899.0</td>\n      <td>43611.0</td>\n      <td>-2.4</td>\n      <td>402.0</td>\n      <td>69810</td>\n      <td>49372</td>\n    </tr>\n    <tr>\n      <th>일본</th>\n      <td>40113.0</td>\n      <td>0.3</td>\n      <td>5064.9</td>\n      <td>721078</td>\n      <td>705671.0</td>\n      <td>38113.0</td>\n      <td>-4.3</td>\n      <td>4845.2</td>\n      <td>-</td>\n      <td>-</td>\n    </tr>\n    <tr>\n      <th>튀르키예</th>\n      <td>9127.0</td>\n      <td>0.9</td>\n      <td>761.4</td>\n      <td>210261</td>\n      <td>181021.0</td>\n      <td>8538.0</td>\n      <td>1.8</td>\n      <td>720.1</td>\n      <td>219758</td>\n      <td>169835</td>\n    </tr>\n    <tr>\n      <th>북아메리카</th>\n      <td>NaN</td>\n      <td>NaN</td>\n      <td>NaN</td>\n      <td>NaN</td>\n      <td>NaN</td>\n      <td>NaN</td>\n      <td>NaN</td>\n      <td>NaN</td>\n      <td>NaN</td>\n      <td>NaN</td>\n    </tr>\n    <tr>\n      <th>캐나다</th>\n      <td>46327.0</td>\n      <td>1.9</td>\n      <td>1741.6</td>\n      <td>462392</td>\n      <td>450805.0</td>\n      <td>43242.0</td>\n      <td>-5.4</td>\n      <td>1643.4</td>\n      <td>419688</td>\n      <td>392129</td>\n    </tr>\n    <tr>\n      <th>멕시코</th>\n      <td>9946.0</td>\n      <td>-0.1</td>\n      <td>1268.9</td>\n      <td>-</td>\n      <td>459597.0</td>\n      <td>8347.0</td>\n      <td>-8.2</td>\n      <td>1076.2</td>\n      <td>-</td>\n      <td>416235</td>\n    </tr>\n    <tr>\n      <th>미국</th>\n      <td>65280.0</td>\n      <td>2.2</td>\n      <td>21433.2</td>\n      <td>2497500</td>\n      <td>1643100.0</td>\n      <td>63544.0</td>\n      <td>-3.5</td>\n      <td>20936.6</td>\n      <td>-</td>\n      <td>-</td>\n    </tr>\n    <tr>\n      <th>남아메리카</th>\n      <td>NaN</td>\n      <td>NaN</td>\n      <td>NaN</td>\n      <td>NaN</td>\n      <td>NaN</td>\n      <td>NaN</td>\n      <td>NaN</td>\n      <td>NaN</td>\n      <td>NaN</td>\n      <td>NaN</td>\n    </tr>\n    <tr>\n      <th>칠레</th>\n      <td>14742.0</td>\n      <td>0.9</td>\n      <td>279.4</td>\n      <td>-</td>\n      <td>69889.0</td>\n      <td>13232.0</td>\n      <td>-5.8</td>\n      <td>252.9</td>\n      <td>-</td>\n      <td>71728</td>\n    </tr>\n    <tr>\n      <th>콜롬비아</th>\n      <td>6425.0</td>\n      <td>3.3</td>\n      <td>323.4</td>\n      <td>52703</td>\n      <td>39489.0</td>\n      <td>5333.0</td>\n      <td>-6.8</td>\n      <td>271.3</td>\n      <td>43489</td>\n      <td>31056</td>\n    </tr>\n    <tr>\n      <th>코스타리카</th>\n      <td>12670.0</td>\n      <td>2.2</td>\n      <td>64.0</td>\n      <td>17573</td>\n      <td>11864.0</td>\n      <td>12077.0</td>\n      <td>-4.5</td>\n      <td>61.5</td>\n      <td>15237</td>\n      <td>12443</td>\n    </tr>\n    <tr>\n      <th>유럽</th>\n      <td>NaN</td>\n      <td>NaN</td>\n      <td>NaN</td>\n      <td>NaN</td>\n      <td>NaN</td>\n      <td>NaN</td>\n      <td>NaN</td>\n      <td>NaN</td>\n      <td>NaN</td>\n      <td>NaN</td>\n    </tr>\n    <tr>\n      <th>오스트리아</th>\n      <td>50122.0</td>\n      <td>1.4</td>\n      <td>445.1</td>\n      <td>184747</td>\n      <td>178660.0</td>\n      <td>48105.0</td>\n      <td>-6.6</td>\n      <td>429.0</td>\n      <td>171944</td>\n      <td>168920</td>\n    </tr>\n    <tr>\n      <th>벨기에</th>\n      <td>46414.0</td>\n      <td>1.8</td>\n      <td>533.3</td>\n      <td>427845</td>\n      <td>446901.0</td>\n      <td>44594.0</td>\n      <td>-6.3</td>\n      <td>515.3</td>\n      <td>396125</td>\n      <td>419910</td>\n    </tr>\n    <tr>\n      <th>체코</th>\n      <td>23490.0</td>\n      <td>2.3</td>\n      <td>250.7</td>\n      <td>179569</td>\n      <td>199676.0</td>\n      <td>22762.0</td>\n      <td>-5.6</td>\n      <td>243.5</td>\n      <td>171073</td>\n      <td>192574</td>\n    </tr>\n    <tr>\n      <th>덴마크</th>\n      <td>60213.0</td>\n      <td>2.8</td>\n      <td>350.1</td>\n      <td>97209</td>\n      <td>109989.0</td>\n      <td>60909.0</td>\n      <td>-2.7</td>\n      <td>355.2</td>\n      <td>96800</td>\n      <td>107227</td>\n    </tr>\n    <tr>\n      <th>에스토니아</th>\n      <td>23718.0</td>\n      <td>5.0</td>\n      <td>31.5</td>\n      <td>18022</td>\n      <td>16112.0</td>\n      <td>23312.0</td>\n      <td>-2.9</td>\n      <td>31.0</td>\n      <td>17335</td>\n      <td>16375</td>\n    </tr>\n    <tr>\n      <th>핀란드</th>\n      <td>48712.0</td>\n      <td>1.3</td>\n      <td>269.0</td>\n      <td>73718</td>\n      <td>72839.0</td>\n      <td>49041.0</td>\n      <td>-2.8</td>\n      <td>271.2</td>\n      <td>68085</td>\n      <td>65668</td>\n    </tr>\n    <tr>\n      <th>프랑스</th>\n      <td>40380.0</td>\n      <td>1.5</td>\n      <td>2715.5</td>\n      <td>647361</td>\n      <td>559150.0</td>\n      <td>38625.0</td>\n      <td>-8.1</td>\n      <td>2603.0</td>\n      <td>572028</td>\n      <td>478333</td>\n    </tr>\n    <tr>\n      <th>독일</th>\n      <td>46468.0</td>\n      <td>0.6</td>\n      <td>3861.1</td>\n      <td>1233994</td>\n      <td>1489430.0</td>\n      <td>45724.0</td>\n      <td>-4.9</td>\n      <td>3806.1</td>\n      <td>1170726</td>\n      <td>1380378</td>\n    </tr>\n    <tr>\n      <th>그리스</th>\n      <td>19151.0</td>\n      <td>1.9</td>\n      <td>205.3</td>\n      <td>62520</td>\n      <td>37911.0</td>\n      <td>17676.0</td>\n      <td>-8.2</td>\n      <td>189.4</td>\n      <td>55695</td>\n      <td>35170</td>\n    </tr>\n    <tr>\n      <th>헝가리</th>\n      <td>16733.0</td>\n      <td>4.6</td>\n      <td>163.5</td>\n      <td>116516</td>\n      <td>122059.0</td>\n      <td>15899.0</td>\n      <td>-5.0</td>\n      <td>155.0</td>\n      <td>110442</td>\n      <td>119412</td>\n    </tr>\n    <tr>\n      <th>아이슬란드</th>\n      <td>68883.0</td>\n      <td>2.6</td>\n      <td>24.8</td>\n      <td>6616</td>\n      <td>5238.0</td>\n      <td>59261.0</td>\n      <td>-6.6</td>\n      <td>21.7</td>\n      <td>5707</td>\n      <td>4594</td>\n    </tr>\n    <tr>\n      <th>아일랜드</th>\n      <td>80779.0</td>\n      <td>5.6</td>\n      <td>398.6</td>\n      <td>100758</td>\n      <td>169585.0</td>\n      <td>83813.0</td>\n      <td>3.4</td>\n      <td>418.6</td>\n      <td>97969</td>\n      <td>178734</td>\n    </tr>\n    <tr>\n      <th>이탈리아</th>\n      <td>33567.0</td>\n      <td>0.3</td>\n      <td>2004.9</td>\n      <td>475979</td>\n      <td>539708.0</td>\n      <td>31676.0</td>\n      <td>-8.9</td>\n      <td>1886.4</td>\n      <td>421828</td>\n      <td>495092</td>\n    </tr>\n    <tr>\n      <th>라트비아</th>\n      <td>17794.0</td>\n      <td>2.0</td>\n      <td>34.1</td>\n      <td>17809</td>\n      <td>14510.0</td>\n      <td>17620.0</td>\n      <td>-3.6</td>\n      <td>33.5</td>\n      <td>17264</td>\n      <td>15101</td>\n    </tr>\n    <tr>\n      <th>리투아니아</th>\n      <td>19555.0</td>\n      <td>4.3</td>\n      <td>54.6</td>\n      <td>35760</td>\n      <td>33152.0</td>\n      <td>19998.0</td>\n      <td>-0.9</td>\n      <td>55.9</td>\n      <td>33141</td>\n      <td>32768</td>\n    </tr>\n    <tr>\n      <th>룩셈부르크</th>\n      <td>114685.0</td>\n      <td>2.3</td>\n      <td>71.1</td>\n      <td>22960</td>\n      <td>14831.0</td>\n      <td>115874.0</td>\n      <td>-1.3</td>\n      <td>73.3</td>\n      <td>20930</td>\n      <td>13646</td>\n    </tr>\n    <tr>\n      <th>네덜란드</th>\n      <td>52295.0</td>\n      <td>1.7</td>\n      <td>907.1</td>\n      <td>514851</td>\n      <td>576786.0</td>\n      <td>52304.0</td>\n      <td>-3.7</td>\n      <td>912.2</td>\n      <td>484785</td>\n      <td>551303</td>\n    </tr>\n    <tr>\n      <th>노르웨이</th>\n      <td>75826.0</td>\n      <td>0.9</td>\n      <td>405.5</td>\n      <td>86152</td>\n      <td>104004.0</td>\n      <td>67294.0</td>\n      <td>-0.8</td>\n      <td>362.0</td>\n      <td>81352</td>\n      <td>82743</td>\n    </tr>\n    <tr>\n      <th>폴란드</th>\n      <td>15695.0</td>\n      <td>4.5</td>\n      <td>595.9</td>\n      <td>265260</td>\n      <td>266574.0</td>\n      <td>15656.0</td>\n      <td>-2.7</td>\n      <td>594.2</td>\n      <td>257064</td>\n      <td>270939</td>\n    </tr>\n    <tr>\n      <th>포르투갈</th>\n      <td>23285.0</td>\n      <td>2.5</td>\n      <td>239.5</td>\n      <td>89539</td>\n      <td>67064.0</td>\n      <td>22440.0</td>\n      <td>-7.6</td>\n      <td>231.3</td>\n      <td>77515</td>\n      <td>61510</td>\n    </tr>\n    <tr>\n      <th>슬로바키아</th>\n      <td>19273.0</td>\n      <td>2.5</td>\n      <td>105.1</td>\n      <td>89929</td>\n      <td>88736.0</td>\n      <td>19157.0</td>\n      <td>-4.8</td>\n      <td>104.6</td>\n      <td>86476</td>\n      <td>83272</td>\n    </tr>\n    <tr>\n      <th>슬로베니아</th>\n      <td>25941.0</td>\n      <td>3.2</td>\n      <td>54.2</td>\n      <td>37575</td>\n      <td>37543.0</td>\n      <td>25180.0</td>\n      <td>-5.5</td>\n      <td>52.9</td>\n      <td>32965</td>\n      <td>34300</td>\n    </tr>\n    <tr>\n      <th>스페인</th>\n      <td>29565.0</td>\n      <td>2.0</td>\n      <td>1393.5</td>\n      <td>372424</td>\n      <td>332965.0</td>\n      <td>27057.0</td>\n      <td>-10.8</td>\n      <td>1281.2</td>\n      <td>325193</td>\n      <td>306752</td>\n    </tr>\n    <tr>\n      <th>스웨덴</th>\n      <td>51687.0</td>\n      <td>1.4</td>\n      <td>531.3</td>\n      <td>158835</td>\n      <td>161089.0</td>\n      <td>51926.0</td>\n      <td>-2.8</td>\n      <td>537.6</td>\n      <td>148940</td>\n      <td>154297</td>\n    </tr>\n    <tr>\n      <th>스위스</th>\n      <td>85300.0</td>\n      <td>1.1</td>\n      <td>731.5</td>\n      <td>277810</td>\n      <td>313913.0</td>\n      <td>86602.0</td>\n      <td>-2.9</td>\n      <td>748.0</td>\n      <td>291721</td>\n      <td>319226</td>\n    </tr>\n    <tr>\n      <th>영국</th>\n      <td>42354.0</td>\n      <td>1.4</td>\n      <td>2830.8</td>\n      <td>622640</td>\n      <td>443715.0</td>\n      <td>40285.0</td>\n      <td>-9.8</td>\n      <td>2707.7</td>\n      <td>543961</td>\n      <td>381130</td>\n    </tr>\n    <tr>\n      <th>오세아니아</th>\n      <td>NaN</td>\n      <td>NaN</td>\n      <td>NaN</td>\n      <td>NaN</td>\n      <td>NaN</td>\n      <td>NaN</td>\n      <td>NaN</td>\n      <td>NaN</td>\n      <td>NaN</td>\n      <td>NaN</td>\n    </tr>\n    <tr>\n      <th>오스트레일리아</th>\n      <td>55057.0</td>\n      <td>2.2</td>\n      <td>1396.6</td>\n      <td>154043</td>\n      <td>271006.0</td>\n      <td>51812.0</td>\n      <td>-0.3</td>\n      <td>1330.9</td>\n      <td>146522</td>\n      <td>250570</td>\n    </tr>\n    <tr>\n      <th>뉴질랜드</th>\n      <td>41999.0</td>\n      <td>1.6</td>\n      <td>209.1</td>\n      <td>42362</td>\n      <td>39516.0</td>\n      <td>41792.0</td>\n      <td>1.0</td>\n      <td>212.5</td>\n      <td>37135</td>\n      <td>38897</td>\n    </tr>\n  </tbody>\n</table>\n</div>"
     },
     "execution_count": 21,
     "metadata": {},
     "output_type": "execute_result"
    }
   ],
   "source": [
    "df_ex1 = pd.read_csv(url,header=[0,1], index_col=0)\n",
    "df_ex1"
   ],
   "metadata": {
    "collapsed": false,
    "pycharm": {
     "name": "#%%\n"
    }
   }
  },
  {
   "cell_type": "code",
   "execution_count": 24,
   "outputs": [
    {
     "data": {
      "text/plain": "         국가 level_1  1인당 GDP     GDP  GDP 성장률\n0       아시아    2019      NaN     NaN      NaN\n1       아시아    2020      NaN     NaN      NaN\n2      대한민국    2019  31929.0  1651.0      2.2\n3      대한민국    2020  31637.0  1638.2     -0.9\n4      이스라엘    2019  43589.0   394.7      3.5\n..      ...     ...      ...     ...      ...\n81    오세아니아    2020      NaN     NaN      NaN\n82  오스트레일리아    2019  55057.0  1396.6      2.2\n83  오스트레일리아    2020  51812.0  1330.9     -0.3\n84     뉴질랜드    2019  41999.0   209.1      1.6\n85     뉴질랜드    2020  41792.0   212.5      1.0\n\n[86 rows x 5 columns]",
      "text/html": "<div>\n<style scoped>\n    .dataframe tbody tr th:only-of-type {\n        vertical-align: middle;\n    }\n\n    .dataframe tbody tr th {\n        vertical-align: top;\n    }\n\n    .dataframe thead th {\n        text-align: right;\n    }\n</style>\n<table border=\"1\" class=\"dataframe\">\n  <thead>\n    <tr style=\"text-align: right;\">\n      <th></th>\n      <th>국가</th>\n      <th>level_1</th>\n      <th>1인당 GDP</th>\n      <th>GDP</th>\n      <th>GDP 성장률</th>\n    </tr>\n  </thead>\n  <tbody>\n    <tr>\n      <th>0</th>\n      <td>아시아</td>\n      <td>2019</td>\n      <td>NaN</td>\n      <td>NaN</td>\n      <td>NaN</td>\n    </tr>\n    <tr>\n      <th>1</th>\n      <td>아시아</td>\n      <td>2020</td>\n      <td>NaN</td>\n      <td>NaN</td>\n      <td>NaN</td>\n    </tr>\n    <tr>\n      <th>2</th>\n      <td>대한민국</td>\n      <td>2019</td>\n      <td>31929.0</td>\n      <td>1651.0</td>\n      <td>2.2</td>\n    </tr>\n    <tr>\n      <th>3</th>\n      <td>대한민국</td>\n      <td>2020</td>\n      <td>31637.0</td>\n      <td>1638.2</td>\n      <td>-0.9</td>\n    </tr>\n    <tr>\n      <th>4</th>\n      <td>이스라엘</td>\n      <td>2019</td>\n      <td>43589.0</td>\n      <td>394.7</td>\n      <td>3.5</td>\n    </tr>\n    <tr>\n      <th>...</th>\n      <td>...</td>\n      <td>...</td>\n      <td>...</td>\n      <td>...</td>\n      <td>...</td>\n    </tr>\n    <tr>\n      <th>81</th>\n      <td>오세아니아</td>\n      <td>2020</td>\n      <td>NaN</td>\n      <td>NaN</td>\n      <td>NaN</td>\n    </tr>\n    <tr>\n      <th>82</th>\n      <td>오스트레일리아</td>\n      <td>2019</td>\n      <td>55057.0</td>\n      <td>1396.6</td>\n      <td>2.2</td>\n    </tr>\n    <tr>\n      <th>83</th>\n      <td>오스트레일리아</td>\n      <td>2020</td>\n      <td>51812.0</td>\n      <td>1330.9</td>\n      <td>-0.3</td>\n    </tr>\n    <tr>\n      <th>84</th>\n      <td>뉴질랜드</td>\n      <td>2019</td>\n      <td>41999.0</td>\n      <td>209.1</td>\n      <td>1.6</td>\n    </tr>\n    <tr>\n      <th>85</th>\n      <td>뉴질랜드</td>\n      <td>2020</td>\n      <td>41792.0</td>\n      <td>212.5</td>\n      <td>1.0</td>\n    </tr>\n  </tbody>\n</table>\n<p>86 rows × 5 columns</p>\n</div>"
     },
     "execution_count": 24,
     "metadata": {},
     "output_type": "execute_result"
    }
   ],
   "source": [
    "df_ex1.stack(0, dropna=False)"
   ],
   "metadata": {
    "collapsed": false,
    "pycharm": {
     "name": "#%%\n"
    }
   }
  },
  {
   "cell_type": "code",
   "execution_count": 25,
   "outputs": [
    {
     "data": {
      "text/plain": "              1인당 GDP     GDP  GDP 성장률\n국가                                    \n아시아     2019      NaN     NaN      NaN\n        2020      NaN     NaN      NaN\n대한민국    2019  31929.0  1651.0      2.2\n        2020  31637.0  1638.2     -0.9\n이스라엘    2019  43589.0   394.7      3.5\n...               ...     ...      ...\n오세아니아   2020      NaN     NaN      NaN\n오스트레일리아 2019  55057.0  1396.6      2.2\n        2020  51812.0  1330.9     -0.3\n뉴질랜드    2019  41999.0   209.1      1.6\n        2020  41792.0   212.5      1.0\n\n[86 rows x 3 columns]",
      "text/html": "<div>\n<style scoped>\n    .dataframe tbody tr th:only-of-type {\n        vertical-align: middle;\n    }\n\n    .dataframe tbody tr th {\n        vertical-align: top;\n    }\n\n    .dataframe thead th {\n        text-align: right;\n    }\n</style>\n<table border=\"1\" class=\"dataframe\">\n  <thead>\n    <tr style=\"text-align: right;\">\n      <th></th>\n      <th></th>\n      <th>1인당 GDP</th>\n      <th>GDP</th>\n      <th>GDP 성장률</th>\n    </tr>\n    <tr>\n      <th>국가</th>\n      <th></th>\n      <th></th>\n      <th></th>\n      <th></th>\n    </tr>\n  </thead>\n  <tbody>\n    <tr>\n      <th rowspan=\"2\" valign=\"top\">아시아</th>\n      <th>2019</th>\n      <td>NaN</td>\n      <td>NaN</td>\n      <td>NaN</td>\n    </tr>\n    <tr>\n      <th>2020</th>\n      <td>NaN</td>\n      <td>NaN</td>\n      <td>NaN</td>\n    </tr>\n    <tr>\n      <th rowspan=\"2\" valign=\"top\">대한민국</th>\n      <th>2019</th>\n      <td>31929.0</td>\n      <td>1651.0</td>\n      <td>2.2</td>\n    </tr>\n    <tr>\n      <th>2020</th>\n      <td>31637.0</td>\n      <td>1638.2</td>\n      <td>-0.9</td>\n    </tr>\n    <tr>\n      <th>이스라엘</th>\n      <th>2019</th>\n      <td>43589.0</td>\n      <td>394.7</td>\n      <td>3.5</td>\n    </tr>\n    <tr>\n      <th>...</th>\n      <th>...</th>\n      <td>...</td>\n      <td>...</td>\n      <td>...</td>\n    </tr>\n    <tr>\n      <th>오세아니아</th>\n      <th>2020</th>\n      <td>NaN</td>\n      <td>NaN</td>\n      <td>NaN</td>\n    </tr>\n    <tr>\n      <th rowspan=\"2\" valign=\"top\">오스트레일리아</th>\n      <th>2019</th>\n      <td>55057.0</td>\n      <td>1396.6</td>\n      <td>2.2</td>\n    </tr>\n    <tr>\n      <th>2020</th>\n      <td>51812.0</td>\n      <td>1330.9</td>\n      <td>-0.3</td>\n    </tr>\n    <tr>\n      <th rowspan=\"2\" valign=\"top\">뉴질랜드</th>\n      <th>2019</th>\n      <td>41999.0</td>\n      <td>209.1</td>\n      <td>1.6</td>\n    </tr>\n    <tr>\n      <th>2020</th>\n      <td>41792.0</td>\n      <td>212.5</td>\n      <td>1.0</td>\n    </tr>\n  </tbody>\n</table>\n<p>86 rows × 3 columns</p>\n</div>"
     },
     "execution_count": 25,
     "metadata": {},
     "output_type": "execute_result"
    }
   ],
   "source": [
    "df_ex1.stack(0, dropna=False).filter(like='GDP')"
   ],
   "metadata": {
    "collapsed": false,
    "pycharm": {
     "name": "#%%\n"
    }
   }
  },
  {
   "cell_type": "code",
   "execution_count": 26,
   "outputs": [
    {
     "data": {
      "text/plain": "         국가 level_1  1인당 GDP     GDP  GDP 성장률\n0       아시아    2019      NaN     NaN      NaN\n1       아시아    2020      NaN     NaN      NaN\n2      대한민국    2019  31929.0  1651.0      2.2\n3      대한민국    2020  31637.0  1638.2     -0.9\n4      이스라엘    2019  43589.0   394.7      3.5\n..      ...     ...      ...     ...      ...\n81    오세아니아    2020      NaN     NaN      NaN\n82  오스트레일리아    2019  55057.0  1396.6      2.2\n83  오스트레일리아    2020  51812.0  1330.9     -0.3\n84     뉴질랜드    2019  41999.0   209.1      1.6\n85     뉴질랜드    2020  41792.0   212.5      1.0\n\n[86 rows x 5 columns]",
      "text/html": "<div>\n<style scoped>\n    .dataframe tbody tr th:only-of-type {\n        vertical-align: middle;\n    }\n\n    .dataframe tbody tr th {\n        vertical-align: top;\n    }\n\n    .dataframe thead th {\n        text-align: right;\n    }\n</style>\n<table border=\"1\" class=\"dataframe\">\n  <thead>\n    <tr style=\"text-align: right;\">\n      <th></th>\n      <th>국가</th>\n      <th>level_1</th>\n      <th>1인당 GDP</th>\n      <th>GDP</th>\n      <th>GDP 성장률</th>\n    </tr>\n  </thead>\n  <tbody>\n    <tr>\n      <th>0</th>\n      <td>아시아</td>\n      <td>2019</td>\n      <td>NaN</td>\n      <td>NaN</td>\n      <td>NaN</td>\n    </tr>\n    <tr>\n      <th>1</th>\n      <td>아시아</td>\n      <td>2020</td>\n      <td>NaN</td>\n      <td>NaN</td>\n      <td>NaN</td>\n    </tr>\n    <tr>\n      <th>2</th>\n      <td>대한민국</td>\n      <td>2019</td>\n      <td>31929.0</td>\n      <td>1651.0</td>\n      <td>2.2</td>\n    </tr>\n    <tr>\n      <th>3</th>\n      <td>대한민국</td>\n      <td>2020</td>\n      <td>31637.0</td>\n      <td>1638.2</td>\n      <td>-0.9</td>\n    </tr>\n    <tr>\n      <th>4</th>\n      <td>이스라엘</td>\n      <td>2019</td>\n      <td>43589.0</td>\n      <td>394.7</td>\n      <td>3.5</td>\n    </tr>\n    <tr>\n      <th>...</th>\n      <td>...</td>\n      <td>...</td>\n      <td>...</td>\n      <td>...</td>\n      <td>...</td>\n    </tr>\n    <tr>\n      <th>81</th>\n      <td>오세아니아</td>\n      <td>2020</td>\n      <td>NaN</td>\n      <td>NaN</td>\n      <td>NaN</td>\n    </tr>\n    <tr>\n      <th>82</th>\n      <td>오스트레일리아</td>\n      <td>2019</td>\n      <td>55057.0</td>\n      <td>1396.6</td>\n      <td>2.2</td>\n    </tr>\n    <tr>\n      <th>83</th>\n      <td>오스트레일리아</td>\n      <td>2020</td>\n      <td>51812.0</td>\n      <td>1330.9</td>\n      <td>-0.3</td>\n    </tr>\n    <tr>\n      <th>84</th>\n      <td>뉴질랜드</td>\n      <td>2019</td>\n      <td>41999.0</td>\n      <td>209.1</td>\n      <td>1.6</td>\n    </tr>\n    <tr>\n      <th>85</th>\n      <td>뉴질랜드</td>\n      <td>2020</td>\n      <td>41792.0</td>\n      <td>212.5</td>\n      <td>1.0</td>\n    </tr>\n  </tbody>\n</table>\n<p>86 rows × 5 columns</p>\n</div>"
     },
     "execution_count": 26,
     "metadata": {},
     "output_type": "execute_result"
    }
   ],
   "source": [
    "df_ex1.stack(0, dropna=False).filter(like='GDP').reset_index()"
   ],
   "metadata": {
    "collapsed": false,
    "pycharm": {
     "name": "#%%\n"
    }
   }
  },
  {
   "cell_type": "code",
   "execution_count": 27,
   "outputs": [
    {
     "data": {
      "text/plain": "         국가    연도  1인당 GDP     GDP  GDP 성장률\n0       아시아  2019      NaN     NaN      NaN\n1       아시아  2020      NaN     NaN      NaN\n2      대한민국  2019  31929.0  1651.0      2.2\n3      대한민국  2020  31637.0  1638.2     -0.9\n4      이스라엘  2019  43589.0   394.7      3.5\n..      ...   ...      ...     ...      ...\n81    오세아니아  2020      NaN     NaN      NaN\n82  오스트레일리아  2019  55057.0  1396.6      2.2\n83  오스트레일리아  2020  51812.0  1330.9     -0.3\n84     뉴질랜드  2019  41999.0   209.1      1.6\n85     뉴질랜드  2020  41792.0   212.5      1.0\n\n[86 rows x 5 columns]",
      "text/html": "<div>\n<style scoped>\n    .dataframe tbody tr th:only-of-type {\n        vertical-align: middle;\n    }\n\n    .dataframe tbody tr th {\n        vertical-align: top;\n    }\n\n    .dataframe thead th {\n        text-align: right;\n    }\n</style>\n<table border=\"1\" class=\"dataframe\">\n  <thead>\n    <tr style=\"text-align: right;\">\n      <th></th>\n      <th>국가</th>\n      <th>연도</th>\n      <th>1인당 GDP</th>\n      <th>GDP</th>\n      <th>GDP 성장률</th>\n    </tr>\n  </thead>\n  <tbody>\n    <tr>\n      <th>0</th>\n      <td>아시아</td>\n      <td>2019</td>\n      <td>NaN</td>\n      <td>NaN</td>\n      <td>NaN</td>\n    </tr>\n    <tr>\n      <th>1</th>\n      <td>아시아</td>\n      <td>2020</td>\n      <td>NaN</td>\n      <td>NaN</td>\n      <td>NaN</td>\n    </tr>\n    <tr>\n      <th>2</th>\n      <td>대한민국</td>\n      <td>2019</td>\n      <td>31929.0</td>\n      <td>1651.0</td>\n      <td>2.2</td>\n    </tr>\n    <tr>\n      <th>3</th>\n      <td>대한민국</td>\n      <td>2020</td>\n      <td>31637.0</td>\n      <td>1638.2</td>\n      <td>-0.9</td>\n    </tr>\n    <tr>\n      <th>4</th>\n      <td>이스라엘</td>\n      <td>2019</td>\n      <td>43589.0</td>\n      <td>394.7</td>\n      <td>3.5</td>\n    </tr>\n    <tr>\n      <th>...</th>\n      <td>...</td>\n      <td>...</td>\n      <td>...</td>\n      <td>...</td>\n      <td>...</td>\n    </tr>\n    <tr>\n      <th>81</th>\n      <td>오세아니아</td>\n      <td>2020</td>\n      <td>NaN</td>\n      <td>NaN</td>\n      <td>NaN</td>\n    </tr>\n    <tr>\n      <th>82</th>\n      <td>오스트레일리아</td>\n      <td>2019</td>\n      <td>55057.0</td>\n      <td>1396.6</td>\n      <td>2.2</td>\n    </tr>\n    <tr>\n      <th>83</th>\n      <td>오스트레일리아</td>\n      <td>2020</td>\n      <td>51812.0</td>\n      <td>1330.9</td>\n      <td>-0.3</td>\n    </tr>\n    <tr>\n      <th>84</th>\n      <td>뉴질랜드</td>\n      <td>2019</td>\n      <td>41999.0</td>\n      <td>209.1</td>\n      <td>1.6</td>\n    </tr>\n    <tr>\n      <th>85</th>\n      <td>뉴질랜드</td>\n      <td>2020</td>\n      <td>41792.0</td>\n      <td>212.5</td>\n      <td>1.0</td>\n    </tr>\n  </tbody>\n</table>\n<p>86 rows × 5 columns</p>\n</div>"
     },
     "execution_count": 27,
     "metadata": {},
     "output_type": "execute_result"
    }
   ],
   "source": [
    "df_ex2 = (df_ex1\n",
    "          .stack(0, dropna=False)\n",
    "          .filter(like='GDP')\n",
    "          .reset_index()\n",
    "          .rename(columns={'level_1':'연도'})\n",
    "          )\n",
    "df_ex2"
   ],
   "metadata": {
    "collapsed": false,
    "pycharm": {
     "name": "#%%\n"
    }
   }
  },
  {
   "cell_type": "code",
   "execution_count": 28,
   "outputs": [
    {
     "data": {
      "text/plain": "       국가    연도  1인당 GDP  GDP  GDP 성장률\n0     아시아  2019      NaN  NaN      NaN\n1     아시아  2020      NaN  NaN      NaN\n10  북아메리카  2019      NaN  NaN      NaN\n11  북아메리카  2020      NaN  NaN      NaN\n18  남아메리카  2019      NaN  NaN      NaN\n19  남아메리카  2020      NaN  NaN      NaN\n26     유럽  2019      NaN  NaN      NaN\n27     유럽  2020      NaN  NaN      NaN\n80  오세아니아  2019      NaN  NaN      NaN\n81  오세아니아  2020      NaN  NaN      NaN",
      "text/html": "<div>\n<style scoped>\n    .dataframe tbody tr th:only-of-type {\n        vertical-align: middle;\n    }\n\n    .dataframe tbody tr th {\n        vertical-align: top;\n    }\n\n    .dataframe thead th {\n        text-align: right;\n    }\n</style>\n<table border=\"1\" class=\"dataframe\">\n  <thead>\n    <tr style=\"text-align: right;\">\n      <th></th>\n      <th>국가</th>\n      <th>연도</th>\n      <th>1인당 GDP</th>\n      <th>GDP</th>\n      <th>GDP 성장률</th>\n    </tr>\n  </thead>\n  <tbody>\n    <tr>\n      <th>0</th>\n      <td>아시아</td>\n      <td>2019</td>\n      <td>NaN</td>\n      <td>NaN</td>\n      <td>NaN</td>\n    </tr>\n    <tr>\n      <th>1</th>\n      <td>아시아</td>\n      <td>2020</td>\n      <td>NaN</td>\n      <td>NaN</td>\n      <td>NaN</td>\n    </tr>\n    <tr>\n      <th>10</th>\n      <td>북아메리카</td>\n      <td>2019</td>\n      <td>NaN</td>\n      <td>NaN</td>\n      <td>NaN</td>\n    </tr>\n    <tr>\n      <th>11</th>\n      <td>북아메리카</td>\n      <td>2020</td>\n      <td>NaN</td>\n      <td>NaN</td>\n      <td>NaN</td>\n    </tr>\n    <tr>\n      <th>18</th>\n      <td>남아메리카</td>\n      <td>2019</td>\n      <td>NaN</td>\n      <td>NaN</td>\n      <td>NaN</td>\n    </tr>\n    <tr>\n      <th>19</th>\n      <td>남아메리카</td>\n      <td>2020</td>\n      <td>NaN</td>\n      <td>NaN</td>\n      <td>NaN</td>\n    </tr>\n    <tr>\n      <th>26</th>\n      <td>유럽</td>\n      <td>2019</td>\n      <td>NaN</td>\n      <td>NaN</td>\n      <td>NaN</td>\n    </tr>\n    <tr>\n      <th>27</th>\n      <td>유럽</td>\n      <td>2020</td>\n      <td>NaN</td>\n      <td>NaN</td>\n      <td>NaN</td>\n    </tr>\n    <tr>\n      <th>80</th>\n      <td>오세아니아</td>\n      <td>2019</td>\n      <td>NaN</td>\n      <td>NaN</td>\n      <td>NaN</td>\n    </tr>\n    <tr>\n      <th>81</th>\n      <td>오세아니아</td>\n      <td>2020</td>\n      <td>NaN</td>\n      <td>NaN</td>\n      <td>NaN</td>\n    </tr>\n  </tbody>\n</table>\n</div>"
     },
     "execution_count": 28,
     "metadata": {},
     "output_type": "execute_result"
    }
   ],
   "source": [
    "cond1 = df_ex2['GDP'].isnull()\n",
    "df_ex2[cond1]"
   ],
   "metadata": {
    "collapsed": false,
    "pycharm": {
     "name": "#%%\n"
    }
   }
  },
  {
   "cell_type": "code",
   "execution_count": 32,
   "outputs": [
    {
     "data": {
      "text/plain": "         국가    연도  1인당 GDP     GDP  GDP 성장률     구분\n0       아시아  2019      NaN     NaN      NaN    아시아\n1       아시아  2020      NaN     NaN      NaN    아시아\n2      대한민국  2019  31929.0  1651.0      2.2    아시아\n3      대한민국  2020  31637.0  1638.2     -0.9    아시아\n4      이스라엘  2019  43589.0   394.7      3.5    아시아\n..      ...   ...      ...     ...      ...    ...\n81    오세아니아  2020      NaN     NaN      NaN  오세아니아\n82  오스트레일리아  2019  55057.0  1396.6      2.2  오세아니아\n83  오스트레일리아  2020  51812.0  1330.9     -0.3  오세아니아\n84     뉴질랜드  2019  41999.0   209.1      1.6  오세아니아\n85     뉴질랜드  2020  41792.0   212.5      1.0  오세아니아\n\n[86 rows x 6 columns]",
      "text/html": "<div>\n<style scoped>\n    .dataframe tbody tr th:only-of-type {\n        vertical-align: middle;\n    }\n\n    .dataframe tbody tr th {\n        vertical-align: top;\n    }\n\n    .dataframe thead th {\n        text-align: right;\n    }\n</style>\n<table border=\"1\" class=\"dataframe\">\n  <thead>\n    <tr style=\"text-align: right;\">\n      <th></th>\n      <th>국가</th>\n      <th>연도</th>\n      <th>1인당 GDP</th>\n      <th>GDP</th>\n      <th>GDP 성장률</th>\n      <th>구분</th>\n    </tr>\n  </thead>\n  <tbody>\n    <tr>\n      <th>0</th>\n      <td>아시아</td>\n      <td>2019</td>\n      <td>NaN</td>\n      <td>NaN</td>\n      <td>NaN</td>\n      <td>아시아</td>\n    </tr>\n    <tr>\n      <th>1</th>\n      <td>아시아</td>\n      <td>2020</td>\n      <td>NaN</td>\n      <td>NaN</td>\n      <td>NaN</td>\n      <td>아시아</td>\n    </tr>\n    <tr>\n      <th>2</th>\n      <td>대한민국</td>\n      <td>2019</td>\n      <td>31929.0</td>\n      <td>1651.0</td>\n      <td>2.2</td>\n      <td>아시아</td>\n    </tr>\n    <tr>\n      <th>3</th>\n      <td>대한민국</td>\n      <td>2020</td>\n      <td>31637.0</td>\n      <td>1638.2</td>\n      <td>-0.9</td>\n      <td>아시아</td>\n    </tr>\n    <tr>\n      <th>4</th>\n      <td>이스라엘</td>\n      <td>2019</td>\n      <td>43589.0</td>\n      <td>394.7</td>\n      <td>3.5</td>\n      <td>아시아</td>\n    </tr>\n    <tr>\n      <th>...</th>\n      <td>...</td>\n      <td>...</td>\n      <td>...</td>\n      <td>...</td>\n      <td>...</td>\n      <td>...</td>\n    </tr>\n    <tr>\n      <th>81</th>\n      <td>오세아니아</td>\n      <td>2020</td>\n      <td>NaN</td>\n      <td>NaN</td>\n      <td>NaN</td>\n      <td>오세아니아</td>\n    </tr>\n    <tr>\n      <th>82</th>\n      <td>오스트레일리아</td>\n      <td>2019</td>\n      <td>55057.0</td>\n      <td>1396.6</td>\n      <td>2.2</td>\n      <td>오세아니아</td>\n    </tr>\n    <tr>\n      <th>83</th>\n      <td>오스트레일리아</td>\n      <td>2020</td>\n      <td>51812.0</td>\n      <td>1330.9</td>\n      <td>-0.3</td>\n      <td>오세아니아</td>\n    </tr>\n    <tr>\n      <th>84</th>\n      <td>뉴질랜드</td>\n      <td>2019</td>\n      <td>41999.0</td>\n      <td>209.1</td>\n      <td>1.6</td>\n      <td>오세아니아</td>\n    </tr>\n    <tr>\n      <th>85</th>\n      <td>뉴질랜드</td>\n      <td>2020</td>\n      <td>41792.0</td>\n      <td>212.5</td>\n      <td>1.0</td>\n      <td>오세아니아</td>\n    </tr>\n  </tbody>\n</table>\n<p>86 rows × 6 columns</p>\n</div>"
     },
     "execution_count": 32,
     "metadata": {},
     "output_type": "execute_result"
    }
   ],
   "source": [
    "df_ex2['구분'] = df_ex2['국가'].mask(~cond1).fillna(method='ffill')\n",
    "df_ex2"
   ],
   "metadata": {
    "collapsed": false,
    "pycharm": {
     "name": "#%%\n"
    }
   }
  },
  {
   "cell_type": "code",
   "execution_count": 34,
   "outputs": [
    {
     "data": {
      "text/plain": "         국가    연도  1인당 GDP     GDP  GDP 성장률     구분\n2      대한민국  2019  31929.0  1651.0      2.2    아시아\n3      대한민국  2020  31637.0  1638.2     -0.9    아시아\n4      이스라엘  2019  43589.0   394.7      3.5    아시아\n5      이스라엘  2020  43611.0   402.0     -2.4    아시아\n6        일본  2019  40113.0  5064.9      0.3    아시아\n..      ...   ...      ...     ...      ...    ...\n79       영국  2020  40285.0  2707.7     -9.8     유럽\n82  오스트레일리아  2019  55057.0  1396.6      2.2  오세아니아\n83  오스트레일리아  2020  51812.0  1330.9     -0.3  오세아니아\n84     뉴질랜드  2019  41999.0   209.1      1.6  오세아니아\n85     뉴질랜드  2020  41792.0   212.5      1.0  오세아니아\n\n[76 rows x 6 columns]",
      "text/html": "<div>\n<style scoped>\n    .dataframe tbody tr th:only-of-type {\n        vertical-align: middle;\n    }\n\n    .dataframe tbody tr th {\n        vertical-align: top;\n    }\n\n    .dataframe thead th {\n        text-align: right;\n    }\n</style>\n<table border=\"1\" class=\"dataframe\">\n  <thead>\n    <tr style=\"text-align: right;\">\n      <th></th>\n      <th>국가</th>\n      <th>연도</th>\n      <th>1인당 GDP</th>\n      <th>GDP</th>\n      <th>GDP 성장률</th>\n      <th>구분</th>\n    </tr>\n  </thead>\n  <tbody>\n    <tr>\n      <th>2</th>\n      <td>대한민국</td>\n      <td>2019</td>\n      <td>31929.0</td>\n      <td>1651.0</td>\n      <td>2.2</td>\n      <td>아시아</td>\n    </tr>\n    <tr>\n      <th>3</th>\n      <td>대한민국</td>\n      <td>2020</td>\n      <td>31637.0</td>\n      <td>1638.2</td>\n      <td>-0.9</td>\n      <td>아시아</td>\n    </tr>\n    <tr>\n      <th>4</th>\n      <td>이스라엘</td>\n      <td>2019</td>\n      <td>43589.0</td>\n      <td>394.7</td>\n      <td>3.5</td>\n      <td>아시아</td>\n    </tr>\n    <tr>\n      <th>5</th>\n      <td>이스라엘</td>\n      <td>2020</td>\n      <td>43611.0</td>\n      <td>402.0</td>\n      <td>-2.4</td>\n      <td>아시아</td>\n    </tr>\n    <tr>\n      <th>6</th>\n      <td>일본</td>\n      <td>2019</td>\n      <td>40113.0</td>\n      <td>5064.9</td>\n      <td>0.3</td>\n      <td>아시아</td>\n    </tr>\n    <tr>\n      <th>...</th>\n      <td>...</td>\n      <td>...</td>\n      <td>...</td>\n      <td>...</td>\n      <td>...</td>\n      <td>...</td>\n    </tr>\n    <tr>\n      <th>79</th>\n      <td>영국</td>\n      <td>2020</td>\n      <td>40285.0</td>\n      <td>2707.7</td>\n      <td>-9.8</td>\n      <td>유럽</td>\n    </tr>\n    <tr>\n      <th>82</th>\n      <td>오스트레일리아</td>\n      <td>2019</td>\n      <td>55057.0</td>\n      <td>1396.6</td>\n      <td>2.2</td>\n      <td>오세아니아</td>\n    </tr>\n    <tr>\n      <th>83</th>\n      <td>오스트레일리아</td>\n      <td>2020</td>\n      <td>51812.0</td>\n      <td>1330.9</td>\n      <td>-0.3</td>\n      <td>오세아니아</td>\n    </tr>\n    <tr>\n      <th>84</th>\n      <td>뉴질랜드</td>\n      <td>2019</td>\n      <td>41999.0</td>\n      <td>209.1</td>\n      <td>1.6</td>\n      <td>오세아니아</td>\n    </tr>\n    <tr>\n      <th>85</th>\n      <td>뉴질랜드</td>\n      <td>2020</td>\n      <td>41792.0</td>\n      <td>212.5</td>\n      <td>1.0</td>\n      <td>오세아니아</td>\n    </tr>\n  </tbody>\n</table>\n<p>76 rows × 6 columns</p>\n</div>"
     },
     "execution_count": 34,
     "metadata": {},
     "output_type": "execute_result"
    }
   ],
   "source": [
    "df_ex2[~cond1]"
   ],
   "metadata": {
    "collapsed": false,
    "pycharm": {
     "name": "#%%\n"
    }
   }
  },
  {
   "cell_type": "code",
   "execution_count": 36,
   "outputs": [
    {
     "data": {
      "text/plain": "         국가    연도  1인당 GDP     GDP  GDP 성장률     구분\n0      대한민국  2019  31929.0  1651.0      2.2    아시아\n1      대한민국  2020  31637.0  1638.2     -0.9    아시아\n2      이스라엘  2019  43589.0   394.7      3.5    아시아\n3      이스라엘  2020  43611.0   402.0     -2.4    아시아\n4        일본  2019  40113.0  5064.9      0.3    아시아\n..      ...   ...      ...     ...      ...    ...\n71       영국  2020  40285.0  2707.7     -9.8     유럽\n72  오스트레일리아  2019  55057.0  1396.6      2.2  오세아니아\n73  오스트레일리아  2020  51812.0  1330.9     -0.3  오세아니아\n74     뉴질랜드  2019  41999.0   209.1      1.6  오세아니아\n75     뉴질랜드  2020  41792.0   212.5      1.0  오세아니아\n\n[76 rows x 6 columns]",
      "text/html": "<div>\n<style scoped>\n    .dataframe tbody tr th:only-of-type {\n        vertical-align: middle;\n    }\n\n    .dataframe tbody tr th {\n        vertical-align: top;\n    }\n\n    .dataframe thead th {\n        text-align: right;\n    }\n</style>\n<table border=\"1\" class=\"dataframe\">\n  <thead>\n    <tr style=\"text-align: right;\">\n      <th></th>\n      <th>국가</th>\n      <th>연도</th>\n      <th>1인당 GDP</th>\n      <th>GDP</th>\n      <th>GDP 성장률</th>\n      <th>구분</th>\n    </tr>\n  </thead>\n  <tbody>\n    <tr>\n      <th>0</th>\n      <td>대한민국</td>\n      <td>2019</td>\n      <td>31929.0</td>\n      <td>1651.0</td>\n      <td>2.2</td>\n      <td>아시아</td>\n    </tr>\n    <tr>\n      <th>1</th>\n      <td>대한민국</td>\n      <td>2020</td>\n      <td>31637.0</td>\n      <td>1638.2</td>\n      <td>-0.9</td>\n      <td>아시아</td>\n    </tr>\n    <tr>\n      <th>2</th>\n      <td>이스라엘</td>\n      <td>2019</td>\n      <td>43589.0</td>\n      <td>394.7</td>\n      <td>3.5</td>\n      <td>아시아</td>\n    </tr>\n    <tr>\n      <th>3</th>\n      <td>이스라엘</td>\n      <td>2020</td>\n      <td>43611.0</td>\n      <td>402.0</td>\n      <td>-2.4</td>\n      <td>아시아</td>\n    </tr>\n    <tr>\n      <th>4</th>\n      <td>일본</td>\n      <td>2019</td>\n      <td>40113.0</td>\n      <td>5064.9</td>\n      <td>0.3</td>\n      <td>아시아</td>\n    </tr>\n    <tr>\n      <th>...</th>\n      <td>...</td>\n      <td>...</td>\n      <td>...</td>\n      <td>...</td>\n      <td>...</td>\n      <td>...</td>\n    </tr>\n    <tr>\n      <th>71</th>\n      <td>영국</td>\n      <td>2020</td>\n      <td>40285.0</td>\n      <td>2707.7</td>\n      <td>-9.8</td>\n      <td>유럽</td>\n    </tr>\n    <tr>\n      <th>72</th>\n      <td>오스트레일리아</td>\n      <td>2019</td>\n      <td>55057.0</td>\n      <td>1396.6</td>\n      <td>2.2</td>\n      <td>오세아니아</td>\n    </tr>\n    <tr>\n      <th>73</th>\n      <td>오스트레일리아</td>\n      <td>2020</td>\n      <td>51812.0</td>\n      <td>1330.9</td>\n      <td>-0.3</td>\n      <td>오세아니아</td>\n    </tr>\n    <tr>\n      <th>74</th>\n      <td>뉴질랜드</td>\n      <td>2019</td>\n      <td>41999.0</td>\n      <td>209.1</td>\n      <td>1.6</td>\n      <td>오세아니아</td>\n    </tr>\n    <tr>\n      <th>75</th>\n      <td>뉴질랜드</td>\n      <td>2020</td>\n      <td>41792.0</td>\n      <td>212.5</td>\n      <td>1.0</td>\n      <td>오세아니아</td>\n    </tr>\n  </tbody>\n</table>\n<p>76 rows × 6 columns</p>\n</div>"
     },
     "execution_count": 36,
     "metadata": {},
     "output_type": "execute_result"
    }
   ],
   "source": [
    "df_ex3 = df_ex2[~cond1].reset_index(drop=True)\n",
    "df_ex3"
   ],
   "metadata": {
    "collapsed": false,
    "pycharm": {
     "name": "#%%\n"
    }
   }
  },
  {
   "cell_type": "code",
   "execution_count": 37,
   "outputs": [
    {
     "data": {
      "text/plain": "연도     2019  2020\n구분               \n남아메리카   3.3  -4.5\n북아메리카   2.2  -3.5\n아시아     3.5   1.8\n오세아니아   2.2   1.0\n유럽      5.6   3.4",
      "text/html": "<div>\n<style scoped>\n    .dataframe tbody tr th:only-of-type {\n        vertical-align: middle;\n    }\n\n    .dataframe tbody tr th {\n        vertical-align: top;\n    }\n\n    .dataframe thead th {\n        text-align: right;\n    }\n</style>\n<table border=\"1\" class=\"dataframe\">\n  <thead>\n    <tr style=\"text-align: right;\">\n      <th>연도</th>\n      <th>2019</th>\n      <th>2020</th>\n    </tr>\n    <tr>\n      <th>구분</th>\n      <th></th>\n      <th></th>\n    </tr>\n  </thead>\n  <tbody>\n    <tr>\n      <th>남아메리카</th>\n      <td>3.3</td>\n      <td>-4.5</td>\n    </tr>\n    <tr>\n      <th>북아메리카</th>\n      <td>2.2</td>\n      <td>-3.5</td>\n    </tr>\n    <tr>\n      <th>아시아</th>\n      <td>3.5</td>\n      <td>1.8</td>\n    </tr>\n    <tr>\n      <th>오세아니아</th>\n      <td>2.2</td>\n      <td>1.0</td>\n    </tr>\n    <tr>\n      <th>유럽</th>\n      <td>5.6</td>\n      <td>3.4</td>\n    </tr>\n  </tbody>\n</table>\n</div>"
     },
     "execution_count": 37,
     "metadata": {},
     "output_type": "execute_result"
    }
   ],
   "source": [
    "df_ex3.pivot_table('GDP 성장률', index='구분', columns='연도', aggfunc='max')"
   ],
   "metadata": {
    "collapsed": false,
    "pycharm": {
     "name": "#%%\n"
    }
   }
  },
  {
   "cell_type": "code",
   "execution_count": 38,
   "outputs": [
    {
     "data": {
      "text/plain": "연도        2019   2020\n구분                   \n남아메리카     콜롬비아  코스타리카\n북아메리카       미국     미국\n아시아       이스라엘   튀르키예\n오세아니아  오스트레일리아   뉴질랜드\n유럽        아일랜드   아일랜드",
      "text/html": "<div>\n<style scoped>\n    .dataframe tbody tr th:only-of-type {\n        vertical-align: middle;\n    }\n\n    .dataframe tbody tr th {\n        vertical-align: top;\n    }\n\n    .dataframe thead th {\n        text-align: right;\n    }\n</style>\n<table border=\"1\" class=\"dataframe\">\n  <thead>\n    <tr style=\"text-align: right;\">\n      <th>연도</th>\n      <th>2019</th>\n      <th>2020</th>\n    </tr>\n    <tr>\n      <th>구분</th>\n      <th></th>\n      <th></th>\n    </tr>\n  </thead>\n  <tbody>\n    <tr>\n      <th>남아메리카</th>\n      <td>콜롬비아</td>\n      <td>코스타리카</td>\n    </tr>\n    <tr>\n      <th>북아메리카</th>\n      <td>미국</td>\n      <td>미국</td>\n    </tr>\n    <tr>\n      <th>아시아</th>\n      <td>이스라엘</td>\n      <td>튀르키예</td>\n    </tr>\n    <tr>\n      <th>오세아니아</th>\n      <td>오스트레일리아</td>\n      <td>뉴질랜드</td>\n    </tr>\n    <tr>\n      <th>유럽</th>\n      <td>아일랜드</td>\n      <td>아일랜드</td>\n    </tr>\n  </tbody>\n</table>\n</div>"
     },
     "execution_count": 38,
     "metadata": {},
     "output_type": "execute_result"
    }
   ],
   "source": [
    "df_ex3.pivot_table('GDP 성장률', index='구분', columns='연도',\n",
    "                   aggfunc=lambda x: df_ex3.loc[x.idxmax(), '국가'])"
   ],
   "metadata": {
    "collapsed": false,
    "pycharm": {
     "name": "#%%\n"
    }
   }
  }
 ],
 "metadata": {
  "kernelspec": {
   "display_name": "Python 3",
   "language": "python",
   "name": "python3"
  },
  "language_info": {
   "codemirror_mode": {
    "name": "ipython",
    "version": 2
   },
   "file_extension": ".py",
   "mimetype": "text/x-python",
   "name": "python",
   "nbconvert_exporter": "python",
   "pygments_lexer": "ipython2",
   "version": "2.7.6"
  }
 },
 "nbformat": 4,
 "nbformat_minor": 0
}