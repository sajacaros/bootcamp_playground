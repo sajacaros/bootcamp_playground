{
 "cells": [
  {
   "cell_type": "markdown",
   "metadata": {
    "id": "59KOgLxxQFss"
   },
   "source": [
    "# 주피터 노트북"
   ]
  },
  {
   "cell_type": "markdown",
   "metadata": {
    "id": "8GRhsICjQFsx"
   },
   "source": [
    "> - 데이터 분석가들이 가장 많이 사용하는 파이썬 편집 프로그램  \n",
    "> - 코드 작성부터 실행, 리포트 작성까지 활용가능  \n",
    "> - 기타 편집 프로그램으로 주피터 랩, 스파이더, 파이참, vscode등이 있음  \n",
    "> - 최근에는 클라우드 환경이 인기 Google Colaboratory"
   ]
  },
  {
   "cell_type": "markdown",
   "metadata": {
    "id": "mJMpaYYgQFsy"
   },
   "source": [
    "## 특징"
   ]
  },
  {
   "cell_type": "code",
   "execution_count": null,
   "metadata": {
    "ExecuteTime": {
     "end_time": "2023-06-02T09:16:24.844196Z",
     "start_time": "2023-06-02T09:16:24.838798Z"
    },
    "id": "K86539ZbQFsy"
   },
   "outputs": [],
   "source": [
    "# 셀 단위 실행\n",
    "# 결과값도 셀 단위 실행결과를 바로 확인 가능 (인터프리터 형태)\n",
    "# 기존 언어는 컴퓨터가 알아듣기 쉬운 언어 (어셈블리 형태)\n",
    "# 위에서 아래로\n",
    "# esc 키로 셀을 제어하는 커맨드 모드와 셀 내부 편집을 위한 에디트 모드 변경\n",
    "# 코드 편집과 마크다운 문법을 사용하여 리포트 형식으로도 활용가능"
   ]
  },
  {
   "cell_type": "markdown",
   "metadata": {
    "id": "ko18hcR3QFs0"
   },
   "source": [
    "## 커맨드 모드 명령어"
   ]
  },
  {
   "cell_type": "code",
   "execution_count": null,
   "metadata": {
    "ExecuteTime": {
     "end_time": "2023-07-24T12:47:41.832408Z",
     "start_time": "2023-07-24T12:47:41.824740Z"
    },
    "id": "rujlrcuoQFs0"
   },
   "outputs": [],
   "source": [
    "# 커맨드 모드 주로 사용하는 기능\n",
    "# 선택 셀 위에 셀 생성 - a\n",
    "# 선택 셀 아래에 셀 생성 - b\n",
    "# 선택 셀 삭제 - dd\n",
    "# 선택 셀 복사 - c\n",
    "# 선택 셀 잘라내기 - x\n",
    "# 선택 셀 붙여넣기 - v\n",
    "# 선택 셀 병합 - shift + m\n",
    "# 에디트 편집 - y\n",
    "# 마크다운 편집 - m"
   ]
  },
  {
   "cell_type": "markdown",
   "metadata": {
    "id": "8c9e5S9ZQFs0"
   },
   "source": [
    "## 에디트 모드 명령어"
   ]
  },
  {
   "cell_type": "code",
   "execution_count": null,
   "metadata": {
    "ExecuteTime": {
     "end_time": "2021-05-24T04:19:30.058162Z",
     "start_time": "2021-05-24T04:19:30.055619Z"
    },
    "id": "eblX7RXyQFs1"
   },
   "outputs": [],
   "source": [
    "# 에디트 모드 진입 - enter 혹은 마우스 클릭\n",
    "# 셀 실행 - shift + enter, ctl + enter\n",
    "# # 주석 : 다른코드와 구별하기 위해서, 코드의 설명, 코드의 실행과는 전혀 관계없음\n",
    "# '''\n",
    "#   ''' : docstring 여러줄의 주석"
   ]
  },
  {
   "cell_type": "markdown",
   "metadata": {
    "id": "UH7F2MNnQFs2"
   },
   "source": [
    "# 코딩, 프로그래밍"
   ]
  },
  {
   "cell_type": "markdown",
   "metadata": {
    "id": "-ShZDuSeQFs2"
   },
   "source": [
    "> - **코드**란? -> 컴퓨터가 알아들을 수 있는 명령들의 집합  \n",
    ">> - **코딩**을 한다, 코드를 짠다 -> 곧 컴퓨터가 알아들을 수 있는 명령어를 작성하는 행위  \n",
    ">> **프로그램**이란? ->컴퓨터에게 작업을 지시하는 코드의 집합  \n",
    "\n",
    "> **프로그램으로 만들 수 있는 작업은?**  "
   ]
  },
  {
   "cell_type": "markdown",
   "metadata": {
    "id": "IZxIqEUzQFs2"
   },
   "source": [
    ">python은 무엇을 위한 언어인가?  \n",
    ">> - 초기 python은 과학, 수학 연구용. 이후 web 페이지 제작으로 각광받음.  \n",
    ">> - 현재는 데이터분석 및 어플리케이션 제작으로도 사용  \n",
    ">> - 다양한 목적으로 사용가능함.  \n",
    "\n",
    "> 고급 프로그래밍 언어 (실제 사람이 사용하는 언어와 비슷한 형태를 지님)\n",
    "> - 영문법과 굉장히 비슷한 문법진행을 한다.\n",
    "> - 배우기 쉽다."
   ]
  },
  {
   "cell_type": "markdown",
   "metadata": {
    "id": "IVcpk2CwQFs2"
   },
   "source": [
    "# 변수(variable)와 저장(define)"
   ]
  },
  {
   "cell_type": "markdown",
   "metadata": {
    "id": "5JvIC2MxQFs3"
   },
   "source": [
    "컴퓨터에 데이터를 저장하기 위해서 우리는 변수를 사용합니다. 변수는 말 그대로 변할 수 있는 대상  \n",
    "저장한 데이터를 다시 사용하기 위해서도 변수를 사용  "
   ]
  },
  {
   "cell_type": "markdown",
   "metadata": {
    "id": "Z6Mk89VHQFs3"
   },
   "source": [
    "## 변수의 용도\n",
    "\n",
    "> - 저장  \n",
    "> - 연산의 피 연산자  \n",
    "> - 함수의 매개변수  "
   ]
  },
  {
   "cell_type": "code",
   "execution_count": null,
   "metadata": {
    "ExecuteTime": {
     "end_time": "2021-05-24T04:34:24.805193Z",
     "start_time": "2021-05-24T04:34:24.802625Z"
    },
    "id": "mQs-khrBQFs3"
   },
   "outputs": [],
   "source": [
    "# 변수 선언하고 값 저장하기\n"
   ]
  },
  {
   "cell_type": "code",
   "execution_count": null,
   "metadata": {
    "ExecuteTime": {
     "end_time": "2021-05-24T04:35:02.889777Z",
     "start_time": "2021-05-24T04:35:02.880914Z"
    },
    "id": "_ab3-6zVQFs3"
   },
   "outputs": [],
   "source": [
    "# 변수 호출\n"
   ]
  },
  {
   "cell_type": "markdown",
   "metadata": {
    "id": "_VNCJCI-QFs3"
   },
   "source": [
    "## 변수의 종류(dtype) : 변수에 저장할 수 있는 값의 데이터타입\n",
    "\n",
    "> - 정수 **`int`**  \n",
    "> - 실수 **`float`**  \n",
    "> - 문자열 **`str`**  \n",
    "> - 불리언 **`bool`**\n",
    "> - 객체 **`class`**, `model`"
   ]
  },
  {
   "cell_type": "code",
   "execution_count": null,
   "metadata": {
    "ExecuteTime": {
     "end_time": "2021-05-24T04:39:05.092331Z",
     "start_time": "2021-05-24T04:39:05.088960Z"
    },
    "id": "FDxh8FasQFs3"
   },
   "outputs": [],
   "source": [
    "# 변수를 만들어보겠습니다.\n",
    "\n",
    "# name라는 이름을 가진 변수(저장공간)을 만들고 본인의 이름을 저장한다.\n",
    "# 문자열의 저장은 ' ', \" \"로 감싼 텍스트로 가능하다.\n",
    "\n",
    "# weight라는 이름을 가진 변수(저장공간)을 만들고 실수(소수점을 포함한)를 저장한다.\n",
    "\n",
    "# hight라는 이름을 가진 변수(저장공간)을 만들고 정수를 저장한다.\n",
    "\n",
    "# job라는 이름을 가진 변수(저장공간)을 만들고 문자를 저장한다\n"
   ]
  },
  {
   "cell_type": "code",
   "execution_count": null,
   "metadata": {
    "ExecuteTime": {
     "end_time": "2021-05-24T04:39:50.866545Z",
     "start_time": "2021-05-24T04:39:50.863050Z"
    },
    "id": "wx0rE6zCQFs3"
   },
   "outputs": [],
   "source": [
    "# 변수의 호출, 사용\n"
   ]
  },
  {
   "cell_type": "code",
   "execution_count": null,
   "metadata": {
    "ExecuteTime": {
     "end_time": "2021-05-24T04:40:06.490281Z",
     "start_time": "2021-05-24T04:40:06.486395Z"
    },
    "id": "DzfW-C7QQFs4"
   },
   "outputs": [],
   "source": [
    "# 변수를 여러개 호출도 가능하다.\n"
   ]
  },
  {
   "cell_type": "markdown",
   "metadata": {
    "id": "RF8b5PYfQFs4"
   },
   "source": [
    "## 변수 이름짓기"
   ]
  },
  {
   "cell_type": "markdown",
   "metadata": {
    "id": "xa7EkQbAQFs4"
   },
   "source": [
    "변수는 데이터를 식별 할 수 있는 단어가 좋음. 네이밍에 꽤 오랜시간을 소요함.\n",
    "\n",
    ">변수 사용 문법규칙\n",
    "> - 대소문자 구분 A, a\n",
    "> - 한글사용 가능 (추천하지 않음)\n",
    "> - 띄어쓰기 금지\n",
    "> - 특수문자 _만 가능\n",
    "> - 숫자 가능, 숫자로 시작 X\n",
    "> - 예약어 금지(문법용어나 특수한 단어를 변수명으로 사용금지)\n",
    "\n",
    "> 관례적규칙\n",
    "> - 동사, 명사 - 형용사금지  \n",
    "\n",
    "> - 표기법 (범위 - 한 파일 혹은 한 프로그램)  \n",
    ">> - 낙타 myNameIs\n",
    ">> - 파스칼 MyNameIs\n",
    ">> - 스네이크 my_name_is\n",
    ">> - 헝가리안 strMynameIs  \n",
    "\n",
    "> 파이썬 권장 스타일 (PE)\n",
    "https://www.python.org/dev/peps/pep-0008/  \n",
    "\n",
    ">> - 변수 my_name  \n",
    ">> - 함수 my_name  \n",
    ">> - 클래스 MyName  \n",
    ">> - 파일명 my_name"
   ]
  },
  {
   "cell_type": "code",
   "execution_count": null,
   "metadata": {
    "id": "SvN4EyT8QFs4"
   },
   "outputs": [],
   "source": [
    "# python 예약어\n",
    "# 예약어는 변수명 혹은 명령어이름으로 쓸 수 없습니다.\n",
    "# 기억할 필요는 없지만 눈으로만 확인 해 봅시다.\n",
    "# 주피터 노트북으로 코딩 시 초록색 반전이 일어남\n",
    "# 파이썬에서 특정 작동을 위해 미리 선점해둔 키워드\n",
    "\n",
    "int float str bool\n",
    "sum min max sorted\n",
    "list dict tuple set\n",
    "and exec not\n",
    "assert finally or\n",
    "break for pass\n",
    "class from print\n",
    "continue global raise\n",
    "def if return\n",
    "del import try\n",
    "elif in while\n",
    "else is with\n",
    "except lambda yield"
   ]
  },
  {
   "cell_type": "markdown",
   "metadata": {
    "id": "nE9wXQ9bQFs4"
   },
   "source": [
    "## 변수(값)의 형변환(Type Casting)\n",
    "> **`int()`**, **`float()`**, **`str()`** 명령어를 사용  \n",
    ">>변환해야 할 데이터를 `명령어()` 소괄호 안에 넣어줌  \n",
    ">> ex) `int('5')`, `float('3.14')`, `str(10)`"
   ]
  },
  {
   "cell_type": "code",
   "execution_count": null,
   "metadata": {
    "ExecuteTime": {
     "end_time": "2021-05-24T05:11:30.435191Z",
     "start_time": "2021-05-24T05:11:30.430780Z"
    },
    "id": "F4iBmzC4QFs5"
   },
   "outputs": [],
   "source": [
    "# 형변환 테스트\n",
    "# 문자열로 전달받은 값을 정수형태로 변환합니다.\n",
    "# 기존 문자열로 저장한 input_val 변수를 정수로 형변환 해서 input_val 에 다시 저장\n"
   ]
  },
  {
   "cell_type": "code",
   "execution_count": null,
   "metadata": {
    "ExecuteTime": {
     "end_time": "2021-05-24T05:12:53.566100Z",
     "start_time": "2021-05-24T05:12:53.561947Z"
    },
    "id": "tqRs5uOnQFs5"
   },
   "outputs": [],
   "source": [
    "# 실수로 변환합니다.\n",
    "# 실제 숫자라면 문자열 -> 정수 및 실수변환은 문제없이 잘 이루어집니다.\n",
    "# 기존 정수 저장한 input_val 변수를 실수로 형변환 해서 float_input_val 에 다시 저장\n"
   ]
  },
  {
   "cell_type": "code",
   "execution_count": null,
   "metadata": {
    "ExecuteTime": {
     "end_time": "2021-05-24T05:14:10.800964Z",
     "start_time": "2021-05-24T05:14:10.793824Z"
    },
    "id": "LgG1u1dAQFs5"
   },
   "outputs": [],
   "source": [
    "# 문자열 -> 정수 및 실수 변환은 가능할까요?\n",
    "# 문자열 > 실수 > 정수\n"
   ]
  },
  {
   "cell_type": "markdown",
   "metadata": {
    "id": "MsyXE5wdQFs5"
   },
   "source": [
    "# 사용자 입력 추가\n",
    "> **`input`** **`('입력받을 데이터의 설명 : ')`** 설명문구가 문자형식으로 들어가야합니다.  \n",
    "입력받은 결과를 변수에 함께 저장합니다.  \n",
    "입력받은 결과 또한 문자형식으로 저장됩니다.  \n",
    "숫자형태로 인식하기 위해서는 데이터 타입 변환이 필요합니다.  "
   ]
  },
  {
   "cell_type": "code",
   "execution_count": null,
   "metadata": {
    "ExecuteTime": {
     "end_time": "2021-05-24T05:07:23.220476Z",
     "start_time": "2021-05-24T05:07:21.254181Z"
    },
    "id": "XZmVjgSNQFs5"
   },
   "outputs": [],
   "source": [
    "# 사용자의 입력값을 변수에 저장\n",
    "# input_val 변수이름에 input명령어를 사용하여 '숫자를 입력하세요' 출력을 하며 입력값을 저장\n"
   ]
  },
  {
   "cell_type": "code",
   "execution_count": null,
   "metadata": {
    "ExecuteTime": {
     "end_time": "2021-05-24T05:06:50.986368Z",
     "start_time": "2021-05-24T05:05:43.030352Z"
    },
    "id": "SaIFvx4pQFs5"
   },
   "outputs": [],
   "source": [
    "# 사용자로 부터 이름, 부서, 이메일을 입력받아 변수로 저장하는 코드를 작성해 보세요\n"
   ]
  },
  {
   "cell_type": "markdown",
   "metadata": {
    "id": "gvbd3dcjQFs5"
   },
   "source": [
    "입력값을 전달 받음과 동시에 데이터 형변환을 통해 우리가 사용하고자 하는 형태의 데이터타입으로 변환이 필요합니다."
   ]
  },
  {
   "cell_type": "code",
   "execution_count": null,
   "metadata": {
    "ExecuteTime": {
     "end_time": "2021-05-24T05:17:43.764525Z",
     "start_time": "2021-05-24T05:17:41.995721Z"
    },
    "id": "zhsN-hbtQFs5"
   },
   "outputs": [],
   "source": [
    "# 입력값을 받아 정수로 변환하는 코드\n"
   ]
  },
  {
   "cell_type": "markdown",
   "metadata": {
    "id": "HkoqwYn5QFs5"
   },
   "source": [
    "# 출력(print)\n",
    "> - **`print()`** 명령어는 출력을 위한 파이썬 기본 명령어  \n",
    "> - **`print`**(출력할 내용을 소괄호 안에 넣어서 실행시킴)\n",
    "> - 소괄호 안에는 숫자, 따옴표로 감싼 문자, 변수 가능  \n",
    "> - 따옴표는 `''`(작은따옴표), `\"\"`(큰 따옴표) 모두 가능 `' \" \" '`형태로 텍스트 안의 텍스트를 다른 따옴표로 감쌀 수 있음  "
   ]
  },
  {
   "cell_type": "code",
   "execution_count": null,
   "metadata": {
    "ExecuteTime": {
     "end_time": "2021-05-24T05:26:33.971723Z",
     "start_time": "2021-05-24T05:26:33.968203Z"
    },
    "id": "5vEG_dlnQFs6"
   },
   "outputs": [],
   "source": [
    "# 숫자 변수 출력 테스트 print() 명령어는 전달받은 변수를 출력합니다.\n"
   ]
  },
  {
   "cell_type": "code",
   "execution_count": null,
   "metadata": {
    "ExecuteTime": {
     "end_time": "2021-04-05T02:50:44.508344Z",
     "start_time": "2021-04-05T02:50:44.503225Z"
    },
    "id": "QyAd3qIwQFs6"
   },
   "outputs": [],
   "source": [
    "# 문자 변수 출력 테스트\n",
    "\n",
    "# print 명령어를 사용하지 않으면 데이터타입에 따라 값을 출력\n"
   ]
  },
  {
   "cell_type": "markdown",
   "metadata": {
    "id": "Pp7Ai6E5QFs6"
   },
   "source": [
    "변수형태로 저장되어 있는 값만 출력하지는 않습니다. 출력값을 `print()` 함수에 직접 전달도 가능합니다."
   ]
  },
  {
   "cell_type": "code",
   "execution_count": null,
   "metadata": {
    "ExecuteTime": {
     "end_time": "2021-05-24T05:27:08.100326Z",
     "start_time": "2021-05-24T05:27:08.096074Z"
    },
    "id": "msRnbb0iQFs6"
   },
   "outputs": [],
   "source": [
    "# Hello world!\n"
   ]
  },
  {
   "cell_type": "markdown",
   "metadata": {
    "id": "D3z97KYfQFs6"
   },
   "source": [
    "### 출력 연습문제"
   ]
  },
  {
   "cell_type": "code",
   "execution_count": null,
   "metadata": {
    "ExecuteTime": {
     "end_time": "2021-05-24T05:28:50.345307Z",
     "start_time": "2021-05-24T05:28:50.341358Z"
    },
    "id": "HLHJftInQFs6"
   },
   "outputs": [],
   "source": [
    "# print()함수를 사용하여 아래 문장을 출력해 봅시다.\n"
   ]
  },
  {
   "cell_type": "code",
   "execution_count": null,
   "metadata": {
    "ExecuteTime": {
     "end_time": "2021-03-20T09:33:27.678125Z",
     "start_time": "2021-03-20T09:33:27.675145Z"
    },
    "id": "DE-vB0b5QFtA",
    "outputId": "02b6a9aa-6318-48c3-d2b2-85c89c54babb"
   },
   "outputs": [
    {
     "name": "stdout",
     "output_type": "stream",
     "text": [
      "어머니는 '짜장면이 싫다'고 하셨지\n"
     ]
    }
   ],
   "source": [
    "# 위의 코드 실행 결과가 아래와 같아야 합니다."
   ]
  },
  {
   "cell_type": "code",
   "execution_count": null,
   "metadata": {
    "ExecuteTime": {
     "end_time": "2021-05-24T05:32:49.160912Z",
     "start_time": "2021-05-24T05:32:49.155431Z"
    },
    "id": "vFOjDQ9GQFtB"
   },
   "outputs": [],
   "source": [
    "# print() 함수를 줄바꿈해서 사용하면 연속해서 값을 출력할 수 있습니다.\n",
    "# 이를 활용하여 아래 영수증을 출력해 봅시다.\n"
   ]
  },
  {
   "cell_type": "code",
   "execution_count": null,
   "metadata": {
    "id": "jCEoXPjLQFtC",
    "outputId": "73759f3c-02ab-4936-b42a-5e6495c3c725"
   },
   "outputs": [
    {
     "name": "stdout",
     "output_type": "stream",
     "text": [
      "          영수증          \n",
      "------------------------\n",
      "아이스아메리카노     4,500원\n",
      "카페라떼           4,500원\n",
      "치즈케잌           6,000원\n",
      "-----------------------\n",
      "total           15,000원\n",
      "\n",
      "이용해 주셔서 감사합니다.\n",
      "------------------------\n"
     ]
    }
   ],
   "source": [
    "# 위의 코드 실행 결과가 아래와 같아야 합니다."
   ]
  },
  {
   "cell_type": "markdown",
   "metadata": {
    "id": "DK3RUbQJQFtC"
   },
   "source": [
    "## 변수값을 포함한 문자열 출력의 여러가지 방법"
   ]
  },
  {
   "cell_type": "code",
   "execution_count": null,
   "metadata": {
    "ExecuteTime": {
     "end_time": "2022-03-08T04:12:28.014312Z",
     "start_time": "2022-03-08T04:12:28.009114Z"
    },
    "id": "6tMoljeyQFtC"
   },
   "outputs": [],
   "source": [
    "# 기존 방법\n",
    "# print명령어에 전달하는 문자열을 + 기호로 묶어 전달, 오직 문자열만 + 로 연결가능\n",
    "\n",
    "# 그렇다면 변수가 포함 된 문장은 어떻게 출력을 해야할까?\n",
    "# 위에서 학습한 형변환을 활용합니다.\n",
    "print(name + '의 키는 ' + str(hight) + 'cm이고 몸무게는 ' + str(weight) + 'kg입니다. 직업은 ' + job + '입니다.')"
   ]
  },
  {
   "cell_type": "code",
   "execution_count": null,
   "metadata": {
    "ExecuteTime": {
     "end_time": "2022-03-08T04:12:32.205254Z",
     "start_time": "2022-03-08T04:12:32.196665Z"
    },
    "id": "jtGQYWVgQFtC"
   },
   "outputs": [],
   "source": [
    "# format string\n",
    "# 문자열에 format을 지정하여 {}안에 들어갈 변수를 지정해주는 방법\n",
    "# 파이썬 3.6버전 이전 출력방식\n",
    "print('{}의 키는 {}cm이고 몸무게는 {}kg입니다. 직업은 {}입니다.'.format(name, str(hight), str(weight), job))"
   ]
  },
  {
   "cell_type": "code",
   "execution_count": null,
   "metadata": {
    "ExecuteTime": {
     "end_time": "2021-05-24T05:42:28.901321Z",
     "start_time": "2021-05-24T05:42:28.897919Z"
    },
    "id": "QqUgqf9NQFtC"
   },
   "outputs": [],
   "source": [
    "# New format string\n",
    "# 파이썬 3.6버전 이후 권장하는 출력방식\n",
    "# 기존 format string 보다 사람이 보기에 직관적이고 명확한 문자와 변수간 관계 확인이 가능하다.\n"
   ]
  },
  {
   "cell_type": "markdown",
   "metadata": {
    "id": "_sn803URQFtC"
   },
   "source": [
    "## 출력 결과값의 소수점 자릿수 제한"
   ]
  },
  {
   "cell_type": "code",
   "execution_count": null,
   "metadata": {
    "ExecuteTime": {
     "end_time": "2022-05-01T13:14:19.586204Z",
     "start_time": "2022-05-01T13:14:19.576391Z"
    },
    "id": "O1H98w6pQFtD"
   },
   "outputs": [],
   "source": [
    "a = 3.1415926536\n",
    "# round(반올림)\n",
    "\n",
    "# format '{:0자릿수.자릿수f}'.format(변수명)\n",
    "# 숫자의 전체 자릿수는 10자리(소수점 포인트 포함), 뒤 소수점 뒤 5자리 표기\n",
    "\n",
    "# new format string\n",
    "# f'{변수명:0자릿수:자릿수f}'\n"
   ]
  },
  {
   "cell_type": "markdown",
   "metadata": {
    "id": "adoSvU-RQFtD"
   },
   "source": [
    "# 연산"
   ]
  },
  {
   "cell_type": "markdown",
   "metadata": {
    "id": "Mru8F4keQFtD"
   },
   "source": [
    "## 사칙연산"
   ]
  },
  {
   "cell_type": "code",
   "execution_count": null,
   "metadata": {
    "ExecuteTime": {
     "end_time": "2021-03-20T09:44:40.937815Z",
     "start_time": "2021-03-20T09:44:40.933869Z"
    },
    "id": "_JatIXxzQFtD"
   },
   "outputs": [],
   "source": [
    "'''\n",
    "+  : 더하기\n",
    "-  : 빼기\n",
    "*  : 곱하기\n",
    "** : 거듭제곱\n",
    "/  : 나누기\n",
    "// : 몫\n",
    "%  : 나머지\n",
    "'''"
   ]
  },
  {
   "cell_type": "code",
   "execution_count": null,
   "metadata": {
    "ExecuteTime": {
     "end_time": "2021-05-24T05:44:43.745375Z",
     "start_time": "2021-05-24T05:44:43.740642Z"
    },
    "id": "WWZxqcbfQFtD"
   },
   "outputs": [],
   "source": [
    "# 사칙연산 테스트\n",
    "# 값의 사칙연산\n"
   ]
  },
  {
   "cell_type": "code",
   "execution_count": null,
   "metadata": {
    "ExecuteTime": {
     "end_time": "2021-05-24T05:45:24.327880Z",
     "start_time": "2021-05-24T05:45:24.323773Z"
    },
    "id": "oC5JYhziQFtD"
   },
   "outputs": [],
   "source": [
    "# 변수의 사칙연산 또한 가능\n"
   ]
  },
  {
   "cell_type": "code",
   "execution_count": null,
   "metadata": {
    "ExecuteTime": {
     "end_time": "2021-05-24T05:45:59.766235Z",
     "start_time": "2021-05-24T05:45:59.762645Z"
    },
    "id": "QSYUTux6QFtD"
   },
   "outputs": [],
   "source": [
    "# 문자열의 덧셈연산\n",
    "\n",
    "# 문자열의 곱연산\n"
   ]
  },
  {
   "cell_type": "code",
   "execution_count": 1,
   "metadata": {
    "ExecuteTime": {
     "end_time": "2021-05-24T05:50:00.468137Z",
     "start_time": "2021-05-24T05:49:53.139736Z"
    },
    "id": "Lz_d2hRpQFtE"
   },
   "outputs": [
    {
     "name": "stdout",
     "output_type": "stream",
     "text": [
      "10921초 흐름\n"
     ]
    }
   ],
   "source": [
    "# 현재 시간, 분, 초를 사용자로 부터 입력받아 각각의 변수로 저장하고\n",
    "# 연산을 통해 금일 자정부터 몇초가 지났는 지 출력해보세요.\n",
    "hour = int(input('시'))\n",
    "minute = int(input('분'))\n",
    "sec = int(input('초'))\n",
    "print(f'{hour*3600+minute*60+sec}초 흐름')"
   ]
  },
  {
   "cell_type": "markdown",
   "metadata": {
    "id": "RrW_iE3oQFtE"
   },
   "source": [
    "## 조건연산\n",
    ">`and`, `&`  : 동시충족  \n",
    "`or`, `|` : 조건충족  \n",
    "`in` : 보유여부  (멤버연산자라 부릅니다)  \n",
    "`is` : 같음여부\n",
    "`not` : 다름여부  \n",
    "`==` : 같은값인지 확인  \n",
    "`!=`: 다른값인지 확인  \n",
    "`<`, `>`, `<=`, `>=` : 대소비교  \n",
    "\n",
    ">`bool` 타입으로 결과값을 내준다.  \n",
    "참인지 거짓인지 `True`, `False`로 구분가능한 데이터"
   ]
  },
  {
   "cell_type": "code",
   "execution_count": null,
   "metadata": {
    "ExecuteTime": {
     "end_time": "2021-05-24T05:53:09.753026Z",
     "start_time": "2021-05-24T05:53:09.749259Z"
    },
    "id": "2YUTONYTQFtE"
   },
   "outputs": [],
   "source": [
    "# 조건연산 테스트\n",
    "# 대소비교\n"
   ]
  },
  {
   "cell_type": "code",
   "execution_count": null,
   "metadata": {
    "ExecuteTime": {
     "end_time": "2021-05-24T05:53:38.455573Z",
     "start_time": "2021-05-24T05:53:38.451646Z"
    },
    "id": "7UoT_iO9QFtE"
   },
   "outputs": [],
   "source": [
    "# 변수를 전달하여 연산도 가능하다\n",
    "# 대소비교\n"
   ]
  },
  {
   "cell_type": "code",
   "execution_count": null,
   "metadata": {
    "ExecuteTime": {
     "end_time": "2021-05-24T05:55:17.444447Z",
     "start_time": "2021-05-24T05:55:17.440739Z"
    },
    "id": "EoSzJGX9QFtE"
   },
   "outputs": [],
   "source": [
    "# 문자열의 보유여부(멤버연산자)\n",
    "\n",
    "# 변수로도 가능\n"
   ]
  },
  {
   "cell_type": "code",
   "execution_count": null,
   "metadata": {
    "ExecuteTime": {
     "end_time": "2021-04-10T10:57:07.643172Z",
     "start_time": "2021-04-10T10:57:07.640564Z"
    },
    "id": "_v1LoD70QFtF"
   },
   "outputs": [],
   "source": [
    "# 같음 다름 여부\n"
   ]
  },
  {
   "cell_type": "code",
   "execution_count": null,
   "metadata": {
    "ExecuteTime": {
     "end_time": "2021-04-10T10:57:10.737707Z",
     "start_time": "2021-04-10T10:57:10.735037Z"
    },
    "id": "1oS_pXIZQFtF"
   },
   "outputs": [],
   "source": [
    "# 같음 다름 여부\n"
   ]
  },
  {
   "cell_type": "markdown",
   "metadata": {
    "id": "deLsjJSBQFtF"
   },
   "source": [
    "### 조건 곱, 조건 합\n",
    "> 실제로 or, and 연산이 여러개가 물려있을 경우 계산 결과값 확인에 어려움이 있을 수 있습니다.  \n",
    ">> 파이썬이 실제 연산을 하는 방법  \n",
    "> `True` = 1, `False` = 0  \n",
    "> `and` 곱연산, `or` 합연산  "
   ]
  },
  {
   "cell_type": "code",
   "execution_count": null,
   "metadata": {
    "ExecuteTime": {
     "end_time": "2022-03-08T04:19:39.844392Z",
     "start_time": "2022-03-08T04:19:39.839710Z"
    },
    "id": "9Z1dcWAtQFtF"
   },
   "outputs": [],
   "source": [
    "# 조건 곱연산, 합연산 테스트\n",
    "# and는 곱연산, or는 합연산을 하며 결과값을 확인하며 확인해보자.\n"
   ]
  },
  {
   "cell_type": "code",
   "execution_count": null,
   "metadata": {
    "ExecuteTime": {
     "end_time": "2021-05-24T05:58:36.964261Z",
     "start_time": "2021-05-24T05:58:36.960548Z"
    },
    "id": "DQcNu7XmQFtF"
   },
   "outputs": [],
   "source": [
    "# 실제 파이썬이 True와 False를 판단하는 기준\n"
   ]
  }
 ],
 "metadata": {
  "kernelspec": {
   "display_name": "Python 3 (ipykernel)",
   "language": "python",
   "name": "python3"
  },
  "language_info": {
   "codemirror_mode": {
    "name": "ipython",
    "version": 3
   },
   "file_extension": ".py",
   "mimetype": "text/x-python",
   "name": "python",
   "nbconvert_exporter": "python",
   "pygments_lexer": "ipython3",
   "version": "3.8.12"
  },
  "toc": {
   "base_numbering": 1,
   "nav_menu": {},
   "number_sections": true,
   "sideBar": true,
   "skip_h1_title": false,
   "title_cell": "Table of Contents",
   "title_sidebar": "Contents",
   "toc_cell": false,
   "toc_position": {
    "height": "calc(100% - 180px)",
    "left": "10px",
    "top": "150px",
    "width": "206.919px"
   },
   "toc_section_display": true,
   "toc_window_display": false
  },
  "varInspector": {
   "cols": {
    "lenName": 16,
    "lenType": 16,
    "lenVar": 40
   },
   "kernels_config": {
    "python": {
     "delete_cmd_postfix": "",
     "delete_cmd_prefix": "del ",
     "library": "var_list.py",
     "varRefreshCmd": "print(var_dic_list())"
    },
    "r": {
     "delete_cmd_postfix": ") ",
     "delete_cmd_prefix": "rm(",
     "library": "var_list.r",
     "varRefreshCmd": "cat(var_dic_list()) "
    }
   },
   "types_to_exclude": [
    "module",
    "function",
    "builtin_function_or_method",
    "instance",
    "_Feature"
   ],
   "window_display": false
  },
  "colab": {
   "provenance": [
    {
     "file_id": "1fpsEhGEQzFN2r5_XDhHDeuKYyKVFWch0",
     "timestamp": 1690443167980
    }
   ]
  }
 },
 "nbformat": 4,
 "nbformat_minor": 0
}