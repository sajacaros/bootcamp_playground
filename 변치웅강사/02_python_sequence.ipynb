{
 "cells": [
  {
   "cell_type": "markdown",
   "metadata": {
    "id": "vok4OgxQQNrj"
   },
   "source": [
    "# 자료구조\n",
    "> - 데이터의 집합  \n",
    "> - 데이터가 들어가 있는 바구니  \n",
    "> - 변수에 저장할 수 있는 데이터의 집합  \n",
    ">> - **`list`**(리스트)  \n",
    ">> - **`tuple`**(튜플)  \n",
    ">> - **`dict`**(딕셔너리)  \n",
    ">> - **`set`**(셋)"
   ]
  },
  {
   "cell_type": "markdown",
   "metadata": {
    "id": "gzaEfh3_QNrl"
   },
   "source": [
    "## 리스트(list)\n",
    "> - 파이썬에서 가장 흔히 사용하는 데이터의 자료구조  \n",
    "> - 순서가 있다.  \n",
    "> - **`[ ]`** 대괄호로 묶어 사용한다.  \n",
    "> - 리스트 안에 들어가는 요소들은 ,(쉼표)로 구분한다."
   ]
  },
  {
   "cell_type": "markdown",
   "metadata": {
    "id": "j2gMgYj7QNrm"
   },
   "source": [
    "### 리스트의 생성"
   ]
  },
  {
   "cell_type": "code",
   "execution_count": null,
   "metadata": {
    "ExecuteTime": {
     "end_time": "2021-04-05T05:50:48.683398Z",
     "start_time": "2021-04-05T05:50:48.674671Z"
    },
    "id": "hAkrZ5jsQNrm"
   },
   "outputs": [],
   "source": [
    "# 빈 리스트 만들기\n",
    "# empty_list라는 변수명에 빈 리스트를 할당한다.\n",
    "\n",
    "# 대괄호 뿐 아니라 명령어로도 작동한다.\n"
   ]
  },
  {
   "cell_type": "code",
   "execution_count": null,
   "metadata": {
    "ExecuteTime": {
     "end_time": "2021-04-05T05:50:49.272953Z",
     "start_time": "2021-04-05T05:50:49.269978Z"
    },
    "id": "fa1T2NgAQNrn"
   },
   "outputs": [],
   "source": [
    "# 값과 함께 리스트 만들기\n",
    "# wallet 이라는 변수에 'coin', 'card', 'cash', 'id', 'licence' 5개의 텍스트 데이터가 들어가 있는 리스트를 저장\n"
   ]
  },
  {
   "cell_type": "code",
   "execution_count": null,
   "metadata": {
    "ExecuteTime": {
     "end_time": "2021-04-05T05:50:58.168763Z",
     "start_time": "2021-04-05T05:50:58.156831Z"
    },
    "id": "L33lZDVsQNrn"
   },
   "outputs": [],
   "source": [
    "# 리스트 확인\n"
   ]
  },
  {
   "cell_type": "code",
   "execution_count": null,
   "metadata": {
    "ExecuteTime": {
     "end_time": "2021-04-05T05:51:44.860238Z",
     "start_time": "2021-04-05T05:51:44.857154Z"
    },
    "id": "duVsj0mjQNrn"
   },
   "outputs": [],
   "source": [
    "# 리스트 in 리스트\n",
    "# 리스트 내부에는 정수, 실수, 문자열 뿐만 아니라 자료구조인 list와 앞으로 학습할 기타 자료구조도 포함시킬 수 있다.\n"
   ]
  },
  {
   "cell_type": "code",
   "execution_count": null,
   "metadata": {
    "ExecuteTime": {
     "end_time": "2021-04-05T05:51:46.014401Z",
     "start_time": "2021-04-05T05:51:46.010590Z"
    },
    "id": "6o5VLZKNQNro"
   },
   "outputs": [],
   "source": [
    "# 리스트 호출\n"
   ]
  },
  {
   "cell_type": "markdown",
   "metadata": {
    "id": "VSkd8haDQNro"
   },
   "source": [
    "### 리스트 갯수세기"
   ]
  },
  {
   "cell_type": "code",
   "execution_count": null,
   "metadata": {
    "ExecuteTime": {
     "end_time": "2021-03-21T10:47:58.102261Z",
     "start_time": "2021-03-21T10:47:58.098348Z"
    },
    "id": "xFLmT4QtQNro"
   },
   "outputs": [],
   "source": [
    "# 리스트 전체 항목의 갯수를 보고싶다면\n",
    "# len() 명령어는 자료구조 내 원소의 갯수를 세는 명령어이다.\n",
    "# python 기본 명령어로 다양한 자료구조에도 사용이 가능하다.\n"
   ]
  },
  {
   "cell_type": "markdown",
   "metadata": {
    "id": "i7h4mTXeQNro"
   },
   "source": [
    "### 리스트의 인덱싱(indexing), 슬라이싱(slicing)\n",
    "> - 리스트의 특정 항목에 접근(색인)\n",
    "> - 인덱싱은 하나의 값에 접근, 슬라이싱은 여러개의 값의 묶음에 접근  \n",
    "> - 리스트의 순서를 인덱스라고 하며 **0**부터 시작"
   ]
  },
  {
   "cell_type": "code",
   "execution_count": null,
   "metadata": {
    "ExecuteTime": {
     "end_time": "2021-03-21T10:48:34.550995Z",
     "start_time": "2021-03-21T10:48:34.547393Z"
    },
    "id": "6dUBj381QNrp"
   },
   "outputs": [],
   "source": [
    "# 인덱싱\n",
    "# 파이썬의 인덱스는 0 부터 시작한다.\n",
    "# 리스트의 첫번째 항목 가져오기\n"
   ]
  },
  {
   "cell_type": "code",
   "execution_count": null,
   "metadata": {
    "ExecuteTime": {
     "end_time": "2021-04-05T05:52:35.437124Z",
     "start_time": "2021-04-05T05:52:35.433163Z"
    },
    "id": "vc44_w9ZQNrp"
   },
   "outputs": [],
   "source": [
    "# 슬라이싱\n",
    "# 리스트의 첫번째 항목부터 3번째 항목까지 가져오기\n",
    "\n",
    "# 슬라이싱에 사용하는 :은 ~번째 항목까지 선택함을 의미한다."
   ]
  },
  {
   "cell_type": "code",
   "execution_count": null,
   "metadata": {
    "ExecuteTime": {
     "end_time": "2021-04-05T05:53:24.757459Z",
     "start_time": "2021-04-05T05:53:24.753514Z"
    },
    "id": "AxKx4DV0QNrp"
   },
   "outputs": [],
   "source": [
    "# 슬라이싱 응용\n",
    "# 리스트의 4번째 항목부터 마지막 항목까지 가져오기\n",
    "\n",
    "# 리스트의 4번째 항목까지 가져오기"
   ]
  },
  {
   "cell_type": "code",
   "execution_count": null,
   "metadata": {
    "ExecuteTime": {
     "end_time": "2021-04-05T06:13:54.609359Z",
     "start_time": "2021-04-05T06:13:54.605100Z"
    },
    "id": "0wC8miwkQNrp"
   },
   "outputs": [],
   "source": [
    "# 리스트의 맨 마지막 항목 가져오기\n",
    "# 인덱스로 음수를 전달하면 마지막 인덱스부터 역순으로 인덱싱을 한다.\n"
   ]
  },
  {
   "cell_type": "code",
   "execution_count": null,
   "metadata": {
    "ExecuteTime": {
     "end_time": "2021-04-05T06:14:20.360578Z",
     "start_time": "2021-04-05T06:14:20.356597Z"
    },
    "id": "E0SKCbH2QNrq"
   },
   "outputs": [],
   "source": [
    "# 리스트의 전체 항목 중 2의 배수 인덱스 항목가져오기\n"
   ]
  },
  {
   "cell_type": "code",
   "execution_count": null,
   "metadata": {
    "ExecuteTime": {
     "end_time": "2021-04-05T06:14:47.701555Z",
     "start_time": "2021-04-05T06:14:47.696654Z"
    },
    "id": "yKtWEvKEQNrq"
   },
   "outputs": [],
   "source": [
    "# test_list 호출\n"
   ]
  },
  {
   "cell_type": "code",
   "execution_count": null,
   "metadata": {
    "ExecuteTime": {
     "end_time": "2021-03-21T10:50:14.205036Z",
     "start_time": "2021-03-21T10:50:14.201001Z"
    },
    "id": "F9MEssUZQNrq"
   },
   "outputs": [],
   "source": [
    "# 위의 test_list의 cash를 인덱싱 해보자\n"
   ]
  },
  {
   "cell_type": "markdown",
   "metadata": {
    "id": "yfdJlYREQNrq"
   },
   "source": [
    "### 리스트 편집"
   ]
  },
  {
   "cell_type": "code",
   "execution_count": null,
   "metadata": {
    "id": "VKdwiFFKQNrr"
   },
   "outputs": [],
   "source": [
    "# 리스트 내 특정항목 업데이트\n",
    "# 인덱스 혹은 슬라이싱으로 접근 한 데이터를 직접 변경하는 방법\n"
   ]
  },
  {
   "cell_type": "markdown",
   "metadata": {
    "id": "qN3WED1kQNrr"
   },
   "source": [
    "#### 내부명령어\n",
    "> 리스트는 자료구조를 갖고 있으면서 리스트 작업을 위해 필요한 내부명령어도 함께 제공한다.  \n",
    "이후 자세히 다루지만 지금은 사용하는 방법 정도만을 기억해두시면 됩니다  \n",
    "리스트이름 뒤 .(콤마)로 명령어에 접근이 가능합니다.  \n",
    "- **`list_name`**.**`func()`**"
   ]
  },
  {
   "cell_type": "code",
   "execution_count": null,
   "metadata": {
    "ExecuteTime": {
     "end_time": "2021-04-05T06:17:09.016129Z",
     "start_time": "2021-04-05T06:17:09.011530Z"
    },
    "id": "1ioTI3JEQNrr"
   },
   "outputs": [],
   "source": [
    "# 리스트에 항목추가\n",
    "# append() 명령어에 추가할 값을 전달하여 리스트에 추가합니다.\n"
   ]
  },
  {
   "cell_type": "code",
   "execution_count": null,
   "metadata": {
    "ExecuteTime": {
     "end_time": "2021-04-05T06:17:16.897858Z",
     "start_time": "2021-04-05T06:17:16.893968Z"
    },
    "id": "74FVu-0OQNrr"
   },
   "outputs": [],
   "source": [
    "# 리스트에 특정 항목 삭제\n"
   ]
  },
  {
   "cell_type": "code",
   "execution_count": null,
   "metadata": {
    "ExecuteTime": {
     "end_time": "2021-04-05T06:17:28.737089Z",
     "start_time": "2021-04-05T06:17:28.733170Z"
    },
    "id": "zdBdi1tBQNrr"
   },
   "outputs": [],
   "source": [
    "# 리스트의 맨 마지막 항목 꺼내오기 (값도 꺼내면서 리스트의 마지막 항목 삭제)\n"
   ]
  },
  {
   "cell_type": "code",
   "execution_count": null,
   "metadata": {
    "ExecuteTime": {
     "end_time": "2021-04-05T06:17:56.880508Z",
     "start_time": "2021-04-05T06:17:56.876485Z"
    },
    "id": "PhvOAP7WQNrs"
   },
   "outputs": [],
   "source": [
    "# 위에서 빼낸 맨 마지막 항목을 변수로 저장하여 사용 가능합니다.\n",
    "# 경우에 따라서는 변수로 저장하지 않고 값을 제거 할 때도 유용하게 사용합니다.\n"
   ]
  },
  {
   "cell_type": "code",
   "execution_count": null,
   "metadata": {
    "ExecuteTime": {
     "end_time": "2021-04-05T06:20:44.634848Z",
     "start_time": "2021-04-05T06:20:44.629870Z"
    },
    "id": "0GAOZhbaQNrs"
   },
   "outputs": [],
   "source": [
    "# 테스트에 사용할 num_list 생성\n",
    "num_list = [3, 4, 6, 1, 2, 8, 7]\n",
    "\n",
    "# 리스트의 값 정렬 (숫자는 오름차순, 문자는 알파벳순, 한글은 가나다순)\n",
    "# 역정렬도 가능\n"
   ]
  },
  {
   "cell_type": "code",
   "execution_count": null,
   "metadata": {
    "ExecuteTime": {
     "end_time": "2021-04-05T06:21:10.503631Z",
     "start_time": "2021-04-05T06:21:10.498759Z"
    },
    "id": "HxawKspZQNrs"
   },
   "outputs": [],
   "source": [
    "# 리스트 순서 역순\n"
   ]
  },
  {
   "cell_type": "code",
   "execution_count": null,
   "metadata": {
    "ExecuteTime": {
     "end_time": "2021-04-05T06:21:18.072495Z",
     "start_time": "2021-04-05T06:21:18.068825Z"
    },
    "id": "WGSfsUJXQNrs"
   },
   "outputs": [],
   "source": [
    "# 리스트 내 특정항목의 인덱스 가져오기\n",
    "\n",
    "# 리스트 내 'cash'의 인덱스를 보여줌"
   ]
  },
  {
   "cell_type": "code",
   "execution_count": null,
   "metadata": {
    "ExecuteTime": {
     "end_time": "2021-04-05T06:21:21.570783Z",
     "start_time": "2021-04-05T06:21:21.567006Z"
    },
    "id": "BdXN2IhpQNrs"
   },
   "outputs": [],
   "source": [
    "# 리스트 내 특정항목 갯수 세기\n",
    "# append로 coin 하나 추가한 값\n"
   ]
  },
  {
   "cell_type": "markdown",
   "metadata": {
    "id": "6CMPQrAmQNrs"
   },
   "source": [
    "### 리스트 연산"
   ]
  },
  {
   "cell_type": "code",
   "execution_count": null,
   "metadata": {
    "ExecuteTime": {
     "end_time": "2021-04-05T06:22:13.966466Z",
     "start_time": "2021-04-05T06:22:13.963497Z"
    },
    "id": "HKpR0I_EQNrs"
   },
   "outputs": [],
   "source": [
    "# int형 데이터가 들어가 있는 num1, num2 리스트 생성\n",
    "num1 = [1, 2, 3, 4, 5]\n",
    "num2 = [4, 5, 6, 7, 8]"
   ]
  },
  {
   "cell_type": "code",
   "execution_count": null,
   "metadata": {
    "ExecuteTime": {
     "end_time": "2021-03-21T11:21:45.976227Z",
     "start_time": "2021-03-21T11:21:45.972199Z"
    },
    "id": "CciEx0v-QNrt"
   },
   "outputs": [],
   "source": [
    "# 리스트 내부 항목 합, 최소값, 최대값\n",
    "\n",
    "# 위에 사용한 sum, min, max 명령어는 파이썬 내장 명령어입니다.\n",
    "# 이미 학습한 print, len 명령어와 같이 다른 자료구조에도 적용가능합니다."
   ]
  },
  {
   "cell_type": "code",
   "execution_count": null,
   "metadata": {
    "ExecuteTime": {
     "end_time": "2021-04-05T06:23:36.700013Z",
     "start_time": "2021-04-05T06:23:36.694931Z"
    },
    "id": "DD8GbEJVQNrt"
   },
   "outputs": [],
   "source": [
    "# 리스트의 덧셈 연산\n"
   ]
  },
  {
   "cell_type": "code",
   "execution_count": null,
   "metadata": {
    "ExecuteTime": {
     "end_time": "2021-04-05T06:23:46.105231Z",
     "start_time": "2021-04-05T06:23:46.101045Z"
    },
    "id": "2CCYS3WwQNrt"
   },
   "outputs": [],
   "source": [
    "# 리스트의 곱셈 연산\n"
   ]
  },
  {
   "cell_type": "code",
   "execution_count": null,
   "metadata": {
    "ExecuteTime": {
     "end_time": "2021-04-05T06:24:33.639842Z",
     "start_time": "2021-04-05T06:24:33.635758Z"
    },
    "id": "_TjJJbcGQNrt"
   },
   "outputs": [],
   "source": [
    "# 조건연산자 테스트\n"
   ]
  },
  {
   "cell_type": "markdown",
   "metadata": {
    "id": "ykqv0xCuQNrt"
   },
   "source": [
    "### 리스트 삭제"
   ]
  },
  {
   "cell_type": "code",
   "execution_count": null,
   "metadata": {
    "id": "_DtwaFICQNrt"
   },
   "outputs": [],
   "source": [
    "# 리스트 삭제 (변수 삭제, 값 삭제)\n",
    "# 생성한 리스트는 남아있지만 내부 항목을 모두 삭제합니다.\n"
   ]
  },
  {
   "cell_type": "code",
   "execution_count": null,
   "metadata": {
    "ExecuteTime": {
     "end_time": "2021-04-05T06:25:35.756386Z",
     "start_time": "2021-04-05T06:25:35.643290Z"
    },
    "id": "16psDPmwQNrt"
   },
   "outputs": [],
   "source": [
    "# 메모리에서 완전히 삭제\n"
   ]
  },
  {
   "cell_type": "markdown",
   "metadata": {
    "id": "FaGtR-dkQNru"
   },
   "source": [
    "## 딕셔너리(dict)\n",
    "> 사전을 떠올려봅시다. 사전을 구성하고 있는 항목은?    \n",
    "> - 단어 : 단어의 설명  \n",
    "\n",
    "> `key`와 `value`값을 쌍으로 저장가능 한 자료구조  \n",
    "> - `key` : `value`  \n",
    "> - **`{ }`** 중괄호로 묶어 사용한다.  \n",
    "> - 딕셔너리 요소 구분은 리스트와 마찬가지로 쉼표  "
   ]
  },
  {
   "cell_type": "markdown",
   "metadata": {
    "id": "Ln_-rLtTQNr3"
   },
   "source": [
    "### 딕셔너리 생성"
   ]
  },
  {
   "cell_type": "code",
   "execution_count": null,
   "metadata": {
    "ExecuteTime": {
     "end_time": "2022-04-20T12:40:14.975664Z",
     "start_time": "2022-04-20T12:40:14.969556Z"
    },
    "id": "xONJshMKQNr3"
   },
   "outputs": [],
   "source": [
    "# 빈 딕셔너리 생성\n",
    "\n",
    "# 딕셔너리는 중괄호 사용\n"
   ]
  },
  {
   "cell_type": "code",
   "execution_count": null,
   "metadata": {
    "ExecuteTime": {
     "end_time": "2022-04-20T12:40:15.182177Z",
     "start_time": "2022-04-20T12:40:15.177640Z"
    },
    "id": "XmZ6-ujWQNr3"
   },
   "outputs": [],
   "source": [
    "# 값을 추가하면서 딕셔너리 생성\n",
    "wallet = {\n",
    "    'card':'SK카드',\n",
    "    'cash':75000,\n",
    "    'coin':{'500원':1,\n",
    "            '100원':1,},\n",
    "    'id':['주민등록증', '여권'],\n",
    "    'licence':'운전면허증'\n",
    "}\n",
    "\n",
    "# 중괄호 내 key : value 값을 전달하고 각 항목의 구분은 쉼표\n",
    "# 리스트와 마찬가지로 딕셔너리 내부에 리스트등 타 자료구조 저장 가능"
   ]
  },
  {
   "cell_type": "code",
   "execution_count": null,
   "metadata": {
    "ExecuteTime": {
     "end_time": "2022-04-20T12:40:19.035607Z",
     "start_time": "2022-04-20T12:40:19.032099Z"
    },
    "id": "0RyOpOnXQNr3"
   },
   "outputs": [],
   "source": [
    "# 딕셔너리 호출\n"
   ]
  },
  {
   "cell_type": "markdown",
   "metadata": {
    "id": "ONfalAdXQNr4"
   },
   "source": [
    "### 딕셔너리 갯수세기"
   ]
  },
  {
   "cell_type": "code",
   "execution_count": null,
   "metadata": {
    "ExecuteTime": {
     "end_time": "2021-04-05T06:29:19.960798Z",
     "start_time": "2021-04-05T06:29:19.957250Z"
    },
    "scrolled": true,
    "id": "ssVddxlSQNr4"
   },
   "outputs": [],
   "source": []
  },
  {
   "cell_type": "markdown",
   "metadata": {
    "id": "FcoW36s-QNr4"
   },
   "source": [
    "### 딕셔너리 값에 접근하기"
   ]
  },
  {
   "cell_type": "code",
   "execution_count": null,
   "metadata": {
    "ExecuteTime": {
     "end_time": "2022-04-20T12:40:19.779065Z",
     "start_time": "2022-04-20T12:40:19.773821Z"
    },
    "id": "m00JyuU-QNr4"
   },
   "outputs": [],
   "source": [
    "# key값으로 딕셔너리 값에 접근\n",
    "\n",
    "# 리스트에서 인덱스를 사용하였다면 딕셔너리는 key값을 전달하여 값에 접근합니다."
   ]
  },
  {
   "cell_type": "markdown",
   "metadata": {
    "id": "ELyHCzGYQNr4"
   },
   "source": [
    "### 딕셔너리 편집"
   ]
  },
  {
   "cell_type": "code",
   "execution_count": null,
   "metadata": {
    "ExecuteTime": {
     "end_time": "2022-04-20T12:40:20.103044Z",
     "start_time": "2022-04-20T12:40:20.097868Z"
    },
    "id": "PQbtTVZsQNr5"
   },
   "outputs": [],
   "source": [
    "# 딕셔너리에 point card key를 갖는 해피포인트 문자열을 값으로 저장\n",
    "\n",
    "# key값이 숫자여도 관계없음\n"
   ]
  },
  {
   "cell_type": "code",
   "execution_count": null,
   "metadata": {
    "ExecuteTime": {
     "end_time": "2022-04-20T12:40:20.563330Z",
     "start_time": "2022-04-20T12:40:20.560230Z"
    },
    "id": "FGANabBEQNr5"
   },
   "outputs": [],
   "source": [
    "# 딕셔너리 특정 항목 업데이트\n"
   ]
  },
  {
   "cell_type": "code",
   "execution_count": null,
   "metadata": {
    "ExecuteTime": {
     "end_time": "2022-04-20T12:40:20.747617Z",
     "start_time": "2022-04-20T12:40:20.744565Z"
    },
    "id": "jl5t7z95QNr5"
   },
   "outputs": [],
   "source": [
    "# 딕셔너리 특정 value값 빼오기\n"
   ]
  },
  {
   "cell_type": "code",
   "execution_count": null,
   "metadata": {
    "ExecuteTime": {
     "end_time": "2022-04-20T12:40:20.912343Z",
     "start_time": "2022-04-20T12:40:20.908837Z"
    },
    "id": "KVkF_8atQNr5"
   },
   "outputs": [],
   "source": [
    "# pop 명령어로 빼온 값, wallet에는 해당항목 사라져 있음\n"
   ]
  },
  {
   "cell_type": "code",
   "execution_count": null,
   "metadata": {
    "ExecuteTime": {
     "end_time": "2022-04-20T12:40:21.103609Z",
     "start_time": "2022-04-20T12:40:21.099133Z"
    },
    "id": "56vlEshLQNr5"
   },
   "outputs": [],
   "source": [
    "# 딕셔너리 내부 속성 값에 접근해서 값 업데이트도 가능하다.\n",
    "# wallet의 coin key값을 갖는 값에 50원:1 값을 추가한다.\n"
   ]
  },
  {
   "cell_type": "code",
   "execution_count": null,
   "metadata": {
    "ExecuteTime": {
     "end_time": "2022-04-20T12:40:21.264437Z",
     "start_time": "2022-04-20T12:40:21.259140Z"
    },
    "id": "RR7p6lh0QNr5"
   },
   "outputs": [],
   "source": [
    "# wallet 딕셔너리의 card 항목을 카카오체크카드로 업데이트\n"
   ]
  },
  {
   "cell_type": "code",
   "execution_count": null,
   "metadata": {
    "ExecuteTime": {
     "end_time": "2022-04-20T12:40:21.418862Z",
     "start_time": "2022-04-20T12:40:21.415678Z"
    },
    "id": "69bDx28_QNr5"
   },
   "outputs": [],
   "source": [
    "# wallet id key값에 '운전면허증' 추가\n"
   ]
  },
  {
   "cell_type": "markdown",
   "metadata": {
    "id": "UccLvkNvQNr6"
   },
   "source": [
    "### 딕셔너리 삭제"
   ]
  },
  {
   "cell_type": "code",
   "execution_count": null,
   "metadata": {
    "ExecuteTime": {
     "end_time": "2021-04-05T06:41:32.807944Z",
     "start_time": "2021-04-05T06:41:32.802973Z"
    },
    "id": "g2aEXNj0QNr6"
   },
   "outputs": [],
   "source": [
    "# 딕셔너리 항목 제거\n",
    "# 딕셔너리의 key값까지 전달하여 해당 key값과 값을 동시에 제거\n"
   ]
  },
  {
   "cell_type": "code",
   "execution_count": null,
   "metadata": {
    "ExecuteTime": {
     "end_time": "2021-04-05T06:41:44.675662Z",
     "start_time": "2021-04-05T06:41:44.670983Z"
    },
    "id": "L4BAQwv5QNr7"
   },
   "outputs": [],
   "source": [
    "# 딕셔너리 원소 전체 삭제\n"
   ]
  },
  {
   "cell_type": "code",
   "execution_count": null,
   "metadata": {
    "ExecuteTime": {
     "end_time": "2021-04-05T06:41:55.853499Z",
     "start_time": "2021-04-05T06:41:55.846668Z"
    },
    "id": "zeRtj-ocQNr7"
   },
   "outputs": [],
   "source": [
    "# 딕셔너리 변수 완전 삭제\n"
   ]
  },
  {
   "cell_type": "markdown",
   "metadata": {
    "id": "N-kLfZVkQNr8"
   },
   "source": [
    "### 딕셔너리 추가 명령어"
   ]
  },
  {
   "cell_type": "code",
   "execution_count": null,
   "metadata": {
    "ExecuteTime": {
     "end_time": "2021-04-05T06:43:06.169161Z",
     "start_time": "2021-04-05T06:43:06.165027Z"
    },
    "id": "HQF4_kYyQNr8"
   },
   "outputs": [],
   "source": [
    "# 딕셔너리 내 키 값을 확인\n"
   ]
  },
  {
   "cell_type": "code",
   "execution_count": null,
   "metadata": {
    "ExecuteTime": {
     "end_time": "2021-04-05T06:43:25.560765Z",
     "start_time": "2021-04-05T06:43:25.556592Z"
    },
    "id": "vjEVZJ9VQNr8"
   },
   "outputs": [],
   "source": [
    "# 딕셔너리 내 값을 확인\n"
   ]
  },
  {
   "cell_type": "code",
   "execution_count": null,
   "metadata": {
    "ExecuteTime": {
     "end_time": "2021-04-05T06:43:42.543062Z",
     "start_time": "2021-04-05T06:43:42.538355Z"
    },
    "id": "LKyWfa4CQNr8"
   },
   "outputs": [],
   "source": [
    "# 딕셔너리의 key, value 쌍을 확인\n"
   ]
  },
  {
   "cell_type": "markdown",
   "metadata": {
    "id": "oyLuSBdIQNr8"
   },
   "source": [
    "## String\n",
    "> - 자료구조와 같이 시퀀스를 가지고 있음.  \n",
    "> - 인덱싱, 슬라이싱이 가능.\n",
    "> - 문자열의 처리를 위한 다양한 함수가 구비.\n",
    "> - string 타입 데이터에 대한 여러가지 함수를 학습해 보겠습니다."
   ]
  },
  {
   "cell_type": "code",
   "execution_count": null,
   "metadata": {
    "id": "3xzGFDnUQNr9"
   },
   "outputs": [],
   "source": [
    "## 테스트 문자열\n",
    "text = '''\n",
    "The Python interpreter and the extensive\n",
    "standard library are freely available in source or binary form\n",
    "for all major platforms from the Python Web site\n",
    "and may be freely distributed. The same site also contains distributions\n",
    "of and pointers to many free third party Python modules, programs and tools\n",
    ", and additional documentation.'\n",
    "'''\n",
    "\n",
    "text"
   ]
  },
  {
   "cell_type": "markdown",
   "metadata": {
    "id": "jBDTLuc2QNr9"
   },
   "source": [
    "### 문자열 인덱싱 및 슬라이싱"
   ]
  },
  {
   "cell_type": "code",
   "execution_count": null,
   "metadata": {
    "id": "xQiVlL6jQNr9"
   },
   "outputs": [],
   "source": [
    "# 인덱싱 및 슬라이싱 테스트\n"
   ]
  },
  {
   "cell_type": "code",
   "execution_count": null,
   "metadata": {
    "id": "g0Sy-UW9QNr9"
   },
   "outputs": [],
   "source": [
    "# 문자열 출력\n"
   ]
  },
  {
   "cell_type": "markdown",
   "metadata": {
    "id": "wy79ht47QNr9"
   },
   "source": [
    "## 문자열 내장함수\n",
    "문자열 처리를 위해 자주 사용하는 함수들을 정리 해두었습니다. 위의 테스트 문자열에 하나하나 적용해가면서 사용법을 익혀봅시다.  \n",
    "\n",
    "**`upper()`** : 대문자 변환  \n",
    "\n",
    "**`lower()`** : 소문자 변환  \n",
    "\n",
    "**`capitalize()`** : 문장 첫단어 대문자 변환  \n",
    "\n",
    "**`join()`** : 문자열 이어 붙이기  \n",
    "\n",
    "**`split()`** : 문자열 나누기  \n",
    "\n",
    "**`strip()`** : 공백 제거  \n",
    "\n",
    "**`replace()`** : 치환  \n",
    "\n",
    "**`startswith()`** : ~로 시작하는 단어찾기  \n",
    "\n",
    "**`endswith()`** : ~로 끝나는 단어찾기  "
   ]
  },
  {
   "cell_type": "code",
   "execution_count": null,
   "metadata": {
    "id": "WMykRia7QNr9"
   },
   "outputs": [],
   "source": [
    "# 문장단위 구분\n"
   ]
  },
  {
   "cell_type": "code",
   "execution_count": null,
   "metadata": {
    "id": "77kiazgQQNr9"
   },
   "outputs": [],
   "source": [
    "# 문장 인덱싱\n"
   ]
  },
  {
   "cell_type": "code",
   "execution_count": null,
   "metadata": {
    "id": "8yovKkYSQNr-"
   },
   "outputs": [],
   "source": [
    "# 대소문자 변환 및 첫단어 대문자 변환\n"
   ]
  },
  {
   "cell_type": "code",
   "execution_count": null,
   "metadata": {
    "id": "mFgzBQFPQNr-"
   },
   "outputs": [],
   "source": [
    "# 공백 생성 (\\n, \\t)\n",
    "# \\n <--- 엔터\n",
    "# \\t <--- 탭\n"
   ]
  },
  {
   "cell_type": "code",
   "execution_count": null,
   "metadata": {
    "id": "f5XmUlHpQNr-"
   },
   "outputs": [],
   "source": [
    "# 공백 제거\n",
    "# strip 문자열 앞 뒤 공백을 다 지워줍니다.\n"
   ]
  },
  {
   "cell_type": "code",
   "execution_count": null,
   "metadata": {
    "id": "HxaPkZ8BQNr-"
   },
   "outputs": [],
   "source": [
    "# 단어 변환(치환) replace\n"
   ]
  },
  {
   "cell_type": "code",
   "execution_count": null,
   "metadata": {
    "id": "MpCmUSGBQNr-"
   },
   "outputs": [],
   "source": [
    "# 단어 단위로 쪼개기\n"
   ]
  },
  {
   "cell_type": "code",
   "execution_count": null,
   "metadata": {
    "id": "5SCh0wK7QNr-"
   },
   "outputs": [],
   "source": [
    "# 단어 이어 붙이기\n"
   ]
  },
  {
   "cell_type": "code",
   "execution_count": null,
   "metadata": {
    "id": "JaqcLjPdQNr_"
   },
   "outputs": [],
   "source": [
    "# 시작하는 어절 기준으로 찾기\n"
   ]
  },
  {
   "cell_type": "code",
   "execution_count": null,
   "metadata": {
    "id": "dB6FnXYvQNr_"
   },
   "outputs": [],
   "source": [
    "# 끝나는 어절 기준으로 찾기\n"
   ]
  },
  {
   "cell_type": "markdown",
   "metadata": {
    "id": "LyuQ3sC0QNr_"
   },
   "source": [
    "## 튜플(tuple)\n",
    "> - 데이터가 고정이 되어 변경이 불가능 한 데이터 집합  \n",
    "> - 연산이나 입력값을 전달하는 자료구조로는 잘 사용하지 않고 결과값을 출력하는 경우 많이 사용한다.  \n",
    "> - **`( )`** 소괄호로 묶어 사용한다.  \n",
    "> - 구분은 , 콤마로 사용한다.  "
   ]
  },
  {
   "cell_type": "markdown",
   "metadata": {
    "id": "7sC_6YExQNr_"
   },
   "source": [
    "### 튜플 생성"
   ]
  },
  {
   "cell_type": "code",
   "execution_count": null,
   "metadata": {
    "ExecuteTime": {
     "end_time": "2023-02-05T02:47:07.280351Z",
     "start_time": "2023-02-05T02:47:07.270326Z"
    },
    "id": "9TyEIFKmQNr_"
   },
   "outputs": [],
   "source": [
    "test_tuple = () # 의미가 모호해서 잘 사용하지 않는다.\n",
    "test_tuple1 = tuple()\n",
    "test_tuple2 = (1, 2, 3, 4)\n",
    "test_tuple3 = 5, 6"
   ]
  },
  {
   "cell_type": "markdown",
   "metadata": {
    "id": "qNovNrUlQNsA"
   },
   "source": [
    "### 튜플 인덱싱"
   ]
  },
  {
   "cell_type": "code",
   "execution_count": null,
   "metadata": {
    "ExecuteTime": {
     "end_time": "2021-04-05T06:44:31.287140Z",
     "start_time": "2021-04-05T06:44:31.283388Z"
    },
    "id": "Nz3O4CuZQNsA"
   },
   "outputs": [],
   "source": [
    "# 튜플 인덱싱 테스트\n"
   ]
  },
  {
   "cell_type": "markdown",
   "metadata": {
    "id": "sXCEUXeQQNsA"
   },
   "source": [
    "### 튜플 편집\n",
    "한번 튜플에 들어간 값은 변경이 불가능하다. 다만 값 추가는 가능하다"
   ]
  },
  {
   "cell_type": "code",
   "execution_count": null,
   "metadata": {
    "ExecuteTime": {
     "end_time": "2021-04-05T06:44:43.978857Z",
     "start_time": "2021-04-05T06:44:43.972348Z"
    },
    "id": "T2iQE4EaQNsA"
   },
   "outputs": [],
   "source": [
    "# 튜플 업데이트 테스트\n"
   ]
  },
  {
   "cell_type": "code",
   "execution_count": null,
   "metadata": {
    "ExecuteTime": {
     "end_time": "2021-04-05T06:49:15.825634Z",
     "start_time": "2021-04-05T06:49:15.822006Z"
    },
    "id": "N0aEuPJLQNsA"
   },
   "outputs": [],
   "source": [
    "# 튜플에 값을 추가할 때도 튜플형태의 전달만 유효하다\n"
   ]
  },
  {
   "cell_type": "code",
   "execution_count": null,
   "metadata": {
    "ExecuteTime": {
     "end_time": "2021-04-05T06:49:03.475894Z",
     "start_time": "2021-04-05T06:49:03.472178Z"
    },
    "id": "c9nLsMfqQNsA"
   },
   "outputs": [],
   "source": []
  },
  {
   "cell_type": "markdown",
   "metadata": {
    "id": "XUly-MKlQNsA"
   },
   "source": [
    "### 튜플 삭제\n",
    "튜플 전체삭제는 가능하지만 값 삭제는 불가능하다."
   ]
  },
  {
   "cell_type": "code",
   "execution_count": null,
   "metadata": {
    "ExecuteTime": {
     "end_time": "2021-04-05T06:49:55.566093Z",
     "start_time": "2021-04-05T06:49:55.559606Z"
    },
    "id": "5u2yv0_DQNsB"
   },
   "outputs": [],
   "source": [
    "# 튜플 삭제 테스트\n"
   ]
  },
  {
   "cell_type": "markdown",
   "metadata": {
    "id": "Y-bPKo52QNsB"
   },
   "source": [
    "### 언팩"
   ]
  },
  {
   "cell_type": "code",
   "execution_count": null,
   "metadata": {
    "ExecuteTime": {
     "end_time": "2021-04-05T06:51:03.353256Z",
     "start_time": "2021-04-05T06:51:03.349344Z"
    },
    "id": "PozU6j3QQNsB"
   },
   "outputs": [],
   "source": [
    "# 값을 변경하지 못하기 때문에 값을 분리시킬 수 있음\n"
   ]
  },
  {
   "cell_type": "markdown",
   "metadata": {
    "id": "L4oEu1mwQNsB"
   },
   "source": [
    "## 셋(set), 집합\n",
    "> - 중복된 값을 허용하지 않는 자료구조\n",
    "> - 데이터셋의 고유값을 확인하는 용도로도 사용(중복제거)  \n",
    "> - **`{ }`** 대괄호로 묶어 사용한다.\n",
    "> - **집합 연산**을 지원한다."
   ]
  },
  {
   "cell_type": "markdown",
   "metadata": {
    "id": "C3masmSJQNsB"
   },
   "source": [
    "### 셋 생성"
   ]
  },
  {
   "cell_type": "code",
   "execution_count": 3,
   "metadata": {
    "ExecuteTime": {
     "end_time": "2021-04-20T13:10:03.272514Z",
     "start_time": "2021-04-20T13:10:03.261164Z"
    },
    "id": "8Up1MBFCQNsC"
   },
   "outputs": [
    {
     "data": {
      "text/plain": "set"
     },
     "execution_count": 3,
     "metadata": {},
     "output_type": "execute_result"
    }
   ],
   "source": [
    "# 셋 생성 테스트\n",
    "empty_set = set()\n",
    "print(type(empty_set))\n",
    "test_set1 = {1, 2, 3, 4}\n",
    "print(type(test_set1))\n",
    "test_set2 = {3, 4, 5, 6}"
   ]
  },
  {
   "cell_type": "markdown",
   "metadata": {
    "id": "dPkRtu7RQNsC"
   },
   "source": [
    "### 셋 편집"
   ]
  },
  {
   "cell_type": "code",
   "execution_count": null,
   "metadata": {
    "ExecuteTime": {
     "end_time": "2021-04-05T06:52:48.249616Z",
     "start_time": "2021-04-05T06:52:48.245701Z"
    },
    "id": "4RWBg1F1QNsC"
   },
   "outputs": [],
   "source": [
    "# 셋에 값 하나 추가\n",
    "# 중복을 허용하지 않기 때문에 셋에 같은 값이 있을 경우 추가하지 않음\n"
   ]
  },
  {
   "cell_type": "code",
   "execution_count": null,
   "metadata": {
    "ExecuteTime": {
     "end_time": "2021-04-05T06:52:55.869078Z",
     "start_time": "2021-04-05T06:52:55.865103Z"
    },
    "id": "sTKbZe1nQNsC"
   },
   "outputs": [],
   "source": [
    "# 셋에 값 여러개 추가\n"
   ]
  },
  {
   "cell_type": "code",
   "execution_count": null,
   "metadata": {
    "ExecuteTime": {
     "end_time": "2021-04-05T06:53:24.708849Z",
     "start_time": "2021-04-05T06:53:24.704487Z"
    },
    "id": "BVCleAQhQNsC"
   },
   "outputs": [],
   "source": [
    "# 셋 값 하나삭제\n",
    "\n",
    "# test_set.discard(5)"
   ]
  },
  {
   "cell_type": "markdown",
   "metadata": {
    "id": "Qu8YfaJeQNsC"
   },
   "source": [
    "### 셋 집합 연산"
   ]
  },
  {
   "cell_type": "code",
   "execution_count": null,
   "metadata": {
    "ExecuteTime": {
     "end_time": "2021-04-05T06:54:30.425927Z",
     "start_time": "2021-04-05T06:54:30.422248Z"
    },
    "id": "KQTSYg_nQNsC"
   },
   "outputs": [],
   "source": [
    "# 교집합\n"
   ]
  },
  {
   "cell_type": "code",
   "execution_count": null,
   "metadata": {
    "ExecuteTime": {
     "end_time": "2021-04-05T06:54:30.697049Z",
     "start_time": "2021-04-05T06:54:30.693208Z"
    },
    "id": "MePu069-QNsC"
   },
   "outputs": [],
   "source": [
    "# 합집합\n"
   ]
  },
  {
   "cell_type": "code",
   "execution_count": null,
   "metadata": {
    "ExecuteTime": {
     "end_time": "2021-04-05T06:54:31.430166Z",
     "start_time": "2021-04-05T06:54:31.426225Z"
    },
    "id": "75pGzy_1QNsD"
   },
   "outputs": [],
   "source": [
    "# 차집합\n"
   ]
  },
  {
   "cell_type": "markdown",
   "metadata": {
    "id": "Hw9iV8TRQNsD"
   },
   "source": [
    "### 셋 삭제"
   ]
  },
  {
   "cell_type": "code",
   "execution_count": null,
   "metadata": {
    "ExecuteTime": {
     "end_time": "2021-04-05T06:59:47.247392Z",
     "start_time": "2021-04-05T06:59:47.243039Z"
    },
    "id": "65GjxN7cQNsD"
   },
   "outputs": [],
   "source": [
    "# 셋 삭제 테스트\n"
   ]
  },
  {
   "cell_type": "code",
   "execution_count": null,
   "metadata": {
    "ExecuteTime": {
     "end_time": "2021-04-05T07:00:00.322325Z",
     "start_time": "2021-04-05T07:00:00.315460Z"
    },
    "id": "a7zPU5Z5QNsD"
   },
   "outputs": [],
   "source": []
  }
 ],
 "metadata": {
  "kernelspec": {
   "display_name": "Python 3 (ipykernel)",
   "language": "python",
   "name": "python3"
  },
  "language_info": {
   "codemirror_mode": {
    "name": "ipython",
    "version": 3
   },
   "file_extension": ".py",
   "mimetype": "text/x-python",
   "name": "python",
   "nbconvert_exporter": "python",
   "pygments_lexer": "ipython3",
   "version": "3.8.12"
  },
  "toc": {
   "base_numbering": 1,
   "nav_menu": {},
   "number_sections": true,
   "sideBar": true,
   "skip_h1_title": true,
   "title_cell": "Table of Contents",
   "title_sidebar": "Contents",
   "toc_cell": false,
   "toc_position": {
    "height": "calc(100% - 180px)",
    "left": "10px",
    "top": "150px",
    "width": "261.818px"
   },
   "toc_section_display": true,
   "toc_window_display": false
  },
  "varInspector": {
   "cols": {
    "lenName": 16,
    "lenType": 16,
    "lenVar": 40
   },
   "kernels_config": {
    "python": {
     "delete_cmd_postfix": "",
     "delete_cmd_prefix": "del ",
     "library": "var_list.py",
     "varRefreshCmd": "print(var_dic_list())"
    },
    "r": {
     "delete_cmd_postfix": ") ",
     "delete_cmd_prefix": "rm(",
     "library": "var_list.r",
     "varRefreshCmd": "cat(var_dic_list()) "
    }
   },
   "types_to_exclude": [
    "module",
    "function",
    "builtin_function_or_method",
    "instance",
    "_Feature"
   ],
   "window_display": false
  },
  "colab": {
   "provenance": [
    {
     "file_id": "199EyXD1RVZGAqteUDS1PCj1e3_1lYzD3",
     "timestamp": 1690443171618
    }
   ]
  }
 },
 "nbformat": 4,
 "nbformat_minor": 0
}