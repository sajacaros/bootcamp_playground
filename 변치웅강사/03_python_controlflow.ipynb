{
 "cells": [
  {
   "cell_type": "markdown",
   "metadata": {
    "id": "1qCPu4OzQT8c"
   },
   "source": [
    "# 흐름제어문(controlflow)\n",
    "> - 데이터 혹은 사용자가 설정한 조건에 따라 코드의 작동 및 프로그램이 제어 되도록 하는 구문  \n",
    ">> - 판별문, 조건문 또는 분기라고 부름 **`if`**, **`elif`**, **`else`**  \n",
    ">> - 반복문, 무한반복문 **`for`**, **`while`**\n",
    ">> - 예외처리 **`break`**, **`try`**, **`except`**, **`continue`**\n",
    "    \n",
    "# 흐름제어문의 구성\n",
    "> 흐름제어문을 구분하기 위해 indentation block(들여쓰기) 4칸, 혹은 tab을 사용한다.  \n",
    "타 언어의 **`{`** **`{`** **`}`** **`}`** 구분 대신 사용하기에 때문에 들여쓰기가 굉장히 중요하다\n",
    ">> - 순차 : 위에서부터 아래 방향으로 코드가 순서대로 실행된다.  \n",
    ">> - 분기 : 판별문  \n",
    ">> - 반복 : **`while`**, **`for`** 혹은 함수, 클래스  "
   ]
  },
  {
   "cell_type": "markdown",
   "metadata": {
    "id": "L5bPPhgmQT8d"
   },
   "source": [
    "## if, elif, else\n",
    "> - 코드의 무조건 적인 실행이 아닌 사용자의 조건에 맞을 경우에만 코드가 실행되는 구조  \n",
    "> - 같은 프로그램 내 다양한 경우의 수가 있을 경우 사용  \n",
    "> - 코드의 흐름을 나누는 분기  "
   ]
  },
  {
   "cell_type": "markdown",
   "metadata": {
    "id": "c76l34ojQT8e"
   },
   "source": [
    "### if 구문의 구조\n",
    "```python\n",
    "if 조건식: # 만약 조건식이 True 라면\n",
    "    실행코드1 # 코드가 실행. if 조건이 만족했을 경우 실행되는 코드라고 생각해도 됨\n",
    "\n",
    "elif 조건식: # 만약 if 조건식이 False, elif 조건이 True 라면\n",
    "    실행코드2 # 코드가 실행\n",
    "\n",
    "else: # 만약 위의 모든 조건이 False 라면\n",
    "    실행코드3 # 코드가 실행\n",
    "```"
   ]
  },
  {
   "cell_type": "markdown",
   "metadata": {
    "id": "ZrpdNeaDQT8e"
   },
   "source": [
    "- if 문은 하나의 이벤트(사건)에 한번만 사용할 수 있다.\n",
    "- elif 문은 갯수의 제한 없이 사용 가능하다.\n",
    "- 조건식 혹은 명제 --> 참, 거짓을 판별할 수 있는 문장\n",
    "- 코드 실행의 결과가 `True`, `False`\n",
    "- `True`, `False`를 직접 사용가능하며 필요에 따라 조건연산을 사용한다.\n",
    "\n",
    ">> - a >= b\n",
    ">> - a <= b\n",
    ">> - a in b\n",
    ">> - a is b 등등"
   ]
  },
  {
   "cell_type": "markdown",
   "metadata": {
    "id": "-0iiQ_7HQT8f"
   },
   "source": [
    "### 간단한 if 구문"
   ]
  },
  {
   "cell_type": "code",
   "execution_count": null,
   "metadata": {
    "ExecuteTime": {
     "end_time": "2021-04-05T07:15:08.606748Z",
     "start_time": "2021-04-05T07:15:08.603333Z"
    },
    "id": "K5E1YsRxQT8f"
   },
   "outputs": [],
   "source": [
    "# 조건을 True, False\n",
    "# 조건이 참이면\n",
    "\n",
    "# if 키워드 아래 블럭 하나 안쪽의 코드가 실행\n",
    "\n",
    "# 위의 조건에 걸러지지 않았다면 조건이 거짓이라면\n",
    "\n",
    "# 아래 코드가 실행\n"
   ]
  },
  {
   "cell_type": "code",
   "execution_count": null,
   "metadata": {
    "ExecuteTime": {
     "end_time": "2021-04-05T07:15:41.429118Z",
     "start_time": "2021-04-05T07:15:41.425546Z"
    },
    "id": "SoAxUfsoQT8g"
   },
   "outputs": [],
   "source": [
    "# 조건식을 사용\n",
    "# 4가 3보다 크다면(조건연산) 참이면\n",
    "\n",
    "# 해당 코드가 실행\n"
   ]
  },
  {
   "cell_type": "code",
   "execution_count": null,
   "metadata": {
    "id": "pdUKaB1UQT8g"
   },
   "outputs": [],
   "source": [
    "# 변수와 elif 조건식을 사용\n"
   ]
  },
  {
   "cell_type": "markdown",
   "metadata": {
    "id": "9ReywelEQT8g"
   },
   "source": [
    "### 제어문의 흐름을 파악해보기"
   ]
  },
  {
   "cell_type": "code",
   "execution_count": null,
   "metadata": {
    "ExecuteTime": {
     "end_time": "2021-05-24T23:00:32.468554Z",
     "start_time": "2021-05-24T23:00:32.461557Z"
    },
    "id": "Lkbt9AA_QT8h"
   },
   "outputs": [],
   "source": [
    "# 코드의 실행 결과는 무엇이 출력될까요?\n",
    "\n",
    "print(1)\n",
    "if True:\n",
    "    print(2)\n",
    "    if False:\n",
    "        print(3)\n",
    "        print(4)\n",
    "    elif True:\n",
    "        print(5)\n",
    "        if True:\n",
    "            print(6)\n",
    "            print(7)\n",
    "            if False:\n",
    "                print(8)\n",
    "            elif True:\n",
    "                print(9)\n",
    "    else:\n",
    "        print(10)\n",
    "    if True:\n",
    "        print(11)\n",
    "    print(12)\n",
    "print(13)"
   ]
  },
  {
   "cell_type": "markdown",
   "metadata": {
    "id": "hXDehVPoQT8h"
   },
   "source": [
    "### 연습문제\n",
    "> 1. 간단한 스무고개 게임을 만들어봅시다.  \n",
    "컴퓨터와 플레이어를 변수로 만들고 두 값을 비교하여 업/다운/정답을 출력하는 프로그램을 만들어보겠습니다.\n",
    "\n",
    "> 2. 지난시간 우리는 변수와 데이터의 타입에 대해서 배웠습니다.  \n",
    "이번에는 방금 학습한 input함수를 사용하여 사용자로부터 키, 몸무게를 입력받아 변수에 저장하고  \n",
    "변수를 사용하여 bmi를 계산 후 아래 조건식에 따라 사용자의 체형을 출력해주는 프로그램을 작성해보겠습니다.  \n",
    ">>bmi = 체중(kg) / 키(m)^2  \n",
    "20 미만 - 저체중  \n",
    "20 ~ 24미만 - 표준체중  \n",
    "24 ~ 30미만 - 과체중  \n",
    "30 이상 - 비만  "
   ]
  },
  {
   "cell_type": "code",
   "execution_count": 13,
   "metadata": {
    "id": "_wlPfqIHQT8h"
   },
   "outputs": [
    {
     "name": "stdout",
     "output_type": "stream",
     "text": [
      "3 up\n",
      "4 up\n",
      "5 up\n",
      "70 up\n",
      "34 up\n",
      "90 down\n",
      "85 down\n",
      "84 down\n",
      "80 down\n",
      "76 up\n",
      "73 up\n",
      "78 down\n",
      "79 down\n",
      "77 정답입니다. 14번째만에 맞추셨습니다.\n"
     ]
    }
   ],
   "source": [
    "# 연습문제\n",
    "import random\n",
    "\n",
    "answer = int(random.random()*100)\n",
    "for n in range(20):\n",
    "    ask = int(input(f'{n+1} : 정답을 입력하세요 : '))\n",
    "    if answer == ask:\n",
    "        print(f\"{answer} 정답입니다. {n+1}번째만에 맞추셨습니다.\")\n",
    "        break\n",
    "    elif answer>ask:\n",
    "        print(f\"{ask} up\")\n",
    "    else:\n",
    "        print(f\"{ask} down\")\n",
    "else:\n",
    "    print(f\"정답을 못 맞추셨습니다. 정답은 {answer}입니다.\")"
   ]
  },
  {
   "cell_type": "code",
   "execution_count": 12,
   "outputs": [
    {
     "name": "stdout",
     "output_type": "stream",
     "text": [
      "bmi - 43은 비만입니다.\n"
     ]
    }
   ],
   "source": [
    "# bmi = 체중(kg) / 키(m)^2\n",
    "# 20 미만 - 저체중\n",
    "# 20 ~ 24미만 - 표준체중\n",
    "# 24 ~ 30미만 - 과체중\n",
    "# 30 이상 - 비만\n",
    "\n",
    "weight = float(input(\"체중을 입력해 주세요 - \"))\n",
    "height = float(input(\"키를 입력해 주세요 - \"))\n",
    "bmi = int(weight / pow(height/100,2))\n",
    "if bmi < 20:\n",
    "    print(f\"bmi - {bmi}은 저체중입니다.\")\n",
    "elif bmi < 24:\n",
    "    print(f\"bmi - {bmi}은 표준체중입니다.\")\n",
    "elif bmi < 30:\n",
    "    print(f\"bmi - {bmi}은 과체중입니다.\")\n",
    "else:\n",
    "    print(f\"bmi - {bmi}은 비만입니다.\")"
   ],
   "metadata": {
    "collapsed": false,
    "pycharm": {
     "name": "#%%\n"
    }
   }
  },
  {
   "cell_type": "markdown",
   "metadata": {
    "id": "7_PrIgvuQT8h"
   },
   "source": [
    "## for, break\n",
    "> - 코드의 반복적인 실행을 위한 구문  \n",
    "> - 반복실행해야 하는 범위가 있을 때 사용  \n",
    "> - 보통은 데이터의 갯수 혹은 분석하고자 하는 데이터의 범위 내에서 반복작업을 할 때 사용  \n",
    "> - **`if`** 문과 함께 주로 사용되는 반복구문  "
   ]
  },
  {
   "cell_type": "code",
   "execution_count": null,
   "metadata": {
    "id": "tDzv-HxWQT8i"
   },
   "outputs": [],
   "source": [
    "# 단순반복 작업을 효율적으로... 4개는 손으로 해도 10개 100개는 어떻게?\n",
    "print(1)\n",
    "print(2)\n",
    "print(3)\n",
    "print(4)"
   ]
  },
  {
   "cell_type": "markdown",
   "metadata": {
    "id": "VEijVYmRQT8i"
   },
   "source": [
    "### for 문의 구조\n",
    "```python\n",
    "for 반복자 in 반복범위: # 반복범위로 전달한 자료구조 혹은 범위 안에서 순환하며 반복자가 정의되며\n",
    "    반복실행코드 # 위의 for문 반복범위 횟수만큼 반복실행코드가 반복되어 실행된다.\n",
    "```"
   ]
  },
  {
   "cell_type": "markdown",
   "metadata": {
    "id": "iCgMl-ecQT8i"
   },
   "source": [
    "- 반복자 : 구간(범위)를 순환하며 정의되는 변수  \n",
    "- 반복범위 : **`list`** 등 순서가 존재하는 자료구조  \n",
    "- 관례적으로 심플한 반복자는 **`_`**(반복자를 작업에 사용하지 않을경우) 혹은 영문자 **`i`**(iterator)를 사용한다.  \n",
    "\n",
    "혹은 **`range()`** 명령어로 혹은 반복작업 횟수로 설정 가능      \n",
    "> **`range()`** 명령어  \n",
    "> **`range(횟수)`** 횟수만큼의 범위 생성  \n",
    "> **`range(x, y, z)`** x 부터 y-1 까지 z스텝 범위를 만들어주는 함수  "
   ]
  },
  {
   "cell_type": "code",
   "execution_count": null,
   "metadata": {
    "ExecuteTime": {
     "end_time": "2021-04-05T07:21:06.898363Z",
     "start_time": "2021-04-05T07:21:06.894599Z"
    },
    "id": "XyF0GCmRQT8i"
   },
   "outputs": [],
   "source": [
    "# 기본적인 for 구문 i(iterator 변수로서 사용 가능)\n",
    "\n",
    "    # 0 ~ 4까지 범위에서 i를 정의하며 반복한다.\n",
    "    # range() 명령어는 0부터 시작 5 전까지 구간을 생성\n",
    "    # 간단하게 5번 반복한다고 생각해도 무방합니다.\n"
   ]
  },
  {
   "cell_type": "code",
   "execution_count": null,
   "metadata": {
    "ExecuteTime": {
     "end_time": "2021-04-05T07:25:03.564327Z",
     "start_time": "2021-04-05T07:25:03.558955Z"
    },
    "id": "ccAuv2eSQT8i"
   },
   "outputs": [],
   "source": [
    "# 이터레이터 i를 조금 더 이해해보겠습니다.\n",
    "# 필요없을 것 같은 이 i라는 친구가 굉장히 유용합니다.\n",
    "\n",
    "# for 반복문을 수행하면서 i 값이 변화하고 반복문 내 변수로도 사용 가능합니다."
   ]
  },
  {
   "cell_type": "code",
   "execution_count": null,
   "metadata": {
    "ExecuteTime": {
     "end_time": "2021-04-05T07:26:31.365329Z",
     "start_time": "2021-04-05T07:26:31.361908Z"
    },
    "id": "iROqkUrYQT8i"
   },
   "outputs": [],
   "source": [
    "# range 함수의 조건 추가\n",
    "# 0부터 19까지 5의 배수만을 출력\n"
   ]
  },
  {
   "cell_type": "code",
   "execution_count": null,
   "metadata": {
    "id": "BNPgTrqsQT8i"
   },
   "outputs": [],
   "source": [
    "# for문의 중첩\n"
   ]
  },
  {
   "cell_type": "markdown",
   "metadata": {
    "id": "asDKYBNrQT8j"
   },
   "source": [
    "### 연습문제"
   ]
  },
  {
   "cell_type": "code",
   "execution_count": null,
   "metadata": {
    "ExecuteTime": {
     "end_time": "2021-04-05T08:02:23.021987Z",
     "start_time": "2021-04-05T08:02:23.017333Z"
    },
    "id": "5XPVHpSbQT8j"
   },
   "outputs": [],
   "source": [
    "# for 문으로 range() 명령어만을 사용하여 구구단 구단을 출력해봅시다.\n"
   ]
  },
  {
   "cell_type": "markdown",
   "metadata": {
    "id": "ckZQbEivQT8j"
   },
   "source": [
    "### break 구문\n",
    "    반복 작업 중 작업을 종료해야 할 때 사용"
   ]
  },
  {
   "cell_type": "code",
   "execution_count": null,
   "metadata": {
    "ExecuteTime": {
     "end_time": "2021-04-05T07:23:14.546351Z",
     "start_time": "2021-04-05T07:23:14.541946Z"
    },
    "id": "jYbpkFeiQT8j"
   },
   "outputs": [],
   "source": [
    "# 반복을 진행하다가 멈추고 싶다\n",
    "# 10번 반복\n",
    "\n",
    "# if문으로 조건식 생성\n"
   ]
  },
  {
   "cell_type": "markdown",
   "metadata": {
    "id": "Rxdcj4qnQT8j"
   },
   "source": [
    "### 자료구조를 순환하는 for문의 활용(매우 중요)"
   ]
  },
  {
   "cell_type": "code",
   "execution_count": null,
   "metadata": {
    "ExecuteTime": {
     "end_time": "2021-04-05T07:26:40.317409Z",
     "start_time": "2021-04-05T07:26:40.312727Z"
    },
    "id": "M8xjOm3YQT8j"
   },
   "outputs": [],
   "source": [
    "# 횟수뿐 아니라 구간이 정해져 있는 데이터를 순환하면서도 작업가능\n",
    "# 실제 분석에서도 가장 많이 사용하는 형태가 됩니다.\n",
    "test_list = [1, 2, 3, 4, 5, 6, 7, 8, 9]\n",
    "# test_list 내부를 순환하면서 i를 정의\n"
   ]
  },
  {
   "cell_type": "code",
   "execution_count": null,
   "metadata": {
    "ExecuteTime": {
     "end_time": "2021-04-05T07:27:31.332400Z",
     "start_time": "2021-04-05T07:27:31.326357Z"
    },
    "id": "HzeliRX_QT8j"
   },
   "outputs": [],
   "source": [
    "# 횟수뿐 아니라 구간이 정해져 있는 데이터를 순환하면서도 작업가능\n",
    "test_list = ['서울', '용산구', '해방촌', '르카페', '재즈', '치즈', '요리']\n",
    "# enumerate() 함수안의 자료구조의 인덱스와 함께 루프\n"
   ]
  },
  {
   "cell_type": "code",
   "execution_count": 16,
   "metadata": {
    "ExecuteTime": {
     "end_time": "2021-04-05T07:27:57.621556Z",
     "start_time": "2021-04-05T07:27:57.616251Z"
    },
    "id": "2jocHUYGQT8j"
   },
   "outputs": [
    {
     "name": "stdout",
     "output_type": "stream",
     "text": [
      "이름 변치웅\n",
      "사는곳 서울 용산구\n",
      "사는동네 해방촌\n",
      "좋아하는 카페 르카페\n",
      "음악 재즈\n",
      "반려묘 치즈\n",
      "취미 요리\n"
     ]
    }
   ],
   "source": [
    "# 횟수뿐 아니라 구간이 정해져 있는 데이터를 순환하면서도 작업가능\n",
    "test_list1 = ['이름', '사는곳', '사는동네', '좋아하는 카페', '음악', '반려묘', '취미']\n",
    "test_list2 = ['변치웅', '서울 용산구', '해방촌', '르카페', '재즈', '치즈', '요리']\n",
    "for item1, item2 in zip(test_list1, test_list2):\n",
    "    print(item1, item2)"
   ]
  },
  {
   "cell_type": "code",
   "execution_count": null,
   "metadata": {
    "id": "eRDLAHNEQT8k"
   },
   "outputs": [],
   "source": [
    "# 폴더구조를 순환하는 for문의 활용\n"
   ]
  },
  {
   "cell_type": "code",
   "execution_count": null,
   "metadata": {
    "ExecuteTime": {
     "end_time": "2021-04-05T07:28:02.968382Z",
     "start_time": "2021-04-05T07:28:02.959264Z"
    },
    "id": "bVWW-vRtQT8k"
   },
   "outputs": [],
   "source": [
    "# 그렇다면 미리 정해진 숫자 혹은 데이터로만 사용이 가능할까?\n",
    "# 생성할 때도 용이함\n"
   ]
  },
  {
   "cell_type": "code",
   "execution_count": null,
   "metadata": {
    "ExecuteTime": {
     "end_time": "2021-04-05T08:07:13.245239Z",
     "start_time": "2021-04-05T08:07:11.624590Z"
    },
    "id": "qnFflrk6QT8k"
   },
   "outputs": [],
   "source": [
    "# 입력받은 숫자까지 의 합을 계산해주는 코드를 작성해 봅시다.\n"
   ]
  },
  {
   "cell_type": "markdown",
   "metadata": {
    "id": "lfXIuXgYQT8k"
   },
   "source": [
    "### list comprehension\n",
    "> - controlflow를 활용하여 간단하게 리스트 생성 가능한 파이썬 구문  \n",
    "> - 데이터의 특정 부분만을 따로 변수로 사용하고자 할 때 굉장히 많이 사용하는 파이썬 코딩스킬"
   ]
  },
  {
   "cell_type": "code",
   "execution_count": null,
   "metadata": {
    "ExecuteTime": {
     "end_time": "2021-04-05T08:09:19.915465Z",
     "start_time": "2021-04-05T08:09:19.911111Z"
    },
    "id": "E6LoEpGxQT8k"
   },
   "outputs": [],
   "source": [
    "# 심플한 리스트 컴프리헨션 구문\n"
   ]
  },
  {
   "cell_type": "code",
   "execution_count": null,
   "metadata": {
    "id": "x78_Uh1ZQT8k"
   },
   "outputs": [],
   "source": [
    "# if문이 추가된 리스트 컴프리헨션 구문\n"
   ]
  },
  {
   "cell_type": "code",
   "execution_count": null,
   "metadata": {
    "id": "f05QnL1UQT8k"
   },
   "outputs": [],
   "source": [
    "# if, else문이 추가된 리스트 컴프리헨션 구문(elif 불가)\n"
   ]
  },
  {
   "cell_type": "code",
   "execution_count": null,
   "metadata": {
    "ExecuteTime": {
     "end_time": "2021-04-05T08:10:58.293639Z",
     "start_time": "2021-04-05T08:10:58.287914Z"
    },
    "id": "e4DetVmRQT8k"
   },
   "outputs": [],
   "source": [
    "# 위 코드를 풀어쓴다면?\n",
    "# 여러줄의 반복문과 조건문을 사용해야하지만 이를 한줄로 커버\n"
   ]
  },
  {
   "cell_type": "markdown",
   "metadata": {
    "id": "gKjR8pknQT8k"
   },
   "source": [
    "### dictionary comprehension"
   ]
  },
  {
   "cell_type": "code",
   "execution_count": 20,
   "metadata": {
    "id": "3mx2aAJ_QT8l"
   },
   "outputs": [
    {
     "name": "stdout",
     "output_type": "stream",
     "text": [
      "{'이름': '변치웅', '사는곳': '서울 용산구', '사는동네': '해방촌', '좋아하는 카페': '르카페', '음악': '재즈', '반려묘': '치즈', '취미': '요리'}\n",
      "{'변치웅': '이름', '서울 용산구': '사는곳', '해방촌': '사는동네', '르카페': '좋아하는 카페', '재즈': '음악', '치즈': '반려묘', '요리': '취미'}\n"
     ]
    }
   ],
   "source": [
    "# 간단한 딕셔너리 축약 구문\n",
    "test_list1 = ['이름', '사는곳', '사는동네', '좋아하는 카페', '음악', '반려묘', '취미']\n",
    "test_list2 = ['변치웅', '서울 용산구', '해방촌', '르카페', '재즈', '치즈', '요리']\n",
    "\n",
    "a= {item1:item2 for item1, item2 in zip(test_list1, test_list2)}\n",
    "b= {item2:item1 for item1, item2 in zip(test_list1, test_list2)}\n",
    "print(a)\n",
    "print(b)"
   ]
  },
  {
   "cell_type": "markdown",
   "metadata": {
    "id": "VcUlhWBQQT8l"
   },
   "source": [
    "## while\n",
    "> - 코드의 무한 반복적인 실행을 위한 반복문  \n",
    "> - 조건식이 참일 경우 실행코드가 무한반복하여 실행 됨  \n",
    "> - 보통은 프로그램을 실행 대기상태로 두거나 입력값을 받는 등의 용도로 사용.(데이터 분석 사용빈도 낮음)  "
   ]
  },
  {
   "cell_type": "markdown",
   "metadata": {
    "id": "wPxRLCARQT8l"
   },
   "source": [
    "### while문의 구조\n",
    "```python\n",
    "while 조건식: # 조건식이 참이라면\n",
    "    실행코드 # 실행코드가 무한반복 실행 됨\n",
    "```"
   ]
  },
  {
   "cell_type": "markdown",
   "metadata": {
    "id": "iPftJcREQT8l"
   },
   "source": [
    "- `while` 문의 조건식이 참일 경우 무조건 실행되게끔 짜여진 구조.  \n",
    "- `while` 문을 사용 할 때에는 반복구문을 어떻게 종료 해야할지 설정해야 함."
   ]
  },
  {
   "cell_type": "code",
   "execution_count": null,
   "metadata": {
    "ExecuteTime": {
     "end_time": "2021-03-22T04:54:04.040031Z",
     "start_time": "2021-03-22T04:53:55.699326Z"
    },
    "scrolled": false,
    "id": "WFM4aLUOQT8l"
   },
   "outputs": [],
   "source": [
    "# 기본적인 while 구문\n",
    "# for문과는 달리 조건식을 while 구문 바로 뒤에 적어줌\n",
    "# while문의 무한루프를 컨트롤 하기위한 변수 설정하고 조건식을 추가하여 코드실행을 컨트롤\n",
    "\n",
    "# 반복을 진행하다가 멈추고 싶다\n",
    "    #a += 1\n",
    "    #if a > 50:\n",
    "    #    break"
   ]
  },
  {
   "cell_type": "code",
   "execution_count": null,
   "metadata": {
    "ExecuteTime": {
     "end_time": "2021-04-05T08:16:44.604031Z",
     "start_time": "2021-04-05T08:16:44.599085Z"
    },
    "id": "rlFvCAe5QT8m"
   },
   "outputs": [],
   "source": [
    "# 1~10까지 출력되도록\n",
    "# while문\n"
   ]
  },
  {
   "cell_type": "code",
   "execution_count": null,
   "metadata": {
    "ExecuteTime": {
     "end_time": "2021-04-05T08:16:57.346496Z",
     "start_time": "2021-04-05T08:16:57.342624Z"
    },
    "id": "5lnP0SGYQT8m"
   },
   "outputs": [],
   "source": [
    "# 10~1까지 출력되도록\n",
    "# while문\n"
   ]
  },
  {
   "cell_type": "code",
   "execution_count": null,
   "metadata": {
    "ExecuteTime": {
     "end_time": "2021-04-05T08:17:10.730255Z",
     "start_time": "2021-04-05T08:17:10.726135Z"
    },
    "id": "D7TkjNvRQT8m"
   },
   "outputs": [],
   "source": [
    "# 1~5까지의 합을 구해서 출력\n",
    "# while문\n"
   ]
  },
  {
   "cell_type": "code",
   "execution_count": null,
   "metadata": {
    "ExecuteTime": {
     "end_time": "2021-04-05T08:17:20.739782Z",
     "start_time": "2021-04-05T08:17:20.735999Z"
    },
    "id": "fnjjlDkiQT8m"
   },
   "outputs": [],
   "source": [
    "# 1~100까지의 합\n",
    "# while 문\n"
   ]
  },
  {
   "cell_type": "code",
   "execution_count": null,
   "metadata": {
    "ExecuteTime": {
     "end_time": "2021-04-05T08:17:21.729200Z",
     "start_time": "2021-04-05T08:17:21.725648Z"
    },
    "id": "P8u-i5nyQT8m"
   },
   "outputs": [],
   "source": [
    "# for문\n"
   ]
  },
  {
   "cell_type": "code",
   "execution_count": null,
   "metadata": {
    "ExecuteTime": {
     "end_time": "2021-04-05T08:18:14.519540Z",
     "start_time": "2021-04-05T08:18:14.515940Z"
    },
    "id": "cfZQ5cpJQT8m"
   },
   "outputs": [],
   "source": [
    "# 1~100까지의 정수 중에서 홀수들의 합\n",
    "# while문\n"
   ]
  },
  {
   "cell_type": "code",
   "execution_count": null,
   "metadata": {
    "ExecuteTime": {
     "end_time": "2021-04-05T08:18:14.761348Z",
     "start_time": "2021-04-05T08:18:14.757721Z"
    },
    "id": "TPJ41GuvQT8n"
   },
   "outputs": [],
   "source": [
    "# for문\n"
   ]
  },
  {
   "cell_type": "code",
   "execution_count": null,
   "metadata": {
    "ExecuteTime": {
     "end_time": "2021-04-05T08:18:38.175746Z",
     "start_time": "2021-04-05T08:18:38.171754Z"
    },
    "id": "7DkKGLiLQT8n"
   },
   "outputs": [],
   "source": [
    "# 1~100까지의 정수 중에서 짝수들의 합\n",
    "# while문\n"
   ]
  },
  {
   "cell_type": "code",
   "execution_count": null,
   "metadata": {
    "ExecuteTime": {
     "end_time": "2021-04-05T08:18:38.414017Z",
     "start_time": "2021-04-05T08:18:38.410225Z"
    },
    "id": "S27wRDILQT8n"
   },
   "outputs": [],
   "source": [
    "# for문\n"
   ]
  },
  {
   "cell_type": "markdown",
   "metadata": {
    "id": "xe4LmO6rQT8n"
   },
   "source": [
    "### 연습문제\n",
    ">간단한 스무고개 게임 업그레이드 버전  \n",
    "컴퓨터가 저장 할 숫자를 사용자에게 입력받아 저장하고, 게이머에게 입력받은 숫자를 판별하여 업, 다운, 정답을 출력.   \n",
    "게임 횟수는 10회이며, 10회 동안 정답을 못 맞출 경우 실패 문구를 출력하도록 프로그램을 만들어 보겠습니다."
   ]
  },
  {
   "cell_type": "code",
   "execution_count": null,
   "metadata": {
    "id": "7_MKZP_2QT8n"
   },
   "outputs": [],
   "source": [
    "# 연습문제\n"
   ]
  },
  {
   "cell_type": "markdown",
   "metadata": {
    "id": "psg-1nDOQT8n"
   },
   "source": [
    "### 연습문제\n",
    ">간단한 ATM기 시스템을 만들어보겠습니다.\n",
    "\n",
    ">>사용자로부터 메뉴를 입력받습니다.\n",
    ">> 1. 입금\n",
    ">> 2. 출금\n",
    ">> 3. 잔액확인\n",
    ">> 4. 종료\n",
    "\n",
    ">입력받은 메뉴에 따라 계좌잔액에 입금과 출금을 적용하고 잔액을 출력해봅시다.\n",
    "종료메뉴는 while 문을 빠져나오도록 프로그램을 종료시킵니다."
   ]
  },
  {
   "cell_type": "code",
   "execution_count": null,
   "metadata": {
    "ExecuteTime": {
     "end_time": "2021-08-03T05:14:03.847339Z",
     "start_time": "2021-08-03T05:14:03.844455Z"
    },
    "id": "1RL1S3VcQT8n"
   },
   "outputs": [],
   "source": [
    "# 연습문제\n"
   ]
  },
  {
   "cell_type": "markdown",
   "metadata": {
    "id": "_-TOKob7QT8o"
   },
   "source": [
    "## **try, except(오류처리 혹은 예외처리)**\n",
    ">**`try`**, **`except`** 구문은 오류 발생가능성이 있는 구문을 처리하거나  \n",
    "반드시 오류가 발생하는 구문을 감싸 정상적인 프로그램 흐름이 이어질 수 있도록 처리하는 예외처리 구문입니다.\n",
    "\n",
    "```python\n",
    "try:\n",
    "    처리하고 싶은 코드\n",
    "    \n",
    "except 오류명:\n",
    "    try로 처리하지 못한 작업을 처리하기 위한 코드\n",
    "```"
   ]
  },
  {
   "cell_type": "code",
   "execution_count": null,
   "metadata": {
    "ExecuteTime": {
     "end_time": "2021-04-21T11:58:00.463575Z",
     "start_time": "2021-04-21T11:58:00.368854Z"
    },
    "id": "36Pzy148QT8o"
   },
   "outputs": [],
   "source": [
    "# 정의되지 않은 변수 호출\n",
    "name_name"
   ]
  },
  {
   "cell_type": "code",
   "execution_count": null,
   "metadata": {
    "ExecuteTime": {
     "end_time": "2021-04-21T11:58:18.573958Z",
     "start_time": "2021-04-21T11:58:18.567171Z"
    },
    "id": "2_M_TRL2QT8o"
   },
   "outputs": [],
   "source": [
    "# 연산이 불가능\n",
    "'hi' / 10"
   ]
  },
  {
   "cell_type": "code",
   "execution_count": null,
   "metadata": {
    "ExecuteTime": {
     "end_time": "2021-04-21T11:58:25.947665Z",
     "start_time": "2021-04-21T11:58:25.941240Z"
    },
    "id": "ERELf50DQT8o"
   },
   "outputs": [],
   "source": [
    "# 0으로 못나눔\n",
    "0 / 0"
   ]
  },
  {
   "cell_type": "code",
   "execution_count": null,
   "metadata": {
    "ExecuteTime": {
     "end_time": "2021-04-21T11:58:38.908827Z",
     "start_time": "2021-04-21T11:58:38.901662Z"
    },
    "id": "IinLqq6MQT8o"
   },
   "outputs": [],
   "source": [
    "# 인덱스 오류\n",
    "test_list = [1, 2, 3, 4, 5]\n",
    "test_list[5]"
   ]
  },
  {
   "cell_type": "markdown",
   "metadata": {
    "ExecuteTime": {
     "end_time": "2022-06-21T10:41:27.131649Z",
     "start_time": "2022-06-21T10:41:27.124848Z"
    },
    "id": "oKRfIgFGQT8o"
   },
   "source": [
    "### 여러가지 에러를 발생시키고 이를 예외로 처리하기"
   ]
  },
  {
   "cell_type": "code",
   "execution_count": null,
   "metadata": {
    "ExecuteTime": {
     "end_time": "2022-05-01T14:39:26.694619Z",
     "start_time": "2022-05-01T14:39:24.376546Z"
    },
    "id": "XiNbl-h9QT8o"
   },
   "outputs": [],
   "source": [
    "# 여러가지 에러를 발생시키고 이를 예외로 처리하기\n",
    "# 리스트 순환\n"
   ]
  },
  {
   "cell_type": "code",
   "execution_count": null,
   "metadata": {
    "ExecuteTime": {
     "end_time": "2022-06-21T10:43:01.932128Z",
     "start_time": "2022-06-21T10:42:58.092283Z"
    },
    "id": "Ajxv-2_EQT8p"
   },
   "outputs": [],
   "source": [
    "# 코드 실행 중 발생가능한 오류를 처리하기\n",
    "text = '''\n",
    "이 프로그램은 입력받는 숫자 다섯개의 합의 제곱을 출력하는 프로그램입니다.\n",
    "'''\n",
    "print(text)\n",
    "total = []\n",
    "for i in range(5):\n",
    "    num = int(input('합을 계산 할 숫자를 입력하세요 : '))\n",
    "    total.append(num)\n",
    "print(sum(total) ** 2)"
   ]
  },
  {
   "cell_type": "code",
   "execution_count": null,
   "metadata": {
    "id": "NCX9hXwGQT8p"
   },
   "outputs": [],
   "source": []
  },
  {
   "cell_type": "code",
   "execution_count": null,
   "metadata": {
    "id": "oVhkyFrtQT8p"
   },
   "outputs": [],
   "source": []
  },
  {
   "cell_type": "code",
   "execution_count": null,
   "metadata": {
    "id": "vFZcyE1vQT8p"
   },
   "outputs": [],
   "source": []
  },
  {
   "cell_type": "code",
   "execution_count": null,
   "metadata": {
    "id": "1k_dv5U2QT8p"
   },
   "outputs": [],
   "source": []
  },
  {
   "cell_type": "code",
   "execution_count": null,
   "metadata": {
    "id": "mYCMucdCQT8p"
   },
   "outputs": [],
   "source": []
  },
  {
   "cell_type": "code",
   "execution_count": null,
   "metadata": {
    "id": "CQV_siJUQT8p"
   },
   "outputs": [],
   "source": []
  },
  {
   "cell_type": "code",
   "execution_count": null,
   "metadata": {
    "id": "VdOkmZKMQT8p"
   },
   "outputs": [],
   "source": []
  },
  {
   "cell_type": "code",
   "execution_count": null,
   "metadata": {
    "id": "l81CnRVYQT8q"
   },
   "outputs": [],
   "source": []
  },
  {
   "cell_type": "code",
   "execution_count": null,
   "metadata": {
    "id": "Nt_Fd3BkQT8q"
   },
   "outputs": [],
   "source": []
  },
  {
   "cell_type": "code",
   "execution_count": null,
   "metadata": {
    "id": "bKbdQU-bQT8q"
   },
   "outputs": [],
   "source": []
  },
  {
   "cell_type": "code",
   "execution_count": null,
   "metadata": {
    "id": "Hg2Wn2YUQT8q"
   },
   "outputs": [],
   "source": []
  },
  {
   "cell_type": "code",
   "execution_count": null,
   "metadata": {
    "id": "Sb42tXfSQT8q"
   },
   "outputs": [],
   "source": []
  },
  {
   "cell_type": "code",
   "execution_count": null,
   "metadata": {
    "id": "bhYZ3IOrQT8q"
   },
   "outputs": [],
   "source": []
  },
  {
   "cell_type": "code",
   "execution_count": null,
   "metadata": {
    "id": "FM9mhIwqQT8q"
   },
   "outputs": [],
   "source": []
  },
  {
   "cell_type": "code",
   "execution_count": null,
   "metadata": {
    "id": "B9BDwdWiQT8q"
   },
   "outputs": [],
   "source": []
  },
  {
   "cell_type": "code",
   "execution_count": null,
   "metadata": {
    "id": "NUnm6SUSQT8r"
   },
   "outputs": [],
   "source": []
  },
  {
   "cell_type": "code",
   "execution_count": null,
   "metadata": {
    "id": "tS71KmF_QT8r"
   },
   "outputs": [],
   "source": []
  },
  {
   "cell_type": "code",
   "execution_count": null,
   "metadata": {
    "id": "x-neYjh2QT8r"
   },
   "outputs": [],
   "source": []
  },
  {
   "cell_type": "code",
   "execution_count": null,
   "metadata": {
    "id": "KrMv00jNQT8r"
   },
   "outputs": [],
   "source": []
  },
  {
   "cell_type": "code",
   "execution_count": null,
   "metadata": {
    "id": "cdSKX7MrQT8r"
   },
   "outputs": [],
   "source": []
  },
  {
   "cell_type": "code",
   "execution_count": null,
   "metadata": {
    "id": "NI4y7ENIQT8r"
   },
   "outputs": [],
   "source": []
  },
  {
   "cell_type": "code",
   "execution_count": null,
   "metadata": {
    "id": "lzl_UoQCQT8r"
   },
   "outputs": [],
   "source": []
  },
  {
   "cell_type": "code",
   "execution_count": null,
   "metadata": {
    "id": "2xk-xMy7QT8r"
   },
   "outputs": [],
   "source": []
  },
  {
   "cell_type": "code",
   "execution_count": null,
   "metadata": {
    "id": "2EMMLct2QT8r"
   },
   "outputs": [],
   "source": []
  },
  {
   "cell_type": "code",
   "execution_count": null,
   "metadata": {
    "id": "o-AyPoIGQT8s"
   },
   "outputs": [],
   "source": []
  },
  {
   "cell_type": "code",
   "execution_count": null,
   "metadata": {
    "id": "Xxs3QGFQQT8s"
   },
   "outputs": [],
   "source": []
  },
  {
   "cell_type": "code",
   "execution_count": null,
   "metadata": {
    "id": "OC3NJ9a3QT8s"
   },
   "outputs": [],
   "source": []
  },
  {
   "cell_type": "code",
   "execution_count": null,
   "metadata": {
    "id": "eNx4nXlnQT8s"
   },
   "outputs": [],
   "source": []
  },
  {
   "cell_type": "code",
   "execution_count": null,
   "metadata": {
    "id": "lFRM6AaRQT8s"
   },
   "outputs": [],
   "source": []
  },
  {
   "cell_type": "code",
   "execution_count": null,
   "metadata": {
    "id": "yw-1DKFCQT8s"
   },
   "outputs": [],
   "source": []
  },
  {
   "cell_type": "code",
   "execution_count": null,
   "metadata": {
    "id": "_EGTXZYXQT8s"
   },
   "outputs": [],
   "source": []
  },
  {
   "cell_type": "code",
   "execution_count": null,
   "metadata": {
    "id": "LrgQZGleQT8s"
   },
   "outputs": [],
   "source": []
  },
  {
   "cell_type": "code",
   "execution_count": null,
   "metadata": {
    "ExecuteTime": {
     "end_time": "2021-04-21T04:17:36.624645Z",
     "start_time": "2021-04-21T04:17:34.606371Z"
    },
    "id": "VjiVdyxvQT8s"
   },
   "outputs": [],
   "source": [
    "while True:\n",
    "    name = input('입력 : ')\n",
    "    if not name:\n",
    "        break"
   ]
  },
  {
   "cell_type": "code",
   "execution_count": null,
   "metadata": {
    "id": "pFkWZK9tQT8t"
   },
   "outputs": [],
   "source": [
    "name = input('이름을 입력하세요 : ')\n",
    "height = input('키를 입력하세요 : ')\n",
    "height = float(height) / 100\n",
    "weight = input('몸무게를 입력하세요 : ')\n",
    "weight = float(weight)\n",
    "bmi = weight / (height * height)\n",
    "\n",
    "print(f'{name}님의 bmi 지수는 {bmi}입니다.')\n",
    "if bmi < 20:\n",
    "    print('bmi에 따라 구분한 체중은 저체중입니다.')\n",
    "elif 20 <= bmi < 24:\n",
    "    print('bmi에 따라 구분한 체중은 표준체중입니다.')\n",
    "elif 24 <= bmi < 30:\n",
    "    print('bmi에 따라 구분한 체중은 과체중입니다.')\n",
    "else:\n",
    "    print('bmi에 따라 구분한 체중은 비만입니다.')"
   ]
  },
  {
   "cell_type": "code",
   "execution_count": null,
   "metadata": {
    "id": "uwtfElpdQT8t"
   },
   "outputs": [],
   "source": [
    "total = 0\n",
    "number = input('합을 계산할 숫자(정수)를 입력해주세요 : ')\n",
    "number = int(number)\n",
    "for i in range(number+1):\n",
    "    total = total + i\n",
    "\n",
    "print(total)"
   ]
  },
  {
   "cell_type": "code",
   "execution_count": null,
   "metadata": {
    "id": "yR27qBU9QT8t"
   },
   "outputs": [],
   "source": [
    "computer = input('컴퓨터의 저장 숫자를 입력하세요 : ')\n",
    "computer = int(computer)\n",
    "for i in range(10):\n",
    "    gamer = input('컴퓨터의 숫자를 맞춰보세요 : ')\n",
    "    gamer = int(gamer)\n",
    "    if computer > gamer:\n",
    "        print('업')\n",
    "    elif computer < gamer:\n",
    "        print('다운')\n",
    "    elif computer == gamer:\n",
    "        print('정답입니다.')\n",
    "        break\n",
    "if i == 9:\n",
    "    print('실패입니다.')"
   ]
  },
  {
   "cell_type": "code",
   "execution_count": null,
   "metadata": {
    "id": "Mg59rXAuQT8t"
   },
   "outputs": [],
   "source": [
    "for i in range(2, 10):\n",
    "    for j in range(1, 10):\n",
    "        print(f'{i} X {j} = {i*j}')"
   ]
  },
  {
   "cell_type": "code",
   "execution_count": null,
   "metadata": {
    "id": "A4cM6Pv5QT8t"
   },
   "outputs": [],
   "source": [
    "while True:\n",
    "    computer = input('컴퓨터의 저장 숫자를 입력하세요 : ')\n",
    "    computer = int(computer)\n",
    "    for i in range(10):\n",
    "        gamer = input('컴퓨터의 숫자를 맞춰보세요 : ')\n",
    "        gamer = int(gamer)\n",
    "        if computer > gamer:\n",
    "            print('업')\n",
    "        elif computer < gamer:\n",
    "            print('다운')\n",
    "        elif computer == gamer:\n",
    "            print('정답입니다.')\n",
    "            break\n",
    "    if i == 9:\n",
    "        print('실패입니다.')"
   ]
  },
  {
   "cell_type": "code",
   "execution_count": null,
   "metadata": {
    "ExecuteTime": {
     "end_time": "2021-04-22T02:04:54.559176Z",
     "start_time": "2021-04-22T02:04:54.552843Z"
    },
    "id": "buuykQJGQT8t"
   },
   "outputs": [],
   "source": [
    "def atm():\n",
    "    balance = 0\n",
    "    while True:\n",
    "\n",
    "        print()\n",
    "        print('어서오세요 fitror 뱅크입니다.')\n",
    "        print('원하시는 서비스 메뉴를 선택해주세요.')\n",
    "        print('---------------------------')\n",
    "        print('1. 입금')\n",
    "        print('2. 출금')\n",
    "        print('3. 잔액확인')\n",
    "        print('4. 종료')\n",
    "        print('---------------------------')\n",
    "        print()\n",
    "\n",
    "        menu = input('메뉴를 입력해주세요 : ')\n",
    "        menu = int(menu)\n",
    "        if menu == 1:\n",
    "            saving = input('입금하실 금액을 입력해주세요 : ')\n",
    "            saving = int(saving)\n",
    "            balance = balance + saving\n",
    "        elif menu == 2:\n",
    "            withdrow = input('출금하실 금액을 입력해주세요 : ')\n",
    "            withdrow = int(withdrow)\n",
    "            balance = balance - withdrow\n",
    "        elif menu == 3:\n",
    "            print(f'계좌 잔액은 {balance}원 입니다.')\n",
    "        elif menu == 4:\n",
    "            print()\n",
    "            print('이용해주셔서 감사합니다.')\n",
    "            print()\n",
    "            break\n",
    "        else:\n",
    "            print('메뉴입력이 잘못 되었습니다. 메뉴를 다시 선택해주세요.')"
   ]
  },
  {
   "cell_type": "code",
   "execution_count": null,
   "metadata": {
    "id": "YCErYpYbQT8u"
   },
   "outputs": [],
   "source": [
    "try:\n",
    "    atm()\n",
    "except (ValueError, IndexError):\n",
    "    pass"
   ]
  }
 ],
 "metadata": {
  "kernelspec": {
   "display_name": "Python 3 (ipykernel)",
   "language": "python",
   "name": "python3"
  },
  "language_info": {
   "codemirror_mode": {
    "name": "ipython",
    "version": 3
   },
   "file_extension": ".py",
   "mimetype": "text/x-python",
   "name": "python",
   "nbconvert_exporter": "python",
   "pygments_lexer": "ipython3",
   "version": "3.8.12"
  },
  "toc": {
   "base_numbering": 1,
   "nav_menu": {},
   "number_sections": true,
   "sideBar": true,
   "skip_h1_title": true,
   "title_cell": "Table of Contents",
   "title_sidebar": "Contents",
   "toc_cell": false,
   "toc_position": {},
   "toc_section_display": true,
   "toc_window_display": false
  },
  "varInspector": {
   "cols": {
    "lenName": 16,
    "lenType": 16,
    "lenVar": 40
   },
   "kernels_config": {
    "python": {
     "delete_cmd_postfix": "",
     "delete_cmd_prefix": "del ",
     "library": "var_list.py",
     "varRefreshCmd": "print(var_dic_list())"
    },
    "r": {
     "delete_cmd_postfix": ") ",
     "delete_cmd_prefix": "rm(",
     "library": "var_list.r",
     "varRefreshCmd": "cat(var_dic_list()) "
    }
   },
   "types_to_exclude": [
    "module",
    "function",
    "builtin_function_or_method",
    "instance",
    "_Feature"
   ],
   "window_display": false
  },
  "colab": {
   "provenance": [
    {
     "file_id": "16vCh_VmN0-cceXxs7maqEn-eV2uYetyw",
     "timestamp": 1690443175130
    }
   ]
  }
 },
 "nbformat": 4,
 "nbformat_minor": 0
}