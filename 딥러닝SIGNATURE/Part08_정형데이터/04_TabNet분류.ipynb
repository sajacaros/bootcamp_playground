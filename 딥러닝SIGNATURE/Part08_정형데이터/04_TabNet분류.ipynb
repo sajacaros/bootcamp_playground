{
 "nbformat": 4,
 "nbformat_minor": 0,
 "metadata": {
  "colab": {
   "provenance": [],
   "collapsed_sections": [],
   "toc_visible": true,
   "authorship_tag": "ABX9TyMQ1oVVmc4qzqZJMXphX6Cn"
  },
  "kernelspec": {
   "name": "python3",
   "display_name": "Python 3"
  },
  "language_info": {
   "name": "python"
  }
 },
 "cells": [
  {
   "cell_type": "markdown",
   "source": [
    "# **[Chapter 04] TabNet 활용 분류**  \n",
    "**┗ 데이터 직군 이직 예측**\n",
    "---\n",
    "> **목차(Context)**\n",
    "\n",
    "* 문제상황 및 데이터 살펴보기\n",
    "* 문제해결 프로세스 정의\n",
    "* 🥉Session 1 - 「Data 전처리 및 EDA」\n",
    "* 🥈Session 2 - 「가설 수립 및 검증」\n",
    "* 🥇Session 3 - 「TabNet 활용 이직 예측」"
   ],
   "metadata": {
    "id": "BSCS-JV4lmeD"
   }
  },
  {
   "cell_type": "markdown",
   "source": [
    "## **문제상황 및 데이터 살펴보기**\n",
    "---\n",
    "> **시나리오** 👍\n",
    "\n",
    "```\n",
    "A사는 이커머스 사업을 확대함에 있어 데이터 분석을 위한 신규 경력사원들을 대거 채용했다. 6개월 정도는 신규 부서의 운영이 원할하게  \n",
    "진행되었으나 6개월 이후부터 이직을 하는 직원들이 자주 발생하기 시작했다. 데이터 직군 특성상 현업에서 수요가 많고 공급이 적기 때문에 당연한  \n",
    "수순이라고 생각했지만 기업 입장에서는 큰 타격을 입고 있다. 이에 채용된 직원 대상으로 이직 가능성이 높은 직원들을 예측하고 사전에 이직  \n",
    "방어활동을 전개하려고 한다.\n",
    "\n",
    "```  "
   ],
   "metadata": {
    "id": "7_NkVaPbYFa8"
   }
  },
  {
   "cell_type": "markdown",
   "source": [
    "> **데이터 살펴보기**\n",
    "\n",
    "* 데이터 직군 경력사원 Demo 정보\n",
    "* 데이터 명세 ⬇ \n",
    "* https://www.kaggle.com/datasets/arashnic/hr-analytics-job-change-of-data-scientists?select=aug_train.csv\n",
    "\n",
    "|Column|Description|\n",
    "|:---|:---|\n",
    "|enrollee_id|후보자의 고유 ID| \n",
    "|city|도시 코드|\n",
    "|city_development_index|도시개발지수|\n",
    "|gender|성별|\n",
    "|relevent_experience|관련경력|\n",
    "|enrolled_university|등록한 대학 과정의 종류(있는 경우)|\n",
    "|education_level|후보자의 학력|\n",
    "|major_discipline|후보자의 교육 전공|\n",
    "|experience|후보자 총 경력(년)|\n",
    "|company_size|현 고용주의 회사 직원 수|\n",
    "|company_type|현재 고용주의 유형|\n",
    "|lastnewjob|전직과 현직의 연차차|\n",
    "|training_hours|교육 시간|\n",
    "|target|0 – 이직을 구하지 않음, 1 – 이직을 구함|"
   ],
   "metadata": {
    "id": "R6DveQnSdJGA"
   }
  },
  {
   "cell_type": "code",
   "source": [
    "# ▶ pd.setoption\n",
    "import pandas as pd \n",
    "# pd.set_option('display.max_columns',100)\n",
    "# pd.set_option('display.max_rows',100)\n",
    "\n",
    "# ▶ Data read\n",
    "data_path = './data/0804/'\n",
    "df = pd.read_csv(data_path+'aug_train.csv')\n",
    "df.head(5)"
   ],
   "metadata": {
    "id": "Dwg3ejmg1RB0",
    "colab": {
     "base_uri": "https://localhost:8080/",
     "height": 287
    },
    "executionInfo": {
     "status": "ok",
     "timestamp": 1666163761379,
     "user_tz": -540,
     "elapsed": 430,
     "user": {
      "displayName": "박지환",
      "userId": "03562376240636475247"
     }
    },
    "outputId": "1a7bc3b4-2a30-4e51-d0a9-094cae291b76"
   },
   "execution_count": 3,
   "outputs": [
    {
     "data": {
      "text/plain": "   enrollee_id      city  city_development_index gender  \\\n0         8949  city_103                   0.920   Male   \n1        29725   city_40                   0.776   Male   \n2        11561   city_21                   0.624    NaN   \n3        33241  city_115                   0.789    NaN   \n4          666  city_162                   0.767   Male   \n\n       relevent_experience enrolled_university education_level  \\\n0  Has relevent experience       no_enrollment        Graduate   \n1   No relevent experience       no_enrollment        Graduate   \n2   No relevent experience    Full time course        Graduate   \n3   No relevent experience                 NaN        Graduate   \n4  Has relevent experience       no_enrollment         Masters   \n\n  major_discipline experience company_size    company_type last_new_job  \\\n0             STEM        >20          NaN             NaN            1   \n1             STEM         15        50-99         Pvt Ltd           >4   \n2             STEM          5          NaN             NaN        never   \n3  Business Degree         <1          NaN         Pvt Ltd        never   \n4             STEM        >20        50-99  Funded Startup            4   \n\n   training_hours  target  \n0              36     1.0  \n1              47     0.0  \n2              83     0.0  \n3              52     1.0  \n4               8     0.0  ",
      "text/html": "<div>\n<style scoped>\n    .dataframe tbody tr th:only-of-type {\n        vertical-align: middle;\n    }\n\n    .dataframe tbody tr th {\n        vertical-align: top;\n    }\n\n    .dataframe thead th {\n        text-align: right;\n    }\n</style>\n<table border=\"1\" class=\"dataframe\">\n  <thead>\n    <tr style=\"text-align: right;\">\n      <th></th>\n      <th>enrollee_id</th>\n      <th>city</th>\n      <th>city_development_index</th>\n      <th>gender</th>\n      <th>relevent_experience</th>\n      <th>enrolled_university</th>\n      <th>education_level</th>\n      <th>major_discipline</th>\n      <th>experience</th>\n      <th>company_size</th>\n      <th>company_type</th>\n      <th>last_new_job</th>\n      <th>training_hours</th>\n      <th>target</th>\n    </tr>\n  </thead>\n  <tbody>\n    <tr>\n      <th>0</th>\n      <td>8949</td>\n      <td>city_103</td>\n      <td>0.920</td>\n      <td>Male</td>\n      <td>Has relevent experience</td>\n      <td>no_enrollment</td>\n      <td>Graduate</td>\n      <td>STEM</td>\n      <td>&gt;20</td>\n      <td>NaN</td>\n      <td>NaN</td>\n      <td>1</td>\n      <td>36</td>\n      <td>1.0</td>\n    </tr>\n    <tr>\n      <th>1</th>\n      <td>29725</td>\n      <td>city_40</td>\n      <td>0.776</td>\n      <td>Male</td>\n      <td>No relevent experience</td>\n      <td>no_enrollment</td>\n      <td>Graduate</td>\n      <td>STEM</td>\n      <td>15</td>\n      <td>50-99</td>\n      <td>Pvt Ltd</td>\n      <td>&gt;4</td>\n      <td>47</td>\n      <td>0.0</td>\n    </tr>\n    <tr>\n      <th>2</th>\n      <td>11561</td>\n      <td>city_21</td>\n      <td>0.624</td>\n      <td>NaN</td>\n      <td>No relevent experience</td>\n      <td>Full time course</td>\n      <td>Graduate</td>\n      <td>STEM</td>\n      <td>5</td>\n      <td>NaN</td>\n      <td>NaN</td>\n      <td>never</td>\n      <td>83</td>\n      <td>0.0</td>\n    </tr>\n    <tr>\n      <th>3</th>\n      <td>33241</td>\n      <td>city_115</td>\n      <td>0.789</td>\n      <td>NaN</td>\n      <td>No relevent experience</td>\n      <td>NaN</td>\n      <td>Graduate</td>\n      <td>Business Degree</td>\n      <td>&lt;1</td>\n      <td>NaN</td>\n      <td>Pvt Ltd</td>\n      <td>never</td>\n      <td>52</td>\n      <td>1.0</td>\n    </tr>\n    <tr>\n      <th>4</th>\n      <td>666</td>\n      <td>city_162</td>\n      <td>0.767</td>\n      <td>Male</td>\n      <td>Has relevent experience</td>\n      <td>no_enrollment</td>\n      <td>Masters</td>\n      <td>STEM</td>\n      <td>&gt;20</td>\n      <td>50-99</td>\n      <td>Funded Startup</td>\n      <td>4</td>\n      <td>8</td>\n      <td>0.0</td>\n    </tr>\n  </tbody>\n</table>\n</div>"
     },
     "execution_count": 3,
     "metadata": {},
     "output_type": "execute_result"
    }
   ]
  },
  {
   "cell_type": "markdown",
   "source": [
    "\n",
    "## **문제해결 프로세스 정의**\n",
    "---\n",
    "> **문제정의**\n",
    "\n",
    "```\n",
    "▶ 데이터 직군 재직자 이직\n",
    "```  \n",
    "\n",
    "> **기대효과**\n",
    "\n",
    "```\n",
    "▶ 이직률 감소, 채용 비용 절감\n",
    "```\n",
    "\n",
    "> **해결방안**\n",
    "\n",
    "```\n",
    "▶ 데이터 직군 경력사원 이직 예측 모델링을 통한 리스크 관리\n",
    "▶ Session 1 🥉\n",
    " - Data 전처리 및 EDA\n",
    "▶ Session 2 🥈\n",
    " - 가설 수립 및 검증\n",
    "▶ Session 3 🥇\n",
    " - TabNet 알고리즘 사용 이직 예측 모델링 수행\n",
    "```\n",
    "\n",
    "> **성과측정**  \n",
    "\n",
    "```\n",
    "▶ 모델 운용 전/후 이직률 비교\n",
    "```\n",
    "\n",
    "> **현업적용**  \n",
    "\n",
    "```\n",
    "▶ 이직 방지 프로그램 선정자 선별에 활용\n",
    "```\n",
    "\n",
    "> **주요 코드 미리 살펴보기**  \n",
    "\n",
    "```\n",
    "▶ Session 1 → pd.DataFrame(df.isnull().sum()>0, columns=['T/F']), .value_counts(normalize=True)\n",
    "▶ Session 2 → .astype(int), df.groupby('experience')['target'].agg(['count', 'sum'])\n",
    "▶ Session 3 → clf.predict_proba(X_test), classification_report, roc_curve_plot(y_test, preds[:,1])\n",
    "```"
   ],
   "metadata": {
    "id": "M3zejeFT2U4f"
   }
  },
  {
   "cell_type": "markdown",
   "source": [
    "## **🥉Session 1**  \n",
    "**┗ Data 전처리 및 EDA**  \n",
    "---"
   ],
   "metadata": {
    "id": "Vcod0Bqskie9"
   }
  },
  {
   "cell_type": "markdown",
   "source": [
    "### · Data 전처리  \n",
    "---\n",
    "* 수집된 데이터의 기본 정보들을 확인  \n",
    "\n",
    "  (1) Data shape(형태) 확인 \n",
    "\n",
    "  (2) Data type 확인\n",
    "\n",
    "  (3) Null값 확인 (※ 빈 값의 Data)\n",
    "\n",
    "  (4) Outlier 확인 (※ 정상적인 범주를 벗어난 Data)  "
   ],
   "metadata": {
    "id": "__GF_KNVkkZn"
   }
  },
  {
   "cell_type": "code",
   "source": [
    "# ▶ Data 형태 확인\n",
    "# ▶ 19,158 row, 14 col로 구성됨\n",
    "print('df', df.shape)"
   ],
   "metadata": {
    "colab": {
     "base_uri": "https://localhost:8080/"
    },
    "id": "9n26y6QxkmTP",
    "executionInfo": {
     "status": "ok",
     "timestamp": 1666163763813,
     "user_tz": -540,
     "elapsed": 8,
     "user": {
      "displayName": "박지환",
      "userId": "03562376240636475247"
     }
    },
    "outputId": "30855345-54a3-431b-9152-37e25841274a"
   },
   "execution_count": 4,
   "outputs": [
    {
     "name": "stdout",
     "output_type": "stream",
     "text": [
      "df (19158, 14)\n"
     ]
    }
   ]
  },
  {
   "cell_type": "code",
   "source": [
    "# ▶ Data type 확인\n",
    "df.info()"
   ],
   "metadata": {
    "colab": {
     "base_uri": "https://localhost:8080/"
    },
    "id": "P-irxeqekmZC",
    "executionInfo": {
     "status": "ok",
     "timestamp": 1666163763813,
     "user_tz": -540,
     "elapsed": 7,
     "user": {
      "displayName": "박지환",
      "userId": "03562376240636475247"
     }
    },
    "outputId": "4e488856-7214-48f0-8253-dd1cc7ee0de6"
   },
   "execution_count": 5,
   "outputs": [
    {
     "name": "stdout",
     "output_type": "stream",
     "text": [
      "<class 'pandas.core.frame.DataFrame'>\n",
      "RangeIndex: 19158 entries, 0 to 19157\n",
      "Data columns (total 14 columns):\n",
      " #   Column                  Non-Null Count  Dtype  \n",
      "---  ------                  --------------  -----  \n",
      " 0   enrollee_id             19158 non-null  int64  \n",
      " 1   city                    19158 non-null  object \n",
      " 2   city_development_index  19158 non-null  float64\n",
      " 3   gender                  14650 non-null  object \n",
      " 4   relevent_experience     19158 non-null  object \n",
      " 5   enrolled_university     18772 non-null  object \n",
      " 6   education_level         18698 non-null  object \n",
      " 7   major_discipline        16345 non-null  object \n",
      " 8   experience              19093 non-null  object \n",
      " 9   company_size            13220 non-null  object \n",
      " 10  company_type            13018 non-null  object \n",
      " 11  last_new_job            18735 non-null  object \n",
      " 12  training_hours          19158 non-null  int64  \n",
      " 13  target                  19158 non-null  float64\n",
      "dtypes: float64(2), int64(2), object(10)\n",
      "memory usage: 2.0+ MB\n"
     ]
    }
   ]
  },
  {
   "cell_type": "code",
   "source": [
    "# ▶ Null 값 확인\n",
    "print(df.isnull().sum())"
   ],
   "metadata": {
    "colab": {
     "base_uri": "https://localhost:8080/"
    },
    "id": "sDkQ1noqkmfC",
    "executionInfo": {
     "status": "ok",
     "timestamp": 1666163763813,
     "user_tz": -540,
     "elapsed": 3,
     "user": {
      "displayName": "박지환",
      "userId": "03562376240636475247"
     }
    },
    "outputId": "a768c5f0-3706-427a-fc54-b008796dec2d"
   },
   "execution_count": 6,
   "outputs": [
    {
     "name": "stdout",
     "output_type": "stream",
     "text": [
      "enrollee_id                  0\n",
      "city                         0\n",
      "city_development_index       0\n",
      "gender                    4508\n",
      "relevent_experience          0\n",
      "enrolled_university        386\n",
      "education_level            460\n",
      "major_discipline          2813\n",
      "experience                  65\n",
      "company_size              5938\n",
      "company_type              6140\n",
      "last_new_job               423\n",
      "training_hours               0\n",
      "target                       0\n",
      "dtype: int64\n"
     ]
    }
   ]
  },
  {
   "cell_type": "code",
   "source": [
    "# ▶ Null 값>0 이상인 Data 출력\n",
    "null_df = pd.DataFrame(df.isnull().sum()>0, columns=['T/F'])\n",
    "null_df = null_df[null_df['T/F']==True]\n",
    "df[null_df.index]"
   ],
   "metadata": {
    "colab": {
     "base_uri": "https://localhost:8080/",
     "height": 424
    },
    "id": "YL2J9jjmkmjz",
    "executionInfo": {
     "status": "ok",
     "timestamp": 1666163764576,
     "user_tz": -540,
     "elapsed": 5,
     "user": {
      "displayName": "박지환",
      "userId": "03562376240636475247"
     }
    },
    "outputId": "e989f136-0ce6-4dd7-cd8e-d00d8c092ca2"
   },
   "execution_count": 7,
   "outputs": [
    {
     "data": {
      "text/plain": "      gender enrolled_university education_level major_discipline experience  \\\n0       Male       no_enrollment        Graduate             STEM        >20   \n1       Male       no_enrollment        Graduate             STEM         15   \n2        NaN    Full time course        Graduate             STEM          5   \n3        NaN                 NaN        Graduate  Business Degree         <1   \n4       Male       no_enrollment         Masters             STEM        >20   \n...      ...                 ...             ...              ...        ...   \n19153   Male       no_enrollment        Graduate       Humanities         14   \n19154   Male       no_enrollment        Graduate             STEM         14   \n19155   Male       no_enrollment        Graduate             STEM        >20   \n19156   Male       no_enrollment     High School              NaN         <1   \n19157    NaN       no_enrollment  Primary School              NaN          2   \n\n      company_size    company_type last_new_job  \n0              NaN             NaN            1  \n1            50-99         Pvt Ltd           >4  \n2              NaN             NaN        never  \n3              NaN         Pvt Ltd        never  \n4            50-99  Funded Startup            4  \n...            ...             ...          ...  \n19153          NaN             NaN            1  \n19154          NaN             NaN            4  \n19155        50-99         Pvt Ltd            4  \n19156      500-999         Pvt Ltd            2  \n19157          NaN             NaN            1  \n\n[19158 rows x 8 columns]",
      "text/html": "<div>\n<style scoped>\n    .dataframe tbody tr th:only-of-type {\n        vertical-align: middle;\n    }\n\n    .dataframe tbody tr th {\n        vertical-align: top;\n    }\n\n    .dataframe thead th {\n        text-align: right;\n    }\n</style>\n<table border=\"1\" class=\"dataframe\">\n  <thead>\n    <tr style=\"text-align: right;\">\n      <th></th>\n      <th>gender</th>\n      <th>enrolled_university</th>\n      <th>education_level</th>\n      <th>major_discipline</th>\n      <th>experience</th>\n      <th>company_size</th>\n      <th>company_type</th>\n      <th>last_new_job</th>\n    </tr>\n  </thead>\n  <tbody>\n    <tr>\n      <th>0</th>\n      <td>Male</td>\n      <td>no_enrollment</td>\n      <td>Graduate</td>\n      <td>STEM</td>\n      <td>&gt;20</td>\n      <td>NaN</td>\n      <td>NaN</td>\n      <td>1</td>\n    </tr>\n    <tr>\n      <th>1</th>\n      <td>Male</td>\n      <td>no_enrollment</td>\n      <td>Graduate</td>\n      <td>STEM</td>\n      <td>15</td>\n      <td>50-99</td>\n      <td>Pvt Ltd</td>\n      <td>&gt;4</td>\n    </tr>\n    <tr>\n      <th>2</th>\n      <td>NaN</td>\n      <td>Full time course</td>\n      <td>Graduate</td>\n      <td>STEM</td>\n      <td>5</td>\n      <td>NaN</td>\n      <td>NaN</td>\n      <td>never</td>\n    </tr>\n    <tr>\n      <th>3</th>\n      <td>NaN</td>\n      <td>NaN</td>\n      <td>Graduate</td>\n      <td>Business Degree</td>\n      <td>&lt;1</td>\n      <td>NaN</td>\n      <td>Pvt Ltd</td>\n      <td>never</td>\n    </tr>\n    <tr>\n      <th>4</th>\n      <td>Male</td>\n      <td>no_enrollment</td>\n      <td>Masters</td>\n      <td>STEM</td>\n      <td>&gt;20</td>\n      <td>50-99</td>\n      <td>Funded Startup</td>\n      <td>4</td>\n    </tr>\n    <tr>\n      <th>...</th>\n      <td>...</td>\n      <td>...</td>\n      <td>...</td>\n      <td>...</td>\n      <td>...</td>\n      <td>...</td>\n      <td>...</td>\n      <td>...</td>\n    </tr>\n    <tr>\n      <th>19153</th>\n      <td>Male</td>\n      <td>no_enrollment</td>\n      <td>Graduate</td>\n      <td>Humanities</td>\n      <td>14</td>\n      <td>NaN</td>\n      <td>NaN</td>\n      <td>1</td>\n    </tr>\n    <tr>\n      <th>19154</th>\n      <td>Male</td>\n      <td>no_enrollment</td>\n      <td>Graduate</td>\n      <td>STEM</td>\n      <td>14</td>\n      <td>NaN</td>\n      <td>NaN</td>\n      <td>4</td>\n    </tr>\n    <tr>\n      <th>19155</th>\n      <td>Male</td>\n      <td>no_enrollment</td>\n      <td>Graduate</td>\n      <td>STEM</td>\n      <td>&gt;20</td>\n      <td>50-99</td>\n      <td>Pvt Ltd</td>\n      <td>4</td>\n    </tr>\n    <tr>\n      <th>19156</th>\n      <td>Male</td>\n      <td>no_enrollment</td>\n      <td>High School</td>\n      <td>NaN</td>\n      <td>&lt;1</td>\n      <td>500-999</td>\n      <td>Pvt Ltd</td>\n      <td>2</td>\n    </tr>\n    <tr>\n      <th>19157</th>\n      <td>NaN</td>\n      <td>no_enrollment</td>\n      <td>Primary School</td>\n      <td>NaN</td>\n      <td>2</td>\n      <td>NaN</td>\n      <td>NaN</td>\n      <td>1</td>\n    </tr>\n  </tbody>\n</table>\n<p>19158 rows × 8 columns</p>\n</div>"
     },
     "execution_count": 7,
     "metadata": {},
     "output_type": "execute_result"
    }
   ]
  },
  {
   "cell_type": "code",
   "source": [
    "# ▶ numeric, categorical value 나누기\n",
    "# ▶ 숫자형 변수에 경우 평균 값을 대체, 문자형 변수의 경우 'None'로 대체\n",
    "numerical_list=[]\n",
    "categorical_list=[]\n",
    "\n",
    "for i in df.columns :\n",
    "  if df[i].dtypes == 'O' :\n",
    "    categorical_list.append(i)\n",
    "  else :\n",
    "    numerical_list.append(i)\n",
    "\n",
    "print(\"categorical_list :\", categorical_list)\n",
    "print(\"numerical_list :\", numerical_list)\n",
    "\n",
    "# ▶ n_features 변환\n",
    "df[numerical_list] = df[numerical_list].apply(lambda x: x.fillna(x.mean()),axis=0)\n",
    "\n",
    "# ▶ c_features 변환\n",
    "df[categorical_list] = df[categorical_list].apply(lambda x: x.fillna('None'),axis=0)"
   ],
   "metadata": {
    "colab": {
     "base_uri": "https://localhost:8080/"
    },
    "id": "oef5nV3tkmoB",
    "executionInfo": {
     "status": "ok",
     "timestamp": 1666163764577,
     "user_tz": -540,
     "elapsed": 5,
     "user": {
      "displayName": "박지환",
      "userId": "03562376240636475247"
     }
    },
    "outputId": "db811a23-f7ab-47c1-a850-477396dd71bd"
   },
   "execution_count": 8,
   "outputs": [
    {
     "name": "stdout",
     "output_type": "stream",
     "text": [
      "categorical_list : ['city', 'gender', 'relevent_experience', 'enrolled_university', 'education_level', 'major_discipline', 'experience', 'company_size', 'company_type', 'last_new_job']\n",
      "numerical_list : ['enrollee_id', 'city_development_index', 'training_hours', 'target']\n"
     ]
    }
   ]
  },
  {
   "cell_type": "code",
   "source": [
    "# ▶ Null 값 재 확인\n",
    "df.isnull().sum().sum()"
   ],
   "metadata": {
    "colab": {
     "base_uri": "https://localhost:8080/"
    },
    "id": "J852rUJ0kmwV",
    "executionInfo": {
     "status": "ok",
     "timestamp": 1666163765185,
     "user_tz": -540,
     "elapsed": 2,
     "user": {
      "displayName": "박지환",
      "userId": "03562376240636475247"
     }
    },
    "outputId": "887a4c4f-4042-4ab0-82ca-ae4440e183b7"
   },
   "execution_count": 9,
   "outputs": [
    {
     "data": {
      "text/plain": "0"
     },
     "execution_count": 9,
     "metadata": {},
     "output_type": "execute_result"
    }
   ]
  },
  {
   "cell_type": "code",
   "source": [
    "# ▶ Outlier 확인\n",
    "df.describe()"
   ],
   "metadata": {
    "colab": {
     "base_uri": "https://localhost:8080/",
     "height": 300
    },
    "id": "zXmanD--km2f",
    "executionInfo": {
     "status": "ok",
     "timestamp": 1666163765922,
     "user_tz": -540,
     "elapsed": 2,
     "user": {
      "displayName": "박지환",
      "userId": "03562376240636475247"
     }
    },
    "outputId": "f92b3c18-483a-4ad0-a439-14904d72b2f5"
   },
   "execution_count": 10,
   "outputs": [
    {
     "data": {
      "text/plain": "        enrollee_id  city_development_index  training_hours        target\ncount  19158.000000            19158.000000    19158.000000  19158.000000\nmean   16875.358179                0.828848       65.366896      0.249348\nstd     9616.292592                0.123362       60.058462      0.432647\nmin        1.000000                0.448000        1.000000      0.000000\n25%     8554.250000                0.740000       23.000000      0.000000\n50%    16982.500000                0.903000       47.000000      0.000000\n75%    25169.750000                0.920000       88.000000      0.000000\nmax    33380.000000                0.949000      336.000000      1.000000",
      "text/html": "<div>\n<style scoped>\n    .dataframe tbody tr th:only-of-type {\n        vertical-align: middle;\n    }\n\n    .dataframe tbody tr th {\n        vertical-align: top;\n    }\n\n    .dataframe thead th {\n        text-align: right;\n    }\n</style>\n<table border=\"1\" class=\"dataframe\">\n  <thead>\n    <tr style=\"text-align: right;\">\n      <th></th>\n      <th>enrollee_id</th>\n      <th>city_development_index</th>\n      <th>training_hours</th>\n      <th>target</th>\n    </tr>\n  </thead>\n  <tbody>\n    <tr>\n      <th>count</th>\n      <td>19158.000000</td>\n      <td>19158.000000</td>\n      <td>19158.000000</td>\n      <td>19158.000000</td>\n    </tr>\n    <tr>\n      <th>mean</th>\n      <td>16875.358179</td>\n      <td>0.828848</td>\n      <td>65.366896</td>\n      <td>0.249348</td>\n    </tr>\n    <tr>\n      <th>std</th>\n      <td>9616.292592</td>\n      <td>0.123362</td>\n      <td>60.058462</td>\n      <td>0.432647</td>\n    </tr>\n    <tr>\n      <th>min</th>\n      <td>1.000000</td>\n      <td>0.448000</td>\n      <td>1.000000</td>\n      <td>0.000000</td>\n    </tr>\n    <tr>\n      <th>25%</th>\n      <td>8554.250000</td>\n      <td>0.740000</td>\n      <td>23.000000</td>\n      <td>0.000000</td>\n    </tr>\n    <tr>\n      <th>50%</th>\n      <td>16982.500000</td>\n      <td>0.903000</td>\n      <td>47.000000</td>\n      <td>0.000000</td>\n    </tr>\n    <tr>\n      <th>75%</th>\n      <td>25169.750000</td>\n      <td>0.920000</td>\n      <td>88.000000</td>\n      <td>0.000000</td>\n    </tr>\n    <tr>\n      <th>max</th>\n      <td>33380.000000</td>\n      <td>0.949000</td>\n      <td>336.000000</td>\n      <td>1.000000</td>\n    </tr>\n  </tbody>\n</table>\n</div>"
     },
     "execution_count": 10,
     "metadata": {},
     "output_type": "execute_result"
    }
   ]
  },
  {
   "cell_type": "markdown",
   "source": [
    "### · Target 변수 분포 확인 \n",
    "---\n",
    "* 예측 하고자 하는 Target 변수(target) 분포 확인"
   ],
   "metadata": {
    "id": "HyodtUDFkm7A"
   }
  },
  {
   "cell_type": "code",
   "source": [
    "# ▶ 보유하고 있는 데이터는 24%의 Target ratio를 가지고 있음\n",
    "pd.DataFrame({\"count\":df['target'].value_counts(),\"ratio(%)\":df['target'].value_counts(normalize=True)*100})"
   ],
   "metadata": {
    "colab": {
     "base_uri": "https://localhost:8080/",
     "height": 112
    },
    "id": "8G1aqDynkm-w",
    "executionInfo": {
     "status": "ok",
     "timestamp": 1666159081123,
     "user_tz": -540,
     "elapsed": 433,
     "user": {
      "displayName": "박지환",
      "userId": "03562376240636475247"
     }
    },
    "outputId": "4abe7531-a898-4a80-f01a-6f65a571593a"
   },
   "execution_count": 11,
   "outputs": [
    {
     "data": {
      "text/plain": "     count   ratio(%)\n0.0  14381  75.065247\n1.0   4777  24.934753",
      "text/html": "<div>\n<style scoped>\n    .dataframe tbody tr th:only-of-type {\n        vertical-align: middle;\n    }\n\n    .dataframe tbody tr th {\n        vertical-align: top;\n    }\n\n    .dataframe thead th {\n        text-align: right;\n    }\n</style>\n<table border=\"1\" class=\"dataframe\">\n  <thead>\n    <tr style=\"text-align: right;\">\n      <th></th>\n      <th>count</th>\n      <th>ratio(%)</th>\n    </tr>\n  </thead>\n  <tbody>\n    <tr>\n      <th>0.0</th>\n      <td>14381</td>\n      <td>75.065247</td>\n    </tr>\n    <tr>\n      <th>1.0</th>\n      <td>4777</td>\n      <td>24.934753</td>\n    </tr>\n  </tbody>\n</table>\n</div>"
     },
     "execution_count": 11,
     "metadata": {},
     "output_type": "execute_result"
    }
   ]
  },
  {
   "cell_type": "markdown",
   "source": [
    "## **🥈Session 2**  \n",
    "**┗ 가설 수립 및 검증**  \n",
    "---\n",
    "* 문제해결 프로세스(Problem Solving Process)에서 가장 핵심적인 부분\n",
    "* 가설은 문제해결을 위한 '핵심 아이디어' \n",
    "* 현재 우리가 보유하고 있는 데이터로 문제를 해결할 수 있는지 사전 검증하는 작업"
   ],
   "metadata": {
    "id": "zgrVQg8bohSj"
   }
  },
  {
   "cell_type": "markdown",
   "source": [
    "### · ① 총 경력이 많을 수록 이직 확률이 높을 것이다.\n",
    "---"
   ],
   "metadata": {
    "id": "V_O5fUQ4okwZ"
   }
  },
  {
   "cell_type": "code",
   "source": [
    "df.head()"
   ],
   "metadata": {
    "colab": {
     "base_uri": "https://localhost:8080/",
     "height": 287
    },
    "id": "2a6IoupuomaB",
    "executionInfo": {
     "status": "ok",
     "timestamp": 1666159680139,
     "user_tz": -540,
     "elapsed": 1499,
     "user": {
      "displayName": "박지환",
      "userId": "03562376240636475247"
     }
    },
    "outputId": "4e9541ce-2d99-431c-ca5f-63fdb535a273"
   },
   "execution_count": 12,
   "outputs": [
    {
     "data": {
      "text/plain": "   enrollee_id      city  city_development_index gender  \\\n0         8949  city_103                   0.920   Male   \n1        29725   city_40                   0.776   Male   \n2        11561   city_21                   0.624   None   \n3        33241  city_115                   0.789   None   \n4          666  city_162                   0.767   Male   \n\n       relevent_experience enrolled_university education_level  \\\n0  Has relevent experience       no_enrollment        Graduate   \n1   No relevent experience       no_enrollment        Graduate   \n2   No relevent experience    Full time course        Graduate   \n3   No relevent experience                None        Graduate   \n4  Has relevent experience       no_enrollment         Masters   \n\n  major_discipline experience company_size    company_type last_new_job  \\\n0             STEM        >20         None            None            1   \n1             STEM         15        50-99         Pvt Ltd           >4   \n2             STEM          5         None            None        never   \n3  Business Degree         <1         None         Pvt Ltd        never   \n4             STEM        >20        50-99  Funded Startup            4   \n\n   training_hours  target  \n0              36     1.0  \n1              47     0.0  \n2              83     0.0  \n3              52     1.0  \n4               8     0.0  ",
      "text/html": "<div>\n<style scoped>\n    .dataframe tbody tr th:only-of-type {\n        vertical-align: middle;\n    }\n\n    .dataframe tbody tr th {\n        vertical-align: top;\n    }\n\n    .dataframe thead th {\n        text-align: right;\n    }\n</style>\n<table border=\"1\" class=\"dataframe\">\n  <thead>\n    <tr style=\"text-align: right;\">\n      <th></th>\n      <th>enrollee_id</th>\n      <th>city</th>\n      <th>city_development_index</th>\n      <th>gender</th>\n      <th>relevent_experience</th>\n      <th>enrolled_university</th>\n      <th>education_level</th>\n      <th>major_discipline</th>\n      <th>experience</th>\n      <th>company_size</th>\n      <th>company_type</th>\n      <th>last_new_job</th>\n      <th>training_hours</th>\n      <th>target</th>\n    </tr>\n  </thead>\n  <tbody>\n    <tr>\n      <th>0</th>\n      <td>8949</td>\n      <td>city_103</td>\n      <td>0.920</td>\n      <td>Male</td>\n      <td>Has relevent experience</td>\n      <td>no_enrollment</td>\n      <td>Graduate</td>\n      <td>STEM</td>\n      <td>&gt;20</td>\n      <td>None</td>\n      <td>None</td>\n      <td>1</td>\n      <td>36</td>\n      <td>1.0</td>\n    </tr>\n    <tr>\n      <th>1</th>\n      <td>29725</td>\n      <td>city_40</td>\n      <td>0.776</td>\n      <td>Male</td>\n      <td>No relevent experience</td>\n      <td>no_enrollment</td>\n      <td>Graduate</td>\n      <td>STEM</td>\n      <td>15</td>\n      <td>50-99</td>\n      <td>Pvt Ltd</td>\n      <td>&gt;4</td>\n      <td>47</td>\n      <td>0.0</td>\n    </tr>\n    <tr>\n      <th>2</th>\n      <td>11561</td>\n      <td>city_21</td>\n      <td>0.624</td>\n      <td>None</td>\n      <td>No relevent experience</td>\n      <td>Full time course</td>\n      <td>Graduate</td>\n      <td>STEM</td>\n      <td>5</td>\n      <td>None</td>\n      <td>None</td>\n      <td>never</td>\n      <td>83</td>\n      <td>0.0</td>\n    </tr>\n    <tr>\n      <th>3</th>\n      <td>33241</td>\n      <td>city_115</td>\n      <td>0.789</td>\n      <td>None</td>\n      <td>No relevent experience</td>\n      <td>None</td>\n      <td>Graduate</td>\n      <td>Business Degree</td>\n      <td>&lt;1</td>\n      <td>None</td>\n      <td>Pvt Ltd</td>\n      <td>never</td>\n      <td>52</td>\n      <td>1.0</td>\n    </tr>\n    <tr>\n      <th>4</th>\n      <td>666</td>\n      <td>city_162</td>\n      <td>0.767</td>\n      <td>Male</td>\n      <td>Has relevent experience</td>\n      <td>no_enrollment</td>\n      <td>Masters</td>\n      <td>STEM</td>\n      <td>&gt;20</td>\n      <td>50-99</td>\n      <td>Funded Startup</td>\n      <td>4</td>\n      <td>8</td>\n      <td>0.0</td>\n    </tr>\n  </tbody>\n</table>\n</div>"
     },
     "execution_count": 12,
     "metadata": {},
     "output_type": "execute_result"
    }
   ]
  },
  {
   "cell_type": "code",
   "source": [
    "# ▶ 경력은 연속형 변수일 것 같으나, 현재 데이터에서는 Object type으로 선언됨\n",
    "df['experience'].dtypes"
   ],
   "metadata": {
    "colab": {
     "base_uri": "https://localhost:8080/"
    },
    "id": "o9l6LIhNqtvR",
    "executionInfo": {
     "status": "ok",
     "timestamp": 1666159707255,
     "user_tz": -540,
     "elapsed": 423,
     "user": {
      "displayName": "박지환",
      "userId": "03562376240636475247"
     }
    },
    "outputId": "b436711a-4a07-4b9a-c9e4-a04a3d8c7115"
   },
   "execution_count": 13,
   "outputs": [
    {
     "data": {
      "text/plain": "dtype('O')"
     },
     "execution_count": 13,
     "metadata": {},
     "output_type": "execute_result"
    }
   ]
  },
  {
   "cell_type": "code",
   "source": [
    "# ▶ '>'문자로 인해서, 문자형 Type에 데이터로 인식\n",
    "df['experience'].value_counts()"
   ],
   "metadata": {
    "colab": {
     "base_uri": "https://localhost:8080/"
    },
    "id": "YLW9VkzgomfC",
    "executionInfo": {
     "status": "ok",
     "timestamp": 1666159729343,
     "user_tz": -540,
     "elapsed": 431,
     "user": {
      "displayName": "박지환",
      "userId": "03562376240636475247"
     }
    },
    "outputId": "c0d19d4c-d14e-4777-8ed8-9302aea571ea"
   },
   "execution_count": 14,
   "outputs": [
    {
     "data": {
      "text/plain": ">20     3286\n5       1430\n4       1403\n3       1354\n6       1216\n2       1127\n7       1028\n10       985\n9        980\n8        802\n15       686\n11       664\n14       586\n1        549\n<1       522\n16       508\n12       494\n13       399\n17       342\n19       304\n18       280\n20       148\nNone      65\nName: experience, dtype: int64"
     },
     "execution_count": 14,
     "metadata": {},
     "output_type": "execute_result"
    }
   ]
  },
  {
   "cell_type": "code",
   "source": [
    "# ▶ 숫자형 변수로 치환해서 분포를 보는 것이 더 유리 (※ 그래프 작성 시)\n",
    "# >20  → 21\n",
    "# <1, None → 0\n",
    "import numpy as np\n",
    "df['experience'] = np.where(df['experience'] == '>20', '21', df['experience'])\n",
    "df['experience'] = np.where(df['experience'] == '<1', '0', df['experience'])\n",
    "df['experience'] = np.where(df['experience'] == 'None', '0', df['experience'])"
   ],
   "metadata": {
    "id": "dMflLTD-omii",
    "executionInfo": {
     "status": "ok",
     "timestamp": 1666159842654,
     "user_tz": -540,
     "elapsed": 2,
     "user": {
      "displayName": "박지환",
      "userId": "03562376240636475247"
     }
    }
   },
   "execution_count": 15,
   "outputs": []
  },
  {
   "cell_type": "code",
   "source": [
    "# ▶ 숫자형태로 변경 확인\n",
    "df['experience'] = df['experience'].astype(int)\n",
    "df['experience'].dtypes"
   ],
   "metadata": {
    "colab": {
     "base_uri": "https://localhost:8080/"
    },
    "id": "lKuRO0U8hRhr",
    "executionInfo": {
     "status": "ok",
     "timestamp": 1666159864900,
     "user_tz": -540,
     "elapsed": 515,
     "user": {
      "displayName": "박지환",
      "userId": "03562376240636475247"
     }
    },
    "outputId": "9ace7e7b-a35c-4d32-836b-51e776c788ef"
   },
   "execution_count": 16,
   "outputs": [
    {
     "data": {
      "text/plain": "dtype('int32')"
     },
     "execution_count": 16,
     "metadata": {},
     "output_type": "execute_result"
    }
   ]
  },
  {
   "cell_type": "code",
   "source": [
    "# ▶ 총 경력(experience) 별 Target Ratio\n",
    "temp = df.groupby('experience')['target'].agg(['count', 'sum'])\n",
    "temp['ratio'] = round((temp['sum'] / temp['count'])*100,2)\n",
    "temp"
   ],
   "metadata": {
    "colab": {
     "base_uri": "https://localhost:8080/",
     "height": 771
    },
    "id": "f4aZVmdtfm3m",
    "executionInfo": {
     "status": "ok",
     "timestamp": 1666159941419,
     "user_tz": -540,
     "elapsed": 430,
     "user": {
      "displayName": "박지환",
      "userId": "03562376240636475247"
     }
    },
    "outputId": "a8a07c07-2a68-47b9-d356-85b34aef94af"
   },
   "execution_count": 17,
   "outputs": [
    {
     "data": {
      "text/plain": "            count    sum  ratio\nexperience                     \n0             587  260.0  44.29\n1             549  233.0  42.44\n2            1127  374.0  33.19\n3            1354  478.0  35.30\n4            1403  457.0  32.57\n5            1430  412.0  28.81\n6            1216  343.0  28.21\n7            1028  303.0  29.47\n8             802  195.0  24.31\n9             980  213.0  21.73\n10            985  207.0  21.02\n11            664  151.0  22.74\n12            494   92.0  18.62\n13            399   77.0  19.30\n14            586  107.0  18.26\n15            686  114.0  16.62\n16            508   72.0  14.17\n17            342   57.0  16.67\n18            280   43.0  15.36\n19            304   53.0  17.43\n20            148   33.0  22.30\n21           3286  503.0  15.31",
      "text/html": "<div>\n<style scoped>\n    .dataframe tbody tr th:only-of-type {\n        vertical-align: middle;\n    }\n\n    .dataframe tbody tr th {\n        vertical-align: top;\n    }\n\n    .dataframe thead th {\n        text-align: right;\n    }\n</style>\n<table border=\"1\" class=\"dataframe\">\n  <thead>\n    <tr style=\"text-align: right;\">\n      <th></th>\n      <th>count</th>\n      <th>sum</th>\n      <th>ratio</th>\n    </tr>\n    <tr>\n      <th>experience</th>\n      <th></th>\n      <th></th>\n      <th></th>\n    </tr>\n  </thead>\n  <tbody>\n    <tr>\n      <th>0</th>\n      <td>587</td>\n      <td>260.0</td>\n      <td>44.29</td>\n    </tr>\n    <tr>\n      <th>1</th>\n      <td>549</td>\n      <td>233.0</td>\n      <td>42.44</td>\n    </tr>\n    <tr>\n      <th>2</th>\n      <td>1127</td>\n      <td>374.0</td>\n      <td>33.19</td>\n    </tr>\n    <tr>\n      <th>3</th>\n      <td>1354</td>\n      <td>478.0</td>\n      <td>35.30</td>\n    </tr>\n    <tr>\n      <th>4</th>\n      <td>1403</td>\n      <td>457.0</td>\n      <td>32.57</td>\n    </tr>\n    <tr>\n      <th>5</th>\n      <td>1430</td>\n      <td>412.0</td>\n      <td>28.81</td>\n    </tr>\n    <tr>\n      <th>6</th>\n      <td>1216</td>\n      <td>343.0</td>\n      <td>28.21</td>\n    </tr>\n    <tr>\n      <th>7</th>\n      <td>1028</td>\n      <td>303.0</td>\n      <td>29.47</td>\n    </tr>\n    <tr>\n      <th>8</th>\n      <td>802</td>\n      <td>195.0</td>\n      <td>24.31</td>\n    </tr>\n    <tr>\n      <th>9</th>\n      <td>980</td>\n      <td>213.0</td>\n      <td>21.73</td>\n    </tr>\n    <tr>\n      <th>10</th>\n      <td>985</td>\n      <td>207.0</td>\n      <td>21.02</td>\n    </tr>\n    <tr>\n      <th>11</th>\n      <td>664</td>\n      <td>151.0</td>\n      <td>22.74</td>\n    </tr>\n    <tr>\n      <th>12</th>\n      <td>494</td>\n      <td>92.0</td>\n      <td>18.62</td>\n    </tr>\n    <tr>\n      <th>13</th>\n      <td>399</td>\n      <td>77.0</td>\n      <td>19.30</td>\n    </tr>\n    <tr>\n      <th>14</th>\n      <td>586</td>\n      <td>107.0</td>\n      <td>18.26</td>\n    </tr>\n    <tr>\n      <th>15</th>\n      <td>686</td>\n      <td>114.0</td>\n      <td>16.62</td>\n    </tr>\n    <tr>\n      <th>16</th>\n      <td>508</td>\n      <td>72.0</td>\n      <td>14.17</td>\n    </tr>\n    <tr>\n      <th>17</th>\n      <td>342</td>\n      <td>57.0</td>\n      <td>16.67</td>\n    </tr>\n    <tr>\n      <th>18</th>\n      <td>280</td>\n      <td>43.0</td>\n      <td>15.36</td>\n    </tr>\n    <tr>\n      <th>19</th>\n      <td>304</td>\n      <td>53.0</td>\n      <td>17.43</td>\n    </tr>\n    <tr>\n      <th>20</th>\n      <td>148</td>\n      <td>33.0</td>\n      <td>22.30</td>\n    </tr>\n    <tr>\n      <th>21</th>\n      <td>3286</td>\n      <td>503.0</td>\n      <td>15.31</td>\n    </tr>\n  </tbody>\n</table>\n</div>"
     },
     "execution_count": 17,
     "metadata": {},
     "output_type": "execute_result"
    }
   ]
  },
  {
   "cell_type": "code",
   "source": [
    "# ▶ scatter plot \n",
    "import seaborn as sns\n",
    "import matplotlib.pyplot as plt\n",
    "%matplotlib inline\n",
    "plt.style.use(['dark_background'])\n",
    "\n",
    "fig = plt.figure(figsize=(5,5));\n",
    "sns.scatterplot(temp['ratio']);"
   ],
   "metadata": {
    "colab": {
     "base_uri": "https://localhost:8080/",
     "height": 334
    },
    "id": "1-RsWNwohsqa",
    "executionInfo": {
     "status": "ok",
     "timestamp": 1666160053281,
     "user_tz": -540,
     "elapsed": 827,
     "user": {
      "displayName": "박지환",
      "userId": "03562376240636475247"
     }
    },
    "outputId": "bef9f172-0436-42ad-fa78-8e586e8f4b9e"
   },
   "execution_count": 19,
   "outputs": [
    {
     "data": {
      "text/plain": "<Figure size 500x500 with 1 Axes>",
      "image/png": "[encoded data removed]"
     },
     "metadata": {},
     "output_type": "display_data"
    }
   ]
  },
  {
   "cell_type": "code",
   "source": [
    "# ▶ target ratio-histogram\n",
    "plt.bar(temp.index.astype(str), temp['ratio']);"
   ],
   "metadata": {
    "colab": {
     "base_uri": "https://localhost:8080/",
     "height": 265
    },
    "id": "gwB6RH5Fomn6",
    "executionInfo": {
     "status": "ok",
     "timestamp": 1666160100045,
     "user_tz": -540,
     "elapsed": 3,
     "user": {
      "displayName": "박지환",
      "userId": "03562376240636475247"
     }
    },
    "outputId": "9eae5852-2102-4d27-bf9f-b526c0fea8cb"
   },
   "execution_count": 20,
   "outputs": [
    {
     "data": {
      "text/plain": "<Figure size 640x480 with 1 Axes>",
      "image/png": "[encoded data removed]"
     },
     "metadata": {},
     "output_type": "display_data"
    }
   ]
  },
  {
   "cell_type": "code",
   "source": [
    "# ▶ count-histogram\n",
    "plt.bar(temp.index.astype(str), temp['count']);"
   ],
   "metadata": {
    "colab": {
     "base_uri": "https://localhost:8080/",
     "height": 265
    },
    "id": "zl2ZpaPp4e0f",
    "executionInfo": {
     "status": "ok",
     "timestamp": 1666160239106,
     "user_tz": -540,
     "elapsed": 1182,
     "user": {
      "displayName": "박지환",
      "userId": "03562376240636475247"
     }
    },
    "outputId": "1922753b-02c7-4791-c18d-794e7c0917d5"
   },
   "execution_count": 21,
   "outputs": [
    {
     "data": {
      "text/plain": "<Figure size 640x480 with 1 Axes>",
      "image/png": "[encoded data removed]"
     },
     "metadata": {},
     "output_type": "display_data"
    }
   ]
  },
  {
   "cell_type": "markdown",
   "source": [
    "### · ② 관련 경험 및 전공 유무에 따라 이직률이 다를 것이다.\n",
    "---"
   ],
   "metadata": {
    "id": "FdVfKhZ4omtd"
   }
  },
  {
   "cell_type": "code",
   "source": [
    "df.head()"
   ],
   "metadata": {
    "colab": {
     "base_uri": "https://localhost:8080/",
     "height": 287
    },
    "id": "ppRaH7zp6ua3",
    "executionInfo": {
     "status": "ok",
     "timestamp": 1666160721890,
     "user_tz": -540,
     "elapsed": 409,
     "user": {
      "displayName": "박지환",
      "userId": "03562376240636475247"
     }
    },
    "outputId": "01151204-a129-414f-d0be-c95dd76dc013"
   },
   "execution_count": 22,
   "outputs": [
    {
     "data": {
      "text/plain": "   enrollee_id      city  city_development_index gender  \\\n0         8949  city_103                   0.920   Male   \n1        29725   city_40                   0.776   Male   \n2        11561   city_21                   0.624   None   \n3        33241  city_115                   0.789   None   \n4          666  city_162                   0.767   Male   \n\n       relevent_experience enrolled_university education_level  \\\n0  Has relevent experience       no_enrollment        Graduate   \n1   No relevent experience       no_enrollment        Graduate   \n2   No relevent experience    Full time course        Graduate   \n3   No relevent experience                None        Graduate   \n4  Has relevent experience       no_enrollment         Masters   \n\n  major_discipline  experience company_size    company_type last_new_job  \\\n0             STEM          21         None            None            1   \n1             STEM          15        50-99         Pvt Ltd           >4   \n2             STEM           5         None            None        never   \n3  Business Degree           0         None         Pvt Ltd        never   \n4             STEM          21        50-99  Funded Startup            4   \n\n   training_hours  target  \n0              36     1.0  \n1              47     0.0  \n2              83     0.0  \n3              52     1.0  \n4               8     0.0  ",
      "text/html": "<div>\n<style scoped>\n    .dataframe tbody tr th:only-of-type {\n        vertical-align: middle;\n    }\n\n    .dataframe tbody tr th {\n        vertical-align: top;\n    }\n\n    .dataframe thead th {\n        text-align: right;\n    }\n</style>\n<table border=\"1\" class=\"dataframe\">\n  <thead>\n    <tr style=\"text-align: right;\">\n      <th></th>\n      <th>enrollee_id</th>\n      <th>city</th>\n      <th>city_development_index</th>\n      <th>gender</th>\n      <th>relevent_experience</th>\n      <th>enrolled_university</th>\n      <th>education_level</th>\n      <th>major_discipline</th>\n      <th>experience</th>\n      <th>company_size</th>\n      <th>company_type</th>\n      <th>last_new_job</th>\n      <th>training_hours</th>\n      <th>target</th>\n    </tr>\n  </thead>\n  <tbody>\n    <tr>\n      <th>0</th>\n      <td>8949</td>\n      <td>city_103</td>\n      <td>0.920</td>\n      <td>Male</td>\n      <td>Has relevent experience</td>\n      <td>no_enrollment</td>\n      <td>Graduate</td>\n      <td>STEM</td>\n      <td>21</td>\n      <td>None</td>\n      <td>None</td>\n      <td>1</td>\n      <td>36</td>\n      <td>1.0</td>\n    </tr>\n    <tr>\n      <th>1</th>\n      <td>29725</td>\n      <td>city_40</td>\n      <td>0.776</td>\n      <td>Male</td>\n      <td>No relevent experience</td>\n      <td>no_enrollment</td>\n      <td>Graduate</td>\n      <td>STEM</td>\n      <td>15</td>\n      <td>50-99</td>\n      <td>Pvt Ltd</td>\n      <td>&gt;4</td>\n      <td>47</td>\n      <td>0.0</td>\n    </tr>\n    <tr>\n      <th>2</th>\n      <td>11561</td>\n      <td>city_21</td>\n      <td>0.624</td>\n      <td>None</td>\n      <td>No relevent experience</td>\n      <td>Full time course</td>\n      <td>Graduate</td>\n      <td>STEM</td>\n      <td>5</td>\n      <td>None</td>\n      <td>None</td>\n      <td>never</td>\n      <td>83</td>\n      <td>0.0</td>\n    </tr>\n    <tr>\n      <th>3</th>\n      <td>33241</td>\n      <td>city_115</td>\n      <td>0.789</td>\n      <td>None</td>\n      <td>No relevent experience</td>\n      <td>None</td>\n      <td>Graduate</td>\n      <td>Business Degree</td>\n      <td>0</td>\n      <td>None</td>\n      <td>Pvt Ltd</td>\n      <td>never</td>\n      <td>52</td>\n      <td>1.0</td>\n    </tr>\n    <tr>\n      <th>4</th>\n      <td>666</td>\n      <td>city_162</td>\n      <td>0.767</td>\n      <td>Male</td>\n      <td>Has relevent experience</td>\n      <td>no_enrollment</td>\n      <td>Masters</td>\n      <td>STEM</td>\n      <td>21</td>\n      <td>50-99</td>\n      <td>Funded Startup</td>\n      <td>4</td>\n      <td>8</td>\n      <td>0.0</td>\n    </tr>\n  </tbody>\n</table>\n</div>"
     },
     "execution_count": 22,
     "metadata": {},
     "output_type": "execute_result"
    }
   ]
  },
  {
   "cell_type": "code",
   "source": [
    "# ▶ 관련경력(relevent_experience) 데이터 확인 \n",
    "df['relevent_experience'].value_counts()"
   ],
   "metadata": {
    "colab": {
     "base_uri": "https://localhost:8080/"
    },
    "id": "4L4UeV5luIga",
    "executionInfo": {
     "status": "ok",
     "timestamp": 1666160743018,
     "user_tz": -540,
     "elapsed": 866,
     "user": {
      "displayName": "박지환",
      "userId": "03562376240636475247"
     }
    },
    "outputId": "d6a1d60d-f6e2-4577-de17-406dee8abe3f"
   },
   "execution_count": 23,
   "outputs": [
    {
     "data": {
      "text/plain": "Has relevent experience    13792\nNo relevent experience      5366\nName: relevent_experience, dtype: int64"
     },
     "execution_count": 23,
     "metadata": {},
     "output_type": "execute_result"
    }
   ]
  },
  {
   "cell_type": "code",
   "source": [
    "# ▶ 관련경력(relevent_experience) 데이터의 Taget ratio 확인\n",
    "# ▶ 관련경력이 없을 수록 이직확률이 큼\n",
    "temp = df.groupby('relevent_experience')['target'].agg(['count', 'sum'])\n",
    "temp['ratio'] = round((temp['sum'] / temp['count'])*100,2)\n",
    "temp"
   ],
   "metadata": {
    "colab": {
     "base_uri": "https://localhost:8080/",
     "height": 143
    },
    "id": "UAwe7vVnykHy",
    "executionInfo": {
     "status": "ok",
     "timestamp": 1666161251558,
     "user_tz": -540,
     "elapsed": 448,
     "user": {
      "displayName": "박지환",
      "userId": "03562376240636475247"
     }
    },
    "outputId": "af2ef91b-ea10-42df-be22-5e7458893629"
   },
   "execution_count": 24,
   "outputs": [
    {
     "data": {
      "text/plain": "                         count     sum  ratio\nrelevent_experience                          \nHas relevent experience  13792  2961.0  21.47\nNo relevent experience    5366  1816.0  33.84",
      "text/html": "<div>\n<style scoped>\n    .dataframe tbody tr th:only-of-type {\n        vertical-align: middle;\n    }\n\n    .dataframe tbody tr th {\n        vertical-align: top;\n    }\n\n    .dataframe thead th {\n        text-align: right;\n    }\n</style>\n<table border=\"1\" class=\"dataframe\">\n  <thead>\n    <tr style=\"text-align: right;\">\n      <th></th>\n      <th>count</th>\n      <th>sum</th>\n      <th>ratio</th>\n    </tr>\n    <tr>\n      <th>relevent_experience</th>\n      <th></th>\n      <th></th>\n      <th></th>\n    </tr>\n  </thead>\n  <tbody>\n    <tr>\n      <th>Has relevent experience</th>\n      <td>13792</td>\n      <td>2961.0</td>\n      <td>21.47</td>\n    </tr>\n    <tr>\n      <th>No relevent experience</th>\n      <td>5366</td>\n      <td>1816.0</td>\n      <td>33.84</td>\n    </tr>\n  </tbody>\n</table>\n</div>"
     },
     "execution_count": 24,
     "metadata": {},
     "output_type": "execute_result"
    }
   ]
  },
  {
   "cell_type": "code",
   "source": [
    "# ▶ histogram\n",
    "plt.bar(temp.index.astype(str), temp['count']);"
   ],
   "metadata": {
    "colab": {
     "base_uri": "https://localhost:8080/",
     "height": 265
    },
    "id": "506BElrJ8vr-",
    "executionInfo": {
     "status": "ok",
     "timestamp": 1666161251559,
     "user_tz": -540,
     "elapsed": 3,
     "user": {
      "displayName": "박지환",
      "userId": "03562376240636475247"
     }
    },
    "outputId": "33354420-a943-4f1a-b717-a2bf729063a2"
   },
   "execution_count": 25,
   "outputs": [
    {
     "data": {
      "text/plain": "<Figure size 640x480 with 1 Axes>",
      "image/png": "[encoded data removed]"
     },
     "metadata": {},
     "output_type": "display_data"
    }
   ]
  },
  {
   "cell_type": "code",
   "source": [
    "# ▶ 등록한 대학 과정의 종류(enrolled_university) 데이터 확인 \n",
    "df['enrolled_university'].value_counts()"
   ],
   "metadata": {
    "colab": {
     "base_uri": "https://localhost:8080/"
    },
    "id": "rokm67GouIlJ",
    "executionInfo": {
     "status": "ok",
     "timestamp": 1666160880984,
     "user_tz": -540,
     "elapsed": 525,
     "user": {
      "displayName": "박지환",
      "userId": "03562376240636475247"
     }
    },
    "outputId": "a57223ac-ef45-4957-db7a-8cb9df55c4e0"
   },
   "execution_count": 26,
   "outputs": [
    {
     "data": {
      "text/plain": "no_enrollment       13817\nFull time course     3757\nPart time course     1198\nNone                  386\nName: enrolled_university, dtype: int64"
     },
     "execution_count": 26,
     "metadata": {},
     "output_type": "execute_result"
    }
   ]
  },
  {
   "cell_type": "code",
   "source": [
    "# ▶ 등록한 대학 과정의 종류(enrolled_university) Target Ratio 확인 \n",
    "# ▶ 'None'을 제외하면, 고학력 대학 과정의 종류일 수록 이직률이 높음\n",
    "temp = df.groupby('enrolled_university')['target'].agg(['count', 'sum'])\n",
    "temp['ratio'] = round((temp['sum'] / temp['count'])*100,2)\n",
    "temp"
   ],
   "metadata": {
    "colab": {
     "base_uri": "https://localhost:8080/",
     "height": 206
    },
    "id": "fvIh87ceykw0",
    "executionInfo": {
     "status": "ok",
     "timestamp": 1666161232877,
     "user_tz": -540,
     "elapsed": 4,
     "user": {
      "displayName": "박지환",
      "userId": "03562376240636475247"
     }
    },
    "outputId": "0c1ef1aa-43e6-4981-c778-408dc5c7c9d9"
   },
   "execution_count": 27,
   "outputs": [
    {
     "data": {
      "text/plain": "                     count     sum  ratio\nenrolled_university                      \nFull time course      3757  1431.0  38.09\nNone                   386   123.0  31.87\nPart time course      1198   302.0  25.21\nno_enrollment        13817  2921.0  21.14",
      "text/html": "<div>\n<style scoped>\n    .dataframe tbody tr th:only-of-type {\n        vertical-align: middle;\n    }\n\n    .dataframe tbody tr th {\n        vertical-align: top;\n    }\n\n    .dataframe thead th {\n        text-align: right;\n    }\n</style>\n<table border=\"1\" class=\"dataframe\">\n  <thead>\n    <tr style=\"text-align: right;\">\n      <th></th>\n      <th>count</th>\n      <th>sum</th>\n      <th>ratio</th>\n    </tr>\n    <tr>\n      <th>enrolled_university</th>\n      <th></th>\n      <th></th>\n      <th></th>\n    </tr>\n  </thead>\n  <tbody>\n    <tr>\n      <th>Full time course</th>\n      <td>3757</td>\n      <td>1431.0</td>\n      <td>38.09</td>\n    </tr>\n    <tr>\n      <th>None</th>\n      <td>386</td>\n      <td>123.0</td>\n      <td>31.87</td>\n    </tr>\n    <tr>\n      <th>Part time course</th>\n      <td>1198</td>\n      <td>302.0</td>\n      <td>25.21</td>\n    </tr>\n    <tr>\n      <th>no_enrollment</th>\n      <td>13817</td>\n      <td>2921.0</td>\n      <td>21.14</td>\n    </tr>\n  </tbody>\n</table>\n</div>"
     },
     "execution_count": 27,
     "metadata": {},
     "output_type": "execute_result"
    }
   ]
  },
  {
   "cell_type": "code",
   "source": [
    "# ▶ histogram\n",
    "plt.bar(temp.index.astype(str), temp['count']);"
   ],
   "metadata": {
    "colab": {
     "base_uri": "https://localhost:8080/",
     "height": 266
    },
    "id": "e6n8nvbp8q0X",
    "executionInfo": {
     "status": "ok",
     "timestamp": 1666161233734,
     "user_tz": -540,
     "elapsed": 860,
     "user": {
      "displayName": "박지환",
      "userId": "03562376240636475247"
     }
    },
    "outputId": "024f4c58-ea83-4005-f2a0-872a7c8023ff"
   },
   "execution_count": 28,
   "outputs": [
    {
     "data": {
      "text/plain": "<Figure size 640x480 with 1 Axes>",
      "image/png": "[encoded data removed]"
     },
     "metadata": {},
     "output_type": "display_data"
    }
   ]
  },
  {
   "cell_type": "code",
   "source": [
    "# ▶ 교육수준(education_level) 데이터 확인 \n",
    "df['education_level'].value_counts()"
   ],
   "metadata": {
    "colab": {
     "base_uri": "https://localhost:8080/"
    },
    "id": "KKPe3fxUkGXK",
    "executionInfo": {
     "status": "ok",
     "timestamp": 1666160979224,
     "user_tz": -540,
     "elapsed": 415,
     "user": {
      "displayName": "박지환",
      "userId": "03562376240636475247"
     }
    },
    "outputId": "29712193-c3d4-452d-9571-8ab93fd6320d"
   },
   "execution_count": 29,
   "outputs": [
    {
     "data": {
      "text/plain": "Graduate          11598\nMasters            4361\nHigh School        2017\nNone                460\nPhd                 414\nPrimary School      308\nName: education_level, dtype: int64"
     },
     "execution_count": 29,
     "metadata": {},
     "output_type": "execute_result"
    }
   ]
  },
  {
   "cell_type": "code",
   "source": [
    "# ▶ 교육수준(education_level)이 올라갈수록 이직률이 낮아짐\n",
    "temp = df.groupby('education_level')['target'].agg(['count', 'sum'])\n",
    "temp['ratio'] = round((temp['sum'] / temp['count'])*100,2)\n",
    "temp.sort_values(by=['ratio'], ascending=False)"
   ],
   "metadata": {
    "colab": {
     "base_uri": "https://localhost:8080/",
     "height": 269
    },
    "id": "3fbyziC2o9yF",
    "executionInfo": {
     "status": "ok",
     "timestamp": 1666161208001,
     "user_tz": -540,
     "elapsed": 1113,
     "user": {
      "displayName": "박지환",
      "userId": "03562376240636475247"
     }
    },
    "outputId": "6860d00b-0e44-4c00-8401-fa49631d54af"
   },
   "execution_count": 30,
   "outputs": [
    {
     "data": {
      "text/plain": "                 count     sum  ratio\neducation_level                      \nGraduate         11598  3245.0  27.98\nNone               460   104.0  22.61\nMasters           4361   935.0  21.44\nHigh School       2017   394.0  19.53\nPhd                414    58.0  14.01\nPrimary School     308    41.0  13.31",
      "text/html": "<div>\n<style scoped>\n    .dataframe tbody tr th:only-of-type {\n        vertical-align: middle;\n    }\n\n    .dataframe tbody tr th {\n        vertical-align: top;\n    }\n\n    .dataframe thead th {\n        text-align: right;\n    }\n</style>\n<table border=\"1\" class=\"dataframe\">\n  <thead>\n    <tr style=\"text-align: right;\">\n      <th></th>\n      <th>count</th>\n      <th>sum</th>\n      <th>ratio</th>\n    </tr>\n    <tr>\n      <th>education_level</th>\n      <th></th>\n      <th></th>\n      <th></th>\n    </tr>\n  </thead>\n  <tbody>\n    <tr>\n      <th>Graduate</th>\n      <td>11598</td>\n      <td>3245.0</td>\n      <td>27.98</td>\n    </tr>\n    <tr>\n      <th>None</th>\n      <td>460</td>\n      <td>104.0</td>\n      <td>22.61</td>\n    </tr>\n    <tr>\n      <th>Masters</th>\n      <td>4361</td>\n      <td>935.0</td>\n      <td>21.44</td>\n    </tr>\n    <tr>\n      <th>High School</th>\n      <td>2017</td>\n      <td>394.0</td>\n      <td>19.53</td>\n    </tr>\n    <tr>\n      <th>Phd</th>\n      <td>414</td>\n      <td>58.0</td>\n      <td>14.01</td>\n    </tr>\n    <tr>\n      <th>Primary School</th>\n      <td>308</td>\n      <td>41.0</td>\n      <td>13.31</td>\n    </tr>\n  </tbody>\n</table>\n</div>"
     },
     "execution_count": 30,
     "metadata": {},
     "output_type": "execute_result"
    }
   ]
  },
  {
   "cell_type": "code",
   "source": [
    "# ▶ histogram\n",
    "plt.bar(temp.index.astype(str), temp['count']);"
   ],
   "metadata": {
    "colab": {
     "base_uri": "https://localhost:8080/",
     "height": 266
    },
    "id": "5XdmJHtM8jPw",
    "executionInfo": {
     "status": "ok",
     "timestamp": 1666161213155,
     "user_tz": -540,
     "elapsed": 4,
     "user": {
      "displayName": "박지환",
      "userId": "03562376240636475247"
     }
    },
    "outputId": "62da1e01-0768-4f7e-e66a-a66eb2b45c52"
   },
   "execution_count": 31,
   "outputs": [
    {
     "data": {
      "text/plain": "<Figure size 640x480 with 1 Axes>",
      "image/png": "[encoded data removed]"
     },
     "metadata": {},
     "output_type": "display_data"
    }
   ]
  },
  {
   "cell_type": "code",
   "source": [
    "# ▶ 전공(major_discipline) 데이터 확인 \n",
    "df['major_discipline'].value_counts()"
   ],
   "metadata": {
    "colab": {
     "base_uri": "https://localhost:8080/"
    },
    "id": "eq7eZ1zej_08",
    "executionInfo": {
     "status": "ok",
     "timestamp": 1666161087556,
     "user_tz": -540,
     "elapsed": 474,
     "user": {
      "displayName": "박지환",
      "userId": "03562376240636475247"
     }
    },
    "outputId": "06003064-0a62-4d44-e27c-72e42cbe7568"
   },
   "execution_count": 32,
   "outputs": [
    {
     "data": {
      "text/plain": "STEM               14492\nNone                2813\nHumanities           669\nOther                381\nBusiness Degree      327\nArts                 253\nNo Major             223\nName: major_discipline, dtype: int64"
     },
     "execution_count": 32,
     "metadata": {},
     "output_type": "execute_result"
    }
   ]
  },
  {
   "cell_type": "code",
   "source": [
    "# ▶ 전공(major_discipline)에 따른 이직률은 큰 차이는 없음\n",
    "temp = df.groupby('major_discipline')['target'].agg(['count', 'sum'])\n",
    "temp['ratio'] = round((temp['sum'] / temp['count'])*100,2)\n",
    "temp"
   ],
   "metadata": {
    "colab": {
     "base_uri": "https://localhost:8080/",
     "height": 300
    },
    "id": "cY-zzsMIo-mJ",
    "executionInfo": {
     "status": "ok",
     "timestamp": 1666161104502,
     "user_tz": -540,
     "elapsed": 423,
     "user": {
      "displayName": "박지환",
      "userId": "03562376240636475247"
     }
    },
    "outputId": "1457163c-3cc7-4f2f-a465-c222bbcb6c3a"
   },
   "execution_count": 33,
   "outputs": [
    {
     "data": {
      "text/plain": "                  count     sum  ratio\nmajor_discipline                      \nArts                253    53.0  20.95\nBusiness Degree     327    86.0  26.30\nHumanities          669   141.0  21.08\nNo Major            223    55.0  24.66\nNone               2813   549.0  19.52\nOther               381   102.0  26.77\nSTEM              14492  3791.0  26.16",
      "text/html": "<div>\n<style scoped>\n    .dataframe tbody tr th:only-of-type {\n        vertical-align: middle;\n    }\n\n    .dataframe tbody tr th {\n        vertical-align: top;\n    }\n\n    .dataframe thead th {\n        text-align: right;\n    }\n</style>\n<table border=\"1\" class=\"dataframe\">\n  <thead>\n    <tr style=\"text-align: right;\">\n      <th></th>\n      <th>count</th>\n      <th>sum</th>\n      <th>ratio</th>\n    </tr>\n    <tr>\n      <th>major_discipline</th>\n      <th></th>\n      <th></th>\n      <th></th>\n    </tr>\n  </thead>\n  <tbody>\n    <tr>\n      <th>Arts</th>\n      <td>253</td>\n      <td>53.0</td>\n      <td>20.95</td>\n    </tr>\n    <tr>\n      <th>Business Degree</th>\n      <td>327</td>\n      <td>86.0</td>\n      <td>26.30</td>\n    </tr>\n    <tr>\n      <th>Humanities</th>\n      <td>669</td>\n      <td>141.0</td>\n      <td>21.08</td>\n    </tr>\n    <tr>\n      <th>No Major</th>\n      <td>223</td>\n      <td>55.0</td>\n      <td>24.66</td>\n    </tr>\n    <tr>\n      <th>None</th>\n      <td>2813</td>\n      <td>549.0</td>\n      <td>19.52</td>\n    </tr>\n    <tr>\n      <th>Other</th>\n      <td>381</td>\n      <td>102.0</td>\n      <td>26.77</td>\n    </tr>\n    <tr>\n      <th>STEM</th>\n      <td>14492</td>\n      <td>3791.0</td>\n      <td>26.16</td>\n    </tr>\n  </tbody>\n</table>\n</div>"
     },
     "execution_count": 33,
     "metadata": {},
     "output_type": "execute_result"
    }
   ]
  },
  {
   "cell_type": "code",
   "source": [
    "# ▶ histogram\n",
    "plt.bar(temp.index.astype(str), temp['count']);"
   ],
   "metadata": {
    "colab": {
     "base_uri": "https://localhost:8080/",
     "height": 265
    },
    "id": "EMISeKDijxSF",
    "executionInfo": {
     "status": "ok",
     "timestamp": 1666161178910,
     "user_tz": -540,
     "elapsed": 3,
     "user": {
      "displayName": "박지환",
      "userId": "03562376240636475247"
     }
    },
    "outputId": "9b70996e-f9a6-49dc-b0e0-277bbeb1b766"
   },
   "execution_count": 34,
   "outputs": [
    {
     "data": {
      "text/plain": "<Figure size 640x480 with 1 Axes>",
      "image/png": "[encoded data removed]"
     },
     "metadata": {},
     "output_type": "display_data"
    }
   ]
  },
  {
   "cell_type": "markdown",
   "source": [
    "## **🥇Session 3**  \n",
    "**┗ TabNet 활용 이직 예측**  \n",
    "---"
   ],
   "metadata": {
    "id": "5Xb0lCLiuI2h"
   }
  },
  {
   "cell_type": "markdown",
   "source": [
    "### · 모델링을 위한 데이터 준비\n",
    "---\n",
    "* 모델링을 수행하기 위해 Feature와 예측하고자하는 값인 Y로 데이터를 나눔\n",
    "* 학습과 예측을 위한 Train / Test set 분할"
   ],
   "metadata": {
    "id": "s3npRSCXuI5r"
   }
  },
  {
   "cell_type": "code",
   "source": [
    "# ▶ Data index split\n",
    "# ▶ Validation 활용 이유 : Hyperparamter 튜닝을 위한 중간 검증 Set, Test set을 온전히 평가 하기 위함(오염X)\n",
    "import numpy as np \n",
    "\n",
    "target = 'target'\n",
    "if \"Set\" not in df.columns:\n",
    "    df[\"Set\"] = np.random.choice([\"train\", \"valid\", \"test\"], p =[.8, .1, .1], size=(df.shape[0],))\n",
    "\n",
    "train_indices = df[df['Set']==\"train\"].index\n",
    "valid_indices = df[df['Set']==\"valid\"].index\n",
    "test_indices = df[df['Set']==\"test\"].index\n",
    "\n",
    "df.head()"
   ],
   "metadata": {
    "id": "RC5Rwcj_aLx0",
    "colab": {
     "base_uri": "https://localhost:8080/",
     "height": 287
    },
    "executionInfo": {
     "status": "ok",
     "timestamp": 1666161784138,
     "user_tz": -540,
     "elapsed": 3,
     "user": {
      "displayName": "박지환",
      "userId": "03562376240636475247"
     }
    },
    "outputId": "fe2d817a-1c80-437c-9d0c-a44dfa5866aa"
   },
   "execution_count": 35,
   "outputs": [
    {
     "data": {
      "text/plain": "   enrollee_id      city  city_development_index gender  \\\n0         8949  city_103                   0.920   Male   \n1        29725   city_40                   0.776   Male   \n2        11561   city_21                   0.624   None   \n3        33241  city_115                   0.789   None   \n4          666  city_162                   0.767   Male   \n\n       relevent_experience enrolled_university education_level  \\\n0  Has relevent experience       no_enrollment        Graduate   \n1   No relevent experience       no_enrollment        Graduate   \n2   No relevent experience    Full time course        Graduate   \n3   No relevent experience                None        Graduate   \n4  Has relevent experience       no_enrollment         Masters   \n\n  major_discipline  experience company_size    company_type last_new_job  \\\n0             STEM          21         None            None            1   \n1             STEM          15        50-99         Pvt Ltd           >4   \n2             STEM           5         None            None        never   \n3  Business Degree           0         None         Pvt Ltd        never   \n4             STEM          21        50-99  Funded Startup            4   \n\n   training_hours  target    Set  \n0              36     1.0  train  \n1              47     0.0  train  \n2              83     0.0  train  \n3              52     1.0  train  \n4               8     0.0  valid  ",
      "text/html": "<div>\n<style scoped>\n    .dataframe tbody tr th:only-of-type {\n        vertical-align: middle;\n    }\n\n    .dataframe tbody tr th {\n        vertical-align: top;\n    }\n\n    .dataframe thead th {\n        text-align: right;\n    }\n</style>\n<table border=\"1\" class=\"dataframe\">\n  <thead>\n    <tr style=\"text-align: right;\">\n      <th></th>\n      <th>enrollee_id</th>\n      <th>city</th>\n      <th>city_development_index</th>\n      <th>gender</th>\n      <th>relevent_experience</th>\n      <th>enrolled_university</th>\n      <th>education_level</th>\n      <th>major_discipline</th>\n      <th>experience</th>\n      <th>company_size</th>\n      <th>company_type</th>\n      <th>last_new_job</th>\n      <th>training_hours</th>\n      <th>target</th>\n      <th>Set</th>\n    </tr>\n  </thead>\n  <tbody>\n    <tr>\n      <th>0</th>\n      <td>8949</td>\n      <td>city_103</td>\n      <td>0.920</td>\n      <td>Male</td>\n      <td>Has relevent experience</td>\n      <td>no_enrollment</td>\n      <td>Graduate</td>\n      <td>STEM</td>\n      <td>21</td>\n      <td>None</td>\n      <td>None</td>\n      <td>1</td>\n      <td>36</td>\n      <td>1.0</td>\n      <td>train</td>\n    </tr>\n    <tr>\n      <th>1</th>\n      <td>29725</td>\n      <td>city_40</td>\n      <td>0.776</td>\n      <td>Male</td>\n      <td>No relevent experience</td>\n      <td>no_enrollment</td>\n      <td>Graduate</td>\n      <td>STEM</td>\n      <td>15</td>\n      <td>50-99</td>\n      <td>Pvt Ltd</td>\n      <td>&gt;4</td>\n      <td>47</td>\n      <td>0.0</td>\n      <td>train</td>\n    </tr>\n    <tr>\n      <th>2</th>\n      <td>11561</td>\n      <td>city_21</td>\n      <td>0.624</td>\n      <td>None</td>\n      <td>No relevent experience</td>\n      <td>Full time course</td>\n      <td>Graduate</td>\n      <td>STEM</td>\n      <td>5</td>\n      <td>None</td>\n      <td>None</td>\n      <td>never</td>\n      <td>83</td>\n      <td>0.0</td>\n      <td>train</td>\n    </tr>\n    <tr>\n      <th>3</th>\n      <td>33241</td>\n      <td>city_115</td>\n      <td>0.789</td>\n      <td>None</td>\n      <td>No relevent experience</td>\n      <td>None</td>\n      <td>Graduate</td>\n      <td>Business Degree</td>\n      <td>0</td>\n      <td>None</td>\n      <td>Pvt Ltd</td>\n      <td>never</td>\n      <td>52</td>\n      <td>1.0</td>\n      <td>train</td>\n    </tr>\n    <tr>\n      <th>4</th>\n      <td>666</td>\n      <td>city_162</td>\n      <td>0.767</td>\n      <td>Male</td>\n      <td>Has relevent experience</td>\n      <td>no_enrollment</td>\n      <td>Masters</td>\n      <td>STEM</td>\n      <td>21</td>\n      <td>50-99</td>\n      <td>Funded Startup</td>\n      <td>4</td>\n      <td>8</td>\n      <td>0.0</td>\n      <td>valid</td>\n    </tr>\n  </tbody>\n</table>\n</div>"
     },
     "execution_count": 35,
     "metadata": {},
     "output_type": "execute_result"
    }
   ]
  },
  {
   "cell_type": "code",
   "source": [
    "len(train_indices), len(valid_indices), len(test_indices)"
   ],
   "metadata": {
    "colab": {
     "base_uri": "https://localhost:8080/"
    },
    "id": "NkriwLg5-z6m",
    "executionInfo": {
     "status": "ok",
     "timestamp": 1666161807128,
     "user_tz": -540,
     "elapsed": 2,
     "user": {
      "displayName": "박지환",
      "userId": "03562376240636475247"
     }
    },
    "outputId": "df94b008-643c-4a87-da72-1a92b2abc74a"
   },
   "execution_count": 36,
   "outputs": [
    {
     "data": {
      "text/plain": "(15311, 1904, 1943)"
     },
     "execution_count": 36,
     "metadata": {},
     "output_type": "execute_result"
    }
   ]
  },
  {
   "cell_type": "code",
   "source": [
    "# ▶ LabelEncoding : 카테고리 데이터의 Level에 증가하는 숫자를 부여\n",
    "from sklearn.preprocessing import LabelEncoder\n",
    "\n",
    "categorical_columns = []\n",
    "categorical_dims =  {}\n",
    "for col in df.columns[df.dtypes == object]:\n",
    "    print(col, df[col].nunique())\n",
    "    l_enc = LabelEncoder()\n",
    "    df[col] = l_enc.fit_transform(df[col].values)\n",
    "    categorical_columns.append(col)\n",
    "    categorical_dims[col] = len(l_enc.classes_)"
   ],
   "metadata": {
    "colab": {
     "base_uri": "https://localhost:8080/"
    },
    "id": "EzjDap0S7yfR",
    "executionInfo": {
     "status": "ok",
     "timestamp": 1666161983305,
     "user_tz": -540,
     "elapsed": 423,
     "user": {
      "displayName": "박지환",
      "userId": "03562376240636475247"
     }
    },
    "outputId": "c6d3cebf-f526-4ecc-81c5-7f3d22049087"
   },
   "execution_count": 37,
   "outputs": [
    {
     "name": "stdout",
     "output_type": "stream",
     "text": [
      "city 123\n",
      "gender 4\n",
      "relevent_experience 2\n",
      "enrolled_university 4\n",
      "education_level 6\n",
      "major_discipline 7\n",
      "company_size 9\n",
      "company_type 7\n",
      "last_new_job 7\n",
      "Set 3\n"
     ]
    }
   ]
  },
  {
   "cell_type": "code",
   "source": [
    "print(categorical_columns)"
   ],
   "metadata": {
    "colab": {
     "base_uri": "https://localhost:8080/"
    },
    "id": "qmkkCijI_kfn",
    "executionInfo": {
     "status": "ok",
     "timestamp": 1666162000678,
     "user_tz": -540,
     "elapsed": 769,
     "user": {
      "displayName": "박지환",
      "userId": "03562376240636475247"
     }
    },
    "outputId": "d4ad7fd6-3e90-4bd3-c6d2-07b13228d23f"
   },
   "execution_count": 38,
   "outputs": [
    {
     "name": "stdout",
     "output_type": "stream",
     "text": [
      "['city', 'gender', 'relevent_experience', 'enrolled_university', 'education_level', 'major_discipline', 'company_size', 'company_type', 'last_new_job', 'Set']\n"
     ]
    }
   ]
  },
  {
   "cell_type": "code",
   "source": [
    "categorical_dims"
   ],
   "metadata": {
    "colab": {
     "base_uri": "https://localhost:8080/"
    },
    "id": "0mn-qjqc_pD2",
    "executionInfo": {
     "status": "ok",
     "timestamp": 1666162011409,
     "user_tz": -540,
     "elapsed": 2,
     "user": {
      "displayName": "박지환",
      "userId": "03562376240636475247"
     }
    },
    "outputId": "80c4c4d8-a464-4893-8d53-c94fa2ad017e"
   },
   "execution_count": 39,
   "outputs": [
    {
     "data": {
      "text/plain": "{'city': 123,\n 'gender': 4,\n 'relevent_experience': 2,\n 'enrolled_university': 4,\n 'education_level': 6,\n 'major_discipline': 7,\n 'company_size': 9,\n 'company_type': 7,\n 'last_new_job': 7,\n 'Set': 3}"
     },
     "execution_count": 39,
     "metadata": {},
     "output_type": "execute_result"
    }
   ]
  },
  {
   "cell_type": "code",
   "source": [
    "# ▶ Define categorical features for categorical embeddings\n",
    "# ▶ TabNet을 활용하기 위해서는 카테고리 변수와 dim을 전달해야 함\n",
    "unused_feat = ['Set', 'enrollee_id']\n",
    "features = [ col for col in df.columns if col not in unused_feat+[target]] \n",
    "cat_idxs = [ i for i, f in enumerate(features) if f in categorical_columns]\n",
    "cat_dims = [ categorical_dims[f] for i, f in enumerate(features) if f in categorical_columns]"
   ],
   "metadata": {
    "id": "Hqr_HARz9bgV",
    "executionInfo": {
     "status": "ok",
     "timestamp": 1666162319415,
     "user_tz": -540,
     "elapsed": 1,
     "user": {
      "displayName": "박지환",
      "userId": "03562376240636475247"
     }
    }
   },
   "execution_count": 40,
   "outputs": []
  },
  {
   "cell_type": "markdown",
   "source": [
    "### · 모델 학습 및 평가\n",
    "---\n",
    "* 딥러닝 모델 학습 및 평가"
   ],
   "metadata": {
    "id": "AprnMiZozRlI"
   }
  },
  {
   "cell_type": "code",
   "source": [
    "# ▶ train, valid, test data 분할\n",
    "X_train = df[features].values[train_indices]\n",
    "y_train = df[target].values[train_indices]\n",
    "\n",
    "X_valid = df[features].values[valid_indices]\n",
    "y_valid = df[target].values[valid_indices]\n",
    "\n",
    "X_test = df[features].values[test_indices]\n",
    "y_test = df[target].values[test_indices]"
   ],
   "metadata": {
    "id": "6kgtUlFZ-uX8",
    "executionInfo": {
     "status": "ok",
     "timestamp": 1666162323345,
     "user_tz": -540,
     "elapsed": 408,
     "user": {
      "displayName": "박지환",
      "userId": "03562376240636475247"
     }
    }
   },
   "execution_count": 41,
   "outputs": []
  },
  {
   "cell_type": "code",
   "source": [
    "import torch\n",
    "from pytorch_tabnet.tab_model import TabNetClassifier\n",
    "\n",
    "# https://sanghyu.tistory.com/113\n",
    "# optimizer: 이전에 정의한 optimizer 변수명을 넣어준다.\n",
    "# step_size: 몇 epoch마다 lr을 감소시킬지가 step_size를 의미한다.\n",
    "# gamma: gamma 비율로 lr을 감소시킨다.\n",
    "\n",
    "# ▶ Model design\n",
    "clf = TabNetClassifier(\n",
    "    cat_idxs=cat_idxs,\n",
    "    cat_dims=cat_dims,\n",
    "    cat_emb_dim=10,\n",
    "    optimizer_fn=torch.optim.Adam,\n",
    "    optimizer_params=dict(lr=2e-2),\n",
    "    # scheduler_params = {\"gamma\": 0.95,\n",
    "                    #  \"step_size\": 20},\n",
    "    # scheduler_fn=torch.optim.lr_scheduler.StepLR, epsilon=1e-15\n",
    ")"
   ],
   "metadata": {
    "id": "nY2RZLDE-Slj",
    "executionInfo": {
     "status": "ok",
     "timestamp": 1666162804562,
     "user_tz": -540,
     "elapsed": 3788,
     "user": {
      "displayName": "박지환",
      "userId": "03562376240636475247"
     }
    }
   },
   "execution_count": 42,
   "outputs": [
    {
     "name": "stderr",
     "output_type": "stream",
     "text": [
      "C:\\Users\\dukim\\miniconda3\\envs\\bootcamp\\lib\\site-packages\\pytorch_tabnet\\abstract_model.py:82: UserWarning: Device used : cpu\n",
      "  warnings.warn(f\"Device used : {self.device}\")\n"
     ]
    }
   ]
  },
  {
   "cell_type": "code",
   "source": [
    "# ▶ 모델 학습 \n",
    "# ▶ patience = Number of consecutive epochs without improvement before performing early stopping.\n",
    "max_epochs = 50 \n",
    "clf.fit(\n",
    "    X_train=X_train, y_train=y_train,\n",
    "    eval_set=[(X_train, y_train), (X_valid, y_valid)],\n",
    "    eval_name=['train', 'valid'],\n",
    "    eval_metric=['logloss'],\n",
    "    max_epochs=max_epochs, patience=100,\n",
    "    batch_size=1024, virtual_batch_size=128)"
   ],
   "metadata": {
    "colab": {
     "base_uri": "https://localhost:8080/"
    },
    "id": "Q6CG2bLD_5yG",
    "executionInfo": {
     "status": "ok",
     "timestamp": 1666162899378,
     "user_tz": -540,
     "elapsed": 92888,
     "user": {
      "displayName": "박지환",
      "userId": "03562376240636475247"
     }
    },
    "outputId": "9008b2f2-f759-4d63-9cb5-b01b80ecbf5b"
   },
   "execution_count": 43,
   "outputs": [
    {
     "name": "stdout",
     "output_type": "stream",
     "text": [
      "epoch 0  | loss: 0.57696 | train_logloss: 0.58185 | valid_logloss: 0.56631 |  0:00:01s\n",
      "epoch 1  | loss: 0.50418 | train_logloss: 0.59018 | valid_logloss: 0.58153 |  0:00:02s\n",
      "epoch 2  | loss: 0.486   | train_logloss: 0.57319 | valid_logloss: 0.56885 |  0:00:04s\n",
      "epoch 3  | loss: 0.48006 | train_logloss: 0.58282 | valid_logloss: 0.57471 |  0:00:05s\n",
      "epoch 4  | loss: 0.46895 | train_logloss: 0.57299 | valid_logloss: 0.57771 |  0:00:07s\n",
      "epoch 5  | loss: 0.46087 | train_logloss: 0.56274 | valid_logloss: 0.55655 |  0:00:08s\n",
      "epoch 6  | loss: 0.46283 | train_logloss: 0.54554 | valid_logloss: 0.53967 |  0:00:09s\n",
      "epoch 7  | loss: 0.45888 | train_logloss: 0.56647 | valid_logloss: 0.56052 |  0:00:11s\n",
      "epoch 8  | loss: 0.45551 | train_logloss: 0.54809 | valid_logloss: 0.54343 |  0:00:12s\n",
      "epoch 9  | loss: 0.45313 | train_logloss: 0.5543  | valid_logloss: 0.54703 |  0:00:13s\n",
      "epoch 10 | loss: 0.45346 | train_logloss: 0.5491  | valid_logloss: 0.53994 |  0:00:15s\n",
      "epoch 11 | loss: 0.45187 | train_logloss: 0.54127 | valid_logloss: 0.53088 |  0:00:16s\n",
      "epoch 12 | loss: 0.45917 | train_logloss: 0.55548 | valid_logloss: 0.55027 |  0:00:17s\n",
      "epoch 13 | loss: 0.45911 | train_logloss: 0.54301 | valid_logloss: 0.53644 |  0:00:19s\n",
      "epoch 14 | loss: 0.44974 | train_logloss: 0.52625 | valid_logloss: 0.52172 |  0:00:22s\n",
      "epoch 15 | loss: 0.44618 | train_logloss: 0.53065 | valid_logloss: 0.52945 |  0:00:23s\n",
      "epoch 16 | loss: 0.44475 | train_logloss: 0.51443 | valid_logloss: 0.51491 |  0:00:25s\n",
      "epoch 17 | loss: 0.44855 | train_logloss: 0.52738 | valid_logloss: 0.53077 |  0:00:26s\n",
      "epoch 18 | loss: 0.44747 | train_logloss: 0.51279 | valid_logloss: 0.51571 |  0:00:28s\n",
      "epoch 19 | loss: 0.44251 | train_logloss: 0.50007 | valid_logloss: 0.50509 |  0:00:30s\n",
      "epoch 20 | loss: 0.44529 | train_logloss: 0.49761 | valid_logloss: 0.50093 |  0:00:32s\n",
      "epoch 21 | loss: 0.4429  | train_logloss: 0.4943  | valid_logloss: 0.49517 |  0:00:33s\n",
      "epoch 22 | loss: 0.4446  | train_logloss: 0.50058 | valid_logloss: 0.49978 |  0:00:34s\n",
      "epoch 23 | loss: 0.45273 | train_logloss: 0.5052  | valid_logloss: 0.49781 |  0:00:36s\n",
      "epoch 24 | loss: 0.45107 | train_logloss: 0.50377 | valid_logloss: 0.4995  |  0:00:38s\n",
      "epoch 25 | loss: 0.44669 | train_logloss: 0.49186 | valid_logloss: 0.48781 |  0:00:39s\n",
      "epoch 26 | loss: 0.44774 | train_logloss: 0.50345 | valid_logloss: 0.50009 |  0:00:42s\n",
      "epoch 27 | loss: 0.44365 | train_logloss: 0.48896 | valid_logloss: 0.4879  |  0:00:43s\n",
      "epoch 28 | loss: 0.44565 | train_logloss: 0.49742 | valid_logloss: 0.49308 |  0:00:45s\n",
      "epoch 29 | loss: 0.45315 | train_logloss: 0.47658 | valid_logloss: 0.46877 |  0:00:47s\n",
      "epoch 30 | loss: 0.44729 | train_logloss: 0.47356 | valid_logloss: 0.46685 |  0:00:48s\n",
      "epoch 31 | loss: 0.44529 | train_logloss: 0.46505 | valid_logloss: 0.46599 |  0:00:50s\n",
      "epoch 32 | loss: 0.44553 | train_logloss: 0.45706 | valid_logloss: 0.45412 |  0:00:52s\n",
      "epoch 33 | loss: 0.44025 | train_logloss: 0.46889 | valid_logloss: 0.46423 |  0:00:53s\n",
      "epoch 34 | loss: 0.43969 | train_logloss: 0.45616 | valid_logloss: 0.45767 |  0:00:55s\n",
      "epoch 35 | loss: 0.4418  | train_logloss: 0.4463  | valid_logloss: 0.44693 |  0:00:57s\n",
      "epoch 36 | loss: 0.44066 | train_logloss: 0.4459  | valid_logloss: 0.44324 |  0:00:58s\n",
      "epoch 37 | loss: 0.44178 | train_logloss: 0.43904 | valid_logloss: 0.44038 |  0:01:00s\n",
      "epoch 38 | loss: 0.44286 | train_logloss: 0.44257 | valid_logloss: 0.44511 |  0:01:01s\n",
      "epoch 39 | loss: 0.44163 | train_logloss: 0.43808 | valid_logloss: 0.44329 |  0:01:03s\n",
      "epoch 40 | loss: 0.44001 | train_logloss: 0.43597 | valid_logloss: 0.44025 |  0:01:05s\n",
      "epoch 41 | loss: 0.43687 | train_logloss: 0.43697 | valid_logloss: 0.44102 |  0:01:06s\n",
      "epoch 42 | loss: 0.44152 | train_logloss: 0.44039 | valid_logloss: 0.4461  |  0:01:08s\n",
      "epoch 43 | loss: 0.44043 | train_logloss: 0.44037 | valid_logloss: 0.44509 |  0:01:10s\n",
      "epoch 44 | loss: 0.44041 | train_logloss: 0.43432 | valid_logloss: 0.43977 |  0:01:11s\n",
      "epoch 45 | loss: 0.43892 | train_logloss: 0.43295 | valid_logloss: 0.44009 |  0:01:13s\n",
      "epoch 46 | loss: 0.43607 | train_logloss: 0.43294 | valid_logloss: 0.43867 |  0:01:14s\n",
      "epoch 47 | loss: 0.43696 | train_logloss: 0.43315 | valid_logloss: 0.43809 |  0:01:16s\n",
      "epoch 48 | loss: 0.43662 | train_logloss: 0.43336 | valid_logloss: 0.43883 |  0:01:18s\n",
      "epoch 49 | loss: 0.43491 | train_logloss: 0.43226 | valid_logloss: 0.43826 |  0:01:19s\n",
      "Stop training because you reached max_epochs = 50 with best_epoch = 47 and best_valid_logloss = 0.43809\n"
     ]
    },
    {
     "name": "stderr",
     "output_type": "stream",
     "text": [
      "C:\\Users\\dukim\\miniconda3\\envs\\bootcamp\\lib\\site-packages\\pytorch_tabnet\\callbacks.py:172: UserWarning: Best weights from best epoch are automatically used!\n",
      "  warnings.warn(wrn_msg)\n"
     ]
    }
   ]
  },
  {
   "cell_type": "code",
   "source": [
    "# ▶ Train, Validation Set 성능 비교\n",
    "import numpy as np\n",
    "train_logloss = clf.history['train_logloss']\n",
    "val_logloss = clf.history['valid_logloss']\n",
    "\n",
    "\n",
    "# ▶ logloss\n",
    "x_len = np.arange(len(val_logloss))\n",
    "plt.figure(figsize=(15, 5))\n",
    "plt.plot(x_len, train_logloss, marker='.', c='blue', label=\"Train-set logloss\")\n",
    "plt.plot(x_len, val_logloss, marker='.', c='red', label=\"Validation-set logloss\")\n",
    "\n",
    "plt.legend(loc='upper right')\n",
    "plt.grid()\n",
    "plt.xlabel('epoch')\n",
    "plt.ylabel('logloss')\n",
    "plt.show()"
   ],
   "metadata": {
    "colab": {
     "base_uri": "https://localhost:8080/",
     "height": 334
    },
    "id": "4y29DtudFdQI",
    "executionInfo": {
     "status": "ok",
     "timestamp": 1666162994192,
     "user_tz": -540,
     "elapsed": 772,
     "user": {
      "displayName": "박지환",
      "userId": "03562376240636475247"
     }
    },
    "outputId": "5cb52199-eda4-4c1e-8fce-ff8eb109a4ac"
   },
   "execution_count": 44,
   "outputs": [
    {
     "data": {
      "text/plain": "<Figure size 1500x500 with 1 Axes>",
      "image/png": "[encoded data removed]"
     },
     "metadata": {},
     "output_type": "display_data"
    }
   ]
  },
  {
   "cell_type": "code",
   "source": [
    "# ▶ 예측 확률\n",
    "preds = clf.predict_proba(X_test)\n",
    "proba = preds[:,1]\n",
    "print(proba[0:5])"
   ],
   "metadata": {
    "id": "LOCAmBFCFd_h",
    "colab": {
     "base_uri": "https://localhost:8080/"
    },
    "executionInfo": {
     "status": "ok",
     "timestamp": 1666163085247,
     "user_tz": -540,
     "elapsed": 426,
     "user": {
      "displayName": "박지환",
      "userId": "03562376240636475247"
     }
    },
    "outputId": "0a5cbe76-e137-4eae-bbd0-bdf7808fa027"
   },
   "execution_count": 45,
   "outputs": [
    {
     "name": "stdout",
     "output_type": "stream",
     "text": [
      "[0.5447915  0.4906685  0.4906685  0.57947874 0.5434421 ]\n"
     ]
    }
   ]
  },
  {
   "cell_type": "code",
   "source": [
    "# ▶ 예측 값\n",
    "y_pred = clf.predict(X_test)\n",
    "print(y_pred[0:5])"
   ],
   "metadata": {
    "id": "ecJjrVkbHe_D",
    "colab": {
     "base_uri": "https://localhost:8080/"
    },
    "executionInfo": {
     "status": "ok",
     "timestamp": 1666163097241,
     "user_tz": -540,
     "elapsed": 424,
     "user": {
      "displayName": "박지환",
      "userId": "03562376240636475247"
     }
    },
    "outputId": "035567a3-5849-478a-ec44-411f540a9335"
   },
   "execution_count": 46,
   "outputs": [
    {
     "name": "stdout",
     "output_type": "stream",
     "text": [
      "[1. 0. 0. 1. 1.]\n"
     ]
    }
   ]
  },
  {
   "cell_type": "code",
   "source": [
    "# ▶ 성능평가\n",
    "from sklearn.metrics import classification_report\n",
    "print(classification_report(y_test, y_pred))"
   ],
   "metadata": {
    "colab": {
     "base_uri": "https://localhost:8080/"
    },
    "id": "ANFyqQy-EC7h",
    "executionInfo": {
     "status": "ok",
     "timestamp": 1666163142086,
     "user_tz": -540,
     "elapsed": 521,
     "user": {
      "displayName": "박지환",
      "userId": "03562376240636475247"
     }
    },
    "outputId": "c470f55a-db39-4bd0-dccf-95bfccce07f7"
   },
   "execution_count": 47,
   "outputs": [
    {
     "name": "stdout",
     "output_type": "stream",
     "text": [
      "              precision    recall  f1-score   support\n",
      "\n",
      "         0.0       0.82      0.88      0.85      1429\n",
      "         1.0       0.58      0.47      0.52       514\n",
      "\n",
      "    accuracy                           0.77      1943\n",
      "   macro avg       0.70      0.67      0.68      1943\n",
      "weighted avg       0.76      0.77      0.76      1943\n",
      "\n"
     ]
    }
   ]
  },
  {
   "cell_type": "code",
   "source": [
    "# ▶ roc_auc_score_test 계산\n",
    "from sklearn.metrics import roc_auc_score\n",
    "\n",
    "roc_score_test = roc_auc_score(y_test, preds[:,1])\n",
    "print(\"roc_score_test :\", roc_score_test)"
   ],
   "metadata": {
    "colab": {
     "base_uri": "https://localhost:8080/"
    },
    "id": "keaAMA2RHiNi",
    "executionInfo": {
     "status": "ok",
     "timestamp": 1666163208609,
     "user_tz": -540,
     "elapsed": 413,
     "user": {
      "displayName": "박지환",
      "userId": "03562376240636475247"
     }
    },
    "outputId": "b8d7e806-5e8c-42d6-b648-792281091c1f"
   },
   "execution_count": 48,
   "outputs": [
    {
     "name": "stdout",
     "output_type": "stream",
     "text": [
      "roc_score_test : 0.7830609960980576\n"
     ]
    }
   ]
  },
  {
   "cell_type": "code",
   "source": [
    "from sklearn.metrics import roc_curve\n",
    "def roc_curve_plot(y_test , pred_proba_c1):\n",
    "    # ▶ 임곗값에 따른 FPR, TPR 값을 반환 받음. \n",
    "    fprs , tprs , thresholds = roc_curve(y_test ,pred_proba_c1)\n",
    "\n",
    "    # ▶ ROC Curve를 plot 곡선으로 그림. \n",
    "    plt.plot(fprs , tprs, label='ROC')\n",
    "    # ▶ 가운데 대각선 직선을 그림. \n",
    "    plt.plot([0, 1], [0, 1], 'k--', label='Random', color='red')\n",
    "  \n",
    "    # ▶ FPR X 축의 Scale을 0.1 단위로 변경, X,Y 축명 설정등   \n",
    "    start, end = plt.xlim()\n",
    "    plt.xticks(np.round(np.arange(start, end, 0.1),2))\n",
    "    plt.xlim(0,1)\n",
    "    plt.ylim(0,1)\n",
    "    plt.xlabel('FPR( 1 - Sensitivity )')\n",
    "    plt.ylabel('TPR( Recall )')\n",
    "    plt.legend()\n",
    "    plt.show()"
   ],
   "metadata": {
    "id": "RY2YOVogHvur",
    "executionInfo": {
     "status": "ok",
     "timestamp": 1666163371206,
     "user_tz": -540,
     "elapsed": 619,
     "user": {
      "displayName": "박지환",
      "userId": "03562376240636475247"
     }
    }
   },
   "execution_count": 49,
   "outputs": []
  },
  {
   "cell_type": "code",
   "source": [
    "roc_curve_plot(y_test, preds[:,1])"
   ],
   "metadata": {
    "colab": {
     "base_uri": "https://localhost:8080/",
     "height": 283
    },
    "id": "IsgtkjMTHpE8",
    "executionInfo": {
     "status": "ok",
     "timestamp": 1666163373725,
     "user_tz": -540,
     "elapsed": 3,
     "user": {
      "displayName": "박지환",
      "userId": "03562376240636475247"
     }
    },
    "outputId": "37334619-4acb-43b4-f5cc-b92e2ce14150"
   },
   "execution_count": 50,
   "outputs": [
    {
     "name": "stderr",
     "output_type": "stream",
     "text": [
      "C:\\Users\\dukim\\AppData\\Local\\Temp\\ipykernel_10476\\3963128158.py:9: UserWarning: color is redundantly defined by the 'color' keyword argument and the fmt string \"k--\" (-> color='k'). The keyword argument will take precedence.\n",
      "  plt.plot([0, 1], [0, 1], 'k--', label='Random', color='red')\n"
     ]
    },
    {
     "data": {
      "text/plain": "<Figure size 640x480 with 1 Axes>",
      "image/png": "[encoded data removed]"
     },
     "metadata": {},
     "output_type": "display_data"
    }
   ]
  },
  {
   "cell_type": "markdown",
   "source": [
    "### · 변수 중요도 분석(Global, Local)\n",
    "---\n",
    "* TabNet의 장점 : 개별 Instance에 대한 Local 중요도와, 전체 관점에서 Global 중요도를 확인 가능"
   ],
   "metadata": {
    "id": "pXTuVLvV0_ry"
   }
  },
  {
   "cell_type": "code",
   "source": [
    "features"
   ],
   "metadata": {
    "colab": {
     "base_uri": "https://localhost:8080/"
    },
    "id": "m_fw0Pfx1NNj",
    "executionInfo": {
     "status": "ok",
     "timestamp": 1666163396515,
     "user_tz": -540,
     "elapsed": 801,
     "user": {
      "displayName": "박지환",
      "userId": "03562376240636475247"
     }
    },
    "outputId": "ba9b0532-7457-4d14-d81b-cca17bd75fa8"
   },
   "execution_count": 51,
   "outputs": [
    {
     "data": {
      "text/plain": "['city',\n 'city_development_index',\n 'gender',\n 'relevent_experience',\n 'enrolled_university',\n 'education_level',\n 'major_discipline',\n 'experience',\n 'company_size',\n 'company_type',\n 'last_new_job',\n 'training_hours']"
     },
     "execution_count": 51,
     "metadata": {},
     "output_type": "execute_result"
    }
   ]
  },
  {
   "cell_type": "code",
   "source": [
    "# 개별 값 변수 중요도\n",
    "# - 영향을 끼친 변수는 0으로 출력\n",
    "import seaborn as sns\n",
    "import matplotlib.pyplot as plt\n",
    "import numpy as np\n",
    "%matplotlib inline\n",
    "plt.style.use(['dark_background'])\n",
    "\n",
    "explain_matrix, masks = clf.explain(X_test)\n",
    "\n",
    "fig = plt.figure(figsize=(25,5));\n",
    "plt.bar(features, explain_matrix[3]);\n",
    "plt.xticks(features);\n",
    "plt.xticks(rotation=-40)"
   ],
   "metadata": {
    "colab": {
     "base_uri": "https://localhost:8080/",
     "height": 391
    },
    "id": "wrXhRKpK1CKx",
    "executionInfo": {
     "status": "ok",
     "timestamp": 1666163682776,
     "user_tz": -540,
     "elapsed": 1388,
     "user": {
      "displayName": "박지환",
      "userId": "03562376240636475247"
     }
    },
    "outputId": "9e4835c9-ca86-446a-ed5b-140bee7c8a0b"
   },
   "execution_count": 52,
   "outputs": [
    {
     "data": {
      "text/plain": "(array([ 0.,  1.,  2.,  3.,  4.,  5.,  6.,  7.,  8.,  9., 10., 11.]),\n [Text(0.0, 0, 'city'),\n  Text(1.0, 0, 'city_development_index'),\n  Text(2.0, 0, 'gender'),\n  Text(3.0, 0, 'relevent_experience'),\n  Text(4.0, 0, 'enrolled_university'),\n  Text(5.0, 0, 'education_level'),\n  Text(6.0, 0, 'major_discipline'),\n  Text(7.0, 0, 'experience'),\n  Text(8.0, 0, 'company_size'),\n  Text(9.0, 0, 'company_type'),\n  Text(10.0, 0, 'last_new_job'),\n  Text(11.0, 0, 'training_hours')])"
     },
     "execution_count": 52,
     "metadata": {},
     "output_type": "execute_result"
    },
    {
     "data": {
      "text/plain": "<Figure size 2500x500 with 1 Axes>",
      "image/png": "[encoded data removed]"
     },
     "metadata": {},
     "output_type": "display_data"
    }
   ]
  },
  {
   "cell_type": "code",
   "source": [
    "# ▶ Global 영향도 확인\n",
    "import matplotlib.pyplot as plt\n",
    "import seaborn as sns\n",
    "%matplotlib inline\n",
    "plt.style.use(['dark_background'])\n",
    "\n",
    "ftr_importances_values = clf.feature_importances_\n",
    "ftr_importances = pd.Series(ftr_importances_values, index = features)\n",
    "ftr_top20 = ftr_importances.sort_values(ascending=False)[:20]\n",
    "\n",
    "plt.figure(figsize=(8,6))\n",
    "plt.title('Feature Importances')\n",
    "sns.barplot(x=ftr_top20, y=ftr_top20.index)\n",
    "plt.show()"
   ],
   "metadata": {
    "colab": {
     "base_uri": "https://localhost:8080/",
     "height": 390
    },
    "id": "8pjGk75J1ES6",
    "executionInfo": {
     "status": "ok",
     "timestamp": 1666163697317,
     "user_tz": -540,
     "elapsed": 504,
     "user": {
      "displayName": "박지환",
      "userId": "03562376240636475247"
     }
    },
    "outputId": "2b47341c-8a9f-4fb4-f28f-9806ffb4cdc6"
   },
   "execution_count": 53,
   "outputs": [
    {
     "data": {
      "text/plain": "<Figure size 800x600 with 1 Axes>",
      "image/png": "[encoded data removed]"
     },
     "metadata": {},
     "output_type": "display_data"
    }
   ]
  },
  {
   "cell_type": "code",
   "source": [
    "temp = df.groupby('city_development_index')['target'].agg(['count', 'sum'])\n",
    "temp['ratio'] = round((temp['sum'] / temp['count'])*100,2)\n",
    "temp"
   ],
   "metadata": {
    "colab": {
     "base_uri": "https://localhost:8080/",
     "height": 1000
    },
    "id": "sooqsmqNGm8W",
    "executionInfo": {
     "status": "ok",
     "timestamp": 1666163848530,
     "user_tz": -540,
     "elapsed": 413,
     "user": {
      "displayName": "박지환",
      "userId": "03562376240636475247"
     }
    },
    "outputId": "c32aafa5-07b4-4440-d2b3-0e006e0375fa"
   },
   "execution_count": 54,
   "outputs": [
    {
     "data": {
      "text/plain": "                        count     sum   ratio\ncity_development_index                       \n0.448                      17    11.0   64.71\n0.479                      28    15.0   53.57\n0.487                       5     4.0   80.00\n0.493                      13     7.0   53.85\n0.512                       5     3.0   60.00\n0.516                      12     7.0   58.33\n0.518                       6     4.0   66.67\n0.527                      92    52.0   56.52\n0.550                     247   147.0   59.51\n0.555                      63    37.0   58.73\n0.556                      14    11.0   78.57\n0.558                      75    43.0   57.33\n0.563                      13     9.0   69.23\n0.579                     135    70.0   51.85\n0.624                    2702  1597.0   59.10\n0.625                       3     0.0    0.00\n0.640                      13     2.0   15.38\n0.645                       5     0.0    0.00\n0.647                      27     5.0   18.52\n0.649                       4     1.0   25.00\n0.664                       1     1.0  100.00\n0.666                     114    16.0   14.04\n0.680                       9     3.0   33.33\n0.682                     119    45.0   37.82\n0.689                     102    24.0   23.53\n0.691                      45    16.0   35.56\n0.693                       4     0.0    0.00\n0.698                     683   194.0   28.40\n0.701                       9     3.0   33.33\n0.722                      27     9.0   33.33\n0.725                      18     6.0   33.33\n0.727                      53    16.0   30.19\n0.730                       7     1.0   14.29\n0.735                       8     3.0   37.50\n0.738                      79    21.0   26.58\n0.739                      14     4.0   28.57\n0.740                      67    24.0   35.82\n0.742                      10     2.0   20.00\n0.743                     146    27.0   18.49\n0.745                      10     2.0   20.00\n0.754                     280    74.0   26.43\n0.762                     128    35.0   27.34\n0.763                      27     4.0   14.81\n0.764                      24     7.0   29.17\n0.766                      49    15.0   30.61\n0.767                     128    37.0   28.91\n0.769                      22     3.0   13.64\n0.775                      10     3.0   30.00\n0.776                      82    13.0   15.85\n0.780                       6     1.0   16.67\n0.781                       3     1.0   33.33\n0.788                       7     0.0    0.00\n0.789                      54    21.0   38.89\n0.794                      93    11.0   11.83\n0.795                      20     2.0   10.00\n0.796                      29     3.0   10.34\n0.802                     175    24.0   13.71\n0.804                     304    52.0   17.11\n0.807                       4     1.0   25.00\n0.824                       4     1.0   25.00\n0.827                     137    24.0   17.52\n0.830                      32     1.0    3.12\n0.836                     120    10.0    8.33\n0.840                      29     8.0   27.59\n0.843                      94    14.0   14.89\n0.847                      41     5.0   12.20\n0.848                      47     9.0   19.15\n0.855                     431    57.0   13.23\n0.856                      32     5.0   15.62\n0.865                      26     5.0   19.23\n0.866                     103    13.0   12.62\n0.878                     151    19.0   12.58\n0.884                     266    39.0   14.66\n0.887                     275    65.0   23.64\n0.890                     113    16.0   14.16\n0.893                     160    13.0    8.12\n0.895                      86     9.0   10.47\n0.896                     140    15.0   10.71\n0.897                     586    61.0   10.41\n0.898                      11     0.0    0.00\n0.899                     182    16.0    8.79\n0.903                      82    18.0   21.95\n0.910                    1533   179.0   11.68\n0.913                     197    19.0    9.64\n0.915                      94    15.0   15.96\n0.920                    5200  1127.0   21.67\n0.921                      10     3.0   30.00\n0.923                     143    23.0   16.08\n0.924                     301    28.0    9.30\n0.925                     171    24.0   14.04\n0.926                    1336   133.0    9.96\n0.939                     497    46.0    9.26\n0.949                      79     8.0   10.13",
      "text/html": "<div>\n<style scoped>\n    .dataframe tbody tr th:only-of-type {\n        vertical-align: middle;\n    }\n\n    .dataframe tbody tr th {\n        vertical-align: top;\n    }\n\n    .dataframe thead th {\n        text-align: right;\n    }\n</style>\n<table border=\"1\" class=\"dataframe\">\n  <thead>\n    <tr style=\"text-align: right;\">\n      <th></th>\n      <th>count</th>\n      <th>sum</th>\n      <th>ratio</th>\n    </tr>\n    <tr>\n      <th>city_development_index</th>\n      <th></th>\n      <th></th>\n      <th></th>\n    </tr>\n  </thead>\n  <tbody>\n    <tr>\n      <th>0.448</th>\n      <td>17</td>\n      <td>11.0</td>\n      <td>64.71</td>\n    </tr>\n    <tr>\n      <th>0.479</th>\n      <td>28</td>\n      <td>15.0</td>\n      <td>53.57</td>\n    </tr>\n    <tr>\n      <th>0.487</th>\n      <td>5</td>\n      <td>4.0</td>\n      <td>80.00</td>\n    </tr>\n    <tr>\n      <th>0.493</th>\n      <td>13</td>\n      <td>7.0</td>\n      <td>53.85</td>\n    </tr>\n    <tr>\n      <th>0.512</th>\n      <td>5</td>\n      <td>3.0</td>\n      <td>60.00</td>\n    </tr>\n    <tr>\n      <th>0.516</th>\n      <td>12</td>\n      <td>7.0</td>\n      <td>58.33</td>\n    </tr>\n    <tr>\n      <th>0.518</th>\n      <td>6</td>\n      <td>4.0</td>\n      <td>66.67</td>\n    </tr>\n    <tr>\n      <th>0.527</th>\n      <td>92</td>\n      <td>52.0</td>\n      <td>56.52</td>\n    </tr>\n    <tr>\n      <th>0.550</th>\n      <td>247</td>\n      <td>147.0</td>\n      <td>59.51</td>\n    </tr>\n    <tr>\n      <th>0.555</th>\n      <td>63</td>\n      <td>37.0</td>\n      <td>58.73</td>\n    </tr>\n    <tr>\n      <th>0.556</th>\n      <td>14</td>\n      <td>11.0</td>\n      <td>78.57</td>\n    </tr>\n    <tr>\n      <th>0.558</th>\n      <td>75</td>\n      <td>43.0</td>\n      <td>57.33</td>\n    </tr>\n    <tr>\n      <th>0.563</th>\n      <td>13</td>\n      <td>9.0</td>\n      <td>69.23</td>\n    </tr>\n    <tr>\n      <th>0.579</th>\n      <td>135</td>\n      <td>70.0</td>\n      <td>51.85</td>\n    </tr>\n    <tr>\n      <th>0.624</th>\n      <td>2702</td>\n      <td>1597.0</td>\n      <td>59.10</td>\n    </tr>\n    <tr>\n      <th>0.625</th>\n      <td>3</td>\n      <td>0.0</td>\n      <td>0.00</td>\n    </tr>\n    <tr>\n      <th>0.640</th>\n      <td>13</td>\n      <td>2.0</td>\n      <td>15.38</td>\n    </tr>\n    <tr>\n      <th>0.645</th>\n      <td>5</td>\n      <td>0.0</td>\n      <td>0.00</td>\n    </tr>\n    <tr>\n      <th>0.647</th>\n      <td>27</td>\n      <td>5.0</td>\n      <td>18.52</td>\n    </tr>\n    <tr>\n      <th>0.649</th>\n      <td>4</td>\n      <td>1.0</td>\n      <td>25.00</td>\n    </tr>\n    <tr>\n      <th>0.664</th>\n      <td>1</td>\n      <td>1.0</td>\n      <td>100.00</td>\n    </tr>\n    <tr>\n      <th>0.666</th>\n      <td>114</td>\n      <td>16.0</td>\n      <td>14.04</td>\n    </tr>\n    <tr>\n      <th>0.680</th>\n      <td>9</td>\n      <td>3.0</td>\n      <td>33.33</td>\n    </tr>\n    <tr>\n      <th>0.682</th>\n      <td>119</td>\n      <td>45.0</td>\n      <td>37.82</td>\n    </tr>\n    <tr>\n      <th>0.689</th>\n      <td>102</td>\n      <td>24.0</td>\n      <td>23.53</td>\n    </tr>\n    <tr>\n      <th>0.691</th>\n      <td>45</td>\n      <td>16.0</td>\n      <td>35.56</td>\n    </tr>\n    <tr>\n      <th>0.693</th>\n      <td>4</td>\n      <td>0.0</td>\n      <td>0.00</td>\n    </tr>\n    <tr>\n      <th>0.698</th>\n      <td>683</td>\n      <td>194.0</td>\n      <td>28.40</td>\n    </tr>\n    <tr>\n      <th>0.701</th>\n      <td>9</td>\n      <td>3.0</td>\n      <td>33.33</td>\n    </tr>\n    <tr>\n      <th>0.722</th>\n      <td>27</td>\n      <td>9.0</td>\n      <td>33.33</td>\n    </tr>\n    <tr>\n      <th>0.725</th>\n      <td>18</td>\n      <td>6.0</td>\n      <td>33.33</td>\n    </tr>\n    <tr>\n      <th>0.727</th>\n      <td>53</td>\n      <td>16.0</td>\n      <td>30.19</td>\n    </tr>\n    <tr>\n      <th>0.730</th>\n      <td>7</td>\n      <td>1.0</td>\n      <td>14.29</td>\n    </tr>\n    <tr>\n      <th>0.735</th>\n      <td>8</td>\n      <td>3.0</td>\n      <td>37.50</td>\n    </tr>\n    <tr>\n      <th>0.738</th>\n      <td>79</td>\n      <td>21.0</td>\n      <td>26.58</td>\n    </tr>\n    <tr>\n      <th>0.739</th>\n      <td>14</td>\n      <td>4.0</td>\n      <td>28.57</td>\n    </tr>\n    <tr>\n      <th>0.740</th>\n      <td>67</td>\n      <td>24.0</td>\n      <td>35.82</td>\n    </tr>\n    <tr>\n      <th>0.742</th>\n      <td>10</td>\n      <td>2.0</td>\n      <td>20.00</td>\n    </tr>\n    <tr>\n      <th>0.743</th>\n      <td>146</td>\n      <td>27.0</td>\n      <td>18.49</td>\n    </tr>\n    <tr>\n      <th>0.745</th>\n      <td>10</td>\n      <td>2.0</td>\n      <td>20.00</td>\n    </tr>\n    <tr>\n      <th>0.754</th>\n      <td>280</td>\n      <td>74.0</td>\n      <td>26.43</td>\n    </tr>\n    <tr>\n      <th>0.762</th>\n      <td>128</td>\n      <td>35.0</td>\n      <td>27.34</td>\n    </tr>\n    <tr>\n      <th>0.763</th>\n      <td>27</td>\n      <td>4.0</td>\n      <td>14.81</td>\n    </tr>\n    <tr>\n      <th>0.764</th>\n      <td>24</td>\n      <td>7.0</td>\n      <td>29.17</td>\n    </tr>\n    <tr>\n      <th>0.766</th>\n      <td>49</td>\n      <td>15.0</td>\n      <td>30.61</td>\n    </tr>\n    <tr>\n      <th>0.767</th>\n      <td>128</td>\n      <td>37.0</td>\n      <td>28.91</td>\n    </tr>\n    <tr>\n      <th>0.769</th>\n      <td>22</td>\n      <td>3.0</td>\n      <td>13.64</td>\n    </tr>\n    <tr>\n      <th>0.775</th>\n      <td>10</td>\n      <td>3.0</td>\n      <td>30.00</td>\n    </tr>\n    <tr>\n      <th>0.776</th>\n      <td>82</td>\n      <td>13.0</td>\n      <td>15.85</td>\n    </tr>\n    <tr>\n      <th>0.780</th>\n      <td>6</td>\n      <td>1.0</td>\n      <td>16.67</td>\n    </tr>\n    <tr>\n      <th>0.781</th>\n      <td>3</td>\n      <td>1.0</td>\n      <td>33.33</td>\n    </tr>\n    <tr>\n      <th>0.788</th>\n      <td>7</td>\n      <td>0.0</td>\n      <td>0.00</td>\n    </tr>\n    <tr>\n      <th>0.789</th>\n      <td>54</td>\n      <td>21.0</td>\n      <td>38.89</td>\n    </tr>\n    <tr>\n      <th>0.794</th>\n      <td>93</td>\n      <td>11.0</td>\n      <td>11.83</td>\n    </tr>\n    <tr>\n      <th>0.795</th>\n      <td>20</td>\n      <td>2.0</td>\n      <td>10.00</td>\n    </tr>\n    <tr>\n      <th>0.796</th>\n      <td>29</td>\n      <td>3.0</td>\n      <td>10.34</td>\n    </tr>\n    <tr>\n      <th>0.802</th>\n      <td>175</td>\n      <td>24.0</td>\n      <td>13.71</td>\n    </tr>\n    <tr>\n      <th>0.804</th>\n      <td>304</td>\n      <td>52.0</td>\n      <td>17.11</td>\n    </tr>\n    <tr>\n      <th>0.807</th>\n      <td>4</td>\n      <td>1.0</td>\n      <td>25.00</td>\n    </tr>\n    <tr>\n      <th>0.824</th>\n      <td>4</td>\n      <td>1.0</td>\n      <td>25.00</td>\n    </tr>\n    <tr>\n      <th>0.827</th>\n      <td>137</td>\n      <td>24.0</td>\n      <td>17.52</td>\n    </tr>\n    <tr>\n      <th>0.830</th>\n      <td>32</td>\n      <td>1.0</td>\n      <td>3.12</td>\n    </tr>\n    <tr>\n      <th>0.836</th>\n      <td>120</td>\n      <td>10.0</td>\n      <td>8.33</td>\n    </tr>\n    <tr>\n      <th>0.840</th>\n      <td>29</td>\n      <td>8.0</td>\n      <td>27.59</td>\n    </tr>\n    <tr>\n      <th>0.843</th>\n      <td>94</td>\n      <td>14.0</td>\n      <td>14.89</td>\n    </tr>\n    <tr>\n      <th>0.847</th>\n      <td>41</td>\n      <td>5.0</td>\n      <td>12.20</td>\n    </tr>\n    <tr>\n      <th>0.848</th>\n      <td>47</td>\n      <td>9.0</td>\n      <td>19.15</td>\n    </tr>\n    <tr>\n      <th>0.855</th>\n      <td>431</td>\n      <td>57.0</td>\n      <td>13.23</td>\n    </tr>\n    <tr>\n      <th>0.856</th>\n      <td>32</td>\n      <td>5.0</td>\n      <td>15.62</td>\n    </tr>\n    <tr>\n      <th>0.865</th>\n      <td>26</td>\n      <td>5.0</td>\n      <td>19.23</td>\n    </tr>\n    <tr>\n      <th>0.866</th>\n      <td>103</td>\n      <td>13.0</td>\n      <td>12.62</td>\n    </tr>\n    <tr>\n      <th>0.878</th>\n      <td>151</td>\n      <td>19.0</td>\n      <td>12.58</td>\n    </tr>\n    <tr>\n      <th>0.884</th>\n      <td>266</td>\n      <td>39.0</td>\n      <td>14.66</td>\n    </tr>\n    <tr>\n      <th>0.887</th>\n      <td>275</td>\n      <td>65.0</td>\n      <td>23.64</td>\n    </tr>\n    <tr>\n      <th>0.890</th>\n      <td>113</td>\n      <td>16.0</td>\n      <td>14.16</td>\n    </tr>\n    <tr>\n      <th>0.893</th>\n      <td>160</td>\n      <td>13.0</td>\n      <td>8.12</td>\n    </tr>\n    <tr>\n      <th>0.895</th>\n      <td>86</td>\n      <td>9.0</td>\n      <td>10.47</td>\n    </tr>\n    <tr>\n      <th>0.896</th>\n      <td>140</td>\n      <td>15.0</td>\n      <td>10.71</td>\n    </tr>\n    <tr>\n      <th>0.897</th>\n      <td>586</td>\n      <td>61.0</td>\n      <td>10.41</td>\n    </tr>\n    <tr>\n      <th>0.898</th>\n      <td>11</td>\n      <td>0.0</td>\n      <td>0.00</td>\n    </tr>\n    <tr>\n      <th>0.899</th>\n      <td>182</td>\n      <td>16.0</td>\n      <td>8.79</td>\n    </tr>\n    <tr>\n      <th>0.903</th>\n      <td>82</td>\n      <td>18.0</td>\n      <td>21.95</td>\n    </tr>\n    <tr>\n      <th>0.910</th>\n      <td>1533</td>\n      <td>179.0</td>\n      <td>11.68</td>\n    </tr>\n    <tr>\n      <th>0.913</th>\n      <td>197</td>\n      <td>19.0</td>\n      <td>9.64</td>\n    </tr>\n    <tr>\n      <th>0.915</th>\n      <td>94</td>\n      <td>15.0</td>\n      <td>15.96</td>\n    </tr>\n    <tr>\n      <th>0.920</th>\n      <td>5200</td>\n      <td>1127.0</td>\n      <td>21.67</td>\n    </tr>\n    <tr>\n      <th>0.921</th>\n      <td>10</td>\n      <td>3.0</td>\n      <td>30.00</td>\n    </tr>\n    <tr>\n      <th>0.923</th>\n      <td>143</td>\n      <td>23.0</td>\n      <td>16.08</td>\n    </tr>\n    <tr>\n      <th>0.924</th>\n      <td>301</td>\n      <td>28.0</td>\n      <td>9.30</td>\n    </tr>\n    <tr>\n      <th>0.925</th>\n      <td>171</td>\n      <td>24.0</td>\n      <td>14.04</td>\n    </tr>\n    <tr>\n      <th>0.926</th>\n      <td>1336</td>\n      <td>133.0</td>\n      <td>9.96</td>\n    </tr>\n    <tr>\n      <th>0.939</th>\n      <td>497</td>\n      <td>46.0</td>\n      <td>9.26</td>\n    </tr>\n    <tr>\n      <th>0.949</th>\n      <td>79</td>\n      <td>8.0</td>\n      <td>10.13</td>\n    </tr>\n  </tbody>\n</table>\n</div>"
     },
     "execution_count": 54,
     "metadata": {},
     "output_type": "execute_result"
    }
   ]
  },
  {
   "cell_type": "code",
   "source": [
    "temp = df.groupby('company_type')['target'].agg(['count', 'sum'])\n",
    "temp['ratio'] = round((temp['sum'] / temp['count'])*100,2)\n",
    "temp"
   ],
   "metadata": {
    "colab": {
     "base_uri": "https://localhost:8080/",
     "height": 300
    },
    "id": "l4FtgoVNGF9E",
    "executionInfo": {
     "status": "ok",
     "timestamp": 1666163769876,
     "user_tz": -540,
     "elapsed": 557,
     "user": {
      "displayName": "박지환",
      "userId": "03562376240636475247"
     }
    },
    "outputId": "7559918e-fb90-4cdd-8876-d9936afc2f92"
   },
   "execution_count": 55,
   "outputs": [
    {
     "data": {
      "text/plain": "              count     sum  ratio\ncompany_type                      \n0               603   142.0  23.55\n1              1001   140.0  13.99\n2               521    97.0  18.62\n3              6140  2384.0  38.83\n4               121    29.0  23.97\n5               955   210.0  21.99\n6              9817  1775.0  18.08",
      "text/html": "<div>\n<style scoped>\n    .dataframe tbody tr th:only-of-type {\n        vertical-align: middle;\n    }\n\n    .dataframe tbody tr th {\n        vertical-align: top;\n    }\n\n    .dataframe thead th {\n        text-align: right;\n    }\n</style>\n<table border=\"1\" class=\"dataframe\">\n  <thead>\n    <tr style=\"text-align: right;\">\n      <th></th>\n      <th>count</th>\n      <th>sum</th>\n      <th>ratio</th>\n    </tr>\n    <tr>\n      <th>company_type</th>\n      <th></th>\n      <th></th>\n      <th></th>\n    </tr>\n  </thead>\n  <tbody>\n    <tr>\n      <th>0</th>\n      <td>603</td>\n      <td>142.0</td>\n      <td>23.55</td>\n    </tr>\n    <tr>\n      <th>1</th>\n      <td>1001</td>\n      <td>140.0</td>\n      <td>13.99</td>\n    </tr>\n    <tr>\n      <th>2</th>\n      <td>521</td>\n      <td>97.0</td>\n      <td>18.62</td>\n    </tr>\n    <tr>\n      <th>3</th>\n      <td>6140</td>\n      <td>2384.0</td>\n      <td>38.83</td>\n    </tr>\n    <tr>\n      <th>4</th>\n      <td>121</td>\n      <td>29.0</td>\n      <td>23.97</td>\n    </tr>\n    <tr>\n      <th>5</th>\n      <td>955</td>\n      <td>210.0</td>\n      <td>21.99</td>\n    </tr>\n    <tr>\n      <th>6</th>\n      <td>9817</td>\n      <td>1775.0</td>\n      <td>18.08</td>\n    </tr>\n  </tbody>\n</table>\n</div>"
     },
     "execution_count": 55,
     "metadata": {},
     "output_type": "execute_result"
    }
   ]
  },
  {
   "cell_type": "code",
   "source": [
    "temp = df.groupby('company_size')['target'].agg(['count', 'sum'])\n",
    "temp['ratio'] = round((temp['sum'] / temp['count'])*100,2)\n",
    "temp"
   ],
   "metadata": {
    "colab": {
     "base_uri": "https://localhost:8080/",
     "height": 363
    },
    "id": "23usK5R5GRA-",
    "executionInfo": {
     "status": "ok",
     "timestamp": 1666163769876,
     "user_tz": -540,
     "elapsed": 3,
     "user": {
      "displayName": "박지환",
      "userId": "03562376240636475247"
     }
    },
    "outputId": "f788e82d-8179-449b-ae4c-88dc9089f4b4"
   },
   "execution_count": 56,
   "outputs": [
    {
     "data": {
      "text/plain": "              count     sum  ratio\ncompany_size                      \n0              1471   344.0  23.39\n1              2571   415.0  16.14\n2              1328   200.0  15.06\n3              2019   385.0  19.07\n4              3083   545.0  17.68\n5               877   152.0  17.33\n6               563   102.0  18.12\n7              1308   224.0  17.13\n8              5938  2410.0  40.59",
      "text/html": "<div>\n<style scoped>\n    .dataframe tbody tr th:only-of-type {\n        vertical-align: middle;\n    }\n\n    .dataframe tbody tr th {\n        vertical-align: top;\n    }\n\n    .dataframe thead th {\n        text-align: right;\n    }\n</style>\n<table border=\"1\" class=\"dataframe\">\n  <thead>\n    <tr style=\"text-align: right;\">\n      <th></th>\n      <th>count</th>\n      <th>sum</th>\n      <th>ratio</th>\n    </tr>\n    <tr>\n      <th>company_size</th>\n      <th></th>\n      <th></th>\n      <th></th>\n    </tr>\n  </thead>\n  <tbody>\n    <tr>\n      <th>0</th>\n      <td>1471</td>\n      <td>344.0</td>\n      <td>23.39</td>\n    </tr>\n    <tr>\n      <th>1</th>\n      <td>2571</td>\n      <td>415.0</td>\n      <td>16.14</td>\n    </tr>\n    <tr>\n      <th>2</th>\n      <td>1328</td>\n      <td>200.0</td>\n      <td>15.06</td>\n    </tr>\n    <tr>\n      <th>3</th>\n      <td>2019</td>\n      <td>385.0</td>\n      <td>19.07</td>\n    </tr>\n    <tr>\n      <th>4</th>\n      <td>3083</td>\n      <td>545.0</td>\n      <td>17.68</td>\n    </tr>\n    <tr>\n      <th>5</th>\n      <td>877</td>\n      <td>152.0</td>\n      <td>17.33</td>\n    </tr>\n    <tr>\n      <th>6</th>\n      <td>563</td>\n      <td>102.0</td>\n      <td>18.12</td>\n    </tr>\n    <tr>\n      <th>7</th>\n      <td>1308</td>\n      <td>224.0</td>\n      <td>17.13</td>\n    </tr>\n    <tr>\n      <th>8</th>\n      <td>5938</td>\n      <td>2410.0</td>\n      <td>40.59</td>\n    </tr>\n  </tbody>\n</table>\n</div>"
     },
     "execution_count": 56,
     "metadata": {},
     "output_type": "execute_result"
    }
   ]
  },
  {
   "cell_type": "code",
   "execution_count": null,
   "outputs": [],
   "source": [],
   "metadata": {
    "collapsed": false,
    "pycharm": {
     "name": "#%%\n"
    }
   }
  }
 ]
}