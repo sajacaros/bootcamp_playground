{
 "cells": [
  {
   "cell_type": "code",
   "execution_count": 17,
   "outputs": [],
   "source": [
    "def times_sum(times_):\n",
    "    time_tuples = [tuple(t.split(':')) for t in times_]\n",
    "    m_sum, s_sum = 0, 0\n",
    "    for m, s in time_tuples:\n",
    "        m_sum += int(m)\n",
    "        s_sum += int(s)\n",
    "    s = s_sum % 60\n",
    "    carry_m = int(m_sum / 60)\n",
    "    m = (m_sum + carry_m) % 60\n",
    "    h = int((m_sum + carry_m) / 60)\n",
    "    print(f'{h}:{m}:{s}')"
   ],
   "metadata": {
    "collapsed": false,
    "pycharm": {
     "name": "#%%\n"
    }
   }
  },
  {
   "cell_type": "code",
   "execution_count": 20,
   "outputs": [
    {
     "name": "stdout",
     "output_type": "stream",
     "text": [
      "4:41:54\n"
     ]
    }
   ],
   "source": [
    "times = ['26:39', '6:09', '8:24', '31:27', '6:37', '28:34', '23:45', '16:11', '5:41', '7:02', '20:48','10:40','21:07','13:16','32:12','25:22',]\n",
    "times_sum(times)"
   ],
   "metadata": {
    "collapsed": false,
    "pycharm": {
     "name": "#%%\n"
    }
   }
  },
  {
   "cell_type": "code",
   "execution_count": 21,
   "outputs": [
    {
     "name": "stdout",
     "output_type": "stream",
     "text": [
      "3:49:15\n"
     ]
    }
   ],
   "source": [
    "times = ['14:35', '5:29', '15:21', '24:27', '15:27', '14:56', '9:05', '25:18', '27:27', '33:05', '15:34', '8:26', '15:33', '7:32',]\n",
    "times_sum(times)"
   ],
   "metadata": {
    "collapsed": false,
    "pycharm": {
     "name": "#%%\n"
    }
   }
  },
  {
   "cell_type": "code",
   "execution_count": 22,
   "outputs": [
    {
     "name": "stdout",
     "output_type": "stream",
     "text": [
      "3:53:5\n"
     ]
    }
   ],
   "source": [
    "times = [\n",
    "'11:06', '11:31', '27:08','4:11','4:36','12:50','21:09','10:52','24:05','11:05','18:31','21:37','9:17','11:20','10:53','20:25','6:29',]\n",
    "times_sum(times)"
   ],
   "metadata": {
    "collapsed": false,
    "pycharm": {
     "name": "#%%\n"
    }
   }
  },
  {
   "cell_type": "code",
   "execution_count": 23,
   "outputs": [
    {
     "name": "stdout",
     "output_type": "stream",
     "text": [
      "4:24:13\n"
     ]
    }
   ],
   "source": [
    "times = [\n",
    "'26:51', '12:33', '15:26', '20:42', '17:05', '21:24', '17:33', '29:57', '11:40', '10:16', '16:45', '41:25', '25:36',\n",
    "]\n",
    "times_sum(times)"
   ],
   "metadata": {
    "collapsed": false,
    "pycharm": {
     "name": "#%%\n"
    }
   }
  },
  {
   "cell_type": "code",
   "execution_count": 24,
   "outputs": [
    {
     "name": "stdout",
     "output_type": "stream",
     "text": [
      "3:56:34\n"
     ]
    }
   ],
   "source": [
    "times = [\n",
    "'14:24','24:49','21:56','15:20','18:26','8:28','28:41','11:03','9:23','20:07','15:08','18:02','18:54','8:56','6:57',\n",
    "]\n",
    "times_sum(times)"
   ],
   "metadata": {
    "collapsed": false,
    "pycharm": {
     "name": "#%%\n"
    }
   }
  },
  {
   "cell_type": "code",
   "execution_count": 26,
   "outputs": [
    {
     "name": "stdout",
     "output_type": "stream",
     "text": [
      "2:44:53\n"
     ]
    }
   ],
   "source": [
    "times = [\n",
    "'13:09','26:46','24:51','17:14','17:19','15:52','9:04','9:05','8:58','24:35',\n",
    "]\n",
    "times_sum(times)"
   ],
   "metadata": {
    "collapsed": false,
    "pycharm": {
     "name": "#%%\n"
    }
   }
  },
  {
   "cell_type": "code",
   "execution_count": null,
   "outputs": [],
   "source": [],
   "metadata": {
    "collapsed": false,
    "pycharm": {
     "name": "#%%\n"
    }
   }
  }
 ],
 "metadata": {
  "kernelspec": {
   "display_name": "Python 3",
   "language": "python",
   "name": "python3"
  },
  "language_info": {
   "codemirror_mode": {
    "name": "ipython",
    "version": 2
   },
   "file_extension": ".py",
   "mimetype": "text/x-python",
   "name": "python",
   "nbconvert_exporter": "python",
   "pygments_lexer": "ipython2",
   "version": "2.7.6"
  }
 },
 "nbformat": 4,
 "nbformat_minor": 0
}