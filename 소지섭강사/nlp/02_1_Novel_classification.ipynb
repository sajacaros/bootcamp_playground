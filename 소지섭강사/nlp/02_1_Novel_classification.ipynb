{
 "nbformat": 4,
 "nbformat_minor": 0,
 "metadata": {
  "colab": {
   "provenance": [],
   "mount_file_id": "1ETvj23PcGWZHaNBZ01YZr_JJ290jRjtR",
   "authorship_tag": "ABX9TyNRHlWn3ok/AELVGEHcaqK3"
  },
  "kernelspec": {
   "name": "python3",
   "language": "python",
   "display_name": "Python 3 (ipykernel)"
  },
  "language_info": {
   "name": "python"
  }
 },
 "cells": [
  {
   "cell_type": "markdown",
   "source": [
    "## 소설 문장 분류 프로젝트\n",
    "### 데이터셋 소개\n",
    "* 소설의 대표적인 문장과 그 문장을 작성한 작가로 이루어진 데이터셋 입니다.\n",
    "* 작가는 원본 데이터셋에서도 비식별화 처리가 되어있습니다. 따라서 index 형태로 제공됩니다.\n",
    "* 작가는 총 5명 입니다."
   ],
   "metadata": {
    "id": "aTxyL9GpuWmf"
   }
  },
  {
   "cell_type": "code",
   "execution_count": 1,
   "metadata": {
    "id": "kcczBhcNkYHz",
    "ExecuteTime": {
     "end_time": "2023-11-28T08:37:07.605487500Z",
     "start_time": "2023-11-28T08:37:04.936334300Z"
    }
   },
   "outputs": [],
   "source": [
    "import pandas as pd\n",
    "import numpy as np\n",
    "import torch\n",
    "import torch.nn as nn\n",
    "import torch.optim as optim\n",
    "from torch.utils.data import DataLoader, TensorDataset\n",
    "from torch.nn.utils.rnn import pad_sequence\n",
    "\n",
    "from torchtext.data.utils import get_tokenizer\n",
    "from torchtext.vocab import build_vocab_from_iterator\n",
    "from torch.utils.data import DataLoader"
   ]
  },
  {
   "cell_type": "markdown",
   "source": [
    "### Data load"
   ],
   "metadata": {
    "id": "w2tuvG6DwaqE"
   }
  },
  {
   "cell_type": "code",
   "source": [
    "train_data = pd.read_csv('data/novel/novel_train_data.csv')\n",
    "test_data = pd.read_csv('data/novel/novel_test_data.csv')"
   ],
   "metadata": {
    "id": "4hDRMUZEmxz5",
    "ExecuteTime": {
     "end_time": "2023-11-28T08:37:07.762000400Z",
     "start_time": "2023-11-28T08:37:07.608479300Z"
    }
   },
   "execution_count": 2,
   "outputs": []
  },
  {
   "cell_type": "markdown",
   "source": [
    "* train dataset : 43,903\n",
    "* test dataset : 10,976"
   ],
   "metadata": {
    "id": "-HCmoKza1V_v"
   }
  },
  {
   "cell_type": "code",
   "source": [
    "train_data.info()\n",
    "test_data.info()"
   ],
   "metadata": {
    "colab": {
     "base_uri": "https://localhost:8080/"
    },
    "id": "0tSvNQqezylr",
    "executionInfo": {
     "status": "ok",
     "timestamp": 1701089070188,
     "user_tz": -540,
     "elapsed": 5,
     "user": {
      "displayName": "Junseop So (쏘주형)",
      "userId": "07758510494740838877"
     }
    },
    "outputId": "784a3690-8f36-4230-cdb1-efbeaa774c26",
    "ExecuteTime": {
     "end_time": "2023-11-28T08:37:07.839879400Z",
     "start_time": "2023-11-28T08:37:07.763032500Z"
    }
   },
   "execution_count": 3,
   "outputs": [
    {
     "name": "stdout",
     "output_type": "stream",
     "text": [
      "<class 'pandas.core.frame.DataFrame'>\n",
      "RangeIndex: 43903 entries, 0 to 43902\n",
      "Data columns (total 3 columns):\n",
      " #   Column  Non-Null Count  Dtype \n",
      "---  ------  --------------  ----- \n",
      " 0   index   43903 non-null  int64 \n",
      " 1   text    43903 non-null  object\n",
      " 2   author  43903 non-null  int64 \n",
      "dtypes: int64(2), object(1)\n",
      "memory usage: 1.0+ MB\n",
      "<class 'pandas.core.frame.DataFrame'>\n",
      "RangeIndex: 10976 entries, 0 to 10975\n",
      "Data columns (total 3 columns):\n",
      " #   Column  Non-Null Count  Dtype \n",
      "---  ------  --------------  ----- \n",
      " 0   index   10976 non-null  int64 \n",
      " 1   text    10976 non-null  object\n",
      " 2   author  10976 non-null  int64 \n",
      "dtypes: int64(2), object(1)\n",
      "memory usage: 257.4+ KB\n"
     ]
    }
   ]
  },
  {
   "cell_type": "code",
   "source": [
    "train_data.head()"
   ],
   "metadata": {
    "colab": {
     "base_uri": "https://localhost:8080/",
     "height": 206
    },
    "id": "_X65q0pHsYFc",
    "executionInfo": {
     "status": "ok",
     "timestamp": 1701087441246,
     "user_tz": -540,
     "elapsed": 366,
     "user": {
      "displayName": "Junseop So (쏘주형)",
      "userId": "07758510494740838877"
     }
    },
    "outputId": "e3557465-e7e8-4ebb-937d-940062092212",
    "ExecuteTime": {
     "end_time": "2023-11-28T08:37:07.840886900Z",
     "start_time": "2023-11-28T08:37:07.795509100Z"
    }
   },
   "execution_count": 4,
   "outputs": [
    {
     "data": {
      "text/plain": "   index                                               text  author\n0  12154  The relations between odin Stone and the notor...       2\n1   8376  She sat immovable beside me; but, again I saw ...       0\n2  45045  The besiegers, appalled by their own riot and ...       4\n3  45769  “PERICOLO—pericolo—eh, what’s that, odin? ‘Dan...       2\n4  14354  “odin is a clever fellow,” said he. “How do yo...       2",
      "text/html": "<div>\n<style scoped>\n    .dataframe tbody tr th:only-of-type {\n        vertical-align: middle;\n    }\n\n    .dataframe tbody tr th {\n        vertical-align: top;\n    }\n\n    .dataframe thead th {\n        text-align: right;\n    }\n</style>\n<table border=\"1\" class=\"dataframe\">\n  <thead>\n    <tr style=\"text-align: right;\">\n      <th></th>\n      <th>index</th>\n      <th>text</th>\n      <th>author</th>\n    </tr>\n  </thead>\n  <tbody>\n    <tr>\n      <th>0</th>\n      <td>12154</td>\n      <td>The relations between odin Stone and the notor...</td>\n      <td>2</td>\n    </tr>\n    <tr>\n      <th>1</th>\n      <td>8376</td>\n      <td>She sat immovable beside me; but, again I saw ...</td>\n      <td>0</td>\n    </tr>\n    <tr>\n      <th>2</th>\n      <td>45045</td>\n      <td>The besiegers, appalled by their own riot and ...</td>\n      <td>4</td>\n    </tr>\n    <tr>\n      <th>3</th>\n      <td>45769</td>\n      <td>“PERICOLO—pericolo—eh, what’s that, odin? ‘Dan...</td>\n      <td>2</td>\n    </tr>\n    <tr>\n      <th>4</th>\n      <td>14354</td>\n      <td>“odin is a clever fellow,” said he. “How do yo...</td>\n      <td>2</td>\n    </tr>\n  </tbody>\n</table>\n</div>"
     },
     "execution_count": 4,
     "metadata": {},
     "output_type": "execute_result"
    }
   ]
  },
  {
   "cell_type": "code",
   "source": [
    "test_data.head()"
   ],
   "metadata": {
    "colab": {
     "base_uri": "https://localhost:8080/",
     "height": 206
    },
    "id": "glASXvDUsurG",
    "executionInfo": {
     "status": "ok",
     "timestamp": 1701087445387,
     "user_tz": -540,
     "elapsed": 7,
     "user": {
      "displayName": "Junseop So (쏘주형)",
      "userId": "07758510494740838877"
     }
    },
    "outputId": "22a5de1d-5da3-427f-8d24-00c1a33659f1",
    "ExecuteTime": {
     "end_time": "2023-11-28T08:37:07.855982700Z",
     "start_time": "2023-11-28T08:37:07.837076500Z"
    }
   },
   "execution_count": 5,
   "outputs": [
    {
     "data": {
      "text/plain": "   index                                               text  author\n0  34282  “Of course after that there was nothing more t...       1\n1  47847  “It is a very fine lass,” he said at last. “od...       4\n2  47381  Captain odin, however, came from his window, a...       1\n3  39571  odin was immediately taken away, and locked up...       0\n4  52923  “At the first glimpse of the rising sun, princ...       3",
      "text/html": "<div>\n<style scoped>\n    .dataframe tbody tr th:only-of-type {\n        vertical-align: middle;\n    }\n\n    .dataframe tbody tr th {\n        vertical-align: top;\n    }\n\n    .dataframe thead th {\n        text-align: right;\n    }\n</style>\n<table border=\"1\" class=\"dataframe\">\n  <thead>\n    <tr style=\"text-align: right;\">\n      <th></th>\n      <th>index</th>\n      <th>text</th>\n      <th>author</th>\n    </tr>\n  </thead>\n  <tbody>\n    <tr>\n      <th>0</th>\n      <td>34282</td>\n      <td>“Of course after that there was nothing more t...</td>\n      <td>1</td>\n    </tr>\n    <tr>\n      <th>1</th>\n      <td>47847</td>\n      <td>“It is a very fine lass,” he said at last. “od...</td>\n      <td>4</td>\n    </tr>\n    <tr>\n      <th>2</th>\n      <td>47381</td>\n      <td>Captain odin, however, came from his window, a...</td>\n      <td>1</td>\n    </tr>\n    <tr>\n      <th>3</th>\n      <td>39571</td>\n      <td>odin was immediately taken away, and locked up...</td>\n      <td>0</td>\n    </tr>\n    <tr>\n      <th>4</th>\n      <td>52923</td>\n      <td>“At the first glimpse of the rising sun, princ...</td>\n      <td>3</td>\n    </tr>\n  </tbody>\n</table>\n</div>"
     },
     "execution_count": 5,
     "metadata": {},
     "output_type": "execute_result"
    }
   ]
  },
  {
   "cell_type": "code",
   "source": [
    "device = torch.device(\"cuda\" if torch.cuda.is_available() else \"cpu\")"
   ],
   "metadata": {
    "id": "hsFrnAaN1QLS",
    "ExecuteTime": {
     "end_time": "2023-11-28T08:37:07.947522800Z",
     "start_time": "2023-11-28T08:37:07.844905900Z"
    }
   },
   "execution_count": 6,
   "outputs": []
  },
  {
   "cell_type": "markdown",
   "source": [
    "### Data preprocessing\n",
    "* 주어진 데이터를 index 형태로 변경한 후 vocab을 제작해야합니다.\n",
    "* 먼저, 학습용 데이터와 정답 데이터를 먼저 분리합니다.\n",
    "* 분리된 학습용 데이터를 index화, vocab을 제작합니다.\n",
    "* 이후 데이터로더를 이용해서 데이터 파이프라인을 완성합니다.\n",
    "* train, test 데이터 모두 데이터로더로 제작합니다."
   ],
   "metadata": {
    "collapsed": false
   }
  },
  {
   "cell_type": "code",
   "execution_count": 7,
   "outputs": [
    {
     "name": "stdout",
     "output_type": "stream",
     "text": [
      "43903 10976\n"
     ]
    }
   ],
   "source": [
    "# 기본 영어 토크나이저 초기화\n",
    "tokenizer = get_tokenizer(\"basic_english\")\n",
    "tokenized_texts = []\n",
    "labels = []\n",
    "for i,s,a in train_data.values:\n",
    "    tokenized_texts.append(tokenizer(s))\n",
    "    labels.append(a)\n",
    "\n",
    "test_tokenized_texts = []\n",
    "test_labels = []\n",
    "for i,s,a in test_data.values:\n",
    "    test_tokenized_texts.append(tokenizer(s))\n",
    "    test_labels.append(a)\n",
    "    \n",
    "print(len(tokenized_texts), len(test_tokenized_texts))"
   ],
   "metadata": {
    "collapsed": false,
    "ExecuteTime": {
     "end_time": "2023-11-28T08:37:09.346768700Z",
     "start_time": "2023-11-28T08:37:07.891322300Z"
    }
   }
  },
  {
   "cell_type": "code",
   "execution_count": 8,
   "outputs": [],
   "source": [
    "from collections import Counter\n",
    "\n",
    "\n",
    "def build_vocab_with_padding_and_unk(tokenized_texts, padding_token='<pad>', unk_token='<unk>'):\n",
    "    # 모든 토큰의 빈도수를 계산합니다.\n",
    "    token_freqs = Counter(token for text in tokenized_texts for token in text)\n",
    "\n",
    "    # 어휘 사전을 구축합니다. padding_token과 unk_token을 각각 0번, 1번 인덱스에 추가합니다.\n",
    "    vocab = {padding_token: 0, unk_token: 1}\n",
    "    vocab.update({token: idx + 2 for idx, (token, _) in enumerate(token_freqs.items())})\n",
    "\n",
    "    return vocab"
   ],
   "metadata": {
    "collapsed": false,
    "ExecuteTime": {
     "end_time": "2023-11-28T08:37:09.363562300Z",
     "start_time": "2023-11-28T08:37:09.349588500Z"
    }
   }
  },
  {
   "cell_type": "code",
   "execution_count": 9,
   "outputs": [
    {
     "data": {
      "text/plain": "52400"
     },
     "execution_count": 9,
     "metadata": {},
     "output_type": "execute_result"
    }
   ],
   "source": [
    "all_tokenized_text = tokenized_texts + test_tokenized_texts\n",
    "vocab = build_vocab_with_padding_and_unk(all_tokenized_text)\n",
    "len(vocab)"
   ],
   "metadata": {
    "collapsed": false,
    "ExecuteTime": {
     "end_time": "2023-11-28T08:37:09.705964300Z",
     "start_time": "2023-11-28T08:37:09.364558500Z"
    }
   }
  },
  {
   "cell_type": "code",
   "execution_count": 10,
   "outputs": [
    {
     "data": {
      "text/plain": "('<pad>', 0)"
     },
     "execution_count": 10,
     "metadata": {},
     "output_type": "execute_result"
    }
   ],
   "source": [
    "list(vocab.items())[0]"
   ],
   "metadata": {
    "collapsed": false,
    "ExecuteTime": {
     "end_time": "2023-11-28T08:37:09.761943200Z",
     "start_time": "2023-11-28T08:37:09.725181600Z"
    }
   }
  },
  {
   "cell_type": "code",
   "execution_count": 11,
   "outputs": [
    {
     "data": {
      "text/plain": "50000"
     },
     "execution_count": 11,
     "metadata": {},
     "output_type": "execute_result"
    }
   ],
   "source": [
    "vocab = dict(list(vocab.items())[:50000])\n",
    "len(vocab)"
   ],
   "metadata": {
    "collapsed": false,
    "ExecuteTime": {
     "end_time": "2023-11-28T08:37:09.771650700Z",
     "start_time": "2023-11-28T08:37:09.754896900Z"
    }
   }
  },
  {
   "cell_type": "code",
   "execution_count": 12,
   "outputs": [],
   "source": [
    "def tokenize_and_index(texts, vocab):\n",
    "    indexed_texts = []\n",
    "    for text in texts:\n",
    "        indexed_text = [vocab[token] if token in vocab else vocab['<unk>'] for token in text]\n",
    "        indexed_texts.append(indexed_text)\n",
    "    return indexed_texts\n",
    "\n",
    "indexed_texts = tokenize_and_index(tokenized_texts, vocab)\n",
    "test_indexed_texts = tokenize_and_index(test_tokenized_texts, vocab)"
   ],
   "metadata": {
    "collapsed": false,
    "ExecuteTime": {
     "end_time": "2023-11-28T08:37:10.218943Z",
     "start_time": "2023-11-28T08:37:09.831180Z"
    }
   }
  },
  {
   "cell_type": "code",
   "execution_count": 13,
   "outputs": [
    {
     "data": {
      "text/plain": "[2,\n 3,\n 4,\n 5,\n 6,\n 7,\n 2,\n 8,\n 9,\n 10,\n 11,\n 12,\n 13,\n 14,\n 15,\n 16,\n 2,\n 17,\n 18,\n 19,\n 20,\n 21,\n 22,\n 23,\n 24,\n 25,\n 26,\n 7,\n 2,\n 27,\n 28,\n 20,\n 29,\n 30,\n 16,\n 31,\n 32,\n 33,\n 34,\n 35,\n 36,\n 22,\n 37,\n 26,\n 38,\n 26,\n 23,\n 12,\n 39,\n 40,\n 41,\n 42,\n 22,\n 43,\n 44,\n 45,\n 46,\n 2,\n 9,\n 47,\n 48,\n 7,\n 49,\n 50,\n 51,\n 2,\n 52,\n 26,\n 7,\n 46,\n 2,\n 53,\n 54,\n 55,\n 56,\n 57,\n 58,\n 35,\n 41,\n 26,\n 59,\n 2,\n 12,\n 60,\n 19,\n 61,\n 62,\n 26,\n 36,\n 63,\n 2,\n 64,\n 46,\n 2,\n 65,\n 66,\n 67,\n 26,\n 2,\n 68,\n 19,\n 69,\n 70,\n 26,\n 47,\n 71,\n 72,\n 73,\n 2,\n 45,\n 74,\n 75,\n 76,\n 26,\n 77,\n 78,\n 44,\n 79,\n 19,\n 75,\n 80,\n 26,\n 81,\n 82,\n 83,\n 2,\n 84,\n 26,\n 85,\n 15,\n 86,\n 87,\n 88,\n 44,\n 79,\n 19,\n 75,\n 89,\n 7,\n 75,\n 90,\n 91,\n 92,\n 93,\n 94,\n 93,\n 23,\n 95,\n 96,\n 19,\n 97,\n 26,\n 2,\n 98,\n 22,\n 99,\n 100,\n 101,\n 102,\n 103,\n 23,\n 104,\n 105,\n 19,\n 40,\n 101,\n 106,\n 107,\n 47,\n 108,\n 109,\n 46,\n 31,\n 110,\n 70,\n 11,\n 111,\n 19,\n 112,\n 23,\n 113,\n 35]"
     },
     "execution_count": 13,
     "metadata": {},
     "output_type": "execute_result"
    }
   ],
   "source": [
    "indexed_texts[0]"
   ],
   "metadata": {
    "collapsed": false,
    "ExecuteTime": {
     "end_time": "2023-11-28T08:37:10.234733900Z",
     "start_time": "2023-11-28T08:37:10.219939300Z"
    }
   }
  },
  {
   "cell_type": "code",
   "execution_count": 14,
   "outputs": [],
   "source": [
    "def index_to_word(indexed_texts, vocab):\n",
    "    # vocab의 역매핑을 생성합니다. 인덱스를 단어로 매핑합니다.\n",
    "    reverse_vocab = {index: word for word, index in vocab.items()}\n",
    "\n",
    "    # 인덱스 시퀀스를 단어 시퀀스로 변환합니다.\n",
    "    word_texts = []\n",
    "    for indexed_text in indexed_texts:\n",
    "        word_text = [reverse_vocab[index] for index in indexed_text]\n",
    "        word_texts.append(word_text)\n",
    "    return word_texts"
   ],
   "metadata": {
    "collapsed": false,
    "ExecuteTime": {
     "end_time": "2023-11-28T08:37:10.277511600Z",
     "start_time": "2023-11-28T08:37:10.240211700Z"
    }
   }
  },
  {
   "cell_type": "code",
   "execution_count": 15,
   "outputs": [
    {
     "data": {
      "text/plain": "[['the',\n  'relations',\n  'between',\n  'odin',\n  'stone',\n  'and',\n  'the',\n  'notorious',\n  'lady',\n  'sannox',\n  'were',\n  'very',\n  'well',\n  'known',\n  'both',\n  'among',\n  'the',\n  'fashionable',\n  'circles',\n  'of',\n  'which',\n  'she',\n  'was',\n  'a',\n  'brilliant',\n  'member',\n  ',',\n  'and',\n  'the',\n  'scientific',\n  'bodies',\n  'which',\n  'numbered',\n  'him',\n  'among',\n  'their',\n  'most',\n  'illustrious',\n  'confreres',\n  '.',\n  'there',\n  'was',\n  'naturally',\n  ',',\n  'therefore',\n  ',',\n  'a',\n  'very',\n  'widespread',\n  'interest',\n  'when',\n  'it',\n  'was',\n  'announced',\n  'one',\n  'morning',\n  'that',\n  'the',\n  'lady',\n  'had',\n  'absolutely',\n  'and',\n  'for',\n  'ever',\n  'taken',\n  'the',\n  'veil',\n  ',',\n  'and',\n  'that',\n  'the',\n  'world',\n  'would',\n  'see',\n  'her',\n  'no',\n  'more',\n  '.',\n  'when',\n  ',',\n  'at',\n  'the',\n  'very',\n  'tail',\n  'of',\n  'this',\n  'rumour',\n  ',',\n  'there',\n  'came',\n  'the',\n  'assurance',\n  'that',\n  'the',\n  'celebrated',\n  'operating',\n  'surgeon',\n  ',',\n  'the',\n  'man',\n  'of',\n  'steel',\n  'nerves',\n  ',',\n  'had',\n  'been',\n  'found',\n  'in',\n  'the',\n  'morning',\n  'by',\n  'his',\n  'valet',\n  ',',\n  'seated',\n  'on',\n  'one',\n  'side',\n  'of',\n  'his',\n  'bed',\n  ',',\n  'smiling',\n  'pleasantly',\n  'upon',\n  'the',\n  'universe',\n  ',',\n  'with',\n  'both',\n  'legs',\n  'jammed',\n  'into',\n  'one',\n  'side',\n  'of',\n  'his',\n  'breeches',\n  'and',\n  'his',\n  'great',\n  'brain',\n  'about',\n  'as',\n  'valuable',\n  'as',\n  'a',\n  'cap',\n  'full',\n  'of',\n  'porridge',\n  ',',\n  'the',\n  'matter',\n  'was',\n  'strong',\n  'enough',\n  'to',\n  'give',\n  'quite',\n  'a',\n  'little',\n  'thrill',\n  'of',\n  'interest',\n  'to',\n  'folk',\n  'who',\n  'had',\n  'never',\n  'hoped',\n  'that',\n  'their',\n  'jaded',\n  'nerves',\n  'were',\n  'capable',\n  'of',\n  'such',\n  'a',\n  'sensation',\n  '.']]"
     },
     "execution_count": 15,
     "metadata": {},
     "output_type": "execute_result"
    }
   ],
   "source": [
    "original_texts = index_to_word([indexed_texts[0]], vocab)\n",
    "original_texts"
   ],
   "metadata": {
    "collapsed": false,
    "ExecuteTime": {
     "end_time": "2023-11-28T08:37:10.288125Z",
     "start_time": "2023-11-28T08:37:10.263653900Z"
    }
   }
  },
  {
   "cell_type": "code",
   "execution_count": 16,
   "outputs": [],
   "source": [
    "def calculate_length_percentages(sequences, max_length=256):\n",
    "    # 각 시퀀스의 길이를 계산합니다.\n",
    "    lengths = [len(seq) for seq in sequences]\n",
    "\n",
    "    # max_length보다 짧은 시퀀스의 수를 세어 비율을 계산합니다.\n",
    "    num_shorter = sum(1 for length in lengths if length <= max_length)\n",
    "    percentage = (num_shorter / len(sequences)) * 100\n",
    "\n",
    "    return percentage"
   ],
   "metadata": {
    "collapsed": false,
    "ExecuteTime": {
     "end_time": "2023-11-28T08:37:10.298276Z",
     "start_time": "2023-11-28T08:37:10.282294700Z"
    }
   }
  },
  {
   "cell_type": "code",
   "execution_count": 17,
   "outputs": [
    {
     "name": "stdout",
     "output_type": "stream",
     "text": [
      "Percentage of sequences shorter than or equal to max_length: 90.07357128214473%\n"
     ]
    }
   ],
   "source": [
    "percentage = calculate_length_percentages(indexed_texts, max_length=128)\n",
    "print(f\"Percentage of sequences shorter than or equal to max_length: {percentage}%\")"
   ],
   "metadata": {
    "collapsed": false,
    "ExecuteTime": {
     "end_time": "2023-11-28T08:37:10.376257300Z",
     "start_time": "2023-11-28T08:37:10.298276Z"
    }
   }
  },
  {
   "cell_type": "code",
   "execution_count": 18,
   "outputs": [],
   "source": [
    "def pad_sequences(sequences, max_len=None, padding_value=0):\n",
    "    # 최대 길이를 설정합니다. 만약 max_len이 제공되지 않으면, 시퀀스 중 가장 긴 것의 길이를 사용합니다.\n",
    "    if max_len is None:\n",
    "        max_len = max(len(seq) for seq in sequences)\n",
    "\n",
    "    # 패딩된 시퀀스의 배열을 초기화합니다.\n",
    "    padded_sequences = np.full((len(sequences), max_len), padding_value)\n",
    "\n",
    "    # 각 시퀀스를 패딩하여 배열에 넣습니다.\n",
    "    for i, seq in enumerate(sequences):\n",
    "        padded_sequences[i, -len(seq):] = seq[:max_len]\n",
    "\n",
    "    return padded_sequences"
   ],
   "metadata": {
    "collapsed": false,
    "ExecuteTime": {
     "end_time": "2023-11-28T08:37:10.376257300Z",
     "start_time": "2023-11-28T08:37:10.331364600Z"
    }
   }
  },
  {
   "cell_type": "code",
   "execution_count": 19,
   "outputs": [
    {
     "name": "stdout",
     "output_type": "stream",
     "text": [
      "(43903, 128)\n",
      "(10976, 128)\n"
     ]
    }
   ],
   "source": [
    "padded_train_texts = pad_sequences(indexed_texts, max_len=128)\n",
    "print(padded_train_texts.shape)\n",
    "\n",
    "padded_test_texts = pad_sequences(test_indexed_texts, max_len=128)\n",
    "print(padded_test_texts.shape)"
   ],
   "metadata": {
    "collapsed": false,
    "ExecuteTime": {
     "end_time": "2023-11-28T08:37:10.497015400Z",
     "start_time": "2023-11-28T08:37:10.344239700Z"
    }
   }
  },
  {
   "cell_type": "code",
   "execution_count": 20,
   "outputs": [
    {
     "data": {
      "text/plain": "array([  0,   0,   0,   0,   0,   0,   0,   0,   0,   0,   0,   0,   0,\n         0,   0,   0,   0,   0,   0,   0,   0,   0,   0,   0,   0,   0,\n         0,   0,   0,   0,   0,   0,   0,   0,   0,   0,   0,   0,   0,\n         0,   0,   0,   0,   0,   0,   0,   0,   0,   0,   0,   0,   0,\n         0,   0,   0,   0,   0,   0,   0,   0,   0,   0,   0,   0,   0,\n         0,   0,   0,   0,   0,   0,   0,   0,   0,   0,   0,   0,   0,\n         0,   0,   0,   0,   0,   0,   0,   0,   0,   0,   0,   0,   0,\n         0,   0,   0,   0,   0,   0,   0,   0,   0,   0,   0,   0,   0,\n         0,   0,   7, 187, 271, 214,   2, 272,  19,   2, 273, 101,   2,\n       274, 275, 254,   7,  78,   2, 276,  19,   2, 277,  35])"
     },
     "execution_count": 20,
     "metadata": {},
     "output_type": "execute_result"
    }
   ],
   "source": [
    "padded_train_texts[5]"
   ],
   "metadata": {
    "collapsed": false,
    "ExecuteTime": {
     "end_time": "2023-11-28T08:37:10.539925600Z",
     "start_time": "2023-11-28T08:37:10.498012300Z"
    }
   }
  },
  {
   "cell_type": "code",
   "execution_count": 21,
   "outputs": [],
   "source": [
    "from torch.utils.data import DataLoader, Dataset\n",
    "\n",
    "class TextDataset(Dataset):\n",
    "    def __init__(self, texts, labels):\n",
    "        self.texts = texts\n",
    "        self.labels = labels\n",
    "\n",
    "    def __len__(self):\n",
    "        return len(self.texts)\n",
    "\n",
    "    def __getitem__(self, idx):\n",
    "        return torch.tensor(self.texts[idx], dtype=torch.long), torch.tensor(self.labels[idx], dtype=torch.long)\n",
    "\n",
    "# 훈련 및 테스트 데이터셋 생성\n",
    "train_dataset = TextDataset(padded_train_texts, labels)\n",
    "test_dataset = TextDataset(padded_test_texts, test_labels)\n",
    "\n",
    "# DataLoader 생성\n",
    "train_loader = DataLoader(train_dataset, batch_size=32, shuffle=True)\n",
    "test_loader = DataLoader(test_dataset, batch_size=32, shuffle=False)"
   ],
   "metadata": {
    "collapsed": false,
    "ExecuteTime": {
     "end_time": "2023-11-28T08:37:10.554620600Z",
     "start_time": "2023-11-28T08:37:10.514276Z"
    }
   }
  },
  {
   "cell_type": "code",
   "execution_count": 22,
   "outputs": [
    {
     "name": "stdout",
     "output_type": "stream",
     "text": [
      "torch.Size([32, 128]) torch.Size([32])\n"
     ]
    }
   ],
   "source": [
    "t, l = next(iter(train_loader))\n",
    "print(t.shape, l.shape)"
   ],
   "metadata": {
    "collapsed": false,
    "ExecuteTime": {
     "end_time": "2023-11-28T08:37:10.555662700Z",
     "start_time": "2023-11-28T08:37:10.529205200Z"
    }
   }
  },
  {
   "cell_type": "markdown",
   "source": [
    "### 모델 제작\n",
    "* 작가를 분류하는 모델은 다중 분류 모델입니다.\n",
    "* 다중 분류를 수행하도록 classes 수를 정해 구현해야합니다."
   ],
   "metadata": {
    "collapsed": false
   }
  },
  {
   "cell_type": "code",
   "execution_count": 23,
   "outputs": [],
   "source": [
    "class LSTMModel(nn.Module):\n",
    "    def __init__(self, vocab_size, embedding_dim, hidden_dim, output_dim, n_layers,\n",
    "                 bidirectional, dropout):\n",
    "        super(LSTMModel, self).__init__()\n",
    "\n",
    "        # 임베딩 레이어\n",
    "        self.embedding = nn.Embedding(vocab_size, embedding_dim)\n",
    "\n",
    "        # LSTM 레이어\n",
    "        self.lstm = nn.LSTM(embedding_dim, hidden_dim, num_layers=n_layers,\n",
    "                            bidirectional=bidirectional, dropout=dropout, batch_first=True)\n",
    "\n",
    "        # Fully-connected 레이어\n",
    "        self.fc = nn.Linear(hidden_dim * 2 if bidirectional else hidden_dim, output_dim)\n",
    "\n",
    "        # 드롭아웃\n",
    "        self.dropout = nn.Dropout(dropout)\n",
    "\n",
    "    def forward(self, text):\n",
    "        # text = [batch size, sent len]\n",
    "\n",
    "        # 임베딩 적용\n",
    "        embedded = self.dropout(self.embedding(text))\n",
    "        # embedded = [batch size, sent len, emb dim]\n",
    "\n",
    "        # LSTM 적용\n",
    "        output, (hidden, cell) = self.lstm(embedded) # output : (32,128,512), hidden : (4, 32, 256)\n",
    "        # output = [batch size, sent len, hid dim * num directions]\n",
    "        # hidden/cell = [num layers * num directions, batch size, hid dim]\n",
    "\n",
    "        # 최종 출력을 위한 hidden state 선택\n",
    "        if self.lstm.bidirectional:\n",
    "            hidden = self.dropout(torch.cat((hidden[-2,:,:], hidden[-1,:,:]), dim=1)) # (32, 256*2)\n",
    "        else:\n",
    "            hidden = self.dropout(hidden[-1,:,:])\n",
    "        # hidden = [batch size, hid dim * num directions]\n",
    "\n",
    "        return self.fc(hidden)"
   ],
   "metadata": {
    "collapsed": false,
    "ExecuteTime": {
     "end_time": "2023-11-28T08:37:10.558819600Z",
     "start_time": "2023-11-28T08:37:10.548830500Z"
    }
   }
  },
  {
   "cell_type": "code",
   "execution_count": 24,
   "outputs": [],
   "source": [
    "INPUT_DIM = len(vocab)  # vocab_size\n",
    "EMBEDDING_DIM = 64      # 임베딩 차원\n",
    "HIDDEN_DIM = 256        # LSTM hidden 차원\n",
    "OUTPUT_DIM = 5          # 출력 차원 (이진 분류의 경우 1)\n",
    "N_LAYERS = 2            # LSTM 레이어 수\n",
    "BIDIRECTIONAL = True    # 양방향 LSTM 사용 여부\n",
    "DROPOUT = 0.5           # 드롭아웃 비율\n",
    "\n",
    "model = LSTMModel(INPUT_DIM, EMBEDDING_DIM, HIDDEN_DIM, OUTPUT_DIM, N_LAYERS,\n",
    "                  BIDIRECTIONAL, DROPOUT).to(device)"
   ],
   "metadata": {
    "collapsed": false,
    "ExecuteTime": {
     "end_time": "2023-11-28T08:37:13.781051400Z",
     "start_time": "2023-11-28T08:37:10.560323Z"
    }
   }
  },
  {
   "cell_type": "code",
   "execution_count": 24,
   "outputs": [],
   "source": [],
   "metadata": {
    "collapsed": false,
    "ExecuteTime": {
     "end_time": "2023-11-28T08:37:13.796249100Z",
     "start_time": "2023-11-28T08:37:13.782047800Z"
    }
   }
  },
  {
   "cell_type": "code",
   "execution_count": 24,
   "outputs": [],
   "source": [],
   "metadata": {
    "collapsed": false,
    "ExecuteTime": {
     "end_time": "2023-11-28T08:37:13.824481400Z",
     "start_time": "2023-11-28T08:37:13.797259100Z"
    }
   }
  },
  {
   "cell_type": "markdown",
   "source": [
    "### 모델 학습"
   ],
   "metadata": {
    "id": "SNI4bEq-1QmE"
   }
  },
  {
   "cell_type": "code",
   "source": [
    "# 손실 함수 및 옵티마이저 인스턴스화\n",
    "criterion = nn.CrossEntropyLoss()\n",
    "optimizer = optim.Adam(model.parameters(), lr=1e-4)"
   ],
   "metadata": {
    "id": "kIKAOuIP1Rky",
    "ExecuteTime": {
     "end_time": "2023-11-28T08:37:14.152457Z",
     "start_time": "2023-11-28T08:37:13.814790300Z"
    }
   },
   "execution_count": 25,
   "outputs": []
  },
  {
   "cell_type": "code",
   "execution_count": 26,
   "outputs": [],
   "source": [
    "def train(model, iterator, optimizer, criterion):\n",
    "    epoch_loss = 0\n",
    "    model.train()\n",
    "    for data, label in iterator:\n",
    "        data, label = data.to(device), label.to(device)\n",
    "\n",
    "        optimizer.zero_grad()\n",
    "        predictions = model(data)\n",
    "        \n",
    "        loss = criterion(predictions, label)\n",
    "\n",
    "        loss.backward()\n",
    "        optimizer.step()\n",
    "        epoch_loss += loss.item()\n",
    "    return epoch_loss / len(iterator)\n",
    "\n",
    "def evaluate(model, iterator, criterion):\n",
    "    epoch_loss = 0\n",
    "    model.eval()\n",
    "    with torch.no_grad():\n",
    "        for data, label in iterator:\n",
    "            data, label = data.to(device), label.to(device)\n",
    "\n",
    "            predictions = model(data)\n",
    "            loss = criterion(predictions, label)\n",
    "            epoch_loss += loss.item()\n",
    "    return epoch_loss / len(iterator)\n"
   ],
   "metadata": {
    "collapsed": false,
    "ExecuteTime": {
     "end_time": "2023-11-28T08:37:14.167284600Z",
     "start_time": "2023-11-28T08:37:14.156920100Z"
    }
   }
  },
  {
   "cell_type": "code",
   "execution_count": 27,
   "outputs": [
    {
     "name": "stdout",
     "output_type": "stream",
     "text": [
      "Epoch: 1, Train Loss: 1.466, Val. Loss: 1.354\n",
      "Epoch: 2, Train Loss: 1.345, Val. Loss: 1.261\n",
      "Epoch: 3, Train Loss: 1.278, Val. Loss: 1.178\n",
      "Epoch: 4, Train Loss: 1.227, Val. Loss: 1.180\n",
      "Epoch: 5, Train Loss: 1.186, Val. Loss: 1.116\n",
      "Epoch: 6, Train Loss: 1.148, Val. Loss: 1.152\n",
      "Epoch: 7, Train Loss: 1.116, Val. Loss: 1.093\n",
      "Epoch: 8, Train Loss: 1.092, Val. Loss: 1.079\n",
      "Epoch: 9, Train Loss: 1.074, Val. Loss: 1.021\n",
      "Epoch: 10, Train Loss: 1.053, Val. Loss: 1.073\n",
      "Epoch: 11, Train Loss: 1.043, Val. Loss: 1.029\n",
      "Epoch: 12, Train Loss: 1.014, Val. Loss: 1.032\n",
      "Epoch: 13, Train Loss: 0.995, Val. Loss: 1.018\n",
      "Epoch: 14, Train Loss: 0.979, Val. Loss: 0.978\n",
      "Epoch: 15, Train Loss: 0.962, Val. Loss: 0.991\n",
      "Epoch: 16, Train Loss: 0.954, Val. Loss: 1.062\n",
      "Epoch: 17, Train Loss: 0.936, Val. Loss: 0.930\n",
      "Epoch: 18, Train Loss: 0.924, Val. Loss: 0.941\n",
      "Epoch: 19, Train Loss: 0.908, Val. Loss: 1.030\n",
      "Epoch: 20, Train Loss: 0.897, Val. Loss: 1.002\n",
      "Epoch: 21, Train Loss: 0.877, Val. Loss: 0.944\n",
      "Epoch: 22, Train Loss: 0.867, Val. Loss: 0.943\n",
      "Epoch: 23, Train Loss: 0.853, Val. Loss: 0.866\n",
      "Epoch: 24, Train Loss: 0.845, Val. Loss: 0.942\n",
      "Epoch: 25, Train Loss: 0.834, Val. Loss: 0.910\n",
      "Epoch: 26, Train Loss: 0.822, Val. Loss: 0.901\n",
      "Epoch: 27, Train Loss: 0.810, Val. Loss: 0.843\n",
      "Epoch: 28, Train Loss: 0.801, Val. Loss: 0.907\n",
      "Epoch: 29, Train Loss: 0.788, Val. Loss: 0.930\n",
      "Epoch: 30, Train Loss: 0.786, Val. Loss: 0.872\n",
      "Epoch: 31, Train Loss: 0.772, Val. Loss: 0.861\n",
      "Epoch: 32, Train Loss: 0.760, Val. Loss: 0.855\n",
      "Epoch: 33, Train Loss: 0.747, Val. Loss: 0.949\n",
      "Epoch: 34, Train Loss: 0.745, Val. Loss: 0.864\n",
      "Epoch: 35, Train Loss: 0.736, Val. Loss: 0.888\n",
      "Epoch: 36, Train Loss: 0.726, Val. Loss: 0.887\n",
      "Epoch: 37, Train Loss: 0.719, Val. Loss: 0.824\n",
      "Epoch: 38, Train Loss: 0.711, Val. Loss: 0.810\n",
      "Epoch: 39, Train Loss: 0.702, Val. Loss: 0.875\n",
      "Epoch: 40, Train Loss: 0.691, Val. Loss: 0.849\n",
      "Epoch: 41, Train Loss: 0.688, Val. Loss: 0.848\n",
      "Epoch: 42, Train Loss: 0.681, Val. Loss: 0.798\n",
      "Epoch: 43, Train Loss: 0.671, Val. Loss: 0.837\n",
      "Epoch: 44, Train Loss: 0.662, Val. Loss: 0.776\n",
      "Epoch: 45, Train Loss: 0.655, Val. Loss: 0.799\n",
      "Epoch: 46, Train Loss: 0.648, Val. Loss: 0.843\n",
      "Epoch: 47, Train Loss: 0.646, Val. Loss: 0.756\n",
      "Epoch: 48, Train Loss: 0.638, Val. Loss: 0.799\n",
      "Epoch: 49, Train Loss: 0.632, Val. Loss: 0.789\n",
      "Epoch: 50, Train Loss: 0.624, Val. Loss: 0.817\n"
     ]
    }
   ],
   "source": [
    "N_EPOCHS = 50\n",
    "train_losses = []\n",
    "valid_losses = []\n",
    "\n",
    "for epoch in range(N_EPOCHS):\n",
    "    train_loss = train(model, train_loader, optimizer, criterion)\n",
    "    valid_loss = evaluate(model, test_loader, criterion)\n",
    "\n",
    "    train_losses.append(train_loss)\n",
    "    valid_losses.append(valid_loss)\n",
    "\n",
    "    print(f'Epoch: {epoch+1}, Train Loss: {train_loss:.3f}, Val. Loss: {valid_loss:.3f}')\n"
   ],
   "metadata": {
    "collapsed": false,
    "ExecuteTime": {
     "end_time": "2023-11-28T09:09:32.903757200Z",
     "start_time": "2023-11-28T08:37:14.168295400Z"
    }
   }
  },
  {
   "cell_type": "code",
   "execution_count": 27,
   "outputs": [],
   "source": [],
   "metadata": {
    "collapsed": false,
    "ExecuteTime": {
     "end_time": "2023-11-28T09:09:32.930188600Z",
     "start_time": "2023-11-28T09:09:32.906747300Z"
    }
   }
  },
  {
   "cell_type": "code",
   "execution_count": 27,
   "outputs": [],
   "source": [],
   "metadata": {
    "collapsed": false,
    "ExecuteTime": {
     "end_time": "2023-11-28T09:09:32.938643200Z",
     "start_time": "2023-11-28T09:09:32.920858700Z"
    }
   }
  },
  {
   "cell_type": "markdown",
   "source": [
    "### 모델 평가"
   ],
   "metadata": {
    "id": "YUmc3-EP1R-V"
   }
  },
  {
   "cell_type": "code",
   "source": [
    "import matplotlib.pyplot as plt\n",
    "plt.plot(train_losses, label='Training loss')\n",
    "plt.plot(valid_losses, label='Validation loss')\n",
    "plt.title('Training and Validation Loss')\n",
    "plt.xlabel('Epochs')\n",
    "plt.ylabel('Loss')\n",
    "plt.legend()\n",
    "plt.show()"
   ],
   "metadata": {
    "id": "8DNeqfqn1S3v",
    "ExecuteTime": {
     "end_time": "2023-11-28T09:09:33.632970400Z",
     "start_time": "2023-11-28T09:09:32.937645600Z"
    }
   },
   "execution_count": 28,
   "outputs": [
    {
     "data": {
      "text/plain": "<Figure size 640x480 with 1 Axes>",
      "image/png": "[encoded data removed]"
     },
     "metadata": {},
     "output_type": "display_data"
    }
   ]
  },
  {
   "cell_type": "code",
   "execution_count": 29,
   "outputs": [
    {
     "name": "stdout",
     "output_type": "stream",
     "text": [
      "Test Accuracy: 73.28%\n"
     ]
    }
   ],
   "source": [
    "def calculate_accuracy(model, loader, device):\n",
    "    model.eval()  # 모델을 평가 모드로 설정\n",
    "    correct = 0\n",
    "    total = 0\n",
    "\n",
    "    with torch.no_grad():  # 그래디언트 계산 비활성화\n",
    "        for texts, labels in loader:\n",
    "            texts, labels = texts.to(device), labels.to(device)\n",
    "            outputs = model(texts)\n",
    "            # 출력에서 가장 높은 값을 가진 인덱스를 예측값으로 선택합니다 (다중 클래스 분류)\n",
    "            _, predictions = torch.max(outputs, 1)\n",
    "            correct += (predictions == labels).sum().item()\n",
    "            total += labels.size(0)\n",
    "\n",
    "    accuracy = correct / total\n",
    "    return accuracy\n",
    "\n",
    "test_accuracy = calculate_accuracy(model, test_loader, device)\n",
    "print(f'Test Accuracy: {test_accuracy * 100:.2f}%')"
   ],
   "metadata": {
    "collapsed": false,
    "ExecuteTime": {
     "end_time": "2023-11-28T09:09:36.880914800Z",
     "start_time": "2023-11-28T09:09:33.633966900Z"
    }
   }
  },
  {
   "cell_type": "code",
   "execution_count": 29,
   "outputs": [],
   "source": [],
   "metadata": {
    "collapsed": false,
    "ExecuteTime": {
     "end_time": "2023-11-28T09:09:36.924999100Z",
     "start_time": "2023-11-28T09:09:36.881911400Z"
    }
   }
  },
  {
   "cell_type": "code",
   "execution_count": 29,
   "outputs": [],
   "source": [],
   "metadata": {
    "collapsed": false,
    "ExecuteTime": {
     "end_time": "2023-11-28T09:09:36.928510400Z",
     "start_time": "2023-11-28T09:09:36.897143700Z"
    }
   }
  },
  {
   "cell_type": "code",
   "execution_count": 29,
   "outputs": [],
   "source": [],
   "metadata": {
    "collapsed": false,
    "ExecuteTime": {
     "end_time": "2023-11-28T09:09:36.935489400Z",
     "start_time": "2023-11-28T09:09:36.912159400Z"
    }
   }
  }
 ]
}
