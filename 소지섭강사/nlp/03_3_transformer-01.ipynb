{
 "nbformat": 4,
 "nbformat_minor": 0,
 "metadata": {
  "colab": {
   "provenance": []
  },
  "kernelspec": {
   "name": "python3",
   "display_name": "Python 3"
  }
 },
 "cells": [
  {
   "cell_type": "markdown",
   "metadata": {
    "id": "kJIRBmDqBiKH"
   },
   "source": [
    "## Transformer 구현 과정 (1/2)\n",
    "![](https://raw.githubusercontent.com/paul-hyun/paul-hyun.github.io/master/assets/2019-12-19/transformer-model-architecture.png)\n",
    "\n",
    "Transformer 모델 구현에 대한 설명 입니다.\n",
    "\n",
    "이 내용을 확인하기 전 아래 내용을 확인하시기 바랍니다.\n",
    "- [Sentencepiece를 활용해 Vocab 만들기](https://paul-hyun.github.io/vocab-with-sentencepiece/)\n",
    "- [Naver 영화리뷰 감정분석 데이터 전처리 하기](https://paul-hyun.github.io/preprocess-nsmc/)\n",
    "\n",
    "[Colab](https://colab.research.google.com/)에서 실행 했습니다."
   ]
  },
  {
   "cell_type": "markdown",
   "metadata": {
    "id": "ADHWimszCTQB"
   },
   "source": [
    "#### 0. Pip Install\n",
    "필요한 패키지를 pip를 이용해서 설치합니다."
   ]
  },
  {
   "cell_type": "code",
   "metadata": {
    "id": "GvyQ7eeZCV62",
    "outputId": "ef4ce30f-60a1-4bf6-e01c-a7eb964b9ed2",
    "colab": {
     "base_uri": "https://localhost:8080/"
    }
   },
   "source": [
    "use_colab = False\n",
    "if use_colab:\n",
    "    !pip install sentencepiece"
   ],
   "execution_count": null,
   "outputs": [
    {
     "output_type": "stream",
     "name": "stdout",
     "text": [
      "Collecting sentencepiece\n",
      "  Downloading sentencepiece-0.1.99-cp310-cp310-manylinux_2_17_x86_64.manylinux2014_x86_64.whl (1.3 MB)\n",
      "\u001B[2K     \u001B[90m━━━━━━━━━━━━━━━━━━━━━━━━━━━━━━━━━━━━━━━━\u001B[0m \u001B[32m1.3/1.3 MB\u001B[0m \u001B[31m14.7 MB/s\u001B[0m eta \u001B[36m0:00:00\u001B[0m\n",
      "\u001B[?25hInstalling collected packages: sentencepiece\n",
      "Successfully installed sentencepiece-0.1.99\n"
     ]
    }
   ]
  },
  {
   "cell_type": "markdown",
   "metadata": {
    "id": "FWT-P5l0CVde"
   },
   "source": [
    "#### 1. Google Drive Mount\n",
    "Colab에서는 컴퓨터에 자원에 접근이 불가능 하므로 Google Drive에 파일을 올려 놓은 후 Google Drive를 mount 에서 로컬 디스크처럼 사용 합니다.\n",
    "1. 아래 블럭을 실행하면 나타나는 링크를 클릭하세요.\n",
    "2. Google 계정을 선택 하시고 허용을 누르면 나타나는 코드를 복사하여 아래 박스에 입력한 후 Enter 키를 입력하면 됩니다.\n",
    "\n",
    "학습관련 [데이터 및 결과 파일](https://drive.google.com/open?id=15XGr-L-W6DSoR5TbniPMJASPsA0IDTiN)을 참고 하세요."
   ]
  },
  {
   "cell_type": "code",
   "metadata": {
    "id": "88wMq4r-CdoG",
    "outputId": "3dd5466c-6b10-413d-91ed-97a2fb7edcce",
    "colab": {
     "base_uri": "https://localhost:8080/"
    }
   },
   "source": [
    "if use_colab:\n",
    "    from google.colab import drive\n",
    "    drive.mount('/content/drive')\n",
    "    # data를 저장할 폴더 입니다. 환경에 맞게 수정 하세요.\n",
    "    data_dir = \"/content/drive/MyDrive/dataset/transformer-evolution\"\n",
    "else: \n",
    "    data_dir = 'data/nlp/review/transformer-evolution/'"
   ],
   "execution_count": null,
   "outputs": [
    {
     "output_type": "stream",
     "name": "stdout",
     "text": [
      "Mounted at /content/drive\n"
     ]
    }
   ]
  },
  {
   "cell_type": "markdown",
   "metadata": {
    "id": "Mw-viWEe_-gb"
   },
   "source": [
    "#### 2. Imports"
   ]
  },
  {
   "cell_type": "code",
   "metadata": {
    "id": "AALbOYMx_-Fj"
   },
   "source": [
    "import os\n",
    "import numpy as np\n",
    "import math\n",
    "import matplotlib.pyplot as plt\n",
    "import sentencepiece as spm\n",
    "\n",
    "import torch\n",
    "import torch.nn as nn\n",
    "import torch.nn.functional as F"
   ],
   "execution_count": null,
   "outputs": []
  },
  {
   "cell_type": "markdown",
   "metadata": {
    "id": "kOnh3BmoCzgh"
   },
   "source": [
    "#### 3. 폴더의 목록을 확인\n",
    "Google Drive mount가 잘 되었는지 확인하기 위해 data_dir 목록을 확인 합니다."
   ]
  },
  {
   "cell_type": "code",
   "metadata": {
    "id": "AtSMyMiqC1Zz",
    "outputId": "dbf4a0ac-c83f-4b32-e9b4-2fef7dacc2f9",
    "colab": {
     "base_uri": "https://localhost:8080/"
    }
   },
   "source": [
    "for f in os.listdir(data_dir):\n",
    "  print(f)"
   ],
   "execution_count": null,
   "outputs": [
    {
     "output_type": "stream",
     "name": "stdout",
     "text": [
      "kowiki.model\n",
      "kowiki.vocab\n",
      "ratings_train.txt\n",
      "ratings_test.txt\n",
      "ratings_train.json\n",
      "ratings_test.json\n",
      "save_gpt_pretrain.pth\n",
      "save_bert_pretrain.pth\n",
      "kowiki_t5.model\n",
      "kowiki_t5.vocab\n",
      "save_t5_pretrain.pth\n",
      "ratings_train_t5.json\n",
      "ratings_test_t5.json\n"
     ]
    }
   ]
  },
  {
   "cell_type": "markdown",
   "metadata": {
    "id": "8Ly5K7I8DMy0"
   },
   "source": [
    "#### 4. Vocab 및 입력\n",
    "[Sentencepiece를 활용해 Vocab 만들기](https://paul-hyun.github.io/vocab-with-sentencepiece/)를 통해 만들어 놓은 vocab을 로딩 합니다.\n",
    "\n",
    "로딩된 vocab을 이용해 input을 만듭니다."
   ]
  },
  {
   "cell_type": "code",
   "metadata": {
    "id": "S-ubyeJFDbot",
    "outputId": "9312d1a0-7dc4-448c-878d-0a1d0679866c",
    "colab": {
     "base_uri": "https://localhost:8080/"
    }
   },
   "source": [
    "# vocab loading\n",
    "vocab_file = f\"{data_dir}/kowiki.model\"\n",
    "vocab = spm.SentencePieceProcessor()\n",
    "vocab.load(vocab_file)\n",
    "\n",
    "# 입력 texts\n",
    "lines = [\n",
    "  \"겨울은 추워요.\",\n",
    "  \"감기 조심하세요.\",\n",
    "  \"지금 눈이 내려요.\",\n",
    "  \"감기에 걸렸어요.\",\n",
    "  \"기침하느라 목이 아파요.\"\n",
    "]\n",
    "\n",
    "# text를 tensor로 변환\n",
    "inputs = []\n",
    "for line in lines:\n",
    "  pieces = vocab.encode_as_pieces(line)\n",
    "  ids = vocab.encode_as_ids(line)\n",
    "  inputs.append(torch.tensor(ids))\n",
    "  print(pieces)\n",
    "\n",
    "# 입력 길이가 다르므로 입력 최대 길이에 맟춰 padding(0)을 추가 해 줌\n",
    "inputs = torch.nn.utils.rnn.pad_sequence(inputs, batch_first=True, padding_value=0)\n",
    "# shape\n",
    "print(inputs.size())\n",
    "# 값\n",
    "print(inputs)"
   ],
   "execution_count": null,
   "outputs": [
    {
     "output_type": "stream",
     "name": "stdout",
     "text": [
      "['▁겨울', '은', '▁추', '워', '요', '.']\n",
      "['▁감', '기', '▁조', '심', '하', '세', '요', '.']\n",
      "['▁지금', '▁눈', '이', '▁내려', '요', '.']\n",
      "['▁감', '기에', '▁걸', '렸', '어', '요', '.']\n",
      "['▁기', '침', '하', '느', '라', '▁목', '이', '▁아', '파', '요', '.']\n",
      "torch.Size([5, 11])\n",
      "tensor([[3091, 3604,  206, 3958, 3760, 3590,    0,    0,    0,    0,    0],\n",
      "        [ 212, 3605,   53, 3832, 3596, 3682, 3760, 3590,    0,    0,    0],\n",
      "        [1142, 1122, 3588, 1704, 3760, 3590,    0,    0,    0,    0,    0],\n",
      "        [ 212,  329,  571, 4048, 3624, 3760, 3590,    0,    0,    0,    0],\n",
      "        [  23, 4027, 3596, 4063, 3626,  266, 3588,   26, 3757, 3760, 3590]])\n"
     ]
    }
   ]
  },
  {
   "cell_type": "markdown",
   "metadata": {
    "id": "wOqt_-1p_Z2L"
   },
   "source": [
    "#### 5. Embedding"
   ]
  },
  {
   "cell_type": "markdown",
   "metadata": {
    "id": "aAz1I-mG_dSQ"
   },
   "source": [
    "###### - Input Embedding"
   ]
  },
  {
   "cell_type": "code",
   "metadata": {
    "id": "7bjcpE8Z-208",
    "outputId": "2a542424-8f4b-4b76-a0f2-f290f167dc5b",
    "colab": {
     "base_uri": "https://localhost:8080/"
    }
   },
   "source": [
    "n_vocab = len(vocab) # vocab count\n",
    "d_hidn = 64 # hidden size\n",
    "nn_emb = nn.Embedding(n_vocab, d_hidn) # embedding 객체\n",
    "\n",
    "input_embs = nn_emb(inputs) # input embedding\n",
    "print(input_embs.size())"
   ],
   "execution_count": null,
   "outputs": [
    {
     "output_type": "stream",
     "name": "stdout",
     "text": [
      "torch.Size([5, 11, 64])\n"
     ]
    }
   ]
  },
  {
   "cell_type": "markdown",
   "metadata": {
    "id": "EBriAmpB_cHQ"
   },
   "source": [
    "###### - Position Embedding"
   ]
  },
  {
   "cell_type": "code",
   "metadata": {
    "id": "NlCmyZrkPuOX"
   },
   "source": [
    "\"\"\" sinusoid position embedding \"\"\"\n",
    "def get_sinusoid_encoding_table(n_seq, d_hidn):\n",
    "    def cal_angle(position, i_hidn):\n",
    "        return position / np.power(10000, 2 * (i_hidn // 2) / d_hidn)\n",
    "    def get_posi_angle_vec(position):\n",
    "        return [cal_angle(position, i_hidn) for i_hidn in range(d_hidn)]\n",
    "\n",
    "    sinusoid_table = np.array([get_posi_angle_vec(i_seq) for i_seq in range(n_seq)])\n",
    "    sinusoid_table[:, 0::2] = np.sin(sinusoid_table[:, 0::2])  # dim 2i\n",
    "    sinusoid_table[:, 1::2] = np.cos(sinusoid_table[:, 1::2])  # dim 2i+1\n",
    "\n",
    "    return sinusoid_table"
   ],
   "execution_count": null,
   "outputs": []
  },
  {
   "cell_type": "code",
   "metadata": {
    "id": "x_MrxrxqVyra",
    "outputId": "c3966a77-71a9-4a45-95aa-57cb166e421d",
    "colab": {
     "base_uri": "https://localhost:8080/",
     "height": 474
    }
   },
   "source": [
    "n_seq = 64\n",
    "pos_encoding = get_sinusoid_encoding_table(n_seq, d_hidn)\n",
    "\n",
    "print (pos_encoding.shape) # 크기 출력\n",
    "plt.pcolormesh(pos_encoding, cmap='RdBu')\n",
    "plt.xlabel('Depth')\n",
    "plt.xlim((0, d_hidn))\n",
    "plt.ylabel('Position')\n",
    "plt.colorbar()\n",
    "plt.show()"
   ],
   "execution_count": null,
   "outputs": [
    {
     "output_type": "stream",
     "name": "stdout",
     "text": [
      "(64, 64)\n"
     ]
    },
    {
     "output_type": "display_data",
     "data": {
      "text/plain": [
       "<Figure size 640x480 with 2 Axes>"
      ],
      "image/png": "[encoded data removed]"
     },
     "metadata": {}
    }
   ]
  },
  {
   "cell_type": "code",
   "metadata": {
    "id": "GmeDRFKqikMy",
    "outputId": "1cff0ce2-9df5-4e6f-98e1-7b6a8cb44155",
    "colab": {
     "base_uri": "https://localhost:8080/"
    }
   },
   "source": [
    "pos_encoding = torch.FloatTensor(pos_encoding)\n",
    "nn_pos = nn.Embedding.from_pretrained(pos_encoding, freeze=True)\n",
    "\n",
    "positions = torch.arange(inputs.size(1), device=inputs.device, dtype=inputs.dtype).expand(inputs.size(0), inputs.size(1)).contiguous() + 1\n",
    "pos_mask = inputs.eq(0)\n",
    "\n",
    "positions.masked_fill_(pos_mask, 0)\n",
    "pos_embs = nn_pos(positions) # position embedding\n",
    "\n",
    "print(inputs)\n",
    "print(positions)\n",
    "print(pos_embs.size())"
   ],
   "execution_count": null,
   "outputs": [
    {
     "output_type": "stream",
     "name": "stdout",
     "text": [
      "tensor([[3091, 3604,  206, 3958, 3760, 3590,    0,    0,    0,    0,    0],\n",
      "        [ 212, 3605,   53, 3832, 3596, 3682, 3760, 3590,    0,    0,    0],\n",
      "        [1142, 1122, 3588, 1704, 3760, 3590,    0,    0,    0,    0,    0],\n",
      "        [ 212,  329,  571, 4048, 3624, 3760, 3590,    0,    0,    0,    0],\n",
      "        [  23, 4027, 3596, 4063, 3626,  266, 3588,   26, 3757, 3760, 3590]])\n",
      "tensor([[ 1,  2,  3,  4,  5,  6,  0,  0,  0,  0,  0],\n",
      "        [ 1,  2,  3,  4,  5,  6,  7,  8,  0,  0,  0],\n",
      "        [ 1,  2,  3,  4,  5,  6,  0,  0,  0,  0,  0],\n",
      "        [ 1,  2,  3,  4,  5,  6,  7,  0,  0,  0,  0],\n",
      "        [ 1,  2,  3,  4,  5,  6,  7,  8,  9, 10, 11]])\n",
      "torch.Size([5, 11, 64])\n"
     ]
    }
   ]
  },
  {
   "cell_type": "code",
   "metadata": {
    "id": "ZX63wiFfruY7"
   },
   "source": [
    "input_sums = input_embs + pos_embs"
   ],
   "execution_count": null,
   "outputs": []
  },
  {
   "cell_type": "markdown",
   "metadata": {
    "id": "rOYl2XUyt2xc"
   },
   "source": [
    "#### 6. Scale Dot Product Attention\n",
    "\n",
    "![](https://raw.githubusercontent.com/paul-hyun/paul-hyun.github.io/master/assets/2019-12-19/scale_dot_product_attention.png)"
   ]
  },
  {
   "cell_type": "markdown",
   "metadata": {
    "id": "Exfnhn9vA1fl"
   },
   "source": [
    "###### Input"
   ]
  },
  {
   "cell_type": "code",
   "metadata": {
    "id": "aaUTzxeSunt9",
    "outputId": "c0651d73-597d-4faf-f07d-67342d93a5b4",
    "colab": {
     "base_uri": "https://localhost:8080/"
    }
   },
   "source": [
    "Q = input_sums\n",
    "K = input_sums\n",
    "V = input_sums\n",
    "attn_mask = inputs.eq(0).unsqueeze(1).expand(Q.size(0), Q.size(1), K.size(1))\n",
    "print(attn_mask.size())\n",
    "print(attn_mask[0])"
   ],
   "execution_count": null,
   "outputs": [
    {
     "output_type": "stream",
     "name": "stdout",
     "text": [
      "torch.Size([5, 11, 11])\n",
      "tensor([[False, False, False, False, False, False,  True,  True,  True,  True,\n",
      "          True],\n",
      "        [False, False, False, False, False, False,  True,  True,  True,  True,\n",
      "          True],\n",
      "        [False, False, False, False, False, False,  True,  True,  True,  True,\n",
      "          True],\n",
      "        [False, False, False, False, False, False,  True,  True,  True,  True,\n",
      "          True],\n",
      "        [False, False, False, False, False, False,  True,  True,  True,  True,\n",
      "          True],\n",
      "        [False, False, False, False, False, False,  True,  True,  True,  True,\n",
      "          True],\n",
      "        [False, False, False, False, False, False,  True,  True,  True,  True,\n",
      "          True],\n",
      "        [False, False, False, False, False, False,  True,  True,  True,  True,\n",
      "          True],\n",
      "        [False, False, False, False, False, False,  True,  True,  True,  True,\n",
      "          True],\n",
      "        [False, False, False, False, False, False,  True,  True,  True,  True,\n",
      "          True],\n",
      "        [False, False, False, False, False, False,  True,  True,  True,  True,\n",
      "          True]])\n"
     ]
    }
   ]
  },
  {
   "cell_type": "markdown",
   "metadata": {
    "id": "st1N5098A7e1"
   },
   "source": [
    "##### Q * K-transpose"
   ]
  },
  {
   "cell_type": "code",
   "metadata": {
    "id": "DQmtb8hcxK1k",
    "outputId": "4582f014-57e3-4ff9-f846-df4d8485d408",
    "colab": {
     "base_uri": "https://localhost:8080/"
    }
   },
   "source": [
    "scores = torch.matmul(Q, K.transpose(-1, -2))\n",
    "print(scores.size())\n",
    "print(scores[0])"
   ],
   "execution_count": null,
   "outputs": [
    {
     "output_type": "stream",
     "name": "stdout",
     "text": [
      "torch.Size([5, 11, 11])\n",
      "tensor([[ 99.2079,  39.4503,  26.0757,  31.3658,  40.7751,  24.9134,  26.9384,\n",
      "          26.9384,  26.9384,  26.9384,  26.9384],\n",
      "        [ 39.4503,  98.0073,  39.9631,  27.6369,  26.0856,  28.7140,  23.2981,\n",
      "          23.2981,  23.2981,  23.2981,  23.2981],\n",
      "        [ 26.0757,  39.9631, 107.9255,  29.6963,  38.6498,  43.1388,  27.2773,\n",
      "          27.2773,  27.2773,  27.2773,  27.2773],\n",
      "        [ 31.3658,  27.6369,  29.6963,  98.9765,  46.3309,  49.9639,  38.6332,\n",
      "          38.6332,  38.6332,  38.6332,  38.6332],\n",
      "        [ 40.7751,  26.0856,  38.6498,  46.3309,  74.0848,  46.5161,  34.2200,\n",
      "          34.2200,  34.2200,  34.2200,  34.2200],\n",
      "        [ 24.9134,  28.7140,  43.1388,  49.9639,  46.5161, 108.3812,  37.9312,\n",
      "          37.9312,  37.9312,  37.9312,  37.9312],\n",
      "        [ 26.9384,  23.2981,  27.2773,  38.6332,  34.2200,  37.9312,  94.3493,\n",
      "          94.3493,  94.3493,  94.3493,  94.3493],\n",
      "        [ 26.9384,  23.2981,  27.2773,  38.6332,  34.2200,  37.9312,  94.3493,\n",
      "          94.3493,  94.3493,  94.3493,  94.3493],\n",
      "        [ 26.9384,  23.2981,  27.2773,  38.6332,  34.2200,  37.9312,  94.3493,\n",
      "          94.3493,  94.3493,  94.3493,  94.3493],\n",
      "        [ 26.9384,  23.2981,  27.2773,  38.6332,  34.2200,  37.9312,  94.3493,\n",
      "          94.3493,  94.3493,  94.3493,  94.3493],\n",
      "        [ 26.9384,  23.2981,  27.2773,  38.6332,  34.2200,  37.9312,  94.3493,\n",
      "          94.3493,  94.3493,  94.3493,  94.3493]], grad_fn=<SelectBackward0>)\n"
     ]
    }
   ]
  },
  {
   "cell_type": "markdown",
   "metadata": {
    "id": "2e7jrCXpBCyS"
   },
   "source": [
    "###### Scale"
   ]
  },
  {
   "cell_type": "code",
   "metadata": {
    "id": "tS_LXRbY5hcK",
    "outputId": "7930a952-7d03-40da-fef7-6f5413189f5a",
    "colab": {
     "base_uri": "https://localhost:8080/"
    }
   },
   "source": [
    "d_head = 64\n",
    "scores = scores.mul_(1/d_head**0.5)\n",
    "print(scores.size())\n",
    "print(scores[0])"
   ],
   "execution_count": null,
   "outputs": [
    {
     "output_type": "stream",
     "name": "stdout",
     "text": [
      "torch.Size([5, 11, 11])\n",
      "tensor([[12.4010,  4.9313,  3.2595,  3.9207,  5.0969,  3.1142,  3.3673,  3.3673,\n",
      "          3.3673,  3.3673,  3.3673],\n",
      "        [ 4.9313, 12.2509,  4.9954,  3.4546,  3.2607,  3.5892,  2.9123,  2.9123,\n",
      "          2.9123,  2.9123,  2.9123],\n",
      "        [ 3.2595,  4.9954, 13.4907,  3.7120,  4.8312,  5.3924,  3.4097,  3.4097,\n",
      "          3.4097,  3.4097,  3.4097],\n",
      "        [ 3.9207,  3.4546,  3.7120, 12.3721,  5.7914,  6.2455,  4.8291,  4.8291,\n",
      "          4.8291,  4.8291,  4.8291],\n",
      "        [ 5.0969,  3.2607,  4.8312,  5.7914,  9.2606,  5.8145,  4.2775,  4.2775,\n",
      "          4.2775,  4.2775,  4.2775],\n",
      "        [ 3.1142,  3.5892,  5.3924,  6.2455,  5.8145, 13.5477,  4.7414,  4.7414,\n",
      "          4.7414,  4.7414,  4.7414],\n",
      "        [ 3.3673,  2.9123,  3.4097,  4.8291,  4.2775,  4.7414, 11.7937, 11.7937,\n",
      "         11.7937, 11.7937, 11.7937],\n",
      "        [ 3.3673,  2.9123,  3.4097,  4.8291,  4.2775,  4.7414, 11.7937, 11.7937,\n",
      "         11.7937, 11.7937, 11.7937],\n",
      "        [ 3.3673,  2.9123,  3.4097,  4.8291,  4.2775,  4.7414, 11.7937, 11.7937,\n",
      "         11.7937, 11.7937, 11.7937],\n",
      "        [ 3.3673,  2.9123,  3.4097,  4.8291,  4.2775,  4.7414, 11.7937, 11.7937,\n",
      "         11.7937, 11.7937, 11.7937],\n",
      "        [ 3.3673,  2.9123,  3.4097,  4.8291,  4.2775,  4.7414, 11.7937, 11.7937,\n",
      "         11.7937, 11.7937, 11.7937]], grad_fn=<SelectBackward0>)\n"
     ]
    }
   ]
  },
  {
   "cell_type": "markdown",
   "metadata": {
    "id": "lnQ7phqTBGJG"
   },
   "source": [
    "###### Mask (Opt.)"
   ]
  },
  {
   "cell_type": "code",
   "metadata": {
    "id": "BENnRJdKxits",
    "outputId": "216790bf-59e3-48f9-9f31-087604cf6e39",
    "colab": {
     "base_uri": "https://localhost:8080/"
    }
   },
   "source": [
    "scores.masked_fill_(attn_mask, -1e9)\n",
    "print(scores.size())\n",
    "print(scores[0])"
   ],
   "execution_count": null,
   "outputs": [
    {
     "output_type": "stream",
     "name": "stdout",
     "text": [
      "torch.Size([5, 11, 11])\n",
      "tensor([[ 1.2401e+01,  4.9313e+00,  3.2595e+00,  3.9207e+00,  5.0969e+00,\n",
      "          3.1142e+00, -1.0000e+09, -1.0000e+09, -1.0000e+09, -1.0000e+09,\n",
      "         -1.0000e+09],\n",
      "        [ 4.9313e+00,  1.2251e+01,  4.9954e+00,  3.4546e+00,  3.2607e+00,\n",
      "          3.5892e+00, -1.0000e+09, -1.0000e+09, -1.0000e+09, -1.0000e+09,\n",
      "         -1.0000e+09],\n",
      "        [ 3.2595e+00,  4.9954e+00,  1.3491e+01,  3.7120e+00,  4.8312e+00,\n",
      "          5.3924e+00, -1.0000e+09, -1.0000e+09, -1.0000e+09, -1.0000e+09,\n",
      "         -1.0000e+09],\n",
      "        [ 3.9207e+00,  3.4546e+00,  3.7120e+00,  1.2372e+01,  5.7914e+00,\n",
      "          6.2455e+00, -1.0000e+09, -1.0000e+09, -1.0000e+09, -1.0000e+09,\n",
      "         -1.0000e+09],\n",
      "        [ 5.0969e+00,  3.2607e+00,  4.8312e+00,  5.7914e+00,  9.2606e+00,\n",
      "          5.8145e+00, -1.0000e+09, -1.0000e+09, -1.0000e+09, -1.0000e+09,\n",
      "         -1.0000e+09],\n",
      "        [ 3.1142e+00,  3.5892e+00,  5.3924e+00,  6.2455e+00,  5.8145e+00,\n",
      "          1.3548e+01, -1.0000e+09, -1.0000e+09, -1.0000e+09, -1.0000e+09,\n",
      "         -1.0000e+09],\n",
      "        [ 3.3673e+00,  2.9123e+00,  3.4097e+00,  4.8291e+00,  4.2775e+00,\n",
      "          4.7414e+00, -1.0000e+09, -1.0000e+09, -1.0000e+09, -1.0000e+09,\n",
      "         -1.0000e+09],\n",
      "        [ 3.3673e+00,  2.9123e+00,  3.4097e+00,  4.8291e+00,  4.2775e+00,\n",
      "          4.7414e+00, -1.0000e+09, -1.0000e+09, -1.0000e+09, -1.0000e+09,\n",
      "         -1.0000e+09],\n",
      "        [ 3.3673e+00,  2.9123e+00,  3.4097e+00,  4.8291e+00,  4.2775e+00,\n",
      "          4.7414e+00, -1.0000e+09, -1.0000e+09, -1.0000e+09, -1.0000e+09,\n",
      "         -1.0000e+09],\n",
      "        [ 3.3673e+00,  2.9123e+00,  3.4097e+00,  4.8291e+00,  4.2775e+00,\n",
      "          4.7414e+00, -1.0000e+09, -1.0000e+09, -1.0000e+09, -1.0000e+09,\n",
      "         -1.0000e+09],\n",
      "        [ 3.3673e+00,  2.9123e+00,  3.4097e+00,  4.8291e+00,  4.2775e+00,\n",
      "          4.7414e+00, -1.0000e+09, -1.0000e+09, -1.0000e+09, -1.0000e+09,\n",
      "         -1.0000e+09]], grad_fn=<SelectBackward0>)\n"
     ]
    }
   ]
  },
  {
   "cell_type": "markdown",
   "metadata": {
    "id": "GaAzVRmhBJ3B"
   },
   "source": [
    "###### Softmax"
   ]
  },
  {
   "cell_type": "code",
   "metadata": {
    "id": "HKl9riPRxqkj",
    "outputId": "bb6968e8-31b5-45ca-b6c5-a5c0fa2e57b6",
    "colab": {
     "base_uri": "https://localhost:8080/"
    }
   },
   "source": [
    "attn_prob = nn.Softmax(dim=-1)(scores)\n",
    "print(attn_prob.size())\n",
    "print(attn_prob[0])"
   ],
   "execution_count": null,
   "outputs": [
    {
     "output_type": "stream",
     "name": "stdout",
     "text": [
      "torch.Size([5, 11, 11])\n",
      "tensor([[9.9835e-01, 5.6916e-04, 1.0695e-04, 2.0718e-04, 6.7167e-04, 9.2485e-05,\n",
      "         0.0000e+00, 0.0000e+00, 0.0000e+00, 0.0000e+00, 0.0000e+00],\n",
      "        [6.6121e-04, 9.9819e-01, 7.0498e-04, 1.5102e-04, 1.2440e-04, 1.7278e-04,\n",
      "         0.0000e+00, 0.0000e+00, 0.0000e+00, 0.0000e+00, 0.0000e+00],\n",
      "        [3.6000e-05, 2.0427e-04, 9.9923e-01, 5.6604e-05, 1.7334e-04, 3.0381e-04,\n",
      "         0.0000e+00, 0.0000e+00, 0.0000e+00, 0.0000e+00, 0.0000e+00],\n",
      "        [2.1274e-04, 1.3348e-04, 1.7267e-04, 9.9592e-01, 1.3812e-03, 2.1751e-03,\n",
      "         0.0000e+00, 0.0000e+00, 0.0000e+00, 0.0000e+00, 0.0000e+00],\n",
      "        [1.4227e-02, 2.2682e-03, 1.0908e-02, 2.8492e-02, 9.1494e-01, 2.9159e-02,\n",
      "         0.0000e+00, 0.0000e+00, 0.0000e+00, 0.0000e+00, 0.0000e+00],\n",
      "        [2.9387e-05, 4.7258e-05, 2.8679e-04, 6.7308e-04, 4.3742e-04, 9.9853e-01,\n",
      "         0.0000e+00, 0.0000e+00, 0.0000e+00, 0.0000e+00, 0.0000e+00],\n",
      "        [7.4471e-02, 4.7246e-02, 7.7694e-02, 3.2126e-01, 1.8505e-01, 2.9428e-01,\n",
      "         0.0000e+00, 0.0000e+00, 0.0000e+00, 0.0000e+00, 0.0000e+00],\n",
      "        [7.4471e-02, 4.7246e-02, 7.7694e-02, 3.2126e-01, 1.8505e-01, 2.9428e-01,\n",
      "         0.0000e+00, 0.0000e+00, 0.0000e+00, 0.0000e+00, 0.0000e+00],\n",
      "        [7.4471e-02, 4.7246e-02, 7.7694e-02, 3.2126e-01, 1.8505e-01, 2.9428e-01,\n",
      "         0.0000e+00, 0.0000e+00, 0.0000e+00, 0.0000e+00, 0.0000e+00],\n",
      "        [7.4471e-02, 4.7246e-02, 7.7694e-02, 3.2126e-01, 1.8505e-01, 2.9428e-01,\n",
      "         0.0000e+00, 0.0000e+00, 0.0000e+00, 0.0000e+00, 0.0000e+00],\n",
      "        [7.4471e-02, 4.7246e-02, 7.7694e-02, 3.2126e-01, 1.8505e-01, 2.9428e-01,\n",
      "         0.0000e+00, 0.0000e+00, 0.0000e+00, 0.0000e+00, 0.0000e+00]],\n",
      "       grad_fn=<SelectBackward0>)\n"
     ]
    }
   ]
  },
  {
   "cell_type": "markdown",
   "metadata": {
    "id": "h-MwaJ1oBNOe"
   },
   "source": [
    "###### atten_prov * V"
   ]
  },
  {
   "cell_type": "code",
   "metadata": {
    "id": "P2aRJH-Rxyq8",
    "outputId": "85f935b4-cc99-4258-dbb2-908c04b92864",
    "colab": {
     "base_uri": "https://localhost:8080/"
    }
   },
   "source": [
    "context = torch.matmul(attn_prob, V)\n",
    "print(context.size())"
   ],
   "execution_count": null,
   "outputs": [
    {
     "output_type": "stream",
     "name": "stdout",
     "text": [
      "torch.Size([5, 11, 64])\n"
     ]
    }
   ]
  },
  {
   "cell_type": "markdown",
   "metadata": {
    "id": "WR0Wh1ORBRJK"
   },
   "source": [
    "###### Implementation Class"
   ]
  },
  {
   "cell_type": "code",
   "metadata": {
    "id": "EkXGHazDt1rb"
   },
   "source": [
    "\"\"\" scale dot product attention \"\"\"\n",
    "class ScaledDotProductAttention(nn.Module):\n",
    "    def __init__(self, d_head):\n",
    "        super().__init__()\n",
    "        self.scale = 1 / (d_head ** 0.5)\n",
    "\n",
    "    def forward(self, Q, K, V, attn_mask):\n",
    "        # (bs, n_head, n_q_seq, n_k_seq)\n",
    "        scores = torch.matmul(Q, K.transpose(-1, -2)).mul_(self.scale)\n",
    "        scores.masked_fill_(attn_mask, -1e9)\n",
    "        # (bs, n_head, n_q_seq, n_k_seq)\n",
    "        attn_prob = nn.Softmax(dim=-1)(scores)\n",
    "        # (bs, n_head, n_q_seq, d_v)\n",
    "        context = torch.matmul(attn_prob, V)\n",
    "        # (bs, n_head, n_q_seq, d_v), (bs, n_head, n_q_seq, n_v_seq)\n",
    "        return context, attn_prob"
   ],
   "execution_count": null,
   "outputs": []
  },
  {
   "cell_type": "markdown",
   "metadata": {
    "id": "yK38SMqGsiXL"
   },
   "source": [
    "#### 7. Multi-Head Attention\n",
    "\n",
    "![](https://raw.githubusercontent.com/paul-hyun/paul-hyun.github.io/master/assets/2019-12-19/multi_head_attention.png)"
   ]
  },
  {
   "cell_type": "markdown",
   "metadata": {
    "id": "i7F4mEgmBjuw"
   },
   "source": [
    "###### Input"
   ]
  },
  {
   "cell_type": "code",
   "metadata": {
    "id": "rZyMvxiathB-"
   },
   "source": [
    "Q = input_sums\n",
    "K = input_sums\n",
    "V = input_sums\n",
    "attn_mask = inputs.eq(0).unsqueeze(1).expand(Q.size(0), Q.size(1), K.size(1))\n",
    "\n",
    "batch_size = Q.size(0)\n",
    "n_head = 4"
   ],
   "execution_count": null,
   "outputs": []
  },
  {
   "cell_type": "code",
   "source": [
    "print(Q.shape, K.shape, V.shape)"
   ],
   "metadata": {
    "colab": {
     "base_uri": "https://localhost:8080/"
    },
    "id": "b48loUsZbqFk",
    "outputId": "2f730a6f-b514-479e-c422-1391cb2ebcb8"
   },
   "execution_count": null,
   "outputs": [
    {
     "output_type": "stream",
     "name": "stdout",
     "text": [
      "torch.Size([5, 11, 64]) torch.Size([5, 11, 64]) torch.Size([5, 11, 64])\n"
     ]
    }
   ]
  },
  {
   "cell_type": "markdown",
   "metadata": {
    "id": "Mly3n1YcBnR7"
   },
   "source": [
    "###### Multi Head Q, K, V"
   ]
  },
  {
   "cell_type": "code",
   "metadata": {
    "id": "Pes5Jait2EXR",
    "outputId": "b7e9730b-3ebe-4f41-e561-96760cdc1373",
    "colab": {
     "base_uri": "https://localhost:8080/"
    }
   },
   "source": [
    "W_Q = nn.Linear(d_hidn, n_head * d_head)\n",
    "W_K = nn.Linear(d_hidn, n_head * d_head)\n",
    "W_V = nn.Linear(d_hidn, n_head * d_head)\n",
    "\n",
    "# (bs, n_seq, n_head * d_head)\n",
    "q_s = W_Q(Q)\n",
    "print(q_s.size())\n",
    "# (bs, n_seq, n_head, d_head)\n",
    "q_s = q_s.view(batch_size, -1, n_head, d_head)\n",
    "print(q_s.size())\n",
    "# (bs, n_head, n_seq, d_head)\n",
    "q_s = q_s.transpose(1,2)\n",
    "print(q_s.size())"
   ],
   "execution_count": null,
   "outputs": [
    {
     "output_type": "stream",
     "name": "stdout",
     "text": [
      "torch.Size([5, 11, 256])\n",
      "torch.Size([5, 11, 4, 64])\n",
      "torch.Size([5, 4, 11, 64])\n"
     ]
    }
   ]
  },
  {
   "cell_type": "code",
   "metadata": {
    "id": "oW9s0Oam3ZeG",
    "outputId": "dae14303-2b02-4848-9fd1-1acda9054eb9",
    "colab": {
     "base_uri": "https://localhost:8080/"
    }
   },
   "source": [
    "# (bs, n_head, n_seq, d_head)\n",
    "q_s = W_Q(Q).view(batch_size, -1, n_head, d_head).transpose(1,2)\n",
    "# (bs, n_head, n_seq, d_head)\n",
    "k_s = W_K(K).view(batch_size, -1, n_head, d_head).transpose(1,2)\n",
    "# (bs, n_head, n_seq, d_head)\n",
    "v_s = W_V(V).view(batch_size, -1, n_head, d_head).transpose(1,2)\n",
    "print(q_s.size(), k_s.size(), v_s.size())"
   ],
   "execution_count": null,
   "outputs": [
    {
     "output_type": "stream",
     "name": "stdout",
     "text": [
      "torch.Size([5, 4, 11, 64]) torch.Size([5, 4, 11, 64]) torch.Size([5, 4, 11, 64])\n"
     ]
    }
   ]
  },
  {
   "cell_type": "markdown",
   "metadata": {
    "id": "u73qrnhfBsYR"
   },
   "source": [
    "###### Multi Head Attention Mask"
   ]
  },
  {
   "cell_type": "code",
   "metadata": {
    "id": "n9ItmgzN32fr",
    "outputId": "789472a0-0425-43d5-b577-7d2bef3e1aa8",
    "colab": {
     "base_uri": "https://localhost:8080/"
    }
   },
   "source": [
    "print(attn_mask.size())\n",
    "attn_mask = attn_mask.unsqueeze(1).repeat(1, n_head, 1, 1)\n",
    "print(attn_mask.size())"
   ],
   "execution_count": null,
   "outputs": [
    {
     "output_type": "stream",
     "name": "stdout",
     "text": [
      "torch.Size([5, 11, 11])\n",
      "torch.Size([5, 4, 11, 11])\n"
     ]
    }
   ]
  },
  {
   "cell_type": "markdown",
   "metadata": {
    "id": "ubh168SyBxnw"
   },
   "source": [
    "###### Attention"
   ]
  },
  {
   "cell_type": "code",
   "metadata": {
    "id": "ufWp4KXo6yyi",
    "outputId": "7a9d7b63-92b6-417f-82df-31f2293b427d",
    "colab": {
     "base_uri": "https://localhost:8080/"
    }
   },
   "source": [
    "scaled_dot_attn = ScaledDotProductAttention(d_head)\n",
    "context, attn_prob = scaled_dot_attn(q_s, k_s, v_s, attn_mask)\n",
    "print(context.size())\n",
    "print(attn_prob.size())"
   ],
   "execution_count": null,
   "outputs": [
    {
     "output_type": "stream",
     "name": "stdout",
     "text": [
      "torch.Size([5, 4, 11, 64])\n",
      "torch.Size([5, 4, 11, 11])\n"
     ]
    }
   ]
  },
  {
   "cell_type": "markdown",
   "metadata": {
    "id": "0zRmgcEfB1lM"
   },
   "source": [
    "###### Concat"
   ]
  },
  {
   "cell_type": "code",
   "metadata": {
    "id": "EjQQPFsn7U8q",
    "outputId": "c774dac1-3c55-443b-d1e4-3460435c86d5",
    "colab": {
     "base_uri": "https://localhost:8080/"
    }
   },
   "source": [
    "# (bs, n_seq, n_head * d_head)\n",
    "context = context.transpose(1, 2).contiguous().view(batch_size, -1, n_head * d_head)\n",
    "print(context.size())"
   ],
   "execution_count": null,
   "outputs": [
    {
     "output_type": "stream",
     "name": "stdout",
     "text": [
      "torch.Size([5, 11, 256])\n"
     ]
    }
   ]
  },
  {
   "cell_type": "markdown",
   "metadata": {
    "id": "6bxvZK6uB4WS"
   },
   "source": [
    "###### Linear"
   ]
  },
  {
   "cell_type": "code",
   "metadata": {
    "id": "kz3C9ABv7st1",
    "outputId": "9092a7ed-a8a3-4ba4-f158-5e724b7396b0",
    "colab": {
     "base_uri": "https://localhost:8080/"
    }
   },
   "source": [
    "linear = nn.Linear(n_head * d_head, d_hidn)\n",
    "# (bs, n_seq, d_hidn)\n",
    "output = linear(context)\n",
    "print(output.size())"
   ],
   "execution_count": null,
   "outputs": [
    {
     "output_type": "stream",
     "name": "stdout",
     "text": [
      "torch.Size([5, 11, 64])\n"
     ]
    }
   ]
  },
  {
   "cell_type": "markdown",
   "metadata": {
    "id": "wwcq-wgvB8Hq"
   },
   "source": [
    "###### Implementation Class"
   ]
  },
  {
   "cell_type": "code",
   "metadata": {
    "id": "pVQZieaCB7xp"
   },
   "source": [
    "\"\"\" multi head attention \"\"\"\n",
    "class MultiHeadAttention(nn.Module):\n",
    "    def __init__(self, d_hidn, n_head, d_head):\n",
    "        super().__init__()\n",
    "        self.d_hidn = d_hidn\n",
    "        self.n_head = n_head\n",
    "        self.d_head = d_head\n",
    "\n",
    "        self.W_Q = nn.Linear(d_hidn, n_head * d_head)\n",
    "        self.W_K = nn.Linear(d_hidn, n_head * d_head)\n",
    "        self.W_V = nn.Linear(d_hidn, n_head * d_head)\n",
    "        self.scaled_dot_attn = ScaledDotProductAttention(d_head)\n",
    "        self.linear = nn.Linear(n_head * d_head, d_hidn)\n",
    "\n",
    "    def forward(self, Q, K, V, attn_mask):\n",
    "        batch_size = Q.size(0)\n",
    "        # (bs, n_head, n_q_seq, d_head)\n",
    "        q_s = self.W_Q(Q).view(batch_size, -1, self.n_head, self.d_head).transpose(1,2)\n",
    "        # (bs, n_head, n_k_seq, d_head)\n",
    "        k_s = self.W_K(K).view(batch_size, -1, self.n_head, self.d_head).transpose(1,2)\n",
    "        # (bs, n_head, n_v_seq, d_head)\n",
    "        v_s = self.W_V(V).view(batch_size, -1, self.n_head, self.d_head).transpose(1,2)\n",
    "\n",
    "        # (bs, n_head, n_q_seq, n_k_seq)\n",
    "        attn_mask = attn_mask.unsqueeze(1).repeat(1, self.n_head, 1, 1)\n",
    "\n",
    "        # (bs, n_head, n_q_seq, d_head), (bs, n_head, n_q_seq, n_k_seq)\n",
    "        context, attn_prob = self.scaled_dot_attn(q_s, k_s, v_s, attn_mask)\n",
    "        # (bs, n_head, n_q_seq, h_head * d_head)\n",
    "        context = context.transpose(1, 2).contiguous().view(batch_size, -1, self.n_head * self.d_head)\n",
    "        # (bs, n_head, n_q_seq, e_embd)\n",
    "        output = self.linear(context)\n",
    "        # (bs, n_q_seq, d_hidn), (bs, n_head, n_q_seq, n_k_seq)\n",
    "        return output, attn_prob"
   ],
   "execution_count": null,
   "outputs": []
  },
  {
   "cell_type": "markdown",
   "metadata": {
    "id": "4O7PH-v-SA9B"
   },
   "source": [
    "#### 8. Masked Multi Head Attention"
   ]
  },
  {
   "cell_type": "code",
   "metadata": {
    "id": "sg1uvsXJSAJE",
    "outputId": "71257827-c8df-4c43-d779-3fd66782a3af",
    "colab": {
     "base_uri": "https://localhost:8080/"
    }
   },
   "source": [
    "\"\"\" attention decoder mask \"\"\"\n",
    "def get_attn_decoder_mask(seq):\n",
    "    subsequent_mask = torch.ones_like(seq).unsqueeze(-1).expand(seq.size(0), seq.size(1), seq.size(1))\n",
    "    subsequent_mask = subsequent_mask.triu(diagonal=1) # upper triangular part of a matrix(2-D)\n",
    "    return subsequent_mask\n",
    "\n",
    "\n",
    "Q = input_sums\n",
    "K = input_sums\n",
    "V = input_sums\n",
    "\n",
    "attn_pad_mask = inputs.eq(0).unsqueeze(1).expand(Q.size(0), Q.size(1), K.size(1))\n",
    "print(attn_pad_mask[0])\n",
    "attn_dec_mask = get_attn_decoder_mask(inputs)\n",
    "print(attn_dec_mask[0])\n",
    "attn_mask = torch.gt((attn_pad_mask + attn_dec_mask), 0)\n",
    "print(attn_mask[0])\n",
    "\n",
    "batch_size = Q.size(0)\n",
    "n_head = 2"
   ],
   "execution_count": null,
   "outputs": [
    {
     "output_type": "stream",
     "name": "stdout",
     "text": [
      "tensor([[False, False, False, False, False, False,  True,  True,  True,  True,\n",
      "          True],\n",
      "        [False, False, False, False, False, False,  True,  True,  True,  True,\n",
      "          True],\n",
      "        [False, False, False, False, False, False,  True,  True,  True,  True,\n",
      "          True],\n",
      "        [False, False, False, False, False, False,  True,  True,  True,  True,\n",
      "          True],\n",
      "        [False, False, False, False, False, False,  True,  True,  True,  True,\n",
      "          True],\n",
      "        [False, False, False, False, False, False,  True,  True,  True,  True,\n",
      "          True],\n",
      "        [False, False, False, False, False, False,  True,  True,  True,  True,\n",
      "          True],\n",
      "        [False, False, False, False, False, False,  True,  True,  True,  True,\n",
      "          True],\n",
      "        [False, False, False, False, False, False,  True,  True,  True,  True,\n",
      "          True],\n",
      "        [False, False, False, False, False, False,  True,  True,  True,  True,\n",
      "          True],\n",
      "        [False, False, False, False, False, False,  True,  True,  True,  True,\n",
      "          True]])\n",
      "tensor([[0, 1, 1, 1, 1, 1, 1, 1, 1, 1, 1],\n",
      "        [0, 0, 1, 1, 1, 1, 1, 1, 1, 1, 1],\n",
      "        [0, 0, 0, 1, 1, 1, 1, 1, 1, 1, 1],\n",
      "        [0, 0, 0, 0, 1, 1, 1, 1, 1, 1, 1],\n",
      "        [0, 0, 0, 0, 0, 1, 1, 1, 1, 1, 1],\n",
      "        [0, 0, 0, 0, 0, 0, 1, 1, 1, 1, 1],\n",
      "        [0, 0, 0, 0, 0, 0, 0, 1, 1, 1, 1],\n",
      "        [0, 0, 0, 0, 0, 0, 0, 0, 1, 1, 1],\n",
      "        [0, 0, 0, 0, 0, 0, 0, 0, 0, 1, 1],\n",
      "        [0, 0, 0, 0, 0, 0, 0, 0, 0, 0, 1],\n",
      "        [0, 0, 0, 0, 0, 0, 0, 0, 0, 0, 0]])\n",
      "tensor([[False,  True,  True,  True,  True,  True,  True,  True,  True,  True,\n",
      "          True],\n",
      "        [False, False,  True,  True,  True,  True,  True,  True,  True,  True,\n",
      "          True],\n",
      "        [False, False, False,  True,  True,  True,  True,  True,  True,  True,\n",
      "          True],\n",
      "        [False, False, False, False,  True,  True,  True,  True,  True,  True,\n",
      "          True],\n",
      "        [False, False, False, False, False,  True,  True,  True,  True,  True,\n",
      "          True],\n",
      "        [False, False, False, False, False, False,  True,  True,  True,  True,\n",
      "          True],\n",
      "        [False, False, False, False, False, False,  True,  True,  True,  True,\n",
      "          True],\n",
      "        [False, False, False, False, False, False,  True,  True,  True,  True,\n",
      "          True],\n",
      "        [False, False, False, False, False, False,  True,  True,  True,  True,\n",
      "          True],\n",
      "        [False, False, False, False, False, False,  True,  True,  True,  True,\n",
      "          True],\n",
      "        [False, False, False, False, False, False,  True,  True,  True,  True,\n",
      "          True]])\n"
     ]
    }
   ]
  },
  {
   "cell_type": "code",
   "metadata": {
    "id": "-YdCqAETUSzv",
    "outputId": "0cddb38e-be6d-46c8-c400-e1ebb69b881b",
    "colab": {
     "base_uri": "https://localhost:8080/"
    }
   },
   "source": [
    "attention = MultiHeadAttention(d_hidn, n_head, d_head)\n",
    "output, attn_prob = attention(Q, K, V, attn_mask)\n",
    "print(output.size(), attn_prob.size())"
   ],
   "execution_count": null,
   "outputs": [
    {
     "output_type": "stream",
     "name": "stdout",
     "text": [
      "torch.Size([5, 11, 64]) torch.Size([5, 2, 11, 11])\n"
     ]
    }
   ]
  },
  {
   "cell_type": "markdown",
   "metadata": {
    "id": "xPiW76dzGy8D"
   },
   "source": [
    "#### 9. Feed Forward\n",
    "\n",
    "![](https://raw.githubusercontent.com/paul-hyun/paul-hyun.github.io/master/assets/2019-12-19/feed-forward.png)"
   ]
  },
  {
   "cell_type": "markdown",
   "metadata": {
    "id": "nLWqtn7UHGz-"
   },
   "source": [
    "###### f1 (Liear)"
   ]
  },
  {
   "cell_type": "code",
   "metadata": {
    "id": "U0iAPIfCHGaa",
    "outputId": "64f0763e-18ca-4879-8e70-baafe21afe7a",
    "colab": {
     "base_uri": "https://localhost:8080/"
    }
   },
   "source": [
    "conv1 = nn.Conv1d(in_channels=d_hidn, out_channels=d_hidn * 4, kernel_size=1)\n",
    "# (bs, d_hidn * 4, n_seq)\n",
    "ff_1 = conv1(output.transpose(1, 2))\n",
    "print(ff_1.size())"
   ],
   "execution_count": null,
   "outputs": [
    {
     "output_type": "stream",
     "name": "stdout",
     "text": [
      "torch.Size([5, 256, 11])\n"
     ]
    }
   ]
  },
  {
   "cell_type": "markdown",
   "metadata": {
    "id": "ezEDjlVtIqf0"
   },
   "source": [
    "###### Activation (relu or gelu)\n",
    "\n",
    "![](https://raw.githubusercontent.com/paul-hyun/paul-hyun.github.io/master/assets/2019-12-19/activation.png)"
   ]
  },
  {
   "cell_type": "code",
   "metadata": {
    "id": "x7mTDJZiIOrL"
   },
   "source": [
    "# active = F.relu\n",
    "active = F.gelu\n",
    "ff_2 = active(ff_1)"
   ],
   "execution_count": null,
   "outputs": []
  },
  {
   "cell_type": "markdown",
   "metadata": {
    "id": "fAcrKhAtIvn5"
   },
   "source": [
    "###### f3 (Liear)"
   ]
  },
  {
   "cell_type": "code",
   "metadata": {
    "id": "xGRsfIOcOgLR",
    "outputId": "217cd555-2b4a-4269-bff1-f95b88121534",
    "colab": {
     "base_uri": "https://localhost:8080/"
    }
   },
   "source": [
    "conv2 = nn.Conv1d(in_channels=d_hidn * 4, out_channels=d_hidn, kernel_size=1)\n",
    "ff_3 = conv2(ff_2).transpose(1, 2)\n",
    "print(ff_3.size())"
   ],
   "execution_count": null,
   "outputs": [
    {
     "output_type": "stream",
     "name": "stdout",
     "text": [
      "torch.Size([2, 8, 128])\n"
     ]
    }
   ]
  },
  {
   "cell_type": "markdown",
   "metadata": {
    "id": "sE6-A3OhIzLo"
   },
   "source": [
    "###### Implementation Class"
   ]
  },
  {
   "cell_type": "code",
   "metadata": {
    "id": "TaRkgC4CRs60"
   },
   "source": [
    "\"\"\" feed forward \"\"\"\n",
    "class PoswiseFeedForwardNet(nn.Module):\n",
    "    def __init__(self, d_hidn):\n",
    "        super().__init__()\n",
    "\n",
    "        self.conv1 = nn.Conv1d(in_channels=self.config.d_hidn, out_channels=self.config.d_hidn * 4, kernel_size=1)\n",
    "        self.conv2 = nn.Conv1d(in_channels=self.config.d_hidn * 4, out_channels=self.config.d_hidn, kernel_size=1)\n",
    "        self.active = F.gelu\n",
    "\n",
    "    def forward(self, inputs):\n",
    "        # (bs, d_ff, n_seq)\n",
    "        output = self.active(self.conv1(inputs.transpose(1, 2)))\n",
    "        # (bs, n_seq, d_hidn)\n",
    "        output = self.conv2(output).transpose(1, 2)\n",
    "        # (bs, n_seq, d_hidn)\n",
    "        return output"
   ],
   "execution_count": null,
   "outputs": []
  }
 ]
}
