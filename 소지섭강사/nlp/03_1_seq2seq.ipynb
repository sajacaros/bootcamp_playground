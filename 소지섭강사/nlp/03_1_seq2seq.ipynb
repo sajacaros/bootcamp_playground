{
 "cells": [
  {
   "cell_type": "markdown",
   "source": [
    "## Simple Seq2Seq"
   ],
   "metadata": {
    "id": "GNaQxdwSTMw6"
   }
  },
  {
   "cell_type": "code",
   "execution_count": 3,
   "metadata": {
    "id": "h2QCLAP9S9nQ",
    "ExecuteTime": {
     "end_time": "2023-11-29T07:27:53.794808300Z",
     "start_time": "2023-11-29T07:27:51.573430700Z"
    }
   },
   "outputs": [],
   "source": [
    "import random\n",
    "import torch\n",
    "import torch.nn as nn\n",
    "import torch.optim as optim"
   ]
  },
  {
   "cell_type": "markdown",
   "source": [
    "* 이제부터는 CUDA가 필요합니다."
   ],
   "metadata": {
    "id": "eSGfdow6Umya"
   }
  },
  {
   "cell_type": "code",
   "execution_count": 4,
   "metadata": {
    "colab": {
     "base_uri": "https://localhost:8080/"
    },
    "id": "5Tm9IGIsS9nQ",
    "outputId": "70e8ddf0-8e2b-468c-e7fc-8ebc261a7b7d",
    "ExecuteTime": {
     "end_time": "2023-11-29T07:27:53.823241700Z",
     "start_time": "2023-11-29T07:27:53.792827Z"
    }
   },
   "outputs": [
    {
     "name": "stdout",
     "output_type": "stream",
     "text": [
      "cuda\n"
     ]
    }
   ],
   "source": [
    "torch.manual_seed(0)\n",
    "device = torch.device(\"cuda\" if torch.cuda.is_available() else \"cpu\")\n",
    "print(device)"
   ]
  },
  {
   "cell_type": "markdown",
   "source": [
    "* 번역을 위한 데이터를 구성합니다."
   ],
   "metadata": {
    "id": "tl5ZJtGeVER6"
   }
  },
  {
   "cell_type": "code",
   "execution_count": 5,
   "metadata": {
    "id": "wPXICVC1S9nR",
    "ExecuteTime": {
     "end_time": "2023-11-29T07:27:53.836639500Z",
     "start_time": "2023-11-29T07:27:53.821946100Z"
    }
   },
   "outputs": [],
   "source": [
    "raw = [\"I feel hungry.\t나는 배가 고프다.\",\n",
    "       \"Pytorch is very easy.\t파이토치는 매우 쉽다.\",\n",
    "       \"Pytorch is a framework for deep learning.\t파이토치는 딥러닝을 위한 프레임워크이다.\",\n",
    "       \"Pytorch is very clear to use.\t파이토치는 사용하기 매우 직관적이다.\"]"
   ]
  },
  {
   "cell_type": "markdown",
   "source": [
    "### 미리 토큰을 정해 놓습니다.\n",
    "* 토큰은 개발자가 미리 정할 수 있습니다.\n",
    "* 주로 pad, unk, sos, eos 등 이름들이 약자로 정해져있는 편입니다.\n",
    "* 마치 포트(port)처럼 0:pad, 1:unk, 2:sos, 3:eos 등 자주 쓰는 번호들이 있긴합니다만, 바꾸셔도 됩니다.\n",
    "* 대신 바꾼다면 토큰의 위치를 정확히 맞춰주셔야합니다."
   ],
   "metadata": {
    "id": "4ROjckvxTR4J"
   }
  },
  {
   "cell_type": "code",
   "execution_count": 6,
   "metadata": {
    "id": "nhxMZslBS9nR",
    "ExecuteTime": {
     "end_time": "2023-11-29T07:27:53.881406200Z",
     "start_time": "2023-11-29T07:27:53.838635500Z"
    }
   },
   "outputs": [],
   "source": [
    "# fix token for \"start of sentence\" and \"end of sentence\"\n",
    "SOS_token = 0\n",
    "EOS_token = 1"
   ]
  },
  {
   "cell_type": "markdown",
   "source": [
    "* 똑같이 vocab을 만들어 줍니다. 대신 토큰이 추가 됩니다.\n",
    "* <SOS> 토큰 (Start Of Sentence): 문장의 시작을 나타냅니다. 자연어 처리에서, 특히 기계 번역이나 텍스트 생성과 같은 시퀀스 생성 작업에서, 모델이 문장의 시작을 인식할 수 있도록 하는 신호\n",
    "\n",
    "* <EOS> 토큰 (End Of Sentence): 문장의 끝을 나타냅니다. 모델이 문장 생성을 멈추어야 할 시점을 알 수 있도록 하는 중요한 신호"
   ],
   "metadata": {
    "id": "E5yxFlA6VIY7"
   }
  },
  {
   "cell_type": "code",
   "execution_count": 7,
   "metadata": {
    "id": "HQSUfJfuS9nS",
    "ExecuteTime": {
     "end_time": "2023-11-29T07:27:53.890135100Z",
     "start_time": "2023-11-29T07:27:53.856347300Z"
    }
   },
   "outputs": [],
   "source": [
    "# class for vocabulary related information of data\n",
    "class Vocab:\n",
    "    def __init__(self):\n",
    "        self.vocab2index = {\"<SOS>\": SOS_token, \"<EOS>\": EOS_token}\n",
    "        self.index2vocab = {SOS_token: \"<SOS>\", EOS_token: \"<EOS>\"}\n",
    "        self.vocab_count = {}\n",
    "        self.n_vocab = len(self.vocab2index)\n",
    "\n",
    "    def add_vocab(self, sentence):\n",
    "        for word in sentence.split(\" \"):\n",
    "            if word not in self.vocab2index:\n",
    "                self.vocab2index[word] = self.n_vocab\n",
    "                self.vocab_count[word] = 1\n",
    "                self.index2vocab[self.n_vocab] = word\n",
    "                self.n_vocab += 1\n",
    "            else:\n",
    "                self.vocab_count[word] += 1"
   ]
  },
  {
   "cell_type": "markdown",
   "source": [
    "* 데이터의 길이를 정리해줘야합니다."
   ],
   "metadata": {
    "id": "-A-3MUp_WJKx"
   }
  },
  {
   "cell_type": "code",
   "execution_count": 8,
   "metadata": {
    "id": "j14s6rHXS9nS",
    "ExecuteTime": {
     "end_time": "2023-11-29T07:27:53.890135100Z",
     "start_time": "2023-11-29T07:27:53.871567600Z"
    }
   },
   "outputs": [],
   "source": [
    "# 현재 코드가 공백으로 구현되어 있어서 해당 코드를 자르는 코드입니다. \n",
    "def filter_pair(pair, source_max_length, target_max_length):\n",
    "    return len(pair[0].split(\" \")) < source_max_length and len(pair[1].split(\" \")) < target_max_length"
   ]
  },
  {
   "cell_type": "code",
   "execution_count": 9,
   "metadata": {
    "id": "GVm1DXuCS9nT",
    "ExecuteTime": {
     "end_time": "2023-11-29T07:27:53.900489100Z",
     "start_time": "2023-11-29T07:27:53.890135100Z"
    }
   },
   "outputs": [],
   "source": [
    "# read and preprocess the corpus data\n",
    "def preprocess(corpus, source_max_length, target_max_length):\n",
    "    print(\"reading corpus...\")\n",
    "    pairs = []\n",
    "    for line in corpus:\n",
    "        pairs.append([s for s in line.strip().lower().split(\"\\t\")])\n",
    "    print(\"Read {} sentence pairs\".format(len(pairs)))\n",
    "\n",
    "    pairs = [pair for pair in pairs if filter_pair(pair, source_max_length, target_max_length)]\n",
    "    print(\"Trimmed to {} sentence pairs\".format(len(pairs)))\n",
    "\n",
    "    source_vocab = Vocab()\n",
    "    target_vocab = Vocab()\n",
    "\n",
    "    print(\"Counting words...\")\n",
    "    for pair in pairs:\n",
    "        source_vocab.add_vocab(pair[0])\n",
    "        target_vocab.add_vocab(pair[1])\n",
    "    print(\"source vocab size =\", source_vocab.n_vocab)\n",
    "    print(\"target vocab size =\", target_vocab.n_vocab)\n",
    "\n",
    "    return pairs, source_vocab, target_vocab"
   ]
  },
  {
   "cell_type": "markdown",
   "source": [
    "### 모델 제작"
   ],
   "metadata": {
    "id": "IGJP15YhWM51"
   }
  },
  {
   "cell_type": "code",
   "execution_count": 28,
   "metadata": {
    "id": "j9fmBiOvS9nT",
    "ExecuteTime": {
     "end_time": "2023-11-29T07:55:39.893400600Z",
     "start_time": "2023-11-29T07:55:39.875950400Z"
    }
   },
   "outputs": [],
   "source": [
    "# declare simple encoder\n",
    "class Encoder(nn.Module):\n",
    "    def __init__(self, input_size, hidden_size):\n",
    "        super(Encoder, self).__init__()\n",
    "        self.hidden_size = hidden_size\n",
    "        self.embedding = nn.Embedding(input_size, 16) # train vocab size(17) => 16\n",
    "        self.gru = nn.GRU(16, hidden_size)\n",
    "\n",
    "    def forward(self, x, hidden):\n",
    "        x = self.embedding(x).view(1, 1, -1)\n",
    "        x, hidden = self.gru(x, hidden)\n",
    "        return x, hidden"
   ]
  },
  {
   "cell_type": "code",
   "execution_count": 29,
   "metadata": {
    "id": "91mN0lMCS9nU",
    "ExecuteTime": {
     "end_time": "2023-11-29T07:55:40.907806500Z",
     "start_time": "2023-11-29T07:55:40.871690500Z"
    }
   },
   "outputs": [],
   "source": [
    "# declare simple decoder\n",
    "class Decoder(nn.Module):\n",
    "    def __init__(self, hidden_size, output_size):\n",
    "        super(Decoder, self).__init__()\n",
    "        self.hidden_size = hidden_size\n",
    "        self.embedding = nn.Embedding(output_size, 8) # target vocab size(13) => 8\n",
    "        self.gru = nn.GRU(8, hidden_size)\n",
    "        self.out = nn.Linear(hidden_size, output_size)\n",
    "        self.softmax = nn.LogSoftmax(dim=1)\n",
    "\n",
    "    def forward(self, x, hidden):\n",
    "        # 현재 embedding layer는 batch가 1인 상황이기 때문에 따로 view를 이용해 모양을 바꿔줍니다.\n",
    "        x = self.embedding(x).view(1, 1, -1)\n",
    "        x, hidden = self.gru(x, hidden)\n",
    "        x = self.softmax(self.out(x[0]))\n",
    "        return x, hidden"
   ]
  },
  {
   "cell_type": "markdown",
   "source": [
    "* 결국 전처리한 데이터들은 텐서로 제작해야합니다.\n",
    "* index가 된 토큰들을 다시 텐서로 정리해주면서 shape을 잡아줍니다."
   ],
   "metadata": {
    "id": "xU79tVdWYk7-"
   }
  },
  {
   "cell_type": "code",
   "execution_count": 30,
   "metadata": {
    "id": "5e_2TpT1S9nU",
    "ExecuteTime": {
     "end_time": "2023-11-29T07:55:41.731236800Z",
     "start_time": "2023-11-29T07:55:41.718238800Z"
    }
   },
   "outputs": [],
   "source": [
    "# convert sentence to the index tensor\n",
    "def tensorize(vocab, sentence):\n",
    "    indexes = [vocab.vocab2index[word] for word in sentence.split(\" \")]\n",
    "    indexes.append(vocab.vocab2index[\"<EOS>\"])\n",
    "    return torch.Tensor(indexes).long().to(device).view(-1, 1)"
   ]
  },
  {
   "cell_type": "markdown",
   "source": [
    "### 모델 학습 준비\n",
    "* 데이터가 간단해서 따로 데이터로더 없이 바로 입력합니다."
   ],
   "metadata": {
    "id": "hCqbpT6qljJe"
   }
  },
  {
   "cell_type": "code",
   "execution_count": 31,
   "metadata": {
    "id": "PcuGsArDS9nU",
    "ExecuteTime": {
     "end_time": "2023-11-29T07:55:43.096627800Z",
     "start_time": "2023-11-29T07:55:43.083639600Z"
    }
   },
   "outputs": [],
   "source": [
    "# training seq2seq\n",
    "def train(pairs, source_vocab, target_vocab, encoder, decoder, n_iter, print_every=1000, learning_rate=0.01):\n",
    "    loss_total = 0\n",
    "\n",
    "    encoder_optimizer = optim.Adam(encoder.parameters(), lr=learning_rate)\n",
    "    decoder_optimizer = optim.Adam(decoder.parameters(), lr=learning_rate)\n",
    "\n",
    "    training_batch = [random.choice(pairs) for _ in range(n_iter)]\n",
    "    training_source = [tensorize(source_vocab, pair[0]) for pair in training_batch]\n",
    "    training_target = [tensorize(target_vocab, pair[1]) for pair in training_batch]\n",
    "\n",
    "    criterion = nn.NLLLoss()\n",
    "\n",
    "    for i in range(1, n_iter + 1):\n",
    "        source_tensor = training_source[i - 1]\n",
    "        target_tensor = training_target[i - 1]\n",
    "\n",
    "        encoder_hidden = torch.zeros([1, 1, encoder.hidden_size]).to(device)\n",
    "\n",
    "        encoder_optimizer.zero_grad()\n",
    "        decoder_optimizer.zero_grad()\n",
    "\n",
    "        source_length = source_tensor.size(0)\n",
    "        target_length = target_tensor.size(0)\n",
    "\n",
    "        loss = 0\n",
    "        \n",
    "        for enc_input in range(source_length):\n",
    "            \n",
    "            encoder_output, encoder_hidden = encoder(source_tensor[enc_input], encoder_hidden)\n",
    "\n",
    "        decoder_input = torch.Tensor([[SOS_token]]).long().to(device)\n",
    "        decoder_hidden = encoder_hidden # connect encoder output to decoder input\n",
    "\n",
    "        for di in range(target_length):\n",
    "            decoder_output, decoder_hidden = decoder(decoder_input, decoder_hidden)\n",
    "            loss += criterion(decoder_output, target_tensor[di])\n",
    "            decoder_input = target_tensor[di]  # teacher forcing\n",
    "\n",
    "        loss.backward()\n",
    "\n",
    "        encoder_optimizer.step()\n",
    "        decoder_optimizer.step()\n",
    "\n",
    "        loss_iter = loss.item() / target_length\n",
    "        loss_total += loss_iter\n",
    "\n",
    "        if i % print_every == 0:\n",
    "            loss_avg = loss_total / print_every\n",
    "            loss_total = 0\n",
    "            print(\"[{} - {}%] loss = {:05.4f}\".format(i, i / n_iter * 100, loss_avg))"
   ]
  },
  {
   "cell_type": "markdown",
   "source": [
    "### 모델 평가 진행"
   ],
   "metadata": {
    "id": "uFtuPibrlrXO"
   }
  },
  {
   "cell_type": "code",
   "execution_count": 32,
   "metadata": {
    "id": "nt4zZegtS9nU",
    "ExecuteTime": {
     "end_time": "2023-11-29T07:55:44.410511100Z",
     "start_time": "2023-11-29T07:55:44.398358900Z"
    }
   },
   "outputs": [],
   "source": [
    "# insert given sentence to check the training\n",
    "def evaluate(pairs, source_vocab, target_vocab, encoder, decoder, target_max_length):\n",
    "    for pair in pairs:\n",
    "        print(\">\", pair[0])\n",
    "        print(\"=\", pair[1])\n",
    "        source_tensor = tensorize(source_vocab, pair[0])\n",
    "        source_length = source_tensor.size()[0]\n",
    "        encoder_hidden = torch.zeros([1, 1, encoder.hidden_size]).to(device)\n",
    "\n",
    "        for ei in range(source_length):\n",
    "            _, encoder_hidden = encoder(source_tensor[ei], encoder_hidden)\n",
    "\n",
    "        decoder_input = torch.tensor([[SOS_token]], device=encoder_hidden.device).long()\n",
    "        decoder_hidden = encoder_hidden\n",
    "        decoded_words = []\n",
    "\n",
    "        for di in range(target_max_length):\n",
    "            decoder_output, decoder_hidden = decoder(decoder_input, decoder_hidden)\n",
    "            _, top_index = decoder_output.data.topk(1)\n",
    "            if top_index.item() == EOS_token:\n",
    "                decoded_words.append(\"<EOS>\")\n",
    "                break\n",
    "            else:\n",
    "                decoded_words.append(target_vocab.index2vocab[top_index.item()])\n",
    "\n",
    "            decoder_input = top_index.squeeze().detach()\n",
    "\n",
    "        predict_words = decoded_words\n",
    "        predict_sentence = \" \".join(predict_words)\n",
    "        print(\"<\", predict_sentence)\n",
    "        print(\"\")"
   ]
  },
  {
   "cell_type": "code",
   "execution_count": 33,
   "metadata": {
    "id": "DLF9h93US9nU",
    "ExecuteTime": {
     "end_time": "2023-11-29T07:55:45.097905100Z",
     "start_time": "2023-11-29T07:55:45.089275100Z"
    }
   },
   "outputs": [],
   "source": [
    "# declare max length for sentence\n",
    "SOURCE_MAX_LENGTH = 10\n",
    "TARGET_MAX_LENGTH = 12"
   ]
  },
  {
   "cell_type": "code",
   "execution_count": 34,
   "metadata": {
    "colab": {
     "base_uri": "https://localhost:8080/"
    },
    "id": "L0_aqxCHS9nU",
    "outputId": "0f089e39-b7d6-4d33-b27c-e8309baffd85",
    "ExecuteTime": {
     "end_time": "2023-11-29T07:55:45.555532500Z",
     "start_time": "2023-11-29T07:55:45.543988200Z"
    }
   },
   "outputs": [
    {
     "name": "stdout",
     "output_type": "stream",
     "text": [
      "reading corpus...\n",
      "Read 4 sentence pairs\n",
      "Trimmed to 4 sentence pairs\n",
      "Counting words...\n",
      "source vocab size = 17\n",
      "target vocab size = 13\n",
      "['pytorch is a framework for deep learning.', '파이토치는 딥러닝을 위한 프레임워크이다.']\n"
     ]
    }
   ],
   "source": [
    "# preprocess the corpus\n",
    "load_pairs, load_source_vocab, load_target_vocab = preprocess(raw, SOURCE_MAX_LENGTH, TARGET_MAX_LENGTH)\n",
    "print(random.choice(load_pairs))"
   ]
  },
  {
   "cell_type": "code",
   "execution_count": 35,
   "metadata": {
    "id": "z6bjDx8LS9nV",
    "ExecuteTime": {
     "end_time": "2023-11-29T07:55:46.571506300Z",
     "start_time": "2023-11-29T07:55:46.551203Z"
    }
   },
   "outputs": [],
   "source": [
    "# declare the encoder and the decoder\n",
    "enc_hidden_size = 16\n",
    "dec_hidden_size = enc_hidden_size\n",
    "enc = Encoder(load_source_vocab.n_vocab, enc_hidden_size).to(device)\n",
    "dec = Decoder(dec_hidden_size, load_target_vocab.n_vocab).to(device)"
   ]
  },
  {
   "cell_type": "code",
   "execution_count": 36,
   "metadata": {
    "colab": {
     "base_uri": "https://localhost:8080/"
    },
    "id": "D4LmrEKWS9nV",
    "outputId": "ab140467-268a-485a-fa71-bc948a89f8e4",
    "ExecuteTime": {
     "end_time": "2023-11-29T07:56:14.698868600Z",
     "start_time": "2023-11-29T07:55:47.881086100Z"
    }
   },
   "outputs": [
    {
     "name": "stdout",
     "output_type": "stream",
     "text": [
      "[1000 - 20.0%] loss = 0.1099\n",
      "[2000 - 40.0%] loss = 0.0008\n",
      "[3000 - 60.0%] loss = 0.0003\n",
      "[4000 - 80.0%] loss = 0.0001\n",
      "[5000 - 100.0%] loss = 0.0001\n"
     ]
    }
   ],
   "source": [
    "# train seq2seq model\n",
    "train(load_pairs, load_source_vocab, load_target_vocab, enc, dec, 5000, print_every=1000)"
   ]
  },
  {
   "cell_type": "code",
   "execution_count": 37,
   "metadata": {
    "colab": {
     "base_uri": "https://localhost:8080/"
    },
    "id": "V624HoKcS9nV",
    "outputId": "ffd2282d-73f9-46af-ec79-143147ad6dce",
    "ExecuteTime": {
     "end_time": "2023-11-29T07:56:21.110802900Z",
     "start_time": "2023-11-29T07:56:21.079219500Z"
    }
   },
   "outputs": [
    {
     "name": "stdout",
     "output_type": "stream",
     "text": [
      "> i feel hungry.\n",
      "= 나는 배가 고프다.\n",
      "< 나는 배가 고프다. <EOS>\n",
      "\n",
      "> pytorch is very easy.\n",
      "= 파이토치는 매우 쉽다.\n",
      "< 파이토치는 매우 쉽다. <EOS>\n",
      "\n",
      "> pytorch is a framework for deep learning.\n",
      "= 파이토치는 딥러닝을 위한 프레임워크이다.\n",
      "< 파이토치는 딥러닝을 위한 프레임워크이다. <EOS>\n",
      "\n",
      "> pytorch is very clear to use.\n",
      "= 파이토치는 사용하기 매우 직관적이다.\n",
      "< 파이토치는 사용하기 매우 직관적이다. <EOS>\n"
     ]
    }
   ],
   "source": [
    "# check the model with given data\n",
    "evaluate(load_pairs, load_source_vocab, load_target_vocab, enc, dec, TARGET_MAX_LENGTH)"
   ]
  },
  {
   "cell_type": "code",
   "execution_count": 19,
   "metadata": {
    "id": "qHz3EWT5S9nV",
    "ExecuteTime": {
     "end_time": "2023-11-29T07:28:31.581903500Z",
     "start_time": "2023-11-29T07:28:31.513637300Z"
    }
   },
   "outputs": [],
   "source": []
  }
 ],
 "metadata": {
  "kernelspec": {
   "name": "python3",
   "language": "python",
   "display_name": "Python 3 (ipykernel)"
  },
  "language_info": {
   "codemirror_mode": {
    "name": "ipython",
    "version": 3
   },
   "file_extension": ".py",
   "mimetype": "text/x-python",
   "name": "python",
   "nbconvert_exporter": "python",
   "pygments_lexer": "ipython3",
   "version": "3.7.0"
  },
  "colab": {
   "provenance": [],
   "gpuType": "T4"
  },
  "accelerator": "GPU"
 },
 "nbformat": 4,
 "nbformat_minor": 0
}
